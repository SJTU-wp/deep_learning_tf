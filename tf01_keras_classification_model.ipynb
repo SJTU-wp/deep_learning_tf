{
 "cells": [
  {
   "cell_type": "code",
   "execution_count": 3,
   "id": "4050b888",
   "metadata": {},
   "outputs": [
    {
     "name": "stdout",
     "output_type": "stream",
     "text": [
      "2.6.2\n",
      "sys.version_info(major=3, minor=6, micro=9, releaselevel='final', serial=0)\n",
      "matplotlib 3.3.4\n",
      "numpy 1.19.5\n",
      "pandas 1.1.5\n",
      "sklearn 0.24.2\n",
      "tensorflow 2.6.2\n",
      "keras.api._v2.keras 2.6.0\n"
     ]
    }
   ],
   "source": [
    "import matplotlib as mpl\n",
    "import matplotlib.pyplot as plt\n",
    "%matplotlib inline\n",
    "import numpy as np\n",
    "import sklearn\n",
    "import pandas as pd\n",
    "import os\n",
    "import sys\n",
    "import time\n",
    "import tensorflow as tf\n",
    "\n",
    "from tensorflow import keras\n",
    "\n",
    "print(tf.__version__)\n",
    "print(sys.version_info)\n",
    "for module in mpl, np, pd, sklearn, tf, keras:\n",
    "    print(module.__name__, module.__version__)"
   ]
  },
  {
   "cell_type": "code",
   "execution_count": 4,
   "id": "508bc831",
   "metadata": {},
   "outputs": [
    {
     "name": "stdout",
     "output_type": "stream",
     "text": [
      "(55000, 28, 28) (55000,)\n",
      "(5000, 28, 28) (5000,)\n",
      "(10000, 28, 28) (10000,)\n"
     ]
    }
   ],
   "source": [
    "# fashion_mnist图像分类数据集\n",
    "fashion_mnist = keras.datasets.fashion_mnist\n",
    "\n",
    "(x_train_all, y_train_all), (x_test, y_test) = fashion_mnist.load_data()\n",
    "\n",
    "x_valid, x_train = x_train_all[:5000], x_train_all[5000:]  # 自定义验证集样本数量5000\n",
    "y_valid, y_train = y_train_all[:5000], y_train_all[5000:]\n",
    "\n",
    "# 得到的是np，训练集，验证集，测试集\n",
    "print(x_train.shape, y_train.shape)\n",
    "print(x_valid.shape, y_valid.shape)\n",
    "print(x_test.shape, y_test.shape)"
   ]
  },
  {
   "cell_type": "code",
   "execution_count": 5,
   "id": "e5c71466",
   "metadata": {},
   "outputs": [
    {
     "data": {
      "text/plain": [
       "784"
      ]
     },
     "execution_count": 5,
     "metadata": {},
     "output_type": "execute_result"
    }
   ],
   "source": [
    "28*28  # 如果非要对应多少特征，就是784个特征"
   ]
  },
  {
   "cell_type": "code",
   "execution_count": 6,
   "id": "0e570ac6",
   "metadata": {},
   "outputs": [
    {
     "data": {
      "text/plain": [
       "numpy.ndarray"
      ]
     },
     "execution_count": 6,
     "metadata": {},
     "output_type": "execute_result"
    }
   ],
   "source": [
    "type(x_train)"
   ]
  },
  {
   "cell_type": "code",
   "execution_count": 7,
   "id": "4801c487",
   "metadata": {},
   "outputs": [
    {
     "data": {
      "text/plain": [
       "4"
      ]
     },
     "execution_count": 7,
     "metadata": {},
     "output_type": "execute_result"
    }
   ],
   "source": [
    "y_train[0]"
   ]
  },
  {
   "cell_type": "code",
   "execution_count": 9,
   "id": "68f009d9",
   "metadata": {},
   "outputs": [
    {
     "name": "stdout",
     "output_type": "stream",
     "text": [
      "[[  0   0   0   0   0   0   0   0   0   0   0   0   0   0   0   0   0   0\n",
      "    0   1   0   0   0   0   0   0   0   0]\n",
      " [  0   0   0   0   0   0   0   0   0   0   0  44 127 182 185 161 120  55\n",
      "    0   0   0   0   0   0   0   0   0   0]\n",
      " [  0   0   0   0   0   0   0   0   0  42 198 251 255 251 249 247 255 252\n",
      "  214 100   0   0   0   0   0   0   0   0]\n",
      " [  0   0   0   0   0   0   2   0   0 233 252 237 239 234 237 235 237 237\n",
      "  254 227   0   0   0   0   1   0   0   0]\n",
      " [  0   0   0   0   0   2   0   0  16 210 225 215 175 217 216 193 196 226\n",
      "  221 209  50   0   0   2   0   0   0   0]\n",
      " [  0   0   0   0   2   0   0 199 229 232 230 245 204 219 253 245 207 194\n",
      "  223 231 236 235   0   0   3   0   0   0]\n",
      " [  0   0   0   0   1   0 137 235 204 209 201 209 234 190 234 218 215 238\n",
      "  239 204 189 224 154   0   0   0   0   0]\n",
      " [  0   0   0   0   0   0 194 201 200 209 202 193 205 194 183 218 231 197\n",
      "  172 181 193 205 199   0   0   0   0   0]\n",
      " [  0   0   0   0   0   3 212 203 188 189 196 198 198 201 196 217 179 167\n",
      "  183 217 197 202 219  30   0   0   0   0]\n",
      " [  0   0   0   0   0  34 225 200 194 190 188 192 196 192 170 202 190 201\n",
      "  195 200 201 209 227  50   0   0   0   0]\n",
      " [  0   0   0   0   0  68 225 210 211 198 192 196 204 196 181 212 197 195\n",
      "  192 206 220 210 229  93   0   0   0   0]\n",
      " [  0   0   0   0   0 111 223 227 253 209 196 204 211 206 183 216 206 210\n",
      "  203 215 244 224 227 150   0   0   0   0]\n",
      " [  0   0   0   0   0 139 225 224 255 202 206 212 209 211 190 213 202 207\n",
      "  206 222 255 230 220 190   0   0   0   0]\n",
      " [  0   0   0   0   0 180 226 224 255 199 204 207 214 214 190 216 206 203\n",
      "  205 219 243 224 214 234   0   0   0   0]\n",
      " [  0   0   0   0   0 225 223 228 254 209 206 208 213 210 191 215 207 204\n",
      "  208 211 249 226 214 255  38   0   0   0]\n",
      " [  0   0   0   0   0 250 232 240 239 211 203 209 205 211 197 215 208 208\n",
      "  214 213 239 231 219 255  81   0   0   0]\n",
      " [  0   0   0   0   0 248 236 247 240 203 200 208 206 214 193 213 212 208\n",
      "  212 211 243 242 225 254  66   0   0   0]\n",
      " [  0   0   0   0   0 247 230 252 226 199 211 202 211 213 182 213 212 206\n",
      "  202 219 207 247 222 237 104   0   0   0]\n",
      " [  0   0   0   0  10 244 219 250 205 199 209 202 209 211 189 214 206 210\n",
      "  200 212 154 240 208 219 140   0   0   0]\n",
      " [  0   0   0   0  21 255 222 238 184 210 192 206 209 210 189 213 211 209\n",
      "  192 228 155 226 238 241 166   0   0   0]\n",
      " [  0   0   0   0  37 245 226 241 150 197 189 204 209 210 183 213 213 201\n",
      "  184 215 146 216 236 225 154   0   0   0]\n",
      " [  0   0   0   0  58 239 227 255 158 193 195 204 209 213 180 207 217 199\n",
      "  194 211 158 219 236 216 151   0   0   0]\n",
      " [  0   0   0   0  68 233 226 243 139 200 193 205 210 208 180 205 212 203\n",
      "  196 216 157 179 255 216 155   0   0   0]\n",
      " [  0   0   0   0  81 225 224 211 138 219 185 201 213 207 197 226 212 200\n",
      "  190 215 183  90 255 211 147   0   0   0]\n",
      " [  0   0   0   0  91 210 230 158 114 205 187 208 209 206 193 210 211 204\n",
      "  195 204 181  23 255 213 158   0   0   0]\n",
      " [  0   0   0   0  87 205 232 109 164 255 214 224 222 210 197 214 225 222\n",
      "  211 220 217   0 234 216 169   0   0   0]\n",
      " [  0   0   0   0  92 213 232 146   5 134 151 162 170 183 182 164 166 178\n",
      "  162 156  98   0 240 225 210   0   0   0]\n",
      " [  0   0   0   0  43 164 206 141   0   0   0   0   0   0   0   0   0   0\n",
      "    0   0   0   0 127 125  76   0   0   0]]\n"
     ]
    },
    {
     "data": {
      "image/png": "[encoded data removed]",
      "text/plain": [
       "<Figure size 432x288 with 2 Axes>"
      ]
     },
     "metadata": {
      "needs_background": "light"
     },
     "output_type": "display_data"
    },
    {
     "name": "stdout",
     "output_type": "stream",
     "text": [
      "184\n",
      "0\n"
     ]
    }
   ],
   "source": [
    "def show_single_image(img_arr):\n",
    "    plt.imshow(img_arr, cmap=\"binary\")\n",
    "    plt.colorbar()  # 旁边显示一个色阶条\n",
    "    plt.show()\n",
    "\n",
    "\n",
    "# 依次看一下x_train[0]，x_train[1]，x_train[2]就可以理解下面的循环\n",
    "print(x_train[0])\n",
    "show_single_image(x_train[1])\n",
    "print(x_train[1,0,18])\n",
    "print(y_train[1])"
   ]
  },
  {
   "cell_type": "code",
   "execution_count": 10,
   "id": "42a64f6a",
   "metadata": {},
   "outputs": [
    {
     "data": {
      "image/png": "[encoded data removed]",
      "text/plain": [
       "<Figure size 504x345.6 with 15 Axes>"
      ]
     },
     "metadata": {
      "needs_background": "light"
     },
     "output_type": "display_data"
    }
   ],
   "source": [
    "def show_imgs(n_rows, n_cols, x_data, y_data, class_names):\n",
    "    assert len(x_data) == len(y_data)  # 断言：x和y的样本数一致（可以预料到的异常）\n",
    "    assert n_rows * n_cols < len(x_data)  # 确保打印的图片小于总样本数\n",
    "    plt.figure(figsize = (n_cols * 1.4, n_rows * 1.6))  # 宽1.4高1.6\n",
    "    for row in range(n_rows):\n",
    "        for col in range(n_cols):\n",
    "            index = n_cols * row + col \n",
    "            plt.subplot(n_rows, n_cols, index+1)  # 因为从1开始\n",
    "            plt.imshow(x_data[index], cmap=\"binary\",\n",
    "                       interpolation = 'nearest')\n",
    "            plt.axis('off')  # 去除坐标系\n",
    "            plt.title(class_names[y_data[index]])\n",
    "    plt.show()\n",
    "# 已知的图片类别\n",
    "# lables在这个路径https://github.com/zalandoresearch/fashion-mnist\n",
    "class_names = ['T-shirt', 'Trouser', 'Pullover', 'Dress',\n",
    "               'Coat', 'Sandal', 'Shirt', 'Sneaker',\n",
    "               'Bag', 'Ankle boot']\n",
    "# 只是打印了前15个样本\n",
    "show_imgs(3, 5, x_train, y_train, class_names)\n"
   ]
  },
  {
   "cell_type": "code",
   "execution_count": 11,
   "id": "6e6d1a5f",
   "metadata": {},
   "outputs": [
    {
     "name": "stdout",
     "output_type": "stream",
     "text": [
      "(None, 784)\n"
     ]
    }
   ],
   "source": [
    "# tf.keras.models.Sequential(),可以看下官网\n",
    "# 功能：Sequential将线性的层堆叠到一个tf.keras.Model\n",
    "\n",
    "model = keras.models.Sequential()\n",
    "# 把28*28的图片展平为一个一维向量,通过下面打印可以看到两个相乘\n",
    "model.add(keras.layers.Flatten(input_shape=[28, 28]))\n",
    "print(model.output_shape)\n",
    "\n",
    "# Dense是全连接层，添加全连接层，单元数是300，可以对比300和100的差异\n",
    "# relu: y = max(0, x)\n",
    "# softmax: 将向量变成概率分布. x = [x1, x2, x3], \n",
    "#          y = [e^x1/sum, e^x2/sum, e^x3/sum], sum = e^x1 + e^x2 + e^x3\n",
    "model.add(keras.layers.Dense(300, activation=\"relu\"))\n",
    "model.add(keras.layers.Dense(100, activation=\"relu\"))\n",
    "model.add(keras.layers.Dense(10, activation=\"softmax\"))\n",
    "\n",
    "# 另一种实现方式\n",
    "# model = keras.models.Sequential([\n",
    "#     keras.layers.Flatten(input_shape=[28, 28]),\n",
    "#     keras.layers.Dense(300, activation='relu'),\n",
    "#     keras.layers.Dense(100, activation='relu'),\n",
    "#     keras.layers.Dense(10, activation='softmax')\n",
    "# ])\n",
    "\n",
    "\n",
    "\n",
    "# reason for sparse: y->index. y->one_hot->[] \n",
    "# loss是损失函数 y如果只是一个数，那么使用sparse_categorical_crossentropy\n",
    "# sparse_categorical_crossentropy计算稀疏分类crossentropy损失\n",
    "# 计算的分类值是 0,1,2,...9\n",
    "# 如果是一个向量，那么使用categorical_crossentropy\n",
    "# optimizer是优化方法，\n",
    "# metrics：模型在训练和测试期间要评估的指标列表（算子）\n",
    "model.compile(loss=\"sparse_categorical_crossentropy\",\n",
    "              optimizer = keras.optimizers.SGD(0.001),\n",
    "              metrics = [\"accuracy\"])"
   ]
  },
  {
   "cell_type": "code",
   "execution_count": 12,
   "id": "03fc9b23",
   "metadata": {},
   "outputs": [
    {
     "data": {
      "text/plain": [
       "[<keras.layers.core.Flatten at 0x7f7afd540748>,\n",
       " <keras.layers.core.Dense at 0x7f79a3fe0b70>,\n",
       " <keras.layers.core.Dense at 0x7f79a3fe0710>,\n",
       " <keras.layers.core.Dense at 0x7f79a07754e0>]"
      ]
     },
     "execution_count": 12,
     "metadata": {},
     "output_type": "execute_result"
    }
   ],
   "source": [
    "model.layers  #总计有4层"
   ]
  },
  {
   "cell_type": "code",
   "execution_count": 14,
   "id": "b54b33b9",
   "metadata": {},
   "outputs": [
    {
     "name": "stdout",
     "output_type": "stream",
     "text": [
      "Model: \"sequential\"\n",
      "_________________________________________________________________\n",
      "Layer (type)                 Output Shape              Param #   \n",
      "=================================================================\n",
      "flatten (Flatten)            (None, 784)               0         \n",
      "_________________________________________________________________\n",
      "dense (Dense)                (None, 300)               235500    \n",
      "_________________________________________________________________\n",
      "dense_1 (Dense)              (None, 100)               30100     \n",
      "_________________________________________________________________\n",
      "dense_2 (Dense)              (None, 10)                1010      \n",
      "=================================================================\n",
      "Total params: 266,610\n",
      "Trainable params: 266,610\n",
      "Non-trainable params: 0\n",
      "_________________________________________________________________\n"
     ]
    }
   ],
   "source": [
    "# 计算参数个数\n",
    "model.summary()"
   ]
  },
  {
   "cell_type": "code",
   "execution_count": 16,
   "id": "233f095a",
   "metadata": {},
   "outputs": [
    {
     "data": {
      "text/plain": [
       "235500"
      ]
     },
     "execution_count": 16,
     "metadata": {},
     "output_type": "execute_result"
    }
   ],
   "source": [
    "784*300+300"
   ]
  },
  {
   "cell_type": "code",
   "execution_count": 18,
   "id": "8a51f1a2",
   "metadata": {},
   "outputs": [
    {
     "data": {
      "text/plain": [
       "[<tf.Variable 'dense/kernel:0' shape=(784, 300) dtype=float32, numpy=\n",
       " array([[ 0.02790184, -0.053971  ,  0.04498359, ...,  0.04016154,\n",
       "          0.00279552,  0.00715348],\n",
       "        [ 0.05336918, -0.03115787, -0.05868514, ..., -0.05703015,\n",
       "          0.07320587, -0.0235216 ],\n",
       "        [ 0.03272563, -0.02139258, -0.03117651, ..., -0.06082131,\n",
       "          0.03824086, -0.02551881],\n",
       "        ...,\n",
       "        [ 0.0404781 ,  0.07017966,  0.06000574, ..., -0.01211173,\n",
       "          0.01544213,  0.00537414],\n",
       "        [-0.0383571 ,  0.0369855 , -0.06333514, ...,  0.04344299,\n",
       "          0.06792736,  0.00282654],\n",
       "        [-0.03192933, -0.03834044, -0.03912156, ...,  0.05728087,\n",
       "          0.07348707, -0.00014652]], dtype=float32)>,\n",
       " <tf.Variable 'dense/bias:0' shape=(300,) dtype=float32, numpy=\n",
       " array([0., 0., 0., 0., 0., 0., 0., 0., 0., 0., 0., 0., 0., 0., 0., 0., 0.,\n",
       "        0., 0., 0., 0., 0., 0., 0., 0., 0., 0., 0., 0., 0., 0., 0., 0., 0.,\n",
       "        0., 0., 0., 0., 0., 0., 0., 0., 0., 0., 0., 0., 0., 0., 0., 0., 0.,\n",
       "        0., 0., 0., 0., 0., 0., 0., 0., 0., 0., 0., 0., 0., 0., 0., 0., 0.,\n",
       "        0., 0., 0., 0., 0., 0., 0., 0., 0., 0., 0., 0., 0., 0., 0., 0., 0.,\n",
       "        0., 0., 0., 0., 0., 0., 0., 0., 0., 0., 0., 0., 0., 0., 0., 0., 0.,\n",
       "        0., 0., 0., 0., 0., 0., 0., 0., 0., 0., 0., 0., 0., 0., 0., 0., 0.,\n",
       "        0., 0., 0., 0., 0., 0., 0., 0., 0., 0., 0., 0., 0., 0., 0., 0., 0.,\n",
       "        0., 0., 0., 0., 0., 0., 0., 0., 0., 0., 0., 0., 0., 0., 0., 0., 0.,\n",
       "        0., 0., 0., 0., 0., 0., 0., 0., 0., 0., 0., 0., 0., 0., 0., 0., 0.,\n",
       "        0., 0., 0., 0., 0., 0., 0., 0., 0., 0., 0., 0., 0., 0., 0., 0., 0.,\n",
       "        0., 0., 0., 0., 0., 0., 0., 0., 0., 0., 0., 0., 0., 0., 0., 0., 0.,\n",
       "        0., 0., 0., 0., 0., 0., 0., 0., 0., 0., 0., 0., 0., 0., 0., 0., 0.,\n",
       "        0., 0., 0., 0., 0., 0., 0., 0., 0., 0., 0., 0., 0., 0., 0., 0., 0.,\n",
       "        0., 0., 0., 0., 0., 0., 0., 0., 0., 0., 0., 0., 0., 0., 0., 0., 0.,\n",
       "        0., 0., 0., 0., 0., 0., 0., 0., 0., 0., 0., 0., 0., 0., 0., 0., 0.,\n",
       "        0., 0., 0., 0., 0., 0., 0., 0., 0., 0., 0., 0., 0., 0., 0., 0., 0.,\n",
       "        0., 0., 0., 0., 0., 0., 0., 0., 0., 0., 0.], dtype=float32)>,\n",
       " <tf.Variable 'dense_1/kernel:0' shape=(300, 100) dtype=float32, numpy=\n",
       " array([[ 0.05573254, -0.07383491,  0.00973175, ...,  0.1079737 ,\n",
       "          0.11206625, -0.02135328],\n",
       "        [-0.05237387, -0.0301765 ,  0.0697986 , ...,  0.03824873,\n",
       "         -0.02304091,  0.05824002],\n",
       "        [-0.02627571,  0.04649615, -0.05058481, ..., -0.06952662,\n",
       "          0.11953761, -0.03861813],\n",
       "        ...,\n",
       "        [ 0.06186023,  0.00897368,  0.08584719, ..., -0.11170107,\n",
       "         -0.01755559,  0.08949076],\n",
       "        [ 0.07602417,  0.07728455, -0.04525504, ..., -0.08844449,\n",
       "         -0.07848395,  0.1160152 ],\n",
       "        [ 0.11363039, -0.11609912,  0.00541305, ...,  0.07915223,\n",
       "          0.01119938, -0.06610077]], dtype=float32)>,\n",
       " <tf.Variable 'dense_1/bias:0' shape=(100,) dtype=float32, numpy=\n",
       " array([0., 0., 0., 0., 0., 0., 0., 0., 0., 0., 0., 0., 0., 0., 0., 0., 0.,\n",
       "        0., 0., 0., 0., 0., 0., 0., 0., 0., 0., 0., 0., 0., 0., 0., 0., 0.,\n",
       "        0., 0., 0., 0., 0., 0., 0., 0., 0., 0., 0., 0., 0., 0., 0., 0., 0.,\n",
       "        0., 0., 0., 0., 0., 0., 0., 0., 0., 0., 0., 0., 0., 0., 0., 0., 0.,\n",
       "        0., 0., 0., 0., 0., 0., 0., 0., 0., 0., 0., 0., 0., 0., 0., 0., 0.,\n",
       "        0., 0., 0., 0., 0., 0., 0., 0., 0., 0., 0., 0., 0., 0., 0.],\n",
       "       dtype=float32)>,\n",
       " <tf.Variable 'dense_2/kernel:0' shape=(100, 10) dtype=float32, numpy=\n",
       " array([[ 2.69904733e-03, -2.73519605e-02,  1.27328187e-01,\n",
       "         -2.12988779e-01, -2.16462433e-01, -2.02064961e-01,\n",
       "          9.49238837e-02,  6.56343997e-02, -7.43640959e-03,\n",
       "          3.50894928e-02],\n",
       "        [-9.21359062e-02,  7.56320357e-03, -1.58071995e-01,\n",
       "         -6.63294792e-02, -1.76816598e-01,  3.68570685e-02,\n",
       "          5.53348362e-02, -1.02800012e-01, -3.79337072e-02,\n",
       "         -3.34587246e-02],\n",
       "        [-1.70686394e-01, -7.84956813e-02,  1.88814640e-01,\n",
       "         -4.26368266e-02, -1.45420194e-01,  5.33121824e-03,\n",
       "         -1.19772069e-01,  1.68834001e-01, -2.44890302e-02,\n",
       "          1.11320674e-01],\n",
       "        [-1.73853666e-01, -4.25461084e-02,  1.88752145e-01,\n",
       "         -8.73758793e-02,  1.92891717e-01,  7.67033696e-02,\n",
       "         -3.27963233e-02, -1.75268844e-01, -2.10837036e-01,\n",
       "         -1.86393216e-01],\n",
       "        [ 2.17655003e-02, -1.15505278e-01,  7.93445110e-02,\n",
       "          1.33123577e-01, -1.70514554e-01,  1.64892226e-01,\n",
       "         -2.32904494e-01, -1.30470693e-01,  2.18187273e-02,\n",
       "          1.13476664e-01],\n",
       "        [ 1.07755482e-01,  3.88735235e-02, -1.59053013e-01,\n",
       "          9.26055908e-02,  6.57583475e-02,  1.44807905e-01,\n",
       "          5.50570488e-02,  1.72943920e-01, -2.03306019e-01,\n",
       "         -1.62932083e-01],\n",
       "        [-1.20905936e-01,  6.23962283e-03,  2.24543482e-01,\n",
       "          1.13147020e-01,  7.03610778e-02,  2.80753672e-02,\n",
       "          5.52299321e-02,  1.31260157e-01, -1.77309513e-02,\n",
       "          9.84548330e-02],\n",
       "        [-1.70007110e-01, -7.02924728e-02, -1.52859151e-01,\n",
       "         -5.64915389e-02,  7.68328905e-02, -1.12189323e-01,\n",
       "          1.16323084e-01,  2.11280286e-02,  1.74369663e-01,\n",
       "          1.02570564e-01],\n",
       "        [ 5.16743958e-02, -1.80920392e-01,  2.12861866e-01,\n",
       "          2.09474325e-01, -2.03433752e-01, -4.42991704e-02,\n",
       "          1.24196053e-01, -8.12940598e-02,  1.86549127e-01,\n",
       "         -4.29160744e-02],\n",
       "        [ 6.23022318e-02,  1.17737919e-01, -2.19127610e-01,\n",
       "         -1.43977851e-01,  3.28785479e-02,  1.43601865e-01,\n",
       "          7.59102404e-02, -4.73974049e-02, -1.73826724e-01,\n",
       "          2.17058837e-01],\n",
       "        [-1.20358407e-01,  2.04168558e-01, -1.40392780e-03,\n",
       "          1.26990438e-01, -2.53521204e-02, -1.46429211e-01,\n",
       "          1.98971093e-01,  3.33155990e-02, -1.68308854e-01,\n",
       "         -6.28545582e-02],\n",
       "        [ 1.27805471e-02,  1.23280913e-01,  2.70903111e-04,\n",
       "         -1.49802744e-01, -2.22880900e-01,  2.18342394e-01,\n",
       "          2.32078046e-01,  3.31237316e-02, -1.94547042e-01,\n",
       "         -3.09327394e-02],\n",
       "        [ 1.63334548e-01, -5.39260805e-02, -2.10377544e-01,\n",
       "         -2.20345557e-01,  8.22693110e-03,  3.56218219e-02,\n",
       "         -1.78878352e-01,  1.90245122e-01, -1.26156628e-01,\n",
       "          5.30592799e-02],\n",
       "        [ 1.64375097e-01, -5.95510155e-02,  3.38609219e-02,\n",
       "          1.03297591e-01, -9.17989761e-02, -1.92826122e-01,\n",
       "         -7.89332390e-02, -1.42422169e-02,  1.81701571e-01,\n",
       "          7.42226541e-02],\n",
       "        [ 1.00996584e-01, -1.97587922e-01, -9.54894572e-02,\n",
       "         -1.78860083e-01, -2.04005063e-01, -4.65028137e-02,\n",
       "         -1.53241098e-01,  1.70576572e-01, -8.52033198e-02,\n",
       "         -1.92354918e-02],\n",
       "        [-1.11161813e-01,  1.88648850e-01, -2.15324327e-01,\n",
       "         -2.12052196e-01, -2.32341766e-01, -1.75231636e-01,\n",
       "         -8.05641264e-02,  3.98550928e-02, -1.85234800e-01,\n",
       "         -3.04281861e-02],\n",
       "        [ 1.03551567e-01, -1.04975030e-01,  1.04254961e-01,\n",
       "         -1.44491628e-01, -2.19126105e-01,  2.29474008e-01,\n",
       "          4.41514552e-02, -1.95302933e-01, -1.04228556e-01,\n",
       "         -8.24606121e-02],\n",
       "        [ 1.70383692e-01, -1.32651627e-01,  6.61485195e-02,\n",
       "          4.01596129e-02,  4.77226973e-02,  1.27460510e-01,\n",
       "          1.28035247e-01,  3.07632983e-02, -4.71605808e-02,\n",
       "         -6.17720336e-02],\n",
       "        [ 6.05279207e-02,  2.32799709e-01,  8.48768950e-02,\n",
       "         -1.37716338e-01,  1.36261463e-01, -9.70578641e-02,\n",
       "          1.88415170e-01,  1.16101652e-01,  7.93485045e-02,\n",
       "          1.34731740e-01],\n",
       "        [ 8.32871199e-02, -1.76743314e-01, -9.38657522e-02,\n",
       "         -2.09015384e-01, -1.69336751e-01,  4.47233021e-02,\n",
       "          6.55459762e-02,  1.40041083e-01,  1.83193982e-02,\n",
       "         -7.88002163e-02],\n",
       "        [ 1.18177772e-01, -1.30615145e-01,  8.27870369e-02,\n",
       "          3.70860398e-02,  6.41364753e-02,  1.97923452e-01,\n",
       "          4.18962538e-02, -1.69538707e-01, -2.37226784e-02,\n",
       "          2.26689279e-02],\n",
       "        [ 1.05045646e-01,  7.63227940e-02, -2.61164755e-02,\n",
       "         -1.11962974e-01,  1.68692678e-01,  1.98453665e-01,\n",
       "         -1.87248558e-01, -1.59906119e-01, -3.53848338e-02,\n",
       "          1.54300332e-02],\n",
       "        [ 1.03328943e-01, -2.22386435e-01,  5.34904003e-03,\n",
       "         -2.04965532e-01,  1.20147467e-01,  1.72890306e-01,\n",
       "          1.58878624e-01,  1.72276676e-01,  2.09126800e-01,\n",
       "         -1.84293658e-01],\n",
       "        [-1.09609328e-01,  1.80860460e-02,  1.96563542e-01,\n",
       "         -1.41990811e-01,  3.70612741e-03, -1.32505447e-01,\n",
       "          4.99749482e-02,  9.15794671e-02, -5.31230718e-02,\n",
       "          1.83227837e-01],\n",
       "        [-3.37091833e-02,  3.42313051e-02,  5.30900061e-03,\n",
       "          3.77789736e-02,  8.44123363e-02, -1.04745731e-01,\n",
       "         -1.66694224e-02, -5.74889779e-02,  3.21469009e-02,\n",
       "          8.03543627e-03],\n",
       "        [-5.07812351e-02, -1.07590616e-01,  1.79674178e-01,\n",
       "          1.78420633e-01,  1.54922187e-01, -1.18884042e-01,\n",
       "          3.57730985e-02,  5.72161973e-02,  1.53745174e-01,\n",
       "         -1.74218550e-01],\n",
       "        [-1.44405991e-01, -2.08948448e-01,  1.77250803e-01,\n",
       "          1.25690341e-01, -1.77521482e-01,  8.99246037e-02,\n",
       "          5.30235767e-02, -1.67599499e-01, -8.59548599e-02,\n",
       "         -1.14775836e-01],\n",
       "        [-2.12770060e-01, -1.39722362e-01,  1.32916123e-01,\n",
       "          9.11498368e-02,  7.69215822e-03,  1.79163069e-01,\n",
       "         -2.24891990e-01, -1.65268868e-01,  2.01621354e-01,\n",
       "         -2.01679811e-01],\n",
       "        [ 1.81501180e-01,  1.28920555e-01,  2.97076106e-02,\n",
       "         -1.92895710e-01,  2.20793962e-01, -1.25304356e-01,\n",
       "          2.10951060e-01,  1.51287913e-02,  1.68424338e-01,\n",
       "         -1.38362482e-01],\n",
       "        [ 2.01786280e-01, -4.30067778e-02, -1.07739121e-02,\n",
       "          3.19537818e-02,  3.22750807e-02,  1.38961077e-01,\n",
       "         -2.09183604e-01,  1.02630347e-01,  1.75264120e-01,\n",
       "         -3.09179276e-02],\n",
       "        [-2.01758996e-01, -1.63531616e-01,  4.60798442e-02,\n",
       "          1.70868844e-01, -1.26421124e-01, -1.75447971e-01,\n",
       "         -4.07280177e-02, -1.22159459e-01, -9.93391722e-02,\n",
       "          1.76587701e-02],\n",
       "        [ 5.16006649e-02,  2.31684327e-01,  1.19538248e-01,\n",
       "          9.88889337e-02,  1.93062276e-01, -1.75128356e-01,\n",
       "         -6.20843619e-02, -7.50464797e-02,  1.34825677e-01,\n",
       "          7.39259124e-02],\n",
       "        [-5.87120503e-02, -1.84445769e-01, -9.23205018e-02,\n",
       "         -3.61720175e-02, -1.38014674e-01,  7.98290670e-02,\n",
       "          5.54990470e-02,  1.60714298e-01,  1.24718249e-03,\n",
       "         -9.67614651e-02],\n",
       "        [ 5.38505018e-02, -1.77367911e-01,  1.62559956e-01,\n",
       "          1.19133264e-01,  3.90802026e-02,  1.24719620e-01,\n",
       "          1.26300305e-01, -1.03037447e-01,  1.34329677e-01,\n",
       "          5.81061244e-02],\n",
       "        [-1.44809350e-01,  1.22576118e-01, -1.85040072e-01,\n",
       "         -1.35315478e-01, -9.78564024e-02,  1.71703994e-02,\n",
       "         -1.36530399e-01, -3.22657228e-02,  2.06194222e-01,\n",
       "          2.33502418e-01],\n",
       "        [-3.05383950e-02, -1.30174190e-01,  1.12905353e-01,\n",
       "          2.06356496e-01,  7.69741535e-02,  1.99591994e-01,\n",
       "         -1.87498063e-01,  1.39072984e-01, -8.96324217e-02,\n",
       "         -1.89274237e-01],\n",
       "        [-1.32407561e-01,  1.74922317e-01,  3.80552113e-02,\n",
       "         -1.01353973e-02,  2.29542822e-01,  7.78937042e-02,\n",
       "          2.64438689e-02,  1.55233175e-01, -1.54984444e-01,\n",
       "         -9.69163775e-02],\n",
       "        [-1.21173099e-01,  5.34506142e-02,  1.39017254e-01,\n",
       "          1.19444102e-01, -1.75274074e-01, -1.77243784e-01,\n",
       "          1.89419746e-01, -9.26557034e-02, -1.30635127e-01,\n",
       "         -6.05129302e-02],\n",
       "        [ 1.11496091e-01, -1.69375241e-02, -1.77810133e-01,\n",
       "         -8.75618607e-02,  2.37314105e-02, -1.25697851e-02,\n",
       "          1.45604044e-01, -3.03393751e-02,  2.02129483e-02,\n",
       "          4.73997891e-02],\n",
       "        [ 1.30284607e-01,  6.95984364e-02, -5.73163182e-02,\n",
       "          1.89399719e-02,  1.96835101e-02, -5.89911342e-02,\n",
       "         -4.60800081e-02, -1.64362520e-01,  2.28814274e-01,\n",
       "          8.51291418e-02],\n",
       "        [ 2.23164171e-01, -3.72725278e-02,  1.11131012e-01,\n",
       "          9.76998210e-02,  1.97323054e-01,  5.90657890e-02,\n",
       "          8.11233521e-02, -1.93360999e-01,  4.52457666e-02,\n",
       "          6.76580667e-02],\n",
       "        [-1.72122166e-01,  2.24958926e-01,  2.56350338e-02,\n",
       "          1.07407570e-04, -1.16567872e-01,  7.24618733e-02,\n",
       "         -8.80985856e-02, -5.25125116e-02, -2.32551411e-01,\n",
       "         -1.47978693e-01],\n",
       "        [-5.55228889e-02, -1.00238234e-01, -7.57723004e-02,\n",
       "         -1.80287063e-01,  5.17413020e-02,  8.28884244e-02,\n",
       "         -5.97670674e-02,  2.47001648e-03,  1.65368527e-01,\n",
       "          2.72369683e-02],\n",
       "        [ 1.36719167e-01,  8.53597224e-02,  3.90128791e-02,\n",
       "          1.35656804e-01,  2.71669626e-02, -1.18334904e-01,\n",
       "          6.39150739e-02,  2.29388297e-01, -2.19876662e-01,\n",
       "          9.02004540e-02],\n",
       "        [-3.26744318e-02,  1.23547137e-01, -1.36786878e-01,\n",
       "         -1.46350980e-01, -1.32228374e-01,  1.86122924e-01,\n",
       "         -6.56110644e-02, -1.36002421e-01,  1.48236394e-01,\n",
       "          7.19181299e-02],\n",
       "        [ 3.78731787e-02, -1.52684450e-02, -5.47581911e-03,\n",
       "         -2.00329959e-01,  1.83144748e-01,  1.96862310e-01,\n",
       "         -1.37765840e-01,  1.30371630e-01,  9.37708616e-02,\n",
       "          1.87699795e-02],\n",
       "        [-1.75734907e-01,  5.71029782e-02,  4.12793458e-02,\n",
       "          1.84825182e-01, -7.00049251e-02,  4.37808335e-02,\n",
       "         -1.02534696e-01, -7.15313554e-02, -9.28758830e-02,\n",
       "         -2.07366958e-01],\n",
       "        [ 8.23153853e-02,  1.02503568e-01, -1.76034033e-01,\n",
       "         -1.47000909e-01,  3.82138789e-03, -5.27552962e-02,\n",
       "         -3.93920839e-02,  7.01087713e-02,  2.31505930e-02,\n",
       "          8.43180120e-02],\n",
       "        [-2.59151161e-02,  1.71297491e-01,  2.17168033e-03,\n",
       "          9.67369080e-02, -1.97490975e-01, -2.26275086e-01,\n",
       "          1.07727200e-01,  1.30420625e-01,  1.25318617e-02,\n",
       "          4.99253273e-02],\n",
       "        [-3.68293524e-02,  1.82084322e-01,  1.23643398e-01,\n",
       "         -1.12221286e-01, -1.71738282e-01,  1.80704236e-01,\n",
       "         -1.53845355e-01, -8.22097063e-03,  1.31596148e-01,\n",
       "         -2.33389482e-01],\n",
       "        [ 3.86923254e-02, -1.49793610e-01,  1.04365319e-01,\n",
       "         -1.07666343e-01, -1.18788324e-01, -2.23259762e-01,\n",
       "         -1.52032718e-01,  2.05078453e-01, -7.64607638e-02,\n",
       "          8.28241706e-02],\n",
       "        [-2.03622460e-01, -1.91103578e-01,  1.04396671e-01,\n",
       "          8.26495588e-02, -2.08907351e-01,  1.99564099e-02,\n",
       "          1.65063113e-01,  1.84309751e-01, -1.33607522e-01,\n",
       "         -1.29771948e-01],\n",
       "        [ 1.26985461e-01,  4.04815078e-02,  9.44634378e-02,\n",
       "         -2.01305240e-01,  1.82850868e-01, -2.32223213e-01,\n",
       "         -1.48938447e-01,  5.51338792e-02,  4.90514636e-02,\n",
       "         -2.02730715e-01],\n",
       "        [ 9.30322409e-02,  1.12487227e-02, -1.93432659e-01,\n",
       "          1.01934254e-01,  3.32989693e-02,  1.64494038e-01,\n",
       "         -8.38108063e-02,  8.22688043e-02, -5.66435605e-02,\n",
       "          2.02693462e-01],\n",
       "        [-4.68899757e-02,  1.14809513e-01, -1.07519835e-01,\n",
       "         -7.80004412e-02, -4.20674682e-02,  2.23438501e-01,\n",
       "          2.85370946e-02,  6.96133077e-03, -9.78660583e-03,\n",
       "          1.94554836e-01],\n",
       "        [-7.71313906e-04,  1.61696643e-01, -1.55496001e-01,\n",
       "         -9.20489281e-02,  1.49602056e-01, -2.00892910e-01,\n",
       "         -1.32514238e-01, -2.72249430e-02, -1.61240548e-02,\n",
       "         -4.56340611e-03],\n",
       "        [ 2.18591332e-01, -4.02307808e-02,  8.67648125e-02,\n",
       "          1.41916484e-01,  2.14937001e-01,  1.48754805e-01,\n",
       "         -1.27822936e-01, -1.36348605e-01,  7.65548646e-02,\n",
       "         -7.48009831e-02],\n",
       "        [-1.49161458e-01,  1.42283708e-01,  1.73495620e-01,\n",
       "         -9.49895829e-02, -1.45205870e-01,  5.26744425e-02,\n",
       "          6.28627837e-03, -9.26012546e-02,  6.01205230e-03,\n",
       "         -2.97785401e-02],\n",
       "        [-5.47077507e-02, -7.72267580e-03, -1.61113545e-01,\n",
       "         -5.56838661e-02,  8.10335279e-02,  2.26250142e-01,\n",
       "         -1.77685350e-01,  1.42981797e-01, -4.78331149e-02,\n",
       "         -7.10217506e-02],\n",
       "        [-3.43603343e-02,  2.10151076e-01, -4.78419662e-03,\n",
       "          1.83635831e-01, -7.60069489e-02,  7.80983865e-02,\n",
       "         -1.41681939e-01, -1.76023513e-01, -2.32429624e-01,\n",
       "         -8.56036246e-02],\n",
       "        [-1.08431637e-01, -5.58851510e-02,  6.07356727e-02,\n",
       "         -3.08948159e-02,  1.98147207e-01,  1.88598961e-01,\n",
       "          7.92496204e-02, -4.44772393e-02, -1.72702879e-01,\n",
       "          8.44632983e-02],\n",
       "        [ 2.33073384e-01, -4.62399274e-02, -1.07450619e-01,\n",
       "         -2.21815690e-01, -1.24851465e-02,  3.73702645e-02,\n",
       "          1.93588793e-01,  1.86261088e-01, -4.95650768e-02,\n",
       "         -1.97483748e-01],\n",
       "        [-1.00073218e-03, -1.83167353e-01,  1.02690756e-01,\n",
       "         -1.41369119e-01, -1.52912498e-01,  1.78583443e-01,\n",
       "         -1.16172969e-01, -2.60417461e-02, -1.89706549e-01,\n",
       "          2.21313655e-01],\n",
       "        [ 1.66846693e-01, -1.17853411e-01,  1.83505952e-01,\n",
       "         -7.07376003e-02, -1.89348400e-01, -1.78519309e-01,\n",
       "         -1.04643613e-01,  2.30335861e-01,  6.73747063e-02,\n",
       "          2.10904807e-01],\n",
       "        [ 7.41053820e-02,  2.26010680e-02, -2.25458398e-01,\n",
       "          5.32421172e-02,  2.56942213e-02,  1.25646234e-01,\n",
       "         -1.43337771e-01,  1.39339805e-01,  1.16842896e-01,\n",
       "         -2.94252336e-02],\n",
       "        [-1.48258001e-01,  8.17784965e-02, -2.26999134e-01,\n",
       "          1.33508861e-01, -7.45841414e-02, -1.05597526e-02,\n",
       "         -1.79237008e-01,  1.86857551e-01,  4.84943390e-02,\n",
       "         -7.53014535e-02],\n",
       "        [-5.07986546e-03, -2.11953193e-01, -4.75334376e-02,\n",
       "          1.72959358e-01, -2.72344053e-03, -1.28754675e-01,\n",
       "          4.58802879e-02,  1.43448859e-02, -1.98279172e-01,\n",
       "          1.70618743e-01],\n",
       "        [-2.25027516e-01,  1.20597929e-02, -2.89607346e-02,\n",
       "          1.84019476e-01,  3.82090509e-02, -6.98505789e-02,\n",
       "          4.77028191e-02, -1.07241809e-01, -9.41437632e-02,\n",
       "          9.33362544e-02],\n",
       "        [-1.19979374e-01, -5.04027605e-02, -1.69721514e-01,\n",
       "         -6.15927279e-02,  4.08314168e-03, -2.31879041e-01,\n",
       "          9.34601128e-02,  1.65184826e-01, -2.15548784e-01,\n",
       "         -1.47877961e-01],\n",
       "        [-2.40562111e-02,  1.32254779e-01, -6.13962114e-03,\n",
       "          2.26307452e-01, -9.10288244e-02,  6.90085292e-02,\n",
       "         -1.34188622e-01,  8.69885087e-02, -4.91877645e-02,\n",
       "         -1.45918772e-01],\n",
       "        [ 7.10687339e-02, -2.07185924e-01,  2.96865404e-03,\n",
       "          1.40336663e-01,  8.24019313e-02,  9.02246535e-02,\n",
       "         -1.50263295e-01,  2.79930830e-02,  5.79342842e-02,\n",
       "         -9.37917382e-02],\n",
       "        [-2.17382640e-01, -1.92312449e-01,  7.29519129e-03,\n",
       "         -9.40624177e-02,  1.23059183e-01, -3.90731394e-02,\n",
       "         -1.80490583e-01, -1.33516192e-01, -1.39067024e-01,\n",
       "         -1.41919926e-01],\n",
       "        [-1.80966839e-01, -1.58869758e-01,  1.82402730e-01,\n",
       "          6.03622496e-02, -1.07247099e-01, -1.35589480e-01,\n",
       "          9.01803970e-02,  2.10483968e-02, -5.16739339e-02,\n",
       "         -8.00971687e-03],\n",
       "        [-1.95429564e-01,  1.65049791e-01, -1.16034433e-01,\n",
       "          1.51659310e-01, -2.34588534e-02, -2.22591743e-01,\n",
       "          1.49281949e-01, -1.78362668e-01,  7.32910335e-02,\n",
       "          2.84112692e-02],\n",
       "        [-3.41071486e-02,  1.45690918e-01, -1.04393378e-01,\n",
       "         -6.75738156e-02, -5.82930446e-03, -1.60882860e-01,\n",
       "         -2.79164314e-03, -1.50168568e-01,  5.39448857e-02,\n",
       "         -2.88232565e-02],\n",
       "        [-1.76501542e-01,  2.16014296e-01, -1.87041521e-01,\n",
       "          2.13733017e-01, -1.51600897e-01,  9.34509933e-03,\n",
       "          1.30038440e-01, -5.79371154e-02, -2.19792187e-01,\n",
       "          9.98016298e-02],\n",
       "        [-4.31236625e-02,  4.07778025e-02, -1.35592222e-01,\n",
       "          1.17026538e-01, -2.11348236e-02,  4.47167456e-02,\n",
       "         -3.11951637e-02,  1.96948528e-01,  9.27888453e-02,\n",
       "          1.88255578e-01],\n",
       "        [ 4.28646207e-02,  1.00563318e-02,  3.77900898e-02,\n",
       "         -1.04753077e-01, -1.10381983e-01,  1.77702606e-01,\n",
       "          1.22908175e-01,  1.92683935e-02, -1.59466565e-01,\n",
       "         -2.09608674e-01],\n",
       "        [-2.17003375e-02, -8.63411874e-02, -8.08098912e-03,\n",
       "         -1.64390504e-02, -1.65611804e-01, -9.48801190e-02,\n",
       "          7.44442642e-02,  2.11569428e-01, -1.72091931e-01,\n",
       "         -6.05231822e-02],\n",
       "        [ 1.35705024e-01,  6.91014826e-02,  9.42392647e-02,\n",
       "          1.63143784e-01, -3.78336459e-02,  2.20525146e-01,\n",
       "          2.44455040e-02, -1.40686661e-01,  2.15067863e-01,\n",
       "         -1.42519027e-02],\n",
       "        [ 1.45633399e-01,  2.81127989e-02, -5.14884591e-02,\n",
       "          1.61049962e-01,  5.50207496e-02,  1.45814300e-01,\n",
       "         -8.10320228e-02,  1.22162759e-01,  1.18642837e-01,\n",
       "          1.56947106e-01],\n",
       "        [-1.72745138e-02,  9.78055596e-02, -1.88800320e-01,\n",
       "          1.09803706e-01, -1.02752745e-02,  4.54410613e-02,\n",
       "         -2.13215798e-02,  4.80576754e-02,  1.01108313e-01,\n",
       "          1.31343246e-01],\n",
       "        [-2.81599611e-02,  1.74592406e-01,  1.64981037e-01,\n",
       "          1.50858372e-01, -1.34777308e-01, -6.03192151e-02,\n",
       "          2.26252705e-01, -1.24560997e-01, -1.54324114e-01,\n",
       "         -7.13855028e-04],\n",
       "        [-2.20242158e-01,  2.15502560e-01, -1.34794950e-01,\n",
       "          2.08510458e-01, -2.23854735e-01, -6.53053075e-02,\n",
       "         -1.46522254e-01,  2.12684572e-02,  2.27281392e-01,\n",
       "          2.18609393e-01],\n",
       "        [-1.95891663e-01,  2.22043693e-02,  1.13949329e-01,\n",
       "          1.12757236e-01,  3.09816301e-02, -7.70794451e-02,\n",
       "         -6.83487058e-02,  2.02506423e-01,  6.42917752e-02,\n",
       "          1.37196481e-03],\n",
       "        [ 2.05550432e-01,  2.48081088e-02,  1.92246675e-01,\n",
       "          8.93998444e-02, -1.56235576e-01, -1.35935098e-02,\n",
       "         -6.10894710e-02, -2.18083560e-01,  2.29289412e-01,\n",
       "          7.01685846e-02],\n",
       "        [-2.00120702e-01,  1.91285431e-01,  6.26880229e-02,\n",
       "         -1.09597526e-01,  5.48941791e-02,  3.33304703e-02,\n",
       "         -2.09929079e-01, -1.85149431e-01, -1.32809758e-01,\n",
       "          6.42284155e-02],\n",
       "        [-2.02305347e-01, -1.60182983e-01, -1.92431107e-01,\n",
       "          2.13510633e-01,  1.19241297e-01, -2.27360114e-01,\n",
       "         -8.83270055e-02, -3.11047882e-02, -9.29693133e-02,\n",
       "         -1.27834573e-01],\n",
       "        [-1.58306539e-01,  9.38019753e-02, -5.90514988e-02,\n",
       "          1.15479529e-03, -1.23519562e-01,  7.25547373e-02,\n",
       "          9.75166857e-02,  1.49135679e-01, -1.50761753e-02,\n",
       "          1.18646115e-01],\n",
       "        [-8.10000002e-02, -1.68591946e-01, -2.27223426e-01,\n",
       "         -7.52184242e-02,  7.78714716e-02,  8.33802223e-02,\n",
       "          2.55675018e-02,  9.61340368e-02, -2.31853485e-01,\n",
       "         -1.80021733e-01],\n",
       "        [ 6.52925670e-02, -5.22556603e-02, -4.35060859e-02,\n",
       "          4.84571457e-02,  3.91728580e-02,  2.03873873e-01,\n",
       "         -5.99556714e-02, -7.28427321e-02,  1.70540661e-01,\n",
       "         -1.05810493e-01],\n",
       "        [ 4.30006385e-02,  2.03456044e-01,  1.23522729e-01,\n",
       "          2.32912064e-01,  1.56753421e-01,  2.24506229e-01,\n",
       "         -1.87035024e-01,  1.47284865e-02, -7.59125650e-02,\n",
       "          2.11936206e-01],\n",
       "        [ 1.05592847e-01, -3.94334644e-02, -1.18097581e-01,\n",
       "         -1.83905661e-02, -1.35650039e-02, -2.31629640e-01,\n",
       "          2.13196814e-01, -7.10685700e-02, -1.88443780e-01,\n",
       "          1.29451662e-01],\n",
       "        [ 1.87213928e-01, -2.85542011e-02, -1.54440552e-01,\n",
       "          1.41223073e-01, -1.93896294e-02, -1.04909718e-01,\n",
       "          7.32315481e-02,  1.77724540e-01, -9.64770913e-02,\n",
       "          8.18612576e-02],\n",
       "        [ 5.03853858e-02, -2.25312784e-01, -3.66419554e-03,\n",
       "          2.12304175e-01, -1.15031473e-01,  1.90331936e-02,\n",
       "          3.68858278e-02, -2.11889654e-01,  2.00871587e-01,\n",
       "          1.68765068e-01],\n",
       "        [ 8.41613710e-02, -7.09351599e-02,  1.10948563e-01,\n",
       "         -1.79326385e-02, -2.00883269e-01, -2.03197271e-01,\n",
       "         -7.66047090e-02,  9.23002958e-02, -4.06276882e-02,\n",
       "         -8.85656029e-02],\n",
       "        [-3.92664075e-02, -4.70145941e-02, -1.35107636e-02,\n",
       "         -1.78964883e-02, -1.28328204e-01,  1.69122875e-01,\n",
       "         -1.69435754e-01,  6.61216676e-02,  1.32271022e-01,\n",
       "         -2.52397954e-02],\n",
       "        [-1.55578583e-01,  1.12530619e-01,  6.21671677e-02,\n",
       "          7.33588636e-02, -1.03295028e-01, -6.50215596e-02,\n",
       "          2.22985804e-01, -1.68465436e-01, -1.88290492e-01,\n",
       "         -2.92265117e-02],\n",
       "        [ 1.29710972e-01,  1.28268391e-01,  1.93665087e-01,\n",
       "          7.01669157e-02, -2.13129714e-01,  1.10079169e-01,\n",
       "         -2.74324119e-02,  9.18369591e-02,  1.60366952e-01,\n",
       "         -9.84249860e-02],\n",
       "        [-2.48172283e-02,  1.63313955e-01, -1.01287231e-01,\n",
       "         -2.32889906e-01,  1.99214011e-01, -2.23349750e-01,\n",
       "         -2.23613977e-02, -1.36964619e-01, -1.96745843e-01,\n",
       "         -1.74657732e-01]], dtype=float32)>,\n",
       " <tf.Variable 'dense_2/bias:0' shape=(10,) dtype=float32, numpy=array([0., 0., 0., 0., 0., 0., 0., 0., 0., 0.], dtype=float32)>]"
      ]
     },
     "execution_count": 18,
     "metadata": {},
     "output_type": "execute_result"
    }
   ],
   "source": [
    "model.variables  # 模型中自己训练的参数"
   ]
  },
  {
   "cell_type": "code",
   "execution_count": 19,
   "id": "de418a01",
   "metadata": {},
   "outputs": [
    {
     "data": {
      "text/plain": [
       "0.1414213562373095"
      ]
     },
     "execution_count": 19,
     "metadata": {},
     "output_type": "execute_result"
    }
   ],
   "source": [
    "# 均匀分布\n",
    "np.sqrt(6/300)"
   ]
  },
  {
   "cell_type": "code",
   "execution_count": 20,
   "id": "5487c430",
   "metadata": {},
   "outputs": [
    {
     "data": {
      "text/plain": [
       "0.07439551"
      ]
     },
     "execution_count": 20,
     "metadata": {},
     "output_type": "execute_result"
    }
   ],
   "source": [
    "model.variables[0].numpy().max()"
   ]
  },
  {
   "cell_type": "code",
   "execution_count": 22,
   "id": "a6089df1",
   "metadata": {},
   "outputs": [],
   "source": [
    "# [None, 784] * W + b -> [None, 300] W.shape [784, 300], b = [300]\n",
    "# W是矩阵，b是一个偏置，是一个向量"
   ]
  },
  {
   "cell_type": "code",
   "execution_count": 23,
   "id": "ccc6dd16",
   "metadata": {},
   "outputs": [
    {
     "name": "stdout",
     "output_type": "stream",
     "text": [
      "Epoch 1/20\n",
      "1719/1719 [==============================] - 6s 3ms/step - loss: 3.1869 - accuracy: 0.7072 - val_loss: 0.6739 - val_accuracy: 0.7484\n",
      "Epoch 2/20\n",
      "1719/1719 [==============================] - 5s 3ms/step - loss: 0.5903 - accuracy: 0.7916 - val_loss: 0.6032 - val_accuracy: 0.7852\n",
      "Epoch 3/20\n",
      "1719/1719 [==============================] - 5s 3ms/step - loss: 0.5085 - accuracy: 0.8185 - val_loss: 0.5698 - val_accuracy: 0.8130\n",
      "Epoch 4/20\n",
      "1719/1719 [==============================] - 5s 3ms/step - loss: 0.4670 - accuracy: 0.8305 - val_loss: 0.4928 - val_accuracy: 0.8342\n",
      "Epoch 5/20\n",
      "1719/1719 [==============================] - 5s 3ms/step - loss: 0.4404 - accuracy: 0.8405 - val_loss: 0.5008 - val_accuracy: 0.8268\n",
      "Epoch 6/20\n",
      "1719/1719 [==============================] - 5s 3ms/step - loss: 0.4221 - accuracy: 0.8462 - val_loss: 0.4618 - val_accuracy: 0.8402\n",
      "Epoch 7/20\n",
      "1719/1719 [==============================] - 5s 3ms/step - loss: 0.4074 - accuracy: 0.8513 - val_loss: 0.4671 - val_accuracy: 0.8384\n",
      "Epoch 8/20\n",
      "1719/1719 [==============================] - 5s 3ms/step - loss: 0.3937 - accuracy: 0.8562 - val_loss: 0.4418 - val_accuracy: 0.8448\n",
      "Epoch 9/20\n",
      "1719/1719 [==============================] - 5s 3ms/step - loss: 0.3832 - accuracy: 0.8574 - val_loss: 0.4521 - val_accuracy: 0.8476\n",
      "Epoch 10/20\n",
      "1719/1719 [==============================] - 5s 3ms/step - loss: 0.3766 - accuracy: 0.8602 - val_loss: 0.4502 - val_accuracy: 0.8480\n",
      "Epoch 11/20\n",
      "1719/1719 [==============================] - 5s 3ms/step - loss: 0.3688 - accuracy: 0.8633 - val_loss: 0.4579 - val_accuracy: 0.8434\n",
      "Epoch 12/20\n",
      "1719/1719 [==============================] - 5s 3ms/step - loss: 0.3607 - accuracy: 0.8654 - val_loss: 0.4549 - val_accuracy: 0.8442\n",
      "Epoch 13/20\n",
      "1719/1719 [==============================] - 5s 3ms/step - loss: 0.3567 - accuracy: 0.8665 - val_loss: 0.4354 - val_accuracy: 0.8482\n",
      "Epoch 14/20\n",
      "1719/1719 [==============================] - 5s 3ms/step - loss: 0.3500 - accuracy: 0.8690 - val_loss: 0.4283 - val_accuracy: 0.8524\n",
      "Epoch 15/20\n",
      "1719/1719 [==============================] - 5s 3ms/step - loss: 0.3454 - accuracy: 0.8711 - val_loss: 0.4308 - val_accuracy: 0.8534\n",
      "Epoch 16/20\n",
      "1719/1719 [==============================] - 7s 4ms/step - loss: 0.3400 - accuracy: 0.8732 - val_loss: 0.4181 - val_accuracy: 0.8552\n",
      "Epoch 17/20\n",
      "1719/1719 [==============================] - 7s 4ms/step - loss: 0.3353 - accuracy: 0.8737 - val_loss: 0.4286 - val_accuracy: 0.8540\n",
      "Epoch 18/20\n",
      "1719/1719 [==============================] - 7s 4ms/step - loss: 0.3325 - accuracy: 0.8744 - val_loss: 0.4212 - val_accuracy: 0.8512\n",
      "Epoch 19/20\n",
      "1719/1719 [==============================] - 7s 4ms/step - loss: 0.3282 - accuracy: 0.8771 - val_loss: 0.4151 - val_accuracy: 0.8554\n",
      "Epoch 20/20\n",
      "1719/1719 [==============================] - 7s 4ms/step - loss: 0.3240 - accuracy: 0.8776 - val_loss: 0.4154 - val_accuracy: 0.8558\n"
     ]
    }
   ],
   "source": [
    "# 训练20次，每一次所有的样本都输进去（再分成默认32批次）\n",
    "history = model.fit(x_train, y_train, epochs=20,\n",
    "                    validation_data=(x_valid, y_valid))  "
   ]
  },
  {
   "cell_type": "code",
   "execution_count": 24,
   "id": "b933e87a",
   "metadata": {},
   "outputs": [
    {
     "data": {
      "text/plain": [
       "keras.callbacks.History"
      ]
     },
     "execution_count": 24,
     "metadata": {},
     "output_type": "execute_result"
    }
   ],
   "source": [
    "type(history)"
   ]
  }
 ],
 "metadata": {
  "kernelspec": {
   "display_name": "Python 3",
   "language": "python",
   "name": "python3"
  },
  "language_info": {
   "codemirror_mode": {
    "name": "ipython",
    "version": 3
   },
   "file_extension": ".py",
   "mimetype": "text/x-python",
   "name": "python",
   "nbconvert_exporter": "python",
   "pygments_lexer": "ipython3",
   "version": "3.6.9"
  }
 },
 "nbformat": 4,
 "nbformat_minor": 5
}
