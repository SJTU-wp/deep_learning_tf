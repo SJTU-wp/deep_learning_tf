{
 "cells": [
  {
   "cell_type": "code",
   "execution_count": null,
   "id": "8c5160f6",
   "metadata": {
    "scrolled": true
   },
   "outputs": [],
   "source": [
    "import numpy as np  # linear algebra\n",
    "import pandas as pd  # data processing, CSV file I/O (e.g. pd.read_csv)\n",
    "\n",
    "# Input data files are available in the \"../input/\" directory.  # 之前如此\n",
    "# For example, running this (by clicking run or pressing Shift+Enter) will list the files in the input directory\n",
    "\n",
    "import os\n",
    "# print(os.listdir(\"../input\"))  # 已更改\n",
    "\n",
    "# Any results you write to the current directory are saved as output."
   ]
  },
  {
   "cell_type": "code",
   "execution_count": 1,
   "id": "4ab84eb4",
   "metadata": {},
   "outputs": [
    {
     "name": "stdout",
     "output_type": "stream",
     "text": [
      "2.6.2\n",
      "sys.version_info(major=3, minor=6, micro=9, releaselevel='final', serial=0)\n",
      "matplotlib 3.3.4\n",
      "numpy 1.19.5\n",
      "pandas 1.1.5\n",
      "sklearn 0.24.2\n",
      "tensorflow 2.6.2\n",
      "keras.api._v2.keras 2.6.0\n"
     ]
    }
   ],
   "source": [
    "%matplotlib inline\n",
    "import matplotlib as mpl\n",
    "import matplotlib.pyplot as plt\n",
    "import numpy as np\n",
    "import os\n",
    "import pandas as pd\n",
    "import sklearn\n",
    "import sys\n",
    "import tensorflow as tf\n",
    "import time\n",
    "\n",
    "from tensorflow import keras\n",
    "\n",
    "print(tf.__version__)\n",
    "print(sys.version_info)\n",
    "for module in mpl, np, pd, sklearn, tf, keras:\n",
    "    print(module.__name__, module.__version__)"
   ]
  },
  {
   "cell_type": "markdown",
   "id": "a8777383",
   "metadata": {},
   "source": [
    "## 数据预处理"
   ]
  },
  {
   "cell_type": "code",
   "execution_count": null,
   "id": "d45c67a1",
   "metadata": {},
   "outputs": [],
   "source": [
    "# 数据路径规整、正确是前提\n",
    "train_dir = \"./training/training\"\n",
    "valid_dir = \"./validation/validation\"\n",
    "label_file = \"./monkey_labels.txt\"\n",
    "print(os.path.exists(train_dir))\n",
    "print(os.path.exists(valid_dir))\n",
    "print(os.path.exists(label_file))\n",
    "\n",
    "print(os.listdir(train_dir))\n",
    "print(os.listdir(valid_dir))"
   ]
  },
  {
   "cell_type": "code",
   "execution_count": null,
   "id": "79812ce2",
   "metadata": {},
   "outputs": [],
   "source": [
    "labels = pd.read_csv(label_file, header=0)\n",
    "print(labels)"
   ]
  },
  {
   "cell_type": "code",
   "execution_count": null,
   "id": "eb351960",
   "metadata": {},
   "outputs": [],
   "source": [
    "# 因为resnet处理的224，因此要改为\n",
    "height = 224\n",
    "width = 224\n",
    "channels = 3\n",
    "# 图形变大了，我们改小batch_size\n",
    "batch_size = 24\n",
    "num_classes = 10  # 类别数（10类猴子）\n",
    "\n",
    "train_datagen = keras.preprocessing.image.ImageDataGenerator(\n",
    "    # 这里也要改为resnet50，resnet50是keras中，为tf，torch都做了适配\n",
    "    # preprocess_input主要做了归一化和白化\n",
    "    preprocessing_function = keras.applications.resnet50.preprocess_input\n",
    "    rotation_range=40,\n",
    "    width_shift_range=0.2,\n",
    "    height_shift_range=0.2,\n",
    "    shear_range=0.2,\n",
    "    zoom_range=0.2,\n",
    "    horizontal_flip=True,\n",
    "    fill_mode='nearest',\n",
    ")\n",
    "\n",
    "# 读取图片\n",
    "train_generator = train_datagen.flow_from_directory(train_dir,\n",
    "                                                   target_size=(height, width),\n",
    "                                                   batch_size=batch_size,\n",
    "                                                   seed=7,\n",
    "                                                   shuffle=True,\n",
    "                                                   class_mode=\"categorical\")\n",
    "\n",
    "# 这里也需要修改\n",
    "valid_datagen = keras.preprocessing.image.ImageDataGenerator(\n",
    "    preprocessing_function = keras.applications.resnet50.preprocess_input)\n",
    "valid_generator = valid_datagen.flow_from_directory(valid_dir,\n",
    "                                                    target_size = (height, width),\n",
    "                                                    batch_size = batch_size,\n",
    "                                                    seed = 7,\n",
    "                                                    shuffle = False,\n",
    "                                                    class_mode = \"categorical\")\n",
    "\n",
    "train_num = train_generator.samples\n",
    "valid_num = valid_generator.samples\n",
    "print(train_num, valid_num)"
   ]
  },
  {
   "cell_type": "code",
   "execution_count": null,
   "id": "e8cbe586",
   "metadata": {},
   "outputs": [],
   "source": [
    "for i in range(2):\n",
    "    x, y = train_generator.next()\n",
    "    print(x.shape, y.shape)\n",
    "    print(y)"
   ]
  },
  {
   "cell_type": "code",
   "execution_count": null,
   "id": "cd29dab2",
   "metadata": {},
   "outputs": [],
   "source": []
  },
  {
   "cell_type": "markdown",
   "id": "dd5bd64f",
   "metadata": {},
   "source": [
    "## 搭建模型"
   ]
  },
  {
   "cell_type": "code",
   "execution_count": null,
   "id": "ef9a254f",
   "metadata": {},
   "outputs": [],
   "source": [
    "resnet50_fine_tune = keras.models.Sequential()\n",
    "\n",
    "# resnet有1000个分类，我们只有10类，最后一层要去掉，最后的输出是三维矩阵，而不是一维的\n",
    "# 我们通过pooling = 'avg'解决这个问题\n",
    "# pooling size 是（2，2）的时候是大小减半，而pooling size恰好等于图像大小的时候，就可以降维\n",
    "resnet50_fine_tune.add(keras.applications.ResNet50(include_top=False,\n",
    "                                                  pooling='avg',\n",
    "                                                  # weights = 'imagenet'就会下载imagenet，在这个初始化好的基础上去训练\n",
    "                                                  weights='imagenet'))\n",
    "# 加一个全连接层num_classes值为10，相当于只调整最后的参数\n",
    "resnet50_fine_tune.add(keras.layers.Dense(num_classes, activaion='softmax'))\n",
    "\n",
    "print(resnet50_fine_tune.layers)\n",
    "resnet50_fine_tune.layers[0].trainable = True  # 这样设置会花很多时间\n",
    "\n",
    "resnet50_fine_tune.compile(loss=\"categorical_crossentropy\",\n",
    "             optimizer=\"sgd\", metrics=['accuracy'])\n",
    "\n",
    "resnet50_fine_tune.summary()"
   ]
  },
  {
   "cell_type": "code",
   "execution_count": null,
   "id": "9fd29174",
   "metadata": {},
   "outputs": [],
   "source": [
    "resnet50_fine_tune.variables"
   ]
  },
  {
   "cell_type": "code",
   "execution_count": null,
   "id": "92af7812",
   "metadata": {},
   "outputs": [],
   "source": [
    "epochs = 10\n",
    "history = resnet50_fine_tune.fit_generator(train_generator,\n",
    "                                           steps_per_epoch = train_num // batch_size,\n",
    "                                           epochs = epochs,\n",
    "                                           validation_data = valid_generator,\n",
    "                                           validation_steps = valid_num // batch_size)"
   ]
  },
  {
   "cell_type": "code",
   "execution_count": null,
   "id": "3ff3d697",
   "metadata": {},
   "outputs": [],
   "source": [
    "def plot_learning_curves(history, label, epcohs, min_value, max_value):\n",
    "    data = {}\n",
    "    data[label] = history.history[label]\n",
    "    data['val_'+label] = history.history['val_'+label]\n",
    "    pd.DataFrame(data).plot(figsize=(8, 5))\n",
    "    plt.grid(True)\n",
    "    plt.axis([0, epochs, min_value, max_value])\n",
    "    plt.show()\n",
    "    \n",
    "plot_learning_curves(history, 'accuracy', epochs, 0, 1)\n",
    "plot_learning_curves(history, 'loss', epochs, 0, 2)"
   ]
  },
  {
   "cell_type": "code",
   "execution_count": null,
   "id": "cfe5592f",
   "metadata": {},
   "outputs": [],
   "source": []
  },
  {
   "cell_type": "markdown",
   "id": "5d7954a2",
   "metadata": {},
   "source": [
    "## 另外一种实现"
   ]
  },
  {
   "cell_type": "code",
   "execution_count": null,
   "id": "f9d144b6",
   "metadata": {},
   "outputs": [],
   "source": [
    "resnet50 = keras.applications.ResNet50(include_top = True,\n",
    "                                       pooling = 'avg',  # include_top为True时，pooling不起作用\n",
    "                                       weights = None, classes=10)\n",
    "resnet50.summary()"
   ]
  },
  {
   "cell_type": "code",
   "execution_count": null,
   "id": "9d08b087",
   "metadata": {},
   "outputs": [],
   "source": [
    "len(resnet50.layers)"
   ]
  },
  {
   "cell_type": "code",
   "execution_count": null,
   "id": "2ed3b220",
   "metadata": {},
   "outputs": [],
   "source": [
    "from tensorflow.keras.utils import plot_model\n",
    "\n",
    "plot_model(resnet50)"
   ]
  },
  {
   "cell_type": "code",
   "execution_count": null,
   "id": "5c9708cd",
   "metadata": {},
   "outputs": [],
   "source": [
    "# 设置只有最后的5层可以训练,前面的45层不能训练\n",
    "# for layer in resnet50.layers[0:-5]:\n",
    "#     layer.trainable = False\n",
    "\n",
    "resnet50_new = keras.models.Sequential([\n",
    "    resnet50,\n",
    "    keras.layers.Dense(num_classes, activation = 'softmax'),\n",
    "])\n",
    "\n",
    "resnet50_new.compile(loss=\"categorical_crossentropy\",\n",
    "                     optimizer=\"sgd\", metrics=['accuracy'])\n",
    "resnet50_new.summary()\n",
    "# 可以看到我们的params大大增加了"
   ]
  },
  {
   "cell_type": "code",
   "execution_count": null,
   "id": "455148b8",
   "metadata": {},
   "outputs": [],
   "source": [
    "# 增加了以后准确率变化了，两个原因：第二个可训练参数变多；我们增加的层进行了调整\n",
    "epochs = 10\n",
    "history = resnet50_new.fit_generator(train_generator,\n",
    "                                     steps_per_epoch = train_num // batch_size,\n",
    "                                     epochs = epochs,\n",
    "                                     validation_data = valid_generator,\n",
    "                                     validation_steps = valid_num // batch_size)"
   ]
  },
  {
   "cell_type": "code",
   "execution_count": null,
   "id": "645f92d0",
   "metadata": {},
   "outputs": [],
   "source": [
    "plot_learning_curves(history, 'accuracy', epochs, 0, 1)\n",
    "plot_learning_curves(history, 'loss', epochs, 0, 2)"
   ]
  },
  {
   "cell_type": "code",
   "execution_count": null,
   "id": "ab297dff",
   "metadata": {},
   "outputs": [],
   "source": []
  }
 ],
 "metadata": {
  "kernelspec": {
   "display_name": "Python 3",
   "language": "python",
   "name": "python3"
  },
  "language_info": {
   "codemirror_mode": {
    "name": "ipython",
    "version": 3
   },
   "file_extension": ".py",
   "mimetype": "text/x-python",
   "name": "python",
   "nbconvert_exporter": "python",
   "pygments_lexer": "ipython3",
   "version": "3.6.9"
  }
 },
 "nbformat": 4,
 "nbformat_minor": 5
}
