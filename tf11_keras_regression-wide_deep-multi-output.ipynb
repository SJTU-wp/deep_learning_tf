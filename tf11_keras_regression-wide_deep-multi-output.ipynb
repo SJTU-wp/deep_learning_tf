{
 "cells": [
  {
   "cell_type": "code",
   "execution_count": 1,
   "metadata": {},
   "outputs": [
    {
     "name": "stdout",
     "output_type": "stream",
     "text": [
      "2.6.2\n",
      "sys.version_info(major=3, minor=6, micro=9, releaselevel='final', serial=0)\n",
      "matplotlib 3.3.4\n",
      "numpy 1.19.5\n",
      "pandas 1.1.5\n",
      "sklearn 0.24.2\n",
      "tensorflow 2.6.2\n",
      "keras.api._v2.keras 2.6.0\n"
     ]
    }
   ],
   "source": [
    "import matplotlib as mpl\n",
    "import matplotlib.pyplot as plt\n",
    "%matplotlib inline\n",
    "import numpy as np\n",
    "import sklearn\n",
    "import pandas as pd\n",
    "import os\n",
    "import sys\n",
    "import time\n",
    "import tensorflow as tf\n",
    "\n",
    "from tensorflow import keras\n",
    "\n",
    "print(tf.__version__)\n",
    "print(sys.version_info)\n",
    "for module in mpl, np, pd, sklearn, tf, keras:\n",
    "    print(module.__name__, module.__version__)"
   ]
  },
  {
   "cell_type": "code",
   "execution_count": 2,
   "metadata": {},
   "outputs": [
    {
     "name": "stdout",
     "output_type": "stream",
     "text": [
      ".. _california_housing_dataset:\n",
      "\n",
      "California Housing dataset\n",
      "--------------------------\n",
      "\n",
      "**Data Set Characteristics:**\n",
      "\n",
      "    :Number of Instances: 20640\n",
      "\n",
      "    :Number of Attributes: 8 numeric, predictive attributes and the target\n",
      "\n",
      "    :Attribute Information:\n",
      "        - MedInc        median income in block\n",
      "        - HouseAge      median house age in block\n",
      "        - AveRooms      average number of rooms\n",
      "        - AveBedrms     average number of bedrooms\n",
      "        - Population    block population\n",
      "        - AveOccup      average house occupancy\n",
      "        - Latitude      house block latitude\n",
      "        - Longitude     house block longitude\n",
      "\n",
      "    :Missing Attribute Values: None\n",
      "\n",
      "This dataset was obtained from the StatLib repository.\n",
      "http://lib.stat.cmu.edu/datasets/\n",
      "\n",
      "The target variable is the median house value for California districts.\n",
      "\n",
      "This dataset was derived from the 1990 U.S. census, using one row per census\n",
      "block group. A block group is the smallest geographical unit for which the U.S.\n",
      "Census Bureau publishes sample data (a block group typically has a population\n",
      "of 600 to 3,000 people).\n",
      "\n",
      "It can be downloaded/loaded using the\n",
      ":func:`sklearn.datasets.fetch_california_housing` function.\n",
      "\n",
      ".. topic:: References\n",
      "\n",
      "    - Pace, R. Kelley and Ronald Barry, Sparse Spatial Autoregressions,\n",
      "      Statistics and Probability Letters, 33 (1997) 291-297\n",
      "\n",
      "(20640, 8)\n",
      "(20640,)\n"
     ]
    }
   ],
   "source": [
    "from sklearn.datasets import fetch_california_housing\n",
    "\n",
    "housing = fetch_california_housing()\n",
    "print(housing.DESCR)\n",
    "print(housing.data.shape)\n",
    "print(housing.target.shape)"
   ]
  },
  {
   "cell_type": "code",
   "execution_count": 3,
   "metadata": {},
   "outputs": [
    {
     "name": "stdout",
     "output_type": "stream",
     "text": [
      "(11610, 8) (11610,)\n",
      "(3870, 8) (3870,)\n",
      "(5160, 8) (5160,)\n"
     ]
    }
   ],
   "source": [
    "from sklearn.model_selection import train_test_split\n",
    "\n",
    "x_train_all, x_test, y_train_all, y_test = train_test_split(\n",
    "    housing.data, housing.target, random_state = 7)\n",
    "x_train, x_valid, y_train, y_valid = train_test_split(\n",
    "    x_train_all, y_train_all, random_state = 11)\n",
    "print(x_train.shape, y_train.shape)\n",
    "print(x_valid.shape, y_valid.shape)\n",
    "print(x_test.shape, y_test.shape)\n"
   ]
  },
  {
   "cell_type": "code",
   "execution_count": 4,
   "metadata": {},
   "outputs": [],
   "source": [
    "from sklearn.preprocessing import StandardScaler\n",
    "\n",
    "scaler = StandardScaler()\n",
    "x_train_scaled = scaler.fit_transform(x_train)\n",
    "x_valid_scaled = scaler.transform(x_valid)\n",
    "x_test_scaled = scaler.transform(x_test)"
   ]
  },
  {
   "cell_type": "code",
   "execution_count": 5,
   "metadata": {},
   "outputs": [
    {
     "name": "stdout",
     "output_type": "stream",
     "text": [
      "Model: \"model\"\n",
      "__________________________________________________________________________________________________\n",
      "Layer (type)                    Output Shape         Param #     Connected to                     \n",
      "==================================================================================================\n",
      "input_2 (InputLayer)            [(None, 6)]          0                                            \n",
      "__________________________________________________________________________________________________\n",
      "dense (Dense)                   (None, 30)           210         input_2[0][0]                    \n",
      "__________________________________________________________________________________________________\n",
      "input_1 (InputLayer)            [(None, 5)]          0                                            \n",
      "__________________________________________________________________________________________________\n",
      "dense_1 (Dense)                 (None, 30)           930         dense[0][0]                      \n",
      "__________________________________________________________________________________________________\n",
      "concatenate (Concatenate)       (None, 35)           0           input_1[0][0]                    \n",
      "                                                                 dense_1[0][0]                    \n",
      "__________________________________________________________________________________________________\n",
      "dense_2 (Dense)                 (None, 1)            36          concatenate[0][0]                \n",
      "__________________________________________________________________________________________________\n",
      "dense_3 (Dense)                 (None, 1)            31          dense_1[0][0]                    \n",
      "==================================================================================================\n",
      "Total params: 1,207\n",
      "Trainable params: 1,207\n",
      "Non-trainable params: 0\n",
      "__________________________________________________________________________________________________\n"
     ]
    }
   ],
   "source": [
    "# 多输出\n",
    "input_wide = keras.layers.Input(shape=[5])\n",
    "input_deep = keras.layers.Input(shape=[6])\n",
    "hidden1 = keras.layers.Dense(30, activation='relu')(input_deep)\n",
    "hidden2 = keras.layers.Dense(30, activation='relu')(hidden1)\n",
    "concat = keras.layers.concatenate([input_wide, hidden2])\n",
    "output = keras.layers.Dense(1)(concat)\n",
    "# 多的输出，是使用hidden2作为一个输入，只用deep做预测\n",
    "output2 = keras.layers.Dense(1)(hidden2)\n",
    "model = keras.models.Model(inputs = [input_wide, input_deep],\n",
    "                           outputs = [output, output2])\n",
    "        \n",
    "\n",
    "model.compile(loss=\"mean_squared_error\", optimizer=\"sgd\")\n",
    "callbacks = [keras.callbacks.EarlyStopping(\n",
    "    patience=5, min_delta=1e-3)]\n",
    "model.summary()"
   ]
  },
  {
   "cell_type": "code",
   "execution_count": 6,
   "metadata": {},
   "outputs": [
    {
     "name": "stdout",
     "output_type": "stream",
     "text": [
      "Epoch 1/100\n",
      "363/363 [==============================] - 2s 3ms/step - loss: 3.3343 - dense_2_loss: 0.8766 - dense_3_loss: 2.4577 - val_loss: 1.5468 - val_dense_2_loss: 0.5390 - val_dense_3_loss: 1.0078\n",
      "Epoch 2/100\n",
      "363/363 [==============================] - 1s 2ms/step - loss: 1.0940 - dense_2_loss: 0.4490 - dense_3_loss: 0.6450 - val_loss: 1.0238 - val_dense_2_loss: 0.4365 - val_dense_3_loss: 0.5872\n",
      "Epoch 3/100\n",
      "363/363 [==============================] - 1s 2ms/step - loss: 0.9533 - dense_2_loss: 0.4072 - dense_3_loss: 0.5461 - val_loss: 0.9438 - val_dense_2_loss: 0.4051 - val_dense_3_loss: 0.5387\n",
      "Epoch 4/100\n",
      "363/363 [==============================] - 1s 3ms/step - loss: 0.9077 - dense_2_loss: 0.3898 - dense_3_loss: 0.5179 - val_loss: 0.9485 - val_dense_2_loss: 0.4059 - val_dense_3_loss: 0.5426\n",
      "Epoch 5/100\n",
      "363/363 [==============================] - 1s 2ms/step - loss: 0.8746 - dense_2_loss: 0.3796 - dense_3_loss: 0.4950 - val_loss: 0.8883 - val_dense_2_loss: 0.3886 - val_dense_3_loss: 0.4997\n",
      "Epoch 6/100\n",
      "363/363 [==============================] - 1s 2ms/step - loss: 0.8567 - dense_2_loss: 0.3776 - dense_3_loss: 0.4791 - val_loss: 0.8964 - val_dense_2_loss: 0.3967 - val_dense_3_loss: 0.4997\n",
      "Epoch 7/100\n",
      "363/363 [==============================] - 1s 2ms/step - loss: 0.8307 - dense_2_loss: 0.3679 - dense_3_loss: 0.4628 - val_loss: 0.8627 - val_dense_2_loss: 0.3821 - val_dense_3_loss: 0.4806\n",
      "Epoch 8/100\n",
      "363/363 [==============================] - 1s 2ms/step - loss: 0.8076 - dense_2_loss: 0.3603 - dense_3_loss: 0.4473 - val_loss: 0.8528 - val_dense_2_loss: 0.3807 - val_dense_3_loss: 0.4721\n",
      "Epoch 9/100\n",
      "363/363 [==============================] - 1s 2ms/step - loss: 0.7873 - dense_2_loss: 0.3531 - dense_3_loss: 0.4343 - val_loss: 0.8386 - val_dense_2_loss: 0.3901 - val_dense_3_loss: 0.4485\n",
      "Epoch 10/100\n",
      "363/363 [==============================] - 1s 2ms/step - loss: 0.7762 - dense_2_loss: 0.3503 - dense_3_loss: 0.4259 - val_loss: 0.8267 - val_dense_2_loss: 0.3724 - val_dense_3_loss: 0.4542\n",
      "Epoch 11/100\n",
      "363/363 [==============================] - 1s 2ms/step - loss: 0.7640 - dense_2_loss: 0.3473 - dense_3_loss: 0.4167 - val_loss: 0.7909 - val_dense_2_loss: 0.3569 - val_dense_3_loss: 0.4340\n",
      "Epoch 12/100\n",
      "363/363 [==============================] - 1s 2ms/step - loss: 0.7693 - dense_2_loss: 0.3521 - dense_3_loss: 0.4172 - val_loss: 0.7752 - val_dense_2_loss: 0.3514 - val_dense_3_loss: 0.4239\n",
      "Epoch 13/100\n",
      "363/363 [==============================] - 1s 2ms/step - loss: 0.7570 - dense_2_loss: 0.3476 - dense_3_loss: 0.4094 - val_loss: 0.8141 - val_dense_2_loss: 0.3896 - val_dense_3_loss: 0.4246\n",
      "Epoch 14/100\n",
      "363/363 [==============================] - 1s 2ms/step - loss: 0.7524 - dense_2_loss: 0.3434 - dense_3_loss: 0.4090 - val_loss: 0.7810 - val_dense_2_loss: 0.3545 - val_dense_3_loss: 0.4265\n",
      "Epoch 15/100\n",
      "363/363 [==============================] - 1s 2ms/step - loss: 0.7281 - dense_2_loss: 0.3337 - dense_3_loss: 0.3944 - val_loss: 0.7836 - val_dense_2_loss: 0.3513 - val_dense_3_loss: 0.4323\n",
      "Epoch 16/100\n",
      "363/363 [==============================] - 1s 2ms/step - loss: 0.7250 - dense_2_loss: 0.3334 - dense_3_loss: 0.3916 - val_loss: 0.7436 - val_dense_2_loss: 0.3399 - val_dense_3_loss: 0.4036\n",
      "Epoch 17/100\n",
      "363/363 [==============================] - 1s 2ms/step - loss: 0.7434 - dense_2_loss: 0.3420 - dense_3_loss: 0.4014 - val_loss: 0.7568 - val_dense_2_loss: 0.3477 - val_dense_3_loss: 0.4090\n",
      "Epoch 18/100\n",
      "363/363 [==============================] - 1s 2ms/step - loss: 0.7149 - dense_2_loss: 0.3290 - dense_3_loss: 0.3859 - val_loss: 0.7178 - val_dense_2_loss: 0.3301 - val_dense_3_loss: 0.3877\n",
      "Epoch 19/100\n",
      "363/363 [==============================] - 1s 2ms/step - loss: 0.7041 - dense_2_loss: 0.3239 - dense_3_loss: 0.3802 - val_loss: 0.7281 - val_dense_2_loss: 0.3338 - val_dense_3_loss: 0.3944\n",
      "Epoch 20/100\n",
      "363/363 [==============================] - 1s 2ms/step - loss: 0.7059 - dense_2_loss: 0.3250 - dense_3_loss: 0.3809 - val_loss: 0.7274 - val_dense_2_loss: 0.3333 - val_dense_3_loss: 0.3941\n",
      "Epoch 21/100\n",
      "363/363 [==============================] - 1s 2ms/step - loss: 0.7008 - dense_2_loss: 0.3224 - dense_3_loss: 0.3783 - val_loss: 0.7133 - val_dense_2_loss: 0.3283 - val_dense_3_loss: 0.3851\n",
      "Epoch 22/100\n",
      "363/363 [==============================] - 1s 3ms/step - loss: 0.7005 - dense_2_loss: 0.3216 - dense_3_loss: 0.3789 - val_loss: 0.7076 - val_dense_2_loss: 0.3249 - val_dense_3_loss: 0.3828\n",
      "Epoch 23/100\n",
      "363/363 [==============================] - 1s 2ms/step - loss: 0.6906 - dense_2_loss: 0.3180 - dense_3_loss: 0.3726 - val_loss: 0.7345 - val_dense_2_loss: 0.3383 - val_dense_3_loss: 0.3962\n",
      "Epoch 24/100\n",
      "363/363 [==============================] - 1s 2ms/step - loss: 0.6912 - dense_2_loss: 0.3185 - dense_3_loss: 0.3727 - val_loss: 0.7125 - val_dense_2_loss: 0.3251 - val_dense_3_loss: 0.3874\n",
      "Epoch 25/100\n",
      "363/363 [==============================] - 1s 2ms/step - loss: 0.6863 - dense_2_loss: 0.3165 - dense_3_loss: 0.3698 - val_loss: 0.6941 - val_dense_2_loss: 0.3222 - val_dense_3_loss: 0.3720\n",
      "Epoch 26/100\n",
      "363/363 [==============================] - 1s 3ms/step - loss: 0.6827 - dense_2_loss: 0.3148 - dense_3_loss: 0.3679 - val_loss: 0.7044 - val_dense_2_loss: 0.3239 - val_dense_3_loss: 0.3805\n",
      "Epoch 27/100\n",
      "363/363 [==============================] - 1s 2ms/step - loss: 0.6825 - dense_2_loss: 0.3150 - dense_3_loss: 0.3675 - val_loss: 0.6976 - val_dense_2_loss: 0.3198 - val_dense_3_loss: 0.3778\n",
      "Epoch 28/100\n",
      "363/363 [==============================] - 1s 2ms/step - loss: 0.6787 - dense_2_loss: 0.3132 - dense_3_loss: 0.3655 - val_loss: 0.7406 - val_dense_2_loss: 0.3436 - val_dense_3_loss: 0.3969\n",
      "Epoch 29/100\n",
      "363/363 [==============================] - 1s 2ms/step - loss: 0.6764 - dense_2_loss: 0.3126 - dense_3_loss: 0.3637 - val_loss: 0.7014 - val_dense_2_loss: 0.3223 - val_dense_3_loss: 0.3790\n",
      "Epoch 30/100\n",
      "363/363 [==============================] - 1s 2ms/step - loss: 0.6729 - dense_2_loss: 0.3106 - dense_3_loss: 0.3623 - val_loss: 0.7196 - val_dense_2_loss: 0.3284 - val_dense_3_loss: 0.3912\n"
     ]
    }
   ],
   "source": [
    "x_train_scaled_wide = x_train_scaled[:, :5]\n",
    "x_train_scaled_deep = x_train_scaled[:, 2:]\n",
    "x_valid_scaled_wide = x_valid_scaled[:, :5]\n",
    "x_valid_scaled_deep = x_valid_scaled[:, 2:]\n",
    "x_test_scaled_wide = x_test_scaled[:, :5]\n",
    "x_test_scaled_deep = x_test_scaled[:, 2:]\n",
    "\n",
    "# 因为有多个output，所以需要有多个y\n",
    "history = model.fit([x_train_scaled_wide, x_train_scaled_deep],\n",
    "                    [y_train, y_train],\n",
    "                    validation_data = (\n",
    "                        [x_valid_scaled_wide, x_valid_scaled_deep],\n",
    "                        [y_valid, y_valid]),\n",
    "                    epochs = 100,\n",
    "                    callbacks = callbacks)"
   ]
  },
  {
   "cell_type": "code",
   "execution_count": 7,
   "metadata": {},
   "outputs": [
    {
     "name": "stdout",
     "output_type": "stream",
     "text": [
      "{'loss': [3.334294319152832, 1.0939983129501343, 0.9532966017723083, 0.9077310562133789, 0.8745843768119812, 0.856681227684021, 0.8307384848594666, 0.8075982332229614, 0.7873464226722717, 0.776170551776886, 0.7639864683151245, 0.7692761421203613, 0.7570008039474487, 0.7524088621139526, 0.728119969367981, 0.7250105142593384, 0.743390679359436, 0.7148936986923218, 0.7040526270866394, 0.7059122920036316, 0.7007660865783691, 0.7004781365394592, 0.6906393766403198, 0.6911771893501282, 0.6863033771514893, 0.6827049851417542, 0.6824612617492676, 0.6787396669387817, 0.6763783097267151, 0.6729381084442139], 'dense_2_loss': [0.8765668869018555, 0.449008971452713, 0.4072249233722687, 0.38981372117996216, 0.3796127140522003, 0.37761908769607544, 0.36794495582580566, 0.3603244423866272, 0.35305896401405334, 0.35029181838035583, 0.34730666875839233, 0.3521178960800171, 0.3475784957408905, 0.34344953298568726, 0.33369705080986023, 0.33338478207588196, 0.34195226430892944, 0.32901236414909363, 0.32388588786125183, 0.32500436902046204, 0.32242000102996826, 0.3216232359409332, 0.31802159547805786, 0.31846490502357483, 0.3164743483066559, 0.31484657526016235, 0.31497105956077576, 0.31323015689849854, 0.31264153122901917, 0.31062719225883484], 'dense_3_loss': [2.4577271938323975, 0.6449897289276123, 0.5460719466209412, 0.5179170966148376, 0.4949715733528137, 0.4790620803833008, 0.4627932906150818, 0.44727402925491333, 0.43428727984428406, 0.42587873339653015, 0.4166800379753113, 0.4171578884124756, 0.40942221879959106, 0.40895938873291016, 0.3944227993488312, 0.39162567257881165, 0.4014385938644409, 0.3858814239501953, 0.38016653060913086, 0.3809075653553009, 0.3783460557460785, 0.37885481119155884, 0.3726179301738739, 0.3727119266986847, 0.36982905864715576, 0.3678584694862366, 0.3674905300140381, 0.3655097782611847, 0.36373692750930786, 0.36231085658073425], 'val_loss': [1.5468302965164185, 1.0237529277801514, 0.9438109993934631, 0.948495626449585, 0.8882732391357422, 0.8964020013809204, 0.8627119064331055, 0.8528027534484863, 0.8386090397834778, 0.8266868591308594, 0.7908710837364197, 0.775248646736145, 0.8141406774520874, 0.7810233235359192, 0.7835521697998047, 0.743554413318634, 0.7567535042762756, 0.7178137302398682, 0.7281417846679688, 0.7273542284965515, 0.7133451104164124, 0.7076370120048523, 0.7344980239868164, 0.7125197052955627, 0.694145143032074, 0.7044181823730469, 0.6975765228271484, 0.7405687570571899, 0.7013540267944336, 0.7196495532989502], 'val_dense_2_loss': [0.5390152931213379, 0.43654632568359375, 0.40508392453193665, 0.4059309661388397, 0.38857701420783997, 0.3967066705226898, 0.38212263584136963, 0.38068124651908875, 0.3900865912437439, 0.37244799733161926, 0.3568664789199829, 0.3513847589492798, 0.38955992460250854, 0.35453054308891296, 0.35125666856765747, 0.33994415402412415, 0.347720205783844, 0.3300696015357971, 0.33377474546432495, 0.33328914642333984, 0.3282838761806488, 0.3248651921749115, 0.33825287222862244, 0.3251434862613678, 0.32218480110168457, 0.3239452838897705, 0.3197549283504486, 0.3436484634876251, 0.3223447799682617, 0.32844385504722595], 'val_dense_3_loss': [1.0078150033950806, 0.587206244468689, 0.5387271642684937, 0.5425646305084229, 0.4996963143348694, 0.49969518184661865, 0.4805891811847687, 0.4721215069293976, 0.4485225975513458, 0.45423901081085205, 0.43400460481643677, 0.4238637387752533, 0.42458075284957886, 0.426492840051651, 0.4322953224182129, 0.4036101698875427, 0.4090329706668854, 0.38774409890174866, 0.3943670094013214, 0.3940650522708893, 0.3850611746311188, 0.38277170062065125, 0.39624521136283875, 0.3873763382434845, 0.37196025252342224, 0.38047271966934204, 0.37782153487205505, 0.39692020416259766, 0.3790091276168823, 0.3912055790424347]}\n"
     ]
    }
   ],
   "source": [
    "print(history.history)"
   ]
  },
  {
   "cell_type": "code",
   "execution_count": 8,
   "metadata": {},
   "outputs": [
    {
     "data": {
      "image/png": "[encoded data removed]",
      "text/plain": [
       "<Figure size 576x360 with 1 Axes>"
      ]
     },
     "metadata": {
      "needs_background": "light"
     },
     "output_type": "display_data"
    }
   ],
   "source": [
    "def plot_learning_curves(history):\n",
    "    pd.DataFrame(history.history).plot(figsize=(8, 5))\n",
    "    plt.grid(True)\n",
    "    plt.gca().set_ylim(0, 2)\n",
    "    plt.show()\n",
    "plot_learning_curves(history)"
   ]
  },
  {
   "cell_type": "code",
   "execution_count": 9,
   "metadata": {},
   "outputs": [
    {
     "data": {
      "text/plain": [
       "[0.6981797814369202, 0.32557564973831177, 0.3726041615009308]"
      ]
     },
     "execution_count": 9,
     "metadata": {},
     "output_type": "execute_result"
    }
   ],
   "source": [
    "model.evaluate([x_test_scaled_wide, x_test_scaled_deep],\n",
    "               [y_test, y_test], verbose=0)"
   ]
  },
  {
   "cell_type": "code",
   "execution_count": null,
   "metadata": {},
   "outputs": [],
   "source": []
  }
 ],
 "metadata": {
  "kernelspec": {
   "display_name": "Python 3",
   "language": "python",
   "name": "python3"
  },
  "language_info": {
   "codemirror_mode": {
    "name": "ipython",
    "version": 3
   },
   "file_extension": ".py",
   "mimetype": "text/x-python",
   "name": "python",
   "nbconvert_exporter": "python",
   "pygments_lexer": "ipython3",
   "version": "3.6.9"
  }
 },
 "nbformat": 4,
 "nbformat_minor": 2
}
