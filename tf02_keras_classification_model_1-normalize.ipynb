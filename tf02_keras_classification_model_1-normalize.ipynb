{
 "cells": [
  {
   "cell_type": "code",
   "execution_count": 1,
   "id": "06b1bf90",
   "metadata": {},
   "outputs": [
    {
     "name": "stdout",
     "output_type": "stream",
     "text": [
      "2.6.2\n",
      "sys.version_info(major=3, minor=6, micro=9, releaselevel='final', serial=0)\n",
      "matplotlib 3.3.4\n",
      "numpy 1.19.5\n",
      "pandas 1.1.5\n",
      "sklearn 0.24.2\n",
      "tensorflow 2.6.2\n",
      "keras.api._v2.keras 2.6.0\n"
     ]
    }
   ],
   "source": [
    "# 标准化 normalization\n",
    "import matplotlib as mpl\n",
    "import matplotlib.pyplot as plt\n",
    "%matplotlib inline\n",
    "import numpy as np\n",
    "import sklearn\n",
    "import pandas as pd\n",
    "import os\n",
    "import sys\n",
    "import time\n",
    "import tensorflow as tf\n",
    "\n",
    "from tensorflow import keras\n",
    "\n",
    "print(tf.__version__)\n",
    "print(sys.version_info)\n",
    "for module in mpl, np, pd, sklearn, tf, keras:\n",
    "    print(module.__name__, module.__version__)"
   ]
  },
  {
   "cell_type": "code",
   "execution_count": 2,
   "id": "aa911bcc",
   "metadata": {},
   "outputs": [
    {
     "name": "stdout",
     "output_type": "stream",
     "text": [
      "(5000, 28, 28) (5000,)\n",
      "(55000, 28, 28) (55000,)\n",
      "(10000, 28, 28) (10000,)\n"
     ]
    }
   ],
   "source": [
    "fashion_mnist = keras.datasets.fashion_mnist\n",
    "(x_train_all, y_train_all), (x_test, y_test) = fashion_mnist.load_data()\n",
    "x_valid, x_train = x_train_all[:5000], x_train_all[5000:]\n",
    "y_valid, y_train = y_train_all[:5000], y_train_all[5000:]\n",
    "\n",
    "print(x_valid.shape, y_valid.shape)\n",
    "print(x_train.shape, y_train.shape)\n",
    "print(x_test.shape, y_test.shape)"
   ]
  },
  {
   "cell_type": "code",
   "execution_count": 3,
   "id": "0d33dd7e",
   "metadata": {},
   "outputs": [
    {
     "name": "stdout",
     "output_type": "stream",
     "text": [
      "255 0\n"
     ]
    }
   ],
   "source": [
    "print(np.max(x_train), np.min(x_train))"
   ]
  },
  {
   "cell_type": "code",
   "execution_count": 4,
   "id": "edf27cc9",
   "metadata": {},
   "outputs": [
    {
     "data": {
      "text/plain": [
       "(43120000, 1)"
      ]
     },
     "execution_count": 4,
     "metadata": {},
     "output_type": "execute_result"
    }
   ],
   "source": [
    "x_train.reshape(-1, 1).shape"
   ]
  },
  {
   "cell_type": "code",
   "execution_count": 5,
   "id": "b32ce472",
   "metadata": {},
   "outputs": [],
   "source": [
    "# x = (x - μ) / std\n",
    "# 通过原有sk的标准化进行处理\n",
    "from sklearn.preprocessing import StandardScaler\n",
    "\n",
    "scaler = StandardScaler()\n",
    "\n",
    "# x_train: [None, 28, 28] -> [None, 784]\n",
    "# 先reshape变为二维（相当于1列）的目的是对每一个像素点进行标准化（让其等价）\n",
    "# 然后再将结构复原（55000, 28, 28）\n",
    "x_train_scaled = scaler.fit_transform(\n",
    "    x_train.astype(np.float32).reshape(-1, 1)).reshape(-1, 28, 28)\n",
    "\n",
    "# 这个是验证集，验证集用的也是训练集的均值和方差\n",
    "x_valid_scaled = scaler.transform(\n",
    "    x_valid.astype(np.float32).reshape(-1, 1)).reshape(-1, 28, 28)\n",
    "\n",
    "# 这个是测试集\n",
    "x_test_scaled = scaler.transform(\n",
    "    x_test.astype(np.float32).reshape(-1, 1)).reshape(-1, 28, 28)\n"
   ]
  },
  {
   "cell_type": "code",
   "execution_count": 6,
   "id": "2d0305f0",
   "metadata": {},
   "outputs": [
    {
     "name": "stdout",
     "output_type": "stream",
     "text": [
      "2.0231433 -0.8105136\n"
     ]
    }
   ],
   "source": [
    "print(np.max(x_train_scaled), np.min(x_train_scaled))"
   ]
  },
  {
   "cell_type": "code",
   "execution_count": 15,
   "id": "f0274e61",
   "metadata": {},
   "outputs": [],
   "source": [
    "# tf.keras.models.Sequential()\n",
    "\n",
    "\"\"\"\n",
    "# 另一种方式\n",
    "model = keras.models.Sequential()\n",
    "model.add(keras.layers.Flatten(input_shape=[28, 28]))\n",
    "model.add(keras.layers.Dense(300, activation=\"relu\"))\n",
    "model.add(keras.layers.Dense(100, activation=\"relu\"))\n",
    "model.add(keras.layers.Dense(10, activation=\"softmax\"))\n",
    "\"\"\"\n",
    "model = keras.models.Sequential([\n",
    "    keras.layers.Flatten(input_shape=[28, 28]),  # 展平层\n",
    "    keras.layers.Dense(100, activation='relu'),  # 超参数300可调，激活函数可调\n",
    "    keras.layers.Dense(100, activation='relu'),\n",
    "    keras.layers.Dense(10, activation='softmax')  # 目标函数softmax，适用于分类问题，将输出值变为概率\n",
    "])\n",
    "\n",
    "# relu: y = max(0, x)\n",
    "# softmax: 将向量变为概率分布，x = [x1, x2, x3], \n",
    "#          y = [e^x1/sum, e^x2/sum, e^x3/sum], sum = e^x1 + e^x2 + e^x3\n",
    "\n",
    "# reason for sparse: y->index. y->one_hot->[]  多分类问题\n",
    "model.compile(loss=\"sparse_categorical_crossentropy\",\n",
    "             optimizer=keras.optimizers.SGD(0.001),  # 优化器是 学习率变化 的算法\n",
    "             metrics=[\"accuracy\"])"
   ]
  },
  {
   "cell_type": "code",
   "execution_count": 16,
   "id": "5bdba48f",
   "metadata": {},
   "outputs": [
    {
     "name": "stdout",
     "output_type": "stream",
     "text": [
      "Epoch 1/20\n",
      "1719/1719 [==============================] - 4s 2ms/step - loss: 1.0420 - accuracy: 0.6691 - val_loss: 0.6967 - val_accuracy: 0.7638\n",
      "Epoch 2/20\n",
      "1719/1719 [==============================] - 4s 2ms/step - loss: 0.6390 - accuracy: 0.7794 - val_loss: 0.5743 - val_accuracy: 0.7970\n",
      "Epoch 3/20\n",
      "1719/1719 [==============================] - 4s 2ms/step - loss: 0.5557 - accuracy: 0.8040 - val_loss: 0.5229 - val_accuracy: 0.8156\n",
      "Epoch 4/20\n",
      "1719/1719 [==============================] - 4s 2ms/step - loss: 0.5143 - accuracy: 0.8179 - val_loss: 0.4913 - val_accuracy: 0.8274\n",
      "Epoch 5/20\n",
      "1719/1719 [==============================] - 4s 2ms/step - loss: 0.4878 - accuracy: 0.8267 - val_loss: 0.4696 - val_accuracy: 0.8354\n",
      "Epoch 6/20\n",
      "1719/1719 [==============================] - 4s 2ms/step - loss: 0.4687 - accuracy: 0.8328 - val_loss: 0.4568 - val_accuracy: 0.8400\n",
      "Epoch 7/20\n",
      "1719/1719 [==============================] - 4s 2ms/step - loss: 0.4534 - accuracy: 0.8375 - val_loss: 0.4441 - val_accuracy: 0.8436\n",
      "Epoch 8/20\n",
      "1719/1719 [==============================] - 4s 2ms/step - loss: 0.4408 - accuracy: 0.8428 - val_loss: 0.4320 - val_accuracy: 0.8456\n",
      "Epoch 9/20\n",
      "1719/1719 [==============================] - 4s 2ms/step - loss: 0.4302 - accuracy: 0.8460 - val_loss: 0.4259 - val_accuracy: 0.8488\n",
      "Epoch 10/20\n",
      "1719/1719 [==============================] - 4s 2ms/step - loss: 0.4211 - accuracy: 0.8501 - val_loss: 0.4172 - val_accuracy: 0.8542\n",
      "Epoch 11/20\n",
      "1719/1719 [==============================] - 4s 2ms/step - loss: 0.4132 - accuracy: 0.8525 - val_loss: 0.4116 - val_accuracy: 0.8536\n",
      "Epoch 12/20\n",
      "1719/1719 [==============================] - 4s 2ms/step - loss: 0.4060 - accuracy: 0.8558 - val_loss: 0.4069 - val_accuracy: 0.8582\n",
      "Epoch 13/20\n",
      "1719/1719 [==============================] - 4s 2ms/step - loss: 0.3997 - accuracy: 0.8572 - val_loss: 0.4009 - val_accuracy: 0.8588\n",
      "Epoch 14/20\n",
      "1719/1719 [==============================] - 4s 2ms/step - loss: 0.3935 - accuracy: 0.8600 - val_loss: 0.3986 - val_accuracy: 0.8608\n",
      "Epoch 15/20\n",
      "1719/1719 [==============================] - 4s 2ms/step - loss: 0.3881 - accuracy: 0.8621 - val_loss: 0.3946 - val_accuracy: 0.8626\n",
      "Epoch 16/20\n",
      "1719/1719 [==============================] - 4s 2ms/step - loss: 0.3833 - accuracy: 0.8639 - val_loss: 0.3893 - val_accuracy: 0.8630\n",
      "Epoch 17/20\n",
      "1719/1719 [==============================] - 4s 2ms/step - loss: 0.3785 - accuracy: 0.8654 - val_loss: 0.3863 - val_accuracy: 0.8640\n",
      "Epoch 18/20\n",
      "1719/1719 [==============================] - 4s 2ms/step - loss: 0.3745 - accuracy: 0.8669 - val_loss: 0.3820 - val_accuracy: 0.8652\n",
      "Epoch 19/20\n",
      "1719/1719 [==============================] - 4s 2ms/step - loss: 0.3702 - accuracy: 0.8680 - val_loss: 0.3799 - val_accuracy: 0.8666\n",
      "Epoch 20/20\n",
      "1719/1719 [==============================] - 4s 2ms/step - loss: 0.3664 - accuracy: 0.8699 - val_loss: 0.3777 - val_accuracy: 0.8670\n"
     ]
    }
   ],
   "source": [
    "# 如果再次直接fit是接着之前的进行训练的，如果要从头训练，要重新执行上面代码\n",
    "history = model.fit(x_train_scaled, y_train, epochs=20,\n",
    "                   validation_data=(x_valid_scaled, y_valid))"
   ]
  },
  {
   "cell_type": "code",
   "execution_count": 17,
   "id": "fa93af6f",
   "metadata": {},
   "outputs": [
    {
     "name": "stdout",
     "output_type": "stream",
     "text": [
      "<class 'dict'>\n",
      "{'loss': [1.041986346244812, 0.6389613151550293, 0.5556644797325134, 0.5142748951911926, 0.4878493547439575, 0.4687194526195526, 0.45340198278427124, 0.44077742099761963, 0.43022286891937256, 0.42107003927230835, 0.4131822884082794, 0.4059796929359436, 0.39967280626296997, 0.3935428559780121, 0.3881371021270752, 0.3832540214061737, 0.3784952759742737, 0.3744893968105316, 0.37018853425979614, 0.366357684135437], 'accuracy': [0.6691454648971558, 0.7793818116188049, 0.8039818406105042, 0.8178545236587524, 0.8267090916633606, 0.832836389541626, 0.8374909162521362, 0.8428363800048828, 0.8460000157356262, 0.8500545620918274, 0.852509081363678, 0.8557636141777039, 0.857236385345459, 0.8599636554718018, 0.8621090650558472, 0.8639090657234192, 0.8653818368911743, 0.8668727278709412, 0.8679817914962769, 0.8699272871017456], 'val_loss': [0.6967434883117676, 0.5742730498313904, 0.522861123085022, 0.49132025241851807, 0.4696308970451355, 0.45682084560394287, 0.44412657618522644, 0.4319858253002167, 0.42591026425361633, 0.4172099530696869, 0.4116460978984833, 0.40692418813705444, 0.4009086489677429, 0.39862269163131714, 0.39461302757263184, 0.38926196098327637, 0.3863345980644226, 0.3820244371891022, 0.37992724776268005, 0.3777400553226471], 'val_accuracy': [0.7638000249862671, 0.796999990940094, 0.8155999779701233, 0.8274000287055969, 0.8353999853134155, 0.8399999737739563, 0.8435999751091003, 0.8456000089645386, 0.848800003528595, 0.854200005531311, 0.853600025177002, 0.8582000136375427, 0.8587999939918518, 0.86080002784729, 0.8626000285148621, 0.8629999756813049, 0.8640000224113464, 0.8651999831199646, 0.866599977016449, 0.8669999837875366]}\n"
     ]
    }
   ],
   "source": [
    "print(type(history.history))\n",
    "print(history.history)"
   ]
  },
  {
   "cell_type": "code",
   "execution_count": 18,
   "id": "1c1a1538",
   "metadata": {},
   "outputs": [
    {
     "data": {
      "image/png": "[encoded data removed]",
      "text/plain": [
       "<Figure size 576x360 with 1 Axes>"
      ]
     },
     "metadata": {
      "needs_background": "light"
     },
     "output_type": "display_data"
    }
   ],
   "source": [
    "def plot_learning_curves(history):\n",
    "    pd.DataFrame(history.history).plot(figsize=(8, 5))\n",
    "    plt.grid(True)\n",
    "    plt.gca().set_ylim(0, 1)\n",
    "    plt.show()\n",
    "\n",
    "plot_learning_curves(history)"
   ]
  },
  {
   "cell_type": "code",
   "execution_count": 19,
   "id": "b4c866bf",
   "metadata": {},
   "outputs": [
    {
     "data": {
      "text/plain": [
       "[0.4116840362548828, 0.8525000214576721]"
      ]
     },
     "execution_count": 19,
     "metadata": {},
     "output_type": "execute_result"
    }
   ],
   "source": [
    "model.evaluate(x_test_scaled, y_test, verbose=0)"
   ]
  },
  {
   "cell_type": "code",
   "execution_count": null,
   "id": "951c17fb",
   "metadata": {},
   "outputs": [],
   "source": []
  }
 ],
 "metadata": {
  "kernelspec": {
   "display_name": "Python 3",
   "language": "python",
   "name": "python3"
  },
  "language_info": {
   "codemirror_mode": {
    "name": "ipython",
    "version": 3
   },
   "file_extension": ".py",
   "mimetype": "text/x-python",
   "name": "python",
   "nbconvert_exporter": "python",
   "pygments_lexer": "ipython3",
   "version": "3.6.9"
  }
 },
 "nbformat": 4,
 "nbformat_minor": 5
}
