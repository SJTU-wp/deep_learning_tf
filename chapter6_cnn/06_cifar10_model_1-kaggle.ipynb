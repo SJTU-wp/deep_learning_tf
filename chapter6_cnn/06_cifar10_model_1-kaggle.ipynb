{
 "cells": [
  {
   "cell_type": "code",
   "execution_count": 1,
   "metadata": {
    "execution": {
     "iopub.execute_input": "2022-05-06T11:18:35.948698Z",
     "iopub.status.busy": "2022-05-06T11:18:35.948330Z",
     "iopub.status.idle": "2022-05-06T11:18:41.656070Z",
     "shell.execute_reply": "2022-05-06T11:18:41.654548Z",
     "shell.execute_reply.started": "2022-05-06T11:18:35.948586Z"
    }
   },
   "outputs": [
    {
     "name": "stdout",
     "output_type": "stream",
     "text": [
      "2.6.3\n",
      "sys.version_info(major=3, minor=7, micro=12, releaselevel='final', serial=0)\n",
      "matplotlib 3.5.1\n",
      "numpy 1.21.6\n",
      "pandas 1.3.5\n",
      "sklearn 1.0.2\n",
      "tensorflow 2.6.3\n",
      "keras.api._v2.keras 2.6.0\n"
     ]
    }
   ],
   "source": [
    "%matplotlib inline\n",
    "import matplotlib as mpl\n",
    "import matplotlib.pyplot as plt\n",
    "import numpy as np\n",
    "import os\n",
    "import pandas as pd\n",
    "import sklearn\n",
    "import sys\n",
    "import tensorflow as tf\n",
    "import time\n",
    "\n",
    "from tensorflow import keras\n",
    "\n",
    "print(tf.__version__)\n",
    "print(sys.version_info)\n",
    "for module in mpl, np, pd, sklearn, tf, keras:\n",
    "    print(module.__name__, module.__version__)"
   ]
  },
  {
   "cell_type": "code",
   "execution_count": 2,
   "metadata": {
    "execution": {
     "iopub.execute_input": "2022-05-06T11:18:41.658097Z",
     "iopub.status.busy": "2022-05-06T11:18:41.657749Z",
     "iopub.status.idle": "2022-05-06T11:18:42.400897Z",
     "shell.execute_reply": "2022-05-06T11:18:42.400068Z",
     "shell.execute_reply.started": "2022-05-06T11:18:41.658050Z"
    }
   },
   "outputs": [
    {
     "name": "stdout",
     "output_type": "stream",
     "text": [
      "Fri May  6 11:18:42 2022       \n",
      "+-----------------------------------------------------------------------------+\n",
      "| NVIDIA-SMI 470.82.01    Driver Version: 470.82.01    CUDA Version: 11.4     |\n",
      "|-------------------------------+----------------------+----------------------+\n",
      "| GPU  Name        Persistence-M| Bus-Id        Disp.A | Volatile Uncorr. ECC |\n",
      "| Fan  Temp  Perf  Pwr:Usage/Cap|         Memory-Usage | GPU-Util  Compute M. |\n",
      "|                               |                      |               MIG M. |\n",
      "|===============================+======================+======================|\n",
      "|   0  Tesla P100-PCIE...  Off  | 00000000:00:04.0 Off |                    0 |\n",
      "| N/A   32C    P0    26W / 250W |      0MiB / 16280MiB |      0%      Default |\n",
      "|                               |                      |                  N/A |\n",
      "+-------------------------------+----------------------+----------------------+\n",
      "                                                                               \n",
      "+-----------------------------------------------------------------------------+\n",
      "| Processes:                                                                  |\n",
      "|  GPU   GI   CI        PID   Type   Process name                  GPU Memory |\n",
      "|        ID   ID                                                   Usage      |\n",
      "|=============================================================================|\n",
      "|  No running processes found                                                 |\n",
      "+-----------------------------------------------------------------------------+\n"
     ]
    }
   ],
   "source": [
    "!nvidia-smi"
   ]
  },
  {
   "cell_type": "code",
   "execution_count": 3,
   "metadata": {
    "execution": {
     "iopub.execute_input": "2022-05-06T11:18:42.403852Z",
     "iopub.status.busy": "2022-05-06T11:18:42.403553Z",
     "iopub.status.idle": "2022-05-06T11:18:43.068362Z",
     "shell.execute_reply": "2022-05-06T11:18:43.067546Z",
     "shell.execute_reply.started": "2022-05-06T11:18:42.403815Z"
    }
   },
   "outputs": [
    {
     "name": "stdout",
     "output_type": "stream",
     "text": [
      "sampleSubmission.csv  test.7z  train.7z  trainLabels.csv\n"
     ]
    }
   ],
   "source": [
    "!ls ../input/cifar-10"
   ]
  },
  {
   "cell_type": "code",
   "execution_count": 4,
   "metadata": {
    "execution": {
     "iopub.execute_input": "2022-05-06T11:18:43.071184Z",
     "iopub.status.busy": "2022-05-06T11:18:43.070903Z",
     "iopub.status.idle": "2022-05-06T11:20:19.321894Z",
     "shell.execute_reply": "2022-05-06T11:20:19.321005Z",
     "shell.execute_reply.started": "2022-05-06T11:18:43.071147Z"
    }
   },
   "outputs": [
    {
     "name": "stdout",
     "output_type": "stream",
     "text": [
      "Collecting py7zr\n",
      "  Downloading py7zr-0.18.5.tar.gz (4.3 MB)\n",
      "\u001b[2K     \u001b[90m━━━━━━━━━━━━━━━━━━━━━━━━━━━━━━━━━━━━━━━━\u001b[0m \u001b[32m4.3/4.3 MB\u001b[0m \u001b[31m9.3 MB/s\u001b[0m eta \u001b[36m0:00:00\u001b[0m:00:01\u001b[0m0:01\u001b[0m\n",
      "\u001b[?25h  Installing build dependencies ... \u001b[?25ldone\n",
      "\u001b[?25h  Getting requirements to build wheel ... \u001b[?25ldone\n",
      "\u001b[?25h  Preparing metadata (pyproject.toml) ... \u001b[?25ldone\n",
      "\u001b[?25hCollecting multivolumefile>=0.2.3\n",
      "  Downloading multivolumefile-0.2.3-py3-none-any.whl (17 kB)\n",
      "Collecting zipfile-deflate64>=0.2.0\n",
      "  Downloading zipfile_deflate64-0.2.0-cp37-cp37m-manylinux_2_17_x86_64.manylinux2014_x86_64.whl (43 kB)\n",
      "\u001b[2K     \u001b[90m━━━━━━━━━━━━━━━━━━━━━━━━━━━━━━━━━━━━━━━━\u001b[0m \u001b[32m43.5/43.5 KB\u001b[0m \u001b[31m3.9 MB/s\u001b[0m eta \u001b[36m0:00:00\u001b[0m\n",
      "\u001b[?25hCollecting pybcj>=0.5.0\n",
      "  Downloading pybcj-0.5.2-cp37-cp37m-manylinux_2_17_x86_64.manylinux2014_x86_64.whl (57 kB)\n",
      "\u001b[2K     \u001b[90m━━━━━━━━━━━━━━━━━━━━━━━━━━━━━━━━━━━━━━━━\u001b[0m \u001b[32m57.8/57.8 KB\u001b[0m \u001b[31m5.5 MB/s\u001b[0m eta \u001b[36m0:00:00\u001b[0m\n",
      "\u001b[?25hCollecting pyzstd>=0.14.4\n",
      "  Downloading pyzstd-0.15.2-cp37-cp37m-manylinux_2_17_x86_64.manylinux2014_x86_64.whl (2.4 MB)\n",
      "\u001b[2K     \u001b[90m━━━━━━━━━━━━━━━━━━━━━━━━━━━━━━━━━━━━━━━━\u001b[0m \u001b[32m2.4/2.4 MB\u001b[0m \u001b[31m62.1 MB/s\u001b[0m eta \u001b[36m0:00:00\u001b[0m:00:01\u001b[0m\n",
      "\u001b[?25hCollecting pyppmd<0.19.0,>=0.18.1\n",
      "  Downloading pyppmd-0.18.2-cp37-cp37m-manylinux_2_17_x86_64.manylinux2014_x86_64.whl (131 kB)\n",
      "\u001b[2K     \u001b[90m━━━━━━━━━━━━━━━━━━━━━━━━━━━━━━━━━━━━━━\u001b[0m \u001b[32m131.6/131.6 KB\u001b[0m \u001b[31m12.8 MB/s\u001b[0m eta \u001b[36m0:00:00\u001b[0m\n",
      "\u001b[?25hRequirement already satisfied: psutil in /opt/conda/lib/python3.7/site-packages (from py7zr) (5.9.0)\n",
      "Collecting brotli>=1.0.9\n",
      "  Downloading Brotli-1.0.9-cp37-cp37m-manylinux1_x86_64.whl (357 kB)\n",
      "\u001b[2K     \u001b[90m━━━━━━━━━━━━━━━━━━━━━━━━━━━━━━━━━━━━━━\u001b[0m \u001b[32m357.2/357.2 KB\u001b[0m \u001b[31m29.0 MB/s\u001b[0m eta \u001b[36m0:00:00\u001b[0m\n",
      "\u001b[?25hRequirement already satisfied: importlib-metadata in /opt/conda/lib/python3.7/site-packages (from py7zr) (4.11.3)\n",
      "Collecting pycryptodomex>=3.6.6\n",
      "  Downloading pycryptodomex-3.14.1-cp35-abi3-manylinux2010_x86_64.whl (2.0 MB)\n",
      "\u001b[2K     \u001b[90m━━━━━━━━━━━━━━━━━━━━━━━━━━━━━━━━━━━━━━━━\u001b[0m \u001b[32m2.0/2.0 MB\u001b[0m \u001b[31m66.9 MB/s\u001b[0m eta \u001b[36m0:00:00\u001b[0m\n",
      "\u001b[?25hRequirement already satisfied: texttable in /opt/conda/lib/python3.7/site-packages (from py7zr) (1.6.4)\n",
      "Requirement already satisfied: typing-extensions>=3.6.4 in /opt/conda/lib/python3.7/site-packages (from importlib-metadata->py7zr) (4.2.0)\n",
      "Requirement already satisfied: zipp>=0.5 in /opt/conda/lib/python3.7/site-packages (from importlib-metadata->py7zr) (3.7.0)\n",
      "Building wheels for collected packages: py7zr\n",
      "  Building wheel for py7zr (pyproject.toml) ... \u001b[?25ldone\n",
      "\u001b[?25h  Created wheel for py7zr: filename=py7zr-0.18.5-py3-none-any.whl size=67393 sha256=aaecdd81ad64b787f7ecc872c2461f212005fd61476171b911d89301d3d8ce2e\n",
      "  Stored in directory: /root/.cache/pip/wheels/c8/f6/f8/9a860b95b853b2a891d478d2d2afde2fc0460514a7015d15d5\n",
      "Successfully built py7zr\n",
      "Installing collected packages: brotli, zipfile-deflate64, pyzstd, pyppmd, pycryptodomex, multivolumefile, pybcj, py7zr\n",
      "Successfully installed brotli-1.0.9 multivolumefile-0.2.3 py7zr-0.18.5 pybcj-0.5.2 pycryptodomex-3.14.1 pyppmd-0.18.2 pyzstd-0.15.2 zipfile-deflate64-0.2.0\n",
      "\u001b[33mWARNING: Running pip as the 'root' user can result in broken permissions and conflicting behaviour with the system package manager. It is recommended to use a virtual environment instead: https://pip.pypa.io/warnings/venv\u001b[0m\u001b[33m\n",
      "\u001b[0mNote: you may need to restart the kernel to use updated packages.\n"
     ]
    }
   ],
   "source": [
    "%pip install py7zr\n",
    "import py7zr\n",
    "a = py7zr.SevenZipFile(r'../input/cifar-10/train.7z','r')\n",
    "a.extractall(path=r'./')\n",
    "a.close()"
   ]
  },
  {
   "cell_type": "code",
   "execution_count": 5,
   "metadata": {
    "execution": {
     "iopub.execute_input": "2022-05-06T11:20:19.323932Z",
     "iopub.status.busy": "2022-05-06T11:20:19.323391Z",
     "iopub.status.idle": "2022-05-06T11:35:06.034595Z",
     "shell.execute_reply": "2022-05-06T11:35:06.033632Z",
     "shell.execute_reply.started": "2022-05-06T11:20:19.323888Z"
    }
   },
   "outputs": [],
   "source": [
    "b = py7zr.SevenZipFile(r'../input/cifar-10/test.7z','r')\n",
    "b.extractall(path=r'./')\n",
    "b.close()"
   ]
  },
  {
   "cell_type": "code",
   "execution_count": 6,
   "metadata": {
    "execution": {
     "iopub.execute_input": "2022-05-06T11:35:06.036239Z",
     "iopub.status.busy": "2022-05-06T11:35:06.035961Z",
     "iopub.status.idle": "2022-05-06T11:35:06.698203Z",
     "shell.execute_reply": "2022-05-06T11:35:06.697293Z",
     "shell.execute_reply.started": "2022-05-06T11:35:06.036203Z"
    }
   },
   "outputs": [
    {
     "name": "stdout",
     "output_type": "stream",
     "text": [
      "input  lib  working\n"
     ]
    }
   ],
   "source": [
    "!ls .."
   ]
  },
  {
   "cell_type": "code",
   "execution_count": 7,
   "metadata": {
    "execution": {
     "iopub.execute_input": "2022-05-06T11:35:06.701874Z",
     "iopub.status.busy": "2022-05-06T11:35:06.701641Z",
     "iopub.status.idle": "2022-05-06T11:35:07.402545Z",
     "shell.execute_reply": "2022-05-06T11:35:07.401694Z",
     "shell.execute_reply.started": "2022-05-06T11:35:06.701846Z"
    }
   },
   "outputs": [
    {
     "name": "stdout",
     "output_type": "stream",
     "text": [
      "cifar-10\n"
     ]
    }
   ],
   "source": [
    "!ls ../input"
   ]
  },
  {
   "cell_type": "code",
   "execution_count": 8,
   "metadata": {
    "execution": {
     "iopub.execute_input": "2022-05-06T11:35:07.406222Z",
     "iopub.status.busy": "2022-05-06T11:35:07.405928Z",
     "iopub.status.idle": "2022-05-06T11:35:08.066963Z",
     "shell.execute_reply": "2022-05-06T11:35:08.066150Z",
     "shell.execute_reply.started": "2022-05-06T11:35:07.406190Z"
    }
   },
   "outputs": [
    {
     "name": "stdout",
     "output_type": "stream",
     "text": [
      "/kaggle/working\n"
     ]
    }
   ],
   "source": [
    "!pwd"
   ]
  },
  {
   "cell_type": "markdown",
   "metadata": {},
   "source": [
    "## 输入数据处理"
   ]
  },
  {
   "cell_type": "code",
   "execution_count": 9,
   "metadata": {
    "execution": {
     "iopub.execute_input": "2022-05-06T11:35:08.069218Z",
     "iopub.status.busy": "2022-05-06T11:35:08.068919Z",
     "iopub.status.idle": "2022-05-06T11:35:08.920910Z",
     "shell.execute_reply": "2022-05-06T11:35:08.920164Z",
     "shell.execute_reply.started": "2022-05-06T11:35:08.069178Z"
    }
   },
   "outputs": [
    {
     "name": "stdout",
     "output_type": "stream",
     "text": [
      "[('./train/1.png', 'frog'),\n",
      " ('./train/2.png', 'truck'),\n",
      " ('./train/3.png', 'truck'),\n",
      " ('./train/4.png', 'deer'),\n",
      " ('./train/5.png', 'automobile')]\n",
      "[('./test/1.png', 'cat'),\n",
      " ('./test/2.png', 'cat'),\n",
      " ('./test/3.png', 'cat'),\n",
      " ('./test/4.png', 'cat'),\n",
      " ('./test/5.png', 'cat')]\n",
      "50000 300000\n"
     ]
    }
   ],
   "source": [
    "# 所有的类别\n",
    "class_names = [\n",
    "    'airplane',\n",
    "    'automobile',\n",
    "    'bird',\n",
    "    'cat',\n",
    "    'deer',\n",
    "    'dog',\n",
    "    'frog',\n",
    "    'horse',\n",
    "    'ship',\n",
    "    'truck',\n",
    "]\n",
    "\n",
    "train_lables_file = '../input/cifar-10/trainLabels.csv'\n",
    "test_csv_file = '../input/cifar-10/sampleSubmission.csv'\n",
    "train_folder = './train/'\n",
    "test_folder = './test/'\n",
    "\n",
    "def parse_csv_file(filepath, folder):\n",
    "    \"\"\"Parses csv files into (filename(path), label) format\"\"\"\n",
    "    results = []\n",
    "    # 读取所有行\n",
    "    with open(filepath, 'r') as f:\n",
    "#         lines = f.readlines()  为什么加[1:]？ 有标题head\n",
    "        lines = f.readlines()[1:]\n",
    "    for line in lines:\n",
    "        image_id, label_str = line.strip('\\n').split(',')\n",
    "        image_full_path = os.path.join(folder, image_id + '.png')\n",
    "        results.append((image_full_path, label_str))\n",
    "    return results\n",
    "\n",
    "# 解析对应的文件夹\n",
    "train_labels_info = parse_csv_file(train_lables_file, train_folder)\n",
    "test_csv_info = parse_csv_file(test_csv_file, test_folder)\n",
    "\n",
    "# 打印\n",
    "import pprint\n",
    "pprint.pprint(train_labels_info[0:5])\n",
    "pprint.pprint(test_csv_info[0:5])\n",
    "print(len(train_labels_info), len(test_csv_info))"
   ]
  },
  {
   "cell_type": "code",
   "execution_count": 10,
   "metadata": {
    "execution": {
     "iopub.execute_input": "2022-05-06T11:35:08.924365Z",
     "iopub.status.busy": "2022-05-06T11:35:08.924155Z",
     "iopub.status.idle": "2022-05-06T11:35:09.017285Z",
     "shell.execute_reply": "2022-05-06T11:35:09.016542Z",
     "shell.execute_reply.started": "2022-05-06T11:35:08.924340Z"
    }
   },
   "outputs": [
    {
     "name": "stdout",
     "output_type": "stream",
     "text": [
      "        filepath       class\n",
      "0  ./train/1.png        frog\n",
      "1  ./train/2.png       truck\n",
      "2  ./train/3.png       truck\n",
      "3  ./train/4.png        deer\n",
      "4  ./train/5.png  automobile\n",
      "            filepath       class\n",
      "0  ./train/45001.png       horse\n",
      "1  ./train/45002.png  automobile\n",
      "2  ./train/45003.png        deer\n",
      "3  ./train/45004.png  automobile\n",
      "4  ./train/45005.png    airplane\n",
      "       filepath class\n",
      "0  ./test/1.png   cat\n",
      "1  ./test/2.png   cat\n",
      "2  ./test/3.png   cat\n",
      "3  ./test/4.png   cat\n",
      "4  ./test/5.png   cat\n"
     ]
    }
   ],
   "source": [
    "# train_df = pd.DataFrame(train_labels_info)\n",
    "train_df = pd.DataFrame(train_labels_info[0:45000])\n",
    "valid_df = pd.DataFrame(train_labels_info[45000:])\n",
    "test_df = pd.DataFrame(test_csv_info)\n",
    "\n",
    "train_df.columns = ['filepath', 'class']\n",
    "valid_df.columns = ['filepath', 'class']\n",
    "test_df.columns = ['filepath', 'class']\n",
    "\n",
    "print(train_df.head())\n",
    "print(valid_df.head())\n",
    "print(test_df.head())"
   ]
  },
  {
   "cell_type": "code",
   "execution_count": null,
   "metadata": {},
   "outputs": [],
   "source": []
  },
  {
   "cell_type": "markdown",
   "metadata": {},
   "source": [
    "## 模型搭建"
   ]
  },
  {
   "cell_type": "code",
   "execution_count": 11,
   "metadata": {
    "execution": {
     "iopub.execute_input": "2022-05-06T11:35:09.019198Z",
     "iopub.status.busy": "2022-05-06T11:35:09.018408Z",
     "iopub.status.idle": "2022-05-06T11:35:09.492239Z",
     "shell.execute_reply": "2022-05-06T11:35:09.491491Z",
     "shell.execute_reply.started": "2022-05-06T11:35:09.019161Z"
    }
   },
   "outputs": [
    {
     "name": "stdout",
     "output_type": "stream",
     "text": [
      "Found 45000 validated image filenames belonging to 10 classes.\n",
      "Found 5000 validated image filenames belonging to 10 classes.\n",
      "45000 5000\n"
     ]
    }
   ],
   "source": [
    "height = 32\n",
    "width = 32\n",
    "channels = 3\n",
    "batch_size = 32\n",
    "num_classes = 10\n",
    "\n",
    "train_datagen = keras.preprocessing.image.ImageDataGenerator(\n",
    "    rescale = 1./255,\n",
    "    rotation_range = 40,\n",
    "    width_shift_range = 0.2,\n",
    "    height_shift_range = 0.2,\n",
    "    shear_range = 0.2,\n",
    "    zoom_range = 0.2,\n",
    "    horizontal_flip = True,\n",
    "    fill_mode = 'nearest',\n",
    ")\n",
    "train_generator = train_datagen.flow_from_dataframe(\n",
    "    train_df,\n",
    "    directory = './',\n",
    "    x_col = 'filepath',\n",
    "    y_col = 'class',\n",
    "    # 将labels转换为id\n",
    "    classes = class_names,\n",
    "    target_size = (height, width),\n",
    "    batch_size = batch_size,\n",
    "    seed = 7,\n",
    "    shuffle = True,\n",
    "    class_mode = 'sparse',\n",
    ")\n",
    "\n",
    "# 和上面一致\n",
    "valid_datagen = keras.preprocessing.image.ImageDataGenerator(\n",
    "    rescale = 1./255)\n",
    "valid_generator = valid_datagen.flow_from_dataframe(\n",
    "    valid_df,\n",
    "    directory = './',\n",
    "    x_col = 'filepath',\n",
    "    y_col = 'class',\n",
    "    classes = class_names,\n",
    "    target_size = (height, width),\n",
    "    batch_size = batch_size,\n",
    "    seed = 7,\n",
    "    shuffle = False,\n",
    "    class_mode = \"sparse\")\n",
    "\n",
    "train_num = train_generator.samples\n",
    "valid_num = valid_generator.samples\n",
    "print(train_num, valid_num)"
   ]
  },
  {
   "cell_type": "code",
   "execution_count": 12,
   "metadata": {
    "execution": {
     "iopub.execute_input": "2022-05-06T11:35:09.493837Z",
     "iopub.status.busy": "2022-05-06T11:35:09.493381Z",
     "iopub.status.idle": "2022-05-06T11:35:09.594168Z",
     "shell.execute_reply": "2022-05-06T11:35:09.593337Z",
     "shell.execute_reply.started": "2022-05-06T11:35:09.493799Z"
    }
   },
   "outputs": [
    {
     "name": "stdout",
     "output_type": "stream",
     "text": [
      "(32, 32, 32, 3) (32,)\n",
      "[2. 1. 4. 4. 4. 4. 6. 5. 2. 8. 4. 6. 6. 3. 7. 1. 7. 2. 8. 8. 3. 0. 5. 3.\n",
      " 9. 1. 4. 5. 6. 7. 9. 2.]\n",
      "(32, 32, 32, 3) (32,)\n",
      "[0. 7. 2. 7. 5. 5. 7. 0. 5. 4. 9. 7. 6. 3. 0. 4. 4. 4. 6. 3. 5. 4. 6. 6.\n",
      " 4. 1. 8. 2. 4. 4. 3. 0.]\n"
     ]
    }
   ],
   "source": [
    "for i in range(2):\n",
    "    x, y = train_generator.next()\n",
    "    print(x.shape, y.shape)\n",
    "    print(y)"
   ]
  },
  {
   "cell_type": "code",
   "execution_count": 13,
   "metadata": {
    "execution": {
     "iopub.execute_input": "2022-05-06T11:35:09.596607Z",
     "iopub.status.busy": "2022-05-06T11:35:09.596314Z",
     "iopub.status.idle": "2022-05-06T11:35:12.125460Z",
     "shell.execute_reply": "2022-05-06T11:35:12.124771Z",
     "shell.execute_reply.started": "2022-05-06T11:35:09.596559Z"
    }
   },
   "outputs": [
    {
     "name": "stderr",
     "output_type": "stream",
     "text": [
      "2022-05-06 11:35:09.725146: I tensorflow/stream_executor/cuda/cuda_gpu_executor.cc:937] successful NUMA node read from SysFS had negative value (-1), but there must be at least one NUMA node, so returning NUMA node zero\n"
     ]
    },
    {
     "name": "stdout",
     "output_type": "stream",
     "text": [
      "Model: \"sequential\"\n",
      "_________________________________________________________________\n",
      "Layer (type)                 Output Shape              Param #   \n",
      "=================================================================\n",
      "conv2d (Conv2D)              (None, 32, 32, 128)       3584      \n",
      "_________________________________________________________________\n",
      "batch_normalization (BatchNo (None, 32, 32, 128)       512       \n",
      "_________________________________________________________________\n",
      "conv2d_1 (Conv2D)            (None, 32, 32, 128)       147584    \n",
      "_________________________________________________________________\n",
      "batch_normalization_1 (Batch (None, 32, 32, 128)       512       \n",
      "_________________________________________________________________\n",
      "max_pooling2d (MaxPooling2D) (None, 16, 16, 128)       0         \n",
      "_________________________________________________________________\n",
      "conv2d_2 (Conv2D)            (None, 16, 16, 256)       295168    \n",
      "_________________________________________________________________\n",
      "batch_normalization_2 (Batch (None, 16, 16, 256)       1024      \n",
      "_________________________________________________________________\n",
      "conv2d_3 (Conv2D)            (None, 16, 16, 256)       590080    \n",
      "_________________________________________________________________\n",
      "batch_normalization_3 (Batch (None, 16, 16, 256)       1024      \n",
      "_________________________________________________________________\n",
      "max_pooling2d_1 (MaxPooling2 (None, 8, 8, 256)         0         \n",
      "_________________________________________________________________\n",
      "conv2d_4 (Conv2D)            (None, 8, 8, 512)         1180160   \n",
      "_________________________________________________________________\n",
      "batch_normalization_4 (Batch (None, 8, 8, 512)         2048      \n",
      "_________________________________________________________________\n",
      "conv2d_5 (Conv2D)            (None, 8, 8, 512)         2359808   \n",
      "_________________________________________________________________\n",
      "batch_normalization_5 (Batch (None, 8, 8, 512)         2048      \n",
      "_________________________________________________________________\n",
      "max_pooling2d_2 (MaxPooling2 (None, 4, 4, 512)         0         \n",
      "_________________________________________________________________\n",
      "flatten (Flatten)            (None, 8192)              0         \n",
      "_________________________________________________________________\n",
      "dense (Dense)                (None, 512)               4194816   \n",
      "_________________________________________________________________\n",
      "dense_1 (Dense)              (None, 10)                5130      \n",
      "=================================================================\n",
      "Total params: 8,783,498\n",
      "Trainable params: 8,779,914\n",
      "Non-trainable params: 3,584\n",
      "_________________________________________________________________\n"
     ]
    },
    {
     "name": "stderr",
     "output_type": "stream",
     "text": [
      "2022-05-06 11:35:09.836670: I tensorflow/stream_executor/cuda/cuda_gpu_executor.cc:937] successful NUMA node read from SysFS had negative value (-1), but there must be at least one NUMA node, so returning NUMA node zero\n",
      "2022-05-06 11:35:09.837439: I tensorflow/stream_executor/cuda/cuda_gpu_executor.cc:937] successful NUMA node read from SysFS had negative value (-1), but there must be at least one NUMA node, so returning NUMA node zero\n",
      "2022-05-06 11:35:09.838926: I tensorflow/core/platform/cpu_feature_guard.cc:142] This TensorFlow binary is optimized with oneAPI Deep Neural Network Library (oneDNN) to use the following CPU instructions in performance-critical operations:  AVX2 AVX512F FMA\n",
      "To enable them in other operations, rebuild TensorFlow with the appropriate compiler flags.\n",
      "2022-05-06 11:35:09.839246: I tensorflow/stream_executor/cuda/cuda_gpu_executor.cc:937] successful NUMA node read from SysFS had negative value (-1), but there must be at least one NUMA node, so returning NUMA node zero\n",
      "2022-05-06 11:35:09.839931: I tensorflow/stream_executor/cuda/cuda_gpu_executor.cc:937] successful NUMA node read from SysFS had negative value (-1), but there must be at least one NUMA node, so returning NUMA node zero\n",
      "2022-05-06 11:35:09.840596: I tensorflow/stream_executor/cuda/cuda_gpu_executor.cc:937] successful NUMA node read from SysFS had negative value (-1), but there must be at least one NUMA node, so returning NUMA node zero\n",
      "2022-05-06 11:35:11.664981: I tensorflow/stream_executor/cuda/cuda_gpu_executor.cc:937] successful NUMA node read from SysFS had negative value (-1), but there must be at least one NUMA node, so returning NUMA node zero\n",
      "2022-05-06 11:35:11.665832: I tensorflow/stream_executor/cuda/cuda_gpu_executor.cc:937] successful NUMA node read from SysFS had negative value (-1), but there must be at least one NUMA node, so returning NUMA node zero\n",
      "2022-05-06 11:35:11.666546: I tensorflow/stream_executor/cuda/cuda_gpu_executor.cc:937] successful NUMA node read from SysFS had negative value (-1), but there must be at least one NUMA node, so returning NUMA node zero\n",
      "2022-05-06 11:35:11.667951: I tensorflow/core/common_runtime/gpu/gpu_device.cc:1510] Created device /job:localhost/replica:0/task:0/device:GPU:0 with 15403 MB memory:  -> device: 0, name: Tesla P100-PCIE-16GB, pci bus id: 0000:00:04.0, compute capability: 6.0\n"
     ]
    }
   ],
   "source": [
    "model = keras.models.Sequential([\n",
    "    keras.layers.Conv2D(filters=128, kernel_size=3, padding='same',\n",
    "                        activation='selu', \n",
    "                        input_shape=[width, height, channels]),\n",
    "    keras.layers.BatchNormalization(),  # 为了是模型训练的更快\n",
    "    keras.layers.Conv2D(filters=128, kernel_size=3, padding='same',\n",
    "                        activation='selu'),\n",
    "    keras.layers.BatchNormalization(),\n",
    "    keras.layers.MaxPool2D(pool_size=2),\n",
    "    \n",
    "    keras.layers.Conv2D(filters=256, kernel_size=3, padding='same',\n",
    "                        activation='selu'),\n",
    "    keras.layers.BatchNormalization(),\n",
    "    keras.layers.Conv2D(filters=256, kernel_size=3, padding='same',\n",
    "                        activation='selu'),\n",
    "    keras.layers.BatchNormalization(),\n",
    "    keras.layers.MaxPool2D(pool_size=2),\n",
    "    keras.layers.Conv2D(filters=512, kernel_size=3, padding='same',\n",
    "                        activation='selu'),\n",
    "    keras.layers.BatchNormalization(),\n",
    "    keras.layers.Conv2D(filters=512, kernel_size=3, padding='same',\n",
    "                        activation='selu'),\n",
    "    keras.layers.BatchNormalization(),\n",
    "    keras.layers.MaxPool2D(pool_size=2),\n",
    "    keras.layers.Flatten(),\n",
    "    keras.layers.Dense(512, activation='selu'),\n",
    "    keras.layers.Dense(num_classes, activation='softmax'),\n",
    "])\n",
    "\n",
    "model.compile(loss=\"sparse_categorical_crossentropy\",\n",
    "              optimizer=\"adam\", metrics=['accuracy'])\n",
    "model.summary()"
   ]
  },
  {
   "cell_type": "code",
   "execution_count": null,
   "metadata": {},
   "outputs": [],
   "source": []
  },
  {
   "cell_type": "markdown",
   "metadata": {},
   "source": [
    "## 模型训练与预测"
   ]
  },
  {
   "cell_type": "code",
   "execution_count": 14,
   "metadata": {
    "execution": {
     "iopub.execute_input": "2022-05-06T11:35:12.126804Z",
     "iopub.status.busy": "2022-05-06T11:35:12.126507Z",
     "iopub.status.idle": "2022-05-06T11:55:32.475167Z",
     "shell.execute_reply": "2022-05-06T11:55:32.474467Z",
     "shell.execute_reply.started": "2022-05-06T11:35:12.126775Z"
    }
   },
   "outputs": [
    {
     "name": "stderr",
     "output_type": "stream",
     "text": [
      "/opt/conda/lib/python3.7/site-packages/keras/engine/training.py:1972: UserWarning: `Model.fit_generator` is deprecated and will be removed in a future version. Please use `Model.fit`, which supports generators.\n",
      "  warnings.warn('`Model.fit_generator` is deprecated and '\n"
     ]
    },
    {
     "name": "stdout",
     "output_type": "stream",
     "text": [
      "Epoch 1/20\n"
     ]
    },
    {
     "name": "stderr",
     "output_type": "stream",
     "text": [
      "2022-05-06 11:35:12.228878: I tensorflow/compiler/mlir/mlir_graph_optimization_pass.cc:185] None of the MLIR Optimization Passes are enabled (registered 2)\n",
      "2022-05-06 11:35:13.751257: I tensorflow/stream_executor/cuda/cuda_dnn.cc:369] Loaded cuDNN version 8005\n"
     ]
    },
    {
     "name": "stdout",
     "output_type": "stream",
     "text": [
      "1406/1406 [==============================] - 56s 35ms/step - loss: 2.2071 - accuracy: 0.3073 - val_loss: 3.3623 - val_accuracy: 0.1707\n",
      "Epoch 2/20\n",
      "1406/1406 [==============================] - 47s 33ms/step - loss: 1.6145 - accuracy: 0.4196 - val_loss: 1.8046 - val_accuracy: 0.4433\n",
      "Epoch 3/20\n",
      "1406/1406 [==============================] - 47s 34ms/step - loss: 1.4228 - accuracy: 0.4971 - val_loss: 1.2136 - val_accuracy: 0.5853\n",
      "Epoch 4/20\n",
      "1406/1406 [==============================] - 46s 33ms/step - loss: 1.2502 - accuracy: 0.5658 - val_loss: 1.2626 - val_accuracy: 0.5978\n",
      "Epoch 5/20\n",
      "1406/1406 [==============================] - 47s 33ms/step - loss: 1.1200 - accuracy: 0.6169 - val_loss: 0.9012 - val_accuracy: 0.7009\n",
      "Epoch 6/20\n",
      "1406/1406 [==============================] - 47s 33ms/step - loss: 1.0010 - accuracy: 0.6602 - val_loss: 1.0206 - val_accuracy: 0.6899\n",
      "Epoch 7/20\n",
      "1406/1406 [==============================] - 47s 33ms/step - loss: 0.9162 - accuracy: 0.6887 - val_loss: 0.7960 - val_accuracy: 0.7554\n",
      "Epoch 8/20\n",
      "1406/1406 [==============================] - 46s 33ms/step - loss: 0.8657 - accuracy: 0.7110 - val_loss: 0.8248 - val_accuracy: 0.7566\n",
      "Epoch 9/20\n",
      "1406/1406 [==============================] - 48s 34ms/step - loss: 0.8089 - accuracy: 0.7321 - val_loss: 0.7063 - val_accuracy: 0.7897\n",
      "Epoch 10/20\n",
      "1406/1406 [==============================] - 48s 34ms/step - loss: 0.7534 - accuracy: 0.7486 - val_loss: 0.8567 - val_accuracy: 0.7448\n",
      "Epoch 11/20\n",
      "1406/1406 [==============================] - 47s 34ms/step - loss: 0.7288 - accuracy: 0.7605 - val_loss: 0.6832 - val_accuracy: 0.7965\n",
      "Epoch 12/20\n",
      "1406/1406 [==============================] - 47s 33ms/step - loss: 0.6889 - accuracy: 0.7724 - val_loss: 0.7542 - val_accuracy: 0.7738\n",
      "Epoch 13/20\n",
      "1406/1406 [==============================] - 47s 33ms/step - loss: 0.6667 - accuracy: 0.7785 - val_loss: 0.6051 - val_accuracy: 0.8137\n",
      "Epoch 14/20\n",
      "1406/1406 [==============================] - 47s 33ms/step - loss: 0.6429 - accuracy: 0.7884 - val_loss: 0.6532 - val_accuracy: 0.8035\n",
      "Epoch 15/20\n",
      "1406/1406 [==============================] - 47s 34ms/step - loss: 0.6082 - accuracy: 0.7957 - val_loss: 0.6394 - val_accuracy: 0.8179\n",
      "Epoch 16/20\n",
      "1406/1406 [==============================] - 46s 33ms/step - loss: 0.5880 - accuracy: 0.8086 - val_loss: 0.5201 - val_accuracy: 0.8458\n",
      "Epoch 17/20\n",
      "1406/1406 [==============================] - 46s 33ms/step - loss: 0.5771 - accuracy: 0.8111 - val_loss: 0.5338 - val_accuracy: 0.8351\n",
      "Epoch 18/20\n",
      "1406/1406 [==============================] - 48s 34ms/step - loss: 0.5525 - accuracy: 0.8171 - val_loss: 0.5940 - val_accuracy: 0.8295\n",
      "Epoch 19/20\n",
      "1406/1406 [==============================] - 47s 34ms/step - loss: 0.5474 - accuracy: 0.8198 - val_loss: 0.6484 - val_accuracy: 0.8195\n",
      "Epoch 20/20\n",
      "1406/1406 [==============================] - 48s 34ms/step - loss: 0.5163 - accuracy: 0.8291 - val_loss: 0.5204 - val_accuracy: 0.8448\n"
     ]
    }
   ],
   "source": [
    "epochs = 20\n",
    "history = model.fit_generator(train_generator,\n",
    "                              steps_per_epoch = train_num // batch_size,\n",
    "                              epochs = epochs,\n",
    "                              validation_data = valid_generator,\n",
    "                              validation_steps = valid_num // batch_size)"
   ]
  },
  {
   "cell_type": "code",
   "execution_count": 15,
   "metadata": {
    "execution": {
     "iopub.execute_input": "2022-05-06T11:55:32.477445Z",
     "iopub.status.busy": "2022-05-06T11:55:32.476636Z",
     "iopub.status.idle": "2022-05-06T11:55:32.903642Z",
     "shell.execute_reply": "2022-05-06T11:55:32.902938Z",
     "shell.execute_reply.started": "2022-05-06T11:55:32.477408Z"
    }
   },
   "outputs": [
    {
     "name": "stdout",
     "output_type": "stream",
     "text": [
      "{'loss': [2.207136631011963, 1.6144514083862305, 1.422829270362854, 1.2502093315124512, 1.1199811697006226, 1.0010251998901367, 0.9162353277206421, 0.8656941056251526, 0.8088860511779785, 0.753378689289093, 0.7287601828575134, 0.6888875961303711, 0.6667081117630005, 0.6429041624069214, 0.6081956028938293, 0.5880463123321533, 0.5770969390869141, 0.5525394678115845, 0.5474033355712891, 0.5162511467933655], 'accuracy': [0.3072851896286011, 0.4196317493915558, 0.4970868229866028, 0.5658023357391357, 0.6168830990791321, 0.6602250337600708, 0.688734233379364, 0.7110167145729065, 0.7321206331253052, 0.7486434578895569, 0.7605408430099487, 0.7723714709281921, 0.7785091400146484, 0.7884050607681274, 0.7956769466400146, 0.8085749745368958, 0.8110879063606262, 0.8170921802520752, 0.8197829723358154, 0.8291451930999756], 'val_loss': [3.362283229827881, 1.8045501708984375, 1.2136178016662598, 1.262642741203308, 0.9011897444725037, 1.020581603050232, 0.7959745526313782, 0.824800431728363, 0.7063392400741577, 0.8566890358924866, 0.6831974387168884, 0.7542110681533813, 0.605056643486023, 0.6532442569732666, 0.6393641829490662, 0.5201120972633362, 0.533764660358429, 0.5939639806747437, 0.6484489440917969, 0.5204060673713684], 'val_accuracy': [0.17067307233810425, 0.44330930709838867, 0.5853365659713745, 0.5977563858032227, 0.7009214758872986, 0.6899038553237915, 0.7554086446762085, 0.7566105723381042, 0.7896634340286255, 0.7447916865348816, 0.7964743375778198, 0.7738381624221802, 0.8137019276618958, 0.8034855723381042, 0.8179086446762085, 0.8457531929016113, 0.8351362347602844, 0.8295272588729858, 0.8195112347602844, 0.8447515964508057]}\n"
     ]
    },
    {
     "data": {
      "image/png": "[encoded data removed]",
      "text/plain": [
       "<Figure size 576x360 with 1 Axes>"
      ]
     },
     "metadata": {
      "needs_background": "light"
     },
     "output_type": "display_data"
    },
    {
     "data": {
      "image/png": "[encoded data removed]",
      "text/plain": [
       "<Figure size 576x360 with 1 Axes>"
      ]
     },
     "metadata": {
      "needs_background": "light"
     },
     "output_type": "display_data"
    }
   ],
   "source": [
    "print(history.history)\n",
    "def plot_learning_curves(history, label, epcohs, min_value, max_value):\n",
    "    data = {}\n",
    "    data[label] = history.history[label]\n",
    "    data['val_'+label] = history.history['val_'+label]\n",
    "    pd.DataFrame(data).plot(figsize=(8, 5))\n",
    "    plt.grid(True)\n",
    "    plt.axis([0, epochs, min_value, max_value])\n",
    "    plt.show()\n",
    "    \n",
    "plot_learning_curves(history, 'accuracy', epochs, 0, 1)\n",
    "plot_learning_curves(history, 'loss', epochs, 0, 2)"
   ]
  },
  {
   "cell_type": "code",
   "execution_count": 16,
   "metadata": {
    "execution": {
     "iopub.execute_input": "2022-05-06T11:55:32.904984Z",
     "iopub.status.busy": "2022-05-06T11:55:32.904748Z",
     "iopub.status.idle": "2022-05-06T11:55:35.678306Z",
     "shell.execute_reply": "2022-05-06T11:55:35.677538Z",
     "shell.execute_reply.started": "2022-05-06T11:55:32.904951Z"
    }
   },
   "outputs": [
    {
     "name": "stdout",
     "output_type": "stream",
     "text": [
      "Found 300000 validated image filenames belonging to 10 classes.\n",
      "300000\n"
     ]
    }
   ],
   "source": [
    "test_datagen = keras.preprocessing.image.ImageDataGenerator(\n",
    "    rescale = 1./255)\n",
    "test_generator = valid_datagen.flow_from_dataframe(\n",
    "    test_df,\n",
    "    directory = './',\n",
    "    x_col = 'filepath',\n",
    "    y_col = 'class',\n",
    "    classes = class_names,\n",
    "    target_size = (height, width),\n",
    "    batch_size = batch_size,\n",
    "    seed = 7,\n",
    "    shuffle = False,\n",
    "    class_mode = \"sparse\")\n",
    "test_num = test_generator.samples\n",
    "print(test_num)"
   ]
  },
  {
   "cell_type": "code",
   "execution_count": 17,
   "metadata": {
    "execution": {
     "iopub.execute_input": "2022-05-06T11:55:35.680069Z",
     "iopub.status.busy": "2022-05-06T11:55:35.679655Z",
     "iopub.status.idle": "2022-05-06T11:56:59.429207Z",
     "shell.execute_reply": "2022-05-06T11:56:59.427751Z",
     "shell.execute_reply.started": "2022-05-06T11:55:35.680020Z"
    }
   },
   "outputs": [
    {
     "name": "stderr",
     "output_type": "stream",
     "text": [
      "/opt/conda/lib/python3.7/site-packages/keras/engine/training.py:2035: UserWarning: `Model.predict_generator` is deprecated and will be removed in a future version. Please use `Model.predict`, which supports generators.\n",
      "  warnings.warn('`Model.predict_generator` is deprecated and '\n"
     ]
    }
   ],
   "source": [
    "# 正式预测\n",
    "test_predict = model.predict_generator(test_generator,\n",
    "                                       workers = 3,\n",
    "                                       use_multiprocessing = True)"
   ]
  },
  {
   "cell_type": "code",
   "execution_count": 18,
   "metadata": {
    "execution": {
     "iopub.execute_input": "2022-05-06T11:56:59.432716Z",
     "iopub.status.busy": "2022-05-06T11:56:59.432391Z",
     "iopub.status.idle": "2022-05-06T11:56:59.441864Z",
     "shell.execute_reply": "2022-05-06T11:56:59.440954Z",
     "shell.execute_reply.started": "2022-05-06T11:56:59.432674Z"
    }
   },
   "outputs": [
    {
     "name": "stdout",
     "output_type": "stream",
     "text": [
      "(300000, 10)\n"
     ]
    }
   ],
   "source": [
    "print(test_predict.shape)"
   ]
  },
  {
   "cell_type": "code",
   "execution_count": 19,
   "metadata": {
    "execution": {
     "iopub.execute_input": "2022-05-06T11:56:59.444148Z",
     "iopub.status.busy": "2022-05-06T11:56:59.443839Z",
     "iopub.status.idle": "2022-05-06T11:56:59.454152Z",
     "shell.execute_reply": "2022-05-06T11:56:59.452856Z",
     "shell.execute_reply.started": "2022-05-06T11:56:59.444112Z"
    }
   },
   "outputs": [
    {
     "name": "stdout",
     "output_type": "stream",
     "text": [
      "[[1.0432401e-01 9.5843628e-02 3.9092276e-02 1.5465358e-01 1.0063549e-01\n",
      "  4.0646728e-02 3.1479482e-02 2.9842138e-02 1.8830433e-02 3.8465223e-01]\n",
      " [9.9680531e-01 3.6376783e-05 4.2367916e-04 6.8557914e-05 5.7347163e-05\n",
      "  6.5358741e-05 7.0586638e-04 5.2897736e-05 3.2018856e-04 1.4644426e-03]\n",
      " [2.7071899e-08 9.9997401e-01 1.5141208e-09 4.6047968e-11 1.8533126e-11\n",
      "  4.9709187e-10 4.1539029e-11 2.8108160e-11 6.0665272e-08 2.5869280e-05]\n",
      " [2.4715494e-03 9.9860923e-04 5.0779232e-05 1.0592443e-05 3.6207327e-06\n",
      "  4.5571392e-06 3.3111996e-06 5.9014046e-06 9.9599046e-01 4.6071745e-04]\n",
      " [9.9579310e-01 7.4242480e-06 3.2204443e-03 1.2513029e-04 1.2351960e-04\n",
      "  9.5428790e-05 5.6345591e-05 5.0091101e-05 4.9397780e-04 3.4505571e-05]]\n"
     ]
    }
   ],
   "source": [
    "print(test_predict[0:5])"
   ]
  },
  {
   "cell_type": "code",
   "execution_count": null,
   "metadata": {},
   "outputs": [],
   "source": []
  },
  {
   "cell_type": "markdown",
   "metadata": {},
   "source": [
    "## 预测结果提交"
   ]
  },
  {
   "cell_type": "code",
   "execution_count": 20,
   "metadata": {
    "execution": {
     "iopub.execute_input": "2022-05-06T11:56:59.456008Z",
     "iopub.status.busy": "2022-05-06T11:56:59.455659Z",
     "iopub.status.idle": "2022-05-06T11:56:59.508444Z",
     "shell.execute_reply": "2022-05-06T11:56:59.504802Z",
     "shell.execute_reply.started": "2022-05-06T11:56:59.455971Z"
    }
   },
   "outputs": [],
   "source": [
    "test_predict_class_indices = np.argmax(test_predict, axis = 1)"
   ]
  },
  {
   "cell_type": "code",
   "execution_count": 21,
   "metadata": {
    "execution": {
     "iopub.execute_input": "2022-05-06T11:56:59.513228Z",
     "iopub.status.busy": "2022-05-06T11:56:59.512976Z",
     "iopub.status.idle": "2022-05-06T11:56:59.533163Z",
     "shell.execute_reply": "2022-05-06T11:56:59.530506Z",
     "shell.execute_reply.started": "2022-05-06T11:56:59.513196Z"
    }
   },
   "outputs": [
    {
     "name": "stdout",
     "output_type": "stream",
     "text": [
      "[9 0 1 8 0]\n"
     ]
    }
   ],
   "source": [
    "print(test_predict_class_indices[0:5])"
   ]
  },
  {
   "cell_type": "code",
   "execution_count": 22,
   "metadata": {
    "execution": {
     "iopub.execute_input": "2022-05-06T11:56:59.536149Z",
     "iopub.status.busy": "2022-05-06T11:56:59.535907Z",
     "iopub.status.idle": "2022-05-06T11:56:59.694289Z",
     "shell.execute_reply": "2022-05-06T11:56:59.693359Z",
     "shell.execute_reply.started": "2022-05-06T11:56:59.536118Z"
    }
   },
   "outputs": [],
   "source": [
    "test_predict_class = [class_names[index] \n",
    "                      for index in test_predict_class_indices]"
   ]
  },
  {
   "cell_type": "code",
   "execution_count": 23,
   "metadata": {
    "execution": {
     "iopub.execute_input": "2022-05-06T11:56:59.698756Z",
     "iopub.status.busy": "2022-05-06T11:56:59.698493Z",
     "iopub.status.idle": "2022-05-06T11:56:59.708383Z",
     "shell.execute_reply": "2022-05-06T11:56:59.707509Z",
     "shell.execute_reply.started": "2022-05-06T11:56:59.698723Z"
    }
   },
   "outputs": [
    {
     "name": "stdout",
     "output_type": "stream",
     "text": [
      "['truck', 'airplane', 'automobile', 'ship', 'airplane']\n"
     ]
    }
   ],
   "source": [
    "print(test_predict_class[0:5])"
   ]
  },
  {
   "cell_type": "code",
   "execution_count": 24,
   "metadata": {
    "execution": {
     "iopub.execute_input": "2022-05-06T11:56:59.712881Z",
     "iopub.status.busy": "2022-05-06T11:56:59.712653Z",
     "iopub.status.idle": "2022-05-06T11:56:59.890026Z",
     "shell.execute_reply": "2022-05-06T11:56:59.889322Z",
     "shell.execute_reply.started": "2022-05-06T11:56:59.712850Z"
    }
   },
   "outputs": [],
   "source": [
    "# 产生最终的报告\n",
    "def generate_submissions(filename, predict_class):\n",
    "    with open(filename, 'w') as f:\n",
    "        f.write('id,label\\n')\n",
    "        for i in range(len(predict_class)):\n",
    "            f.write('%d,%s\\n' % (i+1, predict_class[i]))\n",
    "\n",
    "output_file = \"../submission.csv\"\n",
    "generate_submissions(output_file, test_predict_class)"
   ]
  },
  {
   "cell_type": "code",
   "execution_count": 25,
   "metadata": {
    "execution": {
     "iopub.execute_input": "2022-05-06T11:56:59.893265Z",
     "iopub.status.busy": "2022-05-06T11:56:59.893041Z",
     "iopub.status.idle": "2022-05-06T11:57:00.601227Z",
     "shell.execute_reply": "2022-05-06T11:57:00.600382Z",
     "shell.execute_reply.started": "2022-05-06T11:56:59.893241Z"
    }
   },
   "outputs": [
    {
     "name": "stdout",
     "output_type": "stream",
     "text": [
      "input  lib  submission.csv  working\n"
     ]
    }
   ],
   "source": [
    "!ls .."
   ]
  }
 ],
 "metadata": {
  "kernelspec": {
   "display_name": "Python 3",
   "language": "python",
   "name": "python3"
  },
  "language_info": {
   "codemirror_mode": {
    "name": "ipython",
    "version": 3
   },
   "file_extension": ".py",
   "mimetype": "text/x-python",
   "name": "python",
   "nbconvert_exporter": "python",
   "pygments_lexer": "ipython3",
   "version": "3.6.9"
  }
 },
 "nbformat": 4,
 "nbformat_minor": 4
}
