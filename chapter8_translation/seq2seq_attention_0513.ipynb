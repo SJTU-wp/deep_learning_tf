{
 "cells": [
  {
   "cell_type": "code",
   "execution_count": 1,
   "metadata": {},
   "outputs": [
    {
     "name": "stdout",
     "output_type": "stream",
     "text": [
      "2.2.0\n",
      "sys.version_info(major=3, minor=6, micro=9, releaselevel='final', serial=0)\n",
      "matplotlib 3.2.1\n",
      "numpy 1.18.5\n",
      "pandas 1.0.4\n",
      "sklearn 0.23.1\n",
      "tensorflow 2.2.0\n",
      "tensorflow.keras 2.3.0-tf\n"
     ]
    }
   ],
   "source": [
    "%matplotlib inline\n",
    "import matplotlib as mpl\n",
    "import matplotlib.pyplot as plt\n",
    "import numpy as np\n",
    "import os\n",
    "import pandas as pd\n",
    "import sklearn\n",
    "import sys\n",
    "import tensorflow as tf\n",
    "import time\n",
    "\n",
    "from tensorflow import keras\n",
    "\n",
    "print(tf.__version__)\n",
    "print(sys.version_info)\n",
    "for module in mpl, np, pd, sklearn, tf, keras:\n",
    "    print(module.__name__, module.__version__)"
   ]
  },
  {
   "cell_type": "code",
   "execution_count": 2,
   "metadata": {},
   "outputs": [],
   "source": [
    "import unicodedata\n",
    "import re\n",
    "from sklearn.model_selection import train_test_split"
   ]
  },
  {
   "cell_type": "code",
   "execution_count": 3,
   "metadata": {},
   "outputs": [
    {
     "name": "stdout",
     "output_type": "stream",
     "text": [
      "May I borrow this book?\n",
      "¿Puedo tomar prestado este libro?\n",
      "<start> may i borrow this book ? <end>\n",
      "<start> ¿ puedo tomar prestado este libro ? <end>\n",
      "b'<start> \\xc2\\xbf puedo tomar prestado este libro ? <end>'\n"
     ]
    }
   ],
   "source": [
    "#因为西班牙语有一些是特殊字符，所以我们需要unicode转ascii，\n",
    "# 这样值变小了，因为unicode太大\n",
    "def unicode_to_ascii(s):\n",
    "    #NFD是转换方法，把每一个字节拆开，Mn是重音，所以去除\n",
    "    return ''.join(c for c in unicodedata.normalize('NFD', s) if unicodedata.category(c) != 'Mn')\n",
    "\n",
    "#下面我们找个样本测试一下\n",
    "# 加u代表对字符串进行unicode编码\n",
    "en_sentence = u\"May I borrow this book?\"\n",
    "sp_sentence = u\"¿Puedo tomar prestado este libro?\"\n",
    "\n",
    "print(unicode_to_ascii(en_sentence))\n",
    "print(unicode_to_ascii(sp_sentence))\n",
    "\n",
    "\n",
    "def preprocess_sentence(w):\n",
    "    #变为小写，去掉多余的空格\n",
    "    w = unicode_to_ascii(w.lower().strip())\n",
    "\n",
    "    # 在单词与跟在其后的标点符号之间插入一个空格\n",
    "    # eg: \"he is a boy.\" => \"he is a boy .\"\n",
    "    # Reference:- https://stackoverflow.com/questions/3645931/python-padding-punctuation-with-white-spaces-keeping-punctuation\n",
    "    w = re.sub(r\"([?.!,¿])\", r\" \\1 \", w)\n",
    "    #因为可能有多余空格，替换为一个空格，所以处理一下\n",
    "    w = re.sub(r'[\" \"]+', \" \", w)\n",
    "\n",
    "    # 除了 (a-z, A-Z, \".\", \"?\", \"!\", \",\")，将所有字符替换为空格\n",
    "    w = re.sub(r\"[^a-zA-Z?.!,¿]+\", \" \", w)\n",
    "\n",
    "    w = w.rstrip().strip()\n",
    "\n",
    "    # adding a start and an end token to the sentence\n",
    "    # so that the model know when to start and stop predicting.\n",
    "    w = '<start> ' + w + ' <end>'\n",
    "    return w\n",
    "\n",
    "print(preprocess_sentence(en_sentence))\n",
    "print(preprocess_sentence(sp_sentence))\n",
    "print(preprocess_sentence(sp_sentence).encode('utf-8'))  #¿是占用两个字节的"
   ]
  },
  {
   "cell_type": "code",
   "execution_count": 10,
   "metadata": {},
   "outputs": [
    {
     "name": "stdout",
     "output_type": "stream",
     "text": [
      "<class 'tuple'>\n",
      "<class 'tuple'>\n",
      "118964\n",
      "<start> if you want to sound like a native speaker , you must be willing to practice saying the same sentence over and over in the same way that banjo players practice the same phrase over and over until they can play it correctly and at the desired tempo . <end>\n",
      "<start> si quieres sonar como un hablante nativo , debes estar dispuesto a practicar diciendo la misma frase una y otra vez de la misma manera en que un musico de banjo practica el mismo fraseo una y otra vez hasta que lo puedan tocar correctamente y en el tiempo esperado . <end>\n"
     ]
    }
   ],
   "source": [
    "data_path = './data_spa_en/spa.txt'\n",
    "\n",
    "# 1. Remove the accents  移除口音\n",
    "# 2. Clean the sentences\n",
    "# 3. Return word pairs in the format: [ENGLISH, SPANISH]--> 前面西班牙，后面英文\n",
    "def create_dataset(path, num_examples):\n",
    "    lines = open(path, encoding='UTF-8').read().strip().split('\\n')\n",
    "    #word_pairs是二维列表\n",
    "    word_pairs = [[preprocess_sentence(w) for w in l.split('\\t')]  for l in lines[:num_examples]]\n",
    "    \n",
    "    return zip(*word_pairs)\n",
    "\n",
    "en, sp = create_dataset(data_path, None)\n",
    "print(type(en))\n",
    "print(type(sp))\n",
    "print(len(en))\n",
    "print(en[-1])\n",
    "print(sp[-1])\n"
   ]
  },
  {
   "cell_type": "code",
   "execution_count": 5,
   "metadata": {},
   "outputs": [
    {
     "name": "stdout",
     "output_type": "stream",
     "text": [
      "(1, 3, 5) (2, 4, 6)\n"
     ]
    }
   ],
   "source": [
    "#如何理解上面的zip\n",
    "a=[ [1, 2],[3,4],[5,6] ]\n",
    "c,d=zip(*a)\n",
    "print(c,d)\n"
   ]
  },
  {
   "cell_type": "code",
   "execution_count": 11,
   "metadata": {},
   "outputs": [
    {
     "name": "stdout",
     "output_type": "stream",
     "text": [
      "--------------------------------------------------\n",
      "(30000, 16) (30000, 11) <keras_preprocessing.text.Tokenizer object at 0x7fcb1020dc18> <keras_preprocessing.text.Tokenizer object at 0x7fca7da92e48>\n",
      "--------------------------------------------------\n",
      "[  1 135   3   2   0   0   0   0   0   0   0   0   0   0   0   0]\n",
      "[ 1 36  3  2  0  0  0  0  0  0  0]\n",
      "[   1   23 2175   10   39   98   87  314    3    2    0    0    0    0\n",
      "    0    0]\n",
      "[ 1 16 38 72  6 55  3  2  0  0  0]\n",
      "11 16\n"
     ]
    }
   ],
   "source": [
    "def max_length(tensor):\n",
    "    return max(len(t) for t in tensor)\n",
    "\n",
    "def tokenize(lang):\n",
    "    #Tokenizer帮我们把词语式的转换为id式的，filters是黑名单\n",
    "    lang_tokenizer = tf.keras.preprocessing.text.Tokenizer(filters='')\n",
    "    lang_tokenizer.fit_on_texts(lang)\n",
    "    #把一个一个的单词变为id\n",
    "    tensor = lang_tokenizer.texts_to_sequences(lang)\n",
    "    #做padding，向最大的补齐\n",
    "    tensor = tf.keras.preprocessing.sequence.pad_sequences(tensor, padding='post')\n",
    "    return tensor, lang_tokenizer\n",
    "\n",
    "def load_dataset(path, num_examples=None):\n",
    "    # creating cleaned input, output pairs，目前是西班牙语翻译为英语\n",
    "    targ_lang, inp_lang = create_dataset(path, num_examples)  #如果要翻译互换，只需交换这里\n",
    "\n",
    "    input_tensor, inp_lang_tokenizer = tokenize(inp_lang)\n",
    "    target_tensor, targ_lang_tokenizer = tokenize(targ_lang)\n",
    "\n",
    "    return input_tensor, target_tensor, inp_lang_tokenizer, targ_lang_tokenizer\n",
    "\n",
    "# Try experimenting with the size of that dataset\n",
    "num_examples = 30000\n",
    "#inp_lang  targ_lang 是tokenizer\n",
    "input_tensor, target_tensor, inp_lang, targ_lang = load_dataset(data_path, num_examples)\n",
    "print('-'*50)\n",
    "print(input_tensor.shape, target_tensor.shape, inp_lang, targ_lang)\n",
    "print('-'*50)\n",
    "print(input_tensor[0])\n",
    "print(target_tensor[0])\n",
    "print(input_tensor[29999])\n",
    "print(target_tensor[29999])\n",
    "# Calculate max_length of the target tensors，可以看下最长的样本\n",
    "max_length_targ, max_length_inp = max_length(target_tensor), max_length(input_tensor)\n",
    "print(max_length_targ, max_length_inp)"
   ]
  },
  {
   "cell_type": "code",
   "execution_count": 12,
   "metadata": {},
   "outputs": [
    {
     "data": {
      "text/plain": [
       "(24000, 24000, 6000, 6000)"
      ]
     },
     "execution_count": 12,
     "metadata": {},
     "output_type": "execute_result"
    }
   ],
   "source": [
    "# Creating training and validation sets using an 80-20 split\n",
    "input_tensor_train, input_tensor_val, target_tensor_train, target_tensor_val = train_test_split(input_tensor, target_tensor, test_size=0.2)\n",
    "\n",
    "# Show length\n",
    "len(input_tensor_train), len(target_tensor_train), len(input_tensor_val), len(target_tensor_val)"
   ]
  },
  {
   "cell_type": "code",
   "execution_count": 13,
   "metadata": {},
   "outputs": [
    {
     "name": "stdout",
     "output_type": "stream",
     "text": [
      "Input Language; index to word mapping\n",
      "1 ----> <start>\n",
      "672 ----> paga\n",
      "18 ----> lo\n",
      "11 ----> que\n",
      "2013 ----> puedas\n",
      "3 ----> .\n",
      "2 ----> <end>\n",
      "\n",
      "Target Language; index to word mapping\n",
      "1 ----> <start>\n",
      "166 ----> pay\n",
      "32 ----> what\n",
      "6 ----> you\n",
      "25 ----> can\n",
      "3 ----> .\n",
      "2 ----> <end>\n"
     ]
    }
   ],
   "source": [
    "#按单词进行切分的\n",
    "def convert(lang, tensor):\n",
    "    for t in tensor:\n",
    "        #不等于0，就打印转换\n",
    "        if t != 0:\n",
    "            print (\"%d ----> %s\" % (t, lang.index_word[t]))\n",
    "            \n",
    "print(\"Input Language; index to word mapping\")\n",
    "convert(inp_lang, input_tensor_train[0])\n",
    "print()\n",
    "print(\"Target Language; index to word mapping\")\n",
    "convert(targ_lang, target_tensor_train[0])\n",
    "#可以发现tokenizer正常工作"
   ]
  },
  {
   "cell_type": "code",
   "execution_count": 18,
   "metadata": {},
   "outputs": [
    {
     "name": "stdout",
     "output_type": "stream",
     "text": [
      "9414\n",
      "4935\n",
      "<BatchDataset shapes: ((64, 16), (64, 11)), types: (tf.int32, tf.int32)>\n"
     ]
    }
   ],
   "source": [
    "#分batch\n",
    "BUFFER_SIZE = len(input_tensor_train)  #就是3万\n",
    "BATCH_SIZE = 64\n",
    "steps_per_epoch = len(input_tensor_train)//BATCH_SIZE\n",
    "#下面两个都是超参数\n",
    "embedding_dim = 256\n",
    "units = 1024\n",
    "#输入的,加1考虑到padding的0\n",
    "vocab_inp_size = len(inp_lang.word_index)+1\n",
    "print(vocab_inp_size)\n",
    "#输出,加1考虑到padding的0\n",
    "vocab_tar_size = len(targ_lang.word_index)+1\n",
    "print(vocab_tar_size)\n",
    "#训练集\n",
    "dataset = tf.data.Dataset.from_tensor_slices((input_tensor_train, target_tensor_train)).shuffle(BUFFER_SIZE)\n",
    "dataset = dataset.batch(BATCH_SIZE, drop_remainder=True) #最后一个batch丢弃\n",
    "print(dataset)"
   ]
  },
  {
   "cell_type": "code",
   "execution_count": 19,
   "metadata": {},
   "outputs": [
    {
     "data": {
      "text/plain": [
       "(TensorShape([64, 16]), TensorShape([64, 11]))"
      ]
     },
     "execution_count": 19,
     "metadata": {},
     "output_type": "execute_result"
    }
   ],
   "source": [
    "#测试，看一下迭代\n",
    "example_input_batch, example_target_batch = next(iter(dataset))\n",
    "example_input_batch.shape, example_target_batch.shape"
   ]
  },
  {
   "cell_type": "code",
   "execution_count": 26,
   "metadata": {},
   "outputs": [
    {
     "name": "stdout",
     "output_type": "stream",
     "text": [
      "Encoder output shape: (batch size, sequence length, units) (64, 16, 1024)\n",
      "Encoder Hidden state shape: (batch size, units) (64, 1024)\n"
     ]
    }
   ],
   "source": [
    "#手法和之前的类似\n",
    "class Encoder(tf.keras.Model):\n",
    "    def __init__(self, vocab_size, embedding_dim, encoding_units, batch_size):\n",
    "        super(Encoder, self).__init__()\n",
    "        self.batch_size = batch_size\n",
    "        #编码单元\n",
    "        self.encoding_units = encoding_units\n",
    "        #创建Embedding层\n",
    "        self.embedding = keras.layers.Embedding(vocab_size, embedding_dim)\n",
    "        #定义GRU层，gru是lstm变种，gru把遗忘门和输入门变为一个，因为遗忘门+输入门=1\n",
    "        #return_state返回最后一个细胞的中间状态\n",
    "        self.gru = keras.layers.GRU(self.encoding_units,\n",
    "                                    return_sequences=True,\n",
    "                                    return_state=True,\n",
    "                                    recurrent_initializer='glorot_uniform')\n",
    "\n",
    "    def call(self, x, hidden):\n",
    "        x = self.embedding(x)\n",
    "        output,state= self.gru(x, initial_state = hidden)\n",
    "        return output,state\n",
    "\n",
    "    def initialize_hidden_state(self):#初始化全零的隐含状态\n",
    "        return tf.zeros((self.batch_size, self.encoding_units))\n",
    "    \n",
    "encoder = Encoder(vocab_inp_size, embedding_dim, units, BATCH_SIZE)\n",
    "#获得初始化的hidden\n",
    "sample_hidden = encoder.initialize_hidden_state()\n",
    "#获得输出和隐含状态\n",
    "sample_output, sample_hidden = encoder(example_input_batch, sample_hidden)\n",
    "#输出的16是长度，1024是状态的size,是因为return_sequences为True，每一个输出都需要\n",
    "print('Encoder output shape: (batch size, sequence length, units) {}'.format(sample_output.shape))\n",
    "print('Encoder Hidden state shape: (batch size, units) {}'.format(sample_hidden.shape))"
   ]
  },
  {
   "cell_type": "code",
   "execution_count": 27,
   "metadata": {},
   "outputs": [
    {
     "data": {
      "text/plain": [
       "[<tf.Variable 'encoder_6/embedding_6/embeddings:0' shape=(9414, 256) dtype=float32, numpy=\n",
       " array([[-0.03553637, -0.04353706,  0.03136202, ..., -0.01515442,\n",
       "         -0.03494088, -0.01228908],\n",
       "        [-0.0388881 , -0.04562544, -0.00351948, ..., -0.03283929,\n",
       "         -0.02874957,  0.02998232],\n",
       "        [-0.03387655,  0.00259097, -0.01135256, ..., -0.02419512,\n",
       "          0.04306822, -0.04351121],\n",
       "        ...,\n",
       "        [-0.01920031, -0.00929072,  0.00704632, ...,  0.02848459,\n",
       "          0.00017399, -0.03214165],\n",
       "        [-0.04380487,  0.01680365, -0.0319392 , ..., -0.01022736,\n",
       "          0.01199377,  0.035752  ],\n",
       "        [ 0.00819758, -0.01752452,  0.03422225, ...,  0.00308167,\n",
       "          0.02921994, -0.04516277]], dtype=float32)>,\n",
       " <tf.Variable 'encoder_6/gru_6/gru_cell_6/kernel:0' shape=(256, 3072) dtype=float32, numpy=\n",
       " array([[-0.03043626, -0.0334848 , -0.01388703, ...,  0.00317538,\n",
       "         -0.00156642, -0.01457381],\n",
       "        [-0.01617251, -0.02193342,  0.01174243, ...,  0.02261529,\n",
       "         -0.01544123, -0.01547809],\n",
       "        [ 0.01504255,  0.01724569,  0.02155332, ..., -0.01800662,\n",
       "         -0.02686521,  0.03529236],\n",
       "        ...,\n",
       "        [ 0.01221149,  0.00972551,  0.01216998, ...,  0.0113596 ,\n",
       "          0.01897673, -0.01075274],\n",
       "        [-0.03820639,  0.02290817,  0.01919942, ...,  0.03749806,\n",
       "          0.02200481,  0.01018377],\n",
       "        [ 0.002251  ,  0.03782532,  0.03445634, ..., -0.00305951,\n",
       "         -0.0150057 , -0.02804204]], dtype=float32)>,\n",
       " <tf.Variable 'encoder_6/gru_6/gru_cell_6/recurrent_kernel:0' shape=(1024, 3072) dtype=float32, numpy=\n",
       " array([[ 0.03222056, -0.00415545, -0.03018513, ..., -0.00023684,\n",
       "          0.0340515 , -0.02504225],\n",
       "        [ 0.03392654, -0.01321092,  0.02123051, ..., -0.023062  ,\n",
       "         -0.03245869, -0.00313411],\n",
       "        [ 0.00995426, -0.01225121,  0.00066165, ...,  0.00908132,\n",
       "         -0.00068156, -0.00178658],\n",
       "        ...,\n",
       "        [-0.03625102,  0.00676085, -0.018146  , ..., -0.03470833,\n",
       "         -0.03650321, -0.00445816],\n",
       "        [ 0.00131916,  0.00255723,  0.00309873, ...,  0.03298204,\n",
       "          0.03672018,  0.00099555],\n",
       "        [-0.01940772,  0.0191545 , -0.00720209, ..., -0.0223798 ,\n",
       "          0.03769823,  0.03689853]], dtype=float32)>,\n",
       " <tf.Variable 'encoder_6/gru_6/gru_cell_6/bias:0' shape=(2, 3072) dtype=float32, numpy=\n",
       " array([[0., 0., 0., ..., 0., 0., 0.],\n",
       "        [0., 0., 0., ..., 0., 0., 0.]], dtype=float32)>]"
      ]
     },
     "execution_count": 27,
     "metadata": {},
     "output_type": "execute_result"
    }
   ],
   "source": [
    "#理解模型中去做的运算\n",
    "encoder.variables"
   ]
  },
  {
   "cell_type": "code",
   "execution_count": 29,
   "metadata": {},
   "outputs": [
    {
     "name": "stdout",
     "output_type": "stream",
     "text": [
      "(64, 16, 1024)\n",
      "Attention result shape: (batch size, units) (64, 1024)\n",
      "Attention weights shape: (batch_size, sequence_length, 1) (64, 16, 1)\n"
     ]
    }
   ],
   "source": [
    "#实现Attention机制\n",
    "class BahdanauAttention(tf.keras.Model):\n",
    "    def __init__(self, units):\n",
    "        super(BahdanauAttention, self).__init__()\n",
    "        #做全连接\n",
    "        self.W1 = tf.keras.layers.Dense(units)\n",
    "        self.W2 = tf.keras.layers.Dense(units)\n",
    "        self.V = tf.keras.layers.Dense(1)\n",
    "    \n",
    "    #query传的是decoder_hidden,values是EO\n",
    "    def call(self, query, values):\n",
    "        # deocoder_hidden.shape: (batch_size,units )\n",
    "        # encoder outputs.shape: ( batch size, length,units )\n",
    "        #做维度扩展，扩展前后对比是下面两行\n",
    "        # hidden shape == (batch_size, hidden size)\n",
    "        # hidden_with_time_axis shape == (batch_size, 1, hidden size)\n",
    "        # we are doing this to perform addition to calculate the score\n",
    "        hidden_with_time_axis = tf.expand_dims(query, 1)\n",
    "        \n",
    "        #接下来要实现Attention,Bahdanau方式的\n",
    "        # beforeV:(batch_ size,length,units )\n",
    "        # after V( batch_ size,length,1)\n",
    "        # score shape == (batch_size, max_length, 1)  （64,16,1）\n",
    "        # we get 1 at the last axis because we are applying score to self.V\n",
    "        # the shape of the tensor before applying self.V is (batch_size, max_length, units)\n",
    "        score = self.V(tf.nn.tanh(self.W1(values) + self.W2(hidden_with_time_axis)))\n",
    "\n",
    "        # attention_weights shape == (batch_size, max_length, 1)\n",
    "        attention_weights = tf.nn.softmax(score, axis=1)\n",
    "\n",
    "        #先算加权，values就是encoder_outputs，对应位置想乘，广播出去\n",
    "        # context_vector.shape: ( batch_size, length units )\n",
    "        context_vector = attention_weights * values\n",
    "        print(context_vector.shape)\n",
    "        #在length的维度去求和\n",
    "        # context_vector shape after sum == (batch_size, hidden_size)\n",
    "        context_vector = tf.reduce_sum(context_vector, axis=1)\n",
    "\n",
    "        return context_vector, attention_weights\n",
    "    \n",
    "attention_layer = BahdanauAttention(10)\n",
    "attention_result, attention_weights = attention_layer(sample_hidden, sample_output)\n",
    "\n",
    "print(\"Attention result shape: (batch size, units) {}\".format(attention_result.shape))\n",
    "print(\"Attention weights shape: (batch_size, sequence_length, 1) {}\".format(attention_weights.shape))"
   ]
  },
  {
   "cell_type": "code",
   "execution_count": 14,
   "metadata": {},
   "outputs": [
    {
     "data": {
      "text/plain": [
       "[<tf.Variable 'bahdanau_attention/dense/kernel:0' shape=(1024, 10) dtype=float32, numpy=\n",
       " array([[-0.05458342,  0.06020555, -0.01460611, ...,  0.04243175,\n",
       "         -0.00286618, -0.0442789 ],\n",
       "        [-0.01304274,  0.04066408, -0.01562482, ..., -0.02550169,\n",
       "          0.07441068, -0.07196706],\n",
       "        [ 0.05265297, -0.00099506,  0.04974906, ..., -0.02332126,\n",
       "         -0.05210772, -0.02451466],\n",
       "        ...,\n",
       "        [-0.07558856, -0.00463466, -0.06314716, ...,  0.03797704,\n",
       "         -0.01408458,  0.01861361],\n",
       "        [-0.00612858,  0.02800918, -0.06292851, ..., -0.00811419,\n",
       "         -0.0368311 , -0.00736284],\n",
       "        [ 0.04903156,  0.02977894, -0.02855298, ..., -0.00894489,\n",
       "          0.01703184, -0.03428939]], dtype=float32)>,\n",
       " <tf.Variable 'bahdanau_attention/dense/bias:0' shape=(10,) dtype=float32, numpy=array([0., 0., 0., 0., 0., 0., 0., 0., 0., 0.], dtype=float32)>,\n",
       " <tf.Variable 'bahdanau_attention/dense_1/kernel:0' shape=(1024, 10) dtype=float32, numpy=\n",
       " array([[-0.0232291 ,  0.07236633,  0.06812967, ..., -0.0466567 ,\n",
       "          0.04712534, -0.01606506],\n",
       "        [-0.00668137, -0.04425387,  0.06262551, ...,  0.00161444,\n",
       "         -0.00640847, -0.01054159],\n",
       "        [-0.00508472, -0.01419711,  0.05853145, ...,  0.00885502,\n",
       "          0.01600585, -0.06399718],\n",
       "        ...,\n",
       "        [ 0.00609743, -0.060926  , -0.06403027, ...,  0.00276971,\n",
       "         -0.07337631, -0.02842316],\n",
       "        [ 0.06303529, -0.00267165,  0.05830349, ..., -0.01681038,\n",
       "         -0.04749684, -0.07583024],\n",
       "        [ 0.06406443, -0.06037714,  0.05885839, ...,  0.01124368,\n",
       "         -0.03041475, -0.06629891]], dtype=float32)>,\n",
       " <tf.Variable 'bahdanau_attention/dense_1/bias:0' shape=(10,) dtype=float32, numpy=array([0., 0., 0., 0., 0., 0., 0., 0., 0., 0.], dtype=float32)>,\n",
       " <tf.Variable 'bahdanau_attention/dense_2/kernel:0' shape=(10, 1) dtype=float32, numpy=\n",
       " array([[-0.21231759],\n",
       "        [ 0.6344792 ],\n",
       "        [-0.7367089 ],\n",
       "        [ 0.00713456],\n",
       "        [ 0.5283603 ],\n",
       "        [ 0.30147392],\n",
       "        [ 0.19697756],\n",
       "        [ 0.5623736 ],\n",
       "        [-0.49661738],\n",
       "        [-0.00744694]], dtype=float32)>,\n",
       " <tf.Variable 'bahdanau_attention/dense_2/bias:0' shape=(1,) dtype=float32, numpy=array([0.], dtype=float32)>]"
      ]
     },
     "execution_count": 14,
     "metadata": {},
     "output_type": "execute_result"
    }
   ],
   "source": [
    "attention_layer.variables"
   ]
  },
  {
   "cell_type": "code",
   "execution_count": 30,
   "metadata": {
    "scrolled": true
   },
   "outputs": [
    {
     "name": "stdout",
     "output_type": "stream",
     "text": [
      "(64, 16, 1024)\n",
      "(64, 1024) (64, 1, 256)\n",
      "(64, 1, 1280)\n",
      "(64, 1, 1024)\n",
      "output变换后\n",
      "(64, 1024)\n",
      "Decoder output shape: (batch_size, vocab size) (64, 4935)\n",
      "decoder_hidden.shape:  (64, 1024)\n",
      "decoder_attention_weights.shape: (64, 16, 1)\n"
     ]
    }
   ],
   "source": [
    "#接着我们实现decoder\n",
    "class Decoder(tf.keras.Model):\n",
    "    #init传参和encoder很像\n",
    "    def __init__(self, vocab_size, embedding_dim, decoding_units, batch_size):\n",
    "        #这里必须调用父类\n",
    "        super(Decoder, self).__init__()\n",
    "        self.batch_size = batch_size\n",
    "        self.decoding_units = decoding_units\n",
    "        #Embedding 层\n",
    "        self.embedding = keras.layers.Embedding(vocab_size, embedding_dim)\n",
    "        #GRU的decoder\n",
    "        self.gru = keras.layers.GRU(self.decoding_units,\n",
    "                                    return_sequences=True,\n",
    "                                    return_state=True,\n",
    "                                    recurrent_initializer='glorot_uniform')\n",
    "        self.fc = keras.layers.Dense(vocab_size)\n",
    "\n",
    "        # used for attention，每一步都会被调用\n",
    "        self.attention = BahdanauAttention(self.decoding_units)\n",
    "\n",
    "    #照着原来的原理图理解\n",
    "    def call(self, x, hidden, encoding_output):\n",
    "        # context vector. shape: ( batch size, units）\n",
    "        # enc_output shape == (batch_size, max_length, hidden_size)\n",
    "        context_vector, attention_weights = self.attention(hidden, encoding_output)\n",
    "\n",
    "        # before embedding: x. shape: (batch_size, 1 )\n",
    "        # after embedding : x. shape: (batch size, 1， embedding units)\n",
    "        # x shape after passing through embedding == (batch_size, 1, embedding_dim)\n",
    "        x = self.embedding(x)\n",
    "        print(context_vector.shape,x.shape)\n",
    "        #把x和context_vector拼起来，context_vector为什么要扩展维度？\n",
    "        # x shape after concatenation == (batch_size, 1, embedding_dim + hidden_size)\n",
    "        x = tf.concat([tf.expand_dims(context_vector, 1), x], axis=-1)\n",
    "        print(x.shape)\n",
    "        # passing the concatenated vector to the GRU\n",
    "        # output. shape:[batch_size,1,decoding_units ]\n",
    "        #state. shape:[batch_size, decoding_units ]\n",
    "        output, state = self.gru(x)\n",
    "        print(output.shape)\n",
    "        # output shape == (batch_size * 1, hidden_size)\n",
    "        output = tf.reshape(output, (-1, output.shape[2]))\n",
    "        print('output变换后')\n",
    "        print(output.shape)\n",
    "        # output shape == (batch_size, vocab)\n",
    "        x = self.fc(output)\n",
    "\n",
    "        return x, state, attention_weights\n",
    "\n",
    "decoder = Decoder(vocab_tar_size, embedding_dim, units, BATCH_SIZE)\n",
    "sample_decoder_output,decoder_hidden,decoder_aw = decoder(tf.random.uniform((64, 1)),\n",
    "                                      sample_hidden, sample_output)\n",
    "print ('Decoder output shape: (batch_size, vocab size) {}'.format(sample_decoder_output.shape))\n",
    "print( \"decoder_hidden.shape: \",decoder_hidden.shape )\n",
    "print( \"decoder_attention_weights.shape:\",decoder_aw.shape )\n"
   ]
  },
  {
   "cell_type": "code",
   "execution_count": 31,
   "metadata": {},
   "outputs": [],
   "source": [
    "#我们用的优化器是adam\n",
    "optimizer = keras.optimizers.Adam()\n",
    "#分类问题我们往往用SparseCategoricalCrossentropy，因为我们的fc是纯的输出，没有加softmax，\n",
    "# 因此这里的from_logits为True，否则改为false，reduction是损失函数如何做聚合\n",
    "loss_object = keras.losses.SparseCategoricalCrossentropy(from_logits=True, reduction='none')\n",
    "\n",
    "#为了把padding部分的损失去除，这样计算损失更加准确\n",
    "def loss_function(real, pred):\n",
    "    #是零的时候返回结果是True，因此要取反操作\n",
    "    #tf.math.equal(real, 0)是padding的部分都是1，不是padding的部分都是零，因此我们要取反\n",
    "    mask = tf.math.logical_not(tf.math.equal(real, 0))\n",
    "    \n",
    "    loss_ = loss_object(real, pred)  #这里是得到的损失\n",
    "    #将张量转换为新类型,变为float类型\n",
    "    mask = tf.cast(mask, dtype=loss_.dtype)\n",
    "    #padding部分的mask是零\n",
    "    loss_ *= mask\n",
    "    #计算累计的损失平均\n",
    "    return tf.reduce_mean(loss_)\n",
    "\n",
    "checkpoint_dir = './8-1_checkpoints'\n",
    "if not os.path.exists(checkpoint_dir):\n",
    "    os.mkdir(checkpoint_dir)\n",
    "checkpoint_prefix = os.path.join(checkpoint_dir, \"ckpt\")\n",
    "checkpoint = tf.train.Checkpoint(optimizer=optimizer,\n",
    "                                 encoder=encoder,\n",
    "                                 decoder=decoder)"
   ]
  },
  {
   "cell_type": "code",
   "execution_count": 19,
   "metadata": {},
   "outputs": [
    {
     "data": {
      "text/plain": [
       "<tf.Tensor: shape=(64, 1), dtype=int32, numpy=\n",
       "array([[1],\n",
       "       [1],\n",
       "       [1],\n",
       "       [1],\n",
       "       [1],\n",
       "       [1],\n",
       "       [1],\n",
       "       [1],\n",
       "       [1],\n",
       "       [1],\n",
       "       [1],\n",
       "       [1],\n",
       "       [1],\n",
       "       [1],\n",
       "       [1],\n",
       "       [1],\n",
       "       [1],\n",
       "       [1],\n",
       "       [1],\n",
       "       [1],\n",
       "       [1],\n",
       "       [1],\n",
       "       [1],\n",
       "       [1],\n",
       "       [1],\n",
       "       [1],\n",
       "       [1],\n",
       "       [1],\n",
       "       [1],\n",
       "       [1],\n",
       "       [1],\n",
       "       [1],\n",
       "       [1],\n",
       "       [1],\n",
       "       [1],\n",
       "       [1],\n",
       "       [1],\n",
       "       [1],\n",
       "       [1],\n",
       "       [1],\n",
       "       [1],\n",
       "       [1],\n",
       "       [1],\n",
       "       [1],\n",
       "       [1],\n",
       "       [1],\n",
       "       [1],\n",
       "       [1],\n",
       "       [1],\n",
       "       [1],\n",
       "       [1],\n",
       "       [1],\n",
       "       [1],\n",
       "       [1],\n",
       "       [1],\n",
       "       [1],\n",
       "       [1],\n",
       "       [1],\n",
       "       [1],\n",
       "       [1],\n",
       "       [1],\n",
       "       [1],\n",
       "       [1],\n",
       "       [1]], dtype=int32)>"
      ]
     },
     "execution_count": 19,
     "metadata": {},
     "output_type": "execute_result"
    }
   ],
   "source": [
    "tf.expand_dims([targ_lang.word_index['<start>']] * BATCH_SIZE, 1)"
   ]
  },
  {
   "cell_type": "code",
   "execution_count": 45,
   "metadata": {},
   "outputs": [],
   "source": [
    "@tf.function\n",
    "def train_step(inp, targ, encoding_hidden):\n",
    "    loss = 0\n",
    "\n",
    "    with tf.GradientTape() as tape:\n",
    "        #把输入给encoder，得到encoding_output, encoding_hidden\n",
    "        encoding_output, encoding_hidden = encoder(inp, encoding_hidden)\n",
    "\n",
    "        decoding_hidden = encoding_hidden  #最初是把encoding_hidden给decoding\n",
    "        #第一次给进去的decoding_input全部是1，是64个1\n",
    "        decoding_input = tf.expand_dims([targ_lang.word_index['<start>']] * BATCH_SIZE, 1)\n",
    "        \n",
    "        #eg: <start> I am here <end>\n",
    "        #1.<start>->I\n",
    "        #2.I->am\n",
    "        #3.am->here\n",
    "        # 4. here ->< end>\n",
    "        #对于here，我们相当于要把I am  的信息都要给过去\n",
    "        # Teacher forcing - feeding the target as the next input\n",
    "        for t in range(1, targ.shape[1]):\n",
    "            # passing enc_output to the decoder\n",
    "            #根据我们前面的原理解析，我们这里需要给3项信息\n",
    "            predictions, decoding_hidden, _ = decoder(decoding_input, decoding_hidden, encoding_output)\n",
    "\n",
    "            loss += loss_function(targ[:, t], predictions)\n",
    "\n",
    "            # using teacher forcing,这里是取第t列，再扩维\n",
    "            decoding_input = tf.expand_dims(targ[:, t], 1)\n",
    "            \n",
    "    #这里是每个batch上平均的损失函数\n",
    "    batch_loss = (loss / int(targ.shape[1]))\n",
    "    print(type( encoder.trainable_variables))\n",
    "    print(type(  decoder.trainable_variables))\n",
    "    variables = encoder.trainable_variables + decoder.trainable_variables\n",
    "    #求梯度\n",
    "    gradients = tape.gradient(loss, variables)\n",
    "    #有了梯度以后，可以用optimizer去做apply\n",
    "    optimizer.apply_gradients(zip(gradients, variables))\n",
    "    return batch_loss"
   ]
  },
  {
   "cell_type": "code",
   "execution_count": 43,
   "metadata": {},
   "outputs": [
    {
     "data": {
      "text/plain": [
       "array([1, 3, 5])"
      ]
     },
     "execution_count": 43,
     "metadata": {},
     "output_type": "execute_result"
    }
   ],
   "source": [
    "m=np.arange(6).reshape(3,2)\n",
    "t=1\n",
    "m[:,1]"
   ]
  },
  {
   "cell_type": "code",
   "execution_count": 20,
   "metadata": {},
   "outputs": [
    {
     "data": {
      "text/plain": [
       "375"
      ]
     },
     "execution_count": 20,
     "metadata": {},
     "output_type": "execute_result"
    }
   ],
   "source": [
    "steps_per_epoch"
   ]
  },
  {
   "cell_type": "code",
   "execution_count": 16,
   "metadata": {},
   "outputs": [
    {
     "name": "stdout",
     "output_type": "stream",
     "text": [
      "Epoch 1 Batch 0 Loss 4.5784\n",
      "Epoch 1 Batch 100 Loss 2.3032\n",
      "Epoch 1 Batch 200 Loss 1.9634\n",
      "Epoch 1 Batch 300 Loss 1.7466\n",
      "Epoch 1 Loss 2.0365\n",
      "Time taken for 1 epoch 496.7310721874237 sec\n",
      "\n",
      "Epoch 2 Batch 0 Loss 1.5483\n",
      "Epoch 2 Batch 100 Loss 1.4653\n",
      "Epoch 2 Batch 200 Loss 1.4231\n",
      "Epoch 2 Batch 300 Loss 1.2800\n",
      "Epoch 2 Loss 1.3812\n",
      "Time taken for 1 epoch 459.33327984809875 sec\n",
      "\n",
      "Epoch 3 Batch 0 Loss 1.0923\n",
      "Epoch 3 Batch 100 Loss 0.9953\n",
      "Epoch 3 Batch 200 Loss 0.9612\n",
      "Epoch 3 Batch 300 Loss 0.9148\n",
      "Epoch 3 Loss 0.9547\n",
      "Time taken for 1 epoch 451.43853783607483 sec\n",
      "\n",
      "Epoch 4 Batch 0 Loss 0.6652\n",
      "Epoch 4 Batch 100 Loss 0.7405\n",
      "Epoch 4 Batch 200 Loss 0.5256\n",
      "Epoch 4 Batch 300 Loss 0.5763\n",
      "Epoch 4 Loss 0.6456\n",
      "Time taken for 1 epoch 469.2217469215393 sec\n",
      "\n",
      "Epoch 5 Batch 0 Loss 0.4117\n",
      "Epoch 5 Batch 100 Loss 0.4573\n",
      "Epoch 5 Batch 200 Loss 0.4439\n",
      "Epoch 5 Batch 300 Loss 0.5202\n",
      "Epoch 5 Loss 0.4385\n",
      "Time taken for 1 epoch 484.8175148963928 sec\n",
      "\n",
      "Epoch 6 Batch 0 Loss 0.2856\n",
      "Epoch 6 Batch 100 Loss 0.3478\n",
      "Epoch 6 Batch 200 Loss 0.4009\n",
      "Epoch 6 Batch 300 Loss 0.2956\n",
      "Epoch 6 Loss 0.3038\n",
      "Time taken for 1 epoch 454.1222198009491 sec\n",
      "\n",
      "Epoch 7 Batch 0 Loss 0.1793\n",
      "Epoch 7 Batch 100 Loss 0.2322\n",
      "Epoch 7 Batch 200 Loss 0.2251\n",
      "Epoch 7 Batch 300 Loss 0.2558\n",
      "Epoch 7 Loss 0.2178\n",
      "Time taken for 1 epoch 470.25316762924194 sec\n",
      "\n",
      "Epoch 8 Batch 0 Loss 0.1274\n",
      "Epoch 8 Batch 100 Loss 0.1321\n",
      "Epoch 8 Batch 200 Loss 0.1496\n",
      "Epoch 8 Batch 300 Loss 0.1522\n",
      "Epoch 8 Loss 0.1614\n",
      "Time taken for 1 epoch 483.50257563591003 sec\n",
      "\n",
      "Epoch 9 Batch 0 Loss 0.1658\n",
      "Epoch 9 Batch 100 Loss 0.0947\n",
      "Epoch 9 Batch 200 Loss 0.1676\n",
      "Epoch 9 Batch 300 Loss 0.1455\n",
      "Epoch 9 Loss 0.1265\n",
      "Time taken for 1 epoch 489.75121307373047 sec\n",
      "\n",
      "Epoch 10 Batch 0 Loss 0.0855\n",
      "Epoch 10 Batch 100 Loss 0.0765\n",
      "Epoch 10 Batch 200 Loss 0.1047\n",
      "Epoch 10 Batch 300 Loss 0.1175\n",
      "Epoch 10 Loss 0.1016\n",
      "Time taken for 1 epoch 470.8816955089569 sec\n",
      "\n"
     ]
    }
   ],
   "source": [
    "EPOCHS = 10\n",
    "#这里运行时间比较久\n",
    "for epoch in range(EPOCHS):\n",
    "    start = time.time()\n",
    "\n",
    "    encoding_hidden = encoder.initialize_hidden_state()#第一次，全零的隐含状态\n",
    "    total_loss = 0\n",
    "    #每次去取dataset.take(steps_per_epoch)这么多数据\n",
    "    for (batch, (inp, targ)) in enumerate(dataset.take(steps_per_epoch)):\n",
    "        batch_loss = train_step(inp, targ, encoding_hidden)\n",
    "        total_loss += batch_loss\n",
    "        #这里增加打印\n",
    "        if batch % 100 == 0:\n",
    "            print('Epoch {} Batch {} Loss {:.4f}'.format(epoch + 1, batch, batch_loss.numpy()))\n",
    "    # saving (checkpoint) the model every 2 epochs，保存模型\n",
    "    if (epoch + 1) % 2 == 0:\n",
    "        checkpoint.save(file_prefix = checkpoint_prefix)\n",
    "\n",
    "    print('Epoch {} Loss {:.4f}'.format(epoch + 1, total_loss / steps_per_epoch))\n",
    "    print('Time taken for 1 epoch {} sec\\n'.format(time.time() - start))"
   ]
  },
  {
   "cell_type": "code",
   "execution_count": 2,
   "metadata": {},
   "outputs": [
    {
     "data": {
      "text/plain": [
       "<tf.Tensor: shape=(1, 1), dtype=int32, numpy=array([[1]], dtype=int32)>"
      ]
     },
     "execution_count": 2,
     "metadata": {},
     "output_type": "execute_result"
    }
   ],
   "source": [
    "tf.expand_dims([1], 0)"
   ]
  },
  {
   "cell_type": "code",
   "execution_count": 46,
   "metadata": {},
   "outputs": [
    {
     "data": {
      "text/plain": [
       "<tensorflow.python.training.tracking.util.CheckpointLoadStatus at 0x7fca812feeb8>"
      ]
     },
     "execution_count": 46,
     "metadata": {},
     "output_type": "execute_result"
    }
   ],
   "source": [
    "#接收字符串，并进行翻译\n",
    "def evaluate(sentence):\n",
    "    attention_plot = np.zeros((max_length_targ, max_length_inp))\n",
    "    #对输入的语言做和训练时同样的预处理,把标点符号前后加空格\n",
    "    sentence = preprocess_sentence(sentence)\n",
    "    #text到id的转换\n",
    "    inputs = [inp_lang.word_index[i] for i in sentence.split(' ')]\n",
    "    #加padding\n",
    "    inputs = keras.preprocessing.sequence.pad_sequences([inputs], maxlen=max_length_inp, padding='post')\n",
    "    inputs = tf.convert_to_tensor(inputs)#变为张量\n",
    "    #结果先初始化一个空串\n",
    "    result = ''\n",
    "\n",
    "    hidden = [tf.zeros((1, units))]\n",
    "    encoding_out, encoding_hidden = encoder(inputs, hidden)\n",
    "    #按模型把encoding_hidden给decoding_hidden\n",
    "    decoding_hidden = encoding_hidden\n",
    "    #第一次的decoding_input是全为1的（1,1)的矩阵\n",
    "    decoding_input = tf.expand_dims([targ_lang.word_index['<start>']], 0)\n",
    "    #eg:<start>->A\n",
    "    #A->B->C-> D\n",
    "    # decoding_ input. shape:(1， 1)\n",
    "    for t in range(max_length_targ):\n",
    "        predictions, decoding_hidden, attention_weights = decoder(\n",
    "            decoding_input, decoding_hidden, encoding_out)\n",
    "        \n",
    "        # attention weights. shape: (batch size, input length, 1) (1， 16， 1 )，需要变为长度为16的向量\n",
    "        # storing the attention weights to plot later on\n",
    "        attention_weights = tf.reshape(attention_weights, (-1, ))\n",
    "        attention_plot[t] = attention_weights.numpy() #为了画图\n",
    "        # predictions.shape: (batch_ size, vocab_ size) (1， 4935)\n",
    "        #获取概率最大的值作为下一步的输入\n",
    "        predicted_id = tf.argmax(predictions[0]).numpy()\n",
    "        #通过id知道单词\n",
    "        result += targ_lang.index_word[predicted_id] + ' '\n",
    "        \n",
    "        #终止循环\n",
    "        if targ_lang.index_word[predicted_id] == '<end>':\n",
    "            return result, sentence, attention_plot\n",
    "\n",
    "        # the predicted ID is fed back into the model\n",
    "        decoding_input = tf.expand_dims([predicted_id], 0)\n",
    "    #到此decoding_input，decoding_hidden我们都做了更新\n",
    "    \n",
    "    return result, sentence, attention_plot\n",
    "\n",
    "# function for plotting the attention weights，把注意力关系完成可视化\n",
    "def plot_attention(attention, sentence, predicted_sentence):\n",
    "    fig = plt.figure(figsize=(10,10))\n",
    "    ax = fig.add_subplot(1, 1, 1)\n",
    "    ax.matshow(attention, cmap='viridis')\n",
    "\n",
    "    fontdict = {'fontsize': 14}\n",
    "    #把标注写上，我们需要把第零个位置空出来，看图即可看出\n",
    "    ax.set_xticklabels([''] + sentence, fontdict=fontdict, rotation=90)\n",
    "    ax.set_yticklabels([''] + predicted_sentence, fontdict=fontdict)\n",
    "\n",
    "    plt.show()\n",
    "\n",
    "#通过这个函数，把上面两个函数串起来\n",
    "def translate(sentence):\n",
    "    result, sentence, attention_plot = evaluate(sentence)\n",
    "\n",
    "    print('Input: %s' % (sentence))\n",
    "    print('Predicted translation: {}'.format(result))\n",
    "    \n",
    "    #因为输出不一定有输入的长度长，也就是result长度小于输入的长度\n",
    "    attention_plot = attention_plot[:len(result.split(' ')), :len(sentence.split(' '))]\n",
    "    plot_attention(attention_plot, sentence.split(' '), result.split(' '))\n",
    "    \n",
    "#加载模型参数\n",
    "checkpoint.restore(tf.train.latest_checkpoint(checkpoint_dir))"
   ]
  },
  {
   "cell_type": "code",
   "execution_count": 47,
   "metadata": {},
   "outputs": [
    {
     "name": "stdout",
     "output_type": "stream",
     "text": [
      "(1, 16, 1024)\n",
      "(1, 1024) (1, 1, 256)\n",
      "(1, 1, 1280)\n",
      "(1, 1, 1024)\n",
      "output变换后\n",
      "(1, 1024)\n",
      "(1, 16, 1024)\n",
      "(1, 1024) (1, 1, 256)\n",
      "(1, 1, 1280)\n",
      "(1, 1, 1024)\n",
      "output变换后\n",
      "(1, 1024)\n",
      "(1, 16, 1024)\n",
      "(1, 1024) (1, 1, 256)\n",
      "(1, 1, 1280)\n",
      "(1, 1, 1024)\n",
      "output变换后\n",
      "(1, 1024)\n",
      "(1, 16, 1024)\n",
      "(1, 1024) (1, 1, 256)\n",
      "(1, 1, 1280)\n",
      "(1, 1, 1024)\n",
      "output变换后\n",
      "(1, 1024)\n",
      "(1, 16, 1024)\n",
      "(1, 1024) (1, 1, 256)\n",
      "(1, 1, 1280)\n",
      "(1, 1, 1024)\n",
      "output变换后\n",
      "(1, 1024)\n",
      "(1, 16, 1024)\n",
      "(1, 1024) (1, 1, 256)\n",
      "(1, 1, 1280)\n",
      "(1, 1, 1024)\n",
      "output变换后\n",
      "(1, 1024)\n",
      "(1, 16, 1024)\n",
      "(1, 1024) (1, 1, 256)\n",
      "(1, 1, 1280)\n",
      "(1, 1, 1024)\n",
      "output变换后\n",
      "(1, 1024)\n",
      "Input: <start> hace mucho frio aqui . <end>\n",
      "Predicted translation: it is very cold here . <end> \n"
     ]
    },
    {
     "data": {
      "image/png": "[encoded data removed]",
      "text/plain": [
       "<Figure size 720x720 with 1 Axes>"
      ]
     },
     "metadata": {
      "needs_background": "light"
     },
     "output_type": "display_data"
    }
   ],
   "source": [
    "#it is terribly cold here,热力图最后多一个，是因为预测时在end后添加的空格\n",
    "translate(u'hace mucho frio aqui.')"
   ]
  },
  {
   "cell_type": "code",
   "execution_count": 18,
   "metadata": {},
   "outputs": [
    {
     "name": "stdout",
     "output_type": "stream",
     "text": [
      "Input: <start> esta es mi vida . <end>\n",
      "Predicted translation: this is my life . <end> \n"
     ]
    },
    {
     "data": {
      "image/png": "[encoded data removed]",
      "text/plain": [
       "<Figure size 720x720 with 1 Axes>"
      ]
     },
     "metadata": {
      "needs_background": "light"
     },
     "output_type": "display_data"
    }
   ],
   "source": [
    "translate(u'esta es mi vida.')"
   ]
  },
  {
   "cell_type": "code",
   "execution_count": 19,
   "metadata": {},
   "outputs": [
    {
     "name": "stdout",
     "output_type": "stream",
     "text": [
      "(1, 16, 1024)\n",
      "(1, 1024) (1, 1, 256)\n",
      "(1, 1, 1280)\n",
      "(1, 1, 1024)\n",
      "output变换后\n",
      "(1, 1024)\n",
      "(1, 16, 1024)\n",
      "(1, 1024) (1, 1, 256)\n",
      "(1, 1, 1280)\n",
      "(1, 1, 1024)\n",
      "output变换后\n",
      "(1, 1024)\n",
      "(1, 16, 1024)\n",
      "(1, 1024) (1, 1, 256)\n",
      "(1, 1, 1280)\n",
      "(1, 1, 1024)\n",
      "output变换后\n",
      "(1, 1024)\n",
      "(1, 16, 1024)\n",
      "(1, 1024) (1, 1, 256)\n",
      "(1, 1, 1280)\n",
      "(1, 1, 1024)\n",
      "output变换后\n",
      "(1, 1024)\n",
      "(1, 16, 1024)\n",
      "(1, 1024) (1, 1, 256)\n",
      "(1, 1, 1280)\n",
      "(1, 1, 1024)\n",
      "output变换后\n",
      "(1, 1024)\n",
      "(1, 16, 1024)\n",
      "(1, 1024) (1, 1, 256)\n",
      "(1, 1, 1280)\n",
      "(1, 1, 1024)\n",
      "output变换后\n",
      "(1, 1024)\n",
      "(1, 16, 1024)\n",
      "(1, 1024) (1, 1, 256)\n",
      "(1, 1, 1280)\n",
      "(1, 1, 1024)\n",
      "output变换后\n",
      "(1, 1024)\n",
      "Input: <start> ¿ todavia estan en casa ? <end>\n",
      "Predicted translation: are you still at home ? <end> \n"
     ]
    },
    {
     "data": {
      "image/png": "[encoded data removed]",
      "text/plain": [
       "<Figure size 720x720 with 1 Axes>"
      ]
     },
     "metadata": {
      "needs_background": "light"
     },
     "output_type": "display_data"
    }
   ],
   "source": [
    "translate(u'¿todavia estan en casa?')"
   ]
  },
  {
   "cell_type": "code",
   "execution_count": 21,
   "metadata": {},
   "outputs": [
    {
     "name": "stdout",
     "output_type": "stream",
     "text": [
      "(1, 16, 1024)\n",
      "(1, 1024) (1, 1, 256)\n",
      "(1, 1, 1280)\n",
      "(1, 1, 1024)\n",
      "output变换后\n",
      "(1, 1024)\n",
      "(1, 16, 1024)\n",
      "(1, 1024) (1, 1, 256)\n",
      "(1, 1, 1280)\n",
      "(1, 1, 1024)\n",
      "output变换后\n",
      "(1, 1024)\n",
      "(1, 16, 1024)\n",
      "(1, 1024) (1, 1, 256)\n",
      "(1, 1, 1280)\n",
      "(1, 1, 1024)\n",
      "output变换后\n",
      "(1, 1024)\n",
      "(1, 16, 1024)\n",
      "(1, 1024) (1, 1, 256)\n",
      "(1, 1, 1280)\n",
      "(1, 1, 1024)\n",
      "output变换后\n",
      "(1, 1024)\n",
      "(1, 16, 1024)\n",
      "(1, 1024) (1, 1, 256)\n",
      "(1, 1, 1280)\n",
      "(1, 1, 1024)\n",
      "output变换后\n",
      "(1, 1024)\n",
      "(1, 16, 1024)\n",
      "(1, 1024) (1, 1, 256)\n",
      "(1, 1, 1280)\n",
      "(1, 1, 1024)\n",
      "output变换后\n",
      "(1, 1024)\n",
      "(1, 16, 1024)\n",
      "(1, 1024) (1, 1, 256)\n",
      "(1, 1, 1280)\n",
      "(1, 1, 1024)\n",
      "output变换后\n",
      "(1, 1024)\n",
      "Input: <start> hoy es un buen dia <end>\n",
      "Predicted translation: it is a good day . <end> \n"
     ]
    },
    {
     "data": {
      "image/png": "[encoded data removed]",
      "text/plain": [
       "<Figure size 720x720 with 1 Axes>"
      ]
     },
     "metadata": {
      "needs_background": "light"
     },
     "output_type": "display_data"
    }
   ],
   "source": [
    "translate(u'Hoy es un buen día')"
   ]
  },
  {
   "cell_type": "code",
   "execution_count": null,
   "metadata": {},
   "outputs": [],
   "source": []
  }
 ],
 "metadata": {
  "kernelspec": {
   "display_name": "Python 3",
   "language": "python",
   "name": "python3"
  },
  "language_info": {
   "codemirror_mode": {
    "name": "ipython",
    "version": 3
   },
   "file_extension": ".py",
   "mimetype": "text/x-python",
   "name": "python",
   "nbconvert_exporter": "python",
   "pygments_lexer": "ipython3",
   "version": "3.6.9"
  }
 },
 "nbformat": 4,
 "nbformat_minor": 2
}
