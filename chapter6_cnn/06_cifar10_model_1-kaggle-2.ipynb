{
 "cells": [
  {
   "cell_type": "code",
   "execution_count": 1,
   "id": "df34d058",
   "metadata": {
    "execution": {
     "iopub.execute_input": "2022-05-07T08:04:38.584950Z",
     "iopub.status.busy": "2022-05-07T08:04:38.584568Z",
     "iopub.status.idle": "2022-05-07T08:04:44.457428Z",
     "shell.execute_reply": "2022-05-07T08:04:44.456488Z"
    },
    "papermill": {
     "duration": 5.918949,
     "end_time": "2022-05-07T08:04:44.459865",
     "exception": false,
     "start_time": "2022-05-07T08:04:38.540916",
     "status": "completed"
    },
    "tags": []
   },
   "outputs": [
    {
     "name": "stdout",
     "output_type": "stream",
     "text": [
      "2.6.3\n",
      "sys.version_info(major=3, minor=7, micro=12, releaselevel='final', serial=0)\n",
      "matplotlib 3.5.1\n",
      "numpy 1.21.6\n",
      "pandas 1.3.5\n",
      "sklearn 1.0.2\n",
      "tensorflow 2.6.3\n",
      "keras.api._v2.keras 2.6.0\n"
     ]
    }
   ],
   "source": [
    "%matplotlib inline\n",
    "import matplotlib as mpl\n",
    "import matplotlib.pyplot as plt\n",
    "import numpy as np\n",
    "import os\n",
    "import pandas as pd\n",
    "import sklearn\n",
    "import sys\n",
    "import tensorflow as tf\n",
    "import time\n",
    "\n",
    "from tensorflow import keras\n",
    "\n",
    "print(tf.__version__)\n",
    "print(sys.version_info)\n",
    "for module in mpl, np, pd, sklearn, tf, keras:\n",
    "    print(module.__name__, module.__version__)"
   ]
  },
  {
   "cell_type": "code",
   "execution_count": 2,
   "id": "7f5cbbdd",
   "metadata": {
    "execution": {
     "iopub.execute_input": "2022-05-07T08:04:44.514517Z",
     "iopub.status.busy": "2022-05-07T08:04:44.514297Z",
     "iopub.status.idle": "2022-05-07T08:04:45.212394Z",
     "shell.execute_reply": "2022-05-07T08:04:45.211588Z"
    },
    "papermill": {
     "duration": 0.727417,
     "end_time": "2022-05-07T08:04:45.214435",
     "exception": false,
     "start_time": "2022-05-07T08:04:44.487018",
     "status": "completed"
    },
    "tags": []
   },
   "outputs": [
    {
     "name": "stdout",
     "output_type": "stream",
     "text": [
      "Sat May  7 08:04:45 2022       \r\n",
      "+-----------------------------------------------------------------------------+\r\n",
      "| NVIDIA-SMI 470.82.01    Driver Version: 470.82.01    CUDA Version: 11.4     |\r\n",
      "|-------------------------------+----------------------+----------------------+\r\n",
      "| GPU  Name        Persistence-M| Bus-Id        Disp.A | Volatile Uncorr. ECC |\r\n",
      "| Fan  Temp  Perf  Pwr:Usage/Cap|         Memory-Usage | GPU-Util  Compute M. |\r\n",
      "|                               |                      |               MIG M. |\r\n",
      "|===============================+======================+======================|\r\n",
      "|   0  Tesla P100-PCIE...  Off  | 00000000:00:04.0 Off |                    0 |\r\n",
      "| N/A   35C    P0    27W / 250W |      0MiB / 16280MiB |      0%      Default |\r\n",
      "|                               |                      |                  N/A |\r\n",
      "+-------------------------------+----------------------+----------------------+\r\n",
      "                                                                               \r\n",
      "+-----------------------------------------------------------------------------+\r\n",
      "| Processes:                                                                  |\r\n",
      "|  GPU   GI   CI        PID   Type   Process name                  GPU Memory |\r\n",
      "|        ID   ID                                                   Usage      |\r\n",
      "|=============================================================================|\r\n",
      "|  No running processes found                                                 |\r\n",
      "+-----------------------------------------------------------------------------+\r\n"
     ]
    }
   ],
   "source": [
    "!nvidia-smi"
   ]
  },
  {
   "cell_type": "code",
   "execution_count": 3,
   "id": "7f8d87b2",
   "metadata": {
    "execution": {
     "iopub.execute_input": "2022-05-07T08:04:45.268807Z",
     "iopub.status.busy": "2022-05-07T08:04:45.268574Z",
     "iopub.status.idle": "2022-05-07T08:04:45.920881Z",
     "shell.execute_reply": "2022-05-07T08:04:45.920029Z"
    },
    "papermill": {
     "duration": 0.681906,
     "end_time": "2022-05-07T08:04:45.922823",
     "exception": false,
     "start_time": "2022-05-07T08:04:45.240917",
     "status": "completed"
    },
    "tags": []
   },
   "outputs": [
    {
     "name": "stdout",
     "output_type": "stream",
     "text": [
      "sampleSubmission.csv  test.7z  train.7z  trainLabels.csv\r\n"
     ]
    }
   ],
   "source": [
    "!ls ../input/cifar-10"
   ]
  },
  {
   "cell_type": "code",
   "execution_count": 4,
   "id": "66ae16a8",
   "metadata": {
    "execution": {
     "iopub.execute_input": "2022-05-07T08:04:45.978777Z",
     "iopub.status.busy": "2022-05-07T08:04:45.977936Z",
     "iopub.status.idle": "2022-05-07T08:06:01.702528Z",
     "shell.execute_reply": "2022-05-07T08:06:01.701750Z"
    },
    "papermill": {
     "duration": 75.754896,
     "end_time": "2022-05-07T08:06:01.704719",
     "exception": false,
     "start_time": "2022-05-07T08:04:45.949823",
     "status": "completed"
    },
    "tags": []
   },
   "outputs": [
    {
     "name": "stdout",
     "output_type": "stream",
     "text": [
      "Collecting py7zr\r\n",
      "  Downloading py7zr-0.18.5.tar.gz (4.3 MB)\r\n",
      "\u001b[2K     \u001b[90m━━━━━━━━━━━━━━━━━━━━━━━━━━━━━━━━━━━━━━━━\u001b[0m \u001b[32m4.3/4.3 MB\u001b[0m \u001b[31m10.8 MB/s\u001b[0m eta \u001b[36m0:00:00\u001b[0m\r\n",
      "\u001b[?25h  Installing build dependencies ... \u001b[?25l-\b \b\\\b \b|\b \b/\b \b-\b \b\\\b \b|\b \b/\b \b-\b \bdone\r\n",
      "\u001b[?25h  Getting requirements to build wheel ... \u001b[?25ldone\r\n",
      "\u001b[?25h  Preparing metadata (pyproject.toml) ... \u001b[?25l-\b \b\\\b \b|\b \b/\b \b-\b \bdone\r\n",
      "\u001b[?25hCollecting brotli>=1.0.9\r\n",
      "  Downloading Brotli-1.0.9-cp37-cp37m-manylinux1_x86_64.whl (357 kB)\r\n",
      "\u001b[2K     \u001b[90m━━━━━━━━━━━━━━━━━━━━━━━━━━━━━━━━━━━━━━\u001b[0m \u001b[32m357.2/357.2 KB\u001b[0m \u001b[31m30.1 MB/s\u001b[0m eta \u001b[36m0:00:00\u001b[0m\r\n",
      "\u001b[?25hRequirement already satisfied: texttable in /opt/conda/lib/python3.7/site-packages (from py7zr) (1.6.4)\r\n",
      "Requirement already satisfied: importlib-metadata in /opt/conda/lib/python3.7/site-packages (from py7zr) (4.11.3)\r\n",
      "Collecting pybcj>=0.5.0\r\n",
      "  Downloading pybcj-0.5.2-cp37-cp37m-manylinux_2_17_x86_64.manylinux2014_x86_64.whl (57 kB)\r\n",
      "\u001b[2K     \u001b[90m━━━━━━━━━━━━━━━━━━━━━━━━━━━━━━━━━━━━━━━━\u001b[0m \u001b[32m57.8/57.8 KB\u001b[0m \u001b[31m6.0 MB/s\u001b[0m eta \u001b[36m0:00:00\u001b[0m\r\n",
      "\u001b[?25hRequirement already satisfied: psutil in /opt/conda/lib/python3.7/site-packages (from py7zr) (5.9.0)\r\n",
      "Collecting multivolumefile>=0.2.3\r\n",
      "  Downloading multivolumefile-0.2.3-py3-none-any.whl (17 kB)\r\n",
      "Collecting zipfile-deflate64>=0.2.0\r\n",
      "  Downloading zipfile_deflate64-0.2.0-cp37-cp37m-manylinux_2_17_x86_64.manylinux2014_x86_64.whl (43 kB)\r\n",
      "\u001b[2K     \u001b[90m━━━━━━━━━━━━━━━━━━━━━━━━━━━━━━━━━━━━━━━━\u001b[0m \u001b[32m43.5/43.5 KB\u001b[0m \u001b[31m4.1 MB/s\u001b[0m eta \u001b[36m0:00:00\u001b[0m\r\n",
      "\u001b[?25hCollecting pycryptodomex>=3.6.6\r\n",
      "  Downloading pycryptodomex-3.14.1-cp35-abi3-manylinux2010_x86_64.whl (2.0 MB)\r\n",
      "\u001b[2K     \u001b[90m━━━━━━━━━━━━━━━━━━━━━━━━━━━━━━━━━━━━━━━━\u001b[0m \u001b[32m2.0/2.0 MB\u001b[0m \u001b[31m59.4 MB/s\u001b[0m eta \u001b[36m0:00:00\u001b[0m\r\n",
      "\u001b[?25hCollecting pyppmd<0.19.0,>=0.18.1\r\n",
      "  Downloading pyppmd-0.18.2-cp37-cp37m-manylinux_2_17_x86_64.manylinux2014_x86_64.whl (131 kB)\r\n",
      "\u001b[2K     \u001b[90m━━━━━━━━━━━━━━━━━━━━━━━━━━━━━━━━━━━━━━\u001b[0m \u001b[32m131.6/131.6 KB\u001b[0m \u001b[31m13.3 MB/s\u001b[0m eta \u001b[36m0:00:00\u001b[0m\r\n",
      "\u001b[?25hCollecting pyzstd>=0.14.4\r\n",
      "  Downloading pyzstd-0.15.2-cp37-cp37m-manylinux_2_17_x86_64.manylinux2014_x86_64.whl (2.4 MB)\r\n",
      "\u001b[2K     \u001b[90m━━━━━━━━━━━━━━━━━━━━━━━━━━━━━━━━━━━━━━━━\u001b[0m \u001b[32m2.4/2.4 MB\u001b[0m \u001b[31m59.1 MB/s\u001b[0m eta \u001b[36m0:00:00\u001b[0m\r\n",
      "\u001b[?25hRequirement already satisfied: zipp>=0.5 in /opt/conda/lib/python3.7/site-packages (from importlib-metadata->py7zr) (3.7.0)\r\n",
      "Requirement already satisfied: typing-extensions>=3.6.4 in /opt/conda/lib/python3.7/site-packages (from importlib-metadata->py7zr) (4.2.0)\r\n",
      "Building wheels for collected packages: py7zr\r\n",
      "  Building wheel for py7zr (pyproject.toml) ... \u001b[?25l-\b \b\\\b \b|\b \b/\b \b-\b \b\\\b \b|\b \bdone\r\n",
      "\u001b[?25h  Created wheel for py7zr: filename=py7zr-0.18.5-py3-none-any.whl size=67393 sha256=6d562de79adeef8657e6d625b0b549eef9a3266d54f0c1114258a8ff8f27b4d2\r\n",
      "  Stored in directory: /root/.cache/pip/wheels/c8/f6/f8/9a860b95b853b2a891d478d2d2afde2fc0460514a7015d15d5\r\n",
      "Successfully built py7zr\r\n",
      "Installing collected packages: brotli, zipfile-deflate64, pyzstd, pyppmd, pycryptodomex, multivolumefile, pybcj, py7zr\r\n",
      "Successfully installed brotli-1.0.9 multivolumefile-0.2.3 py7zr-0.18.5 pybcj-0.5.2 pycryptodomex-3.14.1 pyppmd-0.18.2 pyzstd-0.15.2 zipfile-deflate64-0.2.0\r\n",
      "\u001b[33mWARNING: Running pip as the 'root' user can result in broken permissions and conflicting behaviour with the system package manager. It is recommended to use a virtual environment instead: https://pip.pypa.io/warnings/venv\u001b[0m\u001b[33m\r\n",
      "\u001b[0mNote: you may need to restart the kernel to use updated packages.\n"
     ]
    }
   ],
   "source": [
    "%pip install py7zr\n",
    "import py7zr\n",
    "a = py7zr.SevenZipFile(r'../input/cifar-10/train.7z','r')\n",
    "a.extractall(path=r'./')\n",
    "a.close()"
   ]
  },
  {
   "cell_type": "code",
   "execution_count": 5,
   "id": "9da43ac7",
   "metadata": {
    "execution": {
     "iopub.execute_input": "2022-05-07T08:06:01.793837Z",
     "iopub.status.busy": "2022-05-07T08:06:01.793232Z",
     "iopub.status.idle": "2022-05-07T08:20:44.821514Z",
     "shell.execute_reply": "2022-05-07T08:20:44.820745Z"
    },
    "papermill": {
     "duration": 883.074641,
     "end_time": "2022-05-07T08:20:44.823600",
     "exception": false,
     "start_time": "2022-05-07T08:06:01.748959",
     "status": "completed"
    },
    "tags": []
   },
   "outputs": [],
   "source": [
    "b = py7zr.SevenZipFile(r'../input/cifar-10/test.7z','r')\n",
    "b.extractall(path=r'./')\n",
    "b.close()"
   ]
  },
  {
   "cell_type": "code",
   "execution_count": 6,
   "id": "7237f72c",
   "metadata": {
    "execution": {
     "iopub.execute_input": "2022-05-07T08:20:44.913797Z",
     "iopub.status.busy": "2022-05-07T08:20:44.913317Z",
     "iopub.status.idle": "2022-05-07T08:20:45.572202Z",
     "shell.execute_reply": "2022-05-07T08:20:45.571393Z"
    },
    "papermill": {
     "duration": 0.705714,
     "end_time": "2022-05-07T08:20:45.574336",
     "exception": false,
     "start_time": "2022-05-07T08:20:44.868622",
     "status": "completed"
    },
    "tags": []
   },
   "outputs": [
    {
     "name": "stdout",
     "output_type": "stream",
     "text": [
      "input  lib  src  working\r\n"
     ]
    }
   ],
   "source": [
    "!ls .."
   ]
  },
  {
   "cell_type": "code",
   "execution_count": 7,
   "id": "a3114be2",
   "metadata": {
    "execution": {
     "iopub.execute_input": "2022-05-07T08:20:45.664007Z",
     "iopub.status.busy": "2022-05-07T08:20:45.663765Z",
     "iopub.status.idle": "2022-05-07T08:20:46.324069Z",
     "shell.execute_reply": "2022-05-07T08:20:46.323246Z"
    },
    "papermill": {
     "duration": 0.707044,
     "end_time": "2022-05-07T08:20:46.326067",
     "exception": false,
     "start_time": "2022-05-07T08:20:45.619023",
     "status": "completed"
    },
    "tags": []
   },
   "outputs": [
    {
     "name": "stdout",
     "output_type": "stream",
     "text": [
      "cifar-10\r\n"
     ]
    }
   ],
   "source": [
    "!ls ../input"
   ]
  },
  {
   "cell_type": "code",
   "execution_count": 8,
   "id": "0ed9f1d4",
   "metadata": {
    "execution": {
     "iopub.execute_input": "2022-05-07T08:20:46.416880Z",
     "iopub.status.busy": "2022-05-07T08:20:46.416538Z",
     "iopub.status.idle": "2022-05-07T08:20:47.150017Z",
     "shell.execute_reply": "2022-05-07T08:20:47.149193Z"
    },
    "papermill": {
     "duration": 0.7817,
     "end_time": "2022-05-07T08:20:47.152180",
     "exception": false,
     "start_time": "2022-05-07T08:20:46.370480",
     "status": "completed"
    },
    "tags": []
   },
   "outputs": [
    {
     "name": "stdout",
     "output_type": "stream",
     "text": [
      "/kaggle/working\r\n"
     ]
    }
   ],
   "source": [
    "!pwd"
   ]
  },
  {
   "cell_type": "markdown",
   "id": "38e31c9e",
   "metadata": {
    "papermill": {
     "duration": 0.044403,
     "end_time": "2022-05-07T08:20:47.241314",
     "exception": false,
     "start_time": "2022-05-07T08:20:47.196911",
     "status": "completed"
    },
    "tags": []
   },
   "source": [
    "## 输入数据处理"
   ]
  },
  {
   "cell_type": "code",
   "execution_count": 9,
   "id": "d771e96c",
   "metadata": {
    "execution": {
     "iopub.execute_input": "2022-05-07T08:20:47.331999Z",
     "iopub.status.busy": "2022-05-07T08:20:47.331759Z",
     "iopub.status.idle": "2022-05-07T08:20:48.190125Z",
     "shell.execute_reply": "2022-05-07T08:20:48.185234Z"
    },
    "papermill": {
     "duration": 0.907984,
     "end_time": "2022-05-07T08:20:48.194470",
     "exception": false,
     "start_time": "2022-05-07T08:20:47.286486",
     "status": "completed"
    },
    "tags": []
   },
   "outputs": [
    {
     "name": "stdout",
     "output_type": "stream",
     "text": [
      "[('./train/1.png', 'frog'),\n",
      " ('./train/2.png', 'truck'),\n",
      " ('./train/3.png', 'truck'),\n",
      " ('./train/4.png', 'deer'),\n",
      " ('./train/5.png', 'automobile')]\n",
      "[('./test/1.png', 'cat'),\n",
      " ('./test/2.png', 'cat'),\n",
      " ('./test/3.png', 'cat'),\n",
      " ('./test/4.png', 'cat'),\n",
      " ('./test/5.png', 'cat')]\n",
      "50000 300000\n"
     ]
    }
   ],
   "source": [
    "# 所有的类别\n",
    "class_names = [\n",
    "    'airplane',\n",
    "    'automobile',\n",
    "    'bird',\n",
    "    'cat',\n",
    "    'deer',\n",
    "    'dog',\n",
    "    'frog',\n",
    "    'horse',\n",
    "    'ship',\n",
    "    'truck',\n",
    "]\n",
    "\n",
    "train_lables_file = '../input/cifar-10/trainLabels.csv'\n",
    "test_csv_file = '../input/cifar-10/sampleSubmission.csv'\n",
    "train_folder = './train/'\n",
    "test_folder = './test/'\n",
    "\n",
    "def parse_csv_file(filepath, folder):\n",
    "    \"\"\"Parses csv files into (filename(path), label) format\"\"\"\n",
    "    results = []\n",
    "    # 读取所有行\n",
    "    with open(filepath, 'r') as f:\n",
    "#         lines = f.readlines()  为什么加[1:]？ 有标题head\n",
    "        lines = f.readlines()[1:]\n",
    "    for line in lines:\n",
    "        image_id, label_str = line.strip('\\n').split(',')\n",
    "        image_full_path = os.path.join(folder, image_id + '.png')\n",
    "        results.append((image_full_path, label_str))\n",
    "    return results\n",
    "\n",
    "# 解析对应的文件夹\n",
    "train_labels_info = parse_csv_file(train_lables_file, train_folder)\n",
    "test_csv_info = parse_csv_file(test_csv_file, test_folder)\n",
    "\n",
    "# 打印\n",
    "import pprint\n",
    "pprint.pprint(train_labels_info[0:5])\n",
    "pprint.pprint(test_csv_info[0:5])\n",
    "print(len(train_labels_info), len(test_csv_info))"
   ]
  },
  {
   "cell_type": "code",
   "execution_count": 10,
   "id": "8c51ee14",
   "metadata": {
    "execution": {
     "iopub.execute_input": "2022-05-07T08:20:48.714088Z",
     "iopub.status.busy": "2022-05-07T08:20:48.713840Z",
     "iopub.status.idle": "2022-05-07T08:20:48.805337Z",
     "shell.execute_reply": "2022-05-07T08:20:48.804482Z"
    },
    "papermill": {
     "duration": 0.51909,
     "end_time": "2022-05-07T08:20:48.807206",
     "exception": false,
     "start_time": "2022-05-07T08:20:48.288116",
     "status": "completed"
    },
    "tags": []
   },
   "outputs": [
    {
     "name": "stdout",
     "output_type": "stream",
     "text": [
      "        filepath       class\n",
      "0  ./train/1.png        frog\n",
      "1  ./train/2.png       truck\n",
      "2  ./train/3.png       truck\n",
      "3  ./train/4.png        deer\n",
      "4  ./train/5.png  automobile\n",
      "            filepath       class\n",
      "0  ./train/45001.png       horse\n",
      "1  ./train/45002.png  automobile\n",
      "2  ./train/45003.png        deer\n",
      "3  ./train/45004.png  automobile\n",
      "4  ./train/45005.png    airplane\n",
      "       filepath class\n",
      "0  ./test/1.png   cat\n",
      "1  ./test/2.png   cat\n",
      "2  ./test/3.png   cat\n",
      "3  ./test/4.png   cat\n",
      "4  ./test/5.png   cat\n"
     ]
    }
   ],
   "source": [
    "# train_df = pd.DataFrame(train_labels_info)\n",
    "train_df = pd.DataFrame(train_labels_info[0:45000])\n",
    "valid_df = pd.DataFrame(train_labels_info[45000:])\n",
    "test_df = pd.DataFrame(test_csv_info)\n",
    "\n",
    "train_df.columns = ['filepath', 'class']\n",
    "valid_df.columns = ['filepath', 'class']\n",
    "test_df.columns = ['filepath', 'class']\n",
    "\n",
    "print(train_df.head())\n",
    "print(valid_df.head())\n",
    "print(test_df.head())"
   ]
  },
  {
   "cell_type": "code",
   "execution_count": null,
   "id": "982d56ef",
   "metadata": {
    "papermill": {
     "duration": 0.044656,
     "end_time": "2022-05-07T08:20:48.897059",
     "exception": false,
     "start_time": "2022-05-07T08:20:48.852403",
     "status": "completed"
    },
    "tags": []
   },
   "outputs": [],
   "source": []
  },
  {
   "cell_type": "markdown",
   "id": "4023438d",
   "metadata": {
    "papermill": {
     "duration": 0.045847,
     "end_time": "2022-05-07T08:20:48.987897",
     "exception": false,
     "start_time": "2022-05-07T08:20:48.942050",
     "status": "completed"
    },
    "tags": []
   },
   "source": [
    "## 模型搭建"
   ]
  },
  {
   "cell_type": "code",
   "execution_count": 11,
   "id": "36ed04a1",
   "metadata": {
    "execution": {
     "iopub.execute_input": "2022-05-07T08:20:49.079754Z",
     "iopub.status.busy": "2022-05-07T08:20:49.079077Z",
     "iopub.status.idle": "2022-05-07T08:20:49.551438Z",
     "shell.execute_reply": "2022-05-07T08:20:49.550519Z"
    },
    "papermill": {
     "duration": 0.520737,
     "end_time": "2022-05-07T08:20:49.553910",
     "exception": false,
     "start_time": "2022-05-07T08:20:49.033173",
     "status": "completed"
    },
    "tags": []
   },
   "outputs": [
    {
     "name": "stdout",
     "output_type": "stream",
     "text": [
      "Found 45000 validated image filenames belonging to 10 classes.\n",
      "Found 5000 validated image filenames belonging to 10 classes.\n",
      "45000 5000\n"
     ]
    }
   ],
   "source": [
    "height = 32\n",
    "width = 32\n",
    "channels = 3\n",
    "batch_size = 32\n",
    "num_classes = 10\n",
    "\n",
    "train_datagen = keras.preprocessing.image.ImageDataGenerator(\n",
    "    rescale = 1./255,\n",
    "    rotation_range = 40,\n",
    "    width_shift_range = 0.2,\n",
    "    height_shift_range = 0.2,\n",
    "    shear_range = 0.2,\n",
    "    zoom_range = 0.2,\n",
    "    horizontal_flip = True,\n",
    "    fill_mode = 'nearest',\n",
    ")\n",
    "train_generator = train_datagen.flow_from_dataframe(\n",
    "    train_df,\n",
    "    directory = './',\n",
    "    x_col = 'filepath',\n",
    "    y_col = 'class',\n",
    "    # 将labels转换为id\n",
    "    classes = class_names,\n",
    "    target_size = (height, width),\n",
    "    batch_size = batch_size,\n",
    "    seed = 7,\n",
    "    shuffle = True,\n",
    "    class_mode = 'sparse',\n",
    ")\n",
    "\n",
    "# 和上面一致\n",
    "valid_datagen = keras.preprocessing.image.ImageDataGenerator(\n",
    "    rescale = 1./255)\n",
    "valid_generator = valid_datagen.flow_from_dataframe(\n",
    "    valid_df,\n",
    "    directory = './',\n",
    "    x_col = 'filepath',\n",
    "    y_col = 'class',\n",
    "    classes = class_names,\n",
    "    target_size = (height, width),\n",
    "    batch_size = batch_size,\n",
    "    seed = 7,\n",
    "    shuffle = False,\n",
    "    class_mode = \"sparse\")\n",
    "\n",
    "train_num = train_generator.samples\n",
    "valid_num = valid_generator.samples\n",
    "print(train_num, valid_num)"
   ]
  },
  {
   "cell_type": "code",
   "execution_count": 12,
   "id": "20406530",
   "metadata": {
    "execution": {
     "iopub.execute_input": "2022-05-07T08:20:49.647225Z",
     "iopub.status.busy": "2022-05-07T08:20:49.647004Z",
     "iopub.status.idle": "2022-05-07T08:20:49.716416Z",
     "shell.execute_reply": "2022-05-07T08:20:49.715632Z"
    },
    "papermill": {
     "duration": 0.118439,
     "end_time": "2022-05-07T08:20:49.718253",
     "exception": false,
     "start_time": "2022-05-07T08:20:49.599814",
     "status": "completed"
    },
    "tags": []
   },
   "outputs": [
    {
     "name": "stdout",
     "output_type": "stream",
     "text": [
      "(32, 32, 32, 3) (32,)\n",
      "[2. 1. 4. 4. 4. 4. 6. 5. 2. 8. 4. 6. 6. 3. 7. 1. 7. 2. 8. 8. 3. 0. 5. 3.\n",
      " 9. 1. 4. 5. 6. 7. 9. 2.]\n",
      "(32, 32, 32, 3) (32,)\n",
      "[0. 7. 2. 7. 5. 5. 7. 0. 5. 4. 9. 7. 6. 3. 0. 4. 4. 4. 6. 3. 5. 4. 6. 6.\n",
      " 4. 1. 8. 2. 4. 4. 3. 0.]\n"
     ]
    }
   ],
   "source": [
    "for i in range(2):\n",
    "    x, y = train_generator.next()\n",
    "    print(x.shape, y.shape)\n",
    "    print(y)"
   ]
  },
  {
   "cell_type": "code",
   "execution_count": 13,
   "id": "2f59e6f1",
   "metadata": {
    "execution": {
     "iopub.execute_input": "2022-05-07T08:20:49.811358Z",
     "iopub.status.busy": "2022-05-07T08:20:49.811156Z",
     "iopub.status.idle": "2022-05-07T08:20:52.609951Z",
     "shell.execute_reply": "2022-05-07T08:20:52.608983Z"
    },
    "papermill": {
     "duration": 2.846936,
     "end_time": "2022-05-07T08:20:52.611738",
     "exception": false,
     "start_time": "2022-05-07T08:20:49.764802",
     "status": "completed"
    },
    "tags": []
   },
   "outputs": [
    {
     "name": "stderr",
     "output_type": "stream",
     "text": [
      "2022-05-07 08:20:49.937781: I tensorflow/stream_executor/cuda/cuda_gpu_executor.cc:937] successful NUMA node read from SysFS had negative value (-1), but there must be at least one NUMA node, so returning NUMA node zero\n",
      "2022-05-07 08:20:50.078542: I tensorflow/stream_executor/cuda/cuda_gpu_executor.cc:937] successful NUMA node read from SysFS had negative value (-1), but there must be at least one NUMA node, so returning NUMA node zero\n",
      "2022-05-07 08:20:50.079643: I tensorflow/stream_executor/cuda/cuda_gpu_executor.cc:937] successful NUMA node read from SysFS had negative value (-1), but there must be at least one NUMA node, so returning NUMA node zero\n",
      "2022-05-07 08:20:50.082032: I tensorflow/core/platform/cpu_feature_guard.cc:142] This TensorFlow binary is optimized with oneAPI Deep Neural Network Library (oneDNN) to use the following CPU instructions in performance-critical operations:  AVX2 AVX512F FMA\n",
      "To enable them in other operations, rebuild TensorFlow with the appropriate compiler flags.\n",
      "2022-05-07 08:20:50.082334: I tensorflow/stream_executor/cuda/cuda_gpu_executor.cc:937] successful NUMA node read from SysFS had negative value (-1), but there must be at least one NUMA node, so returning NUMA node zero\n",
      "2022-05-07 08:20:50.083374: I tensorflow/stream_executor/cuda/cuda_gpu_executor.cc:937] successful NUMA node read from SysFS had negative value (-1), but there must be at least one NUMA node, so returning NUMA node zero\n",
      "2022-05-07 08:20:50.084416: I tensorflow/stream_executor/cuda/cuda_gpu_executor.cc:937] successful NUMA node read from SysFS had negative value (-1), but there must be at least one NUMA node, so returning NUMA node zero\n",
      "2022-05-07 08:20:52.033602: I tensorflow/stream_executor/cuda/cuda_gpu_executor.cc:937] successful NUMA node read from SysFS had negative value (-1), but there must be at least one NUMA node, so returning NUMA node zero\n",
      "2022-05-07 08:20:52.034468: I tensorflow/stream_executor/cuda/cuda_gpu_executor.cc:937] successful NUMA node read from SysFS had negative value (-1), but there must be at least one NUMA node, so returning NUMA node zero\n",
      "2022-05-07 08:20:52.035115: I tensorflow/stream_executor/cuda/cuda_gpu_executor.cc:937] successful NUMA node read from SysFS had negative value (-1), but there must be at least one NUMA node, so returning NUMA node zero\n",
      "2022-05-07 08:20:52.036519: I tensorflow/core/common_runtime/gpu/gpu_device.cc:1510] Created device /job:localhost/replica:0/task:0/device:GPU:0 with 15403 MB memory:  -> device: 0, name: Tesla P100-PCIE-16GB, pci bus id: 0000:00:04.0, compute capability: 6.0\n"
     ]
    },
    {
     "name": "stdout",
     "output_type": "stream",
     "text": [
      "Model: \"sequential\"\n",
      "_________________________________________________________________\n",
      "Layer (type)                 Output Shape              Param #   \n",
      "=================================================================\n",
      "conv2d (Conv2D)              (None, 32, 32, 128)       3584      \n",
      "_________________________________________________________________\n",
      "batch_normalization (BatchNo (None, 32, 32, 128)       512       \n",
      "_________________________________________________________________\n",
      "conv2d_1 (Conv2D)            (None, 32, 32, 128)       147584    \n",
      "_________________________________________________________________\n",
      "batch_normalization_1 (Batch (None, 32, 32, 128)       512       \n",
      "_________________________________________________________________\n",
      "max_pooling2d (MaxPooling2D) (None, 16, 16, 128)       0         \n",
      "_________________________________________________________________\n",
      "conv2d_2 (Conv2D)            (None, 16, 16, 256)       295168    \n",
      "_________________________________________________________________\n",
      "batch_normalization_2 (Batch (None, 16, 16, 256)       1024      \n",
      "_________________________________________________________________\n",
      "conv2d_3 (Conv2D)            (None, 16, 16, 256)       590080    \n",
      "_________________________________________________________________\n",
      "batch_normalization_3 (Batch (None, 16, 16, 256)       1024      \n",
      "_________________________________________________________________\n",
      "max_pooling2d_1 (MaxPooling2 (None, 8, 8, 256)         0         \n",
      "_________________________________________________________________\n",
      "conv2d_4 (Conv2D)            (None, 8, 8, 512)         1180160   \n",
      "_________________________________________________________________\n",
      "batch_normalization_4 (Batch (None, 8, 8, 512)         2048      \n",
      "_________________________________________________________________\n",
      "conv2d_5 (Conv2D)            (None, 8, 8, 512)         2359808   \n",
      "_________________________________________________________________\n",
      "batch_normalization_5 (Batch (None, 8, 8, 512)         2048      \n",
      "_________________________________________________________________\n",
      "max_pooling2d_2 (MaxPooling2 (None, 4, 4, 512)         0         \n",
      "_________________________________________________________________\n",
      "flatten (Flatten)            (None, 8192)              0         \n",
      "_________________________________________________________________\n",
      "dense (Dense)                (None, 512)               4194816   \n",
      "_________________________________________________________________\n",
      "dense_1 (Dense)              (None, 10)                5130      \n",
      "=================================================================\n",
      "Total params: 8,783,498\n",
      "Trainable params: 8,779,914\n",
      "Non-trainable params: 3,584\n",
      "_________________________________________________________________\n"
     ]
    }
   ],
   "source": [
    "model = keras.models.Sequential([\n",
    "    keras.layers.Conv2D(filters=128, kernel_size=3, padding='same',\n",
    "                        activation='selu', \n",
    "                        input_shape=[width, height, channels]),\n",
    "    keras.layers.BatchNormalization(),  # 为了是模型训练的更快\n",
    "    keras.layers.Conv2D(filters=128, kernel_size=3, padding='same',\n",
    "                        activation='selu'),\n",
    "    keras.layers.BatchNormalization(),\n",
    "    keras.layers.MaxPool2D(pool_size=2),\n",
    "    \n",
    "    keras.layers.Conv2D(filters=256, kernel_size=3, padding='same',\n",
    "                        activation='selu'),\n",
    "    keras.layers.BatchNormalization(),\n",
    "    keras.layers.Conv2D(filters=256, kernel_size=3, padding='same',\n",
    "                        activation='selu'),\n",
    "    keras.layers.BatchNormalization(),\n",
    "    keras.layers.MaxPool2D(pool_size=2),\n",
    "    keras.layers.Conv2D(filters=512, kernel_size=3, padding='same',\n",
    "                        activation='selu'),\n",
    "    keras.layers.BatchNormalization(),\n",
    "    keras.layers.Conv2D(filters=512, kernel_size=3, padding='same',\n",
    "                        activation='selu'),\n",
    "    keras.layers.BatchNormalization(),\n",
    "    keras.layers.MaxPool2D(pool_size=2),\n",
    "    keras.layers.Flatten(),\n",
    "    keras.layers.Dense(512, activation='selu'),\n",
    "    keras.layers.Dense(num_classes, activation='softmax'),\n",
    "])\n",
    "\n",
    "model.compile(loss=\"sparse_categorical_crossentropy\",\n",
    "              optimizer=\"adam\", metrics=['accuracy'])\n",
    "model.summary()"
   ]
  },
  {
   "cell_type": "code",
   "execution_count": null,
   "id": "21ae6012",
   "metadata": {
    "papermill": {
     "duration": 0.046361,
     "end_time": "2022-05-07T08:20:52.705365",
     "exception": false,
     "start_time": "2022-05-07T08:20:52.659004",
     "status": "completed"
    },
    "tags": []
   },
   "outputs": [],
   "source": []
  },
  {
   "cell_type": "markdown",
   "id": "92d972b7",
   "metadata": {
    "papermill": {
     "duration": 0.04663,
     "end_time": "2022-05-07T08:20:52.798640",
     "exception": false,
     "start_time": "2022-05-07T08:20:52.752010",
     "status": "completed"
    },
    "tags": []
   },
   "source": [
    "## 模型训练与预测"
   ]
  },
  {
   "cell_type": "code",
   "execution_count": 14,
   "id": "c17190b6",
   "metadata": {
    "execution": {
     "iopub.execute_input": "2022-05-07T08:20:52.893363Z",
     "iopub.status.busy": "2022-05-07T08:20:52.892670Z",
     "iopub.status.idle": "2022-05-07T08:44:58.897308Z",
     "shell.execute_reply": "2022-05-07T08:44:58.896556Z"
    },
    "papermill": {
     "duration": 1446.054339,
     "end_time": "2022-05-07T08:44:58.899490",
     "exception": false,
     "start_time": "2022-05-07T08:20:52.845151",
     "status": "completed"
    },
    "tags": []
   },
   "outputs": [
    {
     "name": "stderr",
     "output_type": "stream",
     "text": [
      "/opt/conda/lib/python3.7/site-packages/keras/engine/training.py:1972: UserWarning: `Model.fit_generator` is deprecated and will be removed in a future version. Please use `Model.fit`, which supports generators.\n",
      "  warnings.warn('`Model.fit_generator` is deprecated and '\n",
      "2022-05-07 08:20:52.995974: I tensorflow/compiler/mlir/mlir_graph_optimization_pass.cc:185] None of the MLIR Optimization Passes are enabled (registered 2)\n"
     ]
    },
    {
     "name": "stdout",
     "output_type": "stream",
     "text": [
      "Epoch 1/20\n"
     ]
    },
    {
     "name": "stderr",
     "output_type": "stream",
     "text": [
      "2022-05-07 08:20:54.635405: I tensorflow/stream_executor/cuda/cuda_dnn.cc:369] Loaded cuDNN version 8005\n"
     ]
    },
    {
     "name": "stdout",
     "output_type": "stream",
     "text": [
      "1406/1406 [==============================] - 55s 34ms/step - loss: 2.1743 - accuracy: 0.3116 - val_loss: 1.8329 - val_accuracy: 0.3520\n",
      "Epoch 2/20\n",
      "1406/1406 [==============================] - 48s 34ms/step - loss: 1.5896 - accuracy: 0.4296 - val_loss: 2.0480 - val_accuracy: 0.4143\n",
      "Epoch 3/20\n",
      "1406/1406 [==============================] - 48s 34ms/step - loss: 1.3906 - accuracy: 0.5096 - val_loss: 1.5672 - val_accuracy: 0.5290\n",
      "Epoch 4/20\n",
      "1406/1406 [==============================] - 48s 34ms/step - loss: 1.2324 - accuracy: 0.5705 - val_loss: 1.9641 - val_accuracy: 0.5130\n",
      "Epoch 5/20\n",
      "1406/1406 [==============================] - 48s 34ms/step - loss: 1.1066 - accuracy: 0.6181 - val_loss: 1.1483 - val_accuracy: 0.6492\n",
      "Epoch 6/20\n",
      "1406/1406 [==============================] - 50s 35ms/step - loss: 1.0024 - accuracy: 0.6592 - val_loss: 0.9484 - val_accuracy: 0.7093\n",
      "Epoch 7/20\n",
      "1406/1406 [==============================] - 49s 35ms/step - loss: 0.9077 - accuracy: 0.6943 - val_loss: 0.8756 - val_accuracy: 0.7177\n",
      "Epoch 8/20\n",
      "1406/1406 [==============================] - 51s 36ms/step - loss: 0.8652 - accuracy: 0.7126 - val_loss: 0.9542 - val_accuracy: 0.7133\n",
      "Epoch 9/20\n",
      "1406/1406 [==============================] - 48s 34ms/step - loss: 0.7940 - accuracy: 0.7363 - val_loss: 0.7743 - val_accuracy: 0.7590\n",
      "Epoch 10/20\n",
      "1406/1406 [==============================] - 51s 36ms/step - loss: 0.7451 - accuracy: 0.7514 - val_loss: 0.5801 - val_accuracy: 0.8075\n",
      "Epoch 11/20\n",
      "1406/1406 [==============================] - 50s 36ms/step - loss: 0.7082 - accuracy: 0.7636 - val_loss: 0.7753 - val_accuracy: 0.7652\n",
      "Epoch 12/20\n",
      "1406/1406 [==============================] - 49s 35ms/step - loss: 0.6836 - accuracy: 0.7730 - val_loss: 0.6733 - val_accuracy: 0.7921\n",
      "Epoch 13/20\n",
      "1406/1406 [==============================] - 52s 37ms/step - loss: 0.6544 - accuracy: 0.7836 - val_loss: 0.6114 - val_accuracy: 0.8107\n",
      "Epoch 14/20\n",
      "1406/1406 [==============================] - 53s 38ms/step - loss: 0.6261 - accuracy: 0.7930 - val_loss: 0.5965 - val_accuracy: 0.8215\n",
      "Epoch 15/20\n",
      "1406/1406 [==============================] - 50s 36ms/step - loss: 0.6024 - accuracy: 0.8010 - val_loss: 0.5454 - val_accuracy: 0.8305\n",
      "Epoch 16/20\n",
      "1406/1406 [==============================] - 51s 36ms/step - loss: 0.5872 - accuracy: 0.8077 - val_loss: 0.5804 - val_accuracy: 0.8185\n",
      "Epoch 17/20\n",
      "1406/1406 [==============================] - 51s 36ms/step - loss: 0.5677 - accuracy: 0.8124 - val_loss: 0.5472 - val_accuracy: 0.8311\n",
      "Epoch 18/20\n",
      "1406/1406 [==============================] - 48s 34ms/step - loss: 0.5586 - accuracy: 0.8152 - val_loss: 0.6387 - val_accuracy: 0.8173\n",
      "Epoch 19/20\n",
      "1406/1406 [==============================] - 51s 36ms/step - loss: 0.5313 - accuracy: 0.8250 - val_loss: 0.6277 - val_accuracy: 0.8163\n",
      "Epoch 20/20\n",
      "1406/1406 [==============================] - 50s 36ms/step - loss: 0.5198 - accuracy: 0.8280 - val_loss: 0.5962 - val_accuracy: 0.8329\n"
     ]
    }
   ],
   "source": [
    "epochs = 20\n",
    "history = model.fit_generator(train_generator,\n",
    "                              steps_per_epoch = train_num // batch_size,\n",
    "                              epochs = epochs,\n",
    "                              validation_data = valid_generator,\n",
    "                              validation_steps = valid_num // batch_size)"
   ]
  },
  {
   "cell_type": "code",
   "execution_count": 15,
   "id": "ab71a6e8",
   "metadata": {
    "execution": {
     "iopub.execute_input": "2022-05-07T08:45:08.512710Z",
     "iopub.status.busy": "2022-05-07T08:45:08.512356Z",
     "iopub.status.idle": "2022-05-07T08:45:08.954128Z",
     "shell.execute_reply": "2022-05-07T08:45:08.953454Z"
    },
    "papermill": {
     "duration": 5.119698,
     "end_time": "2022-05-07T08:45:08.956142",
     "exception": false,
     "start_time": "2022-05-07T08:45:03.836444",
     "status": "completed"
    },
    "tags": []
   },
   "outputs": [
    {
     "name": "stdout",
     "output_type": "stream",
     "text": [
      "{'loss': [2.1742544174194336, 1.5895589590072632, 1.3905681371688843, 1.232359766960144, 1.106629490852356, 1.0024079084396362, 0.9076709151268005, 0.8652117848396301, 0.793983519077301, 0.7451239824295044, 0.7082400918006897, 0.6836300492286682, 0.6543869972229004, 0.6261416077613831, 0.6023672223091125, 0.5871748328208923, 0.5677266120910645, 0.558558464050293, 0.5312952399253845, 0.5197970271110535], 'accuracy': [0.31157711148262024, 0.4296388626098633, 0.5095623731613159, 0.5704501271247864, 0.6181284189224243, 0.659246563911438, 0.6942715048789978, 0.7125734090805054, 0.7363013625144958, 0.7513565421104431, 0.763565182685852, 0.7729941010475159, 0.783601701259613, 0.7929860949516296, 0.8009696006774902, 0.8076854944229126, 0.8123554587364197, 0.8151574730873108, 0.8250311613082886, 0.8279888033866882], 'val_loss': [1.8328555822372437, 2.0479648113250732, 1.5672308206558228, 1.964123249053955, 1.1483017206192017, 0.9484057426452637, 0.8756198287010193, 0.9542036652565002, 0.7743005752563477, 0.5800996422767639, 0.7752533555030823, 0.6732919216156006, 0.6114168167114258, 0.5964985489845276, 0.5453736186027527, 0.5803583860397339, 0.547236442565918, 0.6386693716049194, 0.6277098655700684, 0.5961599349975586], 'val_accuracy': [0.3519631326198578, 0.4142628312110901, 0.5290464758872986, 0.5130208134651184, 0.6492387652397156, 0.7093349099159241, 0.7177484035491943, 0.7133413553237915, 0.7590144276618958, 0.8074919581413269, 0.7652243375778198, 0.792067289352417, 0.8106971383094788, 0.8215144276618958, 0.8305288553237915, 0.8185096383094788, 0.831129789352417, 0.817307710647583, 0.8163061141967773, 0.832932710647583]}\n"
     ]
    },
    {
     "data": {
      "image/png": "[encoded data removed]",
      "text/plain": [
       "<Figure size 576x360 with 1 Axes>"
      ]
     },
     "metadata": {
      "needs_background": "light"
     },
     "output_type": "display_data"
    },
    {
     "data": {
      "image/png": "[encoded data removed]",
      "text/plain": [
       "<Figure size 576x360 with 1 Axes>"
      ]
     },
     "metadata": {
      "needs_background": "light"
     },
     "output_type": "display_data"
    }
   ],
   "source": [
    "print(history.history)\n",
    "def plot_learning_curves(history, label, epcohs, min_value, max_value):\n",
    "    data = {}\n",
    "    data[label] = history.history[label]\n",
    "    data['val_'+label] = history.history['val_'+label]\n",
    "    pd.DataFrame(data).plot(figsize=(8, 5))\n",
    "    plt.grid(True)\n",
    "    plt.axis([0, epochs, min_value, max_value])\n",
    "    plt.show()\n",
    "    \n",
    "plot_learning_curves(history, 'accuracy', epochs, 0, 1)\n",
    "plot_learning_curves(history, 'loss', epochs, 0, 2)"
   ]
  },
  {
   "cell_type": "code",
   "execution_count": 16,
   "id": "11b8c80e",
   "metadata": {
    "execution": {
     "iopub.execute_input": "2022-05-07T08:45:19.106658Z",
     "iopub.status.busy": "2022-05-07T08:45:19.106324Z",
     "iopub.status.idle": "2022-05-07T08:45:21.879188Z",
     "shell.execute_reply": "2022-05-07T08:45:21.877187Z"
    },
    "papermill": {
     "duration": 7.426421,
     "end_time": "2022-05-07T08:45:21.881476",
     "exception": false,
     "start_time": "2022-05-07T08:45:14.455055",
     "status": "completed"
    },
    "tags": []
   },
   "outputs": [
    {
     "name": "stdout",
     "output_type": "stream",
     "text": [
      "Found 300000 validated image filenames belonging to 10 classes.\n",
      "300000\n"
     ]
    }
   ],
   "source": [
    "test_datagen = keras.preprocessing.image.ImageDataGenerator(\n",
    "    rescale = 1./255)\n",
    "test_generator = valid_datagen.flow_from_dataframe(\n",
    "    test_df,\n",
    "    directory = './',\n",
    "    x_col = 'filepath',\n",
    "    y_col = 'class',\n",
    "    classes = class_names,\n",
    "    target_size = (height, width),\n",
    "    batch_size = batch_size,\n",
    "    seed = 7,\n",
    "    shuffle = False,\n",
    "    class_mode = \"sparse\")\n",
    "test_num = test_generator.samples\n",
    "print(test_num)"
   ]
  },
  {
   "cell_type": "code",
   "execution_count": 17,
   "id": "45a0054a",
   "metadata": {
    "execution": {
     "iopub.execute_input": "2022-05-07T08:45:31.478382Z",
     "iopub.status.busy": "2022-05-07T08:45:31.477996Z",
     "iopub.status.idle": "2022-05-07T08:46:58.845433Z",
     "shell.execute_reply": "2022-05-07T08:46:58.843925Z"
    },
    "papermill": {
     "duration": 92.009171,
     "end_time": "2022-05-07T08:46:58.848148",
     "exception": false,
     "start_time": "2022-05-07T08:45:26.838977",
     "status": "completed"
    },
    "tags": []
   },
   "outputs": [
    {
     "name": "stderr",
     "output_type": "stream",
     "text": [
      "/opt/conda/lib/python3.7/site-packages/keras/engine/training.py:2035: UserWarning: `Model.predict_generator` is deprecated and will be removed in a future version. Please use `Model.predict`, which supports generators.\n",
      "  warnings.warn('`Model.predict_generator` is deprecated and '\n"
     ]
    }
   ],
   "source": [
    "# 正式预测\n",
    "test_predict = model.predict_generator(test_generator,\n",
    "                                       workers = 3,\n",
    "                                       use_multiprocessing = True)"
   ]
  },
  {
   "cell_type": "code",
   "execution_count": 18,
   "id": "0225ffef",
   "metadata": {
    "execution": {
     "iopub.execute_input": "2022-05-07T08:47:08.464535Z",
     "iopub.status.busy": "2022-05-07T08:47:08.464257Z",
     "iopub.status.idle": "2022-05-07T08:47:08.469463Z",
     "shell.execute_reply": "2022-05-07T08:47:08.468750Z"
    },
    "papermill": {
     "duration": 4.617192,
     "end_time": "2022-05-07T08:47:08.472289",
     "exception": false,
     "start_time": "2022-05-07T08:47:03.855097",
     "status": "completed"
    },
    "tags": []
   },
   "outputs": [
    {
     "name": "stdout",
     "output_type": "stream",
     "text": [
      "(300000, 10)\n"
     ]
    }
   ],
   "source": [
    "print(test_predict.shape)"
   ]
  },
  {
   "cell_type": "code",
   "execution_count": 19,
   "id": "be1cb088",
   "metadata": {
    "execution": {
     "iopub.execute_input": "2022-05-07T08:47:18.108197Z",
     "iopub.status.busy": "2022-05-07T08:47:18.107650Z",
     "iopub.status.idle": "2022-05-07T08:47:18.114007Z",
     "shell.execute_reply": "2022-05-07T08:47:18.112286Z"
    },
    "papermill": {
     "duration": 4.631321,
     "end_time": "2022-05-07T08:47:18.116337",
     "exception": false,
     "start_time": "2022-05-07T08:47:13.485016",
     "status": "completed"
    },
    "tags": []
   },
   "outputs": [
    {
     "name": "stdout",
     "output_type": "stream",
     "text": [
      "[[6.2266840e-03 3.3018898e-04 6.9292551e-01 1.6249676e-01 3.7072185e-02\n",
      "  1.0997145e-02 8.6950384e-02 5.5567521e-05 3.8352777e-04 2.5619862e-03]\n",
      " [7.6674722e-02 1.9878618e-02 8.1658262e-01 8.5987430e-03 3.0153480e-04\n",
      "  4.4874067e-04 7.4317582e-02 8.6145174e-06 1.2230832e-03 1.9658294e-03]\n",
      " [2.1894461e-06 9.9307394e-01 3.3633574e-09 7.0289308e-09 8.3542956e-12\n",
      "  2.3567825e-09 2.2118758e-07 6.0185333e-12 9.0077661e-09 6.9236849e-03]\n",
      " [5.9269907e-05 7.7136292e-06 5.4123348e-06 1.9546856e-07 5.1418128e-09\n",
      "  1.6226849e-08 4.7741737e-06 1.2960405e-09 9.9992096e-01 1.6825337e-06]\n",
      " [4.9897167e-01 1.4445426e-04 4.8479170e-01 2.4766438e-03 1.2316233e-03\n",
      "  1.3932950e-03 2.9680438e-03 3.8774029e-05 7.9526072e-03 3.1086507e-05]]\n"
     ]
    }
   ],
   "source": [
    "print(test_predict[0:5])"
   ]
  },
  {
   "cell_type": "code",
   "execution_count": null,
   "id": "d2c5e3d6",
   "metadata": {
    "papermill": {
     "duration": 4.696173,
     "end_time": "2022-05-07T08:47:28.306157",
     "exception": false,
     "start_time": "2022-05-07T08:47:23.609984",
     "status": "completed"
    },
    "tags": []
   },
   "outputs": [],
   "source": []
  },
  {
   "cell_type": "markdown",
   "id": "f877a4d6",
   "metadata": {
    "papermill": {
     "duration": 5.146059,
     "end_time": "2022-05-07T08:47:38.147515",
     "exception": false,
     "start_time": "2022-05-07T08:47:33.001456",
     "status": "completed"
    },
    "tags": []
   },
   "source": [
    "## 预测结果提交"
   ]
  },
  {
   "cell_type": "code",
   "execution_count": 20,
   "id": "0465a634",
   "metadata": {
    "execution": {
     "iopub.execute_input": "2022-05-07T08:47:47.758333Z",
     "iopub.status.busy": "2022-05-07T08:47:47.757639Z",
     "iopub.status.idle": "2022-05-07T08:47:47.768786Z",
     "shell.execute_reply": "2022-05-07T08:47:47.768142Z"
    },
    "papermill": {
     "duration": 4.919411,
     "end_time": "2022-05-07T08:47:47.770555",
     "exception": false,
     "start_time": "2022-05-07T08:47:42.851144",
     "status": "completed"
    },
    "tags": []
   },
   "outputs": [],
   "source": [
    "test_predict_class_indices = np.argmax(test_predict, axis = 1)"
   ]
  },
  {
   "cell_type": "code",
   "execution_count": 21,
   "id": "7df7ef81",
   "metadata": {
    "execution": {
     "iopub.execute_input": "2022-05-07T08:47:57.832923Z",
     "iopub.status.busy": "2022-05-07T08:47:57.832560Z",
     "iopub.status.idle": "2022-05-07T08:47:57.836604Z",
     "shell.execute_reply": "2022-05-07T08:47:57.835908Z"
    },
    "papermill": {
     "duration": 5.45247,
     "end_time": "2022-05-07T08:47:57.839583",
     "exception": false,
     "start_time": "2022-05-07T08:47:52.387113",
     "status": "completed"
    },
    "tags": []
   },
   "outputs": [
    {
     "name": "stdout",
     "output_type": "stream",
     "text": [
      "[2 2 1 8 0]\n"
     ]
    }
   ],
   "source": [
    "print(test_predict_class_indices[0:5])"
   ]
  },
  {
   "cell_type": "code",
   "execution_count": 22,
   "id": "81a5a607",
   "metadata": {
    "execution": {
     "iopub.execute_input": "2022-05-07T08:48:07.185400Z",
     "iopub.status.busy": "2022-05-07T08:48:07.185063Z",
     "iopub.status.idle": "2022-05-07T08:48:07.278667Z",
     "shell.execute_reply": "2022-05-07T08:48:07.277552Z"
    },
    "papermill": {
     "duration": 4.771545,
     "end_time": "2022-05-07T08:48:07.281552",
     "exception": false,
     "start_time": "2022-05-07T08:48:02.510007",
     "status": "completed"
    },
    "tags": []
   },
   "outputs": [],
   "source": [
    "test_predict_class = [class_names[index] \n",
    "                      for index in test_predict_class_indices]"
   ]
  },
  {
   "cell_type": "code",
   "execution_count": 23,
   "id": "5c1abbd2",
   "metadata": {
    "execution": {
     "iopub.execute_input": "2022-05-07T08:48:16.830336Z",
     "iopub.status.busy": "2022-05-07T08:48:16.829761Z",
     "iopub.status.idle": "2022-05-07T08:48:16.834185Z",
     "shell.execute_reply": "2022-05-07T08:48:16.833425Z"
    },
    "papermill": {
     "duration": 4.660042,
     "end_time": "2022-05-07T08:48:16.836747",
     "exception": false,
     "start_time": "2022-05-07T08:48:12.176705",
     "status": "completed"
    },
    "tags": []
   },
   "outputs": [
    {
     "name": "stdout",
     "output_type": "stream",
     "text": [
      "['bird', 'bird', 'automobile', 'ship', 'airplane']\n"
     ]
    }
   ],
   "source": [
    "print(test_predict_class[0:5])"
   ]
  },
  {
   "cell_type": "code",
   "execution_count": 24,
   "id": "fd6f3b41",
   "metadata": {
    "execution": {
     "iopub.execute_input": "2022-05-07T08:48:26.431201Z",
     "iopub.status.busy": "2022-05-07T08:48:26.430808Z",
     "iopub.status.idle": "2022-05-07T08:48:26.592706Z",
     "shell.execute_reply": "2022-05-07T08:48:26.591984Z"
    },
    "papermill": {
     "duration": 4.839886,
     "end_time": "2022-05-07T08:48:26.594544",
     "exception": false,
     "start_time": "2022-05-07T08:48:21.754658",
     "status": "completed"
    },
    "tags": []
   },
   "outputs": [],
   "source": [
    "# 产生最终的报告\n",
    "def generate_submissions(filename, predict_class):\n",
    "    with open(filename, 'w') as f:\n",
    "        f.write('id,label\\n')\n",
    "        for i in range(len(predict_class)):\n",
    "            f.write('%d,%s\\n' % (i+1, predict_class[i]))\n",
    "\n",
    "output_file = \"./submission.csv\"\n",
    "generate_submissions(output_file, test_predict_class)"
   ]
  },
  {
   "cell_type": "code",
   "execution_count": 25,
   "id": "1274208e",
   "metadata": {
    "execution": {
     "iopub.execute_input": "2022-05-07T08:48:36.712182Z",
     "iopub.status.busy": "2022-05-07T08:48:36.711915Z",
     "iopub.status.idle": "2022-05-07T08:48:37.425137Z",
     "shell.execute_reply": "2022-05-07T08:48:37.424251Z"
    },
    "papermill": {
     "duration": 5.403632,
     "end_time": "2022-05-07T08:48:37.427524",
     "exception": false,
     "start_time": "2022-05-07T08:48:32.023892",
     "status": "completed"
    },
    "tags": []
   },
   "outputs": [
    {
     "name": "stdout",
     "output_type": "stream",
     "text": [
      "NGC-DL-CONTAINER-LICENSE\t\tmnt\r\n",
      "bin\t\t\t\t\topt\r\n",
      "boot\t\t\t\t\tproc\r\n",
      "dev\t\t\t\t\troot\r\n",
      "entrypoint.sh\t\t\t\trun\r\n",
      "etc\t\t\t\t\trun_jupyter.sh\r\n",
      "home\t\t\t\t\tsbin\r\n",
      "kaggle\t\t\t\t\tsrc\r\n",
      "lib\t\t\t\t\tsrv\r\n",
      "lib32\t\t\t\t\tsys\r\n",
      "lib64\t\t\t\t\ttmp\r\n",
      "libnvinfer8_8.0.0-1+cuda11.0_amd64.deb\tusr\r\n",
      "libx32\t\t\t\t\tvar\r\n",
      "media\r\n"
     ]
    }
   ],
   "source": [
    "!ls ../.."
   ]
  }
 ],
 "metadata": {
  "kernelspec": {
   "display_name": "Python 3",
   "language": "python",
   "name": "python3"
  },
  "language_info": {
   "codemirror_mode": {
    "name": "ipython",
    "version": 3
   },
   "file_extension": ".py",
   "mimetype": "text/x-python",
   "name": "python",
   "nbconvert_exporter": "python",
   "pygments_lexer": "ipython3",
   "version": "3.7.12"
  },
  "papermill": {
   "default_parameters": {},
   "duration": 2655.15129,
   "end_time": "2022-05-07T08:48:45.757466",
   "environment_variables": {},
   "exception": null,
   "input_path": "__notebook__.ipynb",
   "output_path": "__notebook__.ipynb",
   "parameters": {},
   "start_time": "2022-05-07T08:04:30.606176",
   "version": "2.3.4"
  }
 },
 "nbformat": 4,
 "nbformat_minor": 5
}
