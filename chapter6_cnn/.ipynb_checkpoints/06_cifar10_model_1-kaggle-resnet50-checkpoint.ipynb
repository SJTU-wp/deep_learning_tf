{
 "cells": [
  {
   "cell_type": "code",
   "execution_count": null,
   "id": "39ed5622",
   "metadata": {},
   "outputs": [],
   "source": [
    "%matplotlib inline\n",
    "import matplotlib as mpl\n",
    "import matplotlib.pyplot as plt\n",
    "import numpy as np\n",
    "import os\n",
    "import pandas as pd\n",
    "import sklearn\n",
    "import sys\n",
    "import tensorflow as tf\n",
    "import time\n",
    "\n",
    "from tensorflow import keras\n",
    "\n",
    "print(tf.__version__)\n",
    "print(sys.version_info)\n",
    "for module in mpl, np, pd, sklearn, tf, keras:\n",
    "    print(module.__name__, module.__version__)"
   ]
  },
  {
   "cell_type": "code",
   "execution_count": null,
   "id": "320b711e",
   "metadata": {},
   "outputs": [],
   "source": []
  },
  {
   "cell_type": "markdown",
   "id": "119f74f6",
   "metadata": {},
   "source": [
    "## 输入数据处理"
   ]
  },
  {
   "cell_type": "code",
   "execution_count": null,
   "id": "b5d063f7",
   "metadata": {},
   "outputs": [],
   "source": [
    "# 所有的类别\n",
    "class_names = [\n",
    "    'airplane',\n",
    "    'automobile',\n",
    "    'bird',\n",
    "    'cat',\n",
    "    'deer',\n",
    "    'dog',\n",
    "    'frog',\n",
    "    'horse',\n",
    "    'ship',\n",
    "    'truck',\n",
    "]\n",
    "\n",
    "# 路径\n",
    "train_lables_file = '../cifar10/trainLabels.csv'  # labels\n",
    "test_csv_file = '../cifar10/sampleSubmission.csv'  # submission\n",
    "train_folder = '../cifar10/train/'  # 训练集所在的文件夹\n",
    "test_folder = '../cifar10/test/'  # 测试集所在的文件夹\n",
    "\n",
    "# def parse_csv_file(filepath, folder):\n",
    "#     \"\"\"Parses csv files into (filename(path), label) format\"\"\"\n",
    "#     results = []\n",
    "#     # 读取所有行\n",
    "#     with open(filepath, 'r') as f:\n",
    "# #         lines = f.readlines()  为什么加[1:]？ 有标题head\n",
    "#         lines = f.readlines()[1:]\n",
    "#     for line in lines:\n",
    "#         image_id, label_str = line.strip('\\n').split(',')\n",
    "#         image_full_path = os.path.join(folder, image_id + '.png')\n",
    "#         results.append((image_full_path, label_str))\n",
    "#     return results\n",
    "\n",
    "# # 解析对应的文件夹\n",
    "# train_labels_info = parse_csv_file(train_lables_file, train_folder)\n",
    "# test_csv_info = parse_csv_file(test_csv_file, test_folder)\n",
    "\n",
    "# # 打印\n",
    "# import pprint\n",
    "# pprint.pprint(train_labels_info[0:5])\n",
    "# pprint.pprint(test_csv_info[0:5])\n",
    "# print(len(train_labels_info), len(test_csv_info))\n",
    "\n",
    "# 读取 label\n",
    "train_path_df = pd.read_csv(train_labels_file)\n",
    "train_path_df[\"id\"] = train_path_df[\"id\"].apply(lambda x: \"{}/{}.png\".format(train_folder, x))\n",
    "train_path_df.columns=[\"filepath\", \"class\"]\n",
    "train_path_df.head()\n",
    "\n",
    "test_df = pd.read_csv(test_csv_file)\n",
    "test_df[\"path\"] = test_df[\"id\"].apply(lambda x: \"{}/{}.png\".format(test_folder, x))\n",
    "test_df.head()"
   ]
  },
  {
   "cell_type": "code",
   "execution_count": null,
   "id": "d4325ed3",
   "metadata": {},
   "outputs": [],
   "source": [
    "# # train_df = pd.DataFrame(train_labels_info)\n",
    "# train_df = pd.DataFrame(train_labels_info[0:45000])\n",
    "# valid_df = pd.DataFrame(train_labels_info[45000:])\n",
    "# test_df = pd.DataFrame(test_csv_info)\n",
    "\n",
    "# train_df.columns = ['filepath', 'class']\n",
    "# valid_df.columns = ['filepath', 'class']\n",
    "# test_df.columns = ['filepath', 'class']\n",
    "\n",
    "# print(train_df.head())\n",
    "# print(valid_df.head())\n",
    "# print(test_df.head())"
   ]
  },
  {
   "cell_type": "code",
   "execution_count": null,
   "id": "062dc9af",
   "metadata": {},
   "outputs": [],
   "source": [
    "# 数据集划分\n",
    "train_df = pd.DataFrame(train_path_df[0:45000])\n",
    "valid_df = pd.DataFrame(train_path_df[45000:])"
   ]
  },
  {
   "cell_type": "code",
   "execution_count": null,
   "id": "9d9486ca",
   "metadata": {},
   "outputs": [],
   "source": []
  },
  {
   "cell_type": "markdown",
   "id": "94e44552",
   "metadata": {},
   "source": [
    "## 模型搭建"
   ]
  },
  {
   "cell_type": "code",
   "execution_count": null,
   "id": "69ca5ee9",
   "metadata": {},
   "outputs": [],
   "source": [
    "height = 224\n",
    "width = 224\n",
    "channels = 3\n",
    "batch_size = 24\n",
    "num_classes = 10\n",
    "\n",
    "train_datagen = keras.preprocessing.image.ImageDataGenerator(\n",
    "    preprocessing_function = keras.applications.resnet50.preprocess_input,\n",
    "    rotation_range = 40,\n",
    "    width_shift_range = 0.2,\n",
    "    height_shift_range = 0.2,\n",
    "    shear_range = 0.2,\n",
    "    zoom_range = 0.2,\n",
    "    horizontal_flip = True,\n",
    "    fill_mode = 'nearest',\n",
    ")\n",
    "train_generator = train_datagen.flow_from_dataframe(\n",
    "    train_df,\n",
    "    directory = './',\n",
    "    x_col = 'filepath',\n",
    "    y_col = 'class',\n",
    "    # 将labels转换为id\n",
    "    classes = class_names,\n",
    "    target_size = (height, width),\n",
    "    batch_size = batch_size,\n",
    "    seed = 7,\n",
    "    shuffle = True,\n",
    "    class_mode = 'sparse',\n",
    ")\n",
    "\n",
    "# 和上面一致\n",
    "valid_datagen = keras.preprocessing.image.ImageDataGenerator(\n",
    "   preprocessing_function = keras.applications.resnet50.preprocess_input)\n",
    "valid_generator = valid_datagen.flow_from_dataframe(\n",
    "    valid_df,\n",
    "    directory = './',\n",
    "    x_col = 'filepath',\n",
    "    y_col = 'class',\n",
    "    classes = class_names,\n",
    "    target_size = (height, width),\n",
    "    batch_size = batch_size,\n",
    "    seed = 7,\n",
    "    shuffle = False,\n",
    "    class_mode = \"sparse\")\n",
    "\n",
    "train_num = train_generator.samples\n",
    "valid_num = valid_generator.samples\n",
    "print(train_num, valid_num)"
   ]
  },
  {
   "cell_type": "code",
   "execution_count": null,
   "id": "44ab9e8f",
   "metadata": {},
   "outputs": [],
   "source": [
    "model = keras.models.Sequential([\n",
    "    keras.applications.ResNet50(include_top=False, pooling='avg', weights='imagenet'),\n",
    "    keras.layers.Dense(num_classes, activation='softmax'),\n",
    "])\n",
    "\n",
    "model.compile(loss='sparse_categorical_crossentropy', optimizer='adam', metrics=['accuracy'])\n",
    "model.layers[0].trainable = True\n",
    "model.summary()"
   ]
  },
  {
   "cell_type": "code",
   "execution_count": null,
   "id": "3f191e24",
   "metadata": {},
   "outputs": [],
   "source": [
    "keras.utils.plot_model(model, show_shapes=True)"
   ]
  },
  {
   "cell_type": "code",
   "execution_count": null,
   "id": "643221af",
   "metadata": {},
   "outputs": [],
   "source": []
  },
  {
   "cell_type": "markdown",
   "id": "0a99f05f",
   "metadata": {},
   "source": [
    "## 模型训练与预测"
   ]
  },
  {
   "cell_type": "code",
   "execution_count": null,
   "id": "04207831",
   "metadata": {},
   "outputs": [],
   "source": [
    "epochs = 20\n",
    "history = model.fit_generator(train_generator,\n",
    "                              steps_per_epoch = train_num // batch_size,\n",
    "                              epochs = epochs,\n",
    "                              validation_data = valid_generator,\n",
    "                              validation_steps = valid_num // batch_size)"
   ]
  },
  {
   "cell_type": "code",
   "execution_count": null,
   "id": "03d02c96",
   "metadata": {},
   "outputs": [],
   "source": [
    "print(history.history)\n",
    "def plot_learning_curves(history, label, epcohs, min_value, max_value):\n",
    "    data = {}\n",
    "    data[label] = history.history[label]\n",
    "    data['val_'+label] = history.history['val_'+label]\n",
    "    pd.DataFrame(data).plot(figsize=(8, 5))\n",
    "    plt.grid(True)\n",
    "    plt.axis([0, epochs, min_value, max_value])\n",
    "    plt.show()\n",
    "    \n",
    "plot_learning_curves(history, 'accuracy', epochs, 0, 1)\n",
    "plot_learning_curves(history, 'loss', epochs, 0, 2)"
   ]
  },
  {
   "cell_type": "code",
   "execution_count": null,
   "id": "be519121",
   "metadata": {},
   "outputs": [],
   "source": [
    "test_datagen = keras.preprocessing.image.ImageDataGenerator(\n",
    "    preprocessing_function = keras.applications.resnet50.preprocess_input)\n",
    "test_generator = valid_datagen.flow_from_dataframe(\n",
    "    test_df,\n",
    "    directory = './',\n",
    "    x_col = 'filepath',\n",
    "    y_col = 'class',\n",
    "    classes = class_names,\n",
    "    target_size = (height, width),\n",
    "    batch_size = batch_size,\n",
    "    seed = 7,\n",
    "    shuffle = False,\n",
    "    class_mode = \"sparse\")\n",
    "test_num = test_generator.samples\n",
    "print(test_num)"
   ]
  },
  {
   "cell_type": "code",
   "execution_count": null,
   "id": "09526b23",
   "metadata": {},
   "outputs": [],
   "source": [
    "# 正式预测\n",
    "test_predict = model.predict_generator(test_generator,\n",
    "                                       workers = 3,\n",
    "                                       use_multiprocessing = True)"
   ]
  },
  {
   "cell_type": "code",
   "execution_count": null,
   "id": "3a59730f",
   "metadata": {},
   "outputs": [],
   "source": [
    "print(test_predict.shape)"
   ]
  },
  {
   "cell_type": "code",
   "execution_count": null,
   "id": "43161a90",
   "metadata": {},
   "outputs": [],
   "source": [
    "print(test_predict[0:5])"
   ]
  },
  {
   "cell_type": "code",
   "execution_count": null,
   "id": "ceac8d30",
   "metadata": {},
   "outputs": [],
   "source": []
  },
  {
   "cell_type": "markdown",
   "id": "53a55504",
   "metadata": {},
   "source": [
    "## 预测结果提交"
   ]
  },
  {
   "cell_type": "code",
   "execution_count": null,
   "id": "2b88d17c",
   "metadata": {},
   "outputs": [],
   "source": [
    "test_predict_class_indices = np.argmax(test_predict, axis = 1)"
   ]
  },
  {
   "cell_type": "code",
   "execution_count": null,
   "id": "11cb5e0c",
   "metadata": {},
   "outputs": [],
   "source": [
    "print(test_predict_class_indices[0:5])"
   ]
  },
  {
   "cell_type": "code",
   "execution_count": null,
   "id": "df2438c8",
   "metadata": {},
   "outputs": [],
   "source": [
    "test_predict_class = [class_names[index] \n",
    "                      for index in test_predict_class_indices]"
   ]
  },
  {
   "cell_type": "code",
   "execution_count": null,
   "id": "d0088895",
   "metadata": {},
   "outputs": [],
   "source": [
    "print(test_predict_class[0:5])"
   ]
  },
  {
   "cell_type": "code",
   "execution_count": null,
   "id": "d564d465",
   "metadata": {},
   "outputs": [],
   "source": [
    "# 产生最终的报告\n",
    "def generate_submissions(filename, predict_class):\n",
    "    with open(filename, 'w') as f:\n",
    "        f.write('id,label\\n')\n",
    "        for i in range(len(predict_class)):\n",
    "            f.write('%d,%s\\n' % (i+1, predict_class[i]))\n",
    "\n",
    "output_file = \"../cifar10/submission_resnet50.csv\"\n",
    "generate_submissions(output_file, test_predict_class)"
   ]
  },
  {
   "cell_type": "code",
   "execution_count": null,
   "id": "0e068b29",
   "metadata": {},
   "outputs": [],
   "source": []
  }
 ],
 "metadata": {
  "kernelspec": {
   "display_name": "Python 3",
   "language": "python",
   "name": "python3"
  },
  "language_info": {
   "codemirror_mode": {
    "name": "ipython",
    "version": 3
   },
   "file_extension": ".py",
   "mimetype": "text/x-python",
   "name": "python",
   "nbconvert_exporter": "python",
   "pygments_lexer": "ipython3",
   "version": "3.6.9"
  }
 },
 "nbformat": 4,
 "nbformat_minor": 5
}
