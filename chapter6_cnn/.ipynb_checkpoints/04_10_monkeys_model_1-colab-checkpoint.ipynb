{
 "cells": [
  {
   "cell_type": "code",
   "execution_count": null,
   "id": "8c5160f6",
   "metadata": {
    "scrolled": true
   },
   "outputs": [],
   "source": [
    "import numpy as np  # linear algebra\n",
    "import pandas as pd  # data processing, CSV file I/O (e.g. pd.read_csv)\n",
    "\n",
    "# Input data files are available in the \"../input/\" directory.  # 之前如此\n",
    "# For example, running this (by clicking run or pressing Shift+Enter) will list the files in the input directory\n",
    "\n",
    "import os\n",
    "# print(os.listdir(\"../input\"))  # 已更改\n",
    "\n",
    "# Any results you write to the current directory are saved as output."
   ]
  },
  {
   "cell_type": "code",
   "execution_count": 2,
   "id": "15db8220",
   "metadata": {},
   "outputs": [
    {
     "name": "stdout",
     "output_type": "stream",
     "text": [
      "Python 3.6.9\r\n"
     ]
    }
   ],
   "source": [
    "!python -V"
   ]
  },
  {
   "cell_type": "code",
   "execution_count": 5,
   "id": "4ab84eb4",
   "metadata": {},
   "outputs": [
    {
     "name": "stdout",
     "output_type": "stream",
     "text": [
      "2.6.2\n",
      "sys.version_info(major=3, minor=6, micro=9, releaselevel='final', serial=0)\n",
      "matplotlib 3.3.4\n",
      "numpy 1.19.5\n",
      "pandas 1.1.5\n",
      "sklearn 0.24.2\n",
      "tensorflow 2.6.2\n",
      "keras.api._v2.keras 2.6.0\n"
     ]
    }
   ],
   "source": [
    "%matplotlib inline\n",
    "import matplotlib as mpl\n",
    "import matplotlib.pyplot as plt\n",
    "import numpy as np\n",
    "import os\n",
    "import pandas as pd\n",
    "import sklearn\n",
    "import sys\n",
    "import tensorflow as tf\n",
    "import time\n",
    "\n",
    "from tensorflow import keras\n",
    "\n",
    "print(tf.__version__)\n",
    "print(sys.version_info)\n",
    "for module in mpl, np, pd, sklearn, tf, keras:\n",
    "    print(module.__name__, module.__version__)"
   ]
  },
  {
   "cell_type": "markdown",
   "id": "5fd4e2dd",
   "metadata": {},
   "source": [
    "# 准备数据"
   ]
  },
  {
   "cell_type": "code",
   "execution_count": null,
   "id": "3bf6a46d",
   "metadata": {},
   "outputs": [],
   "source": [
    "!pip install kaggle"
   ]
  },
  {
   "cell_type": "code",
   "execution_count": null,
   "id": "a2ce7c1f",
   "metadata": {},
   "outputs": [],
   "source": [
    "# 去kaggle那边拿数据，需要有key\n",
    "import json\n",
    "\n",
    "token = {\"username\":\"cskaoyan\",\"key\":\"f9d523149492466f3cbefd60421172d1\"}\n",
    "with open('/content/kaggle.json', 'w') as file:\n",
    "  json.dump(token, file)"
   ]
  },
  {
   "cell_type": "code",
   "execution_count": null,
   "id": "83de5f51",
   "metadata": {},
   "outputs": [],
   "source": [
    "!cat /content/kaggle.json"
   ]
  },
  {
   "cell_type": "code",
   "execution_count": null,
   "id": "8cd0ef5e",
   "metadata": {},
   "outputs": [],
   "source": [
    "!ls -l ~/.kaggle"
   ]
  },
  {
   "cell_type": "code",
   "execution_count": null,
   "id": "4157deeb",
   "metadata": {},
   "outputs": [],
   "source": [
    "!mkdir -p ~/.kaggle\n",
    "!cp /content/kaggle.json ~/.kaggle/\n",
    "!chmod 600 ~/.kaggle/kaggle.json\n",
    "!kaggle config set -n path -v /content"
   ]
  },
  {
   "cell_type": "code",
   "execution_count": null,
   "id": "7b8f1d51",
   "metadata": {},
   "outputs": [],
   "source": [
    "!ls sample_data"
   ]
  },
  {
   "cell_type": "code",
   "execution_count": null,
   "id": "4a0b4947",
   "metadata": {},
   "outputs": [],
   "source": [
    "# 核心就在这一步，如果这一步报错，就是前面的key没设置好，再设置一遍\n",
    "!kaggle datasets download -d slothkong/10-monkey-species"
   ]
  },
  {
   "cell_type": "code",
   "execution_count": null,
   "id": "1c68dea0",
   "metadata": {},
   "outputs": [],
   "source": [
    "!ls datasets/slothkong/10-monkey-species"
   ]
  },
  {
   "cell_type": "code",
   "execution_count": null,
   "id": "bb827da2",
   "metadata": {},
   "outputs": [],
   "source": [
    "!unzip -o -d /content /content/datasets/slothkong/10-monkey-species/10-monkey-species.zip"
   ]
  },
  {
   "cell_type": "code",
   "execution_count": null,
   "id": "b5ab462c",
   "metadata": {},
   "outputs": [],
   "source": [
    "!ls /content"
   ]
  },
  {
   "cell_type": "code",
   "execution_count": null,
   "id": "f48edb20",
   "metadata": {},
   "outputs": [],
   "source": []
  },
  {
   "cell_type": "markdown",
   "id": "a8777383",
   "metadata": {},
   "source": [
    "## 数据预处理"
   ]
  },
  {
   "cell_type": "code",
   "execution_count": null,
   "id": "d45c67a1",
   "metadata": {},
   "outputs": [],
   "source": [
    "# 数据路径规整、正确是前提\n",
    "train_dir = \"./training/training\"\n",
    "valid_dir = \"./validation/validation\"\n",
    "label_file = \"./monkey_labels.txt\"\n",
    "print(os.path.exists(train_dir))\n",
    "print(os.path.exists(valid_dir))\n",
    "print(os.path.exists(label_file))\n",
    "\n",
    "print(os.listdir(train_dir))\n",
    "print(os.listdir(valid_dir))"
   ]
  },
  {
   "cell_type": "code",
   "execution_count": null,
   "id": "b3e668ff",
   "metadata": {},
   "outputs": [],
   "source": [
    "!nvidia-smi"
   ]
  },
  {
   "cell_type": "code",
   "execution_count": null,
   "id": "79812ce2",
   "metadata": {},
   "outputs": [],
   "source": [
    "labels = pd.read_csv(label_file, header=0)\n",
    "print(labels)"
   ]
  },
  {
   "cell_type": "code",
   "execution_count": null,
   "id": "eb351960",
   "metadata": {},
   "outputs": [],
   "source": [
    "height = 128\n",
    "width = 128\n",
    "channels = 3\n",
    "batch_size = 64\n",
    "num_classes = 10  # 类别数（10类猴子）\n",
    "\n",
    "train_datagen = keras.preprocessing.image.ImageDataGenerator(\n",
    "    rescale=1./255,  # 图片中的每个像素点都乘以1/255-归一化\n",
    "    rotation_range=40,  # 把图形随机旋转一个角度，在0-40度之间\n",
    "    width_shift_range=0.2,  # 位移，0-20%之间选择做偏移\n",
    "    height_shift_range=0.2,  # 垂直方向位移，如果是0-1之间的数，就是比例，大于1就是像素\n",
    "    shear_range=0.2,  # 剪切强度（逆时针剪切角，以度为单位）\n",
    "    zoom_range=0.2,  # 缩放强度\n",
    "    horizontal_flip=True,  # 水平随机翻转\n",
    "    fill_mode='nearest',  # 图形放大后，有些地方需要填充\n",
    "    # 可以是“常数”，“最近”，“反射”或“环绕”之一\n",
    "    # 默认值为“最近”。输入边界之外的点将根据给定模式进行填充\n",
    ")\n",
    "\n",
    "# 读取图片\n",
    "train_generator = train_datagen.flow_from_directory(train_dir,\n",
    "                                                   # 生成图片多大\n",
    "                                                   target_size=(height, width),\n",
    "                                                   # 生成图片以多少张为一组\n",
    "                                                   batch_size=batch_size,\n",
    "                                                   seed=7,\n",
    "                                                   shuffle=True,\n",
    "                                                   # one-hot编码后的一种模式\n",
    "                                                   class_mode=\"categorical\")\n",
    "\n",
    "# 对验证集必须做一个值的缩放，其他的不需要做\n",
    "valid_datagen = keras.preprocessing.image.ImageDataGenerator(rescale = 1./255)\n",
    "valid_generator = valid_datagen.flow_from_directory(valid_dir,\n",
    "                                                    target_size = (height, width),\n",
    "                                                    batch_size = batch_size,\n",
    "                                                    seed = 7,\n",
    "                                                    shuffle = False,\n",
    "                                                    class_mode = \"categorical\")\n",
    "\n",
    "train_num = train_generator.samples\n",
    "valid_num = valid_generator.samples\n",
    "print(train_num, valid_num)"
   ]
  },
  {
   "cell_type": "code",
   "execution_count": null,
   "id": "e8cbe586",
   "metadata": {},
   "outputs": [],
   "source": [
    "for i in range(2):\n",
    "    x, y = train_generator.next()\n",
    "    print(x.shape, y.shape)\n",
    "    print(y)"
   ]
  },
  {
   "cell_type": "code",
   "execution_count": null,
   "id": "cd29dab2",
   "metadata": {},
   "outputs": [],
   "source": []
  },
  {
   "cell_type": "markdown",
   "id": "dd5bd64f",
   "metadata": {},
   "source": [
    "## 搭建模型"
   ]
  },
  {
   "cell_type": "code",
   "execution_count": null,
   "id": "ef9a254f",
   "metadata": {},
   "outputs": [],
   "source": [
    "model = keras.models.Sequential([\n",
    "    # 第一组卷积\n",
    "    keras.layers.Conv2D(filters=32, kernel_size=3, padding='same',\n",
    "                       activation='relu', input_shape=[width, height, channels]),\n",
    "    keras.layers.Conv2D(filters=32, kernel_size=3, padding='same',\n",
    "                       activation='relu'),\n",
    "    keras.layers.MaxPool2D(pool_size=2),\n",
    "    \n",
    "    # 第二组卷积\n",
    "    keras.layers.Conv2D(filters=64, kernel_size=3, padding='same',\n",
    "                        activation='relu'),\n",
    "    keras.layers.Conv2D(filters=64, kernel_size=3, padding='same',\n",
    "                        activation='relu'),\n",
    "    keras.layers.MaxPool2D(pool_size=2),\n",
    "    \n",
    "    # 第三组再翻倍\n",
    "    keras.layers.Conv2D(filters=128, kernel_size=3, padding='same',\n",
    "                        activation='relu'),\n",
    "    keras.layers.Conv2D(filters=128, kernel_size=3, padding='same',\n",
    "                        activation='relu'),\n",
    "    keras.layers.MaxPool2D(pool_size=2),\n",
    "    \n",
    "    # 展平后，和全连接层做连接\n",
    "    keras.layers.Flatten(),\n",
    "    keras.layers.Dense(128, activation='relu'),\n",
    "    keras.layers.Dense(num_classes, activation='softmax'),\n",
    "])\n",
    "\n",
    "model.compile(loss=\"categorical_crossentropy\",\n",
    "             optimizer=\"adam\", metrics=['accuracy'])\n",
    "\n",
    "model.summary()"
   ]
  },
  {
   "cell_type": "code",
   "execution_count": null,
   "id": "6877df36",
   "metadata": {},
   "outputs": [],
   "source": [
    "len(model.layers)"
   ]
  },
  {
   "cell_type": "code",
   "execution_count": null,
   "id": "3ab3d11f",
   "metadata": {},
   "outputs": [],
   "source": [
    "epochs = 50\n",
    "# 如果机器性能好，可以把epochs改为300\n",
    "history = model.fit_generator(train_generator,\n",
    "                              # 显式指定\n",
    "                              steps_per_epoch = train_num // batch_size,\n",
    "                              epochs = epochs,\n",
    "                              # 验证集\n",
    "                              validation_data = valid_generator,\n",
    "                              validation_steps = valid_num // batch_size)"
   ]
  },
  {
   "cell_type": "code",
   "execution_count": null,
   "id": "dee5fc21",
   "metadata": {},
   "outputs": [],
   "source": [
    "def plot_learning_curves(history, label, epcohs, min_value, max_value):\n",
    "    data = {}\n",
    "    data[label] = history.history[label]\n",
    "    data['val_'+label] = history.history['val_'+label]\n",
    "    pd.DataFrame(data).plot(figsize=(8, 5))\n",
    "    plt.grid(True)\n",
    "    plt.axis([0, epochs, min_value, max_value])\n",
    "    plt.show()\n",
    "    \n",
    "# 因为accuracy的值和loss值的范围很不一样，因此我们打印两条曲线\n",
    "plot_learning_curves(history, 'accuracy', epochs, 0, 1)\n",
    "plot_learning_curves(history, 'loss', epochs, 1.5, 2.5)"
   ]
  },
  {
   "cell_type": "code",
   "execution_count": null,
   "id": "3ff3d697",
   "metadata": {},
   "outputs": [],
   "source": []
  }
 ],
 "metadata": {
  "kernelspec": {
   "display_name": "Python 3",
   "language": "python",
   "name": "python3"
  },
  "language_info": {
   "codemirror_mode": {
    "name": "ipython",
    "version": 3
   },
   "file_extension": ".py",
   "mimetype": "text/x-python",
   "name": "python",
   "nbconvert_exporter": "python",
   "pygments_lexer": "ipython3",
   "version": "3.6.9"
  }
 },
 "nbformat": 4,
 "nbformat_minor": 5
}
