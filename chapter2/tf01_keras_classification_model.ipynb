{
 "cells": [
  {
   "cell_type": "code",
   "execution_count": 2,
   "id": "4050b888",
   "metadata": {},
   "outputs": [
    {
     "name": "stdout",
     "output_type": "stream",
     "text": [
      "2.6.2\n",
      "sys.version_info(major=3, minor=6, micro=9, releaselevel='final', serial=0)\n",
      "matplotlib 3.3.4\n",
      "numpy 1.19.5\n",
      "pandas 1.1.5\n",
      "sklearn 0.24.2\n",
      "tensorflow 2.6.2\n",
      "keras.api._v2.keras 2.6.0\n"
     ]
    }
   ],
   "source": [
    "import matplotlib as mpl\n",
    "import matplotlib.pyplot as plt\n",
    "%matplotlib inline\n",
    "import numpy as np\n",
    "import sklearn\n",
    "import pandas as pd\n",
    "import os\n",
    "import sys\n",
    "import time\n",
    "import tensorflow as tf\n",
    "\n",
    "from tensorflow import keras\n",
    "\n",
    "print(tf.__version__)\n",
    "print(sys.version_info)\n",
    "for module in mpl, np, pd, sklearn, tf, keras:\n",
    "    print(module.__name__, module.__version__)"
   ]
  },
  {
   "cell_type": "code",
   "execution_count": 3,
   "id": "508bc831",
   "metadata": {},
   "outputs": [
    {
     "name": "stdout",
     "output_type": "stream",
     "text": [
      "(55000, 28, 28) (55000,)\n",
      "(5000, 28, 28) (5000,)\n",
      "(10000, 28, 28) (10000,)\n"
     ]
    }
   ],
   "source": [
    "# fashion_mnist图像分类数据集\n",
    "fashion_mnist = keras.datasets.fashion_mnist\n",
    "\n",
    "(x_train_all, y_train_all), (x_test, y_test) = fashion_mnist.load_data()\n",
    "\n",
    "x_valid, x_train = x_train_all[:5000], x_train_all[5000:]  # 自定义验证集样本数量5000\n",
    "y_valid, y_train = y_train_all[:5000], y_train_all[5000:]\n",
    "\n",
    "# 得到的是np，训练集，验证集，测试集\n",
    "print(x_train.shape, y_train.shape)\n",
    "print(x_valid.shape, y_valid.shape)\n",
    "print(x_test.shape, y_test.shape)"
   ]
  },
  {
   "cell_type": "code",
   "execution_count": 4,
   "id": "e5c71466",
   "metadata": {},
   "outputs": [
    {
     "data": {
      "text/plain": [
       "784"
      ]
     },
     "execution_count": 4,
     "metadata": {},
     "output_type": "execute_result"
    }
   ],
   "source": [
    "28*28  # 如果非要对应多少特征，就是784个特征"
   ]
  },
  {
   "cell_type": "code",
   "execution_count": 5,
   "id": "0e570ac6",
   "metadata": {},
   "outputs": [
    {
     "data": {
      "text/plain": [
       "numpy.ndarray"
      ]
     },
     "execution_count": 5,
     "metadata": {},
     "output_type": "execute_result"
    }
   ],
   "source": [
    "type(x_train)"
   ]
  },
  {
   "cell_type": "code",
   "execution_count": 6,
   "id": "4801c487",
   "metadata": {},
   "outputs": [
    {
     "data": {
      "text/plain": [
       "4"
      ]
     },
     "execution_count": 6,
     "metadata": {},
     "output_type": "execute_result"
    }
   ],
   "source": [
    "y_train[0]"
   ]
  },
  {
   "cell_type": "code",
   "execution_count": 7,
   "id": "68f009d9",
   "metadata": {},
   "outputs": [
    {
     "name": "stdout",
     "output_type": "stream",
     "text": [
      "[[  0   0   0   0   0   0   0   0   0   0   0   0   0   0   0   0   0   0\n",
      "    0   1   0   0   0   0   0   0   0   0]\n",
      " [  0   0   0   0   0   0   0   0   0   0   0  44 127 182 185 161 120  55\n",
      "    0   0   0   0   0   0   0   0   0   0]\n",
      " [  0   0   0   0   0   0   0   0   0  42 198 251 255 251 249 247 255 252\n",
      "  214 100   0   0   0   0   0   0   0   0]\n",
      " [  0   0   0   0   0   0   2   0   0 233 252 237 239 234 237 235 237 237\n",
      "  254 227   0   0   0   0   1   0   0   0]\n",
      " [  0   0   0   0   0   2   0   0  16 210 225 215 175 217 216 193 196 226\n",
      "  221 209  50   0   0   2   0   0   0   0]\n",
      " [  0   0   0   0   2   0   0 199 229 232 230 245 204 219 253 245 207 194\n",
      "  223 231 236 235   0   0   3   0   0   0]\n",
      " [  0   0   0   0   1   0 137 235 204 209 201 209 234 190 234 218 215 238\n",
      "  239 204 189 224 154   0   0   0   0   0]\n",
      " [  0   0   0   0   0   0 194 201 200 209 202 193 205 194 183 218 231 197\n",
      "  172 181 193 205 199   0   0   0   0   0]\n",
      " [  0   0   0   0   0   3 212 203 188 189 196 198 198 201 196 217 179 167\n",
      "  183 217 197 202 219  30   0   0   0   0]\n",
      " [  0   0   0   0   0  34 225 200 194 190 188 192 196 192 170 202 190 201\n",
      "  195 200 201 209 227  50   0   0   0   0]\n",
      " [  0   0   0   0   0  68 225 210 211 198 192 196 204 196 181 212 197 195\n",
      "  192 206 220 210 229  93   0   0   0   0]\n",
      " [  0   0   0   0   0 111 223 227 253 209 196 204 211 206 183 216 206 210\n",
      "  203 215 244 224 227 150   0   0   0   0]\n",
      " [  0   0   0   0   0 139 225 224 255 202 206 212 209 211 190 213 202 207\n",
      "  206 222 255 230 220 190   0   0   0   0]\n",
      " [  0   0   0   0   0 180 226 224 255 199 204 207 214 214 190 216 206 203\n",
      "  205 219 243 224 214 234   0   0   0   0]\n",
      " [  0   0   0   0   0 225 223 228 254 209 206 208 213 210 191 215 207 204\n",
      "  208 211 249 226 214 255  38   0   0   0]\n",
      " [  0   0   0   0   0 250 232 240 239 211 203 209 205 211 197 215 208 208\n",
      "  214 213 239 231 219 255  81   0   0   0]\n",
      " [  0   0   0   0   0 248 236 247 240 203 200 208 206 214 193 213 212 208\n",
      "  212 211 243 242 225 254  66   0   0   0]\n",
      " [  0   0   0   0   0 247 230 252 226 199 211 202 211 213 182 213 212 206\n",
      "  202 219 207 247 222 237 104   0   0   0]\n",
      " [  0   0   0   0  10 244 219 250 205 199 209 202 209 211 189 214 206 210\n",
      "  200 212 154 240 208 219 140   0   0   0]\n",
      " [  0   0   0   0  21 255 222 238 184 210 192 206 209 210 189 213 211 209\n",
      "  192 228 155 226 238 241 166   0   0   0]\n",
      " [  0   0   0   0  37 245 226 241 150 197 189 204 209 210 183 213 213 201\n",
      "  184 215 146 216 236 225 154   0   0   0]\n",
      " [  0   0   0   0  58 239 227 255 158 193 195 204 209 213 180 207 217 199\n",
      "  194 211 158 219 236 216 151   0   0   0]\n",
      " [  0   0   0   0  68 233 226 243 139 200 193 205 210 208 180 205 212 203\n",
      "  196 216 157 179 255 216 155   0   0   0]\n",
      " [  0   0   0   0  81 225 224 211 138 219 185 201 213 207 197 226 212 200\n",
      "  190 215 183  90 255 211 147   0   0   0]\n",
      " [  0   0   0   0  91 210 230 158 114 205 187 208 209 206 193 210 211 204\n",
      "  195 204 181  23 255 213 158   0   0   0]\n",
      " [  0   0   0   0  87 205 232 109 164 255 214 224 222 210 197 214 225 222\n",
      "  211 220 217   0 234 216 169   0   0   0]\n",
      " [  0   0   0   0  92 213 232 146   5 134 151 162 170 183 182 164 166 178\n",
      "  162 156  98   0 240 225 210   0   0   0]\n",
      " [  0   0   0   0  43 164 206 141   0   0   0   0   0   0   0   0   0   0\n",
      "    0   0   0   0 127 125  76   0   0   0]]\n"
     ]
    },
    {
     "data": {
      "image/png": "[encoded data removed]",
      "text/plain": [
       "<Figure size 432x288 with 2 Axes>"
      ]
     },
     "metadata": {
      "needs_background": "light"
     },
     "output_type": "display_data"
    },
    {
     "name": "stdout",
     "output_type": "stream",
     "text": [
      "184\n",
      "0\n"
     ]
    }
   ],
   "source": [
    "def show_single_image(img_arr):\n",
    "    plt.imshow(img_arr, cmap=\"binary\")\n",
    "    plt.colorbar()  # 旁边显示一个色阶条\n",
    "    plt.show()\n",
    "\n",
    "\n",
    "# 依次看一下x_train[0]，x_train[1]，x_train[2]就可以理解下面的循环\n",
    "print(x_train[0])\n",
    "show_single_image(x_train[1])\n",
    "print(x_train[1,0,18])\n",
    "print(y_train[1])"
   ]
  },
  {
   "cell_type": "code",
   "execution_count": 8,
   "id": "42a64f6a",
   "metadata": {},
   "outputs": [
    {
     "data": {
      "image/png": "[encoded data removed]",
      "text/plain": [
       "<Figure size 504x345.6 with 15 Axes>"
      ]
     },
     "metadata": {
      "needs_background": "light"
     },
     "output_type": "display_data"
    }
   ],
   "source": [
    "def show_imgs(n_rows, n_cols, x_data, y_data, class_names):\n",
    "    assert len(x_data) == len(y_data)  # 断言：x和y的样本数一致（可以预料到的异常）\n",
    "    assert n_rows * n_cols < len(x_data)  # 确保打印的图片小于总样本数\n",
    "    plt.figure(figsize = (n_cols * 1.4, n_rows * 1.6))  # 宽1.4高1.6\n",
    "    for row in range(n_rows):\n",
    "        for col in range(n_cols):\n",
    "            index = n_cols * row + col \n",
    "            plt.subplot(n_rows, n_cols, index+1)  # 因为从1开始\n",
    "            plt.imshow(x_data[index], cmap=\"binary\",\n",
    "                       interpolation = 'nearest')\n",
    "            plt.axis('off')  # 去除坐标系\n",
    "            plt.title(class_names[y_data[index]])\n",
    "    plt.show()\n",
    "# 已知的图片类别\n",
    "# lables在这个路径https://github.com/zalandoresearch/fashion-mnist\n",
    "class_names = ['T-shirt', 'Trouser', 'Pullover', 'Dress',\n",
    "               'Coat', 'Sandal', 'Shirt', 'Sneaker',\n",
    "               'Bag', 'Ankle boot']\n",
    "# 只是打印了前15个样本\n",
    "show_imgs(3, 5, x_train, y_train, class_names)\n"
   ]
  },
  {
   "cell_type": "code",
   "execution_count": 9,
   "id": "6e6d1a5f",
   "metadata": {},
   "outputs": [
    {
     "name": "stdout",
     "output_type": "stream",
     "text": [
      "(None, 784)\n"
     ]
    }
   ],
   "source": [
    "# tf.keras.models.Sequential(),可以看下官网\n",
    "# 功能：Sequential将线性的层堆叠到一个tf.keras.Model\n",
    "\n",
    "model = keras.models.Sequential()\n",
    "# 把28*28的图片展平为一个一维向量,通过下面打印可以看到两个相乘\n",
    "model.add(keras.layers.Flatten(input_shape=[28, 28]))\n",
    "print(model.output_shape)\n",
    "\n",
    "# Dense是全连接层，添加全连接层，单元数是300，可以对比300和100的差异\n",
    "# relu: y = max(0, x)\n",
    "# softmax: 将向量变成概率分布. x = [x1, x2, x3], \n",
    "#          y = [e^x1/sum, e^x2/sum, e^x3/sum], sum = e^x1 + e^x2 + e^x3\n",
    "model.add(keras.layers.Dense(300, activation=\"relu\"))\n",
    "model.add(keras.layers.Dense(100, activation=\"relu\"))\n",
    "model.add(keras.layers.Dense(10, activation=\"softmax\"))\n",
    "\n",
    "# 另一种实现方式\n",
    "# model = keras.models.Sequential([\n",
    "#     keras.layers.Flatten(input_shape=[28, 28]),\n",
    "#     keras.layers.Dense(300, activation='relu'),\n",
    "#     keras.layers.Dense(100, activation='relu'),\n",
    "#     keras.layers.Dense(10, activation='softmax')\n",
    "# ])\n",
    "\n",
    "\n",
    "\n",
    "# reason for sparse: y->index. y->one_hot->[] \n",
    "# loss是损失函数 y如果只是一个数，那么使用sparse_categorical_crossentropy\n",
    "# sparse_categorical_crossentropy计算稀疏分类crossentropy损失\n",
    "# 计算的分类值是 0,1,2,...9\n",
    "# 如果是一个向量，那么使用categorical_crossentropy\n",
    "# optimizer是优化方法，\n",
    "# metrics：模型在训练和测试期间要评估的指标列表（算子）\n",
    "model.compile(loss=\"sparse_categorical_crossentropy\",\n",
    "              optimizer = keras.optimizers.SGD(0.001),\n",
    "              metrics = [\"accuracy\"])"
   ]
  },
  {
   "cell_type": "code",
   "execution_count": 10,
   "id": "03fc9b23",
   "metadata": {},
   "outputs": [
    {
     "data": {
      "text/plain": [
       "[<keras.layers.core.Flatten at 0x7fdc9b521cc0>,\n",
       " <keras.layers.core.Dense at 0x7fdc9b622400>,\n",
       " <keras.layers.core.Dense at 0x7fdc9b622240>,\n",
       " <keras.layers.core.Dense at 0x7fdc9b5c6c88>]"
      ]
     },
     "execution_count": 10,
     "metadata": {},
     "output_type": "execute_result"
    }
   ],
   "source": [
    "model.layers  #总计有4层"
   ]
  },
  {
   "cell_type": "code",
   "execution_count": 11,
   "id": "b54b33b9",
   "metadata": {},
   "outputs": [
    {
     "name": "stdout",
     "output_type": "stream",
     "text": [
      "Model: \"sequential\"\n",
      "_________________________________________________________________\n",
      "Layer (type)                 Output Shape              Param #   \n",
      "=================================================================\n",
      "flatten (Flatten)            (None, 784)               0         \n",
      "_________________________________________________________________\n",
      "dense (Dense)                (None, 300)               235500    \n",
      "_________________________________________________________________\n",
      "dense_1 (Dense)              (None, 100)               30100     \n",
      "_________________________________________________________________\n",
      "dense_2 (Dense)              (None, 10)                1010      \n",
      "=================================================================\n",
      "Total params: 266,610\n",
      "Trainable params: 266,610\n",
      "Non-trainable params: 0\n",
      "_________________________________________________________________\n"
     ]
    }
   ],
   "source": [
    "# 计算参数个数\n",
    "model.summary()"
   ]
  },
  {
   "cell_type": "code",
   "execution_count": 12,
   "id": "233f095a",
   "metadata": {},
   "outputs": [
    {
     "data": {
      "text/plain": [
       "235500"
      ]
     },
     "execution_count": 12,
     "metadata": {},
     "output_type": "execute_result"
    }
   ],
   "source": [
    "784*300+300"
   ]
  },
  {
   "cell_type": "code",
   "execution_count": 13,
   "id": "8a51f1a2",
   "metadata": {},
   "outputs": [
    {
     "data": {
      "text/plain": [
       "[<tf.Variable 'dense/kernel:0' shape=(784, 300) dtype=float32, numpy=\n",
       " array([[ 0.06382512,  0.02635588, -0.03967408, ...,  0.00196544,\n",
       "          0.0353009 ,  0.02244373],\n",
       "        [-0.06620544,  0.00045069, -0.01344121, ..., -0.02563372,\n",
       "          0.06692927,  0.01708721],\n",
       "        [-0.02556816,  0.01554631,  0.04291801, ...,  0.0024805 ,\n",
       "          0.02317974,  0.01921599],\n",
       "        ...,\n",
       "        [ 0.06816381, -0.07344374, -0.03689073, ..., -0.01960803,\n",
       "          0.04787016,  0.05913012],\n",
       "        [ 0.0220511 , -0.06330337,  0.05481556, ..., -0.07241961,\n",
       "          0.02366319,  0.05152264],\n",
       "        [-0.04301921, -0.0390811 , -0.00039914, ...,  0.0218527 ,\n",
       "          0.06341067,  0.06149842]], dtype=float32)>,\n",
       " <tf.Variable 'dense/bias:0' shape=(300,) dtype=float32, numpy=\n",
       " array([0., 0., 0., 0., 0., 0., 0., 0., 0., 0., 0., 0., 0., 0., 0., 0., 0.,\n",
       "        0., 0., 0., 0., 0., 0., 0., 0., 0., 0., 0., 0., 0., 0., 0., 0., 0.,\n",
       "        0., 0., 0., 0., 0., 0., 0., 0., 0., 0., 0., 0., 0., 0., 0., 0., 0.,\n",
       "        0., 0., 0., 0., 0., 0., 0., 0., 0., 0., 0., 0., 0., 0., 0., 0., 0.,\n",
       "        0., 0., 0., 0., 0., 0., 0., 0., 0., 0., 0., 0., 0., 0., 0., 0., 0.,\n",
       "        0., 0., 0., 0., 0., 0., 0., 0., 0., 0., 0., 0., 0., 0., 0., 0., 0.,\n",
       "        0., 0., 0., 0., 0., 0., 0., 0., 0., 0., 0., 0., 0., 0., 0., 0., 0.,\n",
       "        0., 0., 0., 0., 0., 0., 0., 0., 0., 0., 0., 0., 0., 0., 0., 0., 0.,\n",
       "        0., 0., 0., 0., 0., 0., 0., 0., 0., 0., 0., 0., 0., 0., 0., 0., 0.,\n",
       "        0., 0., 0., 0., 0., 0., 0., 0., 0., 0., 0., 0., 0., 0., 0., 0., 0.,\n",
       "        0., 0., 0., 0., 0., 0., 0., 0., 0., 0., 0., 0., 0., 0., 0., 0., 0.,\n",
       "        0., 0., 0., 0., 0., 0., 0., 0., 0., 0., 0., 0., 0., 0., 0., 0., 0.,\n",
       "        0., 0., 0., 0., 0., 0., 0., 0., 0., 0., 0., 0., 0., 0., 0., 0., 0.,\n",
       "        0., 0., 0., 0., 0., 0., 0., 0., 0., 0., 0., 0., 0., 0., 0., 0., 0.,\n",
       "        0., 0., 0., 0., 0., 0., 0., 0., 0., 0., 0., 0., 0., 0., 0., 0., 0.,\n",
       "        0., 0., 0., 0., 0., 0., 0., 0., 0., 0., 0., 0., 0., 0., 0., 0., 0.,\n",
       "        0., 0., 0., 0., 0., 0., 0., 0., 0., 0., 0., 0., 0., 0., 0., 0., 0.,\n",
       "        0., 0., 0., 0., 0., 0., 0., 0., 0., 0., 0.], dtype=float32)>,\n",
       " <tf.Variable 'dense_1/kernel:0' shape=(300, 100) dtype=float32, numpy=\n",
       " array([[-0.10523825,  0.09255653,  0.070875  , ..., -0.05721486,\n",
       "         -0.07657753, -0.10676309],\n",
       "        [ 0.04168127,  0.04404715,  0.10800204, ..., -0.09513557,\n",
       "          0.00898846,  0.08634015],\n",
       "        [ 0.05013474, -0.09398575, -0.10681862, ..., -0.00360386,\n",
       "          0.04816654, -0.06909744],\n",
       "        ...,\n",
       "        [-0.01299336,  0.01117545,  0.10404571, ..., -0.11650506,\n",
       "         -0.1160983 ,  0.07330983],\n",
       "        [-0.08022758,  0.05303354,  0.02891996, ..., -0.05234056,\n",
       "         -0.11202399, -0.06050659],\n",
       "        [-0.10224012,  0.11103373,  0.09506237, ...,  0.1224265 ,\n",
       "         -0.05061486,  0.05795593]], dtype=float32)>,\n",
       " <tf.Variable 'dense_1/bias:0' shape=(100,) dtype=float32, numpy=\n",
       " array([0., 0., 0., 0., 0., 0., 0., 0., 0., 0., 0., 0., 0., 0., 0., 0., 0.,\n",
       "        0., 0., 0., 0., 0., 0., 0., 0., 0., 0., 0., 0., 0., 0., 0., 0., 0.,\n",
       "        0., 0., 0., 0., 0., 0., 0., 0., 0., 0., 0., 0., 0., 0., 0., 0., 0.,\n",
       "        0., 0., 0., 0., 0., 0., 0., 0., 0., 0., 0., 0., 0., 0., 0., 0., 0.,\n",
       "        0., 0., 0., 0., 0., 0., 0., 0., 0., 0., 0., 0., 0., 0., 0., 0., 0.,\n",
       "        0., 0., 0., 0., 0., 0., 0., 0., 0., 0., 0., 0., 0., 0., 0.],\n",
       "       dtype=float32)>,\n",
       " <tf.Variable 'dense_2/kernel:0' shape=(100, 10) dtype=float32, numpy=\n",
       " array([[-0.14884233, -0.17930043, -0.21928921, -0.00683399, -0.08996095,\n",
       "         -0.0234094 ,  0.17770311, -0.10643342,  0.06567776,  0.18527517],\n",
       "        [-0.11174192,  0.02820444,  0.02357429, -0.03030363,  0.16010347,\n",
       "          0.06756353,  0.14138436, -0.15587315,  0.07818186, -0.10523786],\n",
       "        [ 0.00533807, -0.04902752,  0.08613271, -0.02736671,  0.07895645,\n",
       "          0.13870102,  0.02521217,  0.03957757, -0.19768882, -0.08098798],\n",
       "        [ 0.0869019 , -0.13093954, -0.18678512, -0.16051629,  0.0388782 ,\n",
       "         -0.17966163,  0.05258793,  0.22364053,  0.1564464 ,  0.06031632],\n",
       "        [ 0.10807472,  0.08195302, -0.06409883, -0.09648623, -0.1169131 ,\n",
       "          0.11821774,  0.04216269, -0.1431867 ,  0.05103809,  0.07157388],\n",
       "        [-0.18093204, -0.20861614, -0.13901553, -0.22720142, -0.09652203,\n",
       "         -0.01932141, -0.10682943, -0.09978954,  0.1588819 ,  0.226067  ],\n",
       "        [-0.01269257, -0.16918218,  0.01001936, -0.16669217,  0.00855641,\n",
       "          0.10109687, -0.20848985, -0.08600999, -0.07854891, -0.17853957],\n",
       "        [-0.05437399, -0.21180703,  0.04974321, -0.21772057, -0.0912393 ,\n",
       "         -0.06277226, -0.14540516, -0.13446909,  0.05698872, -0.02953933],\n",
       "        [-0.20367731, -0.04467581, -0.05122308, -0.17015985, -0.10016924,\n",
       "         -0.04820965, -0.02056886, -0.12217539,  0.19008046, -0.1801267 ],\n",
       "        [ 0.19209945, -0.14467399,  0.20602566, -0.16670686,  0.08568001,\n",
       "          0.02318823,  0.15669942, -0.07766367,  0.10652295,  0.08274743],\n",
       "        [-0.10294479, -0.12405606, -0.01040252, -0.15578216,  0.01298012,\n",
       "          0.22317514,  0.05637494,  0.21649629,  0.06058043,  0.19152933],\n",
       "        [-0.13981874,  0.17388329,  0.04827479, -0.11186358, -0.23074551,\n",
       "          0.16916749,  0.00836152, -0.11937394,  0.22763854, -0.13425153],\n",
       "        [ 0.09698844, -0.22514886,  0.17013848, -0.15150657, -0.08821157,\n",
       "          0.2170971 ,  0.21425304, -0.21599703, -0.18113238,  0.20817167],\n",
       "        [-0.17068043,  0.13949105,  0.00783142,  0.21854931, -0.12599945,\n",
       "          0.09023702, -0.21914008, -0.19829331, -0.11604407,  0.08577529],\n",
       "        [ 0.06182009,  0.02201304, -0.10592453,  0.13113928, -0.08380692,\n",
       "          0.2308096 , -0.15708312, -0.20697422,  0.07059929,  0.11878699],\n",
       "        [-0.07757169,  0.10924801,  0.00061072, -0.17893136,  0.18238977,\n",
       "         -0.08730729,  0.15465248,  0.00771387,  0.20718265,  0.0198102 ],\n",
       "        [ 0.0374476 , -0.1270941 ,  0.18298343,  0.078655  ,  0.23266706,\n",
       "          0.04899639, -0.14950767,  0.18248686,  0.00492585,  0.18965372],\n",
       "        [-0.01663701,  0.0520798 , -0.19200864, -0.05789396,  0.16984192,\n",
       "          0.02124318,  0.08270779, -0.10706352, -0.22679332,  0.04560491],\n",
       "        [ 0.02329436, -0.05549599,  0.06569391,  0.19466838, -0.19224657,\n",
       "          0.10644627,  0.06857261, -0.02872442, -0.13254532, -0.1667459 ],\n",
       "        [-0.02327147,  0.00745963, -0.05309863, -0.17332368, -0.23334517,\n",
       "         -0.01036286,  0.04178655, -0.22007445, -0.21788523,  0.15675303],\n",
       "        [-0.0557954 ,  0.13415149, -0.13999398, -0.22100373, -0.19090751,\n",
       "          0.22448167,  0.07577458,  0.04156885,  0.01132093, -0.07783289],\n",
       "        [ 0.15342641, -0.10005403,  0.13131964, -0.00634782,  0.17790452,\n",
       "          0.06791911, -0.04154539,  0.18433541, -0.01242362, -0.14135341],\n",
       "        [-0.10621759, -0.2319051 , -0.13333133,  0.10125238,  0.04091892,\n",
       "          0.13837573, -0.05194327,  0.14836541,  0.17799824, -0.19722298],\n",
       "        [-0.23168921,  0.10371482,  0.08438289,  0.05577144, -0.07270007,\n",
       "         -0.01441868, -0.1423141 , -0.22465378,  0.14215764,  0.09257334],\n",
       "        [ 0.17317232,  0.1934771 ,  0.0198558 , -0.10268386,  0.11996028,\n",
       "         -0.15178265,  0.00794072,  0.186268  , -0.06189904,  0.09512016],\n",
       "        [-0.23017275,  0.01401146, -0.11140999,  0.15070757, -0.17426634,\n",
       "         -0.17684872, -0.12362503,  0.0051057 , -0.12637836,  0.03651804],\n",
       "        [-0.17848106,  0.21712327,  0.15615785,  0.22391754,  0.08047947,\n",
       "         -0.17013173,  0.20326889, -0.19598977, -0.15341303,  0.17693943],\n",
       "        [-0.03240587,  0.01694161, -0.0065676 , -0.1746824 ,  0.06149313,\n",
       "         -0.10644227, -0.16377595, -0.03167337, -0.12121436,  0.10074857],\n",
       "        [ 0.04330662, -0.12056755, -0.06062642, -0.02582113,  0.14582568,\n",
       "         -0.10864062,  0.15577114, -0.03440215,  0.11175761,  0.13925138],\n",
       "        [-0.14110774,  0.1806255 ,  0.17580974,  0.1563929 , -0.1282371 ,\n",
       "          0.1845386 ,  0.22341806,  0.20901492,  0.19443166,  0.15218171],\n",
       "        [-0.2104717 , -0.00979379,  0.11667922, -0.16103324, -0.03897636,\n",
       "         -0.08244826,  0.16115493,  0.15894243, -0.11189917,  0.17820564],\n",
       "        [-0.18097553, -0.03492662, -0.00645584, -0.01952983, -0.08576955,\n",
       "          0.00677747,  0.2183142 ,  0.03720671, -0.07501625, -0.12550816],\n",
       "        [-0.1495715 ,  0.17755744, -0.0079919 , -0.15125617,  0.03165489,\n",
       "          0.1822972 ,  0.179039  , -0.1518601 , -0.07027276,  0.05482948],\n",
       "        [ 0.2316851 ,  0.14231762,  0.02020621,  0.10586998, -0.08480401,\n",
       "         -0.06093022, -0.22897615,  0.06598291, -0.06637459,  0.13908702],\n",
       "        [-0.05274193, -0.10479084,  0.10724807, -0.05776094, -0.21575603,\n",
       "         -0.0764793 ,  0.10143539,  0.06233537, -0.18259622, -0.230987  ],\n",
       "        [-0.18761167,  0.07791531, -0.1797033 ,  0.12931117,  0.20003662,\n",
       "         -0.22217986,  0.15192375,  0.11583492,  0.02318048,  0.23262969],\n",
       "        [-0.10729332, -0.08747144,  0.01504916, -0.10048039,  0.18728966,\n",
       "         -0.0932083 ,  0.06976962, -0.21772543,  0.12967142, -0.01435257],\n",
       "        [-0.0173811 , -0.04493612,  0.02571261,  0.00030124, -0.01001741,\n",
       "         -0.03212027, -0.05502771, -0.04367764,  0.02711821, -0.12001685],\n",
       "        [ 0.15397972,  0.21947753, -0.2073595 , -0.06175549,  0.22280967,\n",
       "          0.12466472,  0.02951539,  0.11800843, -0.0208441 ,  0.09482405],\n",
       "        [-0.08053862,  0.18074515, -0.05808434,  0.03518471,  0.20862448,\n",
       "         -0.14074591,  0.19933736, -0.0275116 ,  0.05282256,  0.11420721],\n",
       "        [ 0.03826553,  0.0519062 ,  0.00975581,  0.17576677, -0.2305293 ,\n",
       "         -0.0209102 , -0.2080748 , -0.1429362 , -0.09666035, -0.18955877],\n",
       "        [ 0.09714517, -0.03298202,  0.19239742,  0.1988666 , -0.19449392,\n",
       "          0.05889836,  0.05875504, -0.00471553, -0.01289953, -0.18146798],\n",
       "        [ 0.04969922,  0.12290242,  0.12325096, -0.17598152, -0.0592774 ,\n",
       "         -0.09193468, -0.13256508,  0.09916773,  0.13348302, -0.07018104],\n",
       "        [ 0.02790999, -0.0558895 , -0.01440775, -0.1460078 ,  0.1357621 ,\n",
       "         -0.09587499, -0.09229678, -0.03636357,  0.14909747,  0.00387406],\n",
       "        [-0.13237554, -0.06188551,  0.19408444,  0.0933072 ,  0.14443627,\n",
       "          0.0515275 ,  0.10553443, -0.11687067,  0.09887752,  0.0403671 ],\n",
       "        [-0.2038874 ,  0.03891304,  0.10347512, -0.14817771,  0.20496899,\n",
       "          0.22973403,  0.18547556,  0.03696376,  0.20548305,  0.06419462],\n",
       "        [ 0.07998464,  0.02813292,  0.1162008 , -0.01143686,  0.06744492,\n",
       "          0.15704662, -0.16165411, -0.06793593,  0.16654739, -0.10294184],\n",
       "        [-0.09371133,  0.22303313, -0.12322021,  0.19599518,  0.18917456,\n",
       "          0.02911699,  0.05463284, -0.10777241, -0.03479098,  0.17271656],\n",
       "        [-0.14511183,  0.14603019, -0.1629317 ,  0.13740101,  0.01672041,\n",
       "          0.21353242,  0.05769864,  0.2299703 ,  0.0185183 ,  0.15453693],\n",
       "        [-0.05871651,  0.06944755, -0.05995628, -0.16094032,  0.14206806,\n",
       "         -0.09103049,  0.07192051,  0.10894883,  0.19846442,  0.12503207],\n",
       "        [-0.01078388, -0.11887731, -0.01667643, -0.01067229, -0.23118512,\n",
       "         -0.0773665 ,  0.0932847 , -0.23165692, -0.13938391,  0.15070686],\n",
       "        [ 0.1814681 , -0.15382881,  0.04420975,  0.16959244,  0.15127695,\n",
       "         -0.09317228, -0.21369132,  0.16174197, -0.05157499,  0.16405776],\n",
       "        [ 0.08992982,  0.1413171 ,  0.10186306, -0.16025904,  0.09202492,\n",
       "          0.02944049,  0.18009648,  0.18138072, -0.02209057, -0.1345578 ],\n",
       "        [-0.16292667,  0.03089994, -0.22873186,  0.01393829,  0.11452782,\n",
       "         -0.04093961,  0.01241755, -0.01474848, -0.1407594 , -0.10838252],\n",
       "        [ 0.22833383,  0.12920937,  0.1431866 , -0.18203734,  0.10719723,\n",
       "         -0.03546557,  0.16809937,  0.19057438,  0.17843062,  0.00208008],\n",
       "        [-0.06735855,  0.08488187,  0.1860713 ,  0.12555811, -0.0372849 ,\n",
       "         -0.08474544,  0.07954252, -0.00097662,  0.19473976, -0.10632189],\n",
       "        [-0.05387729, -0.1386145 , -0.04483545,  0.15895987, -0.17320992,\n",
       "         -0.14907208, -0.06768134,  0.12676063, -0.00199728,  0.16293633],\n",
       "        [ 0.00266603, -0.1106272 ,  0.13495255,  0.1350038 ,  0.00537476,\n",
       "         -0.06397673, -0.02110459, -0.18570536,  0.21535906, -0.13812193],\n",
       "        [-0.09196441,  0.09322551,  0.0452123 , -0.02876607, -0.13873398,\n",
       "          0.2276094 , -0.16332895, -0.11249508,  0.11965603, -0.06041104],\n",
       "        [ 0.1258496 ,  0.19137692, -0.17135069,  0.1310057 , -0.22110145,\n",
       "          0.09425971, -0.14886755,  0.07574996,  0.15881947,  0.05065078],\n",
       "        [-0.09822714,  0.19666126,  0.01066506,  0.04535821, -0.1960787 ,\n",
       "         -0.03422563, -0.03072999,  0.1536141 , -0.12156733,  0.20213997],\n",
       "        [-0.10070914,  0.10979375,  0.13833886, -0.20150223, -0.04750247,\n",
       "          0.11993885,  0.21044955, -0.22778738, -0.11976177,  0.04483435],\n",
       "        [ 0.11437726, -0.06804991, -0.20652682,  0.05813   ,  0.18670422,\n",
       "         -0.17885473,  0.00975999, -0.18996447, -0.06608771, -0.12654307],\n",
       "        [-0.12226202, -0.13818218, -0.13520995, -0.13462378,  0.13508317,\n",
       "          0.02650207, -0.20765534,  0.11542347,  0.08581838, -0.06048627],\n",
       "        [ 0.17052019, -0.1690423 ,  0.03628573, -0.12045924,  0.09754527,\n",
       "          0.0425449 ,  0.13849479, -0.00570941,  0.06955719, -0.07280999],\n",
       "        [ 0.08560216, -0.11404144, -0.17311203,  0.07368672, -0.09323375,\n",
       "         -0.06949109, -0.12404632,  0.11121565, -0.23022465,  0.06516549],\n",
       "        [-0.1673271 , -0.22642699, -0.03027964,  0.22906706,  0.18330172,\n",
       "          0.0693022 , -0.00485452,  0.20208701, -0.01060095,  0.01179808],\n",
       "        [-0.01730648,  0.15611365, -0.09408174,  0.1056906 ,  0.08639207,\n",
       "          0.01051576, -0.20557491,  0.22720537, -0.16284126, -0.12397081],\n",
       "        [ 0.18658426,  0.0400447 ,  0.02585292, -0.1926916 ,  0.13135934,\n",
       "         -0.1978498 ,  0.10919616,  0.16736263,  0.0923554 , -0.07116491],\n",
       "        [ 0.01674291, -0.05255328, -0.14360182,  0.13873604, -0.20900603,\n",
       "          0.22511572,  0.06606576,  0.06692362, -0.16738519,  0.00253835],\n",
       "        [-0.19083557,  0.15044421, -0.12376167, -0.08344452, -0.05162004,\n",
       "          0.07848144, -0.08585258, -0.12949604,  0.19066909, -0.14597891],\n",
       "        [ 0.14747593, -0.2139428 , -0.18640085, -0.17242892, -0.03826864,\n",
       "         -0.08416016,  0.03334519, -0.16387892,  0.05080417,  0.0570339 ],\n",
       "        [ 0.07232261,  0.20575717, -0.07014173,  0.09024945, -0.01991716,\n",
       "         -0.04882272,  0.0756332 , -0.14240068, -0.19232208,  0.1011785 ],\n",
       "        [-0.01812574,  0.13700166,  0.02149922,  0.06952533, -0.20050052,\n",
       "         -0.22910777,  0.03231978, -0.05992994,  0.00315671, -0.19328015],\n",
       "        [-0.14891739, -0.03647448,  0.1886391 ,  0.00175221,  0.17272976,\n",
       "         -0.00959015, -0.03488609, -0.02852112,  0.12607697, -0.04117148],\n",
       "        [-0.10635011, -0.02778751, -0.13201505, -0.10209551,  0.22778371,\n",
       "         -0.20283684, -0.1560264 , -0.22730266,  0.00597095,  0.233444  ],\n",
       "        [ 0.19364074,  0.11763135, -0.17091   ,  0.19156936, -0.09574842,\n",
       "          0.16415104, -0.11556063, -0.0438517 ,  0.01798719,  0.04671568],\n",
       "        [ 0.03686121,  0.17913449,  0.14418766,  0.07547763,  0.1593925 ,\n",
       "         -0.22294511,  0.14581186,  0.0072349 , -0.20299192,  0.06021956],\n",
       "        [ 0.05720517,  0.02968723,  0.03999346, -0.11952172, -0.17576781,\n",
       "          0.03350443, -0.00969017,  0.19120425,  0.00259213,  0.07856801],\n",
       "        [-0.21139815,  0.05728757, -0.0780687 , -0.21197551, -0.11130943,\n",
       "         -0.14413682,  0.050264  , -0.11915611,  0.10034129, -0.14847316],\n",
       "        [-0.14370778,  0.02311489, -0.00452717, -0.22287366, -0.18608937,\n",
       "          0.18512705,  0.20945767,  0.07507923,  0.1880162 ,  0.06776047],\n",
       "        [-0.08708851,  0.15446255, -0.0315537 , -0.04438798,  0.1604991 ,\n",
       "         -0.00579104, -0.14850828,  0.02938905, -0.05113649,  0.18610886],\n",
       "        [-0.03833741, -0.22529747, -0.01910786, -0.20940332, -0.12441733,\n",
       "         -0.1873289 , -0.08472623, -0.1691408 , -0.07778099,  0.13938788],\n",
       "        [ 0.02818635, -0.18354043, -0.02700205, -0.13048913, -0.04296869,\n",
       "          0.01803848,  0.17777869, -0.11252459,  0.12469536,  0.07034788],\n",
       "        [ 0.00595403, -0.01057363,  0.1840902 ,  0.21921977, -0.08627854,\n",
       "          0.02274144, -0.20104107, -0.1938925 , -0.07511447, -0.06708254],\n",
       "        [-0.17498541, -0.18400455, -0.05276443, -0.23336938, -0.11217657,\n",
       "          0.01326191,  0.16038042, -0.19051701, -0.02900116,  0.06657678],\n",
       "        [ 0.20595422, -0.22102088,  0.02871093, -0.19989073,  0.08394432,\n",
       "          0.23270682,  0.11903468, -0.12267581, -0.07639802, -0.19610694],\n",
       "        [-0.20437402, -0.1470243 , -0.20650855,  0.17701983,  0.12007782,\n",
       "          0.03772947, -0.06629536,  0.15460303,  0.0658147 , -0.05985293],\n",
       "        [-0.01253265,  0.13179567,  0.11155784, -0.15012655,  0.15687811,\n",
       "          0.08423728,  0.17435125,  0.07640648, -0.21375586, -0.21734343],\n",
       "        [-0.13827184,  0.12218258, -0.20617796, -0.08588342,  0.00083001,\n",
       "         -0.11018007,  0.04401284, -0.05957323, -0.00360562, -0.17750889],\n",
       "        [ 0.00109321,  0.04685438,  0.10781294,  0.02946031, -0.13834205,\n",
       "         -0.16490781,  0.19019628,  0.18229052, -0.07862671, -0.22106008],\n",
       "        [-0.0511615 , -0.14934465, -0.22554109, -0.08606546, -0.07793011,\n",
       "         -0.16354838,  0.04828978, -0.14078507, -0.10396445,  0.01284102],\n",
       "        [ 0.0823541 ,  0.13670877, -0.20794421,  0.10376284, -0.08856755,\n",
       "         -0.15011078, -0.10295989,  0.22040448, -0.05848365,  0.19800743],\n",
       "        [-0.20344317, -0.09915994,  0.03896201, -0.02463731, -0.08063322,\n",
       "         -0.01729624,  0.03881821, -0.02693328,  0.13144013,  0.11409533],\n",
       "        [ 0.07607567, -0.05900878, -0.02866729,  0.16935468,  0.16075122,\n",
       "         -0.16564979, -0.21937841, -0.11962501, -0.21499273,  0.11482745],\n",
       "        [ 0.162572  ,  0.13242209,  0.148206  ,  0.06007454,  0.05423906,\n",
       "         -0.21959518, -0.2031452 , -0.1889379 ,  0.0565187 ,  0.07769802],\n",
       "        [ 0.09565878, -0.10802844,  0.18828622,  0.0678916 , -0.12634623,\n",
       "         -0.13563949,  0.17120475,  0.17818204,  0.18979871, -0.0090203 ],\n",
       "        [-0.01326187,  0.17059472, -0.17844509,  0.11310774,  0.21437511,\n",
       "         -0.03548428,  0.160052  ,  0.20178306, -0.12478188,  0.04769698],\n",
       "        [ 0.03479043, -0.02454382,  0.07290125, -0.03296515,  0.20932141,\n",
       "         -0.04039025,  0.12157673, -0.15898103, -0.20965384, -0.18594347],\n",
       "        [-0.08476315,  0.16486967,  0.1229963 ,  0.07242495, -0.0810176 ,\n",
       "          0.006336  ,  0.1035572 ,  0.20546138, -0.07225583,  0.04153013]],\n",
       "       dtype=float32)>,\n",
       " <tf.Variable 'dense_2/bias:0' shape=(10,) dtype=float32, numpy=array([0., 0., 0., 0., 0., 0., 0., 0., 0., 0.], dtype=float32)>]"
      ]
     },
     "execution_count": 13,
     "metadata": {},
     "output_type": "execute_result"
    }
   ],
   "source": [
    "model.variables  # 模型中自己训练的参数"
   ]
  },
  {
   "cell_type": "code",
   "execution_count": 14,
   "id": "de418a01",
   "metadata": {},
   "outputs": [
    {
     "data": {
      "text/plain": [
       "0.1414213562373095"
      ]
     },
     "execution_count": 14,
     "metadata": {},
     "output_type": "execute_result"
    }
   ],
   "source": [
    "# 均匀分布\n",
    "np.sqrt(6/300)"
   ]
  },
  {
   "cell_type": "code",
   "execution_count": 15,
   "id": "5487c430",
   "metadata": {},
   "outputs": [
    {
     "data": {
      "text/plain": [
       "0.07439794"
      ]
     },
     "execution_count": 15,
     "metadata": {},
     "output_type": "execute_result"
    }
   ],
   "source": [
    "model.variables[0].numpy().max()"
   ]
  },
  {
   "cell_type": "code",
   "execution_count": 16,
   "id": "a6089df1",
   "metadata": {},
   "outputs": [],
   "source": [
    "# [None, 784] * W + b -> [None, 300] W.shape [784, 300], b = [300]\n",
    "# W是矩阵，b是一个偏置，是一个向量"
   ]
  },
  {
   "cell_type": "code",
   "execution_count": 17,
   "id": "ccc6dd16",
   "metadata": {},
   "outputs": [
    {
     "name": "stdout",
     "output_type": "stream",
     "text": [
      "Epoch 1/20\n",
      "1719/1719 [==============================] - 5s 3ms/step - loss: 2.8091 - accuracy: 0.7018 - val_loss: 0.6819 - val_accuracy: 0.7738\n",
      "Epoch 2/20\n",
      "1719/1719 [==============================] - 5s 3ms/step - loss: 0.5984 - accuracy: 0.7835 - val_loss: 0.5694 - val_accuracy: 0.8042\n",
      "Epoch 3/20\n",
      "1719/1719 [==============================] - 5s 3ms/step - loss: 0.5206 - accuracy: 0.8082 - val_loss: 0.5383 - val_accuracy: 0.8126\n",
      "Epoch 4/20\n",
      "1719/1719 [==============================] - 5s 3ms/step - loss: 0.4801 - accuracy: 0.8241 - val_loss: 0.5015 - val_accuracy: 0.8284\n",
      "Epoch 5/20\n",
      "1719/1719 [==============================] - 5s 3ms/step - loss: 0.4518 - accuracy: 0.8349 - val_loss: 0.5047 - val_accuracy: 0.8304\n",
      "Epoch 6/20\n",
      "1719/1719 [==============================] - 5s 3ms/step - loss: 0.4320 - accuracy: 0.8417 - val_loss: 0.4800 - val_accuracy: 0.8348\n",
      "Epoch 7/20\n",
      "1719/1719 [==============================] - 5s 3ms/step - loss: 0.4153 - accuracy: 0.8467 - val_loss: 0.4781 - val_accuracy: 0.8374\n",
      "Epoch 8/20\n",
      "1719/1719 [==============================] - 5s 3ms/step - loss: 0.4029 - accuracy: 0.8513 - val_loss: 0.4810 - val_accuracy: 0.8388\n",
      "Epoch 9/20\n",
      "1719/1719 [==============================] - 5s 3ms/step - loss: 0.3916 - accuracy: 0.8548 - val_loss: 0.4482 - val_accuracy: 0.8494\n",
      "Epoch 10/20\n",
      "1719/1719 [==============================] - 5s 3ms/step - loss: 0.3830 - accuracy: 0.8595 - val_loss: 0.4562 - val_accuracy: 0.8416\n",
      "Epoch 11/20\n",
      "1719/1719 [==============================] - 5s 3ms/step - loss: 0.3748 - accuracy: 0.8601 - val_loss: 0.4478 - val_accuracy: 0.8504\n",
      "Epoch 12/20\n",
      "1719/1719 [==============================] - 5s 3ms/step - loss: 0.3676 - accuracy: 0.8644 - val_loss: 0.4398 - val_accuracy: 0.8530\n",
      "Epoch 13/20\n",
      "1719/1719 [==============================] - 5s 3ms/step - loss: 0.3625 - accuracy: 0.8650 - val_loss: 0.4319 - val_accuracy: 0.8560\n",
      "Epoch 14/20\n",
      "1719/1719 [==============================] - 5s 3ms/step - loss: 0.3538 - accuracy: 0.8684 - val_loss: 0.4532 - val_accuracy: 0.8492\n",
      "Epoch 15/20\n",
      "1719/1719 [==============================] - 5s 3ms/step - loss: 0.3489 - accuracy: 0.8698 - val_loss: 0.4401 - val_accuracy: 0.8516\n",
      "Epoch 16/20\n",
      "1719/1719 [==============================] - 5s 3ms/step - loss: 0.3440 - accuracy: 0.8713 - val_loss: 0.4316 - val_accuracy: 0.8522\n",
      "Epoch 17/20\n",
      "1719/1719 [==============================] - 5s 3ms/step - loss: 0.3380 - accuracy: 0.8737 - val_loss: 0.4335 - val_accuracy: 0.8568\n",
      "Epoch 18/20\n",
      "1719/1719 [==============================] - 5s 3ms/step - loss: 0.3320 - accuracy: 0.8762 - val_loss: 0.4223 - val_accuracy: 0.8618\n",
      "Epoch 19/20\n",
      "1719/1719 [==============================] - 5s 3ms/step - loss: 0.3287 - accuracy: 0.8761 - val_loss: 0.4272 - val_accuracy: 0.8632\n",
      "Epoch 20/20\n",
      "1719/1719 [==============================] - 5s 3ms/step - loss: 0.3243 - accuracy: 0.8793 - val_loss: 0.4209 - val_accuracy: 0.8630\n"
     ]
    }
   ],
   "source": [
    "# 训练20次，每一次所有的样本都输进去（再分成默认32批次）\n",
    "history = model.fit(x_train, y_train, epochs=20,\n",
    "                    validation_data=(x_valid, y_valid))  "
   ]
  },
  {
   "cell_type": "code",
   "execution_count": 18,
   "id": "b933e87a",
   "metadata": {},
   "outputs": [
    {
     "data": {
      "text/plain": [
       "keras.callbacks.History"
      ]
     },
     "execution_count": 18,
     "metadata": {},
     "output_type": "execute_result"
    }
   ],
   "source": [
    "type(history)"
   ]
  },
  {
   "cell_type": "code",
   "execution_count": 19,
   "id": "c957e95f",
   "metadata": {},
   "outputs": [
    {
     "data": {
      "text/plain": [
       "{'loss': [2.8090739250183105,\n",
       "  0.5984344482421875,\n",
       "  0.5205665230751038,\n",
       "  0.48008137941360474,\n",
       "  0.45180022716522217,\n",
       "  0.43199217319488525,\n",
       "  0.41532063484191895,\n",
       "  0.40294864773750305,\n",
       "  0.3916361629962921,\n",
       "  0.38295674324035645,\n",
       "  0.3747878968715668,\n",
       "  0.3675910532474518,\n",
       "  0.3624736964702606,\n",
       "  0.35382670164108276,\n",
       "  0.3489149212837219,\n",
       "  0.34398648142814636,\n",
       "  0.3380265235900879,\n",
       "  0.33204013109207153,\n",
       "  0.32865941524505615,\n",
       "  0.32432788610458374],\n",
       " 'accuracy': [0.7017818093299866,\n",
       "  0.7834727168083191,\n",
       "  0.8082000017166138,\n",
       "  0.8241090774536133,\n",
       "  0.8349454402923584,\n",
       "  0.8417272567749023,\n",
       "  0.8466727137565613,\n",
       "  0.8513091206550598,\n",
       "  0.8547636270523071,\n",
       "  0.8595454692840576,\n",
       "  0.8601272702217102,\n",
       "  0.8643817901611328,\n",
       "  0.8649818301200867,\n",
       "  0.8684181571006775,\n",
       "  0.8698363900184631,\n",
       "  0.87132728099823,\n",
       "  0.8736909031867981,\n",
       "  0.87616366147995,\n",
       "  0.8760908842086792,\n",
       "  0.8792726993560791],\n",
       " 'val_loss': [0.6818614602088928,\n",
       "  0.5694378614425659,\n",
       "  0.5382954478263855,\n",
       "  0.5015456676483154,\n",
       "  0.5046501159667969,\n",
       "  0.480022668838501,\n",
       "  0.4781019985675812,\n",
       "  0.48101919889450073,\n",
       "  0.4481601119041443,\n",
       "  0.4562469720840454,\n",
       "  0.4477972090244293,\n",
       "  0.4397653341293335,\n",
       "  0.43186619877815247,\n",
       "  0.45317280292510986,\n",
       "  0.4400806128978729,\n",
       "  0.43163636326789856,\n",
       "  0.43353593349456787,\n",
       "  0.422273725271225,\n",
       "  0.42715224623680115,\n",
       "  0.4209004342556],\n",
       " 'val_accuracy': [0.7738000154495239,\n",
       "  0.8041999936103821,\n",
       "  0.8126000165939331,\n",
       "  0.8284000158309937,\n",
       "  0.8303999900817871,\n",
       "  0.8348000049591064,\n",
       "  0.8374000191688538,\n",
       "  0.8388000130653381,\n",
       "  0.849399983882904,\n",
       "  0.8416000008583069,\n",
       "  0.8503999710083008,\n",
       "  0.8529999852180481,\n",
       "  0.8560000061988831,\n",
       "  0.8492000102996826,\n",
       "  0.8515999913215637,\n",
       "  0.8521999716758728,\n",
       "  0.8568000197410583,\n",
       "  0.8618000149726868,\n",
       "  0.8632000088691711,\n",
       "  0.8629999756813049]}"
      ]
     },
     "execution_count": 19,
     "metadata": {},
     "output_type": "execute_result"
    }
   ],
   "source": [
    "# 十次历史的信息\n",
    "history.history"
   ]
  },
  {
   "cell_type": "code",
   "execution_count": 20,
   "id": "8b25b94e",
   "metadata": {},
   "outputs": [
    {
     "data": {
      "image/png": "[encoded data removed]",
      "text/plain": [
       "<Figure size 576x360 with 1 Axes>"
      ]
     },
     "metadata": {
      "needs_background": "light"
     },
     "output_type": "display_data"
    }
   ],
   "source": [
    "# 画线要注意的是损失是不一定在零到1之间的\n",
    "def plot_learning_curves(history):\n",
    "    pd.DataFrame(history.history).plot(figsize=(8, 5))  # 使用df中的折线图绘制\n",
    "    plt.grid(True)\n",
    "    plt.gca().set_ylim(0, 1)  # 纵坐标的刻度范围\n",
    "    plt.show()\n",
    "\n",
    "plot_learning_curves(history)  # 横坐标是epochs"
   ]
  },
  {
   "cell_type": "code",
   "execution_count": 21,
   "id": "17231491",
   "metadata": {},
   "outputs": [
    {
     "data": {
      "text/plain": [
       "[0.4614326059818268, 0.8468000292778015]"
      ]
     },
     "execution_count": 21,
     "metadata": {},
     "output_type": "execute_result"
    }
   ],
   "source": [
    "# 在测试集上评估，一个是测试集的损失，一个是测试集的准确率\n",
    "model.evaluate(x_test, y_test, verbose=0)"
   ]
  },
  {
   "cell_type": "code",
   "execution_count": 5,
   "id": "8d5089e5",
   "metadata": {},
   "outputs": [
    {
     "name": "stdout",
     "output_type": "stream",
     "text": [
      "Loss:  0.09458992\n"
     ]
    }
   ],
   "source": [
    "# 计算标签和预测之间的crossentropy(交叉熵)损失\n",
    "cce = keras.losses.SparseCategoricalCrossentropy()\n",
    "loss = cce(\n",
    "  [0, 1, 2],\n",
    "  [[.9, .05, .05], [.05, .89, .06], [.05, .01, .94]])\n",
    "print('Loss: ', loss.numpy())  "
   ]
  },
  {
   "cell_type": "code",
   "execution_count": 6,
   "id": "bdfae84e",
   "metadata": {},
   "outputs": [
    {
     "data": {
      "text/plain": [
       "0.9999999999999999"
      ]
     },
     "execution_count": 6,
     "metadata": {},
     "output_type": "execute_result"
    }
   ],
   "source": [
    "# softmax手动计算\n",
    "import numpy as np\n",
    "z = np.array([1.0, 2.0, 3.0, 4.0, 1.0, 2.0, 3.0])\n",
    "m=np.exp(z)/sum(np.exp(z))\n",
    "sum(m)"
   ]
  },
  {
   "cell_type": "code",
   "execution_count": 10,
   "id": "a22421ba",
   "metadata": {},
   "outputs": [
    {
     "data": {
      "text/plain": [
       "3.0"
      ]
     },
     "execution_count": 10,
     "metadata": {},
     "output_type": "execute_result"
    }
   ],
   "source": [
    "np.log2(8)"
   ]
  },
  {
   "cell_type": "code",
   "execution_count": 17,
   "id": "dc3f4a66",
   "metadata": {},
   "outputs": [
    {
     "data": {
      "text/plain": [
       "2.0"
      ]
     },
     "execution_count": 17,
     "metadata": {},
     "output_type": "execute_result"
    }
   ],
   "source": [
    "np.log(np.e * np.e)"
   ]
  }
 ],
 "metadata": {
  "kernelspec": {
   "display_name": "Python 3",
   "language": "python",
   "name": "python3"
  },
  "language_info": {
   "codemirror_mode": {
    "name": "ipython",
    "version": 3
   },
   "file_extension": ".py",
   "mimetype": "text/x-python",
   "name": "python",
   "nbconvert_exporter": "python",
   "pygments_lexer": "ipython3",
   "version": "3.6.9"
  }
 },
 "nbformat": 4,
 "nbformat_minor": 5
}
