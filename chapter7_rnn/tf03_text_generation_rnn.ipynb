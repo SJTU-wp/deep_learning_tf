{
 "cells": [
  {
   "cell_type": "code",
   "execution_count": 1,
   "metadata": {},
   "outputs": [
    {
     "name": "stdout",
     "output_type": "stream",
     "text": [
      "2.2.0\n",
      "sys.version_info(major=3, minor=6, micro=9, releaselevel='final', serial=0)\n",
      "matplotlib 3.2.1\n",
      "numpy 1.18.5\n",
      "pandas 1.0.4\n",
      "sklearn 0.23.1\n",
      "tensorflow 2.2.0\n",
      "tensorflow.keras 2.3.0-tf\n"
     ]
    }
   ],
   "source": [
    "import matplotlib as mpl\n",
    "import matplotlib.pyplot as plt\n",
    "%matplotlib inline\n",
    "import numpy as np\n",
    "import sklearn\n",
    "import pandas as pd\n",
    "import os\n",
    "import sys\n",
    "import time\n",
    "import tensorflow as tf\n",
    "\n",
    "from tensorflow import keras\n",
    "\n",
    "print(tf.__version__)\n",
    "print(sys.version_info)\n",
    "for module in mpl, np, pd, sklearn, tf, keras:\n",
    "    print(module.__name__, module.__version__)"
   ]
  },
  {
   "cell_type": "code",
   "execution_count": 2,
   "metadata": {},
   "outputs": [
    {
     "name": "stdout",
     "output_type": "stream",
     "text": [
      "1115394\n",
      "First Citizen:\n",
      "Before we proceed any further, hear me speak.\n",
      "\n",
      "All:\n",
      "Speak, speak.\n",
      "\n",
      "First Citizen:\n",
      "You\n"
     ]
    }
   ],
   "source": [
    "# https://storage.googleapis.com/download.tensorflow.org/data/shakespeare.txt\n",
    "#文件已经下载好了\n",
    "input_filepath = \"./shakespeare.txt\"\n",
    "text = open(input_filepath, 'r').read()\n",
    "\n",
    "print(len(text))\n",
    "print(text[0:100])"
   ]
  },
  {
   "cell_type": "code",
   "execution_count": 3,
   "metadata": {},
   "outputs": [
    {
     "name": "stdout",
     "output_type": "stream",
     "text": [
      "65\n",
      "['\\n', ' ', '!', '$', '&', \"'\", ',', '-', '.', '3', ':', ';', '?', 'A', 'B', 'C', 'D', 'E', 'F', 'G', 'H', 'I', 'J', 'K', 'L', 'M', 'N', 'O', 'P', 'Q', 'R', 'S', 'T', 'U', 'V', 'W', 'X', 'Y', 'Z', 'a', 'b', 'c', 'd', 'e', 'f', 'g', 'h', 'i', 'j', 'k', 'l', 'm', 'n', 'o', 'p', 'q', 'r', 's', 't', 'u', 'v', 'w', 'x', 'y', 'z']\n"
     ]
    }
   ],
   "source": [
    "# 1. generate vocab\n",
    "# 2. build mapping char->id\n",
    "# 3. data -> id_data  把数据都转为id\n",
    "# 4. abcd -> bcd<eos>  预测下一个字符生成的模型，也就是输入是a，输出就是b\n",
    "\n",
    "#去重，留下独立字符，并排序\n",
    "vocab = sorted(set(text))\n",
    "print(len(vocab))\n",
    "print(vocab)"
   ]
  },
  {
   "cell_type": "code",
   "execution_count": 4,
   "metadata": {},
   "outputs": [
    {
     "name": "stdout",
     "output_type": "stream",
     "text": [
      "0 how\n",
      "1 are\n",
      "2 you\n"
     ]
    }
   ],
   "source": [
    "for idx,char in enumerate(['how','are','you']):\n",
    "    print(idx,char)"
   ]
  },
  {
   "cell_type": "code",
   "execution_count": 5,
   "metadata": {},
   "outputs": [
    {
     "name": "stdout",
     "output_type": "stream",
     "text": [
      "{'\\n': 0, ' ': 1, '!': 2, '$': 3, '&': 4, \"'\": 5, ',': 6, '-': 7, '.': 8, '3': 9, ':': 10, ';': 11, '?': 12, 'A': 13, 'B': 14, 'C': 15, 'D': 16, 'E': 17, 'F': 18, 'G': 19, 'H': 20, 'I': 21, 'J': 22, 'K': 23, 'L': 24, 'M': 25, 'N': 26, 'O': 27, 'P': 28, 'Q': 29, 'R': 30, 'S': 31, 'T': 32, 'U': 33, 'V': 34, 'W': 35, 'X': 36, 'Y': 37, 'Z': 38, 'a': 39, 'b': 40, 'c': 41, 'd': 42, 'e': 43, 'f': 44, 'g': 45, 'h': 46, 'i': 47, 'j': 48, 'k': 49, 'l': 50, 'm': 51, 'n': 52, 'o': 53, 'p': 54, 'q': 55, 'r': 56, 's': 57, 't': 58, 'u': 59, 'v': 60, 'w': 61, 'x': 62, 'y': 63, 'z': 64}\n"
     ]
    }
   ],
   "source": [
    "#每个字符都编好号，enumerate对每一个位置编号，生成的是列表中是元组，下面字典生成式\n",
    "char2idx = {char:idx for idx, char in enumerate(vocab)}\n",
    "print(char2idx)"
   ]
  },
  {
   "cell_type": "code",
   "execution_count": 6,
   "metadata": {},
   "outputs": [
    {
     "name": "stdout",
     "output_type": "stream",
     "text": [
      "['\\n' ' ' '!' '$' '&' \"'\" ',' '-' '.' '3' ':' ';' '?' 'A' 'B' 'C' 'D' 'E'\n",
      " 'F' 'G' 'H' 'I' 'J' 'K' 'L' 'M' 'N' 'O' 'P' 'Q' 'R' 'S' 'T' 'U' 'V' 'W'\n",
      " 'X' 'Y' 'Z' 'a' 'b' 'c' 'd' 'e' 'f' 'g' 'h' 'i' 'j' 'k' 'l' 'm' 'n' 'o'\n",
      " 'p' 'q' 'r' 's' 't' 'u' 'v' 'w' 'x' 'y' 'z']\n"
     ]
    }
   ],
   "source": [
    "# 把vocab从列表变为ndarray\n",
    "idx2char = np.array(vocab)\n",
    "print(idx2char)"
   ]
  },
  {
   "cell_type": "code",
   "execution_count": 7,
   "metadata": {},
   "outputs": [
    {
     "name": "stdout",
     "output_type": "stream",
     "text": [
      "(1115394,)\n",
      "1115394\n",
      "[18 47 56 57 58  1 15 47 58 47]\n",
      "First Citi\n"
     ]
    }
   ],
   "source": [
    "#把字符都转换为id\n",
    "text_as_int = np.array([char2idx[c] for c in text])\n",
    "print(text_as_int.shape)\n",
    "print(len(text_as_int))\n",
    "print(text_as_int[0:10])\n",
    "print(text[0:10])"
   ]
  },
  {
   "cell_type": "code",
   "execution_count": 8,
   "metadata": {},
   "outputs": [
    {
     "name": "stdout",
     "output_type": "stream",
     "text": [
      "tf.Tensor(18, shape=(), dtype=int64) F\n",
      "tf.Tensor(47, shape=(), dtype=int64) i\n",
      "tf.Tensor(\n",
      "[18 47 56 57 58  1 15 47 58 47 64 43 52 10  0 14 43 44 53 56 43  1 61 43\n",
      "  1 54 56 53 41 43 43 42  1 39 52 63  1 44 59 56 58 46 43 56  6  1 46 43\n",
      " 39 56  1 51 43  1 57 54 43 39 49  8  0  0 13 50 50 10  0 31 54 43 39 49\n",
      "  6  1 57 54 43 39 49  8  0  0 18 47 56 57 58  1 15 47 58 47 64 43 52 10\n",
      "  0 37 53 59  1], shape=(101,), dtype=int64)\n",
      "'First Citizen:\\nBefore we proceed any further, hear me speak.\\n\\nAll:\\nSpeak, speak.\\n\\nFirst Citizen:\\nYou '\n",
      "tf.Tensor(\n",
      "[39 56 43  1 39 50 50  1 56 43 57 53 50 60 43 42  1 56 39 58 46 43 56  1\n",
      " 58 53  1 42 47 43  1 58 46 39 52  1 58 53  1 44 39 51 47 57 46 12  0  0\n",
      " 13 50 50 10  0 30 43 57 53 50 60 43 42  8  1 56 43 57 53 50 60 43 42  8\n",
      "  0  0 18 47 56 57 58  1 15 47 58 47 64 43 52 10  0 18 47 56 57 58  6  1\n",
      " 63 53 59  1 49], shape=(101,), dtype=int64)\n",
      "'are all resolved rather to die than to famish?\\n\\nAll:\\nResolved. resolved.\\n\\nFirst Citizen:\\nFirst, you k'\n"
     ]
    }
   ],
   "source": [
    "#把输入和输出分配好\n",
    "def split_input_target(id_text):\n",
    "    \"\"\"\n",
    "    abcde -> abcd, bcde,输入是abcd，输出是bcde\n",
    "    \"\"\"\n",
    "    return id_text[0:-1], id_text[1:]\n",
    "\n",
    "#把id text转换为 dataset\n",
    "char_dataset = tf.data.Dataset.from_tensor_slices(text_as_int)\n",
    "seq_length = 100\n",
    "#做一个batch，seq_length + 1目的是我们输入是5个字符时，输出是4，drop_remainder\n",
    "# 是最后不够就丢掉，这个batch是把字变为句子，一个句子是101个字符\n",
    "seq_dataset = char_dataset.batch(seq_length + 1,\n",
    "                                 drop_remainder = True)\n",
    "for ch_id in char_dataset.take(2):\n",
    "    print(ch_id, idx2char[ch_id.numpy()])\n",
    "\n",
    "# # seq_dataset 每一个都是句子，对应id，取两个句子看看\n",
    "for seq_id in seq_dataset.take(2):\n",
    "    print(seq_id)\n",
    "    print(repr(''.join(idx2char[seq_id.numpy()])))"
   ]
  },
  {
   "cell_type": "code",
   "execution_count": 9,
   "metadata": {},
   "outputs": [
    {
     "name": "stdout",
     "output_type": "stream",
     "text": [
      "tf.Tensor(\n",
      "[18 47 56 57 58  1 15 47 58 47 64 43 52 10  0 14 43 44 53 56 43  1 61 43\n",
      "  1 54 56 53 41 43 43 42  1 39 52 63  1 44 59 56 58 46 43 56  6  1 46 43\n",
      " 39 56  1 51 43  1 57 54 43 39 49  8  0  0 13 50 50 10  0 31 54 43 39 49\n",
      "  6  1 57 54 43 39 49  8  0  0 18 47 56 57 58  1 15 47 58 47 64 43 52 10\n",
      "  0 37 53 59], shape=(100,), dtype=int64)\n",
      "tf.Tensor(\n",
      "[47 56 57 58  1 15 47 58 47 64 43 52 10  0 14 43 44 53 56 43  1 61 43  1\n",
      " 54 56 53 41 43 43 42  1 39 52 63  1 44 59 56 58 46 43 56  6  1 46 43 39\n",
      " 56  1 51 43  1 57 54 43 39 49  8  0  0 13 50 50 10  0 31 54 43 39 49  6\n",
      "  1 57 54 43 39 49  8  0  0 18 47 56 57 58  1 15 47 58 47 64 43 52 10  0\n",
      " 37 53 59  1], shape=(100,), dtype=int64)\n",
      "tf.Tensor(\n",
      "[39 56 43  1 39 50 50  1 56 43 57 53 50 60 43 42  1 56 39 58 46 43 56  1\n",
      " 58 53  1 42 47 43  1 58 46 39 52  1 58 53  1 44 39 51 47 57 46 12  0  0\n",
      " 13 50 50 10  0 30 43 57 53 50 60 43 42  8  1 56 43 57 53 50 60 43 42  8\n",
      "  0  0 18 47 56 57 58  1 15 47 58 47 64 43 52 10  0 18 47 56 57 58  6  1\n",
      " 63 53 59  1], shape=(100,), dtype=int64)\n",
      "tf.Tensor(\n",
      "[56 43  1 39 50 50  1 56 43 57 53 50 60 43 42  1 56 39 58 46 43 56  1 58\n",
      " 53  1 42 47 43  1 58 46 39 52  1 58 53  1 44 39 51 47 57 46 12  0  0 13\n",
      " 50 50 10  0 30 43 57 53 50 60 43 42  8  1 56 43 57 53 50 60 43 42  8  0\n",
      "  0 18 47 56 57 58  1 15 47 58 47 64 43 52 10  0 18 47 56 57 58  6  1 63\n",
      " 53 59  1 49], shape=(100,), dtype=int64)\n",
      "<MapDataset shapes: ((100,), (100,)), types: (tf.int64, tf.int64)>\n"
     ]
    }
   ],
   "source": [
    "#然后通过split_input_target函数来对seq_dataset做映射，得到输入，输出\n",
    "seq_dataset = seq_dataset.map(split_input_target)\n",
    "\n",
    "for item_input, item_output in seq_dataset.take(2):\n",
    "    print(item_input)\n",
    "    print(item_output)\n",
    "print(seq_dataset)"
   ]
  },
  {
   "cell_type": "code",
   "execution_count": 10,
   "metadata": {},
   "outputs": [
    {
     "name": "stdout",
     "output_type": "stream",
     "text": [
      "<BatchDataset shapes: ((64, 100), (64, 100)), types: (tf.int64, tf.int64)>\n"
     ]
    }
   ],
   "source": [
    "batch_size = 64\n",
    "buffer_size = 10000\n",
    "#这个batch是真正的batch，上一个batch是把字变为句子,buffer_size是从数据集拿那么多元素\n",
    "seq_dataset = seq_dataset.shuffle(buffer_size).batch(\n",
    "    batch_size, drop_remainder=True)\n",
    "print(seq_dataset)"
   ]
  },
  {
   "cell_type": "code",
   "execution_count": 11,
   "metadata": {},
   "outputs": [
    {
     "name": "stdout",
     "output_type": "stream",
     "text": [
      "Model: \"sequential\"\n",
      "_________________________________________________________________\n",
      "Layer (type)                 Output Shape              Param #   \n",
      "=================================================================\n",
      "embedding (Embedding)        (64, None, 256)           16640     \n",
      "_________________________________________________________________\n",
      "simple_rnn (SimpleRNN)       (64, None, 1024)          1311744   \n",
      "_________________________________________________________________\n",
      "dense (Dense)                (64, None, 65)            66625     \n",
      "=================================================================\n",
      "Total params: 1,395,009\n",
      "Trainable params: 1,395,009\n",
      "Non-trainable params: 0\n",
      "_________________________________________________________________\n"
     ]
    }
   ],
   "source": [
    "vocab_size = len(vocab)\n",
    "embedding_dim = 256  #资料比较小，所以dim可以设大一些\n",
    "rnn_units = 1024\n",
    "\n",
    "def build_model(vocab_size, embedding_dim, rnn_units, batch_size):\n",
    "    model = keras.models.Sequential([\n",
    "        keras.layers.Embedding(vocab_size, embedding_dim,\n",
    "                               batch_input_shape = [batch_size, None]),\n",
    "        #return_sequences是指要返回一个序列，也就是所有输出，而不是最后一个\n",
    "        keras.layers.SimpleRNN(units = rnn_units,\n",
    "                               stateful = True,#是否把上一批最后返回的状态添加到下一批作为输入\n",
    "                               recurrent_initializer = 'glorot_uniform',\n",
    "                               return_sequences = True),\n",
    "        #全连接层，为什么最后一层全连接层的输出是vocab_size\n",
    "        keras.layers.Dense(vocab_size),\n",
    "    ])\n",
    "    return model\n",
    "\n",
    "model = build_model(\n",
    "    vocab_size = vocab_size,\n",
    "    embedding_dim = embedding_dim,\n",
    "    rnn_units = rnn_units,\n",
    "    batch_size = batch_size)\n",
    "\n",
    "model.summary()"
   ]
  },
  {
   "cell_type": "code",
   "execution_count": 12,
   "metadata": {},
   "outputs": [
    {
     "data": {
      "text/plain": [
       "[<tf.Variable 'embedding/embeddings:0' shape=(65, 256) dtype=float32, numpy=\n",
       " array([[ 0.02793999, -0.03658294, -0.0463387 , ..., -0.03437217,\n",
       "         -0.02985407,  0.02961728],\n",
       "        [-0.01269472,  0.00964025,  0.02948172, ..., -0.02079008,\n",
       "         -0.01866575,  0.04210179],\n",
       "        [-0.04947106, -0.03557316,  0.04856269, ..., -0.01836097,\n",
       "         -0.03203521,  0.03027678],\n",
       "        ...,\n",
       "        [ 0.02937416, -0.01821499, -0.02430872, ...,  0.02276203,\n",
       "          0.01273897, -0.04667136],\n",
       "        [ 0.0394764 ,  0.02699542,  0.00232515, ..., -0.03269802,\n",
       "          0.0066206 , -0.01468482],\n",
       "        [-0.0367226 ,  0.04829288, -0.01489383, ...,  0.02807249,\n",
       "          0.03938459, -0.04228207]], dtype=float32)>,\n",
       " <tf.Variable 'simple_rnn/simple_rnn_cell/kernel:0' shape=(256, 1024) dtype=float32, numpy=\n",
       " array([[ 0.05350012, -0.03856803, -0.01241282, ...,  0.01006741,\n",
       "          0.04081152, -0.05083002],\n",
       "        [ 0.03917663,  0.02819687, -0.01498577, ..., -0.01558059,\n",
       "          0.06137523, -0.02019713],\n",
       "        [-0.03743136,  0.05349041, -0.00258006, ...,  0.03329282,\n",
       "         -0.01456319, -0.03512222],\n",
       "        ...,\n",
       "        [ 0.04674576, -0.03163561, -0.06632689, ...,  0.03769857,\n",
       "          0.01003359, -0.01855756],\n",
       "        [ 0.03822145, -0.04703248, -0.02928164, ...,  0.04782239,\n",
       "          0.06380479, -0.05366758],\n",
       "        [-0.00700937, -0.05177408,  0.06244953, ..., -0.05849936,\n",
       "         -0.04058341,  0.04572326]], dtype=float32)>,\n",
       " <tf.Variable 'simple_rnn/simple_rnn_cell/recurrent_kernel:0' shape=(1024, 1024) dtype=float32, numpy=\n",
       " array([[-0.00606   , -0.01382735,  0.04681826, ..., -0.00594483,\n",
       "         -0.03373688,  0.02312244],\n",
       "        [ 0.02121912, -0.00674044, -0.00143677, ...,  0.03781872,\n",
       "          0.03557924,  0.04213443],\n",
       "        [ 0.01036085, -0.050318  , -0.00953847, ...,  0.03643243,\n",
       "          0.0406252 , -0.0101162 ],\n",
       "        ...,\n",
       "        [-0.04268044, -0.02441216,  0.00175406, ..., -0.04016512,\n",
       "          0.03813112,  0.01164143],\n",
       "        [ 0.01204129,  0.01781212,  0.05043805, ...,  0.02305448,\n",
       "         -0.02352404, -0.02711811],\n",
       "        [ 0.03664837,  0.01824288, -0.02453361, ...,  0.05393322,\n",
       "         -0.02672978,  0.00403501]], dtype=float32)>,\n",
       " <tf.Variable 'simple_rnn/simple_rnn_cell/bias:0' shape=(1024,) dtype=float32, numpy=array([0., 0., 0., ..., 0., 0., 0.], dtype=float32)>,\n",
       " <tf.Variable 'dense/kernel:0' shape=(1024, 65) dtype=float32, numpy=\n",
       " array([[ 0.03448691, -0.01414565,  0.04674476, ..., -0.02090095,\n",
       "          0.05631782,  0.03233004],\n",
       "        [ 0.00998767,  0.05699715, -0.04516799, ..., -0.04235251,\n",
       "         -0.01571128, -0.06998876],\n",
       "        [-0.05368369,  0.04814285, -0.00168322, ..., -0.06333631,\n",
       "          0.02959257, -0.02403213],\n",
       "        ...,\n",
       "        [-0.06454404, -0.01593745,  0.05909483, ..., -0.00339471,\n",
       "          0.04246587,  0.01700573],\n",
       "        [-0.06391735,  0.00989458, -0.07232357, ...,  0.01859419,\n",
       "          0.01447561, -0.03658501],\n",
       "        [ 0.01743795,  0.03002617,  0.01488411, ..., -0.04845825,\n",
       "         -0.0359041 ,  0.01087058]], dtype=float32)>,\n",
       " <tf.Variable 'dense/bias:0' shape=(65,) dtype=float32, numpy=\n",
       " array([0., 0., 0., 0., 0., 0., 0., 0., 0., 0., 0., 0., 0., 0., 0., 0., 0.,\n",
       "        0., 0., 0., 0., 0., 0., 0., 0., 0., 0., 0., 0., 0., 0., 0., 0., 0.,\n",
       "        0., 0., 0., 0., 0., 0., 0., 0., 0., 0., 0., 0., 0., 0., 0., 0., 0.,\n",
       "        0., 0., 0., 0., 0., 0., 0., 0., 0., 0., 0., 0., 0., 0.],\n",
       "       dtype=float32)>]"
      ]
     },
     "execution_count": 12,
     "metadata": {},
     "output_type": "execute_result"
    }
   ],
   "source": [
    "model.variables"
   ]
  },
  {
   "cell_type": "code",
   "execution_count": 18,
   "metadata": {},
   "outputs": [
    {
     "name": "stdout",
     "output_type": "stream",
     "text": [
      "(64, 100, 65)\n"
     ]
    }
   ],
   "source": [
    "for input_example_batch, target_example_batch in seq_dataset.take(1):\n",
    "    #把model当函数来用，实际是调用类的call方法\n",
    "    example_batch_predictions = model(input_example_batch)\n",
    "    print(example_batch_predictions.shape)"
   ]
  },
  {
   "cell_type": "code",
   "execution_count": 19,
   "metadata": {},
   "outputs": [
    {
     "data": {
      "text/plain": [
       "<tf.Tensor: shape=(65,), dtype=float32, numpy=\n",
       "array([ 4.02087793e-02,  2.19836310e-02, -1.17950350e-01, -1.64357767e-01,\n",
       "        1.77378021e-02, -4.06723842e-02,  8.38512182e-02, -3.84648815e-02,\n",
       "        8.01891088e-04, -8.14993307e-02, -1.23511918e-01, -2.22381819e-02,\n",
       "       -2.48894960e-01, -3.00578289e-02,  2.15509087e-02, -1.66795909e-01,\n",
       "       -1.61240265e-01,  1.07610144e-01, -4.09748517e-02, -4.01704013e-02,\n",
       "       -1.70790982e-02, -2.02729747e-01,  1.45160705e-01,  1.81379288e-01,\n",
       "       -6.57880306e-02, -9.29097086e-03, -2.12056592e-01,  1.16616622e-01,\n",
       "        1.73387140e-01,  7.05407038e-02,  1.18062064e-01, -5.83287440e-02,\n",
       "       -1.00314915e-02,  2.40072012e-02,  2.20371962e-01, -6.97887912e-02,\n",
       "       -2.91380644e-01,  1.22387514e-01, -1.54431403e-01,  8.35303590e-02,\n",
       "        1.10534966e-01,  1.83799863e-03, -2.11537033e-02, -6.74242377e-02,\n",
       "       -1.15898103e-02, -1.39257878e-01, -3.38628888e-06,  4.68481854e-02,\n",
       "        3.65489945e-02,  2.54587561e-01,  1.49396032e-01,  2.89040148e-01,\n",
       "        2.24233866e-01,  1.56427920e-02,  9.21608508e-02, -7.65578598e-02,\n",
       "       -5.66843487e-02, -5.99736758e-02, -5.75611293e-02, -3.30605805e-02,\n",
       "       -7.38147572e-02,  2.30153695e-01,  1.36983410e-01,  1.49808228e-01,\n",
       "       -9.66655090e-03], dtype=float32)>"
      ]
     },
     "execution_count": 19,
     "metadata": {},
     "output_type": "execute_result"
    }
   ],
   "source": [
    "example_batch_predictions[0][0]"
   ]
  },
  {
   "cell_type": "code",
   "execution_count": 20,
   "metadata": {},
   "outputs": [
    {
     "data": {
      "text/plain": [
       "<tf.Tensor: shape=(100, 65), dtype=float32, numpy=\n",
       "array([[ 0.04020878,  0.02198363, -0.11795035, ...,  0.13698341,\n",
       "         0.14980823, -0.00966655],\n",
       "       [-0.19906208, -0.11831973, -0.05956767, ..., -0.2501107 ,\n",
       "        -0.02149638,  0.07520784],\n",
       "       [ 0.016205  ,  0.0175315 ,  0.07422484, ...,  0.10957035,\n",
       "        -0.10925577, -0.20637608],\n",
       "       ...,\n",
       "       [-0.119777  ,  0.0235826 , -0.0141993 , ...,  0.03001917,\n",
       "         0.06553605,  0.17397119],\n",
       "       [-0.09178037, -0.01082591, -0.03285379, ..., -0.00762922,\n",
       "        -0.04364044, -0.03222005],\n",
       "       [-0.07101175,  0.00400396, -0.16647029, ..., -0.5924277 ,\n",
       "        -0.2255093 ,  0.24154812]], dtype=float32)>"
      ]
     },
     "execution_count": 20,
     "metadata": {},
     "output_type": "execute_result"
    }
   ],
   "source": [
    "example_batch_predictions[0]"
   ]
  },
  {
   "cell_type": "code",
   "execution_count": 21,
   "metadata": {},
   "outputs": [
    {
     "name": "stdout",
     "output_type": "stream",
     "text": [
      "tf.Tensor(\n",
      "[ 4.02087793e-02  2.19836310e-02 -1.17950350e-01 -1.64357767e-01\n",
      "  1.77378021e-02 -4.06723842e-02  8.38512182e-02 -3.84648815e-02\n",
      "  8.01891088e-04 -8.14993307e-02 -1.23511918e-01 -2.22381819e-02\n",
      " -2.48894960e-01 -3.00578289e-02  2.15509087e-02 -1.66795909e-01\n",
      " -1.61240265e-01  1.07610144e-01 -4.09748517e-02 -4.01704013e-02\n",
      " -1.70790982e-02 -2.02729747e-01  1.45160705e-01  1.81379288e-01\n",
      " -6.57880306e-02 -9.29097086e-03 -2.12056592e-01  1.16616622e-01\n",
      "  1.73387140e-01  7.05407038e-02  1.18062064e-01 -5.83287440e-02\n",
      " -1.00314915e-02  2.40072012e-02  2.20371962e-01 -6.97887912e-02\n",
      " -2.91380644e-01  1.22387514e-01 -1.54431403e-01  8.35303590e-02\n",
      "  1.10534966e-01  1.83799863e-03 -2.11537033e-02 -6.74242377e-02\n",
      " -1.15898103e-02 -1.39257878e-01 -3.38628888e-06  4.68481854e-02\n",
      "  3.65489945e-02  2.54587561e-01  1.49396032e-01  2.89040148e-01\n",
      "  2.24233866e-01  1.56427920e-02  9.21608508e-02 -7.65578598e-02\n",
      " -5.66843487e-02 -5.99736758e-02 -5.75611293e-02 -3.30605805e-02\n",
      " -7.38147572e-02  2.30153695e-01  1.36983410e-01  1.49808228e-01\n",
      " -9.66655090e-03], shape=(65,), dtype=float32)\n",
      "tf.Tensor(\n",
      "[[48]\n",
      " [51]\n",
      " [42]\n",
      " [23]\n",
      " [59]\n",
      " [50]\n",
      " [45]\n",
      " [13]\n",
      " [52]\n",
      " [57]\n",
      " [38]\n",
      " [48]\n",
      " [62]\n",
      " [45]\n",
      " [34]\n",
      " [28]\n",
      " [25]\n",
      " [24]\n",
      " [39]\n",
      " [56]\n",
      " [56]\n",
      " [33]\n",
      " [45]\n",
      " [15]\n",
      " [41]\n",
      " [29]\n",
      " [18]\n",
      " [64]\n",
      " [25]\n",
      " [60]\n",
      " [55]\n",
      " [61]\n",
      " [47]\n",
      " [30]\n",
      " [32]\n",
      " [39]\n",
      " [37]\n",
      " [50]\n",
      " [40]\n",
      " [ 3]\n",
      " [50]\n",
      " [49]\n",
      " [ 1]\n",
      " [ 6]\n",
      " [10]\n",
      " [48]\n",
      " [ 2]\n",
      " [38]\n",
      " [50]\n",
      " [36]\n",
      " [44]\n",
      " [46]\n",
      " [44]\n",
      " [32]\n",
      " [49]\n",
      " [56]\n",
      " [11]\n",
      " [57]\n",
      " [46]\n",
      " [ 2]\n",
      " [39]\n",
      " [ 8]\n",
      " [38]\n",
      " [42]\n",
      " [19]\n",
      " [54]\n",
      " [11]\n",
      " [34]\n",
      " [22]\n",
      " [ 3]\n",
      " [35]\n",
      " [26]\n",
      " [ 2]\n",
      " [22]\n",
      " [46]\n",
      " [11]\n",
      " [57]\n",
      " [11]\n",
      " [37]\n",
      " [27]\n",
      " [54]\n",
      " [ 9]\n",
      " [ 1]\n",
      " [61]\n",
      " [46]\n",
      " [29]\n",
      " [ 2]\n",
      " [36]\n",
      " [12]\n",
      " [19]\n",
      " [23]\n",
      " [16]\n",
      " [17]\n",
      " [48]\n",
      " [63]\n",
      " [64]\n",
      " [29]\n",
      " [20]\n",
      " [ 3]\n",
      " [20]], shape=(100, 1), dtype=int64)\n",
      "----------------------------------------------------------------------------------------------------\n",
      "tf.Tensor(\n",
      "[48 51 42 23 59 50 45 13 52 57 38 48 62 45 34 28 25 24 39 56 56 33 45 15\n",
      " 41 29 18 64 25 60 55 61 47 30 32 39 37 50 40  3 50 49  1  6 10 48  2 38\n",
      " 50 36 44 46 44 32 49 56 11 57 46  2 39  8 38 42 19 54 11 34 22  3 35 26\n",
      "  2 22 46 11 57 11 37 27 54  9  1 61 46 29  2 36 12 19 23 16 17 48 63 64\n",
      " 29 20  3 20], shape=(100,), dtype=int64)\n"
     ]
    }
   ],
   "source": [
    "# random sampling.\n",
    "# greedy, random.\n",
    "#logits是计算分类任务之前，没有经过softmax的那个值就是logits，把第一个样本输进去\n",
    "# tf.random.categorical从分类分布中抽取样本,随机为了每次写文章有差异\n",
    "print(example_batch_predictions[0][0])\n",
    "print('-'*100)\n",
    "sample_indices = tf.random.categorical(\n",
    "    logits = example_batch_predictions[0], num_samples = 1,seed=1)\n",
    "print(sample_indices)#这里的维度是（100,1）\n",
    "print('-'*100)\n",
    "# # (100, 1) -> (100, )  调用squeeze 去除1的维度，变为100的向量\n",
    "sample_indices = tf.squeeze(sample_indices, axis = -1)\n",
    "print(sample_indices)"
   ]
  },
  {
   "cell_type": "code",
   "execution_count": 27,
   "metadata": {},
   "outputs": [
    {
     "name": "stdout",
     "output_type": "stream",
     "text": [
      "[[0 0 0]]\n",
      "[[2 1 0]]\n",
      "[[0 0 0]]\n",
      "[[0 1 0]]\n",
      "[[0 0 2]]\n"
     ]
    }
   ],
   "source": [
    "#理解random.categorical，虽然是随机的，但是还是偏向于概率较大的值\n",
    "#num_samples，意味着我们搞几次抽样\n",
    "for i in tf.range(5):\n",
    "    samples = tf.random.categorical([[4.0,2.0,2.0,2.0,1.0]], 3)\n",
    "    tf.print(samples)"
   ]
  },
  {
   "cell_type": "code",
   "execution_count": 43,
   "metadata": {},
   "outputs": [
    {
     "name": "stdout",
     "output_type": "stream",
     "text": [
      "Input:  \" the best is, he lives not in them.\\n\\nLUCIO:\\nFriar, thou knowest not the duke so well as I do:\\nhe's a\"\n",
      "\n",
      "Output:  \"the best is, he lives not in them.\\n\\nLUCIO:\\nFriar, thou knowest not the duke so well as I do:\\nhe's a \"\n",
      "\n",
      "Predictions:  \"H.?fizSB?dPdGZzjbepfXcE\\n.khzIbgMbySEKRrUDkDpGJnGfTfhuIcJ',IgUUIsMlTOsY:oxuJKllGJj\\nBk?jSuT;PKrZhPVITL\"\n"
     ]
    }
   ],
   "source": [
    "print(\"Input: \", repr(\"\".join(idx2char[input_example_batch[0]])))\n",
    "print()\n",
    "print(\"Output: \", repr(\"\".join(idx2char[target_example_batch[0]])))\n",
    "print()\n",
    "print(\"Predictions: \", repr(\"\".join(idx2char[sample_indices])))"
   ]
  },
  {
   "cell_type": "code",
   "execution_count": 28,
   "metadata": {},
   "outputs": [
    {
     "name": "stdout",
     "output_type": "stream",
     "text": [
      "(64, 100)\n",
      "4.175256\n"
     ]
    }
   ],
   "source": [
    "# from_logits是否预期为对数张量。默认情况下，我们假设对概率分布进行编码\n",
    "# logits表示网络的直接输出 。没经过sigmoid或者softmax的概率化。\n",
    "# from_logits=False就表示把已经概率化了的输出，重新映射回原值。log（p/(1-p)）\n",
    "def loss(labels, logits):\n",
    "    return keras.losses.sparse_categorical_crossentropy(\n",
    "        labels, logits, from_logits=True)\n",
    "\n",
    "model.compile(optimizer = 'adam', loss = loss)\n",
    "example_loss = loss(target_example_batch, example_batch_predictions)\n",
    "print(example_loss.shape)\n",
    "print(example_loss.numpy().mean())  #看下样例的loss"
   ]
  },
  {
   "cell_type": "code",
   "execution_count": null,
   "metadata": {},
   "outputs": [
    {
     "name": "stdout",
     "output_type": "stream",
     "text": [
      "Epoch 1/100\n",
      "172/172 [==============================] - 195s 1s/step - loss: 2.7963\n",
      "Epoch 2/100\n",
      "172/172 [==============================] - 221s 1s/step - loss: 2.0113\n",
      "Epoch 3/100\n",
      "172/172 [==============================] - 248s 1s/step - loss: 1.8067\n",
      "Epoch 4/100\n",
      "172/172 [==============================] - 241s 1s/step - loss: 1.6766\n",
      "Epoch 5/100\n",
      "172/172 [==============================] - 216s 1s/step - loss: 1.5900\n",
      "Epoch 6/100\n",
      "172/172 [==============================] - 189s 1s/step - loss: 1.5278\n",
      "Epoch 7/100\n",
      "172/172 [==============================] - 178s 1s/step - loss: 1.4836\n",
      "Epoch 8/100\n",
      "172/172 [==============================] - 163s 950ms/step - loss: 1.4484\n",
      "Epoch 9/100\n",
      "172/172 [==============================] - 160s 932ms/step - loss: 1.4212\n",
      "Epoch 10/100\n",
      "172/172 [==============================] - 169s 981ms/step - loss: 1.3962\n",
      "Epoch 11/100\n",
      "172/172 [==============================] - 169s 984ms/step - loss: 1.3755\n",
      "Epoch 12/100\n",
      "172/172 [==============================] - 164s 955ms/step - loss: 1.3550\n",
      "Epoch 13/100\n",
      "172/172 [==============================] - 123s 717ms/step - loss: 1.3387\n",
      "Epoch 14/100\n",
      "172/172 [==============================] - 107s 625ms/step - loss: 1.3238\n",
      "Epoch 15/100\n",
      "172/172 [==============================] - 104s 604ms/step - loss: 1.3071\n",
      "Epoch 16/100\n",
      "172/172 [==============================] - 106s 615ms/step - loss: 1.2928\n",
      "Epoch 17/100\n",
      "172/172 [==============================] - 107s 625ms/step - loss: 1.2798\n",
      "Epoch 18/100\n",
      "172/172 [==============================] - 106s 616ms/step - loss: 1.2664\n",
      "Epoch 19/100\n",
      "172/172 [==============================] - 105s 613ms/step - loss: 1.2532\n",
      "Epoch 20/100\n",
      "172/172 [==============================] - 106s 615ms/step - loss: 1.2405\n",
      "Epoch 21/100\n",
      "172/172 [==============================] - 110s 642ms/step - loss: 1.2294\n",
      "Epoch 22/100\n",
      "172/172 [==============================] - 105s 613ms/step - loss: 1.2161\n",
      "Epoch 23/100\n",
      "172/172 [==============================] - 110s 638ms/step - loss: 1.2051\n",
      "Epoch 24/100\n",
      "172/172 [==============================] - 115s 670ms/step - loss: 1.1940\n",
      "Epoch 25/100\n",
      "172/172 [==============================] - 154s 894ms/step - loss: 1.1846\n",
      "Epoch 26/100\n",
      "172/172 [==============================] - 150s 875ms/step - loss: 1.1725\n",
      "Epoch 27/100\n",
      "172/172 [==============================] - 114s 665ms/step - loss: 1.1617\n",
      "Epoch 28/100\n",
      "172/172 [==============================] - 107s 622ms/step - loss: 1.1525\n",
      "Epoch 29/100\n",
      "172/172 [==============================] - 108s 626ms/step - loss: 1.1442\n",
      "Epoch 30/100\n",
      "172/172 [==============================] - 108s 627ms/step - loss: 1.1340\n",
      "Epoch 31/100\n",
      "172/172 [==============================] - 108s 625ms/step - loss: 1.1260\n",
      "Epoch 32/100\n",
      "172/172 [==============================] - 107s 620ms/step - loss: 1.1172\n",
      "Epoch 33/100\n",
      "172/172 [==============================] - 107s 622ms/step - loss: 1.1093\n",
      "Epoch 34/100\n",
      "172/172 [==============================] - 105s 612ms/step - loss: 1.1011\n",
      "Epoch 35/100\n",
      "172/172 [==============================] - 110s 641ms/step - loss: 1.0957\n",
      "Epoch 36/100\n",
      "172/172 [==============================] - 105s 610ms/step - loss: 1.0902\n",
      "Epoch 37/100\n",
      "172/172 [==============================] - 108s 625ms/step - loss: 1.0821\n",
      "Epoch 38/100\n",
      "172/172 [==============================] - 105s 610ms/step - loss: 1.0766\n",
      "Epoch 39/100\n",
      "172/172 [==============================] - 108s 630ms/step - loss: 1.0729\n",
      "Epoch 40/100\n",
      "172/172 [==============================] - 105s 612ms/step - loss: 1.0665\n",
      "Epoch 41/100\n",
      "172/172 [==============================] - 108s 625ms/step - loss: 1.0601\n",
      "Epoch 42/100\n",
      "172/172 [==============================] - 107s 621ms/step - loss: 1.0592\n",
      "Epoch 43/100\n",
      "172/172 [==============================] - 107s 620ms/step - loss: 1.0557\n",
      "Epoch 44/100\n",
      "172/172 [==============================] - 106s 614ms/step - loss: 1.0504\n",
      "Epoch 45/100\n",
      "172/172 [==============================] - 106s 618ms/step - loss: 1.0489\n",
      "Epoch 46/100\n",
      "172/172 [==============================] - 105s 611ms/step - loss: 1.0453\n",
      "Epoch 47/100\n",
      "172/172 [==============================] - 105s 609ms/step - loss: 1.0426\n",
      "Epoch 48/100\n",
      "172/172 [==============================] - 107s 621ms/step - loss: 1.0426\n",
      "Epoch 49/100\n",
      "172/172 [==============================] - 103s 601ms/step - loss: 1.0415\n",
      "Epoch 50/100\n",
      "172/172 [==============================] - 106s 616ms/step - loss: 1.0398\n",
      "Epoch 51/100\n",
      "172/172 [==============================] - 107s 623ms/step - loss: 1.0379\n",
      "Epoch 52/100\n",
      "172/172 [==============================] - 106s 618ms/step - loss: 1.0366\n",
      "Epoch 53/100\n",
      "172/172 [==============================] - 106s 613ms/step - loss: 1.0362\n",
      "Epoch 54/100\n",
      "172/172 [==============================] - 106s 617ms/step - loss: 1.0367\n",
      "Epoch 55/100\n",
      "172/172 [==============================] - 105s 611ms/step - loss: 1.0359\n",
      "Epoch 56/100\n",
      "172/172 [==============================] - 107s 623ms/step - loss: 1.0397\n",
      "Epoch 57/100\n",
      "172/172 [==============================] - 108s 626ms/step - loss: 1.0353\n",
      "Epoch 58/100\n",
      "172/172 [==============================] - 106s 616ms/step - loss: 1.0359\n",
      "Epoch 59/100\n",
      "172/172 [==============================] - 104s 604ms/step - loss: 1.0359\n",
      "Epoch 60/100\n",
      "172/172 [==============================] - 107s 622ms/step - loss: 1.0365\n",
      "Epoch 61/100\n",
      "172/172 [==============================] - 109s 632ms/step - loss: 1.0371\n",
      "Epoch 62/100\n",
      "172/172 [==============================] - 108s 626ms/step - loss: 1.0406\n",
      "Epoch 63/100\n",
      "172/172 [==============================] - 108s 627ms/step - loss: 1.0390\n",
      "Epoch 64/100\n",
      "172/172 [==============================] - 108s 628ms/step - loss: 1.0439\n",
      "Epoch 65/100\n",
      "172/172 [==============================] - 107s 619ms/step - loss: 1.0444\n",
      "Epoch 66/100\n",
      "172/172 [==============================] - 105s 611ms/step - loss: 1.0468\n",
      "Epoch 67/100\n",
      "172/172 [==============================] - 107s 620ms/step - loss: 1.0483\n",
      "Epoch 68/100\n",
      "172/172 [==============================] - 105s 610ms/step - loss: 1.0525\n",
      "Epoch 69/100\n",
      "172/172 [==============================] - 105s 611ms/step - loss: 1.0525\n",
      "Epoch 70/100\n",
      "172/172 [==============================] - 106s 619ms/step - loss: 1.0572\n",
      "Epoch 71/100\n",
      "172/172 [==============================] - 108s 627ms/step - loss: 1.0587\n",
      "Epoch 72/100\n",
      "172/172 [==============================] - 106s 618ms/step - loss: 1.0566\n",
      "Epoch 73/100\n",
      "172/172 [==============================] - 105s 612ms/step - loss: 1.0579\n",
      "Epoch 74/100\n",
      "172/172 [==============================] - 106s 614ms/step - loss: 1.0641\n",
      "Epoch 75/100\n",
      "172/172 [==============================] - 107s 619ms/step - loss: 1.0686\n",
      "Epoch 76/100\n",
      "172/172 [==============================] - 105s 613ms/step - loss: 1.0731\n",
      "Epoch 77/100\n",
      "172/172 [==============================] - 105s 613ms/step - loss: 1.0745\n",
      "Epoch 78/100\n",
      "172/172 [==============================] - 108s 630ms/step - loss: 1.0773\n",
      "Epoch 79/100\n",
      "172/172 [==============================] - 107s 622ms/step - loss: 1.0784\n",
      "Epoch 80/100\n",
      "172/172 [==============================] - 108s 628ms/step - loss: 1.0818\n",
      "Epoch 81/100\n",
      "172/172 [==============================] - 106s 618ms/step - loss: 1.0840\n",
      "Epoch 82/100\n",
      "172/172 [==============================] - 109s 634ms/step - loss: 1.0881\n",
      "Epoch 83/100\n",
      "172/172 [==============================] - 110s 641ms/step - loss: 1.0941\n",
      "Epoch 84/100\n",
      "172/172 [==============================] - 121s 705ms/step - loss: 1.0966\n",
      "Epoch 85/100\n",
      "172/172 [==============================] - 116s 673ms/step - loss: 1.1045\n",
      "Epoch 86/100\n",
      "172/172 [==============================] - 115s 667ms/step - loss: 1.1073\n",
      "Epoch 87/100\n",
      "145/172 [========================>.....] - ETA: 17s - loss: 1.1083"
     ]
    }
   ],
   "source": [
    "#定义一个文件夹，保存模型\n",
    "output_dir = \"./text_generation_checkpoints\"\n",
    "if not os.path.exists(output_dir):\n",
    "    os.mkdir(output_dir)\n",
    "checkpoint_prefix = os.path.join(output_dir, 'ckpt_{epoch}')\n",
    "checkpoint_callback = keras.callbacks.ModelCheckpoint(\n",
    "    filepath = checkpoint_prefix,\n",
    "    #只保存权重的值\n",
    "    save_weights_only = True)\n",
    "\n",
    "epochs = 100\n",
    "history = model.fit(seq_dataset, epochs = epochs,\n",
    "                    callbacks = [checkpoint_callback])\n"
   ]
  },
  {
   "cell_type": "code",
   "execution_count": null,
   "metadata": {},
   "outputs": [],
   "source": [
    "tf.train.latest_checkpoint(output_dir)"
   ]
  },
  {
   "cell_type": "code",
   "execution_count": 46,
   "metadata": {},
   "outputs": [
    {
     "name": "stdout",
     "output_type": "stream",
     "text": [
      "Model: \"sequential_2\"\n",
      "_________________________________________________________________\n",
      "Layer (type)                 Output Shape              Param #   \n",
      "=================================================================\n",
      "embedding_2 (Embedding)      (1, None, 256)            16640     \n",
      "_________________________________________________________________\n",
      "simple_rnn_2 (SimpleRNN)     (1, None, 1024)           1311744   \n",
      "_________________________________________________________________\n",
      "dense_2 (Dense)              (1, None, 65)             66625     \n",
      "=================================================================\n",
      "Total params: 1,395,009\n",
      "Trainable params: 1,395,009\n",
      "Non-trainable params: 0\n",
      "_________________________________________________________________\n"
     ]
    }
   ],
   "source": [
    "output_dir = \"./text_generation_checkpoints\"\n",
    "model2 = build_model(vocab_size,\n",
    "                     embedding_dim,\n",
    "                     rnn_units,\n",
    "                     batch_size = 1)\n",
    "model2.load_weights(tf.train.latest_checkpoint(output_dir))\n",
    "#1是一个样本，None是可以变长序列\n",
    "# model2.build(tf.TensorShape([1, None]))\n",
    "#下面是文本生成的流程\n",
    "# start ch sequence A, \n",
    "# A -> model -> b  A放入模型后得到b\n",
    "# A.append(b) -> B\n",
    "# B(Ab) -> model -> c\n",
    "# B.append(c) -> C\n",
    "# C(Abc) -> model -> ...\n",
    "model2.summary()"
   ]
  },
  {
   "cell_type": "code",
   "execution_count": 47,
   "metadata": {},
   "outputs": [
    {
     "name": "stdout",
     "output_type": "stream",
     "text": [
      "[13, 50, 50, 10, 1]\n",
      "tf.Tensor([[13 50 50 10  1]], shape=(1, 5), dtype=int32)\n",
      "All: Mercius, helps, as free\n",
      "Asmarely sweet Kate; oberts, each in my true and large;\n",
      "Give me here\n",
      "I give 't?\n",
      "\n",
      "BRUTUS:\n",
      "Godge next way that offerd her by the triave, so it up to face again?\n",
      "Well, Juliet,\n",
      "I may for one so sound\n",
      "To put on a sourchart regreet:\n",
      "In heard happenies 'Ob?\n",
      "\n",
      "PETRUCHIO:\n",
      "Well, my lady, passing that when he sir, we my neckle, asked no more.\n",
      "\n",
      "CAPULET:\n",
      "Marsy way hurdly\n",
      "When he waked the streets of my brother. Thou of marchmy duke?\n",
      "What, Prince Edward's best.\n",
      "\n",
      "HENRY BOLINGBROKE:\n",
      "My graciousl payment and Master; for even it.\n",
      "\n",
      "PARIS:\n",
      "And so doth she not told it;\n",
      "And my goddess 'sarve the curol?\n",
      "\n",
      "ANGELO:\n",
      "Lend from the mind peets but to take it to becomest:\n",
      "He longest measure of thy bosom\n",
      "justice gave\n",
      "The admirst me forth to off,\n",
      "With sixtle, flail that keep alone.\n",
      "\n",
      "KING LEWIS XINCET:\n",
      "Well, the world good fast, if thou\n",
      "My joy, for thy.\n",
      "\n",
      "DUKE OF YORK:\n",
      "Fought that he is beating a feverate, or a died,\n",
      "Who wait thy knees.\n",
      "Madam, good madam; for him, if that Look of learn and dawer d\n"
     ]
    }
   ],
   "source": [
    "#定义一个函数来实现上面的文本生成流程\n",
    "def generate_text(model, start_string, num_generate = 1000):\n",
    "    #这一次输出的是1维的,把字母变为对应的id\n",
    "    input_eval = [char2idx[ch] for ch in start_string]\n",
    "    print(input_eval)\n",
    "    #做一个维度扩展\n",
    "    input_eval = tf.expand_dims(input_eval, 0)\n",
    "    print(input_eval)\n",
    "    text_generated = []\n",
    "    #对model进行reset，连续调用的时候使用resets_states()\n",
    "    model.reset_states()\n",
    "    \n",
    "    for _ in range(num_generate):\n",
    "        # 1. model inference -> predictions\n",
    "        # 2. sample -> ch -> text_generated.\n",
    "        # 3. update input_eval\n",
    "        \n",
    "        # predictions : [batch_size, input_eval_len, vocab_size]\n",
    "        predictions = model(input_eval)\n",
    "#         print(predictions.shape)\n",
    "        #squeeze消掉 batch_size，变为predictions : [input_eval_len, vocab_size]\n",
    "        predictions = tf.squeeze(predictions, 0)\n",
    "        # predicted_ids: [input_eval_len, 1]\n",
    "        # a b c -> b c d\n",
    "#         print(predictions)\n",
    "        #把predictions : [input_eval_len, vocab_size]维度数据变为 1个维度\n",
    "        predicted_id = tf.random.categorical(\n",
    "            predictions, num_samples = 1)[-1, 0].numpy()  #65个logits得到是什么类别\n",
    "#         print(predicted_id)\n",
    "        # 得到预测id后，放入text_generated\n",
    "        text_generated.append(idx2char[predicted_id])\n",
    "        # 下面这是是我们原来的公式,为什么没有append作为新的输入,因为那样比较低效\n",
    "        # s, x -> rnn -> s', y\n",
    "        input_eval = tf.expand_dims([predicted_id], 0)\n",
    "#         print(input_eval)\n",
    "    return start_string + ''.join(text_generated)\n",
    "\n",
    "new_text = generate_text(model2, \"All: \")\n",
    "print(new_text)\n"
   ]
  },
  {
   "cell_type": "code",
   "execution_count": null,
   "metadata": {},
   "outputs": [],
   "source": []
  }
 ],
 "metadata": {
  "kernelspec": {
   "display_name": "Python 3",
   "language": "python",
   "name": "python3"
  },
  "language_info": {
   "codemirror_mode": {
    "name": "ipython",
    "version": 3
   },
   "file_extension": ".py",
   "mimetype": "text/x-python",
   "name": "python",
   "nbconvert_exporter": "python",
   "pygments_lexer": "ipython3",
   "version": "3.6.9"
  }
 },
 "nbformat": 4,
 "nbformat_minor": 2
}
