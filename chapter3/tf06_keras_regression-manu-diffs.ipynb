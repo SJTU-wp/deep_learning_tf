{
 "cells": [
  {
   "cell_type": "code",
   "execution_count": 1,
   "id": "cf21e5a5",
   "metadata": {},
   "outputs": [
    {
     "name": "stdout",
     "output_type": "stream",
     "text": [
      "2.6.2\n",
      "sys.version_info(major=3, minor=6, micro=9, releaselevel='final', serial=0)\n",
      "matplotlib 3.3.4\n",
      "numpy 1.19.5\n",
      "pandas 1.1.5\n",
      "sklearn 0.24.2\n",
      "tensorflow 2.6.2\n",
      "keras.api._v2.keras 2.6.0\n"
     ]
    }
   ],
   "source": [
    "import matplotlib as mpl\n",
    "import matplotlib.pyplot as plt\n",
    "%matplotlib inline\n",
    "import numpy as np\n",
    "import sklearn\n",
    "import pandas as pd\n",
    "import os\n",
    "import sys\n",
    "import time\n",
    "import tensorflow as tf\n",
    "\n",
    "from tensorflow import keras\n",
    "\n",
    "print(tf.__version__)\n",
    "print(sys.version_info)\n",
    "for module in mpl, np, pd, sklearn, tf, keras:\n",
    "    print(module.__name__, module.__version__)"
   ]
  },
  {
   "cell_type": "code",
   "execution_count": 2,
   "id": "c5da3499",
   "metadata": {},
   "outputs": [
    {
     "name": "stdout",
     "output_type": "stream",
     "text": [
      ".. _california_housing_dataset:\n",
      "\n",
      "California Housing dataset\n",
      "--------------------------\n",
      "\n",
      "**Data Set Characteristics:**\n",
      "\n",
      "    :Number of Instances: 20640\n",
      "\n",
      "    :Number of Attributes: 8 numeric, predictive attributes and the target\n",
      "\n",
      "    :Attribute Information:\n",
      "        - MedInc        median income in block\n",
      "        - HouseAge      median house age in block\n",
      "        - AveRooms      average number of rooms\n",
      "        - AveBedrms     average number of bedrooms\n",
      "        - Population    block population\n",
      "        - AveOccup      average house occupancy\n",
      "        - Latitude      house block latitude\n",
      "        - Longitude     house block longitude\n",
      "\n",
      "    :Missing Attribute Values: None\n",
      "\n",
      "This dataset was obtained from the StatLib repository.\n",
      "http://lib.stat.cmu.edu/datasets/\n",
      "\n",
      "The target variable is the median house value for California districts.\n",
      "\n",
      "This dataset was derived from the 1990 U.S. census, using one row per census\n",
      "block group. A block group is the smallest geographical unit for which the U.S.\n",
      "Census Bureau publishes sample data (a block group typically has a population\n",
      "of 600 to 3,000 people).\n",
      "\n",
      "It can be downloaded/loaded using the\n",
      ":func:`sklearn.datasets.fetch_california_housing` function.\n",
      "\n",
      ".. topic:: References\n",
      "\n",
      "    - Pace, R. Kelley and Ronald Barry, Sparse Spatial Autoregressions,\n",
      "      Statistics and Probability Letters, 33 (1997) 291-297\n",
      "\n",
      "(20640, 8)\n",
      "(20640,)\n"
     ]
    }
   ],
   "source": [
    "from sklearn.datasets import fetch_california_housing\n",
    "\n",
    "housing = fetch_california_housing()\n",
    "print(housing.DESCR)\n",
    "print(housing.data.shape)\n",
    "print(housing.target.shape)"
   ]
  },
  {
   "cell_type": "code",
   "execution_count": 3,
   "id": "fbd18600",
   "metadata": {},
   "outputs": [
    {
     "name": "stdout",
     "output_type": "stream",
     "text": [
      "(11610, 8) (11610,)\n",
      "(3870, 8) (3870,)\n",
      "(5160, 8) (5160,)\n"
     ]
    }
   ],
   "source": [
    "from sklearn.model_selection import train_test_split\n",
    "\n",
    "x_train_all, x_test, y_train_all, y_test = train_test_split(\n",
    "    housing.data, housing.target, random_state = 7)\n",
    "x_train, x_valid, y_train, y_valid = train_test_split(\n",
    "    x_train_all, y_train_all, random_state = 11)\n",
    "print(x_train.shape, y_train.shape)\n",
    "print(x_valid.shape, y_valid.shape)\n",
    "print(x_test.shape, y_test.shape)"
   ]
  },
  {
   "cell_type": "code",
   "execution_count": 4,
   "id": "9f4f5df1",
   "metadata": {},
   "outputs": [],
   "source": [
    "from sklearn.preprocessing import StandardScaler\n",
    "\n",
    "scaler = StandardScaler()\n",
    "x_train_scaled = scaler.fit_transform(x_train)\n",
    "x_valid_scaled = scaler.transform(x_valid)\n",
    "x_test_scaled = scaler.transform(x_test)"
   ]
  },
  {
   "cell_type": "code",
   "execution_count": 5,
   "id": "d9366212",
   "metadata": {},
   "outputs": [
    {
     "name": "stdout",
     "output_type": "stream",
     "text": [
      "tf.Tensor(9.0, shape=(), dtype=float32)\n",
      "tf.Tensor(5.0, shape=(), dtype=float32)\n",
      "tf.Tensor(5.0, shape=(), dtype=float32)\n",
      "--------------------------------------------------\n",
      "tf.Tensor(4.0, shape=(), dtype=float32)\n"
     ]
    }
   ],
   "source": [
    "# 首先我们看下metric(算子)使用\n",
    "\n",
    "metric = keras.metrics.MeanSquaredError()\n",
    "print(metric([5.], [2.]))\n",
    "print(metric([0.], [1.]))\n",
    "# 具有累加功能，第1个是9，第二个是1，平均是5，(9+1)/2\n",
    "print(metric.result())\n",
    "print('-'*50)\n",
    "# 不想累加就reset\n",
    "metric.reset_states()  # 每次epoch需要reset\n",
    "metric([1.], [3.])\n",
    "print(metric.result())"
   ]
  },
  {
   "cell_type": "code",
   "execution_count": 6,
   "id": "4ea6b45b",
   "metadata": {},
   "outputs": [
    {
     "name": "stdout",
     "output_type": "stream",
     "text": [
      "11610\n",
      "(8,)\n"
     ]
    }
   ],
   "source": [
    "#训练集的样本数\n",
    "print(len(x_train_scaled))\n",
    "print(x_train.shape[1:])  #特征数"
   ]
  },
  {
   "cell_type": "code",
   "execution_count": 7,
   "id": "a2b6e1e5",
   "metadata": {},
   "outputs": [
    {
     "data": {
      "text/plain": [
       "362.8125"
      ]
     },
     "execution_count": 7,
     "metadata": {},
     "output_type": "execute_result"
    }
   ],
   "source": [
    "11610/32  #每次训练给予的样本数"
   ]
  },
  {
   "cell_type": "code",
   "execution_count": 8,
   "id": "78e33a94",
   "metadata": {},
   "outputs": [
    {
     "name": "stdout",
     "output_type": "stream",
     "text": [
      "[[[[0 1 2]]\n",
      "\n",
      "  [[3 4 5]]]]\n"
     ]
    },
    {
     "data": {
      "text/plain": [
       "<tf.Tensor: shape=(2, 3), dtype=int64, numpy=\n",
       "array([[0, 1, 2],\n",
       "       [3, 4, 5]])>"
      ]
     },
     "execution_count": 8,
     "metadata": {},
     "output_type": "execute_result"
    }
   ],
   "source": [
    "t= np.arange(6).reshape(1, 2, 1, 3)\n",
    "print(t)\n",
    "tf.squeeze(t)  # [2, 3]  # 降维，将维数为1去除"
   ]
  },
  {
   "cell_type": "code",
   "execution_count": 9,
   "id": "113d2c92",
   "metadata": {},
   "outputs": [
    {
     "name": "stdout",
     "output_type": "stream",
     "text": [
      "[603 268 568 796 940]\n",
      "[[ 0.59746748 -0.68904142  7.7890294   5.79337374 -0.96493965 -0.08693183\n",
      "   1.67776312 -0.2472029 ]\n",
      " [ 0.9023572  -1.57014402 -0.33008719 -0.37723712 -0.28810416 -0.13512107\n",
      "  -0.9350231   0.91128166]\n",
      " [ 1.71141794 -0.84924189  0.28390754 -0.34142226 -0.3643162   0.01841776\n",
      "  -0.82304655  0.87632738]\n",
      " [ 3.76039196  0.11196095  1.04675424 -0.15255845  0.13922764 -0.0225204\n",
      "  -0.86503775  0.59169971]\n",
      " [-0.27313601  0.91296332  0.17412602 -0.25540477 -0.68912465 -0.06740794\n",
      "   1.22052553 -1.27585729]]\n"
     ]
    },
    {
     "data": {
      "text/plain": [
       "array([1.695  , 1.823  , 3.275  , 5.00001, 1.702  ])"
      ]
     },
     "execution_count": 9,
     "metadata": {},
     "output_type": "execute_result"
    }
   ],
   "source": [
    "# 随机挑选5个样本，看下特征，标签（对数据集有个浅显直观认识）\n",
    "idx = np.random.randint(0, 1000, size=5)\n",
    "print(idx)\n",
    "print(x_train_scaled[idx])\n",
    "y_train[idx]"
   ]
  },
  {
   "cell_type": "code",
   "execution_count": 10,
   "id": "564c7f67",
   "metadata": {},
   "outputs": [
    {
     "name": "stdout",
     "output_type": "stream",
     "text": [
      "tf.Tensor(\n",
      "[[1]\n",
      " [2]\n",
      " [3]], shape=(3, 1), dtype=int32)\n"
     ]
    },
    {
     "data": {
      "text/plain": [
       "<tf.Tensor: shape=(3,), dtype=int32, numpy=array([1, 2, 3], dtype=int32)>"
      ]
     },
     "execution_count": 10,
     "metadata": {},
     "output_type": "execute_result"
    }
   ],
   "source": [
    "# squeeze的作用：removes dimensions of size 1 from the shape of a tensor\n",
    "t=tf.constant([[1],[2],[3]])\n",
    "print(t)\n",
    "tf.squeeze(t,1)"
   ]
  },
  {
   "cell_type": "code",
   "execution_count": 11,
   "id": "1c217197",
   "metadata": {},
   "outputs": [
    {
     "name": "stdout",
     "output_type": "stream",
     "text": [
      "helloworld\r",
      "helloworld\r",
      "helloworld\r",
      "helloworld\r",
      "helloworld\r",
      "helloworld\r",
      "helloworld\r",
      "helloworld\r",
      "helloworld\r",
      "helloworld\r"
     ]
    }
   ],
   "source": [
    "# '\\r'：光标会移动到初始的位置，并且覆盖掉之前的内容\n",
    "for i in range(10):\n",
    "    print('helloworld',end='\\r')"
   ]
  },
  {
   "cell_type": "code",
   "execution_count": 13,
   "id": "f029258e",
   "metadata": {},
   "outputs": [
    {
     "name": "stdout",
     "output_type": "stream",
     "text": [
      "362\n",
      "[<tf.Variable 'dense_2/kernel:0' shape=(8, 30) dtype=float32, numpy=\n",
      "array([[ 0.04916757,  0.26345643, -0.15300934,  0.14844838,  0.04309306,\n",
      "        -0.20345019,  0.14775553,  0.06642985,  0.04435697,  0.07489792,\n",
      "         0.08158103,  0.17499933,  0.05789208, -0.19457069, -0.33755505,\n",
      "         0.09788883, -0.12360251,  0.25684783,  0.15977821, -0.06155899,\n",
      "        -0.33976632, -0.35518503, -0.35734478,  0.20904568,  0.33490542,\n",
      "         0.1572226 ,  0.08946207, -0.1392875 ,  0.24191263, -0.35088658],\n",
      "       [ 0.05233929,  0.2003986 , -0.22815074, -0.01607335, -0.13972652,\n",
      "        -0.327522  , -0.01142567, -0.14639589,  0.08565426, -0.3184336 ,\n",
      "         0.3566918 ,  0.16055909, -0.32132956, -0.19670816, -0.18883781,\n",
      "         0.33286527,  0.303219  ,  0.10772708,  0.28436342,  0.23347965,\n",
      "        -0.32815838, -0.01476625,  0.11702946,  0.36559537, -0.38135648,\n",
      "        -0.07647899, -0.37481576, -0.28720886, -0.08737859, -0.11436898],\n",
      "       [ 0.25936946,  0.23113462,  0.03014174,  0.2422916 ,  0.10991022,\n",
      "         0.02801609, -0.23752315,  0.24986914,  0.2183192 ,  0.36723104,\n",
      "         0.34375516,  0.083875  , -0.27257335, -0.12436646, -0.39208004,\n",
      "        -0.20393316, -0.1643759 , -0.2331834 , -0.30625695,  0.04980373,\n",
      "        -0.36293373,  0.18831638,  0.35208324,  0.00872564,  0.12964442,\n",
      "        -0.37160918, -0.37609595, -0.15122524, -0.20737877, -0.34818465],\n",
      "       [-0.10477334,  0.15040085, -0.12046072,  0.2555298 , -0.34388003,\n",
      "        -0.16171065, -0.17921385,  0.22491941,  0.11405262, -0.28680602,\n",
      "        -0.00150549, -0.36460567,  0.10953858, -0.02896082,  0.22125521,\n",
      "        -0.37452284, -0.09418571, -0.14051217,  0.06870008, -0.10367087,\n",
      "         0.08709505, -0.04225245, -0.36075807,  0.2530276 ,  0.11081323,\n",
      "        -0.04704496, -0.02845398,  0.3848202 ,  0.13391706, -0.13367578],\n",
      "       [-0.3057157 , -0.18984686,  0.09431076,  0.12820706, -0.08832115,\n",
      "         0.30634508, -0.13901323, -0.00406417,  0.20891479, -0.30803764,\n",
      "         0.23521373,  0.07457525,  0.13591662, -0.33541852,  0.15382722,\n",
      "        -0.11674765,  0.3617278 ,  0.325819  , -0.04612279, -0.19761433,\n",
      "        -0.31684458, -0.0841758 , -0.36008394, -0.2181916 , -0.14694345,\n",
      "        -0.37941796,  0.17892906, -0.09772873, -0.36930835,  0.00674203],\n",
      "       [-0.16876464,  0.08688474,  0.19967678, -0.22803828, -0.14250538,\n",
      "         0.34425148,  0.19375786,  0.376259  , -0.29399902, -0.21154478,\n",
      "         0.25140718, -0.25240433,  0.17007706,  0.20131424, -0.30052018,\n",
      "        -0.25042656, -0.23065807, -0.22931553,  0.28421524, -0.34576532,\n",
      "        -0.39659688, -0.15993592, -0.2711283 , -0.01834914, -0.06406444,\n",
      "         0.3716754 , -0.3264097 ,  0.21655235,  0.13648126,  0.24081019],\n",
      "       [-0.27261335,  0.081954  ,  0.11866018, -0.36621356, -0.2651189 ,\n",
      "        -0.2989002 , -0.07436842, -0.2942527 ,  0.33965   , -0.24202   ,\n",
      "         0.24741307, -0.2791496 , -0.026876  ,  0.09025627,  0.06675538,\n",
      "        -0.30701968,  0.18772492,  0.25594732,  0.30813965, -0.15051812,\n",
      "         0.2172555 , -0.01601487, -0.07837376, -0.36190146,  0.05032054,\n",
      "        -0.1929683 , -0.01347354,  0.37097576, -0.2707761 , -0.10663751],\n",
      "       [-0.02505052,  0.3954294 , -0.34823826,  0.38123652, -0.37885964,\n",
      "         0.01085129, -0.25747544, -0.2508818 ,  0.24667493, -0.0856519 ,\n",
      "        -0.29253614, -0.24824873, -0.2754349 , -0.2501794 ,  0.09344977,\n",
      "         0.39062884, -0.33040974, -0.04742911, -0.29550487, -0.319311  ,\n",
      "         0.28840318,  0.00928545,  0.25895163,  0.19372687,  0.34163824,\n",
      "        -0.11198601, -0.2705146 , -0.22549817, -0.21394071,  0.29213294]],\n",
      "      dtype=float32)>, <tf.Variable 'dense_2/bias:0' shape=(30,) dtype=float32, numpy=\n",
      "array([0., 0., 0., 0., 0., 0., 0., 0., 0., 0., 0., 0., 0., 0., 0., 0., 0.,\n",
      "       0., 0., 0., 0., 0., 0., 0., 0., 0., 0., 0., 0., 0.], dtype=float32)>, <tf.Variable 'dense_3/kernel:0' shape=(30, 1) dtype=float32, numpy=\n",
      "array([[-0.32260865],\n",
      "       [-0.21382987],\n",
      "       [-0.03065512],\n",
      "       [-0.15525752],\n",
      "       [ 0.3693661 ],\n",
      "       [ 0.4255585 ],\n",
      "       [ 0.04967296],\n",
      "       [ 0.37405318],\n",
      "       [-0.26918474],\n",
      "       [-0.26820934],\n",
      "       [-0.17185324],\n",
      "       [ 0.20835197],\n",
      "       [-0.32880273],\n",
      "       [-0.1844407 ],\n",
      "       [-0.3606667 ],\n",
      "       [-0.17273149],\n",
      "       [-0.4008041 ],\n",
      "       [ 0.18049002],\n",
      "       [-0.1893034 ],\n",
      "       [-0.01071632],\n",
      "       [ 0.25445712],\n",
      "       [-0.31029475],\n",
      "       [-0.2893913 ],\n",
      "       [-0.2565531 ],\n",
      "       [ 0.3071519 ],\n",
      "       [ 0.1682142 ],\n",
      "       [ 0.16417056],\n",
      "       [ 0.32899857],\n",
      "       [-0.31669116],\n",
      "       [-0.27762315]], dtype=float32)>, <tf.Variable 'dense_3/bias:0' shape=(1,) dtype=float32, numpy=array([0.], dtype=float32)>]\n",
      "--------------------------------------------------\n",
      "Epoch 0 train mse:0.86946016\n",
      "\t valid mse:  0.7853448859324763\n",
      "Epoch 1 train mse:0.47092348\n",
      "\t valid mse:  0.7113863206810283\n",
      "Epoch 2 train mse:0.83051036\n",
      "\t valid mse:  0.4771909827541417\n",
      "Epoch 3 train mse:0.44433492\n",
      "\t valid mse:  0.4461455755150442\n",
      "Epoch 4 train mse:0.42055942\n",
      "\t valid mse:  0.43151194101429563\n",
      "Epoch 5 train mse:0.40972278\n",
      "\t valid mse:  0.41226011529544576\n",
      "Epoch 6 train mse:0.38740578\n",
      "\t valid mse:  0.4000355362644919\n",
      "Epoch 7 train mse:0.39462402\n",
      "\t valid mse:  0.3994171554664721\n",
      "Epoch 8 train mse:0.36365896\n",
      "\t valid mse:  0.38747104333286764\n",
      "Epoch 9 train mse:0.38187075\n",
      "\t valid mse:  0.3917600565934008\n",
      "Epoch 10 train mse:0.38173717\n",
      "\t valid mse:  0.38774526403686904\n",
      "Epoch 11 train mse:0.36071352\n",
      "\t valid mse:  0.38189189508799026\n",
      "Epoch 12 train mse:0.35150507\n",
      "\t valid mse:  0.3789220523963993\n",
      "Epoch 13 train mse:0.34942698\n",
      "\t valid mse:  0.3773156575274861\n",
      "Epoch 14 train mse:0.33852732\n",
      "\t valid mse:  0.37723934915901164\n",
      "Epoch 15 train mse:0.35705465\n",
      "\t valid mse:  0.37482716338750355\n",
      "Epoch 16 train mse:0.35326284\n",
      "\t valid mse:  0.4144154266242445\n",
      "Epoch 17 train mse:0.36875784\n",
      "\t valid mse:  0.3727111762543932\n",
      "Epoch 18 train mse:0.34240827\n",
      "\t valid mse:  0.3690903794226951\n",
      "Epoch 19 train mse:0.34778076\n",
      "\t valid mse:  0.36617044524064907\n",
      "Epoch 20 train mse:0.34914452\n",
      "\t valid mse:  0.370212134134292\n",
      "Epoch 21 train mse:0.34290478\n",
      "\t valid mse:  0.36937016030565123\n",
      "Epoch 22 train mse:0.35083158\n",
      "\t valid mse:  0.3617113864198745\n",
      "Epoch 23 train mse:0.34105903\n",
      "\t valid mse:  0.36392259484654166\n",
      "Epoch 24 train mse:0.34431313\n",
      "\t valid mse:  0.3614259452259558\n",
      "Epoch 25 train mse:0.33691467\n",
      "\t valid mse:  0.35796671299177113\n",
      "Epoch 26 train mse:0.34546348\n",
      "\t valid mse:  0.3646136703481587\n",
      "Epoch 27 train mse:0.33377793\n",
      "\t valid mse:  0.35481708392648986\n",
      "Epoch 28 train mse:0.35289708\n",
      "\t valid mse:  0.359110008746948\n",
      "Epoch 29 train mse:0.32925312\n",
      "\t valid mse:  0.35576397477822563\n",
      "Epoch 30 train mse:0.33494364\n",
      "\t valid mse:  0.35923855367668\n",
      "Epoch 31 train mse:0.34581265\n",
      "\t valid mse:  0.540903271854225\n",
      "Epoch 32 train mse:0.35892263\n",
      "\t valid mse:  0.35559643484459513\n",
      "Epoch 33 train mse:0.35027143\n",
      "\t valid mse:  0.35822089929154893\n",
      "Epoch 34 train mse:0.34291375\n",
      "\t valid mse:  0.35591326825169645\n",
      "Epoch 35 train mse:0.34309632\n",
      "\t valid mse:  0.3543217574349335\n",
      "Epoch 36 train mse:0.33105417\n",
      "\t valid mse:  0.34885724850945415\n",
      "Epoch 37 train mse:0.33495525\n",
      "\t valid mse:  0.3518402026994992\n",
      "Epoch 38 train mse:0.33218647\n",
      "\t valid mse:  0.3499870018613502\n",
      "Epoch 39 train mse:0.34310156\n",
      "\t valid mse:  0.3462804042742103\n",
      "Epoch 40 train mse:0.33849838\n",
      "\t valid mse:  0.3481433584492812\n",
      "Epoch 41 train mse:0.33753073\n",
      "\t valid mse:  0.34570138514362336\n",
      "Epoch 42 train mse:0.32975236\n",
      "\t valid mse:  0.3458696408214965\n",
      "Epoch 43 train mse:0.31879526\n",
      "\t valid mse:  0.3456166123905531\n",
      "Epoch 44 train mse:0.34948954\n",
      "\t valid mse:  0.34631355770244393\n",
      "Epoch 45 train mse:0.33468572\n",
      "\t valid mse:  0.3429847766502288\n",
      "Epoch 46 train mse:0.34160452\n",
      "\t valid mse:  0.33964919143668165\n",
      "Epoch 47 train mse:0.32714877\n",
      "\t valid mse:  0.3424299035450311\n",
      "Epoch 48 train mse:0.32823566\n",
      "\t valid mse:  0.3422241680437345\n",
      "Epoch 49 train mse:0.31950996\n",
      "\t valid mse:  0.3434069443891073\n",
      "Epoch 50 train mse:0.31244045\n",
      "\t valid mse:  0.3466703244846082\n",
      "Epoch 51 train mse:0.32764388\n",
      "\t valid mse:  0.3383737983411596\n",
      "Epoch 52 train mse:0.33932894\n",
      "\t valid mse:  0.3387793612607095\n",
      "Epoch 53 train mse:0.31858588\n",
      "\t valid mse:  0.33475840659088524\n",
      "Epoch 54 train mse:0.31967857\n",
      "\t valid mse:  0.337796685882424\n"
     ]
    },
    {
     "name": "stdout",
     "output_type": "stream",
     "text": [
      "Epoch 55 train mse:0.32746786\n",
      "\t valid mse:  0.3323464696527124\n",
      "Epoch 56 train mse:0.31423222\n",
      "\t valid mse:  0.3333562365378605\n",
      "Epoch 57 train mse:0.32040387\n",
      "\t valid mse:  0.32926697307916325\n",
      "Epoch 58 train mse:0.31254002\n",
      "\t valid mse:  0.3366717998096803\n",
      "Epoch 59 train mse:0.31848517\n",
      "\t valid mse:  0.3308538707250319\n",
      "Epoch 60 train mse:0.31696442\n",
      "\t valid mse:  0.33452065277223975\n",
      "Epoch 61 train mse:0.31797996\n",
      "\t valid mse:  0.32749541622596795\n",
      "Epoch 62 train mse:0.30344172\n",
      "\t valid mse:  0.32741987389790783\n",
      "Epoch 63 train mse:0.30163217\n",
      "\t valid mse:  0.3282587237214739\n",
      "Epoch 64 train mse:0.31790152\n",
      "\t valid mse:  0.34530730019046973\n",
      "Epoch 65 train mse:0.31459215\n",
      "\t valid mse:  0.3804479016809347\n",
      "Epoch 66 train mse:0.32389137\n",
      "\t valid mse:  0.3281295462759709\n",
      "Epoch 67 train mse:0.31062317\n",
      "\t valid mse:  0.33256024324108524\n",
      "Epoch 68 train mse:0.29730394\n",
      "\t valid mse:  0.33605129127237265\n",
      "Epoch 69 train mse:0.30901493\n",
      "\t valid mse:  0.3271635279274257\n",
      "Epoch 70 train mse:0.32739212\n",
      "\t valid mse:  0.32822563467218074\n",
      "Epoch 71 train mse:0.31208608\n",
      "\t valid mse:  0.3367863707403106\n",
      "Epoch 72 train mse:0.33248183\n",
      "\t valid mse:  0.32889321751676226\n",
      "Epoch 73 train mse:0.30689687\n",
      "\t valid mse:  0.33100553381457837\n",
      "Epoch 74 train mse:0.31861823\n",
      "\t valid mse:  0.32292628334961604\n",
      "Epoch 75 train mse:0.30489546\n",
      "\t valid mse:  0.3472879246391637\n",
      "Epoch 76 train mse:0.31996664\n",
      "\t valid mse:  0.32897102805315853\n",
      "Epoch 77 train mse:0.30965558\n",
      "\t valid mse:  0.3398428417121013\n",
      "Epoch 78 train mse:0.32817987\n",
      "\t valid mse:  0.32285502608345296\n",
      "Epoch 79 train mse:0.31216338\n",
      "\t valid mse:  0.32289682749860077\n",
      "Epoch 80 train mse:0.34689817\n",
      "\t valid mse:  0.39939772656255773\n",
      "Epoch 81 train mse:0.87841553\n",
      "\t valid mse:  0.3772419027989256\n",
      "Epoch 82 train mse:0.35190558\n",
      "\t valid mse:  0.6507437097465006\n",
      "Epoch 83 train mse:0.36177605\n",
      "\t valid mse:  0.3763510169229251\n",
      "Epoch 84 train mse:0.34350964\n",
      "\t valid mse:  0.3430980311852394\n",
      "Epoch 85 train mse:0.33259434\n",
      "\t valid mse:  0.34157500253521833\n",
      "Epoch 86 train mse:0.350362666\n",
      "\t valid mse:  0.3503285281777697\n",
      "Epoch 87 train mse:0.38682285\n",
      "\t valid mse:  0.362560366671253\n",
      "Epoch 88 train mse:0.37107878\n",
      "\t valid mse:  0.4210988782245865\n",
      "Epoch 89 train mse:0.34063637\n",
      "\t valid mse:  0.3494773875736453\n",
      "Epoch 90 train mse:0.37207583\n",
      "\t valid mse:  0.35372634495219024\n",
      "Epoch 91 train mse:0.34250665\n",
      "\t valid mse:  0.3560138404572125\n",
      "Epoch 92 train mse:0.33596227\n",
      "\t valid mse:  0.35011468869704915\n",
      "Epoch 93 train mse:0.33472742\n",
      "\t valid mse:  0.34797128270931665\n",
      "Epoch 94 train mse:0.31344717\n",
      "\t valid mse:  0.33657893441024656\n",
      "Epoch 95 train mse:0.32110423\n",
      "\t valid mse:  0.41750316341100774\n",
      "Epoch 96 train mse:0.32253906\n",
      "\t valid mse:  0.3374733046352047\n",
      "Epoch 97 train mse:0.32411672\n",
      "\t valid mse:  0.33888699552186086\n",
      "Epoch 98 train mse:0.32456523\n",
      "\t valid mse:  0.33737614934970417\n",
      "Epoch 99 train mse:0.31986757\n",
      "\t valid mse:  0.3366718255409685\n"
     ]
    }
   ],
   "source": [
    "# 纸质notebook上有分析这段步骤\n",
    "# 1. batch 遍历训练集 metric\n",
    "#    1.1 自动求导\n",
    "# 2. epoch结束 验证集 metric\n",
    "\n",
    "epochs = 100  # 多少次\n",
    "batch_size = 32 \n",
    "steps_per_epoch = len(x_train_scaled) // batch_size  # 每一个epoch拿多少数据\n",
    "print(steps_per_epoch)\n",
    "optimizer = keras.optimizers.SGD()\n",
    "metric = keras.metrics.MeanSquaredError()\n",
    "\n",
    "# 随机取数据,取出来32个样本（样本不一定全都能取到，所以下面的steps_per_epoch没有调整）\n",
    "def random_batch(x, y, batch_size=32):\n",
    "    idx = np.random.randint(0, len(x), size=batch_size)\n",
    "    return x[idx], y[idx]\n",
    "\n",
    "model = keras.models.Sequential([\n",
    "    keras.layers.Dense(30, activation='relu',\n",
    "                       input_shape=x_train.shape[1:]),\n",
    "    keras.layers.Dense(1),\n",
    "])\n",
    "print(model.variables)\n",
    "print('-'*50)\n",
    "\n",
    "# 下面一部分相当于替代了fit函数\n",
    "# model.summary()\n",
    "for epoch in range(epochs):  # 每一轮epochs训练所有的样本\n",
    "    metric.reset_states()  # 清空损失，防止metric计算结果累加\n",
    "    for step in range(steps_per_epoch):\n",
    "        # 1、随机取32个样本-确定训练集\n",
    "        x_batch, y_batch = random_batch(x_train_scaled, y_train,\n",
    "                                        batch_size)\n",
    "        # 2、得到预测值并调整\n",
    "        with tf.GradientTape() as tape:\n",
    "            # 1）得到预测值\n",
    "            y_pred = model(x_batch)  # 等价于model.predict（大规模数据用predict）\n",
    " \n",
    "            # 删减了值为1的维度,二阶张量，变为一阶张量\n",
    "            y_pred = tf.squeeze(y_pred, 1)\n",
    "            # 2）计算损失y\n",
    "            loss = keras.losses.mean_squared_error(y_batch, y_pred)\n",
    "            # 计算均方误差\n",
    "            metric(y_batch, y_pred)\n",
    "        # 3）求梯度dy/dw\n",
    "        grads = tape.gradient(loss, model.variables)\n",
    "        # 梯度和变量绑定\n",
    "        grads_and_vars = zip(grads, model.variables)\n",
    "        # 4）更新w，通过grads，去更新模型的model.variables，也就是更新了w,b\n",
    "        optimizer.apply_gradients(grads_and_vars)\n",
    "        # 打印，不要在循环内加print，除非加\\r\n",
    "        p=\"Epoch \"+str(epoch)+\" train mse:\"+str(metric.result().numpy())\n",
    "        print(p, end='\\r')\n",
    "    print('')  # 打换行的目的是为了新起一行显示\n",
    "    # 搞了一波训练后，认为模型可以了，去验证集验证\n",
    "    y_valid_pred = model(x_valid_scaled)\n",
    "    # 删减了值为1的维度\n",
    "#     print(y_valid_pred.shape)\n",
    "    y_valid_pred = tf.squeeze(y_valid_pred, 1)\n",
    "#     print(y_valid_pred.shape)\n",
    "    valid_loss = keras.losses.mean_squared_error(y_valid_pred, y_valid)\n",
    "    print(\"\\t\", \"valid mse: \", valid_loss.numpy())"
   ]
  },
  {
   "cell_type": "code",
   "execution_count": null,
   "id": "d07e3fe9",
   "metadata": {},
   "outputs": [],
   "source": []
  }
 ],
 "metadata": {
  "kernelspec": {
   "display_name": "Python 3",
   "language": "python",
   "name": "python3"
  },
  "language_info": {
   "codemirror_mode": {
    "name": "ipython",
    "version": 3
   },
   "file_extension": ".py",
   "mimetype": "text/x-python",
   "name": "python",
   "nbconvert_exporter": "python",
   "pygments_lexer": "ipython3",
   "version": "3.6.9"
  }
 },
 "nbformat": 4,
 "nbformat_minor": 5
}
