{
  "cells": [
    {
      "cell_type": "code",
      "execution_count": 2,
      "metadata": {
        "colab": {
          "base_uri": "https://localhost:8080/"
        },
        "id": "Rc_7Yr0N8znU",
        "outputId": "c122388d-0cfc-4c85-a533-892ed0d4ea83"
      },
      "outputs": [
        {
          "output_type": "stream",
          "name": "stdout",
          "text": [
            "2.8.0\n",
            "sys.version_info(major=3, minor=7, micro=13, releaselevel='final', serial=0)\n",
            "matplotlib 3.2.2\n",
            "numpy 1.21.6\n",
            "pandas 1.3.5\n",
            "sklearn 1.0.2\n",
            "tensorflow 2.8.0\n",
            "keras.api._v2.keras 2.8.0\n"
          ]
        }
      ],
      "source": [
        "%matplotlib inline\n",
        "import matplotlib as mpl\n",
        "import matplotlib.pyplot as plt\n",
        "import numpy as np\n",
        "import os\n",
        "import pandas as pd\n",
        "import sklearn\n",
        "import sys\n",
        "import tensorflow as tf\n",
        "import time\n",
        "\n",
        "from tensorflow import keras\n",
        "\n",
        "print(tf.__version__)\n",
        "print(sys.version_info)\n",
        "for module in mpl, np, pd, sklearn, tf, keras:\n",
        "    print(module.__name__, module.__version__)"
      ]
    },
    {
      "cell_type": "code",
      "source": [
        "!nvidia-smi"
      ],
      "metadata": {
        "colab": {
          "base_uri": "https://localhost:8080/"
        },
        "id": "FhE1Q-Et86Bl",
        "outputId": "5e4822d3-2bbb-4fb6-b0b0-956d609c2477"
      },
      "execution_count": 3,
      "outputs": [
        {
          "output_type": "stream",
          "name": "stdout",
          "text": [
            "Mon May 23 03:28:41 2022       \n",
            "+-----------------------------------------------------------------------------+\n",
            "| NVIDIA-SMI 460.32.03    Driver Version: 460.32.03    CUDA Version: 11.2     |\n",
            "|-------------------------------+----------------------+----------------------+\n",
            "| GPU  Name        Persistence-M| Bus-Id        Disp.A | Volatile Uncorr. ECC |\n",
            "| Fan  Temp  Perf  Pwr:Usage/Cap|         Memory-Usage | GPU-Util  Compute M. |\n",
            "|                               |                      |               MIG M. |\n",
            "|===============================+======================+======================|\n",
            "|   0  Tesla T4            Off  | 00000000:00:04.0 Off |                    0 |\n",
            "| N/A   32C    P8     9W /  70W |      0MiB / 15109MiB |      0%      Default |\n",
            "|                               |                      |                  N/A |\n",
            "+-------------------------------+----------------------+----------------------+\n",
            "                                                                               \n",
            "+-----------------------------------------------------------------------------+\n",
            "| Processes:                                                                  |\n",
            "|  GPU   GI   CI        PID   Type   Process name                  GPU Memory |\n",
            "|        ID   ID                                                   Usage      |\n",
            "|=============================================================================|\n",
            "|  No running processes found                                                 |\n",
            "+-----------------------------------------------------------------------------+\n"
          ]
        }
      ]
    },
    {
      "cell_type": "code",
      "execution_count": 4,
      "metadata": {
        "id": "nxejbzgv8znX"
      },
      "outputs": [],
      "source": [
        "import unicodedata\n",
        "import re\n",
        "from sklearn.model_selection import train_test_split"
      ]
    },
    {
      "cell_type": "code",
      "execution_count": 5,
      "metadata": {
        "colab": {
          "base_uri": "https://localhost:8080/"
        },
        "id": "P6nBNKV88znX",
        "outputId": "ef0a235e-db4e-4c6c-a713-594c895453aa"
      },
      "outputs": [
        {
          "output_type": "stream",
          "name": "stdout",
          "text": [
            "I am a man!. ? \n",
            "imasn\n"
          ]
        }
      ],
      "source": [
        "# 这里正则表达式中的^：一直吃直到......（可以理解为“取反”）\n",
        "b = \"I am a[]=+ man!. ? &***()\"\n",
        "b = re.sub(r\"[^a-zA-Z?.!,¿]+\", \" \", b)\n",
        "print(b)\n",
        "c = '12345 im asn'\n",
        "c = re.sub(r\"[^a-z]+\", \"\", c)\n",
        "print(c)"
      ]
    },
    {
      "cell_type": "code",
      "execution_count": 6,
      "metadata": {
        "colab": {
          "base_uri": "https://localhost:8080/"
        },
        "id": "nLGLZD1D8znY",
        "outputId": "3e3d7f28-83b5-4761-d2ac-f11ffdbe6329"
      },
      "outputs": [
        {
          "output_type": "stream",
          "name": "stdout",
          "text": [
            "May I borrow this book?\n",
            "¿Puedo tomar prestado este libro?\n",
            "<start> may i borrow this book ? <end>\n",
            "<start> ¿ puedo tomar prestado este libro ? <end>\n",
            "b'<start> \\xc2\\xbf puedo tomar prestado este libro ? <end>'\n"
          ]
        }
      ],
      "source": [
        "# 因为西班牙语有一些是特殊字符，所以需要unicode转ascii\n",
        "# 这样值变小了，因为unicode太大\n",
        "def unicode_to_ascii(s):\n",
        "    # NFD是转换方法，把每一个字节拆开，Mn是重音，所以去除\n",
        "    return ''.join(c for c in unicodedata.normalize('NFD', s) if unicodedata.category(c) != 'Mn')\n",
        "\n",
        "# 简单测试\n",
        "# 加u代表对字符串进行unicode编码\n",
        "en_sentence = u\"May I borrow this book?\"\n",
        "sp_sentence = u\"¿Puedo tomar prestado este libro?\"\n",
        "\n",
        "print(unicode_to_ascii(en_sentence))\n",
        "print(unicode_to_ascii(sp_sentence))\n",
        "\n",
        "\n",
        "def preprocess_sentence(w):\n",
        "    # 变为小写，去掉多余的空格\n",
        "    w = unicode_to_ascii(w.lower().strip())\n",
        "\n",
        "    # 在单词与跟在其后的标点符号之间插入一个空格\n",
        "    # eg: \"he is a boy.\" => \"he is a boy . \"\n",
        "    # Reference:- https://stackoverflow.com/questions/3645931/python-padding-punctuation-with-white-spaces-keeping-punctuation\n",
        "    w = re.sub(r\"([?.!,¿])\", r\" \\1 \", w)\n",
        "    # 因为可能有多余空格，替换为一个空格，所以处理一下\n",
        "    w = re.sub(r'[\" \"]+', \" \", w)\n",
        "\n",
        "    # 除了 (a-z, A-Z, \".\", \"?\", \"!\", \",\")，将所有字符替换为空格（上一个cell中有演示）\n",
        "    w = re.sub(r\"[^a-zA-Z?.!,¿]+\", \" \", w)\n",
        "\n",
        "    w = w.rstrip().strip()\n",
        "\n",
        "    # adding a start and an end token to the sentence\n",
        "    # so that the model know when to start and stop predicting.\n",
        "    w = '<start> ' + w + ' <end>'\n",
        "    return w\n",
        "\n",
        "print(preprocess_sentence(en_sentence))\n",
        "print(preprocess_sentence(sp_sentence))\n",
        "print(preprocess_sentence(sp_sentence).encode('utf-8'))  # ¿是占用两个字节的"
      ]
    },
    {
      "cell_type": "code",
      "execution_count": 7,
      "metadata": {
        "colab": {
          "base_uri": "https://localhost:8080/"
        },
        "id": "jWJsS8vc8znZ",
        "outputId": "0f39752d-bb54-432e-ac0a-9dd0989cdf72"
      },
      "outputs": [
        {
          "output_type": "stream",
          "name": "stdout",
          "text": [
            "<class 'tuple'>\n",
            "<class 'tuple'>\n",
            "118964\n",
            "<start> if you want to sound like a native speaker , you must be willing to practice saying the same sentence over and over in the same way that banjo players practice the same phrase over and over until they can play it correctly and at the desired tempo . <end>\n",
            "<start> si quieres sonar como un hablante nativo , debes estar dispuesto a practicar diciendo la misma frase una y otra vez de la misma manera en que un musico de banjo practica el mismo fraseo una y otra vez hasta que lo puedan tocar correctamente y en el tiempo esperado . <end>\n"
          ]
        }
      ],
      "source": [
        "data_path = './spa.txt'\n",
        "\n",
        "# 1. Remove the accents  移除口音\n",
        "# 2. Clean the sentences\n",
        "# 3. Return word pairs in the format: [ENGLISH, SPANISH]--> 前面西班牙，后面英文\n",
        "def create_dataset(path, num_examples):\n",
        "    lines = open(path, encoding='UTF-8').read().strip().split('\\n')\n",
        "    # word_pairs是二维列表\n",
        "    word_pairs = [[preprocess_sentence(w) for w in l.split('\\t')]  for l in lines[:num_examples]]\n",
        "    \n",
        "    return zip(*word_pairs)\n",
        "\n",
        "en, sp = create_dataset(data_path, None)\n",
        "print(type(en))\n",
        "print(type(sp))\n",
        "print(len(en))\n",
        "print(en[-1])\n",
        "print(sp[-1])\n"
      ]
    },
    {
      "cell_type": "code",
      "execution_count": 8,
      "metadata": {
        "colab": {
          "base_uri": "https://localhost:8080/"
        },
        "id": "SeRCqItd8zna",
        "outputId": "c506ff74-ce32-4029-c840-d335e869afc1"
      },
      "outputs": [
        {
          "output_type": "stream",
          "name": "stdout",
          "text": [
            "(1, 3, 5) (2, 4, 6)\n"
          ]
        }
      ],
      "source": [
        "# zip演示\n",
        "a=[ [1, 2],[3,4],[5,6] ]\n",
        "c,d=zip(*a)  # *：解包\n",
        "print(c,d)\n"
      ]
    },
    {
      "cell_type": "code",
      "execution_count": 9,
      "metadata": {
        "colab": {
          "base_uri": "https://localhost:8080/"
        },
        "id": "FAkiqnok8zna",
        "outputId": "7ee1c62d-1423-47e7-9d7f-b8cc6ca8e047"
      },
      "outputs": [
        {
          "output_type": "stream",
          "name": "stdout",
          "text": [
            "--------------------------------------------------\n",
            "(30000, 16) (30000, 11) <keras_preprocessing.text.Tokenizer object at 0x7f63ee8ec0d0> <keras_preprocessing.text.Tokenizer object at 0x7f63ececba50>\n",
            "--------------------------------------------------\n",
            "[  1 135   3   2   0   0   0   0   0   0   0   0   0   0   0   0]\n",
            "[ 1 36  3  2  0  0  0  0  0  0  0]\n",
            "[   1   23 2175   10   39   98   87  314    3    2    0    0    0    0\n",
            "    0    0]\n",
            "[ 1 16 38 72  6 55  3  2  0  0  0]\n",
            "11 16\n"
          ]
        }
      ],
      "source": [
        "def max_length(tensor):\n",
        "    return max(len(t) for t in tensor)\n",
        "\n",
        "def tokenize(lang):\n",
        "    # Tokenizer帮我们把词语式的转换为id式的，filters是黑名单\n",
        "    lang_tokenizer = tf.keras.preprocessing.text.Tokenizer(filters='')\n",
        "    lang_tokenizer.fit_on_texts(lang)\n",
        "    # 把一个一个的单词变为id\n",
        "    tensor = lang_tokenizer.texts_to_sequences(lang)\n",
        "    # 做padding，向最大的补齐\n",
        "    tensor = tf.keras.preprocessing.sequence.pad_sequences(tensor, padding='post')\n",
        "    return tensor, lang_tokenizer\n",
        "\n",
        "def load_dataset(path, num_examples=None):\n",
        "    # creating cleaned input, output pairs，目前是西班牙语翻译为英语\n",
        "    targ_lang, inp_lang = create_dataset(path, num_examples)  # 如果要翻译互换，只需交换这里\n",
        "\n",
        "    input_tensor, inp_lang_tokenizer = tokenize(inp_lang)\n",
        "    target_tensor, targ_lang_tokenizer = tokenize(targ_lang)\n",
        "\n",
        "    return input_tensor, target_tensor, inp_lang_tokenizer, targ_lang_tokenizer\n",
        "\n",
        "# Try experimenting with the size of that dataset\n",
        "num_examples = 30000\n",
        "# inp_lang  targ_lang 是tokenizer\n",
        "input_tensor, target_tensor, inp_lang, targ_lang = load_dataset(data_path, num_examples)\n",
        "print('-'*50)\n",
        "print(input_tensor.shape, target_tensor.shape, inp_lang, targ_lang)\n",
        "print('-'*50)\n",
        "print(input_tensor[0])\n",
        "print(target_tensor[0])\n",
        "print(input_tensor[29999])\n",
        "print(target_tensor[29999])\n",
        "# Calculate max_length of the target tensors，可以看下最长的样本\n",
        "max_length_targ, max_length_inp = max_length(target_tensor), max_length(input_tensor)\n",
        "print(max_length_targ, max_length_inp)"
      ]
    },
    {
      "cell_type": "code",
      "execution_count": 10,
      "metadata": {
        "colab": {
          "base_uri": "https://localhost:8080/"
        },
        "id": "yeef_qYX8znb",
        "outputId": "5b469c78-da48-45e5-d2a8-58c2dd73b0b0"
      },
      "outputs": [
        {
          "output_type": "execute_result",
          "data": {
            "text/plain": [
              "(24000, 24000, 6000, 6000)"
            ]
          },
          "metadata": {},
          "execution_count": 10
        }
      ],
      "source": [
        "# Creating training and validation sets using an 80-20 split\n",
        "input_tensor_train, input_tensor_val, target_tensor_train, target_tensor_val = train_test_split(input_tensor, target_tensor, test_size=0.2)\n",
        "\n",
        "# Show length\n",
        "len(input_tensor_train), len(target_tensor_train), len(input_tensor_val), len(target_tensor_val)"
      ]
    },
    {
      "cell_type": "code",
      "execution_count": 11,
      "metadata": {
        "colab": {
          "base_uri": "https://localhost:8080/"
        },
        "id": "S4d8t-vM8znb",
        "outputId": "66236add-fc2c-43c1-c140-74856d87ad80"
      },
      "outputs": [
        {
          "output_type": "stream",
          "name": "stdout",
          "text": [
            "Input Language; index to word mapping\n",
            "1 ----> <start>\n",
            "62 ----> estan\n",
            "3124 ----> peleando\n",
            "3 ----> .\n",
            "2 ----> <end>\n",
            "\n",
            "Target Language; index to word mapping\n",
            "1 ----> <start>\n",
            "28 ----> they\n",
            "23 ----> re\n",
            "863 ----> fighting\n",
            "3 ----> .\n",
            "2 ----> <end>\n"
          ]
        }
      ],
      "source": [
        "# 按单词进行切分的\n",
        "def convert(lang, tensor):\n",
        "    for t in tensor:\n",
        "        # 不等于0，就打印转换\n",
        "        if t != 0:\n",
        "            print (\"%d ----> %s\" % (t, lang.index_word[t]))\n",
        "            \n",
        "print(\"Input Language; index to word mapping\")\n",
        "convert(inp_lang, input_tensor_train[0])\n",
        "print()\n",
        "print(\"Target Language; index to word mapping\")\n",
        "convert(targ_lang, target_tensor_train[0])\n",
        "# 可以发现tokenizer正常工作"
      ]
    },
    {
      "cell_type": "code",
      "execution_count": 12,
      "metadata": {
        "colab": {
          "base_uri": "https://localhost:8080/"
        },
        "id": "4Q50PThd8znc",
        "outputId": "7b2ee366-d108-4643-b76c-8013fdebc4bb"
      },
      "outputs": [
        {
          "output_type": "stream",
          "name": "stdout",
          "text": [
            "9414\n",
            "4935\n",
            "<BatchDataset element_spec=(TensorSpec(shape=(64, 16), dtype=tf.int32, name=None), TensorSpec(shape=(64, 11), dtype=tf.int32, name=None))>\n"
          ]
        }
      ],
      "source": [
        "# 分batch\n",
        "BUFFER_SIZE = len(input_tensor_train)  # 就是3万\n",
        "BATCH_SIZE = 64\n",
        "steps_per_epoch = len(input_tensor_train)//BATCH_SIZE\n",
        "# 下面两个都是超参数\n",
        "embedding_dim = 256\n",
        "units = 1024\n",
        "# 输入的,加1考虑到padding的0\n",
        "vocab_inp_size = len(inp_lang.word_index)+1\n",
        "print(vocab_inp_size)\n",
        "# 输出,加1考虑到padding的0\n",
        "vocab_tar_size = len(targ_lang.word_index)+1\n",
        "print(vocab_tar_size)\n",
        "# 训练集\n",
        "dataset = tf.data.Dataset.from_tensor_slices((input_tensor_train, target_tensor_train)).shuffle(BUFFER_SIZE)\n",
        "dataset = dataset.batch(BATCH_SIZE, drop_remainder=True)  # 最后一个batch丢弃\n",
        "print(dataset)"
      ]
    },
    {
      "cell_type": "code",
      "execution_count": 13,
      "metadata": {
        "colab": {
          "base_uri": "https://localhost:8080/"
        },
        "id": "Z7Mh4wSm8znc",
        "outputId": "55ed5e54-af10-4e6d-ff5f-8be50197d34f"
      },
      "outputs": [
        {
          "output_type": "execute_result",
          "data": {
            "text/plain": [
              "(TensorShape([64, 16]), TensorShape([64, 11]))"
            ]
          },
          "metadata": {},
          "execution_count": 13
        }
      ],
      "source": [
        "# 测试，看一下迭代\n",
        "example_input_batch, example_target_batch = next(iter(dataset))\n",
        "example_input_batch.shape, example_target_batch.shape"
      ]
    },
    {
      "cell_type": "code",
      "execution_count": 14,
      "metadata": {
        "colab": {
          "base_uri": "https://localhost:8080/"
        },
        "id": "PcJMpJEJ8znc",
        "outputId": "17ce36ac-d6a1-4a7b-9971-3fca55dbb871"
      },
      "outputs": [
        {
          "output_type": "stream",
          "name": "stdout",
          "text": [
            "Encoder output shape: (batch size, sequence length, units) (64, 16, 1024)\n",
            "Encoder Hidden state shape: (batch size, units) (64, 1024)\n"
          ]
        }
      ],
      "source": [
        "# 手法和之前的类似\n",
        "class Encoder(tf.keras.Model):\n",
        "    def __init__(self, vocab_size, embedding_dim, encoding_units, batch_size):\n",
        "        super(Encoder, self).__init__()\n",
        "        self.batch_size = batch_size\n",
        "        # 编码单元\n",
        "        self.encoding_units = encoding_units\n",
        "        # 创建Embedding层\n",
        "        self.embedding = keras.layers.Embedding(vocab_size, embedding_dim)\n",
        "        # 定义GRU层，gru是lstm变种，gru把遗忘门和输入门变为一个，因为遗忘门+输入门=1\n",
        "        # return_state返回最后一个细胞的中间状态\n",
        "        self.gru = keras.layers.GRU(self.encoding_units,\n",
        "                                    return_sequences=True,\n",
        "                                    return_state=True,\n",
        "                                    recurrent_initializer='glorot_uniform')\n",
        "\n",
        "    def call(self, x, hidden):\n",
        "        x = self.embedding(x)\n",
        "        output,state= self.gru(x, initial_state = hidden)\n",
        "        return output,state\n",
        "\n",
        "    def initialize_hidden_state(self):  # 初始化全零的隐含状态\n",
        "        return tf.zeros((self.batch_size, self.encoding_units))\n",
        "    \n",
        "encoder = Encoder(vocab_inp_size, embedding_dim, units, BATCH_SIZE)\n",
        "# 获得初始化的hidden\n",
        "sample_hidden = encoder.initialize_hidden_state()\n",
        "# 获得输出和隐含状态\n",
        "sample_output, sample_hidden = encoder(example_input_batch, sample_hidden)\n",
        "# 输出的16是长度，1024是状态的size,是因为return_sequences为True，每一个输出都需要\n",
        "print('Encoder output shape: (batch size, sequence length, units) {}'.format(sample_output.shape))\n",
        "print('Encoder Hidden state shape: (batch size, units) {}'.format(sample_hidden.shape))"
      ]
    },
    {
      "cell_type": "code",
      "execution_count": 15,
      "metadata": {
        "colab": {
          "base_uri": "https://localhost:8080/"
        },
        "id": "uL3Cy17x8znd",
        "outputId": "3e85e0ad-2b69-497c-fb94-3495fe660ba5"
      },
      "outputs": [
        {
          "output_type": "execute_result",
          "data": {
            "text/plain": [
              "[<tf.Variable 'encoder/embedding/embeddings:0' shape=(9414, 256) dtype=float32, numpy=\n",
              " array([[ 0.00508187,  0.00677835, -0.00812074, ...,  0.0224557 ,\n",
              "          0.03751332, -0.0232367 ],\n",
              "        [-0.01384448,  0.02161532,  0.02728904, ..., -0.03109216,\n",
              "         -0.03132951, -0.03317243],\n",
              "        [ 0.03537544, -0.01183152,  0.0463004 , ...,  0.03646449,\n",
              "          0.02015119,  0.04910404],\n",
              "        ...,\n",
              "        [ 0.00805224, -0.03630978,  0.03525568, ...,  0.03063103,\n",
              "          0.04689275, -0.02259804],\n",
              "        [ 0.02862669,  0.04981694,  0.03529224, ..., -0.02729468,\n",
              "          0.02312548, -0.0399763 ],\n",
              "        [ 0.04396899, -0.03623163, -0.03728576, ..., -0.03768947,\n",
              "          0.0412076 , -0.02624229]], dtype=float32)>,\n",
              " <tf.Variable 'encoder/gru/gru_cell/kernel:0' shape=(256, 3072) dtype=float32, numpy=\n",
              " array([[-0.01588795,  0.02624664, -0.01251672, ...,  0.04093488,\n",
              "         -0.04146188,  0.00690464],\n",
              "        [-0.02303928,  0.03387072, -0.03228163, ..., -0.0070832 ,\n",
              "         -0.03896256, -0.03859939],\n",
              "        [-0.02693223, -0.03776484, -0.00410618, ..., -0.01749533,\n",
              "         -0.03766923, -0.01601061],\n",
              "        ...,\n",
              "        [-0.02974124, -0.01232943,  0.01682984, ...,  0.03459376,\n",
              "         -0.01595738, -0.01968549],\n",
              "        [ 0.03621357,  0.02630799, -0.01836326, ..., -0.00143525,\n",
              "         -0.00827715,  0.02570003],\n",
              "        [-0.03048539,  0.02442031, -0.03945583, ..., -0.01191305,\n",
              "         -0.02168871, -0.00857301]], dtype=float32)>,\n",
              " <tf.Variable 'encoder/gru/gru_cell/recurrent_kernel:0' shape=(1024, 3072) dtype=float32, numpy=\n",
              " array([[-0.02650999, -0.01754935,  0.00352689, ...,  0.03597448,\n",
              "         -0.01697975,  0.0208484 ],\n",
              "        [ 0.01091985, -0.02156423, -0.00645085, ..., -0.03302739,\n",
              "         -0.0099162 , -0.01918872],\n",
              "        [-0.02323581, -0.01618671,  0.01365787, ..., -0.00154017,\n",
              "          0.01015556, -0.0365909 ],\n",
              "        ...,\n",
              "        [-0.01193818, -0.00074509, -0.02440635, ..., -0.02173104,\n",
              "         -0.00835711,  0.00551866],\n",
              "        [ 0.01700506, -0.03761088, -0.03603493, ...,  0.005722  ,\n",
              "         -0.01874246,  0.02017398],\n",
              "        [ 0.02360175, -0.00063751, -0.00559203, ..., -0.03367723,\n",
              "         -0.03426366, -0.00654384]], dtype=float32)>,\n",
              " <tf.Variable 'encoder/gru/gru_cell/bias:0' shape=(2, 3072) dtype=float32, numpy=\n",
              " array([[0., 0., 0., ..., 0., 0., 0.],\n",
              "        [0., 0., 0., ..., 0., 0., 0.]], dtype=float32)>]"
            ]
          },
          "metadata": {},
          "execution_count": 15
        }
      ],
      "source": [
        "# 理解模型中去做的运算\n",
        "encoder.variables"
      ]
    },
    {
      "cell_type": "markdown",
      "metadata": {
        "id": "UHUA5EwY8znd"
      },
      "source": [
        "# 核心部分"
      ]
    },
    {
      "cell_type": "code",
      "execution_count": 16,
      "metadata": {
        "colab": {
          "base_uri": "https://localhost:8080/"
        },
        "id": "WRoyT-6I8zne",
        "outputId": "2b2a55c9-da42-48c0-e82b-52e9a0b2b88a"
      },
      "outputs": [
        {
          "output_type": "stream",
          "name": "stdout",
          "text": [
            "(64, 16, 1024)\n",
            "Attention result shape: (batch size, units) (64, 1024)\n",
            "Attention weights shape: (batch_size, sequence_length, 1) (64, 16, 1)\n"
          ]
        }
      ],
      "source": [
        "# 实现Attention机制\n",
        "class BahdanauAttention(tf.keras.Model):\n",
        "    def __init__(self, units):\n",
        "        super(BahdanauAttention, self).__init__()\n",
        "        # 做全连接\n",
        "        self.W1 = tf.keras.layers.Dense(units)\n",
        "        self.W2 = tf.keras.layers.Dense(units)\n",
        "        self.V = tf.keras.layers.Dense(1)\n",
        "    \n",
        "    # query传的是decoder_hidden,values是EO\n",
        "    def call(self, query, values):\n",
        "        # deocoder_hidden.shape: (batch_size,units)\n",
        "        # encoder outputs.shape: (batch size, length,units)\n",
        "        # 做维度扩展，扩展前后对比是下面两行\n",
        "        # hidden shape == (batch_size, hidden size)\n",
        "        # hidden_with_time_axis shape == (batch_size, 1, hidden size)\n",
        "        # we are doing this to perform addition to calculate the score\n",
        "        hidden_with_time_axis = tf.expand_dims(query, 1)\n",
        "        \n",
        "        #接下来要实现Attention,Bahdanau方式的\n",
        "        # before V:(batch_size, length, units )\n",
        "        # after V: (batch_size, length, 1)\n",
        "        # score shape == (batch_size, max_length, 1)  （64,16,1）\n",
        "        # we get 1 at the last axis because we are applying score to self.V\n",
        "        # the shape of the tensor before applying self.V is (batch_size, max_length, units)\n",
        "        score = self.V(tf.nn.tanh(self.W1(values) + self.W2(hidden_with_time_axis)))\n",
        "\n",
        "        # attention_weights shape == (batch_size, max_length, 1)\n",
        "        attention_weights = tf.nn.softmax(score, axis=1)\n",
        "\n",
        "        # 先算加权，values就是encoder_outputs，对应位置相乘，广播出去\n",
        "        # context_vector.shape: ( batch_size, length units )\n",
        "        context_vector = attention_weights * values\n",
        "        print(context_vector.shape)\n",
        "        # 在length的维度去求和\n",
        "        # context_vector shape after sum == (batch_size, hidden_size)\n",
        "        context_vector = tf.reduce_sum(context_vector, axis=1)\n",
        "\n",
        "        return context_vector, attention_weights\n",
        "    \n",
        "attention_layer = BahdanauAttention(10)\n",
        "attention_result, attention_weights = attention_layer(sample_hidden, sample_output)\n",
        "\n",
        "print(\"Attention result shape: (batch size, units) {}\".format(attention_result.shape))\n",
        "print(\"Attention weights shape: (batch_size, sequence_length, 1) {}\".format(attention_weights.shape))"
      ]
    },
    {
      "cell_type": "code",
      "execution_count": 17,
      "metadata": {
        "colab": {
          "base_uri": "https://localhost:8080/"
        },
        "id": "47GqHQpo8znf",
        "outputId": "769fc7d5-f857-4713-e70c-a5407199a8c7"
      },
      "outputs": [
        {
          "output_type": "execute_result",
          "data": {
            "text/plain": [
              "[<tf.Variable 'bahdanau_attention/dense/kernel:0' shape=(1024, 10) dtype=float32, numpy=\n",
              " array([[ 0.06464614, -0.00774927,  0.00676966, ...,  0.03257685,\n",
              "         -0.07436984,  0.0649657 ],\n",
              "        [-0.06563891, -0.06577568,  0.05749071, ...,  0.0029221 ,\n",
              "          0.03592245,  0.00611632],\n",
              "        [ 0.00048519, -0.05783436, -0.03657306, ..., -0.07314355,\n",
              "         -0.00906719,  0.05881111],\n",
              "        ...,\n",
              "        [-0.00706928, -0.03874933,  0.02018823, ..., -0.02200363,\n",
              "          0.07418783, -0.06143684],\n",
              "        [ 0.04965284,  0.03402801,  0.022896  , ..., -0.05754478,\n",
              "          0.0737655 , -0.00838722],\n",
              "        [-0.05296246, -0.05527399, -0.02907558, ...,  0.035278  ,\n",
              "          0.03000916, -0.06230796]], dtype=float32)>,\n",
              " <tf.Variable 'bahdanau_attention/dense/bias:0' shape=(10,) dtype=float32, numpy=array([0., 0., 0., 0., 0., 0., 0., 0., 0., 0.], dtype=float32)>,\n",
              " <tf.Variable 'bahdanau_attention/dense_1/kernel:0' shape=(1024, 10) dtype=float32, numpy=\n",
              " array([[-0.0492903 ,  0.02040844, -0.05555546, ...,  0.00050201,\n",
              "         -0.03122623, -0.07477368],\n",
              "        [-0.06794289, -0.06234895,  0.02140916, ..., -0.03221077,\n",
              "         -0.07282186, -0.02419986],\n",
              "        [ 0.04266237, -0.01882095,  0.0750861 , ...,  0.07420757,\n",
              "         -0.06795872, -0.04861369],\n",
              "        ...,\n",
              "        [-0.04012266, -0.02241481,  0.05310872, ..., -0.01023023,\n",
              "          0.05847511,  0.01346589],\n",
              "        [ 0.06112333,  0.04843859,  0.01131108, ...,  0.03043982,\n",
              "          0.04394062,  0.06282021],\n",
              "        [ 0.01768096,  0.02266943, -0.06493426, ..., -0.02288102,\n",
              "         -0.02983167,  0.02018038]], dtype=float32)>,\n",
              " <tf.Variable 'bahdanau_attention/dense_1/bias:0' shape=(10,) dtype=float32, numpy=array([0., 0., 0., 0., 0., 0., 0., 0., 0., 0.], dtype=float32)>,\n",
              " <tf.Variable 'bahdanau_attention/dense_2/kernel:0' shape=(10, 1) dtype=float32, numpy=\n",
              " array([[ 0.5716627 ],\n",
              "        [ 0.16512501],\n",
              "        [ 0.03870636],\n",
              "        [-0.326515  ],\n",
              "        [ 0.6982669 ],\n",
              "        [ 0.616569  ],\n",
              "        [ 0.04383463],\n",
              "        [-0.5625662 ],\n",
              "        [ 0.65367883],\n",
              "        [ 0.22410023]], dtype=float32)>,\n",
              " <tf.Variable 'bahdanau_attention/dense_2/bias:0' shape=(1,) dtype=float32, numpy=array([0.], dtype=float32)>]"
            ]
          },
          "metadata": {},
          "execution_count": 17
        }
      ],
      "source": [
        "attention_layer.variables"
      ]
    },
    {
      "cell_type": "code",
      "execution_count": 18,
      "metadata": {
        "scrolled": true,
        "colab": {
          "base_uri": "https://localhost:8080/"
        },
        "id": "ljoD4exi8znf",
        "outputId": "8ca9d2b6-99fa-414e-bd4e-f32858f921d0"
      },
      "outputs": [
        {
          "output_type": "stream",
          "name": "stdout",
          "text": [
            "(64, 16, 1024)\n",
            "(64, 1024) (64, 1, 256)\n",
            "(64, 1, 1280)\n",
            "(64, 1, 1024)\n",
            "output变换后\n",
            "(64, 1024)\n",
            "Decoder output shape: (batch_size, vocab size) (64, 4935)\n",
            "decoder_hidden.shape:  (64, 1024)\n",
            "decoder_attention_weights.shape: (64, 16, 1)\n"
          ]
        }
      ],
      "source": [
        "# 实现decoder\n",
        "class Decoder(tf.keras.Model):\n",
        "    # init传参和encoder很像\n",
        "    def __init__(self, vocab_size, embedding_dim, decoding_units, batch_size):\n",
        "        # 这里必须调用父类\n",
        "        super(Decoder, self).__init__()\n",
        "        self.batch_size = batch_size\n",
        "        self.decoding_units = decoding_units\n",
        "        # Embedding 层\n",
        "        self.embedding = keras.layers.Embedding(vocab_size, embedding_dim)\n",
        "        # GRU的decoder\n",
        "        self.gru = keras.layers.GRU(self.decoding_units,\n",
        "                                    return_sequences=True,\n",
        "                                    return_state=True,\n",
        "                                    recurrent_initializer='glorot_uniform')\n",
        "        self.fc = keras.layers.Dense(vocab_size)\n",
        "\n",
        "        # used for attention，每一步都会被调用\n",
        "        self.attention = BahdanauAttention(self.decoding_units)\n",
        "\n",
        "    # 照着原来的原理图理解\n",
        "    def call(self, x, hidden, encoding_output):\n",
        "        # context vector. shape: ( batch size, units）\n",
        "        # enc_output shape == (batch_size, max_length, hidden_size)\n",
        "        context_vector, attention_weights = self.attention(hidden, encoding_output)\n",
        "\n",
        "        # before embedding: x. shape: (batch_size, 1 )\n",
        "        # after embedding : x. shape: (batch size, 1, embedding units)\n",
        "        # x shape after passing through embedding == (batch_size, 1, embedding_dim)\n",
        "        x = self.embedding(x)\n",
        "        print(context_vector.shape,x.shape)\n",
        "        # 把x和context_vector拼起来，context_vector为什么要扩展维度？\n",
        "        # x shape after concatenation == (batch_size, 1, embedding_dim + hidden_size)\n",
        "        x = tf.concat([tf.expand_dims(context_vector, 1), x], axis=-1)\n",
        "        print(x.shape)\n",
        "        # passing the concatenated vector to the GRU\n",
        "        # output. shape:[batch_size,1,decoding_units ]\n",
        "        #state. shape:[batch_size, decoding_units ]\n",
        "        output, state = self.gru(x)\n",
        "        print(output.shape)\n",
        "        # output shape == (batch_size * 1, hidden_size)\n",
        "        output = tf.reshape(output, (-1, output.shape[2]))\n",
        "        print('output变换后')\n",
        "        print(output.shape)\n",
        "        # output shape == (batch_size, vocab)\n",
        "        x = self.fc(output)\n",
        "\n",
        "        return x, state, attention_weights\n",
        "\n",
        "decoder = Decoder(vocab_tar_size, embedding_dim, units, BATCH_SIZE)\n",
        "sample_decoder_output,decoder_hidden,decoder_aw = decoder(tf.random.uniform((64, 1)),\n",
        "                                      sample_hidden, sample_output)\n",
        "print ('Decoder output shape: (batch_size, vocab size) {}'.format(sample_decoder_output.shape))\n",
        "print(\"decoder_hidden.shape: \", decoder_hidden.shape )\n",
        "print(\"decoder_attention_weights.shape:\", decoder_aw.shape )\n"
      ]
    },
    {
      "cell_type": "code",
      "execution_count": 19,
      "metadata": {
        "id": "dfzaysFq8znf"
      },
      "outputs": [],
      "source": [
        "# 优化器选用adam\n",
        "optimizer = keras.optimizers.Adam()\n",
        "# 分类问题我们往往用SparseCategoricalCrossentropy，因为我们的fc是纯的输出，没有加softmax，\n",
        "# 因此这里的from_logits为True，否则改为false，reduction是损失函数如何做聚合\n",
        "loss_object = keras.losses.SparseCategoricalCrossentropy(from_logits=True, reduction='none')\n",
        "\n",
        "# 为了把padding部分的损失去除，这样计算损失更加准确\n",
        "def loss_function(real, pred):\n",
        "    # 是零的时候返回结果是True，因此要取反操作\n",
        "    # tf.math.equal(real, 0)是padding的部分都是1，不是padding的部分都是零，因此我们要取反\n",
        "    mask = tf.math.logical_not(tf.math.equal(real, 0))\n",
        "    \n",
        "    loss_ = loss_object(real, pred)  # 这里是得到的损失\n",
        "    # 将张量转换为新类型,变为float类型\n",
        "    mask = tf.cast(mask, dtype=loss_.dtype)\n",
        "    # padding部分的mask是零\n",
        "    loss_ *= mask\n",
        "    # 计算累计的损失平均\n",
        "    return tf.reduce_mean(loss_)\n",
        "\n",
        "checkpoint_dir = './8-1_checkpoints'\n",
        "if not os.path.exists(checkpoint_dir):\n",
        "    os.mkdir(checkpoint_dir)\n",
        "checkpoint_prefix = os.path.join(checkpoint_dir, \"ckpt\")\n",
        "checkpoint = tf.train.Checkpoint(optimizer=optimizer,\n",
        "                                 encoder=encoder,\n",
        "                                 decoder=decoder)"
      ]
    },
    {
      "cell_type": "code",
      "execution_count": 20,
      "metadata": {
        "colab": {
          "base_uri": "https://localhost:8080/"
        },
        "id": "FgkVT0Sv8zng",
        "outputId": "8b841345-9be6-4f7b-f394-f54d74cda349"
      },
      "outputs": [
        {
          "output_type": "execute_result",
          "data": {
            "text/plain": [
              "<tf.Tensor: shape=(64, 1), dtype=int32, numpy=\n",
              "array([[1],\n",
              "       [1],\n",
              "       [1],\n",
              "       [1],\n",
              "       [1],\n",
              "       [1],\n",
              "       [1],\n",
              "       [1],\n",
              "       [1],\n",
              "       [1],\n",
              "       [1],\n",
              "       [1],\n",
              "       [1],\n",
              "       [1],\n",
              "       [1],\n",
              "       [1],\n",
              "       [1],\n",
              "       [1],\n",
              "       [1],\n",
              "       [1],\n",
              "       [1],\n",
              "       [1],\n",
              "       [1],\n",
              "       [1],\n",
              "       [1],\n",
              "       [1],\n",
              "       [1],\n",
              "       [1],\n",
              "       [1],\n",
              "       [1],\n",
              "       [1],\n",
              "       [1],\n",
              "       [1],\n",
              "       [1],\n",
              "       [1],\n",
              "       [1],\n",
              "       [1],\n",
              "       [1],\n",
              "       [1],\n",
              "       [1],\n",
              "       [1],\n",
              "       [1],\n",
              "       [1],\n",
              "       [1],\n",
              "       [1],\n",
              "       [1],\n",
              "       [1],\n",
              "       [1],\n",
              "       [1],\n",
              "       [1],\n",
              "       [1],\n",
              "       [1],\n",
              "       [1],\n",
              "       [1],\n",
              "       [1],\n",
              "       [1],\n",
              "       [1],\n",
              "       [1],\n",
              "       [1],\n",
              "       [1],\n",
              "       [1],\n",
              "       [1],\n",
              "       [1],\n",
              "       [1]], dtype=int32)>"
            ]
          },
          "metadata": {},
          "execution_count": 20
        }
      ],
      "source": [
        "tf.expand_dims([targ_lang.word_index['<start>']] * BATCH_SIZE, 1)"
      ]
    },
    {
      "cell_type": "code",
      "execution_count": 21,
      "metadata": {
        "id": "X3AdyeWn8zng"
      },
      "outputs": [],
      "source": [
        "@tf.function\n",
        "def train_step(inp, targ, encoding_hidden):\n",
        "    loss = 0\n",
        "\n",
        "    with tf.GradientTape() as tape:\n",
        "        # 把输入给encoder，得到encoding_output, encoding_hidden\n",
        "        encoding_output, encoding_hidden = encoder(inp, encoding_hidden)\n",
        "\n",
        "        decoding_hidden = encoding_hidden  # 最初是把encoding_hidden给decoding\n",
        "        # 第一次给进去的decoding_input全部是1，是64个1\n",
        "        decoding_input = tf.expand_dims([targ_lang.word_index['<start>']] * BATCH_SIZE, 1)\n",
        "        \n",
        "        # eg: <start> I am here <end>\n",
        "        # 1.<start>->I\n",
        "        # 2.I->am\n",
        "        # 3.am->here\n",
        "        # 4. here ->< end>\n",
        "        # 对于here，我们相当于要把I am  的信息都要给过去\n",
        "        # Teacher forcing - feeding the target as the next input\n",
        "        for t in range(1, targ.shape[1]):\n",
        "            # passing enc_output to the decoder\n",
        "            # 根据我们前面的原理解析，我们这里需要给3项信息\n",
        "            predictions, decoding_hidden, _ = decoder(decoding_input, decoding_hidden, encoding_output)\n",
        "\n",
        "            loss += loss_function(targ[:, t], predictions)\n",
        "\n",
        "            # using teacher forcing,这里是取第t列，再扩维\n",
        "            decoding_input = tf.expand_dims(targ[:, t], 1)\n",
        "            \n",
        "    # 这里是每个batch上平均的损失函数\n",
        "    batch_loss = (loss / int(targ.shape[1]))\n",
        "    print(type(encoder.trainable_variables))\n",
        "    print(type(decoder.trainable_variables))\n",
        "    variables = encoder.trainable_variables + decoder.trainable_variables\n",
        "    # 求梯度\n",
        "    gradients = tape.gradient(loss, variables)\n",
        "    # 有了梯度以后，可以用optimizer去做apply\n",
        "    optimizer.apply_gradients(zip(gradients, variables))\n",
        "    return batch_loss"
      ]
    },
    {
      "cell_type": "code",
      "execution_count": 22,
      "metadata": {
        "colab": {
          "base_uri": "https://localhost:8080/"
        },
        "id": "Zp_1n7Hu8zng",
        "outputId": "4afdc697-dde1-46ed-b39c-ad9d5711da9e"
      },
      "outputs": [
        {
          "output_type": "execute_result",
          "data": {
            "text/plain": [
              "array([1, 3, 5])"
            ]
          },
          "metadata": {},
          "execution_count": 22
        }
      ],
      "source": [
        "m=np.arange(6).reshape(3,2)\n",
        "t=1\n",
        "m[:,1]"
      ]
    },
    {
      "cell_type": "code",
      "execution_count": 23,
      "metadata": {
        "colab": {
          "base_uri": "https://localhost:8080/"
        },
        "id": "8k3ZkUUY8zng",
        "outputId": "01f21744-afc0-4a8b-ef8c-033e8e24c6aa"
      },
      "outputs": [
        {
          "output_type": "execute_result",
          "data": {
            "text/plain": [
              "375"
            ]
          },
          "metadata": {},
          "execution_count": 23
        }
      ],
      "source": [
        "steps_per_epoch"
      ]
    },
    {
      "cell_type": "code",
      "execution_count": 24,
      "metadata": {
        "colab": {
          "base_uri": "https://localhost:8080/"
        },
        "id": "JoGX748F8zng",
        "outputId": "51745ca4-fa00-4902-eaf7-e29578488211"
      },
      "outputs": [
        {
          "output_type": "stream",
          "name": "stdout",
          "text": [
            "(64, 16, 1024)\n",
            "(64, 1024) (64, 1, 256)\n",
            "(64, 1, 1280)\n",
            "(64, 1, 1024)\n",
            "output变换后\n",
            "(64, 1024)\n",
            "(64, 16, 1024)\n",
            "(64, 1024) (64, 1, 256)\n",
            "(64, 1, 1280)\n",
            "(64, 1, 1024)\n",
            "output变换后\n",
            "(64, 1024)\n",
            "(64, 16, 1024)\n",
            "(64, 1024) (64, 1, 256)\n",
            "(64, 1, 1280)\n",
            "(64, 1, 1024)\n",
            "output变换后\n",
            "(64, 1024)\n",
            "(64, 16, 1024)\n",
            "(64, 1024) (64, 1, 256)\n",
            "(64, 1, 1280)\n",
            "(64, 1, 1024)\n",
            "output变换后\n",
            "(64, 1024)\n",
            "(64, 16, 1024)\n",
            "(64, 1024) (64, 1, 256)\n",
            "(64, 1, 1280)\n",
            "(64, 1, 1024)\n",
            "output变换后\n",
            "(64, 1024)\n",
            "(64, 16, 1024)\n",
            "(64, 1024) (64, 1, 256)\n",
            "(64, 1, 1280)\n",
            "(64, 1, 1024)\n",
            "output变换后\n",
            "(64, 1024)\n",
            "(64, 16, 1024)\n",
            "(64, 1024) (64, 1, 256)\n",
            "(64, 1, 1280)\n",
            "(64, 1, 1024)\n",
            "output变换后\n",
            "(64, 1024)\n",
            "(64, 16, 1024)\n",
            "(64, 1024) (64, 1, 256)\n",
            "(64, 1, 1280)\n",
            "(64, 1, 1024)\n",
            "output变换后\n",
            "(64, 1024)\n",
            "(64, 16, 1024)\n",
            "(64, 1024) (64, 1, 256)\n",
            "(64, 1, 1280)\n",
            "(64, 1, 1024)\n",
            "output变换后\n",
            "(64, 1024)\n",
            "(64, 16, 1024)\n",
            "(64, 1024) (64, 1, 256)\n",
            "(64, 1, 1280)\n",
            "(64, 1, 1024)\n",
            "output变换后\n",
            "(64, 1024)\n",
            "<class 'list'>\n",
            "<class 'list'>\n",
            "(64, 16, 1024)\n",
            "(64, 1024) (64, 1, 256)\n",
            "(64, 1, 1280)\n",
            "(64, 1, 1024)\n",
            "output变换后\n",
            "(64, 1024)\n",
            "(64, 16, 1024)\n",
            "(64, 1024) (64, 1, 256)\n",
            "(64, 1, 1280)\n",
            "(64, 1, 1024)\n",
            "output变换后\n",
            "(64, 1024)\n",
            "(64, 16, 1024)\n",
            "(64, 1024) (64, 1, 256)\n",
            "(64, 1, 1280)\n",
            "(64, 1, 1024)\n",
            "output变换后\n",
            "(64, 1024)\n",
            "(64, 16, 1024)\n",
            "(64, 1024) (64, 1, 256)\n",
            "(64, 1, 1280)\n",
            "(64, 1, 1024)\n",
            "output变换后\n",
            "(64, 1024)\n",
            "(64, 16, 1024)\n",
            "(64, 1024) (64, 1, 256)\n",
            "(64, 1, 1280)\n",
            "(64, 1, 1024)\n",
            "output变换后\n",
            "(64, 1024)\n",
            "(64, 16, 1024)\n",
            "(64, 1024) (64, 1, 256)\n",
            "(64, 1, 1280)\n",
            "(64, 1, 1024)\n",
            "output变换后\n",
            "(64, 1024)\n",
            "(64, 16, 1024)\n",
            "(64, 1024) (64, 1, 256)\n",
            "(64, 1, 1280)\n",
            "(64, 1, 1024)\n",
            "output变换后\n",
            "(64, 1024)\n",
            "(64, 16, 1024)\n",
            "(64, 1024) (64, 1, 256)\n",
            "(64, 1, 1280)\n",
            "(64, 1, 1024)\n",
            "output变换后\n",
            "(64, 1024)\n",
            "(64, 16, 1024)\n",
            "(64, 1024) (64, 1, 256)\n",
            "(64, 1, 1280)\n",
            "(64, 1, 1024)\n",
            "output变换后\n",
            "(64, 1024)\n",
            "(64, 16, 1024)\n",
            "(64, 1024) (64, 1, 256)\n",
            "(64, 1, 1280)\n",
            "(64, 1, 1024)\n",
            "output变换后\n",
            "(64, 1024)\n",
            "<class 'list'>\n",
            "<class 'list'>\n",
            "Epoch 1 Batch 0 Loss 4.5418\n",
            "Epoch 1 Batch 100 Loss 2.0873\n",
            "Epoch 1 Batch 200 Loss 1.8962\n",
            "Epoch 1 Batch 300 Loss 1.6892\n",
            "Epoch 1 Loss 2.0147\n",
            "Time taken for 1 epoch 40.32993173599243 sec\n",
            "\n",
            "Epoch 2 Batch 0 Loss 1.5840\n",
            "Epoch 2 Batch 100 Loss 1.4102\n",
            "Epoch 2 Batch 200 Loss 1.2619\n",
            "Epoch 2 Batch 300 Loss 1.2685\n",
            "Epoch 2 Loss 1.3648\n",
            "Time taken for 1 epoch 26.905471563339233 sec\n",
            "\n",
            "Epoch 3 Batch 0 Loss 1.0800\n",
            "Epoch 3 Batch 100 Loss 1.1088\n",
            "Epoch 3 Batch 200 Loss 0.9097\n",
            "Epoch 3 Batch 300 Loss 0.9125\n",
            "Epoch 3 Loss 0.9599\n",
            "Time taken for 1 epoch 26.56162691116333 sec\n",
            "\n",
            "Epoch 4 Batch 0 Loss 0.6752\n",
            "Epoch 4 Batch 100 Loss 0.7210\n",
            "Epoch 4 Batch 200 Loss 0.5932\n",
            "Epoch 4 Batch 300 Loss 0.6531\n",
            "Epoch 4 Loss 0.6414\n",
            "Time taken for 1 epoch 27.40373969078064 sec\n",
            "\n",
            "Epoch 5 Batch 0 Loss 0.4061\n",
            "Epoch 5 Batch 100 Loss 0.4278\n",
            "Epoch 5 Batch 200 Loss 0.4252\n",
            "Epoch 5 Batch 300 Loss 0.4955\n",
            "Epoch 5 Loss 0.4296\n",
            "Time taken for 1 epoch 27.119643926620483 sec\n",
            "\n",
            "Epoch 6 Batch 0 Loss 0.3209\n",
            "Epoch 6 Batch 100 Loss 0.2425\n",
            "Epoch 6 Batch 200 Loss 0.2823\n",
            "Epoch 6 Batch 300 Loss 0.3094\n",
            "Epoch 6 Loss 0.2949\n",
            "Time taken for 1 epoch 27.879979610443115 sec\n",
            "\n",
            "Epoch 7 Batch 0 Loss 0.1702\n",
            "Epoch 7 Batch 100 Loss 0.2535\n",
            "Epoch 7 Batch 200 Loss 0.2478\n",
            "Epoch 7 Batch 300 Loss 0.2146\n",
            "Epoch 7 Loss 0.2081\n",
            "Time taken for 1 epoch 27.44938087463379 sec\n",
            "\n",
            "Epoch 8 Batch 0 Loss 0.1705\n",
            "Epoch 8 Batch 100 Loss 0.1542\n",
            "Epoch 8 Batch 200 Loss 0.1670\n",
            "Epoch 8 Batch 300 Loss 0.1776\n",
            "Epoch 8 Loss 0.1511\n",
            "Time taken for 1 epoch 28.190237760543823 sec\n",
            "\n",
            "Epoch 9 Batch 0 Loss 0.1352\n",
            "Epoch 9 Batch 100 Loss 0.1538\n",
            "Epoch 9 Batch 200 Loss 0.0824\n",
            "Epoch 9 Batch 300 Loss 0.1545\n",
            "Epoch 9 Loss 0.1182\n",
            "Time taken for 1 epoch 27.815499782562256 sec\n",
            "\n",
            "Epoch 10 Batch 0 Loss 0.0716\n",
            "Epoch 10 Batch 100 Loss 0.1127\n",
            "Epoch 10 Batch 200 Loss 0.1140\n",
            "Epoch 10 Batch 300 Loss 0.1169\n",
            "Epoch 10 Loss 0.0963\n",
            "Time taken for 1 epoch 28.456782817840576 sec\n",
            "\n"
          ]
        }
      ],
      "source": [
        "EPOCHS = 10\n",
        "# 这里运行时间比较久\n",
        "for epoch in range(EPOCHS):\n",
        "    start = time.time()\n",
        "\n",
        "    encoding_hidden = encoder.initialize_hidden_state()  # 第一次，全零的隐含状态\n",
        "    total_loss = 0\n",
        "    # 每次去取dataset.take(steps_per_epoch)这么多数据\n",
        "    for (batch, (inp, targ)) in enumerate(dataset.take(steps_per_epoch)):\n",
        "        batch_loss = train_step(inp, targ, encoding_hidden)\n",
        "        total_loss += batch_loss\n",
        "        # 这里增加打印\n",
        "        if batch % 100 == 0:\n",
        "            print('Epoch {} Batch {} Loss {:.4f}'.format(epoch + 1, batch, batch_loss.numpy()))\n",
        "    # saving (checkpoint) the model every 2 epochs，保存模型\n",
        "    if (epoch + 1) % 2 == 0:\n",
        "        checkpoint.save(file_prefix = checkpoint_prefix)\n",
        "\n",
        "    print('Epoch {} Loss {:.4f}'.format(epoch + 1, total_loss / steps_per_epoch))\n",
        "    print('Time taken for 1 epoch {} sec\\n'.format(time.time() - start))"
      ]
    },
    {
      "cell_type": "markdown",
      "metadata": {
        "id": "eayUCmKm8znh"
      },
      "source": [
        "# 预测过程（翻译）"
      ]
    },
    {
      "cell_type": "code",
      "execution_count": 25,
      "metadata": {
        "colab": {
          "base_uri": "https://localhost:8080/"
        },
        "id": "1HqTSjXw8znh",
        "outputId": "4d550bf1-3d47-4cd7-9e74-467ac0a536b7"
      },
      "outputs": [
        {
          "output_type": "execute_result",
          "data": {
            "text/plain": [
              "<tensorflow.python.training.tracking.util.CheckpointLoadStatus at 0x7f63eb79e310>"
            ]
          },
          "metadata": {},
          "execution_count": 25
        }
      ],
      "source": [
        "# 接收字符串，并进行翻译\n",
        "def evaluate(sentence):\n",
        "    attention_plot = np.zeros((max_length_targ, max_length_inp))\n",
        "    # 对输入的语言做和训练时同样的预处理（eg: 标点符号前后加空格）后，下一步再进行word转id\n",
        "    sentence = preprocess_sentence(sentence)\n",
        "    # text到id的转换\n",
        "    inputs = [inp_lang.word_index[i] for i in sentence.split(' ')]\n",
        "    # 加padding\n",
        "    inputs = keras.preprocessing.sequence.pad_sequences([inputs], maxlen=max_length_inp, padding='post')\n",
        "    inputs = tf.convert_to_tensor(inputs)  # 变为张量\n",
        "    # 结果先初始化一个空串\n",
        "    result = ''\n",
        "\n",
        "    hidden = [tf.zeros((1, units))]\n",
        "    encoding_out, encoding_hidden = encoder(inputs, hidden)\n",
        "    # 按模型把encoding_hidden给decoding_hidden\n",
        "    decoding_hidden = encoding_hidden\n",
        "    # 第一次的decoding_input是全为1的（1,1)的矩阵\n",
        "    decoding_input = tf.expand_dims([targ_lang.word_index['<start>']], 0)\n",
        "    # eg:<start>->A\n",
        "    # A->B->C->D\n",
        "    # decoding_input. shape:(1， 1)\n",
        "    for t in range(max_length_targ):\n",
        "        predictions, decoding_hidden, attention_weights = decoder(\n",
        "            decoding_input, decoding_hidden, encoding_out)\n",
        "        \n",
        "        # attention weights. shape: (batch size, input length, 1) (1， 16， 1 )，需要变为长度为16的向量\n",
        "        # storing the attention weights to plot later on\n",
        "        attention_weights = tf.reshape(attention_weights, (-1, ))\n",
        "        attention_plot[t] = attention_weights.numpy()  # 为了画图\n",
        "        # predictions.shape: (batch_ size, vocab_ size) (1, 4935)\n",
        "        # 获取概率最大的值作为下一步的输入\n",
        "        predicted_id = tf.argmax(predictions[0]).numpy()\n",
        "        # 通过id知道单词\n",
        "        result += targ_lang.index_word[predicted_id] + ' '\n",
        "        \n",
        "        # 终止循环\n",
        "        if targ_lang.index_word[predicted_id] == '<end>':\n",
        "            return result, sentence, attention_plot\n",
        "\n",
        "        # the predicted ID is fed back into the model\n",
        "        decoding_input = tf.expand_dims([predicted_id], 0)\n",
        "    # 到此decoding_input，decoding_hidden我们都做了更新\n",
        "    \n",
        "    return result, sentence, attention_plot\n",
        "\n",
        "# function for plotting the attention weights，把注意力关系完成可视化\n",
        "def plot_attention(attention, sentence, predicted_sentence):\n",
        "    fig = plt.figure(figsize=(10,10))\n",
        "    ax = fig.add_subplot(1, 1, 1)\n",
        "    ax.matshow(attention, cmap='viridis')\n",
        "\n",
        "    fontdict = {'fontsize': 14}\n",
        "    # 把标注写上，我们需要把第零个位置空出来，看图即可看出\n",
        "    ax.set_xticklabels([''] + sentence, fontdict=fontdict, rotation=90)\n",
        "    ax.set_yticklabels([''] + predicted_sentence, fontdict=fontdict)\n",
        "\n",
        "    plt.show()\n",
        "\n",
        "# 通过这个函数，把上面两个函数串起来\n",
        "def translate(sentence):\n",
        "    result, sentence, attention_plot = evaluate(sentence)\n",
        "\n",
        "    print('Input: %s' % (sentence))\n",
        "    print('Predicted translation: {}'.format(result))\n",
        "    \n",
        "    # 因为输出不一定有输入的长度长，也就是result长度小于输入的长度\n",
        "    attention_plot = attention_plot[:len(result.split(' ')), :len(sentence.split(' '))]\n",
        "    plot_attention(attention_plot, sentence.split(' '), result.split(' '))\n",
        "    \n",
        "# 加载模型参数\n",
        "checkpoint.restore(tf.train.latest_checkpoint(checkpoint_dir))"
      ]
    },
    {
      "cell_type": "code",
      "execution_count": 26,
      "metadata": {
        "colab": {
          "base_uri": "https://localhost:8080/",
          "height": 1000
        },
        "id": "XfPjuGV_8znh",
        "outputId": "be56ab27-f7bb-47c0-f55e-f9ff7bfe1c3b"
      },
      "outputs": [
        {
          "output_type": "stream",
          "name": "stdout",
          "text": [
            "(1, 16, 1024)\n",
            "(1, 1024) (1, 1, 256)\n",
            "(1, 1, 1280)\n",
            "(1, 1, 1024)\n",
            "output变换后\n",
            "(1, 1024)\n",
            "(1, 16, 1024)\n",
            "(1, 1024) (1, 1, 256)\n",
            "(1, 1, 1280)\n",
            "(1, 1, 1024)\n",
            "output变换后\n",
            "(1, 1024)\n",
            "(1, 16, 1024)\n",
            "(1, 1024) (1, 1, 256)\n",
            "(1, 1, 1280)\n",
            "(1, 1, 1024)\n",
            "output变换后\n",
            "(1, 1024)\n",
            "(1, 16, 1024)\n",
            "(1, 1024) (1, 1, 256)\n",
            "(1, 1, 1280)\n",
            "(1, 1, 1024)\n",
            "output变换后\n",
            "(1, 1024)\n",
            "(1, 16, 1024)\n",
            "(1, 1024) (1, 1, 256)\n",
            "(1, 1, 1280)\n",
            "(1, 1, 1024)\n",
            "output变换后\n",
            "(1, 1024)\n",
            "(1, 16, 1024)\n",
            "(1, 1024) (1, 1, 256)\n",
            "(1, 1, 1280)\n",
            "(1, 1, 1024)\n",
            "output变换后\n",
            "(1, 1024)\n",
            "(1, 16, 1024)\n",
            "(1, 1024) (1, 1, 256)\n",
            "(1, 1, 1280)\n",
            "(1, 1, 1024)\n",
            "output变换后\n",
            "(1, 1024)\n",
            "Input: <start> hace mucho frio aqui . <end>\n",
            "Predicted translation: it s very cold here . <end> \n"
          ]
        },
        {
          "output_type": "display_data",
          "data": {
            "text/plain": [
              "<Figure size 720x720 with 1 Axes>"
            ],
            "image/png": "[encoded data removed]"
          },
          "metadata": {
            "needs_background": "light"
          }
        }
      ],
      "source": [
        "# it is terribly cold here\n",
        "# 热力图最后多一个单元，是因为预测时在<end>后添加了空格\n",
        "translate(u'hace mucho frio aqui.')"
      ]
    },
    {
      "cell_type": "code",
      "execution_count": 27,
      "metadata": {
        "colab": {
          "base_uri": "https://localhost:8080/",
          "height": 1000
        },
        "id": "Ztrm7LmN8znh",
        "outputId": "203248f2-3787-4346-bc07-a1bec15c97e4"
      },
      "outputs": [
        {
          "output_type": "stream",
          "name": "stdout",
          "text": [
            "(1, 16, 1024)\n",
            "(1, 1024) (1, 1, 256)\n",
            "(1, 1, 1280)\n",
            "(1, 1, 1024)\n",
            "output变换后\n",
            "(1, 1024)\n",
            "(1, 16, 1024)\n",
            "(1, 1024) (1, 1, 256)\n",
            "(1, 1, 1280)\n",
            "(1, 1, 1024)\n",
            "output变换后\n",
            "(1, 1024)\n",
            "(1, 16, 1024)\n",
            "(1, 1024) (1, 1, 256)\n",
            "(1, 1, 1280)\n",
            "(1, 1, 1024)\n",
            "output变换后\n",
            "(1, 1024)\n",
            "(1, 16, 1024)\n",
            "(1, 1024) (1, 1, 256)\n",
            "(1, 1, 1280)\n",
            "(1, 1, 1024)\n",
            "output变换后\n",
            "(1, 1024)\n",
            "(1, 16, 1024)\n",
            "(1, 1024) (1, 1, 256)\n",
            "(1, 1, 1280)\n",
            "(1, 1, 1024)\n",
            "output变换后\n",
            "(1, 1024)\n",
            "(1, 16, 1024)\n",
            "(1, 1024) (1, 1, 256)\n",
            "(1, 1, 1280)\n",
            "(1, 1, 1024)\n",
            "output变换后\n",
            "(1, 1024)\n",
            "Input: <start> esta es mi vida . <end>\n",
            "Predicted translation: this is my life . <end> \n"
          ]
        },
        {
          "output_type": "display_data",
          "data": {
            "text/plain": [
              "<Figure size 720x720 with 1 Axes>"
            ],
            "image/png": "[encoded data removed]"
          },
          "metadata": {
            "needs_background": "light"
          }
        }
      ],
      "source": [
        "translate(u'esta es mi vida.')"
      ]
    },
    {
      "cell_type": "code",
      "execution_count": 28,
      "metadata": {
        "colab": {
          "base_uri": "https://localhost:8080/",
          "height": 1000
        },
        "id": "tzOkUUhu8zni",
        "outputId": "8e30cc95-d8a3-45d1-faa2-9ae805492346"
      },
      "outputs": [
        {
          "output_type": "stream",
          "name": "stdout",
          "text": [
            "(1, 16, 1024)\n",
            "(1, 1024) (1, 1, 256)\n",
            "(1, 1, 1280)\n",
            "(1, 1, 1024)\n",
            "output变换后\n",
            "(1, 1024)\n",
            "(1, 16, 1024)\n",
            "(1, 1024) (1, 1, 256)\n",
            "(1, 1, 1280)\n",
            "(1, 1, 1024)\n",
            "output变换后\n",
            "(1, 1024)\n",
            "(1, 16, 1024)\n",
            "(1, 1024) (1, 1, 256)\n",
            "(1, 1, 1280)\n",
            "(1, 1, 1024)\n",
            "output变换后\n",
            "(1, 1024)\n",
            "(1, 16, 1024)\n",
            "(1, 1024) (1, 1, 256)\n",
            "(1, 1, 1280)\n",
            "(1, 1, 1024)\n",
            "output变换后\n",
            "(1, 1024)\n",
            "(1, 16, 1024)\n",
            "(1, 1024) (1, 1, 256)\n",
            "(1, 1, 1280)\n",
            "(1, 1, 1024)\n",
            "output变换后\n",
            "(1, 1024)\n",
            "(1, 16, 1024)\n",
            "(1, 1024) (1, 1, 256)\n",
            "(1, 1, 1280)\n",
            "(1, 1, 1024)\n",
            "output变换后\n",
            "(1, 1024)\n",
            "(1, 16, 1024)\n",
            "(1, 1024) (1, 1, 256)\n",
            "(1, 1, 1280)\n",
            "(1, 1, 1024)\n",
            "output变换后\n",
            "(1, 1024)\n",
            "Input: <start> ¿ todavia estan en casa ? <end>\n",
            "Predicted translation: are you still at home ? <end> \n"
          ]
        },
        {
          "output_type": "display_data",
          "data": {
            "text/plain": [
              "<Figure size 720x720 with 1 Axes>"
            ],
            "image/png": "[encoded data removed]"
          },
          "metadata": {
            "needs_background": "light"
          }
        }
      ],
      "source": [
        "translate(u'¿todavia estan en casa?')"
      ]
    },
    {
      "cell_type": "code",
      "execution_count": 29,
      "metadata": {
        "colab": {
          "base_uri": "https://localhost:8080/",
          "height": 1000
        },
        "id": "qKmmTpBU8zni",
        "outputId": "95f25328-e5c6-483a-84e6-95fd9a7e334b"
      },
      "outputs": [
        {
          "output_type": "stream",
          "name": "stdout",
          "text": [
            "(1, 16, 1024)\n",
            "(1, 1024) (1, 1, 256)\n",
            "(1, 1, 1280)\n",
            "(1, 1, 1024)\n",
            "output变换后\n",
            "(1, 1024)\n",
            "(1, 16, 1024)\n",
            "(1, 1024) (1, 1, 256)\n",
            "(1, 1, 1280)\n",
            "(1, 1, 1024)\n",
            "output变换后\n",
            "(1, 1024)\n",
            "(1, 16, 1024)\n",
            "(1, 1024) (1, 1, 256)\n",
            "(1, 1, 1280)\n",
            "(1, 1, 1024)\n",
            "output变换后\n",
            "(1, 1024)\n",
            "(1, 16, 1024)\n",
            "(1, 1024) (1, 1, 256)\n",
            "(1, 1, 1280)\n",
            "(1, 1, 1024)\n",
            "output变换后\n",
            "(1, 1024)\n",
            "(1, 16, 1024)\n",
            "(1, 1024) (1, 1, 256)\n",
            "(1, 1, 1280)\n",
            "(1, 1, 1024)\n",
            "output变换后\n",
            "(1, 1024)\n",
            "(1, 16, 1024)\n",
            "(1, 1024) (1, 1, 256)\n",
            "(1, 1, 1280)\n",
            "(1, 1, 1024)\n",
            "output变换后\n",
            "(1, 1024)\n",
            "Input: <start> hoy es un buen dia <end>\n",
            "Predicted translation: today is sunny today . <end> \n"
          ]
        },
        {
          "output_type": "display_data",
          "data": {
            "text/plain": [
              "<Figure size 720x720 with 1 Axes>"
            ],
            "image/png": "[encoded data removed]"
          },
          "metadata": {
            "needs_background": "light"
          }
        }
      ],
      "source": [
        "translate(u'Hoy es un buen día')"
      ]
    },
    {
      "cell_type": "code",
      "execution_count": 29,
      "metadata": {
        "id": "r7K4ci9k8zni"
      },
      "outputs": [],
      "source": [
        ""
      ]
    }
  ],
  "metadata": {
    "kernelspec": {
      "display_name": "Python 3",
      "language": "python",
      "name": "python3"
    },
    "language_info": {
      "codemirror_mode": {
        "name": "ipython",
        "version": 3
      },
      "file_extension": ".py",
      "mimetype": "text/x-python",
      "name": "python",
      "nbconvert_exporter": "python",
      "pygments_lexer": "ipython3",
      "version": "3.6.9"
    },
    "colab": {
      "name": "seq2seq_attention.ipynb",
      "provenance": [],
      "collapsed_sections": []
    },
    "accelerator": "GPU"
  },
  "nbformat": 4,
  "nbformat_minor": 0
}