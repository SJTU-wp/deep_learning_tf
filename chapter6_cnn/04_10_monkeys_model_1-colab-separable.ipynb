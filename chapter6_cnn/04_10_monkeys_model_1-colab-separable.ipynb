{
  "cells": [
    {
      "cell_type": "code",
      "execution_count": null,
      "id": "8c5160f6",
      "metadata": {
        "scrolled": true,
        "id": "8c5160f6"
      },
      "outputs": [],
      "source": [
        "import numpy as np  # linear algebra\n",
        "import pandas as pd  # data processing, CSV file I/O (e.g. pd.read_csv)\n",
        "\n",
        "# Input data files are available in the \"../input/\" directory.  # 之前如此\n",
        "# For example, running this (by clicking run or pressing Shift+Enter) will list the files in the input directory\n",
        "\n",
        "import os\n",
        "# print(os.listdir(\"../input\"))  # 已更改\n",
        "\n",
        "# Any results you write to the current directory are saved as output."
      ]
    },
    {
      "cell_type": "code",
      "source": [
        "!nvidia-smi"
      ],
      "metadata": {
        "colab": {
          "base_uri": "https://localhost:8080/"
        },
        "id": "aic_qHssb3Q5",
        "outputId": "71253c0c-efd3-4f05-dd65-95dbb7e40029"
      },
      "id": "aic_qHssb3Q5",
      "execution_count": null,
      "outputs": [
        {
          "output_type": "stream",
          "name": "stdout",
          "text": [
            "Fri May  6 06:24:00 2022       \n",
            "+-----------------------------------------------------------------------------+\n",
            "| NVIDIA-SMI 460.32.03    Driver Version: 460.32.03    CUDA Version: 11.2     |\n",
            "|-------------------------------+----------------------+----------------------+\n",
            "| GPU  Name        Persistence-M| Bus-Id        Disp.A | Volatile Uncorr. ECC |\n",
            "| Fan  Temp  Perf  Pwr:Usage/Cap|         Memory-Usage | GPU-Util  Compute M. |\n",
            "|                               |                      |               MIG M. |\n",
            "|===============================+======================+======================|\n",
            "|   0  Tesla K80           Off  | 00000000:00:04.0 Off |                    0 |\n",
            "| N/A   35C    P8    26W / 149W |      0MiB / 11441MiB |      0%      Default |\n",
            "|                               |                      |                  N/A |\n",
            "+-------------------------------+----------------------+----------------------+\n",
            "                                                                               \n",
            "+-----------------------------------------------------------------------------+\n",
            "| Processes:                                                                  |\n",
            "|  GPU   GI   CI        PID   Type   Process name                  GPU Memory |\n",
            "|        ID   ID                                                   Usage      |\n",
            "|=============================================================================|\n",
            "|  No running processes found                                                 |\n",
            "+-----------------------------------------------------------------------------+\n"
          ]
        }
      ]
    },
    {
      "cell_type": "code",
      "execution_count": null,
      "id": "15db8220",
      "metadata": {
        "colab": {
          "base_uri": "https://localhost:8080/"
        },
        "id": "15db8220",
        "outputId": "c566e852-62e6-469d-9940-43c7f1286b83"
      },
      "outputs": [
        {
          "output_type": "stream",
          "name": "stdout",
          "text": [
            "Python 3.7.13\n"
          ]
        }
      ],
      "source": [
        "!python -V"
      ]
    },
    {
      "cell_type": "code",
      "source": [
        "from google.colab import drive\n",
        "drive.mount('/content/drive',  force_remount=True)"
      ],
      "metadata": {
        "colab": {
          "base_uri": "https://localhost:8080/"
        },
        "id": "OJ-mrdLZCSmD",
        "outputId": "b140b13c-ce43-4077-d63d-6c8261844ff1"
      },
      "id": "OJ-mrdLZCSmD",
      "execution_count": null,
      "outputs": [
        {
          "output_type": "stream",
          "name": "stdout",
          "text": [
            "Mounted at /content/drive\n"
          ]
        }
      ]
    },
    {
      "cell_type": "code",
      "source": [
        "%cd /content/drive/MyDrive/kaggle_datasets/"
      ],
      "metadata": {
        "colab": {
          "base_uri": "https://localhost:8080/"
        },
        "id": "MXWT4_y0CoID",
        "outputId": "fd2f977a-8fd3-4d06-b2ab-abfca753408d"
      },
      "id": "MXWT4_y0CoID",
      "execution_count": null,
      "outputs": [
        {
          "output_type": "stream",
          "name": "stdout",
          "text": [
            "/content/drive/MyDrive/kaggle_datasets\n"
          ]
        }
      ]
    },
    {
      "cell_type": "code",
      "execution_count": null,
      "id": "4ab84eb4",
      "metadata": {
        "colab": {
          "base_uri": "https://localhost:8080/"
        },
        "id": "4ab84eb4",
        "outputId": "dc944e94-fa11-411a-e789-c5de3fc995d1"
      },
      "outputs": [
        {
          "output_type": "stream",
          "name": "stdout",
          "text": [
            "2.8.0\n",
            "sys.version_info(major=3, minor=7, micro=13, releaselevel='final', serial=0)\n",
            "matplotlib 3.2.2\n",
            "numpy 1.21.6\n",
            "pandas 1.3.5\n",
            "sklearn 1.0.2\n",
            "tensorflow 2.8.0\n",
            "keras.api._v2.keras 2.8.0\n"
          ]
        }
      ],
      "source": [
        "%matplotlib inline\n",
        "import matplotlib as mpl\n",
        "import matplotlib.pyplot as plt\n",
        "import numpy as np\n",
        "import os\n",
        "import pandas as pd\n",
        "import sklearn\n",
        "import sys\n",
        "import tensorflow as tf\n",
        "import time\n",
        "\n",
        "from tensorflow import keras\n",
        "\n",
        "print(tf.__version__)\n",
        "print(sys.version_info)\n",
        "for module in mpl, np, pd, sklearn, tf, keras:\n",
        "    print(module.__name__, module.__version__)"
      ]
    },
    {
      "cell_type": "markdown",
      "id": "a8777383",
      "metadata": {
        "id": "a8777383"
      },
      "source": [
        "## 数据预处理"
      ]
    },
    {
      "cell_type": "code",
      "execution_count": null,
      "id": "d45c67a1",
      "metadata": {
        "colab": {
          "base_uri": "https://localhost:8080/"
        },
        "id": "d45c67a1",
        "outputId": "831199d9-0577-4bf3-bd60-eed3aff3dc2f"
      },
      "outputs": [
        {
          "output_type": "stream",
          "name": "stdout",
          "text": [
            "True\n",
            "True\n",
            "True\n",
            "['n0', 'n1', 'n2', 'n3', 'n4', 'n5', 'n6', 'n7', 'n8', 'n9']\n",
            "['n0', 'n1', 'n2', 'n3', 'n4', 'n5', 'n6', 'n7', 'n8', 'n9']\n"
          ]
        }
      ],
      "source": [
        "# 数据路径规整、正确是前提\n",
        "train_dir = \"./training/training\"\n",
        "valid_dir = \"./validation/validation\"\n",
        "label_file = \"./monkey_labels.txt\"\n",
        "print(os.path.exists(train_dir))\n",
        "print(os.path.exists(valid_dir))\n",
        "print(os.path.exists(label_file))\n",
        "\n",
        "print(os.listdir(train_dir))\n",
        "print(os.listdir(valid_dir))"
      ]
    },
    {
      "cell_type": "code",
      "execution_count": null,
      "id": "b3e668ff",
      "metadata": {
        "id": "b3e668ff",
        "colab": {
          "base_uri": "https://localhost:8080/"
        },
        "outputId": "92a05239-881a-447f-fba0-0c5fbce7080c"
      },
      "outputs": [
        {
          "output_type": "stream",
          "name": "stdout",
          "text": [
            "Fri May  6 06:24:54 2022       \n",
            "+-----------------------------------------------------------------------------+\n",
            "| NVIDIA-SMI 460.32.03    Driver Version: 460.32.03    CUDA Version: 11.2     |\n",
            "|-------------------------------+----------------------+----------------------+\n",
            "| GPU  Name        Persistence-M| Bus-Id        Disp.A | Volatile Uncorr. ECC |\n",
            "| Fan  Temp  Perf  Pwr:Usage/Cap|         Memory-Usage | GPU-Util  Compute M. |\n",
            "|                               |                      |               MIG M. |\n",
            "|===============================+======================+======================|\n",
            "|   0  Tesla K80           Off  | 00000000:00:04.0 Off |                    0 |\n",
            "| N/A   35C    P8    26W / 149W |      0MiB / 11441MiB |      0%      Default |\n",
            "|                               |                      |                  N/A |\n",
            "+-------------------------------+----------------------+----------------------+\n",
            "                                                                               \n",
            "+-----------------------------------------------------------------------------+\n",
            "| Processes:                                                                  |\n",
            "|  GPU   GI   CI        PID   Type   Process name                  GPU Memory |\n",
            "|        ID   ID                                                   Usage      |\n",
            "|=============================================================================|\n",
            "|  No running processes found                                                 |\n",
            "+-----------------------------------------------------------------------------+\n"
          ]
        }
      ],
      "source": [
        "!nvidia-smi"
      ]
    },
    {
      "cell_type": "code",
      "execution_count": null,
      "id": "79812ce2",
      "metadata": {
        "id": "79812ce2",
        "colab": {
          "base_uri": "https://localhost:8080/"
        },
        "outputId": "e77b830a-4a9a-4fe6-b086-fccdaa83919e"
      },
      "outputs": [
        {
          "output_type": "stream",
          "name": "stdout",
          "text": [
            "   Label     Latin Name              Common Name                     \\\n",
            "0  n0         alouatta_palliata\\t    mantled_howler                   \n",
            "1  n1        erythrocebus_patas\\t    patas_monkey                     \n",
            "2  n2        cacajao_calvus\\t        bald_uakari                      \n",
            "3  n3        macaca_fuscata\\t        japanese_macaque                 \n",
            "4  n4       cebuella_pygmea\\t        pygmy_marmoset                   \n",
            "5  n5       cebus_capucinus\\t        white_headed_capuchin            \n",
            "6  n6       mico_argentatus\\t        silvery_marmoset                 \n",
            "7  n7      saimiri_sciureus\\t        common_squirrel_monkey           \n",
            "8  n8       aotus_nigriceps\\t        black_headed_night_monkey        \n",
            "9  n9       trachypithecus_johnii    nilgiri_langur                   \n",
            "\n",
            "    Train Images    Validation Images  \n",
            "0             131                  26  \n",
            "1             139                  28  \n",
            "2             137                  27  \n",
            "3             152                  30  \n",
            "4             131                  26  \n",
            "5             141                  28  \n",
            "6             132                  26  \n",
            "7             142                  28  \n",
            "8             133                  27  \n",
            "9             132                  26  \n"
          ]
        }
      ],
      "source": [
        "labels = pd.read_csv(label_file, header=0)\n",
        "print(labels)"
      ]
    },
    {
      "cell_type": "code",
      "execution_count": null,
      "id": "eb351960",
      "metadata": {
        "id": "eb351960",
        "colab": {
          "base_uri": "https://localhost:8080/"
        },
        "outputId": "aeb1dbb5-e671-4258-a6c0-26c0359a02ba"
      },
      "outputs": [
        {
          "output_type": "stream",
          "name": "stdout",
          "text": [
            "Found 1098 images belonging to 10 classes.\n",
            "Found 272 images belonging to 10 classes.\n",
            "1098 272\n"
          ]
        }
      ],
      "source": [
        "height = 128\n",
        "width = 128\n",
        "channels = 3\n",
        "batch_size = 64\n",
        "num_classes = 10  # 类别数（10类猴子）\n",
        "\n",
        "train_datagen = keras.preprocessing.image.ImageDataGenerator(\n",
        "    rescale=1./255,  # 图片中的每个像素点都乘以1/255-归一化\n",
        "    rotation_range=40,  # 把图形随机旋转一个角度，在0-40度之间\n",
        "    width_shift_range=0.2,  # 位移，0-20%之间选择做偏移\n",
        "    height_shift_range=0.2,  # 垂直方向位移，如果是0-1之间的数，就是比例，大于1就是像素\n",
        "    shear_range=0.2,  # 剪切强度（逆时针剪切角，以度为单位）\n",
        "    zoom_range=0.2,  # 缩放强度\n",
        "    horizontal_flip=True,  # 水平随机翻转\n",
        "    fill_mode='nearest',  # 图形放大后，有些地方需要填充\n",
        "    # 可以是“常数”，“最近”，“反射”或“环绕”之一\n",
        "    # 默认值为“最近”。输入边界之外的点将根据给定模式进行填充\n",
        ")\n",
        "\n",
        "# 读取图片\n",
        "train_generator = train_datagen.flow_from_directory(train_dir,\n",
        "                                                   # 生成图片多大\n",
        "                                                   target_size=(height, width),\n",
        "                                                   # 生成图片以多少张为一组\n",
        "                                                   batch_size=batch_size,\n",
        "                                                   seed=7,\n",
        "                                                   shuffle=True,\n",
        "                                                   # one-hot编码后的一种模式\n",
        "                                                   class_mode=\"categorical\")\n",
        "\n",
        "# 对验证集必须做一个值的缩放，其他的不需要做\n",
        "valid_datagen = keras.preprocessing.image.ImageDataGenerator(rescale = 1./255)\n",
        "valid_generator = valid_datagen.flow_from_directory(valid_dir,\n",
        "                                                    target_size = (height, width),\n",
        "                                                    batch_size = batch_size,\n",
        "                                                    seed = 7,\n",
        "                                                    shuffle = False,\n",
        "                                                    class_mode = \"categorical\")\n",
        "\n",
        "train_num = train_generator.samples\n",
        "valid_num = valid_generator.samples\n",
        "print(train_num, valid_num)"
      ]
    },
    {
      "cell_type": "code",
      "execution_count": null,
      "id": "e8cbe586",
      "metadata": {
        "id": "e8cbe586",
        "colab": {
          "base_uri": "https://localhost:8080/"
        },
        "outputId": "644085a4-640a-47a5-8a7c-a990723b2697"
      },
      "outputs": [
        {
          "output_type": "stream",
          "name": "stdout",
          "text": [
            "(64, 128, 128, 3) (64, 10)\n",
            "[[0. 0. 0. 0. 0. 0. 0. 0. 1. 0.]\n",
            " [0. 0. 0. 0. 1. 0. 0. 0. 0. 0.]\n",
            " [0. 0. 0. 0. 0. 0. 1. 0. 0. 0.]\n",
            " [0. 0. 0. 0. 0. 0. 0. 0. 0. 1.]\n",
            " [0. 0. 0. 0. 0. 0. 1. 0. 0. 0.]\n",
            " [0. 0. 0. 0. 0. 1. 0. 0. 0. 0.]\n",
            " [0. 1. 0. 0. 0. 0. 0. 0. 0. 0.]\n",
            " [0. 0. 1. 0. 0. 0. 0. 0. 0. 0.]\n",
            " [0. 0. 0. 0. 0. 0. 0. 1. 0. 0.]\n",
            " [0. 0. 0. 1. 0. 0. 0. 0. 0. 0.]\n",
            " [0. 1. 0. 0. 0. 0. 0. 0. 0. 0.]\n",
            " [0. 1. 0. 0. 0. 0. 0. 0. 0. 0.]\n",
            " [0. 0. 0. 0. 0. 0. 0. 1. 0. 0.]\n",
            " [0. 0. 0. 0. 0. 1. 0. 0. 0. 0.]\n",
            " [1. 0. 0. 0. 0. 0. 0. 0. 0. 0.]\n",
            " [0. 0. 0. 0. 1. 0. 0. 0. 0. 0.]\n",
            " [0. 0. 0. 0. 1. 0. 0. 0. 0. 0.]\n",
            " [0. 0. 0. 0. 0. 0. 0. 1. 0. 0.]\n",
            " [0. 0. 0. 0. 0. 0. 0. 1. 0. 0.]\n",
            " [0. 0. 0. 0. 1. 0. 0. 0. 0. 0.]\n",
            " [0. 0. 1. 0. 0. 0. 0. 0. 0. 0.]\n",
            " [0. 0. 0. 0. 0. 1. 0. 0. 0. 0.]\n",
            " [0. 1. 0. 0. 0. 0. 0. 0. 0. 0.]\n",
            " [0. 0. 0. 0. 0. 1. 0. 0. 0. 0.]\n",
            " [0. 0. 0. 0. 0. 0. 0. 0. 0. 1.]\n",
            " [0. 0. 0. 0. 0. 0. 1. 0. 0. 0.]\n",
            " [0. 0. 0. 1. 0. 0. 0. 0. 0. 0.]\n",
            " [1. 0. 0. 0. 0. 0. 0. 0. 0. 0.]\n",
            " [1. 0. 0. 0. 0. 0. 0. 0. 0. 0.]\n",
            " [0. 0. 0. 1. 0. 0. 0. 0. 0. 0.]\n",
            " [0. 1. 0. 0. 0. 0. 0. 0. 0. 0.]\n",
            " [0. 0. 0. 1. 0. 0. 0. 0. 0. 0.]\n",
            " [0. 0. 0. 1. 0. 0. 0. 0. 0. 0.]\n",
            " [0. 0. 0. 0. 0. 0. 0. 0. 1. 0.]\n",
            " [0. 0. 0. 0. 0. 0. 0. 1. 0. 0.]\n",
            " [0. 0. 0. 0. 0. 0. 0. 0. 0. 1.]\n",
            " [0. 0. 0. 0. 0. 1. 0. 0. 0. 0.]\n",
            " [0. 0. 0. 0. 0. 1. 0. 0. 0. 0.]\n",
            " [1. 0. 0. 0. 0. 0. 0. 0. 0. 0.]\n",
            " [0. 0. 0. 0. 1. 0. 0. 0. 0. 0.]\n",
            " [0. 0. 0. 0. 0. 0. 0. 1. 0. 0.]\n",
            " [0. 0. 1. 0. 0. 0. 0. 0. 0. 0.]\n",
            " [0. 0. 0. 0. 0. 0. 0. 0. 1. 0.]\n",
            " [0. 1. 0. 0. 0. 0. 0. 0. 0. 0.]\n",
            " [0. 0. 0. 0. 1. 0. 0. 0. 0. 0.]\n",
            " [1. 0. 0. 0. 0. 0. 0. 0. 0. 0.]\n",
            " [0. 0. 0. 0. 1. 0. 0. 0. 0. 0.]\n",
            " [0. 0. 0. 1. 0. 0. 0. 0. 0. 0.]\n",
            " [0. 1. 0. 0. 0. 0. 0. 0. 0. 0.]\n",
            " [0. 0. 0. 0. 0. 0. 0. 0. 1. 0.]\n",
            " [1. 0. 0. 0. 0. 0. 0. 0. 0. 0.]\n",
            " [0. 0. 0. 1. 0. 0. 0. 0. 0. 0.]\n",
            " [1. 0. 0. 0. 0. 0. 0. 0. 0. 0.]\n",
            " [0. 0. 1. 0. 0. 0. 0. 0. 0. 0.]\n",
            " [0. 0. 0. 0. 1. 0. 0. 0. 0. 0.]\n",
            " [0. 1. 0. 0. 0. 0. 0. 0. 0. 0.]\n",
            " [0. 0. 0. 0. 0. 0. 0. 0. 0. 1.]\n",
            " [0. 0. 1. 0. 0. 0. 0. 0. 0. 0.]\n",
            " [0. 0. 0. 0. 0. 1. 0. 0. 0. 0.]\n",
            " [0. 0. 0. 0. 0. 1. 0. 0. 0. 0.]\n",
            " [0. 0. 0. 0. 0. 0. 0. 0. 1. 0.]\n",
            " [0. 0. 0. 0. 0. 0. 0. 1. 0. 0.]\n",
            " [0. 0. 0. 1. 0. 0. 0. 0. 0. 0.]\n",
            " [0. 0. 0. 1. 0. 0. 0. 0. 0. 0.]]\n",
            "(64, 128, 128, 3) (64, 10)\n",
            "[[0. 0. 0. 0. 0. 0. 0. 1. 0. 0.]\n",
            " [0. 0. 0. 0. 0. 0. 0. 1. 0. 0.]\n",
            " [0. 0. 1. 0. 0. 0. 0. 0. 0. 0.]\n",
            " [0. 0. 0. 0. 0. 0. 0. 1. 0. 0.]\n",
            " [0. 0. 0. 0. 0. 0. 0. 0. 1. 0.]\n",
            " [0. 0. 0. 0. 1. 0. 0. 0. 0. 0.]\n",
            " [1. 0. 0. 0. 0. 0. 0. 0. 0. 0.]\n",
            " [0. 1. 0. 0. 0. 0. 0. 0. 0. 0.]\n",
            " [0. 0. 0. 0. 0. 1. 0. 0. 0. 0.]\n",
            " [0. 0. 0. 0. 0. 0. 0. 0. 1. 0.]\n",
            " [0. 0. 0. 0. 0. 1. 0. 0. 0. 0.]\n",
            " [0. 0. 0. 0. 0. 0. 0. 1. 0. 0.]\n",
            " [0. 0. 0. 0. 0. 0. 0. 1. 0. 0.]\n",
            " [0. 0. 0. 1. 0. 0. 0. 0. 0. 0.]\n",
            " [0. 0. 0. 0. 0. 0. 1. 0. 0. 0.]\n",
            " [0. 0. 0. 0. 1. 0. 0. 0. 0. 0.]\n",
            " [0. 0. 0. 0. 0. 0. 0. 0. 0. 1.]\n",
            " [0. 1. 0. 0. 0. 0. 0. 0. 0. 0.]\n",
            " [0. 0. 1. 0. 0. 0. 0. 0. 0. 0.]\n",
            " [0. 0. 0. 1. 0. 0. 0. 0. 0. 0.]\n",
            " [0. 0. 0. 0. 0. 0. 1. 0. 0. 0.]\n",
            " [0. 0. 0. 0. 1. 0. 0. 0. 0. 0.]\n",
            " [0. 0. 0. 0. 0. 0. 0. 0. 1. 0.]\n",
            " [0. 0. 0. 1. 0. 0. 0. 0. 0. 0.]\n",
            " [0. 0. 0. 0. 0. 1. 0. 0. 0. 0.]\n",
            " [0. 0. 0. 1. 0. 0. 0. 0. 0. 0.]\n",
            " [1. 0. 0. 0. 0. 0. 0. 0. 0. 0.]\n",
            " [0. 0. 0. 0. 0. 1. 0. 0. 0. 0.]\n",
            " [0. 0. 0. 0. 0. 0. 1. 0. 0. 0.]\n",
            " [0. 0. 1. 0. 0. 0. 0. 0. 0. 0.]\n",
            " [0. 0. 0. 0. 0. 1. 0. 0. 0. 0.]\n",
            " [0. 0. 0. 0. 0. 0. 0. 1. 0. 0.]\n",
            " [0. 0. 0. 0. 0. 0. 1. 0. 0. 0.]\n",
            " [0. 0. 0. 0. 0. 0. 0. 1. 0. 0.]\n",
            " [0. 1. 0. 0. 0. 0. 0. 0. 0. 0.]\n",
            " [0. 0. 0. 0. 0. 0. 1. 0. 0. 0.]\n",
            " [0. 0. 0. 0. 0. 0. 0. 0. 1. 0.]\n",
            " [0. 0. 0. 0. 0. 0. 1. 0. 0. 0.]\n",
            " [0. 0. 0. 0. 0. 0. 0. 0. 1. 0.]\n",
            " [0. 0. 0. 0. 1. 0. 0. 0. 0. 0.]\n",
            " [0. 0. 0. 0. 0. 0. 0. 0. 1. 0.]\n",
            " [0. 1. 0. 0. 0. 0. 0. 0. 0. 0.]\n",
            " [0. 0. 0. 0. 0. 0. 1. 0. 0. 0.]\n",
            " [0. 0. 0. 0. 0. 0. 1. 0. 0. 0.]\n",
            " [0. 0. 0. 0. 0. 0. 0. 0. 0. 1.]\n",
            " [0. 0. 0. 0. 1. 0. 0. 0. 0. 0.]\n",
            " [0. 0. 0. 0. 0. 0. 0. 0. 1. 0.]\n",
            " [0. 0. 0. 1. 0. 0. 0. 0. 0. 0.]\n",
            " [0. 0. 0. 0. 0. 0. 0. 1. 0. 0.]\n",
            " [0. 0. 0. 0. 0. 0. 0. 1. 0. 0.]\n",
            " [1. 0. 0. 0. 0. 0. 0. 0. 0. 0.]\n",
            " [0. 0. 0. 1. 0. 0. 0. 0. 0. 0.]\n",
            " [0. 0. 0. 1. 0. 0. 0. 0. 0. 0.]\n",
            " [0. 0. 0. 0. 0. 0. 0. 0. 1. 0.]\n",
            " [0. 0. 0. 0. 1. 0. 0. 0. 0. 0.]\n",
            " [0. 0. 0. 0. 0. 0. 1. 0. 0. 0.]\n",
            " [0. 0. 0. 0. 0. 0. 0. 0. 0. 1.]\n",
            " [0. 0. 0. 0. 0. 0. 0. 0. 0. 1.]\n",
            " [0. 0. 0. 0. 0. 1. 0. 0. 0. 0.]\n",
            " [0. 0. 0. 0. 1. 0. 0. 0. 0. 0.]\n",
            " [0. 1. 0. 0. 0. 0. 0. 0. 0. 0.]\n",
            " [0. 0. 0. 1. 0. 0. 0. 0. 0. 0.]\n",
            " [0. 0. 0. 0. 0. 0. 0. 0. 1. 0.]\n",
            " [0. 0. 0. 0. 1. 0. 0. 0. 0. 0.]]\n"
          ]
        }
      ],
      "source": [
        "for i in range(2):\n",
        "    x, y = train_generator.next()\n",
        "    print(x.shape, y.shape)\n",
        "    print(y)"
      ]
    },
    {
      "cell_type": "code",
      "execution_count": null,
      "id": "cd29dab2",
      "metadata": {
        "id": "cd29dab2"
      },
      "outputs": [],
      "source": [
        ""
      ]
    },
    {
      "cell_type": "markdown",
      "id": "dd5bd64f",
      "metadata": {
        "id": "dd5bd64f"
      },
      "source": [
        "## 搭建模型"
      ]
    },
    {
      "cell_type": "code",
      "execution_count": null,
      "id": "ef9a254f",
      "metadata": {
        "id": "ef9a254f",
        "colab": {
          "base_uri": "https://localhost:8080/"
        },
        "outputId": "72771f04-63e9-4ec0-9407-07d8a0bc2f6a"
      },
      "outputs": [
        {
          "output_type": "stream",
          "name": "stdout",
          "text": [
            "Model: \"sequential\"\n",
            "_________________________________________________________________\n",
            " Layer (type)                Output Shape              Param #   \n",
            "=================================================================\n",
            " conv2d (Conv2D)             (None, 128, 128, 32)      896       \n",
            "                                                                 \n",
            " separable_conv2d (Separable  (None, 128, 128, 32)     1344      \n",
            " Conv2D)                                                         \n",
            "                                                                 \n",
            " max_pooling2d (MaxPooling2D  (None, 64, 64, 32)       0         \n",
            " )                                                               \n",
            "                                                                 \n",
            " separable_conv2d_1 (Separab  (None, 64, 64, 64)       2400      \n",
            " leConv2D)                                                       \n",
            "                                                                 \n",
            " separable_conv2d_2 (Separab  (None, 64, 64, 64)       4736      \n",
            " leConv2D)                                                       \n",
            "                                                                 \n",
            " max_pooling2d_1 (MaxPooling  (None, 32, 32, 64)       0         \n",
            " 2D)                                                             \n",
            "                                                                 \n",
            " separable_conv2d_3 (Separab  (None, 32, 32, 128)      8896      \n",
            " leConv2D)                                                       \n",
            "                                                                 \n",
            " separable_conv2d_4 (Separab  (None, 32, 32, 128)      17664     \n",
            " leConv2D)                                                       \n",
            "                                                                 \n",
            " max_pooling2d_2 (MaxPooling  (None, 16, 16, 128)      0         \n",
            " 2D)                                                             \n",
            "                                                                 \n",
            " flatten (Flatten)           (None, 32768)             0         \n",
            "                                                                 \n",
            " dense (Dense)               (None, 128)               4194432   \n",
            "                                                                 \n",
            " dense_1 (Dense)             (None, 10)                1290      \n",
            "                                                                 \n",
            "=================================================================\n",
            "Total params: 4,231,658\n",
            "Trainable params: 4,231,658\n",
            "Non-trainable params: 0\n",
            "_________________________________________________________________\n"
          ]
        }
      ],
      "source": [
        "model = keras.models.Sequential([\n",
        "    # 第一组卷积\n",
        "    keras.layers.Conv2D(filters=32, kernel_size=3, padding='same',\n",
        "                       activation='relu', input_shape=[width, height, channels]),\n",
        "    keras.layers.SeparableConv2D(filters=32, kernel_size=3, padding='same',\n",
        "                       activation='relu'),\n",
        "    keras.layers.MaxPool2D(pool_size=2),\n",
        "    \n",
        "    # 第二组卷积\n",
        "    keras.layers.SeparableConv2D(filters=64, kernel_size=3, padding='same',\n",
        "                        activation='relu'),\n",
        "    keras.layers.SeparableConv2D(filters=64, kernel_size=3, padding='same',\n",
        "                        activation='relu'),\n",
        "    keras.layers.MaxPool2D(pool_size=2),\n",
        "    \n",
        "    # 第三组再翻倍\n",
        "    keras.layers.SeparableConv2D(filters=128, kernel_size=3, padding='same',\n",
        "                        activation='relu'),\n",
        "    keras.layers.SeparableConv2D(filters=128, kernel_size=3, padding='same',\n",
        "                        activation='relu'),\n",
        "    keras.layers.MaxPool2D(pool_size=2),\n",
        "    \n",
        "    # 展平后，和全连接层做连接\n",
        "    keras.layers.Flatten(),\n",
        "    keras.layers.Dense(128, activation='relu'),\n",
        "    keras.layers.Dense(num_classes, activation='softmax'),\n",
        "])\n",
        "\n",
        "model.compile(loss=\"categorical_crossentropy\",\n",
        "             optimizer=\"adam\", metrics=['accuracy'])\n",
        "\n",
        "model.summary()"
      ]
    },
    {
      "cell_type": "code",
      "execution_count": null,
      "id": "6877df36",
      "metadata": {
        "id": "6877df36",
        "colab": {
          "base_uri": "https://localhost:8080/"
        },
        "outputId": "e1d13c6f-07b4-4e65-da50-97e1c37c3ee5"
      },
      "outputs": [
        {
          "output_type": "execute_result",
          "data": {
            "text/plain": [
              "12"
            ]
          },
          "metadata": {},
          "execution_count": 14
        }
      ],
      "source": [
        "len(model.layers)"
      ]
    },
    {
      "cell_type": "code",
      "execution_count": null,
      "id": "3ab3d11f",
      "metadata": {
        "id": "3ab3d11f",
        "colab": {
          "base_uri": "https://localhost:8080/"
        },
        "outputId": "a2b67a72-2758-4470-8361-e6a5a2412c2a"
      },
      "outputs": [
        {
          "output_type": "stream",
          "name": "stderr",
          "text": [
            "/usr/local/lib/python3.7/dist-packages/ipykernel_launcher.py:9: UserWarning: `Model.fit_generator` is deprecated and will be removed in a future version. Please use `Model.fit`, which supports generators.\n",
            "  if __name__ == '__main__':\n"
          ]
        },
        {
          "output_type": "stream",
          "name": "stdout",
          "text": [
            "Epoch 1/50\n",
            "17/17 [==============================] - 306s 17s/step - loss: 2.3096 - accuracy: 0.0899 - val_loss: 2.3019 - val_accuracy: 0.1172\n",
            "Epoch 2/50\n",
            "17/17 [==============================] - 41s 2s/step - loss: 2.3027 - accuracy: 0.1074 - val_loss: 2.3016 - val_accuracy: 0.1172\n",
            "Epoch 3/50\n",
            "17/17 [==============================] - 41s 2s/step - loss: 2.3023 - accuracy: 0.1103 - val_loss: 2.3014 - val_accuracy: 0.1172\n",
            "Epoch 4/50\n",
            "17/17 [==============================] - 42s 2s/step - loss: 2.3022 - accuracy: 0.1112 - val_loss: 2.3013 - val_accuracy: 0.1172\n",
            "Epoch 5/50\n",
            "17/17 [==============================] - 41s 2s/step - loss: 2.3024 - accuracy: 0.1141 - val_loss: 2.3011 - val_accuracy: 0.1172\n",
            "Epoch 6/50\n",
            "17/17 [==============================] - 40s 2s/step - loss: 2.3017 - accuracy: 0.1151 - val_loss: 2.3009 - val_accuracy: 0.1172\n",
            "Epoch 7/50\n",
            "17/17 [==============================] - 41s 2s/step - loss: 2.3018 - accuracy: 0.1112 - val_loss: 2.3005 - val_accuracy: 0.1172\n",
            "Epoch 8/50\n",
            "17/17 [==============================] - 41s 2s/step - loss: 2.3016 - accuracy: 0.1112 - val_loss: 2.2999 - val_accuracy: 0.1172\n",
            "Epoch 9/50\n",
            "17/17 [==============================] - 41s 2s/step - loss: 2.3020 - accuracy: 0.1083 - val_loss: 2.2995 - val_accuracy: 0.1172\n",
            "Epoch 10/50\n",
            "17/17 [==============================] - 41s 2s/step - loss: 2.3019 - accuracy: 0.1093 - val_loss: 2.3001 - val_accuracy: 0.1172\n",
            "Epoch 11/50\n",
            "17/17 [==============================] - 40s 2s/step - loss: 2.3020 - accuracy: 0.1122 - val_loss: 2.3001 - val_accuracy: 0.1172\n",
            "Epoch 12/50\n",
            "17/17 [==============================] - 41s 2s/step - loss: 2.3016 - accuracy: 0.1122 - val_loss: 2.3000 - val_accuracy: 0.1172\n",
            "Epoch 13/50\n",
            "17/17 [==============================] - 42s 2s/step - loss: 2.3016 - accuracy: 0.1112 - val_loss: 2.2999 - val_accuracy: 0.1172\n",
            "Epoch 14/50\n",
            "17/17 [==============================] - 41s 2s/step - loss: 2.3017 - accuracy: 0.1141 - val_loss: 2.2996 - val_accuracy: 0.1172\n",
            "Epoch 15/50\n",
            "17/17 [==============================] - 42s 2s/step - loss: 2.3015 - accuracy: 0.1112 - val_loss: 2.2992 - val_accuracy: 0.1172\n",
            "Epoch 16/50\n",
            "17/17 [==============================] - 43s 3s/step - loss: 2.3017 - accuracy: 0.1103 - val_loss: 2.2994 - val_accuracy: 0.1172\n",
            "Epoch 17/50\n",
            "17/17 [==============================] - 41s 2s/step - loss: 2.3021 - accuracy: 0.1093 - val_loss: 2.2993 - val_accuracy: 0.1172\n",
            "Epoch 18/50\n",
            "17/17 [==============================] - 41s 2s/step - loss: 2.3016 - accuracy: 0.1122 - val_loss: 2.2994 - val_accuracy: 0.1172\n",
            "Epoch 19/50\n",
            "17/17 [==============================] - 41s 2s/step - loss: 2.3014 - accuracy: 0.1122 - val_loss: 2.2993 - val_accuracy: 0.1172\n",
            "Epoch 20/50\n",
            "17/17 [==============================] - 40s 2s/step - loss: 2.3023 - accuracy: 0.1093 - val_loss: 2.2995 - val_accuracy: 0.1172\n",
            "Epoch 21/50\n",
            "17/17 [==============================] - 41s 2s/step - loss: 2.3016 - accuracy: 0.1122 - val_loss: 2.2996 - val_accuracy: 0.1172\n",
            "Epoch 22/50\n",
            "17/17 [==============================] - 41s 3s/step - loss: 2.3017 - accuracy: 0.1103 - val_loss: 2.2995 - val_accuracy: 0.1172\n",
            "Epoch 23/50\n",
            "17/17 [==============================] - 41s 2s/step - loss: 2.3019 - accuracy: 0.1093 - val_loss: 2.2991 - val_accuracy: 0.1172\n",
            "Epoch 24/50\n",
            "17/17 [==============================] - 40s 2s/step - loss: 2.3016 - accuracy: 0.1093 - val_loss: 2.2990 - val_accuracy: 0.1172\n",
            "Epoch 25/50\n",
            "17/17 [==============================] - 42s 2s/step - loss: 2.3016 - accuracy: 0.1093 - val_loss: 2.2988 - val_accuracy: 0.1172\n",
            "Epoch 26/50\n",
            "17/17 [==============================] - 42s 2s/step - loss: 2.3022 - accuracy: 0.1083 - val_loss: 2.2986 - val_accuracy: 0.1172\n",
            "Epoch 27/50\n",
            "17/17 [==============================] - 42s 2s/step - loss: 2.3014 - accuracy: 0.1141 - val_loss: 2.2985 - val_accuracy: 0.1172\n",
            "Epoch 28/50\n",
            "17/17 [==============================] - 41s 2s/step - loss: 2.3018 - accuracy: 0.1093 - val_loss: 2.2987 - val_accuracy: 0.1172\n",
            "Epoch 29/50\n",
            "17/17 [==============================] - 41s 2s/step - loss: 2.3016 - accuracy: 0.1141 - val_loss: 2.2991 - val_accuracy: 0.1172\n",
            "Epoch 30/50\n",
            "17/17 [==============================] - 41s 2s/step - loss: 2.3020 - accuracy: 0.1112 - val_loss: 2.2989 - val_accuracy: 0.1172\n",
            "Epoch 31/50\n",
            "17/17 [==============================] - 41s 2s/step - loss: 2.3016 - accuracy: 0.1132 - val_loss: 2.2994 - val_accuracy: 0.1172\n",
            "Epoch 32/50\n",
            "17/17 [==============================] - 40s 2s/step - loss: 2.3018 - accuracy: 0.1103 - val_loss: 2.2992 - val_accuracy: 0.1172\n",
            "Epoch 33/50\n",
            "17/17 [==============================] - 41s 2s/step - loss: 2.3018 - accuracy: 0.1112 - val_loss: 2.2989 - val_accuracy: 0.1172\n",
            "Epoch 34/50\n",
            "17/17 [==============================] - 41s 2s/step - loss: 2.3019 - accuracy: 0.1093 - val_loss: 2.2988 - val_accuracy: 0.1172\n",
            "Epoch 35/50\n",
            "17/17 [==============================] - 42s 2s/step - loss: 2.3018 - accuracy: 0.1103 - val_loss: 2.2983 - val_accuracy: 0.1172\n",
            "Epoch 36/50\n",
            "17/17 [==============================] - 41s 2s/step - loss: 2.3022 - accuracy: 0.1074 - val_loss: 2.2985 - val_accuracy: 0.1172\n",
            "Epoch 37/50\n",
            "17/17 [==============================] - 40s 2s/step - loss: 2.3018 - accuracy: 0.1141 - val_loss: 2.2995 - val_accuracy: 0.1172\n",
            "Epoch 38/50\n",
            "17/17 [==============================] - 41s 2s/step - loss: 2.3017 - accuracy: 0.1112 - val_loss: 2.2993 - val_accuracy: 0.1172\n",
            "Epoch 39/50\n",
            "17/17 [==============================] - 40s 2s/step - loss: 2.3020 - accuracy: 0.1093 - val_loss: 2.2994 - val_accuracy: 0.1172\n",
            "Epoch 40/50\n",
            "17/17 [==============================] - 41s 2s/step - loss: 2.3015 - accuracy: 0.1132 - val_loss: 2.2993 - val_accuracy: 0.1172\n",
            "Epoch 41/50\n",
            "17/17 [==============================] - 40s 2s/step - loss: 2.3018 - accuracy: 0.1103 - val_loss: 2.2989 - val_accuracy: 0.1172\n",
            "Epoch 42/50\n",
            "17/17 [==============================] - 41s 2s/step - loss: 2.3015 - accuracy: 0.1112 - val_loss: 2.2991 - val_accuracy: 0.1172\n",
            "Epoch 43/50\n",
            "17/17 [==============================] - 41s 2s/step - loss: 2.3024 - accuracy: 0.1093 - val_loss: 2.2990 - val_accuracy: 0.1172\n",
            "Epoch 44/50\n",
            "17/17 [==============================] - 40s 2s/step - loss: 2.3016 - accuracy: 0.1083 - val_loss: 2.2990 - val_accuracy: 0.1172\n",
            "Epoch 45/50\n",
            "17/17 [==============================] - 40s 2s/step - loss: 2.3014 - accuracy: 0.1141 - val_loss: 2.2989 - val_accuracy: 0.1172\n",
            "Epoch 46/50\n",
            "17/17 [==============================] - 40s 2s/step - loss: 2.3014 - accuracy: 0.1122 - val_loss: 2.2991 - val_accuracy: 0.1172\n",
            "Epoch 47/50\n",
            "17/17 [==============================] - 40s 2s/step - loss: 2.3012 - accuracy: 0.1132 - val_loss: 2.2996 - val_accuracy: 0.1172\n",
            "Epoch 48/50\n",
            "17/17 [==============================] - 40s 2s/step - loss: 2.3015 - accuracy: 0.1141 - val_loss: 2.2996 - val_accuracy: 0.1172\n",
            "Epoch 49/50\n",
            "17/17 [==============================] - 40s 2s/step - loss: 2.3011 - accuracy: 0.1132 - val_loss: 2.3000 - val_accuracy: 0.1172\n",
            "Epoch 50/50\n",
            "17/17 [==============================] - 41s 2s/step - loss: 2.3018 - accuracy: 0.1122 - val_loss: 2.2997 - val_accuracy: 0.1172\n"
          ]
        }
      ],
      "source": [
        "epochs = 50\n",
        "# 如果机器性能好，可以把epochs改为300\n",
        "history = model.fit_generator(train_generator,\n",
        "                              # 显式指定\n",
        "                              steps_per_epoch = train_num // batch_size,\n",
        "                              epochs = epochs,\n",
        "                              # 验证集\n",
        "                              validation_data = valid_generator,\n",
        "                              validation_steps = valid_num // batch_size)"
      ]
    },
    {
      "cell_type": "code",
      "execution_count": null,
      "id": "dee5fc21",
      "metadata": {
        "id": "dee5fc21",
        "colab": {
          "base_uri": "https://localhost:8080/",
          "height": 627
        },
        "outputId": "e67a01c1-e3e8-42d0-efc5-6f76d281eb0f"
      },
      "outputs": [
        {
          "output_type": "display_data",
          "data": {
            "text/plain": [
              "<Figure size 576x360 with 1 Axes>"
            ],
            "image/png": "[encoded data removed]"
          },
          "metadata": {
            "needs_background": "light"
          }
        },
        {
          "output_type": "display_data",
          "data": {
            "text/plain": [
              "<Figure size 576x360 with 1 Axes>"
            ],
            "image/png": "[encoded data removed]"
          },
          "metadata": {
            "needs_background": "light"
          }
        }
      ],
      "source": [
        "def plot_learning_curves(history, label, epcohs, min_value, max_value):\n",
        "    data = {}\n",
        "    data[label] = history.history[label]\n",
        "    data['val_'+label] = history.history['val_'+label]\n",
        "    pd.DataFrame(data).plot(figsize=(8, 5))\n",
        "    plt.grid(True)\n",
        "    plt.axis([0, epochs, min_value, max_value])\n",
        "    plt.show()\n",
        "    \n",
        "# 因为accuracy的值和loss值的范围很不一样，因此我们打印两条曲线\n",
        "plot_learning_curves(history, 'accuracy', epochs, 0, 1)\n",
        "plot_learning_curves(history, 'loss', epochs, 1.5, 2.5)"
      ]
    },
    {
      "cell_type": "code",
      "execution_count": null,
      "id": "3ff3d697",
      "metadata": {
        "id": "3ff3d697"
      },
      "outputs": [],
      "source": [
        ""
      ]
    }
  ],
  "metadata": {
    "kernelspec": {
      "display_name": "Python 3",
      "language": "python",
      "name": "python3"
    },
    "language_info": {
      "codemirror_mode": {
        "name": "ipython",
        "version": 3
      },
      "file_extension": ".py",
      "mimetype": "text/x-python",
      "name": "python",
      "nbconvert_exporter": "python",
      "pygments_lexer": "ipython3",
      "version": "3.6.9"
    },
    "colab": {
      "name": "04_10_monkeys_model_1-colab-separable.ipynb",
      "provenance": [],
      "collapsed_sections": [],
      "history_visible": true
    },
    "accelerator": "GPU"
  },
  "nbformat": 4,
  "nbformat_minor": 5
}