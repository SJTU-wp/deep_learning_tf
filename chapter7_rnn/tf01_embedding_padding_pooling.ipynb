{
 "cells": [
  {
   "cell_type": "code",
   "execution_count": 1,
   "metadata": {},
   "outputs": [
    {
     "name": "stdout",
     "output_type": "stream",
     "text": [
      "2.6.2\n",
      "sys.version_info(major=3, minor=6, micro=9, releaselevel='final', serial=0)\n",
      "matplotlib 3.3.4\n",
      "numpy 1.19.5\n",
      "pandas 1.1.5\n",
      "sklearn 0.24.2\n",
      "tensorflow 2.6.2\n",
      "keras.api._v2.keras 2.6.0\n"
     ]
    }
   ],
   "source": [
    "import matplotlib as mpl\n",
    "import matplotlib.pyplot as plt\n",
    "%matplotlib inline\n",
    "import numpy as np\n",
    "import sklearn\n",
    "import pandas as pd\n",
    "import os\n",
    "import sys\n",
    "import time\n",
    "import tensorflow as tf\n",
    "\n",
    "from tensorflow import keras\n",
    "\n",
    "print(tf.__version__)\n",
    "print(sys.version_info)\n",
    "for module in mpl, np, pd, sklearn, tf, keras:\n",
    "    print(module.__name__, module.__version__)\n"
   ]
  },
  {
   "cell_type": "code",
   "execution_count": 2,
   "metadata": {},
   "outputs": [],
   "source": [
    "# 用keras有的数据集imdb，电影分类，分影评是积极的，还是消极的\n",
    "imdb = keras.datasets.imdb\n",
    "# 载入数据使用下面两个参数\n",
    "vocab_size = 10000  # 词典大小，仅保留训练数据中前10000个最经常出现的单词，低频单词被舍弃\n",
    "index_from = 3\n",
    "# 前一万个词出现词频最高的会保留下来进行处理，后面的作为特殊字符处理，\n",
    "# 不超过3的id都是特殊字符(0, 1, 2, 3)，下面代码有写\n",
    "# 需要注意的一点是取出来的词表还是从1开始的，需要做处理\n",
    "(train_data, train_labels), (test_data, test_labels) = imdb.load_data(\n",
    "    num_words = vocab_size, index_from = index_from)"
   ]
  },
  {
   "cell_type": "code",
   "execution_count": 3,
   "metadata": {},
   "outputs": [
    {
     "name": "stdout",
     "output_type": "stream",
     "text": [
      "[list([1, 14, 22, 16, 43, 530, 973, 1622, 1385, 65, 458, 4468, 66, 3941, 4, 173, 36, 256, 5, 25, 100, 43, 838, 112, 50, 670, 2, 9, 35, 480, 284, 5, 150, 4, 172, 112, 167, 2, 336, 385, 39, 4, 172, 4536, 1111, 17, 546, 38, 13, 447, 4, 192, 50, 16, 6, 147, 2025, 19, 14, 22, 4, 1920, 4613, 469, 4, 22, 71, 87, 12, 16, 43, 530, 38, 76, 15, 13, 1247, 4, 22, 17, 515, 17, 12, 16, 626, 18, 2, 5, 62, 386, 12, 8, 316, 8, 106, 5, 4, 2223, 5244, 16, 480, 66, 3785, 33, 4, 130, 12, 16, 38, 619, 5, 25, 124, 51, 36, 135, 48, 25, 1415, 33, 6, 22, 12, 215, 28, 77, 52, 5, 14, 407, 16, 82, 2, 8, 4, 107, 117, 5952, 15, 256, 4, 2, 7, 3766, 5, 723, 36, 71, 43, 530, 476, 26, 400, 317, 46, 7, 4, 2, 1029, 13, 104, 88, 4, 381, 15, 297, 98, 32, 2071, 56, 26, 141, 6, 194, 7486, 18, 4, 226, 22, 21, 134, 476, 26, 480, 5, 144, 30, 5535, 18, 51, 36, 28, 224, 92, 25, 104, 4, 226, 65, 16, 38, 1334, 88, 12, 16, 283, 5, 16, 4472, 113, 103, 32, 15, 16, 5345, 19, 178, 32])\n",
      " list([1, 194, 1153, 194, 8255, 78, 228, 5, 6, 1463, 4369, 5012, 134, 26, 4, 715, 8, 118, 1634, 14, 394, 20, 13, 119, 954, 189, 102, 5, 207, 110, 3103, 21, 14, 69, 188, 8, 30, 23, 7, 4, 249, 126, 93, 4, 114, 9, 2300, 1523, 5, 647, 4, 116, 9, 35, 8163, 4, 229, 9, 340, 1322, 4, 118, 9, 4, 130, 4901, 19, 4, 1002, 5, 89, 29, 952, 46, 37, 4, 455, 9, 45, 43, 38, 1543, 1905, 398, 4, 1649, 26, 6853, 5, 163, 11, 3215, 2, 4, 1153, 9, 194, 775, 7, 8255, 2, 349, 2637, 148, 605, 2, 8003, 15, 123, 125, 68, 2, 6853, 15, 349, 165, 4362, 98, 5, 4, 228, 9, 43, 2, 1157, 15, 299, 120, 5, 120, 174, 11, 220, 175, 136, 50, 9, 4373, 228, 8255, 5, 2, 656, 245, 2350, 5, 4, 9837, 131, 152, 491, 18, 2, 32, 7464, 1212, 14, 9, 6, 371, 78, 22, 625, 64, 1382, 9, 8, 168, 145, 23, 4, 1690, 15, 16, 4, 1355, 5, 28, 6, 52, 154, 462, 33, 89, 78, 285, 16, 145, 95])\n",
      " list([1, 14, 47, 8, 30, 31, 7, 4, 249, 108, 7, 4, 5974, 54, 61, 369, 13, 71, 149, 14, 22, 112, 4, 2401, 311, 12, 16, 3711, 33, 75, 43, 1829, 296, 4, 86, 320, 35, 534, 19, 263, 4821, 1301, 4, 1873, 33, 89, 78, 12, 66, 16, 4, 360, 7, 4, 58, 316, 334, 11, 4, 1716, 43, 645, 662, 8, 257, 85, 1200, 42, 1228, 2578, 83, 68, 3912, 15, 36, 165, 1539, 278, 36, 69, 2, 780, 8, 106, 14, 6905, 1338, 18, 6, 22, 12, 215, 28, 610, 40, 6, 87, 326, 23, 2300, 21, 23, 22, 12, 272, 40, 57, 31, 11, 4, 22, 47, 6, 2307, 51, 9, 170, 23, 595, 116, 595, 1352, 13, 191, 79, 638, 89, 2, 14, 9, 8, 106, 607, 624, 35, 534, 6, 227, 7, 129, 113])\n",
      " ...\n",
      " list([1, 11, 6, 230, 245, 6401, 9, 6, 1225, 446, 2, 45, 2174, 84, 8322, 4007, 21, 4, 912, 84, 2, 325, 725, 134, 2, 1715, 84, 5, 36, 28, 57, 1099, 21, 8, 140, 8, 703, 5, 2, 84, 56, 18, 1644, 14, 9, 31, 7, 4, 9406, 1209, 2295, 2, 1008, 18, 6, 20, 207, 110, 563, 12, 8, 2901, 2, 8, 97, 6, 20, 53, 4767, 74, 4, 460, 364, 1273, 29, 270, 11, 960, 108, 45, 40, 29, 2961, 395, 11, 6, 4065, 500, 7, 2, 89, 364, 70, 29, 140, 4, 64, 4780, 11, 4, 2678, 26, 178, 4, 529, 443, 2, 5, 27, 710, 117, 2, 8123, 165, 47, 84, 37, 131, 818, 14, 595, 10, 10, 61, 1242, 1209, 10, 10, 288, 2260, 1702, 34, 2901, 2, 4, 65, 496, 4, 231, 7, 790, 5, 6, 320, 234, 2766, 234, 1119, 1574, 7, 496, 4, 139, 929, 2901, 2, 7750, 5, 4241, 18, 4, 8497, 2, 250, 11, 1818, 7561, 4, 4217, 5408, 747, 1115, 372, 1890, 1006, 541, 9303, 7, 4, 59, 2, 4, 3586, 2])\n",
      " list([1, 1446, 7079, 69, 72, 3305, 13, 610, 930, 8, 12, 582, 23, 5, 16, 484, 685, 54, 349, 11, 4120, 2959, 45, 58, 1466, 13, 197, 12, 16, 43, 23, 2, 5, 62, 30, 145, 402, 11, 4131, 51, 575, 32, 61, 369, 71, 66, 770, 12, 1054, 75, 100, 2198, 8, 4, 105, 37, 69, 147, 712, 75, 3543, 44, 257, 390, 5, 69, 263, 514, 105, 50, 286, 1814, 23, 4, 123, 13, 161, 40, 5, 421, 4, 116, 16, 897, 13, 2, 40, 319, 5872, 112, 6700, 11, 4803, 121, 25, 70, 3468, 4, 719, 3798, 13, 18, 31, 62, 40, 8, 7200, 4, 2, 7, 14, 123, 5, 942, 25, 8, 721, 12, 145, 5, 202, 12, 160, 580, 202, 12, 6, 52, 58, 2, 92, 401, 728, 12, 39, 14, 251, 8, 15, 251, 5, 2, 12, 38, 84, 80, 124, 12, 9, 23])\n",
      " list([1, 17, 6, 194, 337, 7, 4, 204, 22, 45, 254, 8, 106, 14, 123, 4, 2, 270, 2, 5, 2, 2, 732, 2098, 101, 405, 39, 14, 1034, 4, 1310, 9, 115, 50, 305, 12, 47, 4, 168, 5, 235, 7, 38, 111, 699, 102, 7, 4, 4039, 9245, 9, 24, 6, 78, 1099, 17, 2345, 2, 21, 27, 9685, 6139, 5, 2, 1603, 92, 1183, 4, 1310, 7, 4, 204, 42, 97, 90, 35, 221, 109, 29, 127, 27, 118, 8, 97, 12, 157, 21, 6789, 2, 9, 6, 66, 78, 1099, 4, 631, 1191, 5, 2642, 272, 191, 1070, 6, 7585, 8, 2197, 2, 2, 544, 5, 383, 1271, 848, 1468, 2, 497, 2, 8, 1597, 8778, 2, 21, 60, 27, 239, 9, 43, 8368, 209, 405, 10, 10, 12, 764, 40, 4, 248, 20, 12, 16, 5, 174, 1791, 72, 7, 51, 6, 1739, 22, 4, 204, 131, 9])]\n"
     ]
    },
    {
     "data": {
      "text/plain": [
       "[1,\n",
       " 14,\n",
       " 22,\n",
       " 16,\n",
       " 43,\n",
       " 530,\n",
       " 973,\n",
       " 1622,\n",
       " 1385,\n",
       " 65,\n",
       " 458,\n",
       " 4468,\n",
       " 66,\n",
       " 3941,\n",
       " 4,\n",
       " 173,\n",
       " 36,\n",
       " 256,\n",
       " 5,\n",
       " 25,\n",
       " 100,\n",
       " 43,\n",
       " 838,\n",
       " 112,\n",
       " 50,\n",
       " 670,\n",
       " 2,\n",
       " 9,\n",
       " 35,\n",
       " 480,\n",
       " 284,\n",
       " 5,\n",
       " 150,\n",
       " 4,\n",
       " 172,\n",
       " 112,\n",
       " 167,\n",
       " 2,\n",
       " 336,\n",
       " 385,\n",
       " 39,\n",
       " 4,\n",
       " 172,\n",
       " 4536,\n",
       " 1111,\n",
       " 17,\n",
       " 546,\n",
       " 38,\n",
       " 13,\n",
       " 447,\n",
       " 4,\n",
       " 192,\n",
       " 50,\n",
       " 16,\n",
       " 6,\n",
       " 147,\n",
       " 2025,\n",
       " 19,\n",
       " 14,\n",
       " 22,\n",
       " 4,\n",
       " 1920,\n",
       " 4613,\n",
       " 469,\n",
       " 4,\n",
       " 22,\n",
       " 71,\n",
       " 87,\n",
       " 12,\n",
       " 16,\n",
       " 43,\n",
       " 530,\n",
       " 38,\n",
       " 76,\n",
       " 15,\n",
       " 13,\n",
       " 1247,\n",
       " 4,\n",
       " 22,\n",
       " 17,\n",
       " 515,\n",
       " 17,\n",
       " 12,\n",
       " 16,\n",
       " 626,\n",
       " 18,\n",
       " 2,\n",
       " 5,\n",
       " 62,\n",
       " 386,\n",
       " 12,\n",
       " 8,\n",
       " 316,\n",
       " 8,\n",
       " 106,\n",
       " 5,\n",
       " 4,\n",
       " 2223,\n",
       " 5244,\n",
       " 16,\n",
       " 480,\n",
       " 66,\n",
       " 3785,\n",
       " 33,\n",
       " 4,\n",
       " 130,\n",
       " 12,\n",
       " 16,\n",
       " 38,\n",
       " 619,\n",
       " 5,\n",
       " 25,\n",
       " 124,\n",
       " 51,\n",
       " 36,\n",
       " 135,\n",
       " 48,\n",
       " 25,\n",
       " 1415,\n",
       " 33,\n",
       " 6,\n",
       " 22,\n",
       " 12,\n",
       " 215,\n",
       " 28,\n",
       " 77,\n",
       " 52,\n",
       " 5,\n",
       " 14,\n",
       " 407,\n",
       " 16,\n",
       " 82,\n",
       " 2,\n",
       " 8,\n",
       " 4,\n",
       " 107,\n",
       " 117,\n",
       " 5952,\n",
       " 15,\n",
       " 256,\n",
       " 4,\n",
       " 2,\n",
       " 7,\n",
       " 3766,\n",
       " 5,\n",
       " 723,\n",
       " 36,\n",
       " 71,\n",
       " 43,\n",
       " 530,\n",
       " 476,\n",
       " 26,\n",
       " 400,\n",
       " 317,\n",
       " 46,\n",
       " 7,\n",
       " 4,\n",
       " 2,\n",
       " 1029,\n",
       " 13,\n",
       " 104,\n",
       " 88,\n",
       " 4,\n",
       " 381,\n",
       " 15,\n",
       " 297,\n",
       " 98,\n",
       " 32,\n",
       " 2071,\n",
       " 56,\n",
       " 26,\n",
       " 141,\n",
       " 6,\n",
       " 194,\n",
       " 7486,\n",
       " 18,\n",
       " 4,\n",
       " 226,\n",
       " 22,\n",
       " 21,\n",
       " 134,\n",
       " 476,\n",
       " 26,\n",
       " 480,\n",
       " 5,\n",
       " 144,\n",
       " 30,\n",
       " 5535,\n",
       " 18,\n",
       " 51,\n",
       " 36,\n",
       " 28,\n",
       " 224,\n",
       " 92,\n",
       " 25,\n",
       " 104,\n",
       " 4,\n",
       " 226,\n",
       " 65,\n",
       " 16,\n",
       " 38,\n",
       " 1334,\n",
       " 88,\n",
       " 12,\n",
       " 16,\n",
       " 283,\n",
       " 5,\n",
       " 16,\n",
       " 4472,\n",
       " 113,\n",
       " 103,\n",
       " 32,\n",
       " 15,\n",
       " 16,\n",
       " 5345,\n",
       " 19,\n",
       " 178,\n",
       " 32]"
      ]
     },
     "execution_count": 3,
     "metadata": {},
     "output_type": "execute_result"
    }
   ],
   "source": [
    "print(train_data)\n",
    "train_data.take(0)"
   ]
  },
  {
   "cell_type": "code",
   "execution_count": 4,
   "metadata": {},
   "outputs": [
    {
     "data": {
      "text/plain": [
       "1"
      ]
     },
     "execution_count": 4,
     "metadata": {},
     "output_type": "execute_result"
    }
   ],
   "source": [
    "min([ j for i in train_data for j in i ])  # 词的index是从1开始"
   ]
  },
  {
   "cell_type": "code",
   "execution_count": 5,
   "metadata": {},
   "outputs": [
    {
     "data": {
      "text/plain": [
       "1"
      ]
     },
     "execution_count": 5,
     "metadata": {},
     "output_type": "execute_result"
    }
   ],
   "source": [
    "max(train_labels)"
   ]
  },
  {
   "cell_type": "code",
   "execution_count": 6,
   "metadata": {},
   "outputs": [
    {
     "name": "stdout",
     "output_type": "stream",
     "text": [
      "[1, 14, 22, 16, 43, 530, 973, 1622, 1385, 65, 458, 4468, 66, 3941, 4, 173, 36, 256, 5, 25, 100, 43, 838, 112, 50, 670, 2, 9, 35, 480, 284, 5, 150, 4, 172, 112, 167, 2, 336, 385, 39, 4, 172, 4536, 1111, 17, 546, 38, 13, 447, 4, 192, 50, 16, 6, 147, 2025, 19, 14, 22, 4, 1920, 4613, 469, 4, 22, 71, 87, 12, 16, 43, 530, 38, 76, 15, 13, 1247, 4, 22, 17, 515, 17, 12, 16, 626, 18, 2, 5, 62, 386, 12, 8, 316, 8, 106, 5, 4, 2223, 5244, 16, 480, 66, 3785, 33, 4, 130, 12, 16, 38, 619, 5, 25, 124, 51, 36, 135, 48, 25, 1415, 33, 6, 22, 12, 215, 28, 77, 52, 5, 14, 407, 16, 82, 2, 8, 4, 107, 117, 5952, 15, 256, 4, 2, 7, 3766, 5, 723, 36, 71, 43, 530, 476, 26, 400, 317, 46, 7, 4, 2, 1029, 13, 104, 88, 4, 381, 15, 297, 98, 32, 2071, 56, 26, 141, 6, 194, 7486, 18, 4, 226, 22, 21, 134, 476, 26, 480, 5, 144, 30, 5535, 18, 51, 36, 28, 224, 92, 25, 104, 4, 226, 65, 16, 38, 1334, 88, 12, 16, 283, 5, 16, 4472, 113, 103, 32, 15, 16, 5345, 19, 178, 32] 1\n",
      "<class 'list'>\n",
      "--------------------------------------------------\n",
      "(25000,) (25000,)\n",
      "218 189\n",
      "<class 'numpy.ndarray'>\n",
      "<class 'numpy.ndarray'>\n",
      "[0 1]\n"
     ]
    }
   ],
   "source": [
    "# train_data每个样本都是一个向量，\n",
    "# train_labels的每个样本都是一个值，0或者1\n",
    "# label为pos(positive)1和neg(negative)0。\n",
    "print(train_data[0], train_labels[0])\n",
    "print(type(train_data[0]))\n",
    "print('-'*50)\n",
    "# 两个形状,train_data.shape显示的只有一维，是因为另外一维是变长的\n",
    "print(train_data.shape, train_labels.shape)\n",
    "# 打印第一个样本，第二个样本长度，可以看出是不同的，我们要把它都变为一样的长度\n",
    "print(len(train_data[0]), len(train_data[1]))\n",
    "print(type(train_data))\n",
    "print(type(train_labels))\n",
    "\n",
    "print(np.unique(train_labels))"
   ]
  },
  {
   "cell_type": "code",
   "execution_count": 7,
   "metadata": {},
   "outputs": [
    {
     "name": "stdout",
     "output_type": "stream",
     "text": [
      "(25000,) (25000,)\n"
     ]
    }
   ],
   "source": [
    "print(test_data.shape, test_labels.shape)"
   ]
  },
  {
   "cell_type": "code",
   "execution_count": 8,
   "metadata": {},
   "outputs": [
    {
     "name": "stdout",
     "output_type": "stream",
     "text": [
      "(25000,) (25000,)\n"
     ]
    }
   ],
   "source": [
    "print(train_data.shape, train_labels.shape)"
   ]
  },
  {
   "cell_type": "code",
   "execution_count": 9,
   "metadata": {},
   "outputs": [
    {
     "name": "stdout",
     "output_type": "stream",
     "text": [
      "88584\n",
      "<class 'dict'>\n"
     ]
    }
   ],
   "source": [
    "#载入词表，看下词表长度，词表就像英语字典\n",
    "word_index = imdb.get_word_index()\n",
    "print(len(word_index))\n",
    "print(type(word_index))\n",
    "#词表虽然有8万多，但是我们只载入了最高频的1万词！！！！"
   ]
  },
  {
   "cell_type": "code",
   "execution_count": 10,
   "metadata": {},
   "outputs": [
    {
     "name": "stdout",
     "output_type": "stream",
     "text": [
      "fawn 34701\n"
     ]
    }
   ],
   "source": [
    "for key, value in word_index.items():\n",
    "    print(key,value)\n",
    "    break"
   ]
  },
  {
   "cell_type": "code",
   "execution_count": 11,
   "metadata": {},
   "outputs": [
    {
     "name": "stdout",
     "output_type": "stream",
     "text": [
      "<class 'dict'>\n"
     ]
    },
    {
     "data": {
      "text/plain": [
       "'of'"
      ]
     },
     "execution_count": 11,
     "metadata": {},
     "output_type": "execute_result"
    }
   ],
   "source": [
    "# 为什么要翻过来，是因为原来的key，是单词，是一个字符串，而value是数值\n",
    "reverse_word_index = dict(\n",
    "    [(value, key) for key, value in word_index.items()])\n",
    "print(type(reverse_word_index))\n",
    "reverse_word_index.get(4)"
   ]
  },
  {
   "cell_type": "code",
   "execution_count": 12,
   "metadata": {},
   "outputs": [],
   "source": [
    "# 需要注意的一点是取出来的词表还是从1开始的，需要做处理，偏移3,是因为index_from的缘故\n",
    "word_index = {k:(v+3) for k, v in word_index.items()}"
   ]
  },
  {
   "cell_type": "code",
   "execution_count": 13,
   "metadata": {},
   "outputs": [
    {
     "data": {
      "text/plain": [
       "7"
      ]
     },
     "execution_count": 13,
     "metadata": {},
     "output_type": "execute_result"
    }
   ],
   "source": [
    "word_index['of']"
   ]
  },
  {
   "cell_type": "code",
   "execution_count": 14,
   "metadata": {},
   "outputs": [
    {
     "data": {
      "text/plain": [
       "\"<START> this film was just brilliant casting location scenery story direction everyone's really suited the part they played and you could just imagine being there robert <UNK> is an amazing actor and now the same being director <UNK> father came from the same scottish island as myself so i loved the fact there was a real connection with this film the witty remarks throughout the film were great it was just brilliant so much that i bought the film as soon as it was released for <UNK> and would recommend it to everyone to watch and the fly fishing was amazing really cried at the end it was so sad and you know what they say if you cry at a film it must have been good and this definitely was also <UNK> to the two little boy's that played the <UNK> of norman and paul they were just brilliant children are often left out of the <UNK> list i think because the stars that play them all grown up are such a big profile for the whole film but these children are amazing and should be praised for what they have done don't you think the whole story was so lovely because it was true and was someone's life after all that was shared with us all\""
      ]
     },
     "execution_count": 14,
     "metadata": {},
     "output_type": "execute_result"
    }
   ],
   "source": [
    "# 不超过3的id都是特殊字符，下面的代码中给这些id的意义做了明确，因为我们做了偏移，因此\n",
    "# 对于这些多余槽位我们给与新的释义\n",
    "word_index['<PAD>'] = 0   # 做padding时，我们来填充的字符\n",
    "word_index['<START>'] = 1  # 起始\n",
    "word_index['<UNK>'] = 2  # 找不到就返回UNK，排名到1万名以后的词，标记为UNK\n",
    "word_index['<END>'] = 3  # 每个句子末尾\n",
    "\n",
    "reverse_word_index = dict(\n",
    "    [(value, key) for key, value in word_index.items()])\n",
    "\n",
    "\n",
    "def decode_review(text_ids):\n",
    "    return ' '.join(\n",
    "        [reverse_word_index.get(word_id, \"<UNK>\") for word_id in text_ids])\n",
    "# 有了reverse我们可以反向转回来看看这句话是什么，就是把数字解释为了真实的文本\n",
    "decode_review(train_data[0])"
   ]
  },
  {
   "cell_type": "code",
   "execution_count": 15,
   "metadata": {},
   "outputs": [
    {
     "name": "stdout",
     "output_type": "stream",
     "text": [
      "[   1   14   22   16   43  530  973 1622 1385   65  458 4468   66 3941\n",
      "    4  173   36  256    5   25  100   43  838  112   50  670    2    9\n",
      "   35  480  284    5  150    4  172  112  167    2  336  385   39    4\n",
      "  172 4536 1111   17  546   38   13  447    4  192   50   16    6  147\n",
      " 2025   19   14   22    4 1920 4613  469    4   22   71   87   12   16\n",
      "   43  530   38   76   15   13 1247    4   22   17  515   17   12   16\n",
      "  626   18    2    5   62  386   12    8  316    8  106    5    4 2223\n",
      " 5244   16  480   66 3785   33    4  130   12   16   38  619    5   25\n",
      "  124   51   36  135   48   25 1415   33    6   22   12  215   28   77\n",
      "   52    5   14  407   16   82    2    8    4  107  117 5952   15  256\n",
      "    4    2    7 3766    5  723   36   71   43  530  476   26  400  317\n",
      "   46    7    4    2 1029   13  104   88    4  381   15  297   98   32\n",
      " 2071   56   26  141    6  194 7486   18    4  226   22   21  134  476\n",
      "   26  480    5  144   30 5535   18   51   36   28  224   92   25  104\n",
      "    4  226   65   16   38 1334   88   12   16  283    5   16 4472  113\n",
      "  103   32   15   16 5345   19  178   32    0    0    0    0    0    0\n",
      "    0    0    0    0    0    0    0    0    0    0    0    0    0    0\n",
      "    0    0    0    0    0    0    0    0    0    0    0    0    0    0\n",
      "    0    0    0    0    0    0    0    0    0    0    0    0    0    0\n",
      "    0    0    0    0    0    0    0    0    0    0    0    0    0    0\n",
      "    0    0    0    0    0    0    0    0    0    0    0    0    0    0\n",
      "    0    0    0    0    0    0    0    0    0    0    0    0    0    0\n",
      "    0    0    0    0    0    0    0    0    0    0    0    0    0    0\n",
      "    0    0    0    0    0    0    0    0    0    0    0    0    0    0\n",
      "    0    0    0    0    0    0    0    0    0    0    0    0    0    0\n",
      "    0    0    0    0    0    0    0    0    0    0    0    0    0    0\n",
      "    0    0    0    0    0    0    0    0    0    0    0    0    0    0\n",
      "    0    0    0    0    0    0    0    0    0    0    0    0    0    0\n",
      "    0    0    0    0    0    0    0    0    0    0    0    0    0    0\n",
      "    0    0    0    0    0    0    0    0    0    0    0    0    0    0\n",
      "    0    0    0    0    0    0    0    0    0    0    0    0    0    0\n",
      "    0    0    0    0    0    0    0    0    0    0    0    0    0    0\n",
      "    0    0    0    0    0    0    0    0    0    0    0    0    0    0\n",
      "    0    0    0    0    0    0    0    0    0    0    0    0    0    0\n",
      "    0    0    0    0    0    0    0    0    0    0    0    0    0    0\n",
      "    0    0    0    0    0    0    0    0    0    0]\n"
     ]
    }
   ],
   "source": [
    "# 长度低于500会被补全，高于500会被截断\n",
    "max_length = 500\n",
    "\n",
    "# pad_sequences用来做padding\n",
    "train_data = keras.preprocessing.sequence.pad_sequences(\n",
    "    train_data,  # list of list\n",
    "    value = word_index['<PAD>'],  # 填充啥内容\n",
    "    padding = 'post',  # pre，post padding的顺序，一个是零放前面，一个是后面\n",
    "    maxlen = max_length)\n",
    "\n",
    "# 对应test一样的\n",
    "test_data = keras.preprocessing.sequence.pad_sequences(\n",
    "    test_data, # list of list\n",
    "    value = word_index['<PAD>'],\n",
    "    padding = 'post', # post, pre\n",
    "    maxlen = max_length)\n",
    "\n",
    "print(train_data[0])"
   ]
  },
  {
   "cell_type": "code",
   "execution_count": 16,
   "metadata": {},
   "outputs": [
    {
     "data": {
      "text/plain": [
       "numpy.ndarray"
      ]
     },
     "execution_count": 16,
     "metadata": {},
     "output_type": "execute_result"
    }
   ],
   "source": [
    "type(train_data[0])"
   ]
  },
  {
   "cell_type": "code",
   "execution_count": 17,
   "metadata": {},
   "outputs": [
    {
     "name": "stdout",
     "output_type": "stream",
     "text": [
      "(25000, 500)\n"
     ]
    }
   ],
   "source": [
    "# 每个样本保留500个词\n",
    "print(train_data.shape)"
   ]
  },
  {
   "attachments": {
    "image.png": {
     "image/png": "[encoded data removed]"
    }
   },
   "cell_type": "markdown",
   "metadata": {},
   "source": [
    "![image.png](attachment:image.png)"
   ]
  },
  {
   "cell_type": "code",
   "execution_count": 18,
   "metadata": {},
   "outputs": [
    {
     "data": {
      "text/plain": [
       "array([1.0601315], dtype=float32)"
      ]
     },
     "execution_count": 18,
     "metadata": {},
     "output_type": "execute_result"
    }
   ],
   "source": [
    "#上图是交叉熵损失的公式\n",
    "y_true = [[0,1]]\n",
    "y_pred = [[0.6,0.3]]\n",
    "loss = tf.keras.losses.binary_crossentropy(y_true, y_pred)\n",
    "# assert loss.shape == (2,)\n",
    "loss.numpy()"
   ]
  },
  {
   "cell_type": "code",
   "execution_count": 19,
   "metadata": {},
   "outputs": [
    {
     "data": {
      "text/plain": [
       "1.0601317681000455"
      ]
     },
     "execution_count": 19,
     "metadata": {},
     "output_type": "execute_result"
    }
   ],
   "source": [
    "# 手算\n",
    "(-1*np.log(0.4)-1*np.log(0.3))/2"
   ]
  },
  {
   "cell_type": "code",
   "execution_count": 20,
   "metadata": {},
   "outputs": [
    {
     "name": "stdout",
     "output_type": "stream",
     "text": [
      "Model: \"sequential\"\n",
      "_________________________________________________________________\n",
      "Layer (type)                 Output Shape              Param #   \n",
      "=================================================================\n",
      "embedding (Embedding)        (None, 500, 16)           160000    \n",
      "_________________________________________________________________\n",
      "global_average_pooling1d (Gl (None, 16)                0         \n",
      "_________________________________________________________________\n",
      "dense (Dense)                (None, 64)                1088      \n",
      "_________________________________________________________________\n",
      "dense_1 (Dense)              (None, 1)                 65        \n",
      "=================================================================\n",
      "Total params: 161,153\n",
      "Trainable params: 161,153\n",
      "Non-trainable params: 0\n",
      "_________________________________________________________________\n"
     ]
    }
   ],
   "source": [
    "# embedding_dim，每个词的向量维度是16（稠密向量，超参数）\n",
    "embedding_dim = 16\n",
    "batch_size = 128\n",
    "# vocab_size为词袋大小10000（高频词）\n",
    "model = keras.models.Sequential([\n",
    "    # 1. define matrix: [vocab_size, embedding_dim]\n",
    "    # 2. [1,2,3,4..], max_length * embedding_dim\n",
    "    # 3. batch_size * max_length * embedding_dim 128 500 16\n",
    "    keras.layers.Embedding(vocab_size, embedding_dim,\n",
    "                           input_length = max_length),\n",
    "    # GlobalAveragePooling1D是把batch_size * max_length * embedding_dim \n",
    "    #   -> batch_size * embedding_dim，消除维度max_length\n",
    "    keras.layers.GlobalAveragePooling1D(),  # 抽象上 让一个词表示整篇文章\n",
    "    keras.layers.Dense(64, activation = 'relu'),\n",
    "    keras.layers.Dense(1, activation = 'sigmoid'),\n",
    "])\n",
    "\n",
    "model.summary()\n",
    "model.compile(optimizer = 'adam', loss = 'binary_crossentropy',\n",
    "              metrics = ['accuracy'])\n",
    "# 160000 是vocab_size*embedding_dim的结果\n",
    "# 1088 是embedding_dim*64+64得到的结果  wx+b\n",
    "# 65是 w*1+1"
   ]
  },
  {
   "cell_type": "code",
   "execution_count": 21,
   "metadata": {},
   "outputs": [
    {
     "data": {
      "image/png": "[encoded data removed]",
      "text/plain": [
       "<IPython.core.display.Image object>"
      ]
     },
     "execution_count": 21,
     "metadata": {},
     "output_type": "execute_result"
    }
   ],
   "source": [
    "from tensorflow.keras.utils import plot_model\n",
    "\n",
    "plot_model(model)"
   ]
  },
  {
   "cell_type": "code",
   "execution_count": 22,
   "metadata": {
    "scrolled": true
   },
   "outputs": [
    {
     "data": {
      "text/plain": [
       "[<tf.Variable 'embedding/embeddings:0' shape=(10000, 16) dtype=float32, numpy=\n",
       " array([[-0.03574824, -0.04284447, -0.03033851, ..., -0.02152537,\n",
       "          0.01829283, -0.01809118],\n",
       "        [ 0.02878923, -0.0152908 , -0.00711345, ..., -0.00588162,\n",
       "         -0.03902704, -0.01343545],\n",
       "        [-0.02720218, -0.02613615,  0.0478767 , ...,  0.04107874,\n",
       "         -0.01875036,  0.01581284],\n",
       "        ...,\n",
       "        [ 0.00679564,  0.02115753, -0.04238342, ...,  0.03172276,\n",
       "         -0.03460776, -0.034361  ],\n",
       "        [ 0.0336876 , -0.0124779 ,  0.0308053 , ...,  0.00479848,\n",
       "          0.01870101, -0.00526876],\n",
       "        [-0.00779905, -0.04085337, -0.00376653, ...,  0.04469719,\n",
       "         -0.01437086,  0.01333729]], dtype=float32)>,\n",
       " <tf.Variable 'dense/kernel:0' shape=(16, 64) dtype=float32, numpy=\n",
       " array([[-0.1405581 , -0.03399101, -0.26950744, ..., -0.08481126,\n",
       "          0.17124036, -0.1743382 ],\n",
       "        [-0.21289572, -0.15851861,  0.01014251, ..., -0.02943815,\n",
       "         -0.19770385, -0.1530182 ],\n",
       "        [ 0.01232699,  0.07824612, -0.20881343, ...,  0.17685083,\n",
       "         -0.25056022, -0.22801459],\n",
       "        ...,\n",
       "        [-0.19326943, -0.10443917,  0.17184609, ..., -0.19552141,\n",
       "          0.21580017,  0.24342436],\n",
       "        [ 0.26740324, -0.2140981 ,  0.19827557, ..., -0.11078055,\n",
       "          0.04289803, -0.12999594],\n",
       "        [-0.17255269,  0.0292123 , -0.09809406, ...,  0.09159017,\n",
       "          0.23198557,  0.07905209]], dtype=float32)>,\n",
       " <tf.Variable 'dense/bias:0' shape=(64,) dtype=float32, numpy=\n",
       " array([0., 0., 0., 0., 0., 0., 0., 0., 0., 0., 0., 0., 0., 0., 0., 0., 0.,\n",
       "        0., 0., 0., 0., 0., 0., 0., 0., 0., 0., 0., 0., 0., 0., 0., 0., 0.,\n",
       "        0., 0., 0., 0., 0., 0., 0., 0., 0., 0., 0., 0., 0., 0., 0., 0., 0.,\n",
       "        0., 0., 0., 0., 0., 0., 0., 0., 0., 0., 0., 0., 0.], dtype=float32)>,\n",
       " <tf.Variable 'dense_1/kernel:0' shape=(64, 1) dtype=float32, numpy=\n",
       " array([[-0.03918076],\n",
       "        [-0.12294677],\n",
       "        [-0.26642987],\n",
       "        [ 0.14907146],\n",
       "        [-0.174114  ],\n",
       "        [-0.15215284],\n",
       "        [ 0.08713374],\n",
       "        [ 0.12418529],\n",
       "        [ 0.22823083],\n",
       "        [ 0.10579845],\n",
       "        [ 0.06734902],\n",
       "        [-0.21936518],\n",
       "        [-0.2854829 ],\n",
       "        [-0.27875802],\n",
       "        [-0.25916028],\n",
       "        [-0.10635281],\n",
       "        [-0.15114199],\n",
       "        [ 0.28156185],\n",
       "        [ 0.03368527],\n",
       "        [-0.08509588],\n",
       "        [-0.24802746],\n",
       "        [-0.16730487],\n",
       "        [ 0.13620177],\n",
       "        [-0.15812808],\n",
       "        [ 0.11598879],\n",
       "        [-0.20494989],\n",
       "        [-0.01188949],\n",
       "        [-0.20844664],\n",
       "        [-0.17751709],\n",
       "        [ 0.04142949],\n",
       "        [ 0.04563865],\n",
       "        [ 0.024645  ],\n",
       "        [-0.11085382],\n",
       "        [-0.22375521],\n",
       "        [-0.25942415],\n",
       "        [-0.12853809],\n",
       "        [-0.15379041],\n",
       "        [ 0.2632327 ],\n",
       "        [ 0.21303159],\n",
       "        [-0.19003893],\n",
       "        [ 0.17316094],\n",
       "        [ 0.03525019],\n",
       "        [ 0.17027733],\n",
       "        [ 0.25122154],\n",
       "        [-0.01404303],\n",
       "        [ 0.06953436],\n",
       "        [ 0.13298586],\n",
       "        [ 0.03263992],\n",
       "        [ 0.16811094],\n",
       "        [ 0.01404166],\n",
       "        [ 0.3037458 ],\n",
       "        [-0.02726063],\n",
       "        [-0.17101002],\n",
       "        [ 0.29173487],\n",
       "        [ 0.08173808],\n",
       "        [-0.12348881],\n",
       "        [-0.08925585],\n",
       "        [ 0.12845841],\n",
       "        [-0.16748032],\n",
       "        [ 0.24006236],\n",
       "        [-0.04772568],\n",
       "        [ 0.23254222],\n",
       "        [ 0.29288393],\n",
       "        [ 0.02267545]], dtype=float32)>,\n",
       " <tf.Variable 'dense_1/bias:0' shape=(1,) dtype=float32, numpy=array([0.], dtype=float32)>]"
      ]
     },
     "execution_count": 22,
     "metadata": {},
     "output_type": "execute_result"
    }
   ],
   "source": [
    "model.variables"
   ]
  },
  {
   "cell_type": "code",
   "execution_count": 23,
   "metadata": {
    "collapsed": true
   },
   "outputs": [
    {
     "name": "stdout",
     "output_type": "stream",
     "text": [
      "Epoch 1/30\n",
      "157/157 [==============================] - 2s 8ms/step - loss: 0.6852 - accuracy: 0.5921 - val_loss: 0.6528 - val_accuracy: 0.7614\n",
      "Epoch 2/30\n",
      "157/157 [==============================] - 1s 8ms/step - loss: 0.5424 - accuracy: 0.8051 - val_loss: 0.4299 - val_accuracy: 0.8486\n",
      "Epoch 3/30\n",
      "157/157 [==============================] - 1s 8ms/step - loss: 0.3544 - accuracy: 0.8724 - val_loss: 0.3345 - val_accuracy: 0.8736\n",
      "Epoch 4/30\n",
      "157/157 [==============================] - 1s 8ms/step - loss: 0.2757 - accuracy: 0.8975 - val_loss: 0.3079 - val_accuracy: 0.8770\n",
      "Epoch 5/30\n",
      "157/157 [==============================] - 1s 8ms/step - loss: 0.2367 - accuracy: 0.9121 - val_loss: 0.2891 - val_accuracy: 0.8872\n",
      "Epoch 6/30\n",
      "157/157 [==============================] - 1s 8ms/step - loss: 0.2073 - accuracy: 0.9248 - val_loss: 0.2835 - val_accuracy: 0.8880\n",
      "Epoch 7/30\n",
      "157/157 [==============================] - 1s 8ms/step - loss: 0.1866 - accuracy: 0.9326 - val_loss: 0.2801 - val_accuracy: 0.8928\n",
      "Epoch 8/30\n",
      "157/157 [==============================] - 1s 8ms/step - loss: 0.1689 - accuracy: 0.9399 - val_loss: 0.2807 - val_accuracy: 0.8956\n",
      "Epoch 9/30\n",
      "157/157 [==============================] - 1s 8ms/step - loss: 0.1526 - accuracy: 0.9472 - val_loss: 0.2833 - val_accuracy: 0.8954\n",
      "Epoch 10/30\n",
      "157/157 [==============================] - 1s 7ms/step - loss: 0.1393 - accuracy: 0.9518 - val_loss: 0.2933 - val_accuracy: 0.8938\n",
      "Epoch 11/30\n",
      "157/157 [==============================] - 1s 8ms/step - loss: 0.1275 - accuracy: 0.9569 - val_loss: 0.3031 - val_accuracy: 0.8922\n",
      "Epoch 12/30\n",
      "157/157 [==============================] - 1s 8ms/step - loss: 0.1177 - accuracy: 0.9599 - val_loss: 0.3076 - val_accuracy: 0.8976\n",
      "Epoch 13/30\n",
      "157/157 [==============================] - 1s 8ms/step - loss: 0.1067 - accuracy: 0.9661 - val_loss: 0.3183 - val_accuracy: 0.8970\n",
      "Epoch 14/30\n",
      "157/157 [==============================] - 1s 8ms/step - loss: 0.0977 - accuracy: 0.9699 - val_loss: 0.3320 - val_accuracy: 0.8944\n",
      "Epoch 15/30\n",
      "157/157 [==============================] - 1s 8ms/step - loss: 0.0894 - accuracy: 0.9729 - val_loss: 0.3425 - val_accuracy: 0.8922\n",
      "Epoch 16/30\n",
      "157/157 [==============================] - 1s 7ms/step - loss: 0.0823 - accuracy: 0.9748 - val_loss: 0.3561 - val_accuracy: 0.8902\n",
      "Epoch 17/30\n",
      "157/157 [==============================] - 1s 8ms/step - loss: 0.0738 - accuracy: 0.9778 - val_loss: 0.3714 - val_accuracy: 0.8890\n",
      "Epoch 18/30\n",
      "157/157 [==============================] - 1s 7ms/step - loss: 0.0698 - accuracy: 0.9791 - val_loss: 0.3895 - val_accuracy: 0.8900\n",
      "Epoch 19/30\n",
      "157/157 [==============================] - 1s 8ms/step - loss: 0.0607 - accuracy: 0.9825 - val_loss: 0.4041 - val_accuracy: 0.8872\n",
      "Epoch 20/30\n",
      "157/157 [==============================] - 1s 8ms/step - loss: 0.0551 - accuracy: 0.9859 - val_loss: 0.4248 - val_accuracy: 0.8852\n",
      "Epoch 21/30\n",
      "157/157 [==============================] - 1s 8ms/step - loss: 0.0499 - accuracy: 0.9873 - val_loss: 0.4450 - val_accuracy: 0.8826\n",
      "Epoch 22/30\n",
      "157/157 [==============================] - 1s 8ms/step - loss: 0.0454 - accuracy: 0.9885 - val_loss: 0.4607 - val_accuracy: 0.8852\n",
      "Epoch 23/30\n",
      "157/157 [==============================] - 1s 8ms/step - loss: 0.0402 - accuracy: 0.9906 - val_loss: 0.4828 - val_accuracy: 0.8820\n",
      "Epoch 24/30\n",
      "157/157 [==============================] - 1s 8ms/step - loss: 0.0368 - accuracy: 0.9916 - val_loss: 0.4996 - val_accuracy: 0.8840\n",
      "Epoch 25/30\n",
      "157/157 [==============================] - 1s 8ms/step - loss: 0.0326 - accuracy: 0.9930 - val_loss: 0.5230 - val_accuracy: 0.8800\n",
      "Epoch 26/30\n",
      "157/157 [==============================] - 1s 8ms/step - loss: 0.0294 - accuracy: 0.9937 - val_loss: 0.5489 - val_accuracy: 0.8792\n",
      "Epoch 27/30\n",
      "157/157 [==============================] - 1s 8ms/step - loss: 0.0250 - accuracy: 0.9949 - val_loss: 0.5661 - val_accuracy: 0.8786\n",
      "Epoch 28/30\n",
      "157/157 [==============================] - 1s 8ms/step - loss: 0.0241 - accuracy: 0.9952 - val_loss: 0.5894 - val_accuracy: 0.8788\n",
      "Epoch 29/30\n",
      "157/157 [==============================] - 1s 7ms/step - loss: 0.0203 - accuracy: 0.9962 - val_loss: 0.6163 - val_accuracy: 0.8756\n",
      "Epoch 30/30\n",
      "157/157 [==============================] - 1s 7ms/step - loss: 0.0180 - accuracy: 0.9973 - val_loss: 0.6410 - val_accuracy: 0.8750\n"
     ]
    }
   ],
   "source": [
    "# validation_split将训练集分为训练集和验证集\n",
    "history = model.fit(train_data, train_labels,\n",
    "                    epochs = 30,\n",
    "                    batch_size = batch_size,\n",
    "                    validation_split = 0.2)\n"
   ]
  },
  {
   "cell_type": "code",
   "execution_count": 24,
   "metadata": {},
   "outputs": [
    {
     "data": {
      "image/png": "[encoded data removed]",
      "text/plain": [
       "<Figure size 576x360 with 1 Axes>"
      ]
     },
     "metadata": {
      "needs_background": "light"
     },
     "output_type": "display_data"
    },
    {
     "data": {
      "image/png": "[encoded data removed]",
      "text/plain": [
       "<Figure size 576x360 with 1 Axes>"
      ]
     },
     "metadata": {
      "needs_background": "light"
     },
     "output_type": "display_data"
    }
   ],
   "source": [
    "def plot_learning_curves(history, label, epochs, min_value, max_value):\n",
    "    data = {}\n",
    "    data[label] = history.history[label]\n",
    "    data['val_'+label] = history.history['val_'+label]\n",
    "    pd.DataFrame(data).plot(figsize=(8, 5))\n",
    "    plt.grid(True)\n",
    "    plt.axis([0, epochs, min_value, max_value])\n",
    "    plt.show()\n",
    "    \n",
    "plot_learning_curves(history, 'accuracy', 30, 0, 1)\n",
    "plot_learning_curves(history, 'loss', 30, 0, 1)\n",
    "# 可以看出我们loss发生了过拟合"
   ]
  },
  {
   "cell_type": "code",
   "execution_count": 25,
   "metadata": {},
   "outputs": [
    {
     "data": {
      "text/plain": [
       "[0.7037656903266907, 0.8555600047111511]"
      ]
     },
     "execution_count": 25,
     "metadata": {},
     "output_type": "execute_result"
    }
   ],
   "source": [
    "model.evaluate(\n",
    "    test_data, test_labels,\n",
    "    batch_size = batch_size,\n",
    "    verbose = 0)"
   ]
  },
  {
   "cell_type": "code",
   "execution_count": 28,
   "metadata": {},
   "outputs": [
    {
     "name": "stdout",
     "output_type": "stream",
     "text": [
      "[[363 157 647 953 249 602   7 818 517 773]\n",
      " [ 37 334 257 327 279 997 103  74 114  85]\n",
      " [596 434 564 352 269 696 206 460 602 341]\n",
      " [472 996 758 465 370 680 410 625  83  96]\n",
      " [ 97 729 158 650 998 102 754 872 607 569]\n",
      " [636 184  11 366 907 696 960 173 863 340]\n",
      " [136 753 662  13 908 639 236  58 513 402]\n",
      " [668 808  31 100 348 709 983 102 622 368]\n",
      " [484 639 722 543 413 751 722 950 723 895]\n",
      " [276 599 700  46 351 527 597 312 579 131]\n",
      " [972 125 674 711 376 829 924 796 835 506]\n",
      " [837 858 258 298 331 255 157 633 848 787]\n",
      " [973 597 711 226 543 207  76 289 680 778]\n",
      " [899 566 530 310 366 135 273 516 534 509]\n",
      " [ 74 574 453 299 809 848 929 414 688 712]\n",
      " [668 590 374 624 790 798  34  90 537 936]\n",
      " [264 921  87 804 333 565 237 380 376 149]\n",
      " [128 501 382 486 324 258  26 960 787 442]\n",
      " [630  25 871 959 929 456 983 389  63 340]\n",
      " [699 372 613   6  24  44 907 828 168 206]\n",
      " [121 793 162 947 358 566 623 200 595 739]\n",
      " [ 16 873  84 881 939 230 100 672 120 856]\n",
      " [895 324 332 234 862 672 349 986 136 249]\n",
      " [629 343 518 547 527 406 955 857 630 260]\n",
      " [ 35 486 406 261 862  62 659 546 934 214]\n",
      " [288 288 112 910 945 701 129 242 870 331]\n",
      " [311 671 976 168 153 117 506 862 350 487]\n",
      " [192 499 870 529 275 910 625 814 760 686]\n",
      " [202 933 272 164 438 402 921 615 414  55]\n",
      " [975 613 220  37  93 462 182 282 266 960]\n",
      " [783 704 943 914  69 762 286 354 255 869]\n",
      " [826 949 461 570 668 548 415 754 357 380]]\n",
      "(32, 10, 64)\n",
      "[[[ 0.00390549 -0.04720892 -0.02030638 ...  0.0144061   0.04043506\n",
      "    0.01493715]\n",
      "  [ 0.00445534 -0.03382838 -0.01274168 ... -0.00353025  0.01515167\n",
      "    0.0275617 ]\n",
      "  [ 0.02460018 -0.04374999 -0.00044093 ... -0.00543414  0.04423746\n",
      "   -0.0385543 ]\n",
      "  ...\n",
      "  [ 0.032125    0.04559043  0.00161137 ... -0.01346569  0.00674999\n",
      "    0.04087861]\n",
      "  [-0.01883987 -0.00042193  0.00965943 ... -0.01303557  0.02075776\n",
      "   -0.03532224]\n",
      "  [ 0.02390448 -0.01511655 -0.01418639 ...  0.00333139  0.03335601\n",
      "   -0.02827628]]\n",
      "\n",
      " [[ 0.00447189 -0.02514944  0.0199987  ...  0.02010269 -0.0203853\n",
      "   -0.03041019]\n",
      "  [ 0.04755813  0.00742005 -0.02247241 ...  0.04178916  0.04510638\n",
      "    0.03730092]\n",
      "  [ 0.03289953  0.00609882 -0.02416437 ... -0.03684564  0.03805416\n",
      "   -0.04327879]\n",
      "  ...\n",
      "  [ 0.04018941 -0.02297573 -0.0108146  ... -0.02211052 -0.02810801\n",
      "   -0.02685876]\n",
      "  [-0.04932796  0.03220382  0.03268458 ...  0.01675383 -0.03226982\n",
      "   -0.01316369]\n",
      "  [ 0.01474421 -0.0002744   0.0499511  ... -0.02699039  0.017276\n",
      "    0.01437778]]\n",
      "\n",
      " [[-0.04630373 -0.0432199   0.0055441  ... -0.02007195  0.01484093\n",
      "    0.04370916]\n",
      "  [ 0.01325146  0.0125819   0.01113598 ...  0.04711536  0.01493069\n",
      "   -0.01440177]\n",
      "  [-0.04933314 -0.00033278  0.04347422 ... -0.01631194  0.02425024\n",
      "    0.0336442 ]\n",
      "  ...\n",
      "  [ 0.00462814  0.03359599  0.00330085 ... -0.04205329  0.00199008\n",
      "   -0.03050314]\n",
      "  [-0.01158731 -0.02856199  0.03029624 ...  0.00560763  0.00172827\n",
      "    0.02627928]\n",
      "  [-0.01333734 -0.02792239 -0.01032611 ... -0.04446551  0.01225331\n",
      "   -0.01137295]]\n",
      "\n",
      " ...\n",
      "\n",
      " [[ 0.02006647  0.00079738 -0.01683378 ... -0.00119706  0.02329779\n",
      "   -0.0341567 ]\n",
      "  [ 0.01904485  0.03770452  0.03891485 ...  0.01948682  0.03357829\n",
      "    0.009445  ]\n",
      "  [-0.02863481  0.02148158 -0.00241743 ...  0.01100061  0.00547848\n",
      "   -0.01511489]\n",
      "  ...\n",
      "  [ 0.04910077  0.02344723  0.04694518 ... -0.01557883 -0.02101278\n",
      "    0.0096864 ]\n",
      "  [ 0.03864411  0.03887739  0.00229595 ... -0.01163413  0.01290199\n",
      "   -0.02780001]\n",
      "  [-0.00904925  0.0192591  -0.00342392 ... -0.00160618 -0.01579943\n",
      "    0.01423368]]\n",
      "\n",
      " [[ 0.02005711 -0.01558832 -0.01845231 ... -0.0299947  -0.01686035\n",
      "   -0.00314908]\n",
      "  [-0.04829056 -0.03627944 -0.0322078  ...  0.03711155 -0.02028635\n",
      "    0.02259791]\n",
      "  [-0.03890312  0.00264988 -0.01150142 ... -0.00346944 -0.0299376\n",
      "    0.04682944]\n",
      "  ...\n",
      "  [-0.0147799   0.01678171 -0.02097493 ... -0.02240052  0.04338385\n",
      "    0.00678462]\n",
      "  [-0.01119758  0.03514415 -0.02176988 ... -0.00993825 -0.0426877\n",
      "   -0.00469147]\n",
      "  [ 0.02139867  0.03597481  0.01978364 ... -0.038565    0.00840452\n",
      "   -0.0472628 ]]\n",
      "\n",
      " [[ 0.03151308  0.01219971 -0.03539033 ...  0.01262641 -0.04576162\n",
      "   -0.02850974]\n",
      "  [-0.03507479  0.02326417 -0.01554737 ...  0.03335283 -0.01337743\n",
      "    0.02939929]\n",
      "  [-0.04716782  0.02155827 -0.00170011 ...  0.01697581 -0.03977362\n",
      "   -0.0053543 ]\n",
      "  ...\n",
      "  [ 0.02750424 -0.01962875  0.03751314 ... -0.00552157 -0.01415195\n",
      "   -0.02709589]\n",
      "  [ 0.00829471  0.0050818  -0.03321301 ... -0.01695577  0.04588339\n",
      "   -0.02626731]\n",
      "  [ 0.02250439  0.04278583 -0.02392931 ... -0.00624641  0.01835673\n",
      "   -0.03477214]]]\n"
     ]
    }
   ],
   "source": [
    "# 简单例子理解\n",
    "model1 = tf.keras.Sequential()\n",
    "model1.add(tf.keras.layers.Embedding(1000, 64, input_length=10))\n",
    "# The model will take as input an integer matrix of size (batch,\n",
    "# input_length), and the largest integer (i.e. word index) in the input\n",
    "# should be no larger than 999 (vocabulary size).\n",
    "# Now model.output_shape is (None, 10, 64), where `None` is the batch\n",
    "# dimension.\n",
    "input_array = np.random.randint(1000, size=(32, 10))\n",
    "print(input_array)\n",
    "model1.compile('rmsprop', 'mse')\n",
    "output_array = model1.predict(input_array)\n",
    "print(output_array.shape)  # (32, 10, 64) 样本大小(32*10) 64维度的稠密向量\n",
    "print(output_array)"
   ]
  },
  {
   "cell_type": "code",
   "execution_count": null,
   "metadata": {},
   "outputs": [],
   "source": []
  }
 ],
 "metadata": {
  "kernelspec": {
   "display_name": "Python 3",
   "language": "python",
   "name": "python3"
  },
  "language_info": {
   "codemirror_mode": {
    "name": "ipython",
    "version": 3
   },
   "file_extension": ".py",
   "mimetype": "text/x-python",
   "name": "python",
   "nbconvert_exporter": "python",
   "pygments_lexer": "ipython3",
   "version": "3.6.9"
  }
 },
 "nbformat": 4,
 "nbformat_minor": 2
}
