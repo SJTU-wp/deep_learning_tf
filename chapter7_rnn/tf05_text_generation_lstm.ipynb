{
  "cells": [
    {
      "cell_type": "code",
      "execution_count": 3,
      "metadata": {
        "colab": {
          "base_uri": "https://localhost:8080/"
        },
        "id": "YgyVBc_FzWFy",
        "outputId": "cdb95950-51e7-45c7-dba5-2e3d1b2aa4ff"
      },
      "outputs": [
        {
          "output_type": "stream",
          "name": "stdout",
          "text": [
            "2.8.0\n",
            "sys.version_info(major=3, minor=7, micro=13, releaselevel='final', serial=0)\n",
            "matplotlib 3.2.2\n",
            "numpy 1.21.6\n",
            "pandas 1.3.5\n",
            "sklearn 1.0.2\n",
            "tensorflow 2.8.0\n",
            "keras.api._v2.keras 2.8.0\n"
          ]
        }
      ],
      "source": [
        "import matplotlib as mpl\n",
        "import matplotlib.pyplot as plt\n",
        "%matplotlib inline\n",
        "import numpy as np\n",
        "import sklearn\n",
        "import pandas as pd\n",
        "import os\n",
        "import sys\n",
        "import time\n",
        "import tensorflow as tf\n",
        "\n",
        "from tensorflow import keras\n",
        "\n",
        "print(tf.__version__)\n",
        "print(sys.version_info)\n",
        "for module in mpl, np, pd, sklearn, tf, keras:\n",
        "    print(module.__name__, module.__version__)"
      ]
    },
    {
      "cell_type": "code",
      "source": [
        "!nvidia-smi"
      ],
      "metadata": {
        "colab": {
          "base_uri": "https://localhost:8080/"
        },
        "id": "KBgdC0tk0B8J",
        "outputId": "10305cc9-f535-4daa-8005-d38fa45ccfdb"
      },
      "execution_count": 4,
      "outputs": [
        {
          "output_type": "stream",
          "name": "stdout",
          "text": [
            "Thu May 19 14:57:19 2022       \n",
            "+-----------------------------------------------------------------------------+\n",
            "| NVIDIA-SMI 460.32.03    Driver Version: 460.32.03    CUDA Version: 11.2     |\n",
            "|-------------------------------+----------------------+----------------------+\n",
            "| GPU  Name        Persistence-M| Bus-Id        Disp.A | Volatile Uncorr. ECC |\n",
            "| Fan  Temp  Perf  Pwr:Usage/Cap|         Memory-Usage | GPU-Util  Compute M. |\n",
            "|                               |                      |               MIG M. |\n",
            "|===============================+======================+======================|\n",
            "|   0  Tesla T4            Off  | 00000000:00:04.0 Off |                    0 |\n",
            "| N/A   43C    P8     9W /  70W |      0MiB / 15109MiB |      0%      Default |\n",
            "|                               |                      |                  N/A |\n",
            "+-------------------------------+----------------------+----------------------+\n",
            "                                                                               \n",
            "+-----------------------------------------------------------------------------+\n",
            "| Processes:                                                                  |\n",
            "|  GPU   GI   CI        PID   Type   Process name                  GPU Memory |\n",
            "|        ID   ID                                                   Usage      |\n",
            "|=============================================================================|\n",
            "|  No running processes found                                                 |\n",
            "+-----------------------------------------------------------------------------+\n"
          ]
        }
      ]
    },
    {
      "cell_type": "code",
      "source": [
        "!ls ."
      ],
      "metadata": {
        "colab": {
          "base_uri": "https://localhost:8080/"
        },
        "id": "dbpacwri0m5r",
        "outputId": "d018f108-61f2-44c9-a694-d0442993d97d"
      },
      "execution_count": 5,
      "outputs": [
        {
          "output_type": "stream",
          "name": "stdout",
          "text": [
            "sample_data  shakespeare.txt\n"
          ]
        }
      ]
    },
    {
      "cell_type": "code",
      "execution_count": 6,
      "metadata": {
        "colab": {
          "base_uri": "https://localhost:8080/"
        },
        "id": "fxxn3HMJzWF2",
        "outputId": "c4cfbd66-d9d8-4345-aaef-8e8444e9b786"
      },
      "outputs": [
        {
          "output_type": "stream",
          "name": "stdout",
          "text": [
            "1115393\n",
            "First Citizen:\n",
            "Before we proceed any further, hear me speak.\n",
            "\n",
            "All:\n",
            "Speak, speak.\n",
            "\n",
            "First Citizen:\n",
            "You\n"
          ]
        }
      ],
      "source": [
        "# https://storage.googleapis.com/download.tensorflow.org/data/shakespeare.txt\n",
        "input_filepath = \"./shakespeare.txt\"\n",
        "text = open(input_filepath, 'r').read()\n",
        "\n",
        "print(len(text))\n",
        "print(text[0:100])"
      ]
    },
    {
      "cell_type": "code",
      "execution_count": 7,
      "metadata": {
        "colab": {
          "base_uri": "https://localhost:8080/"
        },
        "id": "7UjUoW3VzWF3",
        "outputId": "a5149bbc-72d5-46b6-e120-5241245fa5b2"
      },
      "outputs": [
        {
          "output_type": "stream",
          "name": "stdout",
          "text": [
            "65\n",
            "['\\n', ' ', '!', '$', '&', \"'\", ',', '-', '.', '3', ':', ';', '?', 'A', 'B', 'C', 'D', 'E', 'F', 'G', 'H', 'I', 'J', 'K', 'L', 'M', 'N', 'O', 'P', 'Q', 'R', 'S', 'T', 'U', 'V', 'W', 'X', 'Y', 'Z', 'a', 'b', 'c', 'd', 'e', 'f', 'g', 'h', 'i', 'j', 'k', 'l', 'm', 'n', 'o', 'p', 'q', 'r', 's', 't', 'u', 'v', 'w', 'x', 'y', 'z']\n"
          ]
        }
      ],
      "source": [
        "# 1. generate vocab\n",
        "# 2. build mapping char->id\n",
        "# 3. data -> id_data\n",
        "# 4. abcd -> bcd<eos>\n",
        "\n",
        "vocab = sorted(set(text))\n",
        "print(len(vocab))\n",
        "print(vocab)"
      ]
    },
    {
      "cell_type": "code",
      "execution_count": 8,
      "metadata": {
        "colab": {
          "base_uri": "https://localhost:8080/"
        },
        "id": "ajcC7zEazWF4",
        "outputId": "75db9b4b-955f-4b6e-abe8-825586b674a2"
      },
      "outputs": [
        {
          "output_type": "stream",
          "name": "stdout",
          "text": [
            "{'\\n': 0, ' ': 1, '!': 2, '$': 3, '&': 4, \"'\": 5, ',': 6, '-': 7, '.': 8, '3': 9, ':': 10, ';': 11, '?': 12, 'A': 13, 'B': 14, 'C': 15, 'D': 16, 'E': 17, 'F': 18, 'G': 19, 'H': 20, 'I': 21, 'J': 22, 'K': 23, 'L': 24, 'M': 25, 'N': 26, 'O': 27, 'P': 28, 'Q': 29, 'R': 30, 'S': 31, 'T': 32, 'U': 33, 'V': 34, 'W': 35, 'X': 36, 'Y': 37, 'Z': 38, 'a': 39, 'b': 40, 'c': 41, 'd': 42, 'e': 43, 'f': 44, 'g': 45, 'h': 46, 'i': 47, 'j': 48, 'k': 49, 'l': 50, 'm': 51, 'n': 52, 'o': 53, 'p': 54, 'q': 55, 'r': 56, 's': 57, 't': 58, 'u': 59, 'v': 60, 'w': 61, 'x': 62, 'y': 63, 'z': 64}\n"
          ]
        }
      ],
      "source": [
        "char2idx = {char:idx for idx, char in enumerate(vocab)}\n",
        "print(char2idx)"
      ]
    },
    {
      "cell_type": "code",
      "execution_count": 9,
      "metadata": {
        "colab": {
          "base_uri": "https://localhost:8080/"
        },
        "id": "Ou1fCWQXzWF4",
        "outputId": "5e57ccfa-a72d-4f76-912e-40b73000b239"
      },
      "outputs": [
        {
          "output_type": "stream",
          "name": "stdout",
          "text": [
            "['\\n' ' ' '!' '$' '&' \"'\" ',' '-' '.' '3' ':' ';' '?' 'A' 'B' 'C' 'D' 'E'\n",
            " 'F' 'G' 'H' 'I' 'J' 'K' 'L' 'M' 'N' 'O' 'P' 'Q' 'R' 'S' 'T' 'U' 'V' 'W'\n",
            " 'X' 'Y' 'Z' 'a' 'b' 'c' 'd' 'e' 'f' 'g' 'h' 'i' 'j' 'k' 'l' 'm' 'n' 'o'\n",
            " 'p' 'q' 'r' 's' 't' 'u' 'v' 'w' 'x' 'y' 'z']\n"
          ]
        }
      ],
      "source": [
        "idx2char = np.array(vocab)\n",
        "print(idx2char)"
      ]
    },
    {
      "cell_type": "code",
      "execution_count": 10,
      "metadata": {
        "colab": {
          "base_uri": "https://localhost:8080/"
        },
        "id": "2NaioiN2zWF4",
        "outputId": "495e5696-1b09-41d8-9494-adb92e289586"
      },
      "outputs": [
        {
          "output_type": "stream",
          "name": "stdout",
          "text": [
            "[18 47 56 57 58  1 15 47 58 47]\n",
            "First Citi\n"
          ]
        }
      ],
      "source": [
        "text_as_int = np.array([char2idx[c] for c in text])\n",
        "print(text_as_int[0:10])\n",
        "print(text[0:10])"
      ]
    },
    {
      "cell_type": "code",
      "execution_count": 11,
      "metadata": {
        "colab": {
          "base_uri": "https://localhost:8080/"
        },
        "id": "U2X7uVSMzWF5",
        "outputId": "01a5b97b-9489-434e-c501-64dbe2836eeb"
      },
      "outputs": [
        {
          "output_type": "stream",
          "name": "stdout",
          "text": [
            "tf.Tensor(18, shape=(), dtype=int64) F\n",
            "tf.Tensor(47, shape=(), dtype=int64) i\n",
            "tf.Tensor(\n",
            "[18 47 56 57 58  1 15 47 58 47 64 43 52 10  0 14 43 44 53 56 43  1 61 43\n",
            "  1 54 56 53 41 43 43 42  1 39 52 63  1 44 59 56 58 46 43 56  6  1 46 43\n",
            " 39 56  1 51 43  1 57 54 43 39 49  8  0  0 13 50 50 10  0 31 54 43 39 49\n",
            "  6  1 57 54 43 39 49  8  0  0 18 47 56 57 58  1 15 47 58 47 64 43 52 10\n",
            "  0 37 53 59  1], shape=(101,), dtype=int64)\n",
            "'First Citizen:\\nBefore we proceed any further, hear me speak.\\n\\nAll:\\nSpeak, speak.\\n\\nFirst Citizen:\\nYou '\n",
            "tf.Tensor(\n",
            "[39 56 43  1 39 50 50  1 56 43 57 53 50 60 43 42  1 56 39 58 46 43 56  1\n",
            " 58 53  1 42 47 43  1 58 46 39 52  1 58 53  1 44 39 51 47 57 46 12  0  0\n",
            " 13 50 50 10  0 30 43 57 53 50 60 43 42  8  1 56 43 57 53 50 60 43 42  8\n",
            "  0  0 18 47 56 57 58  1 15 47 58 47 64 43 52 10  0 18 47 56 57 58  6  1\n",
            " 63 53 59  1 49], shape=(101,), dtype=int64)\n",
            "'are all resolved rather to die than to famish?\\n\\nAll:\\nResolved. resolved.\\n\\nFirst Citizen:\\nFirst, you k'\n"
          ]
        }
      ],
      "source": [
        "def split_input_target(id_text):\n",
        "    \"\"\"\n",
        "    abcde -> abcd, bcde\n",
        "    \"\"\"\n",
        "    return id_text[0:-1], id_text[1:]\n",
        "\n",
        "char_dataset = tf.data.Dataset.from_tensor_slices(text_as_int)\n",
        "seq_length = 100\n",
        "seq_dataset = char_dataset.batch(seq_length + 1,\n",
        "                                 drop_remainder = True)\n",
        "for ch_id in char_dataset.take(2):\n",
        "    print(ch_id, idx2char[ch_id.numpy()])\n",
        "\n",
        "for seq_id in seq_dataset.take(2):\n",
        "    print(seq_id)\n",
        "    print(repr(''.join(idx2char[seq_id.numpy()])))"
      ]
    },
    {
      "cell_type": "code",
      "execution_count": 12,
      "metadata": {
        "colab": {
          "base_uri": "https://localhost:8080/"
        },
        "id": "fWAG-m40zWF6",
        "outputId": "2a400f96-9b70-4af6-db7f-b5438ae51052"
      },
      "outputs": [
        {
          "output_type": "stream",
          "name": "stdout",
          "text": [
            "[18 47 56 57 58  1 15 47 58 47 64 43 52 10  0 14 43 44 53 56 43  1 61 43\n",
            "  1 54 56 53 41 43 43 42  1 39 52 63  1 44 59 56 58 46 43 56  6  1 46 43\n",
            " 39 56  1 51 43  1 57 54 43 39 49  8  0  0 13 50 50 10  0 31 54 43 39 49\n",
            "  6  1 57 54 43 39 49  8  0  0 18 47 56 57 58  1 15 47 58 47 64 43 52 10\n",
            "  0 37 53 59]\n",
            "[47 56 57 58  1 15 47 58 47 64 43 52 10  0 14 43 44 53 56 43  1 61 43  1\n",
            " 54 56 53 41 43 43 42  1 39 52 63  1 44 59 56 58 46 43 56  6  1 46 43 39\n",
            " 56  1 51 43  1 57 54 43 39 49  8  0  0 13 50 50 10  0 31 54 43 39 49  6\n",
            "  1 57 54 43 39 49  8  0  0 18 47 56 57 58  1 15 47 58 47 64 43 52 10  0\n",
            " 37 53 59  1]\n",
            "[39 56 43  1 39 50 50  1 56 43 57 53 50 60 43 42  1 56 39 58 46 43 56  1\n",
            " 58 53  1 42 47 43  1 58 46 39 52  1 58 53  1 44 39 51 47 57 46 12  0  0\n",
            " 13 50 50 10  0 30 43 57 53 50 60 43 42  8  1 56 43 57 53 50 60 43 42  8\n",
            "  0  0 18 47 56 57 58  1 15 47 58 47 64 43 52 10  0 18 47 56 57 58  6  1\n",
            " 63 53 59  1]\n",
            "[56 43  1 39 50 50  1 56 43 57 53 50 60 43 42  1 56 39 58 46 43 56  1 58\n",
            " 53  1 42 47 43  1 58 46 39 52  1 58 53  1 44 39 51 47 57 46 12  0  0 13\n",
            " 50 50 10  0 30 43 57 53 50 60 43 42  8  1 56 43 57 53 50 60 43 42  8  0\n",
            "  0 18 47 56 57 58  1 15 47 58 47 64 43 52 10  0 18 47 56 57 58  6  1 63\n",
            " 53 59  1 49]\n"
          ]
        }
      ],
      "source": [
        "seq_dataset = seq_dataset.map(split_input_target)\n",
        "\n",
        "for item_input, item_output in seq_dataset.take(2):\n",
        "    print(item_input.numpy())\n",
        "    print(item_output.numpy())"
      ]
    },
    {
      "cell_type": "code",
      "execution_count": 13,
      "metadata": {
        "id": "uYW-A0iuzWF6"
      },
      "outputs": [],
      "source": [
        "batch_size = 64\n",
        "buffer_size = 10000\n",
        "\n",
        "seq_dataset = seq_dataset.shuffle(buffer_size).batch(\n",
        "    batch_size, drop_remainder=True)\n"
      ]
    },
    {
      "cell_type": "code",
      "execution_count": 14,
      "metadata": {
        "colab": {
          "base_uri": "https://localhost:8080/"
        },
        "id": "6Zq78PZpzWF7",
        "outputId": "1cafb998-6621-441d-fc87-e85743acbee8"
      },
      "outputs": [
        {
          "output_type": "stream",
          "name": "stdout",
          "text": [
            "Model: \"sequential\"\n",
            "_________________________________________________________________\n",
            " Layer (type)                Output Shape              Param #   \n",
            "=================================================================\n",
            " embedding (Embedding)       (64, None, 256)           16640     \n",
            "                                                                 \n",
            " lstm (LSTM)                 (64, None, 1024)          5246976   \n",
            "                                                                 \n",
            " dense (Dense)               (64, None, 65)            66625     \n",
            "                                                                 \n",
            "=================================================================\n",
            "Total params: 5,330,241\n",
            "Trainable params: 5,330,241\n",
            "Non-trainable params: 0\n",
            "_________________________________________________________________\n"
          ]
        }
      ],
      "source": [
        "vocab_size = len(vocab)\n",
        "embedding_dim = 256\n",
        "rnn_units = 1024\n",
        "\n",
        "def build_model(vocab_size, embedding_dim, rnn_units, batch_size):\n",
        "    model = keras.models.Sequential([\n",
        "        keras.layers.Embedding(vocab_size, embedding_dim,\n",
        "                               batch_input_shape = [batch_size, None]),\n",
        "        keras.layers.LSTM(units = rnn_units,\n",
        "                          # 如果为True，则将批次中索引i的每个样本的最后状态用作下一个批次中索引i的样本的初始状态。\n",
        "                          stateful = True,\n",
        "                          # 权重矩阵的初始化程序，用于循环状态的线性转换\n",
        "                          recurrent_initializer = 'glorot_uniform',\n",
        "                          return_sequences = True),\n",
        "        keras.layers.Dense(vocab_size),\n",
        "    ])\n",
        "    return model\n",
        "\n",
        "model = build_model(\n",
        "    vocab_size = vocab_size,\n",
        "    embedding_dim = embedding_dim,\n",
        "    rnn_units = rnn_units,\n",
        "    batch_size = batch_size)\n",
        "\n",
        "model.summary()"
      ]
    },
    {
      "cell_type": "code",
      "execution_count": 15,
      "metadata": {
        "colab": {
          "base_uri": "https://localhost:8080/"
        },
        "id": "sgtQ7svMzWF8",
        "outputId": "c284c3d7-ad3f-49e9-d63b-74599b2932cb"
      },
      "outputs": [
        {
          "output_type": "stream",
          "name": "stdout",
          "text": [
            "(64, 100, 65)\n"
          ]
        }
      ],
      "source": [
        "for input_example_batch, target_example_batch in seq_dataset.take(1):\n",
        "    example_batch_predictions = model(input_example_batch)\n",
        "    print(example_batch_predictions.shape)"
      ]
    },
    {
      "cell_type": "code",
      "execution_count": 16,
      "metadata": {
        "colab": {
          "base_uri": "https://localhost:8080/"
        },
        "id": "LGhmGQk_zWF8",
        "outputId": "253fa66a-ee31-4fc5-adc4-3b377db9bdf1"
      },
      "outputs": [
        {
          "output_type": "stream",
          "name": "stdout",
          "text": [
            "tf.Tensor(\n",
            "[[55]\n",
            " [12]\n",
            " [17]\n",
            " [11]\n",
            " [46]\n",
            " [44]\n",
            " [53]\n",
            " [42]\n",
            " [37]\n",
            " [63]\n",
            " [36]\n",
            " [ 4]\n",
            " [37]\n",
            " [27]\n",
            " [32]\n",
            " [58]\n",
            " [52]\n",
            " [ 2]\n",
            " [36]\n",
            " [52]\n",
            " [42]\n",
            " [57]\n",
            " [20]\n",
            " [57]\n",
            " [14]\n",
            " [47]\n",
            " [ 9]\n",
            " [64]\n",
            " [ 1]\n",
            " [11]\n",
            " [ 6]\n",
            " [ 2]\n",
            " [45]\n",
            " [56]\n",
            " [25]\n",
            " [57]\n",
            " [58]\n",
            " [54]\n",
            " [31]\n",
            " [30]\n",
            " [33]\n",
            " [41]\n",
            " [63]\n",
            " [ 6]\n",
            " [25]\n",
            " [38]\n",
            " [60]\n",
            " [41]\n",
            " [19]\n",
            " [59]\n",
            " [34]\n",
            " [24]\n",
            " [18]\n",
            " [54]\n",
            " [47]\n",
            " [58]\n",
            " [24]\n",
            " [49]\n",
            " [12]\n",
            " [ 9]\n",
            " [59]\n",
            " [60]\n",
            " [28]\n",
            " [43]\n",
            " [24]\n",
            " [27]\n",
            " [11]\n",
            " [38]\n",
            " [12]\n",
            " [30]\n",
            " [55]\n",
            " [64]\n",
            " [35]\n",
            " [55]\n",
            " [ 0]\n",
            " [60]\n",
            " [45]\n",
            " [ 3]\n",
            " [51]\n",
            " [38]\n",
            " [51]\n",
            " [63]\n",
            " [49]\n",
            " [28]\n",
            " [37]\n",
            " [49]\n",
            " [35]\n",
            " [39]\n",
            " [40]\n",
            " [45]\n",
            " [15]\n",
            " [41]\n",
            " [59]\n",
            " [27]\n",
            " [14]\n",
            " [31]\n",
            " [56]\n",
            " [20]\n",
            " [32]\n",
            " [ 2]], shape=(100, 1), dtype=int64)\n",
            "tf.Tensor(\n",
            "[55 12 17 11 46 44 53 42 37 63 36  4 37 27 32 58 52  2 36 52 42 57 20 57\n",
            " 14 47  9 64  1 11  6  2 45 56 25 57 58 54 31 30 33 41 63  6 25 38 60 41\n",
            " 19 59 34 24 18 54 47 58 24 49 12  9 59 60 28 43 24 27 11 38 12 30 55 64\n",
            " 35 55  0 60 45  3 51 38 51 63 49 28 37 49 35 39 40 45 15 41 59 27 14 31\n",
            " 56 20 32  2], shape=(100,), dtype=int64)\n"
          ]
        }
      ],
      "source": [
        "# random sampling.\n",
        "# greedy, random.\n",
        "sample_indices = tf.random.categorical(\n",
        "    logits = example_batch_predictions[0], num_samples = 1)\n",
        "print(sample_indices)\n",
        "# (100, 65) -> (100, 1)\n",
        "sample_indices = tf.squeeze(sample_indices, axis = -1)\n",
        "print(sample_indices)"
      ]
    },
    {
      "cell_type": "code",
      "execution_count": 17,
      "metadata": {
        "colab": {
          "base_uri": "https://localhost:8080/"
        },
        "id": "Dh6LbpSxzWF8",
        "outputId": "1e45a4a0-afa0-4505-a818-5824e4f8fee6"
      },
      "outputs": [
        {
          "output_type": "stream",
          "name": "stdout",
          "text": [
            "Input:  ' would not buy\\nTheir mercy at the price of one fair word;\\nNor cheque my courage for what they can gi'\n",
            "\n",
            "Output:  'would not buy\\nTheir mercy at the price of one fair word;\\nNor cheque my courage for what they can giv'\n",
            "\n",
            "Predictions:  'q?E;hfodYyX&YOTtn!XndsHsBi3z ;,!grMstpSRUcy,MZvcGuVLFpitLk?3uvPeLO;Z?RqzWq\\nvg$mZmykPYkWabgCcuOBSrHT!'\n"
          ]
        }
      ],
      "source": [
        "print(\"Input: \", repr(\"\".join(idx2char[input_example_batch[0]])))\n",
        "print()\n",
        "print(\"Output: \", repr(\"\".join(idx2char[target_example_batch[0]])))\n",
        "print()\n",
        "print(\"Predictions: \", repr(\"\".join(idx2char[sample_indices])))"
      ]
    },
    {
      "cell_type": "code",
      "execution_count": 18,
      "metadata": {
        "colab": {
          "base_uri": "https://localhost:8080/"
        },
        "id": "3qk59nUdzWF9",
        "outputId": "75e88b9b-bd15-4e92-cd60-80793444d627"
      },
      "outputs": [
        {
          "output_type": "stream",
          "name": "stdout",
          "text": [
            "(64, 100)\n",
            "4.1744175\n"
          ]
        }
      ],
      "source": [
        "def loss(labels, logits):\n",
        "    return keras.losses.sparse_categorical_crossentropy(\n",
        "        labels, logits, from_logits=True)\n",
        "\n",
        "model.compile(optimizer = 'adam', loss = loss)\n",
        "example_loss = loss(target_example_batch, example_batch_predictions)\n",
        "print(example_loss.shape)\n",
        "print(example_loss.numpy().mean())"
      ]
    },
    {
      "cell_type": "code",
      "execution_count": 19,
      "metadata": {
        "colab": {
          "base_uri": "https://localhost:8080/"
        },
        "id": "65JnWR03zWF9",
        "outputId": "5698f33b-6fbe-4880-c0a6-7a6fc8abd4d0"
      },
      "outputs": [
        {
          "output_type": "stream",
          "name": "stdout",
          "text": [
            "Epoch 1/10\n",
            "172/172 [==============================] - 14s 61ms/step - loss: 2.6498\n",
            "Epoch 2/10\n",
            "172/172 [==============================] - 12s 62ms/step - loss: 1.9561\n",
            "Epoch 3/10\n",
            "172/172 [==============================] - 12s 62ms/step - loss: 1.6907\n",
            "Epoch 4/10\n",
            "172/172 [==============================] - 12s 62ms/step - loss: 1.5404\n",
            "Epoch 5/10\n",
            "172/172 [==============================] - 12s 63ms/step - loss: 1.4505\n",
            "Epoch 6/10\n",
            "172/172 [==============================] - 12s 64ms/step - loss: 1.3905\n",
            "Epoch 7/10\n",
            "172/172 [==============================] - 12s 64ms/step - loss: 1.3439\n",
            "Epoch 8/10\n",
            "172/172 [==============================] - 13s 66ms/step - loss: 1.3048\n",
            "Epoch 9/10\n",
            "172/172 [==============================] - 13s 67ms/step - loss: 1.2693\n",
            "Epoch 10/10\n",
            "172/172 [==============================] - 13s 67ms/step - loss: 1.2354\n"
          ]
        }
      ],
      "source": [
        "output_dir = \"./text_generation_lstm_checkpoints\"\n",
        "if not os.path.exists(output_dir):\n",
        "    os.mkdir(output_dir)\n",
        "checkpoint_prefix = os.path.join(output_dir, 'ckpt_{epoch}')\n",
        "checkpoint_callback = keras.callbacks.ModelCheckpoint(\n",
        "    filepath = checkpoint_prefix,\n",
        "    save_weights_only = True)\n",
        "\n",
        "epochs = 10\n",
        "history = model.fit(seq_dataset, epochs = epochs,\n",
        "                    callbacks = [checkpoint_callback])\n"
      ]
    },
    {
      "cell_type": "code",
      "execution_count": 20,
      "metadata": {
        "colab": {
          "base_uri": "https://localhost:8080/",
          "height": 35
        },
        "id": "upozSBwKzWF9",
        "outputId": "069ec0c7-f814-4b12-b0fe-2d6fbdb0b09a"
      },
      "outputs": [
        {
          "output_type": "execute_result",
          "data": {
            "text/plain": [
              "'./text_generation_lstm_checkpoints/ckpt_10'"
            ],
            "application/vnd.google.colaboratory.intrinsic+json": {
              "type": "string"
            }
          },
          "metadata": {},
          "execution_count": 20
        }
      ],
      "source": [
        "tf.train.latest_checkpoint(output_dir)"
      ]
    },
    {
      "cell_type": "code",
      "execution_count": 21,
      "metadata": {
        "colab": {
          "base_uri": "https://localhost:8080/"
        },
        "id": "AUr9aluyzWF9",
        "outputId": "4e0c3c7f-186c-405f-ea76-fda1ab1dc514"
      },
      "outputs": [
        {
          "output_type": "stream",
          "name": "stdout",
          "text": [
            "Model: \"sequential_1\"\n",
            "_________________________________________________________________\n",
            " Layer (type)                Output Shape              Param #   \n",
            "=================================================================\n",
            " embedding_1 (Embedding)     (1, None, 256)            16640     \n",
            "                                                                 \n",
            " lstm_1 (LSTM)               (1, None, 1024)           5246976   \n",
            "                                                                 \n",
            " dense_1 (Dense)             (1, None, 65)             66625     \n",
            "                                                                 \n",
            "=================================================================\n",
            "Total params: 5,330,241\n",
            "Trainable params: 5,330,241\n",
            "Non-trainable params: 0\n",
            "_________________________________________________________________\n"
          ]
        }
      ],
      "source": [
        "model2 = build_model(vocab_size,\n",
        "                     embedding_dim,\n",
        "                     rnn_units,\n",
        "                     batch_size = 1)\n",
        "model2.load_weights(tf.train.latest_checkpoint(output_dir))\n",
        "model2.build(tf.TensorShape([1, None]))\n",
        "# start ch sequence A,\n",
        "# A -> model -> b\n",
        "# A.append(b) -> B\n",
        "# B(Ab) -> model -> c\n",
        "# B.append(c) -> C\n",
        "# C(Abc) -> model -> ...\n",
        "model2.summary()"
      ]
    },
    {
      "cell_type": "code",
      "execution_count": 22,
      "metadata": {
        "colab": {
          "base_uri": "https://localhost:8080/"
        },
        "id": "V3aaRjVRzWF-",
        "outputId": "5cca9030-4f1e-4947-e322-6dc06e218989"
      },
      "outputs": [
        {
          "output_type": "stream",
          "name": "stdout",
          "text": [
            "All: MICIS:\n",
            "u litea!\n",
            "Ghave, Clomara,\n",
            "Hould; everyinm you moc moth,--whatblattuse: holyoa.\n",
            "\n",
            "d, if how now:\n",
            "LEOFf;\n",
            "Boyf-\n",
            "QUSIEPo, eing'lord; so my Roint's bonc,\n",
            "Beforch.Uvousa swaighs is'?'CTaw kine?\n",
            "Ruil,\n",
            "cried to', x yfarus narus.\n",
            "\n",
            "SequSit tot? LowsPauspiais,\n",
            "everer at Ghoppesso' wifth iminst.\n",
            "WorsteCELCBDUYY:\n",
            "GodniChr, I did me.cely Yever trun.'CD\n",
            "HaMQERSTLOSK\n",
            "O, Ou?.\n",
            "Say,\n",
            "And by, I'-NIUS:\n",
            "Thathib shalves Dukn of Gloques;' creeblybemgeh,'cl\n",
            "KatTKath; ag!\n",
            "Sif Lerith. E crupiss?'-stopt:\n",
            "Seew-I Pobfok\n",
            "Yonk, for sorn prrjethy discalinims:\n",
            "I'll sweade iRLONS OVmoundglail\n",
            "On this\n",
            "rut, spart sors, girds?\n",
            "he'pood' masquith.\n",
            "Lorduh; IZ-gap? quees\n",
            "HOUSERib!\n",
            "He theme gives 'pare-By es? y't:\n",
            "ha' bryocur.\n",
            "\n",
            "RSCAULOTE:\n",
            "O,',\n",
            "Timble-bel! no wherely by the kHEBON:\n",
            "Vauggua\n",
            "Excamete. For ffopm, ye; I'll wo savou:\n",
            "Swryich doe attastmy, e't-uporring. noy go?\n",
            "\n",
            "NIEG?\n",
            "Nes botathyby:\n",
            "What, is my advisita.\n",
            "DeoRD\n",
            "ICBobtshallsue:\n",
            "\n",
            "Ghooprevey: Wan yVCAPpIS:\n",
            " thrse thBPHAS:\n",
            "Vilommoor ist. besiwrot,'?\n",
            "true't it\n",
            "scapeg vi\n"
          ]
        }
      ],
      "source": [
        "def generate_text(model, start_string, num_generate = 1000):\n",
        "    input_eval = [char2idx[ch] for ch in start_string]\n",
        "    input_eval = tf.expand_dims(input_eval, 0)\n",
        "    \n",
        "    text_generated = []\n",
        "    model.reset_states()\n",
        "# 另外一个变动的地方是这里\n",
        "    # temperature > 1, 概率平缓，更加random  可以设置为2\n",
        "    # temperature < 1, 概率更陡峭  greedy   贪婪的，可以设为0.5试试\n",
        "    temperature = 2\n",
        "    \n",
        "    for _ in range(num_generate):\n",
        "        # 1. model inference -> predictions\n",
        "        # 2. sample -> ch -> text_generated.\n",
        "        # 3. update input_eval\n",
        "        \n",
        "        # predictions : [batch_size, input_eval_len, vocab_size]\n",
        "        predictions = model(input_eval)\n",
        "        # predictions: logits -> softmax -> prob  logits做了softmax之后变为概率\n",
        "        # softmax: e^xi \n",
        "        # eg: 4,2 e^4/(e^4 + e^2) = 0.88, e^2 / (e^4 + e^2) = 0.12\n",
        "        #如果都除以2，变为2,1，会发现概率相对于原来，没有那么陡峭了\n",
        "        # eg: 2,1 e^2/(e^2 + e) = 0.73, e / (e^2 + e) = 0.27\n",
        "        predictions = predictions / temperature\n",
        "        # predictions : [input_eval_len, vocab_size]\n",
        "        predictions = tf.squeeze(predictions, 0)\n",
        "        # predicted_ids: [input_eval_len, 1]\n",
        "        # a b c -> b c d\n",
        "        predicted_id = tf.random.categorical(\n",
        "            predictions, num_samples = 1)[-1, 0].numpy()\n",
        "        text_generated.append(idx2char[predicted_id])\n",
        "        # s, x -> rnn -> s', y\n",
        "        input_eval = tf.expand_dims([predicted_id], 0)\n",
        "    return start_string + ''.join(text_generated)\n",
        "\n",
        "new_text = generate_text(model2, \"All: \")\n",
        "print(new_text)\n",
        "# 会看出效果比原来好了很多"
      ]
    },
    {
      "cell_type": "code",
      "execution_count": 22,
      "metadata": {
        "id": "HM_tOWEMzWF-"
      },
      "outputs": [],
      "source": [
        ""
      ]
    }
  ],
  "metadata": {
    "kernelspec": {
      "display_name": "Python 3",
      "language": "python",
      "name": "python3"
    },
    "language_info": {
      "codemirror_mode": {
        "name": "ipython",
        "version": 3
      },
      "file_extension": ".py",
      "mimetype": "text/x-python",
      "name": "python",
      "nbconvert_exporter": "python",
      "pygments_lexer": "ipython3",
      "version": "3.6.9"
    },
    "colab": {
      "name": "tf05_text_generation_lstm.ipynb",
      "provenance": [],
      "collapsed_sections": []
    },
    "accelerator": "GPU"
  },
  "nbformat": 4,
  "nbformat_minor": 0
}