{
 "cells": [
  {
   "cell_type": "code",
   "execution_count": 1,
   "metadata": {},
   "outputs": [
    {
     "name": "stdout",
     "output_type": "stream",
     "text": [
      "2.2.0\n",
      "sys.version_info(major=3, minor=6, micro=9, releaselevel='final', serial=0)\n",
      "matplotlib 3.2.1\n",
      "numpy 1.18.5\n",
      "pandas 1.0.4\n",
      "sklearn 0.23.1\n",
      "tensorflow 2.2.0\n",
      "tensorflow.keras 2.3.0-tf\n"
     ]
    }
   ],
   "source": [
    "import matplotlib as mpl\n",
    "import matplotlib.pyplot as plt\n",
    "%matplotlib inline\n",
    "import numpy as np\n",
    "import sklearn\n",
    "import pandas as pd\n",
    "import os\n",
    "import sys\n",
    "import time\n",
    "import tensorflow as tf\n",
    "\n",
    "from tensorflow import keras\n",
    "\n",
    "print(tf.__version__)\n",
    "print(sys.version_info)\n",
    "for module in mpl, np, pd, sklearn, tf, keras:\n",
    "    print(module.__name__, module.__version__)\n"
   ]
  },
  {
   "cell_type": "code",
   "execution_count": 2,
   "metadata": {},
   "outputs": [],
   "source": [
    "imdb = keras.datasets.imdb\n",
    "vocab_size = 10000\n",
    "index_from = 3\n",
    "(train_data, train_labels), (test_data, test_labels) = imdb.load_data(\n",
    "    num_words = vocab_size, index_from = index_from)"
   ]
  },
  {
   "cell_type": "code",
   "execution_count": 3,
   "metadata": {},
   "outputs": [
    {
     "name": "stdout",
     "output_type": "stream",
     "text": [
      "88584\n"
     ]
    }
   ],
   "source": [
    "word_index = imdb.get_word_index()\n",
    "print(len(word_index))"
   ]
  },
  {
   "cell_type": "code",
   "execution_count": 4,
   "metadata": {},
   "outputs": [],
   "source": [
    "word_index = {k:(v+3) for k, v in word_index.items()}"
   ]
  },
  {
   "cell_type": "code",
   "execution_count": 5,
   "metadata": {},
   "outputs": [
    {
     "data": {
      "text/plain": [
       "\"<START> this film was just brilliant casting location scenery story direction everyone's really suited the part they played and you could just imagine being there robert <UNK> is an amazing actor and now the same being director <UNK> father came from the same scottish island as myself so i loved the fact there was a real connection with this film the witty remarks throughout the film were great it was just brilliant so much that i bought the film as soon as it was released for <UNK> and would recommend it to everyone to watch and the fly fishing was amazing really cried at the end it was so sad and you know what they say if you cry at a film it must have been good and this definitely was also <UNK> to the two little boy's that played the <UNK> of norman and paul they were just brilliant children are often left out of the <UNK> list i think because the stars that play them all grown up are such a big profile for the whole film but these children are amazing and should be praised for what they have done don't you think the whole story was so lovely because it was true and was someone's life after all that was shared with us all\""
      ]
     },
     "execution_count": 5,
     "metadata": {},
     "output_type": "execute_result"
    }
   ],
   "source": [
    "word_index['<PAD>'] = 0\n",
    "word_index['<START>'] = 1\n",
    "word_index['<UNK>'] = 2\n",
    "word_index['<END>'] = 3\n",
    "\n",
    "reverse_word_index = dict(\n",
    "    [(value, key) for key, value in word_index.items()])\n",
    "\n",
    "def decode_review(text_ids):\n",
    "    return ' '.join(\n",
    "        [reverse_word_index.get(word_id, \"<UNK>\") for word_id in text_ids])\n",
    "\n",
    "decode_review(train_data[0])"
   ]
  },
  {
   "cell_type": "code",
   "execution_count": 6,
   "metadata": {
    "scrolled": true
   },
   "outputs": [
    {
     "name": "stdout",
     "output_type": "stream",
     "text": [
      "[   1  194 1153  194 8255   78  228    5    6 1463 4369 5012  134   26\n",
      "    4  715    8  118 1634   14  394   20   13  119  954  189  102    5\n",
      "  207  110 3103   21   14   69  188    8   30   23    7    4  249  126\n",
      "   93    4  114    9 2300 1523    5  647    4  116    9   35 8163    4\n",
      "  229    9  340 1322    4  118    9    4  130 4901   19    4 1002    5\n",
      "   89   29  952   46   37    4  455    9   45   43   38 1543 1905  398\n",
      "    4 1649   26 6853    5  163   11 3215    2    4 1153    9  194  775\n",
      "    7 8255    2  349 2637  148  605    2 8003   15  123  125   68    2\n",
      " 6853   15  349  165 4362   98    5    4  228    9   43    2 1157   15\n",
      "  299  120    5  120  174   11  220  175  136   50    9 4373  228 8255\n",
      "    5    2  656  245 2350    5    4 9837  131  152  491   18    2   32\n",
      " 7464 1212   14    9    6  371   78   22  625   64 1382    9    8  168\n",
      "  145   23    4 1690   15   16    4 1355    5   28    6   52  154  462\n",
      "   33   89   78  285   16  145   95    0    0    0    0    0    0    0\n",
      "    0    0    0    0    0    0    0    0    0    0    0    0    0    0\n",
      "    0    0    0    0    0    0    0    0    0    0    0    0    0    0\n",
      "    0    0    0    0    0    0    0    0    0    0    0    0    0    0\n",
      "    0    0    0    0    0    0    0    0    0    0    0    0    0    0\n",
      "    0    0    0    0    0    0    0    0    0    0    0    0    0    0\n",
      "    0    0    0    0    0    0    0    0    0    0    0    0    0    0\n",
      "    0    0    0    0    0    0    0    0    0    0    0    0    0    0\n",
      "    0    0    0    0    0    0    0    0    0    0    0    0    0    0\n",
      "    0    0    0    0    0    0    0    0    0    0    0    0    0    0\n",
      "    0    0    0    0    0    0    0    0    0    0    0    0    0    0\n",
      "    0    0    0    0    0    0    0    0    0    0    0    0    0    0\n",
      "    0    0    0    0    0    0    0    0    0    0    0    0    0    0\n",
      "    0    0    0    0    0    0    0    0    0    0    0    0    0    0\n",
      "    0    0    0    0    0    0    0    0    0    0    0    0    0    0\n",
      "    0    0    0    0    0    0    0    0    0    0    0    0    0    0\n",
      "    0    0    0    0    0    0    0    0    0    0    0    0    0    0\n",
      "    0    0    0    0    0    0    0    0    0    0    0    0    0    0\n",
      "    0    0    0    0    0    0    0    0    0    0    0    0    0    0\n",
      "    0    0    0    0    0    0    0    0    0    0    0    0    0    0\n",
      "    0    0    0    0    0    0    0    0    0    0    0    0    0    0\n",
      "    0    0    0    0    0    0    0    0    0    0    0    0    0    0\n",
      "    0    0    0    0    0    0    0    0    0    0]\n"
     ]
    }
   ],
   "source": [
    "max_length = 500\n",
    "\n",
    "train_data = keras.preprocessing.sequence.pad_sequences(\n",
    "    train_data,  # list of list\n",
    "    value = word_index['<PAD>'],\n",
    "    padding = 'post',  # post, pre\n",
    "    maxlen = max_length)\n",
    "\n",
    "test_data = keras.preprocessing.sequence.pad_sequences(\n",
    "    test_data,  # list of list\n",
    "    value = word_index['<PAD>'],\n",
    "    padding = 'post',  # post, pre\n",
    "    maxlen = max_length)\n",
    "\n",
    "print(train_data[1])"
   ]
  },
  {
   "cell_type": "markdown",
   "metadata": {},
   "source": [
    "# RNN实现"
   ]
  },
  {
   "cell_type": "code",
   "execution_count": 7,
   "metadata": {},
   "outputs": [
    {
     "name": "stdout",
     "output_type": "stream",
     "text": [
      "Model: \"sequential\"\n",
      "_________________________________________________________________\n",
      "Layer (type)                 Output Shape              Param #   \n",
      "=================================================================\n",
      "embedding (Embedding)        (None, 500, 16)           160000    \n",
      "_________________________________________________________________\n",
      "simple_rnn (SimpleRNN)       (None, 64)                5184      \n",
      "_________________________________________________________________\n",
      "dense (Dense)                (None, 64)                4160      \n",
      "_________________________________________________________________\n",
      "dense_1 (Dense)              (None, 1)                 65        \n",
      "=================================================================\n",
      "Total params: 169,409\n",
      "Trainable params: 169,409\n",
      "Non-trainable params: 0\n",
      "_________________________________________________________________\n"
     ]
    }
   ],
   "source": [
    "# 还是类似于全连接神经网络，只不过改变了内部的运算\n",
    "embedding_dim = 16\n",
    "batch_size = 512  # batch_size大或小的选择，利弊？\n",
    "# 相对于之前主要改的是这里\n",
    "single_rnn_model = keras.models.Sequential([\n",
    "    # 1. define matrix: [vocab_size, embedding_dim]\n",
    "    # 2. [1,2,3,4..], max_length * embedding_dim\n",
    "    # 3. batch_size * max_length * embedding_dim\n",
    "    keras.layers.Embedding(vocab_size, embedding_dim,\n",
    "                           input_length = max_length),\n",
    "    # return_sequences是返回输出序列中的最后一个输出还是完整序列,False就是返回最后一个\n",
    "    keras.layers.SimpleRNN(units = 64, return_sequences = False),\n",
    "    keras.layers.Dense(64, activation = 'relu'),\n",
    "    keras.layers.Dense(1, activation='sigmoid'),\n",
    "])\n",
    "\n",
    "single_rnn_model.summary()\n",
    "single_rnn_model.compile(optimizer = 'adam',\n",
    "                         loss = 'binary_crossentropy',\n",
    "                         metrics = ['accuracy'])\n"
   ]
  },
  {
   "cell_type": "code",
   "execution_count": 34,
   "metadata": {},
   "outputs": [
    {
     "data": {
      "text/plain": [
       "5184"
      ]
     },
     "execution_count": 34,
     "metadata": {},
     "output_type": "execute_result"
    }
   ],
   "source": [
    "16*64+64*64+64"
   ]
  },
  {
   "cell_type": "code",
   "execution_count": 8,
   "metadata": {},
   "outputs": [
    {
     "data": {
      "text/plain": [
       "[<tf.Variable 'embedding/embeddings:0' shape=(10000, 16) dtype=float32, numpy=\n",
       " array([[ 0.0165594 , -0.00914939, -0.02370505, ..., -0.04702259,\n",
       "         -0.04617817,  0.01115872],\n",
       "        [ 0.03633239, -0.03876071, -0.04057658, ..., -0.01687475,\n",
       "         -0.04926021,  0.03604135],\n",
       "        [ 0.0255363 , -0.02094686,  0.03711653, ...,  0.03912372,\n",
       "          0.0403913 , -0.04133527],\n",
       "        ...,\n",
       "        [-0.03086764,  0.01536793,  0.02938649, ..., -0.04880836,\n",
       "         -0.04162884,  0.02624382],\n",
       "        [ 0.02023273,  0.00490317,  0.04036916, ..., -0.02739565,\n",
       "         -0.04128449, -0.00661465],\n",
       "        [ 0.03930804, -0.02447202,  0.01274563, ..., -0.00369339,\n",
       "          0.01808872,  0.03292525]], dtype=float32)>,\n",
       " <tf.Variable 'simple_rnn/simple_rnn_cell/kernel:0' shape=(16, 64) dtype=float32, numpy=\n",
       " array([[ 0.21333072, -0.1550335 , -0.15522754, ..., -0.2362882 ,\n",
       "          0.10859582, -0.09172885],\n",
       "        [-0.23322743,  0.15241334, -0.12758054, ...,  0.07914782,\n",
       "          0.00493261,  0.05723274],\n",
       "        [-0.07502583, -0.1079455 ,  0.0431782 , ...,  0.1453082 ,\n",
       "          0.05182517,  0.00980058],\n",
       "        ...,\n",
       "        [ 0.07200515,  0.03923917,  0.11157316, ..., -0.01552919,\n",
       "         -0.2277672 , -0.10981375],\n",
       "        [-0.22673595,  0.06822661, -0.03421772, ...,  0.27332634,\n",
       "          0.18543506, -0.20493409],\n",
       "        [ 0.05735907,  0.26344836,  0.1700095 , ..., -0.0136399 ,\n",
       "          0.0124048 , -0.18169236]], dtype=float32)>,\n",
       " <tf.Variable 'simple_rnn/simple_rnn_cell/recurrent_kernel:0' shape=(64, 64) dtype=float32, numpy=\n",
       " array([[ 0.05379546,  0.01811968,  0.08742771, ...,  0.03801813,\n",
       "         -0.14118943,  0.00937141],\n",
       "        [ 0.15604533,  0.16921222, -0.00834925, ...,  0.12842676,\n",
       "          0.00452776,  0.26197234],\n",
       "        [-0.11993872, -0.3357871 ,  0.02981865, ...,  0.06457642,\n",
       "         -0.16319388, -0.13123152],\n",
       "        ...,\n",
       "        [ 0.10171463,  0.08203766, -0.07814918, ..., -0.14666164,\n",
       "          0.10559464, -0.07374887],\n",
       "        [ 0.1428089 , -0.01228717, -0.01774535, ..., -0.17207718,\n",
       "          0.05077208, -0.12902822],\n",
       "        [-0.1700901 , -0.20123315,  0.14387158, ...,  0.00595766,\n",
       "         -0.02517854,  0.13041173]], dtype=float32)>,\n",
       " <tf.Variable 'simple_rnn/simple_rnn_cell/bias:0' shape=(64,) dtype=float32, numpy=\n",
       " array([0., 0., 0., 0., 0., 0., 0., 0., 0., 0., 0., 0., 0., 0., 0., 0., 0.,\n",
       "        0., 0., 0., 0., 0., 0., 0., 0., 0., 0., 0., 0., 0., 0., 0., 0., 0.,\n",
       "        0., 0., 0., 0., 0., 0., 0., 0., 0., 0., 0., 0., 0., 0., 0., 0., 0.,\n",
       "        0., 0., 0., 0., 0., 0., 0., 0., 0., 0., 0., 0., 0.], dtype=float32)>,\n",
       " <tf.Variable 'dense/kernel:0' shape=(64, 64) dtype=float32, numpy=\n",
       " array([[ 0.05475356, -0.12427673, -0.21156505, ..., -0.04622045,\n",
       "         -0.08436802,  0.04514624],\n",
       "        [ 0.12480186,  0.04811771,  0.10899095, ..., -0.15010923,\n",
       "          0.05906714, -0.03330518],\n",
       "        [ 0.04536678,  0.13766734, -0.1438314 , ...,  0.17247699,\n",
       "          0.20160179,  0.0144691 ],\n",
       "        ...,\n",
       "        [-0.047821  ,  0.08031301,  0.04215445, ..., -0.01489563,\n",
       "          0.00622052, -0.0330793 ],\n",
       "        [ 0.09535031,  0.10676433,  0.12534215, ..., -0.18287085,\n",
       "          0.1233732 ,  0.17303662],\n",
       "        [ 0.10274474, -0.19569986,  0.09459244, ...,  0.04846118,\n",
       "          0.13703008,  0.10697164]], dtype=float32)>,\n",
       " <tf.Variable 'dense/bias:0' shape=(64,) dtype=float32, numpy=\n",
       " array([0., 0., 0., 0., 0., 0., 0., 0., 0., 0., 0., 0., 0., 0., 0., 0., 0.,\n",
       "        0., 0., 0., 0., 0., 0., 0., 0., 0., 0., 0., 0., 0., 0., 0., 0., 0.,\n",
       "        0., 0., 0., 0., 0., 0., 0., 0., 0., 0., 0., 0., 0., 0., 0., 0., 0.,\n",
       "        0., 0., 0., 0., 0., 0., 0., 0., 0., 0., 0., 0., 0.], dtype=float32)>,\n",
       " <tf.Variable 'dense_1/kernel:0' shape=(64, 1) dtype=float32, numpy=\n",
       " array([[ 0.11037001],\n",
       "        [ 0.24940217],\n",
       "        [-0.26596272],\n",
       "        [-0.22671033],\n",
       "        [-0.02151212],\n",
       "        [-0.19568712],\n",
       "        [-0.2125107 ],\n",
       "        [ 0.22028613],\n",
       "        [-0.12117845],\n",
       "        [-0.16814187],\n",
       "        [-0.25044423],\n",
       "        [ 0.03607431],\n",
       "        [-0.05178744],\n",
       "        [ 0.2286672 ],\n",
       "        [ 0.1985051 ],\n",
       "        [-0.02967504],\n",
       "        [ 0.20729291],\n",
       "        [-0.038091  ],\n",
       "        [ 0.14523396],\n",
       "        [ 0.25676262],\n",
       "        [ 0.1852547 ],\n",
       "        [ 0.13351676],\n",
       "        [-0.29627302],\n",
       "        [ 0.00827858],\n",
       "        [ 0.21943372],\n",
       "        [-0.06734286],\n",
       "        [-0.21848695],\n",
       "        [-0.00230312],\n",
       "        [-0.15520656],\n",
       "        [ 0.10672572],\n",
       "        [-0.14245501],\n",
       "        [-0.03423029],\n",
       "        [-0.10908867],\n",
       "        [-0.26806056],\n",
       "        [ 0.13592142],\n",
       "        [ 0.1541726 ],\n",
       "        [-0.1965339 ],\n",
       "        [ 0.12542099],\n",
       "        [ 0.17829353],\n",
       "        [ 0.20234126],\n",
       "        [ 0.23318946],\n",
       "        [-0.02896023],\n",
       "        [-0.18353549],\n",
       "        [ 0.20852393],\n",
       "        [ 0.14552575],\n",
       "        [ 0.01095027],\n",
       "        [ 0.024443  ],\n",
       "        [ 0.172806  ],\n",
       "        [-0.06378977],\n",
       "        [-0.23017165],\n",
       "        [-0.05369535],\n",
       "        [-0.2358864 ],\n",
       "        [ 0.16055617],\n",
       "        [-0.26018503],\n",
       "        [ 0.17319492],\n",
       "        [-0.24527465],\n",
       "        [-0.29567266],\n",
       "        [-0.18050003],\n",
       "        [ 0.18381974],\n",
       "        [ 0.10909593],\n",
       "        [ 0.07764751],\n",
       "        [ 0.17230946],\n",
       "        [-0.2655069 ],\n",
       "        [ 0.2106219 ]], dtype=float32)>,\n",
       " <tf.Variable 'dense_1/bias:0' shape=(1,) dtype=float32, numpy=array([0.], dtype=float32)>]"
      ]
     },
     "execution_count": 8,
     "metadata": {},
     "output_type": "execute_result"
    }
   ],
   "source": [
    "single_rnn_model.variables"
   ]
  },
  {
   "cell_type": "code",
   "execution_count": 35,
   "metadata": {},
   "outputs": [
    {
     "data": {
      "image/png": "[encoded data removed]",
      "text/plain": [
       "<IPython.core.display.Image object>"
      ]
     },
     "execution_count": 35,
     "metadata": {},
     "output_type": "execute_result"
    }
   ],
   "source": [
    "from tensorflow.keras.utils import plot_model\n",
    "\n",
    "plot_model(single_rnn_model)"
   ]
  },
  {
   "cell_type": "code",
   "execution_count": 9,
   "metadata": {},
   "outputs": [
    {
     "name": "stdout",
     "output_type": "stream",
     "text": [
      "Epoch 1/30\n",
      "40/40 [==============================] - 23s 581ms/step - loss: 0.6943 - accuracy: 0.4943 - val_loss: 0.6943 - val_accuracy: 0.4908\n",
      "Epoch 2/30\n",
      "40/40 [==============================] - 21s 534ms/step - loss: 0.6943 - accuracy: 0.4995 - val_loss: 0.6945 - val_accuracy: 0.5044\n",
      "Epoch 3/30\n",
      "40/40 [==============================] - 22s 557ms/step - loss: 0.6954 - accuracy: 0.5056 - val_loss: 0.6966 - val_accuracy: 0.4908\n",
      "Epoch 4/30\n",
      "40/40 [==============================] - 21s 527ms/step - loss: 0.6938 - accuracy: 0.5069 - val_loss: 0.6944 - val_accuracy: 0.4928\n",
      "Epoch 5/30\n",
      "40/40 [==============================] - 22s 547ms/step - loss: 0.6949 - accuracy: 0.5024 - val_loss: 0.6941 - val_accuracy: 0.4824\n",
      "Epoch 6/30\n",
      "40/40 [==============================] - 22s 540ms/step - loss: 0.6967 - accuracy: 0.5010 - val_loss: 0.7006 - val_accuracy: 0.5100\n",
      "Epoch 7/30\n",
      "40/40 [==============================] - 23s 570ms/step - loss: 0.6983 - accuracy: 0.5003 - val_loss: 0.6962 - val_accuracy: 0.5018\n",
      "Epoch 8/30\n",
      "40/40 [==============================] - 22s 560ms/step - loss: 0.6978 - accuracy: 0.5057 - val_loss: 0.7072 - val_accuracy: 0.5060\n",
      "Epoch 9/30\n",
      "40/40 [==============================] - 24s 592ms/step - loss: 0.6980 - accuracy: 0.4981 - val_loss: 0.6941 - val_accuracy: 0.4956\n",
      "Epoch 10/30\n",
      "40/40 [==============================] - 23s 571ms/step - loss: 0.6958 - accuracy: 0.4970 - val_loss: 0.6943 - val_accuracy: 0.5082\n",
      "Epoch 11/30\n",
      "40/40 [==============================] - 22s 552ms/step - loss: 0.6954 - accuracy: 0.4993 - val_loss: 0.6934 - val_accuracy: 0.5108\n",
      "Epoch 12/30\n",
      "40/40 [==============================] - 21s 531ms/step - loss: 0.6943 - accuracy: 0.5048 - val_loss: 0.7019 - val_accuracy: 0.4926\n",
      "Epoch 13/30\n",
      "40/40 [==============================] - 22s 550ms/step - loss: 0.6961 - accuracy: 0.5045 - val_loss: 0.6964 - val_accuracy: 0.4958\n",
      "Epoch 14/30\n",
      "40/40 [==============================] - 21s 522ms/step - loss: 0.6963 - accuracy: 0.5019 - val_loss: 0.6941 - val_accuracy: 0.5070\n",
      "Epoch 15/30\n",
      "40/40 [==============================] - 23s 580ms/step - loss: 0.6984 - accuracy: 0.4979 - val_loss: 0.6931 - val_accuracy: 0.4994\n",
      "Epoch 16/30\n",
      "40/40 [==============================] - 22s 559ms/step - loss: 0.6951 - accuracy: 0.5064 - val_loss: 0.6972 - val_accuracy: 0.4926\n",
      "Epoch 17/30\n",
      "40/40 [==============================] - 23s 564ms/step - loss: 0.6937 - accuracy: 0.5026 - val_loss: 0.6930 - val_accuracy: 0.5070\n",
      "Epoch 18/30\n",
      "40/40 [==============================] - 24s 602ms/step - loss: 0.6947 - accuracy: 0.5031 - val_loss: 0.6960 - val_accuracy: 0.4944\n",
      "Epoch 19/30\n",
      "40/40 [==============================] - 21s 531ms/step - loss: 0.6939 - accuracy: 0.5009 - val_loss: 0.6967 - val_accuracy: 0.4864\n",
      "Epoch 20/30\n",
      "40/40 [==============================] - 22s 552ms/step - loss: 0.6945 - accuracy: 0.5019 - val_loss: 0.6932 - val_accuracy: 0.5004\n",
      "Epoch 21/30\n",
      "40/40 [==============================] - 24s 592ms/step - loss: 0.6934 - accuracy: 0.5034 - val_loss: 0.6934 - val_accuracy: 0.4952\n",
      "Epoch 22/30\n",
      "40/40 [==============================] - 22s 554ms/step - loss: 0.6946 - accuracy: 0.5066 - val_loss: 0.6952 - val_accuracy: 0.5002\n",
      "Epoch 23/30\n",
      "40/40 [==============================] - 21s 534ms/step - loss: 0.6944 - accuracy: 0.5038 - val_loss: 0.6970 - val_accuracy: 0.4972\n",
      "Epoch 24/30\n",
      "40/40 [==============================] - 21s 537ms/step - loss: 0.6944 - accuracy: 0.5044 - val_loss: 0.6926 - val_accuracy: 0.5082\n",
      "Epoch 25/30\n",
      "40/40 [==============================] - 21s 517ms/step - loss: 0.6960 - accuracy: 0.5072 - val_loss: 0.6937 - val_accuracy: 0.4940\n",
      "Epoch 26/30\n",
      "40/40 [==============================] - 23s 563ms/step - loss: 0.6918 - accuracy: 0.5071 - val_loss: 0.6947 - val_accuracy: 0.5054\n",
      "Epoch 27/30\n",
      "40/40 [==============================] - 23s 574ms/step - loss: 0.6919 - accuracy: 0.5031 - val_loss: 0.6933 - val_accuracy: 0.5050\n",
      "Epoch 28/30\n",
      "40/40 [==============================] - 26s 650ms/step - loss: 0.6903 - accuracy: 0.5066 - val_loss: 0.6932 - val_accuracy: 0.5048\n",
      "Epoch 29/30\n",
      "40/40 [==============================] - 22s 549ms/step - loss: 0.6900 - accuracy: 0.5085 - val_loss: 0.6988 - val_accuracy: 0.4938\n",
      "Epoch 30/30\n",
      "40/40 [==============================] - 23s 572ms/step - loss: 0.6901 - accuracy: 0.5130 - val_loss: 0.6941 - val_accuracy: 0.5056\n"
     ]
    }
   ],
   "source": [
    "history_single_rnn = single_rnn_model.fit(\n",
    "    train_data, train_labels,\n",
    "    epochs = 30,\n",
    "    batch_size = batch_size,\n",
    "    # 我们这里和之前不一样，没有验证集，所以分20%给验证集\n",
    "    validation_split = 0.2)\n"
   ]
  },
  {
   "cell_type": "code",
   "execution_count": 38,
   "metadata": {},
   "outputs": [
    {
     "data": {
      "image/png": "[encoded data removed]",
      "text/plain": [
       "<Figure size 576x360 with 1 Axes>"
      ]
     },
     "metadata": {
      "needs_background": "light"
     },
     "output_type": "display_data"
    },
    {
     "data": {
      "image/png": "[encoded data removed]",
      "text/plain": [
       "<Figure size 576x360 with 1 Axes>"
      ]
     },
     "metadata": {
      "needs_background": "light"
     },
     "output_type": "display_data"
    }
   ],
   "source": [
    "def plot_learning_curves(history, label, epochs, min_value, max_value):\n",
    "    data = {}\n",
    "    data[label] = history.history[label]\n",
    "    data['val_'+label] = history.history['val_'+label]\n",
    "    pd.DataFrame(data).plot(figsize=(8, 5))\n",
    "    plt.grid(True)\n",
    "    plt.axis([0, epochs, min_value, max_value])\n",
    "    plt.show()\n",
    "    \n",
    "plot_learning_curves(history_single_rnn, 'accuracy', 30, 0, 1)\n",
    "plot_learning_curves(history_single_rnn, 'loss', 30, 0, 1)"
   ]
  },
  {
   "cell_type": "code",
   "execution_count": 39,
   "metadata": {},
   "outputs": [
    {
     "data": {
      "text/plain": [
       "[0.6994760036468506, 0.5013999938964844]"
      ]
     },
     "execution_count": 39,
     "metadata": {},
     "output_type": "execute_result"
    }
   ],
   "source": [
    "single_rnn_model.evaluate(\n",
    "    test_data, test_labels,\n",
    "    batch_size = batch_size,\n",
    "    verbose = 0)"
   ]
  },
  {
   "cell_type": "code",
   "execution_count": 40,
   "metadata": {},
   "outputs": [
    {
     "name": "stdout",
     "output_type": "stream",
     "text": [
      "Model: \"sequential_3\"\n",
      "_________________________________________________________________\n",
      "Layer (type)                 Output Shape              Param #   \n",
      "=================================================================\n",
      "embedding_3 (Embedding)      (None, 500, 16)           160000    \n",
      "_________________________________________________________________\n",
      "bidirectional (Bidirectional (None, 500, 128)          10368     \n",
      "_________________________________________________________________\n",
      "bidirectional_1 (Bidirection (None, 128)               24704     \n",
      "_________________________________________________________________\n",
      "dense_6 (Dense)              (None, 64)                8256      \n",
      "_________________________________________________________________\n",
      "dense_7 (Dense)              (None, 1)                 65        \n",
      "=================================================================\n",
      "Total params: 203,393\n",
      "Trainable params: 203,393\n",
      "Non-trainable params: 0\n",
      "_________________________________________________________________\n"
     ]
    }
   ],
   "source": [
    "#如果我们实现双向的rnn是不是会好一些\n",
    "embedding_dim = 16\n",
    "batch_size = 512\n",
    "\n",
    "model = keras.models.Sequential([\n",
    "    # 1. define matrix: [vocab_size, embedding_dim]\n",
    "    # 2. [1,2,3,4..], max_length * embedding_dim\n",
    "    # 3. batch_size * max_length * embedding_dim\n",
    "    keras.layers.Embedding(vocab_size, embedding_dim,\n",
    "                           input_length = max_length),\n",
    "    # Bidirectional代表双向rnn，前面的计算会收到后面样本的影响\n",
    "    keras.layers.Bidirectional(\n",
    "        keras.layers.SimpleRNN(\n",
    "            units = 64, return_sequences = True)),\n",
    "    keras.layers.Bidirectional(\n",
    "        keras.layers.SimpleRNN(\n",
    "            units = 64, return_sequences = False)),\n",
    "    keras.layers.Dense(64, activation = 'relu'),\n",
    "    keras.layers.Dense(1, activation='sigmoid'),\n",
    "])\n",
    "\n",
    "model.summary()\n",
    "model.compile(optimizer = 'adam',\n",
    "             #  当只有两个标签类别（假定为0和1）时，使用此交叉熵损失\n",
    "              loss = 'binary_crossentropy',\n",
    "              metrics = ['accuracy'])"
   ]
  },
  {
   "cell_type": "code",
   "execution_count": 41,
   "metadata": {},
   "outputs": [
    {
     "data": {
      "image/png": "[encoded data removed]",
      "text/plain": [
       "<IPython.core.display.Image object>"
      ]
     },
     "execution_count": 41,
     "metadata": {},
     "output_type": "execute_result"
    }
   ],
   "source": [
    "from tensorflow.keras.utils import plot_model\n",
    "\n",
    "plot_model(model)"
   ]
  },
  {
   "cell_type": "code",
   "execution_count": 10,
   "metadata": {},
   "outputs": [
    {
     "data": {
      "text/plain": [
       "10368"
      ]
     },
     "execution_count": 10,
     "metadata": {},
     "output_type": "execute_result"
    }
   ],
   "source": [
    "(16*64+64*64+64)*2"
   ]
  },
  {
   "cell_type": "code",
   "execution_count": 11,
   "metadata": {},
   "outputs": [
    {
     "data": {
      "text/plain": [
       "24704"
      ]
     },
     "execution_count": 11,
     "metadata": {},
     "output_type": "execute_result"
    }
   ],
   "source": [
    "(128*64+64*64+64)*2"
   ]
  },
  {
   "cell_type": "code",
   "execution_count": 42,
   "metadata": {},
   "outputs": [
    {
     "data": {
      "text/plain": [
       "[<tf.Variable 'embedding_3/embeddings:0' shape=(10000, 16) dtype=float32, numpy=\n",
       " array([[ 0.02326813,  0.01398808,  0.04090149, ..., -0.02246133,\n",
       "         -0.03798764,  0.04242514],\n",
       "        [ 0.02041811,  0.03078611, -0.03023851, ..., -0.02718338,\n",
       "          0.04853911, -0.04064686],\n",
       "        [ 0.03126455, -0.03748938,  0.02162923, ..., -0.03430094,\n",
       "         -0.03151419, -0.01681451],\n",
       "        ...,\n",
       "        [-0.00523705,  0.01299472, -0.00510105, ..., -0.01630385,\n",
       "         -0.04195578,  0.0336333 ],\n",
       "        [ 0.0077468 , -0.0166244 , -0.00744166, ...,  0.03499276,\n",
       "         -0.01319002, -0.00442303],\n",
       "        [-0.03639929, -0.02909964, -0.01600497, ..., -0.02594488,\n",
       "         -0.02042313, -0.04146362]], dtype=float32)>,\n",
       " <tf.Variable 'bidirectional/forward_simple_rnn_3/simple_rnn_cell_4/kernel:0' shape=(16, 64) dtype=float32, numpy=\n",
       " array([[ 0.16542277,  0.11190966,  0.17979866, ..., -0.11129794,\n",
       "         -0.19962479, -0.02575807],\n",
       "        [ 0.14835468, -0.09918016, -0.1281226 , ..., -0.05117989,\n",
       "          0.14871407, -0.02244788],\n",
       "        [-0.25164506,  0.00531614,  0.11670503, ..., -0.08110258,\n",
       "         -0.10885765, -0.18927497],\n",
       "        ...,\n",
       "        [ 0.14120165, -0.2526461 , -0.25355452, ..., -0.04929341,\n",
       "          0.10808653,  0.06299677],\n",
       "        [-0.21891978, -0.0953294 , -0.14382233, ..., -0.06163476,\n",
       "         -0.06757517,  0.0996798 ],\n",
       "        [ 0.24318773, -0.10616906,  0.06415188, ...,  0.19544756,\n",
       "          0.1427831 , -0.18346533]], dtype=float32)>,\n",
       " <tf.Variable 'bidirectional/forward_simple_rnn_3/simple_rnn_cell_4/recurrent_kernel:0' shape=(64, 64) dtype=float32, numpy=\n",
       " array([[ 0.2102207 ,  0.12007906, -0.03536204, ..., -0.08988662,\n",
       "          0.17424595,  0.05006652],\n",
       "        [-0.02764521, -0.02528667, -0.044222  , ..., -0.09187305,\n",
       "          0.0517984 ,  0.13781378],\n",
       "        [-0.06200351, -0.08238268,  0.15322995, ..., -0.03490978,\n",
       "          0.18597843,  0.03525244],\n",
       "        ...,\n",
       "        [-0.12859322,  0.16466407, -0.12632763, ..., -0.03843747,\n",
       "          0.23596156, -0.04474387],\n",
       "        [-0.17424746, -0.11657992,  0.02426838, ...,  0.03796006,\n",
       "         -0.00480008,  0.0940936 ],\n",
       "        [-0.07748656,  0.13227819,  0.11288477, ...,  0.03826156,\n",
       "          0.00978464, -0.15124358]], dtype=float32)>,\n",
       " <tf.Variable 'bidirectional/forward_simple_rnn_3/simple_rnn_cell_4/bias:0' shape=(64,) dtype=float32, numpy=\n",
       " array([0., 0., 0., 0., 0., 0., 0., 0., 0., 0., 0., 0., 0., 0., 0., 0., 0.,\n",
       "        0., 0., 0., 0., 0., 0., 0., 0., 0., 0., 0., 0., 0., 0., 0., 0., 0.,\n",
       "        0., 0., 0., 0., 0., 0., 0., 0., 0., 0., 0., 0., 0., 0., 0., 0., 0.,\n",
       "        0., 0., 0., 0., 0., 0., 0., 0., 0., 0., 0., 0., 0.], dtype=float32)>,\n",
       " <tf.Variable 'bidirectional/backward_simple_rnn_3/simple_rnn_cell_5/kernel:0' shape=(16, 64) dtype=float32, numpy=\n",
       " array([[ 0.17539367, -0.18620166,  0.15039608, ..., -0.16359206,\n",
       "          0.19634235,  0.17045978],\n",
       "        [ 0.23042387, -0.2574202 ,  0.01292565, ...,  0.2410183 ,\n",
       "         -0.25677204,  0.14982378],\n",
       "        [-0.05101886,  0.17580384, -0.10230243, ..., -0.11348717,\n",
       "          0.01860216,  0.269548  ],\n",
       "        ...,\n",
       "        [-0.1120863 ,  0.07307792, -0.11248766, ...,  0.10296485,\n",
       "          0.2120691 ,  0.25099742],\n",
       "        [ 0.0680176 ,  0.13795629,  0.2060028 , ...,  0.09795728,\n",
       "         -0.05808964, -0.22110124],\n",
       "        [ 0.26256597, -0.10709172, -0.15282834, ..., -0.05285969,\n",
       "         -0.17322417, -0.09726712]], dtype=float32)>,\n",
       " <tf.Variable 'bidirectional/backward_simple_rnn_3/simple_rnn_cell_5/recurrent_kernel:0' shape=(64, 64) dtype=float32, numpy=\n",
       " array([[ 0.00856709,  0.10882905,  0.15667447, ..., -0.06916574,\n",
       "         -0.04782245,  0.02778822],\n",
       "        [ 0.05250219, -0.1977278 ,  0.20867962, ...,  0.08003715,\n",
       "         -0.02717937, -0.06056437],\n",
       "        [-0.21286546,  0.23882605,  0.16065395, ..., -0.1841288 ,\n",
       "         -0.05178171,  0.00264057],\n",
       "        ...,\n",
       "        [-0.02820437,  0.13741751,  0.04103899, ..., -0.1361237 ,\n",
       "         -0.02026965,  0.14304584],\n",
       "        [-0.10749362,  0.03763698,  0.06373164, ...,  0.02557965,\n",
       "          0.2441594 , -0.06875002],\n",
       "        [ 0.02173178, -0.08812981,  0.09088335, ..., -0.1083658 ,\n",
       "          0.2100484 ,  0.13127987]], dtype=float32)>,\n",
       " <tf.Variable 'bidirectional/backward_simple_rnn_3/simple_rnn_cell_5/bias:0' shape=(64,) dtype=float32, numpy=\n",
       " array([0., 0., 0., 0., 0., 0., 0., 0., 0., 0., 0., 0., 0., 0., 0., 0., 0.,\n",
       "        0., 0., 0., 0., 0., 0., 0., 0., 0., 0., 0., 0., 0., 0., 0., 0., 0.,\n",
       "        0., 0., 0., 0., 0., 0., 0., 0., 0., 0., 0., 0., 0., 0., 0., 0., 0.,\n",
       "        0., 0., 0., 0., 0., 0., 0., 0., 0., 0., 0., 0., 0.], dtype=float32)>,\n",
       " <tf.Variable 'bidirectional_1/forward_simple_rnn_4/simple_rnn_cell_7/kernel:0' shape=(128, 64) dtype=float32, numpy=\n",
       " array([[ 0.09921227, -0.02627291, -0.14006543, ...,  0.12470739,\n",
       "         -0.08429614,  0.11629795],\n",
       "        [ 0.16502471,  0.09934209,  0.12894781, ..., -0.09831245,\n",
       "          0.10662462,  0.03591068],\n",
       "        [-0.01910508,  0.13147877,  0.16968305, ..., -0.08769781,\n",
       "          0.05503759, -0.05819725],\n",
       "        ...,\n",
       "        [-0.14413999,  0.15989725, -0.01971786, ..., -0.05418732,\n",
       "          0.10893653,  0.15825088],\n",
       "        [-0.05094719, -0.14408642, -0.16108546, ..., -0.1662163 ,\n",
       "         -0.12609418, -0.14659593],\n",
       "        [ 0.0470645 , -0.1316284 ,  0.031499  , ..., -0.11366221,\n",
       "         -0.1530161 , -0.12028736]], dtype=float32)>,\n",
       " <tf.Variable 'bidirectional_1/forward_simple_rnn_4/simple_rnn_cell_7/recurrent_kernel:0' shape=(64, 64) dtype=float32, numpy=\n",
       " array([[-0.10733283,  0.20618622,  0.18421346, ..., -0.00065562,\n",
       "         -0.01897063, -0.1496438 ],\n",
       "        [-0.05449642, -0.06711268,  0.0815033 , ...,  0.01767201,\n",
       "         -0.14639935,  0.08861937],\n",
       "        [-0.06623898,  0.09552835, -0.00372803, ..., -0.09099645,\n",
       "         -0.19886145,  0.11234698],\n",
       "        ...,\n",
       "        [ 0.12445945,  0.0007967 , -0.16004828, ..., -0.05444727,\n",
       "         -0.07822839,  0.08431919],\n",
       "        [ 0.2957303 , -0.13765678,  0.26092565, ...,  0.06519587,\n",
       "          0.02102458, -0.06922238],\n",
       "        [ 0.17618208, -0.05670818,  0.14849903, ...,  0.00488026,\n",
       "          0.09362846, -0.12769714]], dtype=float32)>,\n",
       " <tf.Variable 'bidirectional_1/forward_simple_rnn_4/simple_rnn_cell_7/bias:0' shape=(64,) dtype=float32, numpy=\n",
       " array([0., 0., 0., 0., 0., 0., 0., 0., 0., 0., 0., 0., 0., 0., 0., 0., 0.,\n",
       "        0., 0., 0., 0., 0., 0., 0., 0., 0., 0., 0., 0., 0., 0., 0., 0., 0.,\n",
       "        0., 0., 0., 0., 0., 0., 0., 0., 0., 0., 0., 0., 0., 0., 0., 0., 0.,\n",
       "        0., 0., 0., 0., 0., 0., 0., 0., 0., 0., 0., 0., 0.], dtype=float32)>,\n",
       " <tf.Variable 'bidirectional_1/backward_simple_rnn_4/simple_rnn_cell_8/kernel:0' shape=(128, 64) dtype=float32, numpy=\n",
       " array([[-0.1245814 ,  0.10093631,  0.16721757, ..., -0.02727221,\n",
       "          0.02349514, -0.13284117],\n",
       "        [-0.14297669,  0.07097462,  0.12047543, ...,  0.06490956,\n",
       "         -0.02747279,  0.1753668 ],\n",
       "        [-0.01264085,  0.03146604,  0.03405541, ..., -0.11635889,\n",
       "         -0.06120915, -0.1654612 ],\n",
       "        ...,\n",
       "        [ 0.16331069,  0.15660204, -0.00695793, ..., -0.1176061 ,\n",
       "         -0.01867492,  0.1038978 ],\n",
       "        [ 0.14959295, -0.02266918, -0.12046804, ..., -0.01761131,\n",
       "          0.08676355, -0.03065623],\n",
       "        [ 0.01135613, -0.1494381 ,  0.03785132, ...,  0.11356269,\n",
       "         -0.1164085 , -0.13771154]], dtype=float32)>,\n",
       " <tf.Variable 'bidirectional_1/backward_simple_rnn_4/simple_rnn_cell_8/recurrent_kernel:0' shape=(64, 64) dtype=float32, numpy=\n",
       " array([[ 0.26878917, -0.18993357, -0.16223675, ..., -0.13692932,\n",
       "          0.09142903, -0.10206439],\n",
       "        [ 0.06008881, -0.16814113,  0.16094829, ...,  0.19794348,\n",
       "          0.13378565, -0.04736234],\n",
       "        [-0.00341873,  0.00709949,  0.14600003, ...,  0.01362209,\n",
       "          0.03767145,  0.2182997 ],\n",
       "        ...,\n",
       "        [ 0.0932625 , -0.02808318, -0.09904765, ...,  0.01555727,\n",
       "         -0.04153089,  0.15661067],\n",
       "        [-0.23461907,  0.17564768, -0.07172824, ...,  0.15155065,\n",
       "         -0.19708496,  0.00298332],\n",
       "        [ 0.05245379, -0.02344117,  0.08865262, ...,  0.05387882,\n",
       "         -0.03885985, -0.0250577 ]], dtype=float32)>,\n",
       " <tf.Variable 'bidirectional_1/backward_simple_rnn_4/simple_rnn_cell_8/bias:0' shape=(64,) dtype=float32, numpy=\n",
       " array([0., 0., 0., 0., 0., 0., 0., 0., 0., 0., 0., 0., 0., 0., 0., 0., 0.,\n",
       "        0., 0., 0., 0., 0., 0., 0., 0., 0., 0., 0., 0., 0., 0., 0., 0., 0.,\n",
       "        0., 0., 0., 0., 0., 0., 0., 0., 0., 0., 0., 0., 0., 0., 0., 0., 0.,\n",
       "        0., 0., 0., 0., 0., 0., 0., 0., 0., 0., 0., 0., 0.], dtype=float32)>,\n",
       " <tf.Variable 'dense_6/kernel:0' shape=(128, 64) dtype=float32, numpy=\n",
       " array([[-0.1224476 , -0.14359634,  0.05863322, ..., -0.03391898,\n",
       "         -0.03902158,  0.01169795],\n",
       "        [ 0.01579368, -0.08269629, -0.09202263, ...,  0.13957001,\n",
       "         -0.06552174,  0.12909587],\n",
       "        [ 0.01835904, -0.01366338,  0.00939107, ..., -0.02097565,\n",
       "          0.0847811 , -0.15779814],\n",
       "        ...,\n",
       "        [ 0.17445241, -0.08315834,  0.09527169, ..., -0.15396824,\n",
       "          0.08470561,  0.1735393 ],\n",
       "        [ 0.03614299, -0.06336534, -0.08989455, ...,  0.16888697,\n",
       "         -0.03468168,  0.02781203],\n",
       "        [-0.00673097,  0.10495366,  0.11438392, ...,  0.09652476,\n",
       "         -0.1476944 , -0.1357686 ]], dtype=float32)>,\n",
       " <tf.Variable 'dense_6/bias:0' shape=(64,) dtype=float32, numpy=\n",
       " array([0., 0., 0., 0., 0., 0., 0., 0., 0., 0., 0., 0., 0., 0., 0., 0., 0.,\n",
       "        0., 0., 0., 0., 0., 0., 0., 0., 0., 0., 0., 0., 0., 0., 0., 0., 0.,\n",
       "        0., 0., 0., 0., 0., 0., 0., 0., 0., 0., 0., 0., 0., 0., 0., 0., 0.,\n",
       "        0., 0., 0., 0., 0., 0., 0., 0., 0., 0., 0., 0., 0.], dtype=float32)>,\n",
       " <tf.Variable 'dense_7/kernel:0' shape=(64, 1) dtype=float32, numpy=\n",
       " array([[-0.06590304],\n",
       "        [-0.04383308],\n",
       "        [-0.2423684 ],\n",
       "        [ 0.10455537],\n",
       "        [-0.30143002],\n",
       "        [-0.2362147 ],\n",
       "        [-0.12645264],\n",
       "        [-0.1907223 ],\n",
       "        [ 0.25535762],\n",
       "        [-0.1479878 ],\n",
       "        [ 0.2083332 ],\n",
       "        [ 0.25845307],\n",
       "        [ 0.27564138],\n",
       "        [ 0.05906659],\n",
       "        [ 0.14583129],\n",
       "        [-0.19049093],\n",
       "        [ 0.24201244],\n",
       "        [ 0.02225271],\n",
       "        [ 0.21597242],\n",
       "        [-0.04404488],\n",
       "        [ 0.15727231],\n",
       "        [-0.25801843],\n",
       "        [ 0.3014238 ],\n",
       "        [ 0.22330147],\n",
       "        [-0.17954436],\n",
       "        [ 0.14367571],\n",
       "        [ 0.27809507],\n",
       "        [ 0.21969736],\n",
       "        [-0.09341423],\n",
       "        [ 0.0467588 ],\n",
       "        [ 0.16923082],\n",
       "        [ 0.30256665],\n",
       "        [-0.27720404],\n",
       "        [-0.04082704],\n",
       "        [ 0.13183701],\n",
       "        [ 0.17769405],\n",
       "        [-0.10161994],\n",
       "        [-0.16307761],\n",
       "        [-0.13274284],\n",
       "        [ 0.19509453],\n",
       "        [-0.16287   ],\n",
       "        [ 0.09543565],\n",
       "        [ 0.175962  ],\n",
       "        [ 0.15894336],\n",
       "        [-0.06097256],\n",
       "        [-0.01130152],\n",
       "        [-0.17516151],\n",
       "        [ 0.02140599],\n",
       "        [-0.1463847 ],\n",
       "        [ 0.01343882],\n",
       "        [-0.06308539],\n",
       "        [-0.26950547],\n",
       "        [ 0.13820115],\n",
       "        [ 0.15342084],\n",
       "        [-0.20070155],\n",
       "        [-0.29119238],\n",
       "        [-0.10071485],\n",
       "        [ 0.23258674],\n",
       "        [ 0.09373802],\n",
       "        [-0.05547489],\n",
       "        [-0.01218632],\n",
       "        [-0.17890266],\n",
       "        [-0.12061243],\n",
       "        [ 0.08334312]], dtype=float32)>,\n",
       " <tf.Variable 'dense_7/bias:0' shape=(1,) dtype=float32, numpy=array([0.], dtype=float32)>]"
      ]
     },
     "execution_count": 42,
     "metadata": {},
     "output_type": "execute_result"
    }
   ],
   "source": [
    "model.variables"
   ]
  },
  {
   "cell_type": "code",
   "execution_count": 43,
   "metadata": {},
   "outputs": [
    {
     "name": "stdout",
     "output_type": "stream",
     "text": [
      "Epoch 1/30\n",
      "40/40 [==============================] - 112s 3s/step - loss: 0.6995 - accuracy: 0.5040 - val_loss: 0.6943 - val_accuracy: 0.5066\n",
      "Epoch 2/30\n",
      "40/40 [==============================] - 95s 2s/step - loss: 0.6870 - accuracy: 0.5378 - val_loss: 0.7052 - val_accuracy: 0.5222\n",
      "Epoch 3/30\n",
      "40/40 [==============================] - 103s 3s/step - loss: 0.6342 - accuracy: 0.6386 - val_loss: 0.7107 - val_accuracy: 0.5510\n",
      "Epoch 4/30\n",
      "40/40 [==============================] - 114s 3s/step - loss: 0.4848 - accuracy: 0.7742 - val_loss: 0.7927 - val_accuracy: 0.5600\n",
      "Epoch 5/30\n",
      "40/40 [==============================] - 110s 3s/step - loss: 0.3031 - accuracy: 0.8791 - val_loss: 1.0862 - val_accuracy: 0.5574\n",
      "Epoch 6/30\n",
      "40/40 [==============================] - 97s 2s/step - loss: 0.1503 - accuracy: 0.9475 - val_loss: 1.4877 - val_accuracy: 0.5564\n",
      "Epoch 7/30\n",
      "40/40 [==============================] - 98s 2s/step - loss: 0.0859 - accuracy: 0.9722 - val_loss: 1.7664 - val_accuracy: 0.5554\n",
      "Epoch 8/30\n",
      "40/40 [==============================] - 101s 3s/step - loss: 0.0245 - accuracy: 0.9940 - val_loss: 2.1913 - val_accuracy: 0.5560\n",
      "Epoch 9/30\n",
      "40/40 [==============================] - 99s 2s/step - loss: 0.0114 - accuracy: 0.9976 - val_loss: 2.4675 - val_accuracy: 0.5570\n",
      "Epoch 10/30\n",
      "40/40 [==============================] - 101s 3s/step - loss: 0.0057 - accuracy: 0.9991 - val_loss: 2.6950 - val_accuracy: 0.5536\n",
      "Epoch 11/30\n",
      "40/40 [==============================] - 100s 3s/step - loss: 0.0072 - accuracy: 0.9979 - val_loss: 2.9187 - val_accuracy: 0.5546\n",
      "Epoch 12/30\n",
      "40/40 [==============================] - 95s 2s/step - loss: 0.0057 - accuracy: 0.9980 - val_loss: 3.0194 - val_accuracy: 0.5602\n",
      "Epoch 13/30\n",
      "40/40 [==============================] - 111s 3s/step - loss: 0.0064 - accuracy: 0.9980 - val_loss: 3.1456 - val_accuracy: 0.5598\n",
      "Epoch 14/30\n",
      "40/40 [==============================] - 98s 2s/step - loss: 0.0058 - accuracy: 0.9984 - val_loss: 3.1904 - val_accuracy: 0.5528\n",
      "Epoch 15/30\n",
      "40/40 [==============================] - 88s 2s/step - loss: 0.0063 - accuracy: 0.9982 - val_loss: 3.4109 - val_accuracy: 0.5554\n",
      "Epoch 16/30\n",
      "40/40 [==============================] - 67s 2s/step - loss: 0.0226 - accuracy: 0.9920 - val_loss: 3.0463 - val_accuracy: 0.5508\n",
      "Epoch 17/30\n",
      "40/40 [==============================] - 64s 2s/step - loss: 0.0881 - accuracy: 0.9697 - val_loss: 1.9868 - val_accuracy: 0.5526\n",
      "Epoch 18/30\n",
      "40/40 [==============================] - 61s 2s/step - loss: 0.0226 - accuracy: 0.9919 - val_loss: 2.4469 - val_accuracy: 0.5638\n",
      "Epoch 19/30\n",
      "40/40 [==============================] - 61s 2s/step - loss: 0.0146 - accuracy: 0.9952 - val_loss: 2.5850 - val_accuracy: 0.5654\n",
      "Epoch 20/30\n",
      "40/40 [==============================] - 61s 2s/step - loss: 0.0022 - accuracy: 0.9996 - val_loss: 2.8307 - val_accuracy: 0.5670\n",
      "Epoch 21/30\n",
      "40/40 [==============================] - 61s 2s/step - loss: 0.0012 - accuracy: 0.9998 - val_loss: 2.9494 - val_accuracy: 0.5666\n",
      "Epoch 22/30\n",
      "40/40 [==============================] - 62s 2s/step - loss: 3.9793e-04 - accuracy: 1.0000 - val_loss: 3.0112 - val_accuracy: 0.5666\n",
      "Epoch 23/30\n",
      "40/40 [==============================] - 61s 2s/step - loss: 1.6716e-04 - accuracy: 1.0000 - val_loss: 3.0774 - val_accuracy: 0.5670\n",
      "Epoch 24/30\n",
      "40/40 [==============================] - 64s 2s/step - loss: 1.2366e-04 - accuracy: 1.0000 - val_loss: 3.1221 - val_accuracy: 0.5674\n",
      "Epoch 25/30\n",
      "40/40 [==============================] - 62s 2s/step - loss: 1.1873e-04 - accuracy: 1.0000 - val_loss: 3.1626 - val_accuracy: 0.5670\n",
      "Epoch 26/30\n",
      "40/40 [==============================] - 64s 2s/step - loss: 9.4081e-05 - accuracy: 1.0000 - val_loss: 3.1972 - val_accuracy: 0.5662\n",
      "Epoch 27/30\n",
      "40/40 [==============================] - 65s 2s/step - loss: 8.2315e-05 - accuracy: 1.0000 - val_loss: 3.2270 - val_accuracy: 0.5670\n",
      "Epoch 28/30\n",
      "40/40 [==============================] - 65s 2s/step - loss: 7.3202e-05 - accuracy: 1.0000 - val_loss: 3.2551 - val_accuracy: 0.5678\n",
      "Epoch 29/30\n",
      "40/40 [==============================] - 67s 2s/step - loss: 6.5790e-05 - accuracy: 1.0000 - val_loss: 3.2822 - val_accuracy: 0.5676\n",
      "Epoch 30/30\n",
      "40/40 [==============================] - 66s 2s/step - loss: 5.9603e-05 - accuracy: 1.0000 - val_loss: 3.3076 - val_accuracy: 0.5676\n"
     ]
    }
   ],
   "source": [
    "history = model.fit(\n",
    "    train_data, train_labels,\n",
    "    epochs = 30,\n",
    "    batch_size = batch_size,\n",
    "    validation_split = 0.2)\n"
   ]
  },
  {
   "cell_type": "code",
   "execution_count": 44,
   "metadata": {},
   "outputs": [
    {
     "data": {
      "image/png": "[encoded data removed]",
      "text/plain": [
       "<Figure size 576x360 with 1 Axes>"
      ]
     },
     "metadata": {
      "needs_background": "light"
     },
     "output_type": "display_data"
    },
    {
     "data": {
      "image/png": "[encoded data removed]",
      "text/plain": [
       "<Figure size 576x360 with 1 Axes>"
      ]
     },
     "metadata": {
      "needs_background": "light"
     },
     "output_type": "display_data"
    }
   ],
   "source": [
    "plot_learning_curves(history, 'accuracy', 30, 0, 1)\n",
    "plot_learning_curves(history, 'loss', 30, 0, 3.8)\n",
    "#我们发现过拟合了，可能是模型太复杂了，我们改为单层的rnn"
   ]
  },
  {
   "cell_type": "code",
   "execution_count": 45,
   "metadata": {},
   "outputs": [
    {
     "name": "stdout",
     "output_type": "stream",
     "text": [
      "Model: \"sequential_4\"\n",
      "_________________________________________________________________\n",
      "Layer (type)                 Output Shape              Param #   \n",
      "=================================================================\n",
      "embedding_4 (Embedding)      (None, 500, 16)           160000    \n",
      "_________________________________________________________________\n",
      "bidirectional_2 (Bidirection (None, 64)                3136      \n",
      "_________________________________________________________________\n",
      "dense_8 (Dense)              (None, 32)                2080      \n",
      "_________________________________________________________________\n",
      "dense_9 (Dense)              (None, 1)                 33        \n",
      "=================================================================\n",
      "Total params: 165,249\n",
      "Trainable params: 165,249\n",
      "Non-trainable params: 0\n",
      "_________________________________________________________________\n"
     ]
    }
   ],
   "source": [
    "embedding_dim = 16\n",
    "batch_size = 512\n",
    "\n",
    "bi_rnn_model = keras.models.Sequential([\n",
    "    # 1. define matrix: [vocab_size, embedding_dim]\n",
    "    # 2. [1,2,3,4..], max_length * embedding_dim\n",
    "    # 3. batch_size * max_length * embedding_dim\n",
    "    keras.layers.Embedding(vocab_size, embedding_dim,\n",
    "                           input_length = max_length),\n",
    "    keras.layers.Bidirectional(\n",
    "        keras.layers.SimpleRNN(\n",
    "            units = 32, return_sequences = False)),\n",
    "    keras.layers.Dense(32, activation = 'relu'),\n",
    "    keras.layers.Dense(1, activation='sigmoid'),\n",
    "])\n",
    "\n",
    "bi_rnn_model.summary()\n",
    "bi_rnn_model.compile(optimizer = 'adam',\n",
    "                     loss = 'binary_crossentropy',\n",
    "                     metrics = ['accuracy'])"
   ]
  },
  {
   "cell_type": "code",
   "execution_count": 46,
   "metadata": {},
   "outputs": [
    {
     "name": "stdout",
     "output_type": "stream",
     "text": [
      "Epoch 1/30\n",
      "40/40 [==============================] - 10s 244ms/step - loss: 0.6933 - accuracy: 0.5090 - val_loss: 0.6909 - val_accuracy: 0.5220\n",
      "Epoch 2/30\n",
      "40/40 [==============================] - 11s 279ms/step - loss: 0.6682 - accuracy: 0.6123 - val_loss: 0.6780 - val_accuracy: 0.5430\n",
      "Epoch 3/30\n",
      "40/40 [==============================] - 10s 253ms/step - loss: 0.5777 - accuracy: 0.7121 - val_loss: 0.5491 - val_accuracy: 0.7470\n",
      "Epoch 4/30\n",
      "40/40 [==============================] - 10s 246ms/step - loss: 0.3915 - accuracy: 0.8378 - val_loss: 0.4528 - val_accuracy: 0.8088\n",
      "Epoch 5/30\n",
      "40/40 [==============================] - 9s 235ms/step - loss: 0.2788 - accuracy: 0.8910 - val_loss: 0.4505 - val_accuracy: 0.8146\n",
      "Epoch 6/30\n",
      "40/40 [==============================] - 9s 228ms/step - loss: 0.2074 - accuracy: 0.9229 - val_loss: 0.4675 - val_accuracy: 0.8308\n",
      "Epoch 7/30\n",
      "40/40 [==============================] - 8s 212ms/step - loss: 0.1241 - accuracy: 0.9590 - val_loss: 0.4998 - val_accuracy: 0.8264\n",
      "Epoch 8/30\n",
      "40/40 [==============================] - 8s 212ms/step - loss: 0.0719 - accuracy: 0.9789 - val_loss: 0.5931 - val_accuracy: 0.8186\n",
      "Epoch 9/30\n",
      "40/40 [==============================] - 9s 214ms/step - loss: 0.0345 - accuracy: 0.9916 - val_loss: 0.6556 - val_accuracy: 0.8130\n",
      "Epoch 10/30\n",
      "40/40 [==============================] - 9s 214ms/step - loss: 0.0143 - accuracy: 0.9977 - val_loss: 0.7314 - val_accuracy: 0.8116\n",
      "Epoch 11/30\n",
      "40/40 [==============================] - 8s 212ms/step - loss: 0.0190 - accuracy: 0.9956 - val_loss: 0.7519 - val_accuracy: 0.8218\n",
      "Epoch 12/30\n",
      "40/40 [==============================] - 8s 212ms/step - loss: 0.0140 - accuracy: 0.9969 - val_loss: 0.8037 - val_accuracy: 0.8218\n",
      "Epoch 13/30\n",
      "40/40 [==============================] - 8s 210ms/step - loss: 0.0060 - accuracy: 0.9992 - val_loss: 0.8258 - val_accuracy: 0.8178\n",
      "Epoch 14/30\n",
      "40/40 [==============================] - 9s 216ms/step - loss: 0.0025 - accuracy: 0.9998 - val_loss: 0.8598 - val_accuracy: 0.8208\n",
      "Epoch 15/30\n",
      "40/40 [==============================] - 9s 217ms/step - loss: 0.0016 - accuracy: 0.9999 - val_loss: 0.8925 - val_accuracy: 0.8136\n",
      "Epoch 16/30\n",
      "40/40 [==============================] - 9s 215ms/step - loss: 0.0012 - accuracy: 0.9999 - val_loss: 0.9083 - val_accuracy: 0.8224\n",
      "Epoch 17/30\n",
      "40/40 [==============================] - 9s 217ms/step - loss: 9.2463e-04 - accuracy: 0.9999 - val_loss: 0.9266 - val_accuracy: 0.8192\n",
      "Epoch 18/30\n",
      "40/40 [==============================] - 9s 216ms/step - loss: 7.4178e-04 - accuracy: 0.9999 - val_loss: 0.9414 - val_accuracy: 0.8202\n",
      "Epoch 19/30\n",
      "40/40 [==============================] - 9s 216ms/step - loss: 5.9451e-04 - accuracy: 0.9999 - val_loss: 0.9589 - val_accuracy: 0.8192\n",
      "Epoch 20/30\n",
      "40/40 [==============================] - 9s 215ms/step - loss: 5.0388e-04 - accuracy: 1.0000 - val_loss: 0.9725 - val_accuracy: 0.8192\n",
      "Epoch 21/30\n",
      "40/40 [==============================] - 9s 218ms/step - loss: 4.1309e-04 - accuracy: 1.0000 - val_loss: 0.9849 - val_accuracy: 0.8188\n",
      "Epoch 22/30\n",
      "40/40 [==============================] - 9s 215ms/step - loss: 3.5405e-04 - accuracy: 1.0000 - val_loss: 0.9937 - val_accuracy: 0.8222\n",
      "Epoch 23/30\n",
      "40/40 [==============================] - 9s 218ms/step - loss: 3.1145e-04 - accuracy: 1.0000 - val_loss: 1.0035 - val_accuracy: 0.8214\n",
      "Epoch 24/30\n",
      "40/40 [==============================] - 9s 217ms/step - loss: 2.7615e-04 - accuracy: 1.0000 - val_loss: 1.0161 - val_accuracy: 0.8206\n",
      "Epoch 25/30\n",
      "40/40 [==============================] - 9s 217ms/step - loss: 2.4696e-04 - accuracy: 1.0000 - val_loss: 1.0265 - val_accuracy: 0.8208\n",
      "Epoch 26/30\n",
      "40/40 [==============================] - 9s 220ms/step - loss: 2.2064e-04 - accuracy: 1.0000 - val_loss: 1.0336 - val_accuracy: 0.8222\n",
      "Epoch 27/30\n",
      "40/40 [==============================] - 9s 230ms/step - loss: 2.0008e-04 - accuracy: 1.0000 - val_loss: 1.0433 - val_accuracy: 0.8212\n",
      "Epoch 28/30\n",
      "40/40 [==============================] - 9s 223ms/step - loss: 1.8242e-04 - accuracy: 1.0000 - val_loss: 1.0529 - val_accuracy: 0.8214\n",
      "Epoch 29/30\n",
      "40/40 [==============================] - 9s 237ms/step - loss: 1.6671e-04 - accuracy: 1.0000 - val_loss: 1.0590 - val_accuracy: 0.8218\n",
      "Epoch 30/30\n",
      "40/40 [==============================] - 9s 222ms/step - loss: 1.5335e-04 - accuracy: 1.0000 - val_loss: 1.0668 - val_accuracy: 0.8216\n"
     ]
    }
   ],
   "source": [
    "history = bi_rnn_model.fit(\n",
    "    train_data, train_labels,\n",
    "    epochs = 30,\n",
    "    batch_size = batch_size,\n",
    "    validation_split = 0.2)"
   ]
  },
  {
   "cell_type": "code",
   "execution_count": 47,
   "metadata": {},
   "outputs": [
    {
     "data": {
      "image/png": "[encoded data removed]",
      "text/plain": [
       "<Figure size 576x360 with 1 Axes>"
      ]
     },
     "metadata": {
      "needs_background": "light"
     },
     "output_type": "display_data"
    },
    {
     "data": {
      "image/png": "[encoded data removed]",
      "text/plain": [
       "<Figure size 576x360 with 1 Axes>"
      ]
     },
     "metadata": {
      "needs_background": "light"
     },
     "output_type": "display_data"
    }
   ],
   "source": [
    "plot_learning_curves(history, 'accuracy', 30, 0, 1.1)\n",
    "plot_learning_curves(history, 'loss', 30, 0, 2.5)"
   ]
  },
  {
   "cell_type": "code",
   "execution_count": 48,
   "metadata": {},
   "outputs": [
    {
     "data": {
      "text/plain": [
       "[1.1711177825927734, 0.8067600131034851]"
      ]
     },
     "execution_count": 48,
     "metadata": {},
     "output_type": "execute_result"
    }
   ],
   "source": [
    "bi_rnn_model.evaluate(test_data, test_labels, batch_size = batch_size, verbose = 0)"
   ]
  },
  {
   "cell_type": "code",
   "execution_count": 49,
   "metadata": {},
   "outputs": [],
   "source": [
    "#最终效果变好了，但是仍然过拟合，过拟合说明一点我们模型很强大"
   ]
  },
  {
   "cell_type": "code",
   "execution_count": 50,
   "metadata": {},
   "outputs": [
    {
     "data": {
      "text/plain": [
       "array([0.9162905], dtype=float32)"
      ]
     },
     "execution_count": 50,
     "metadata": {},
     "output_type": "execute_result"
    }
   ],
   "source": [
    "#就是前面的交叉熵的损失\n",
    "y_true = [[0, 1]]\n",
    "y_pred = [[0.6, 0.4]]\n",
    "loss = tf.keras.losses.binary_crossentropy(y_true, y_pred)\n",
    "# assert loss.shape == (2,)\n",
    "loss.numpy()"
   ]
  },
  {
   "cell_type": "code",
   "execution_count": 51,
   "metadata": {},
   "outputs": [
    {
     "data": {
      "text/plain": [
       "-0.916290731874155"
      ]
     },
     "execution_count": 51,
     "metadata": {},
     "output_type": "execute_result"
    }
   ],
   "source": [
    "1*np.log(0.4)"
   ]
  },
  {
   "cell_type": "code",
   "execution_count": 4,
   "metadata": {},
   "outputs": [
    {
     "name": "stdout",
     "output_type": "stream",
     "text": [
      "tf.Tensor(\n",
      "[[-0.76390505 -0.39371875  0.7133006   0.9142086 ]\n",
      " [-0.7936081  -0.3679361  -0.3676359   0.9371844 ]\n",
      " [-0.620551   -0.00254414  0.7051857   0.970791  ]\n",
      " [-0.32672423  0.12275715  0.6055699   0.8649896 ]\n",
      " [-0.5022005  -0.5755705   0.6370736   0.97816867]\n",
      " [ 0.4588333   0.52675337  0.5713252   0.5974852 ]\n",
      " [-0.6342512  -0.2916826   0.30399817  0.94482255]\n",
      " [-0.5015322   0.6473905   0.21128042  0.8945904 ]\n",
      " [-0.8076533   0.2923269   0.37791806  0.87010527]\n",
      " [-0.08369655  0.62181526  0.6552955   0.9017821 ]\n",
      " [-0.6797895   0.51460767  0.40969244  0.96177506]\n",
      " [-0.7981551  -0.2730627   0.54913265  0.9842627 ]\n",
      " [-0.7040377   0.46912703  0.7703389   0.9845674 ]\n",
      " [-0.41503438 -0.4320751   0.37403753  0.91808283]\n",
      " [-0.519064    0.2849464   0.35883516  0.9687412 ]\n",
      " [ 0.2910469   0.34156635  0.81428385  0.98515195]\n",
      " [-0.5961798   0.3737946   0.02627316  0.9432862 ]\n",
      " [-0.3177257   0.48836958  0.636638    0.9173008 ]\n",
      " [-0.32599917 -0.186574   -0.4232579   0.70569414]\n",
      " [ 0.4954767   0.2837833   0.46962646  0.8975467 ]\n",
      " [-0.19017288  0.18884598  0.57191813  0.9496332 ]\n",
      " [-0.5441704   0.59039     0.35229412  0.94000155]\n",
      " [-0.5810198   0.14668037  0.60657775  0.9475761 ]\n",
      " [ 0.20763676  0.07636722  0.63989794  0.9629071 ]\n",
      " [-0.7677962  -0.6481855   0.01533602  0.9275412 ]\n",
      " [ 0.17464456 -0.23318124 -0.3990456   0.56556946]\n",
      " [-0.7509378   0.01459119  0.8204296   0.990666  ]\n",
      " [-0.46902224 -0.2559951   0.48154104  0.9699138 ]\n",
      " [-0.80461484 -0.2950884   0.16616821  0.9356818 ]\n",
      " [-0.7175557   0.24353057  0.4976874   0.9721421 ]\n",
      " [-0.5830446  -0.59915566 -0.5024373   0.83023006]\n",
      " [-0.02724554  0.71905106 -0.25862584  0.2101143 ]], shape=(32, 4), dtype=float32)\n"
     ]
    }
   ],
   "source": [
    "inputs = np.random.random([32, 10, 8]).astype(np.float32)\n",
    "simple_rnn = tf.keras.layers.SimpleRNN(4)\n",
    "\n",
    "output = simple_rnn(inputs)  # The output has shape `[32, 4]`.\n",
    "print(output)\n",
    "simple_rnn = tf.keras.layers.SimpleRNN(\n",
    "    4, return_sequences=False, return_state=True)\n",
    "\n",
    "# whole_sequence_output has shape `[32, 10, 4]`.\n",
    "# final_state has shape `[32, 4]`.\n",
    "whole_sequence_output, final_state = simple_rnn(inputs)"
   ]
  },
  {
   "cell_type": "code",
   "execution_count": 5,
   "metadata": {},
   "outputs": [
    {
     "name": "stdout",
     "output_type": "stream",
     "text": [
      "tf.Tensor(\n",
      "[[-0.97215545  0.9175315  -0.89002866 -0.97757065]\n",
      " [-0.80212504  0.7058625  -0.756033   -0.96186435]\n",
      " [-0.95188046  0.6413576  -0.33732596 -0.97810245]\n",
      " [-0.9833594   0.93955547 -0.69030666 -0.9684916 ]\n",
      " [-0.934627    0.7384622  -0.84649557 -0.9803253 ]\n",
      " [-0.94903976  0.8670429  -0.15847296 -0.83020663]\n",
      " [-0.9694166   0.6931736  -0.4598752  -0.9794527 ]\n",
      " [-0.95066625  0.8911219  -0.39619684 -0.9103298 ]\n",
      " [-0.9700322   0.8096392  -0.7521498  -0.9764113 ]\n",
      " [-0.94600797  0.815747    0.16798715 -0.9381167 ]\n",
      " [-0.9647824   0.76950055 -0.4661132  -0.9777904 ]\n",
      " [-0.9467511   0.73547417 -0.7141302  -0.9915786 ]\n",
      " [-0.9642644   0.8478215  -0.5032081  -0.9774704 ]\n",
      " [-0.9018368   0.8148568  -0.6900614  -0.9311185 ]\n",
      " [-0.8565263   0.55674094 -0.69939214 -0.98124665]\n",
      " [-0.91758996  0.64648694 -0.47953764 -0.96275854]\n",
      " [-0.8951217   0.62220955 -0.43288812 -0.9405476 ]\n",
      " [-0.96473217  0.6310797  -0.6193426  -0.953131  ]\n",
      " [-0.74376756  0.3786787   0.00918896 -0.8456606 ]\n",
      " [-0.8850637   0.88102674  0.18475582 -0.8098536 ]\n",
      " [-0.96545684  0.84979284 -0.18935253 -0.9429394 ]\n",
      " [-0.93222576  0.86610794 -0.23627861 -0.8944968 ]\n",
      " [-0.9479933   0.91879034 -0.71830463 -0.9651454 ]\n",
      " [-0.9279673   0.9168211  -0.3896881  -0.938108  ]\n",
      " [-0.8961811   0.53321546 -0.3036008  -0.96436244]\n",
      " [-0.7308159   0.63287854 -0.13951366 -0.7696905 ]\n",
      " [-0.95653677  0.8764599  -0.62463796 -0.98486936]\n",
      " [-0.85629267  0.57954144 -0.41452807 -0.9480234 ]\n",
      " [-0.80020195  0.5624828  -0.45310354 -0.97467226]\n",
      " [-0.93068135  0.70650816 -0.7570687  -0.97584033]\n",
      " [-0.7791798   0.6262433  -0.3555749  -0.8890933 ]\n",
      " [-0.55421835  0.6534536  -0.8319446  -0.724948  ]], shape=(32, 4), dtype=float32)\n"
     ]
    },
    {
     "data": {
      "text/plain": [
       "<tf.Tensor: shape=(32, 4), dtype=float32, numpy=\n",
       "array([[-0.97215545,  0.9175315 , -0.89002866, -0.97757065],\n",
       "       [-0.80212504,  0.7058625 , -0.756033  , -0.96186435],\n",
       "       [-0.95188046,  0.6413576 , -0.33732596, -0.97810245],\n",
       "       [-0.9833594 ,  0.93955547, -0.69030666, -0.9684916 ],\n",
       "       [-0.934627  ,  0.7384622 , -0.84649557, -0.9803253 ],\n",
       "       [-0.94903976,  0.8670429 , -0.15847296, -0.83020663],\n",
       "       [-0.9694166 ,  0.6931736 , -0.4598752 , -0.9794527 ],\n",
       "       [-0.95066625,  0.8911219 , -0.39619684, -0.9103298 ],\n",
       "       [-0.9700322 ,  0.8096392 , -0.7521498 , -0.9764113 ],\n",
       "       [-0.94600797,  0.815747  ,  0.16798715, -0.9381167 ],\n",
       "       [-0.9647824 ,  0.76950055, -0.4661132 , -0.9777904 ],\n",
       "       [-0.9467511 ,  0.73547417, -0.7141302 , -0.9915786 ],\n",
       "       [-0.9642644 ,  0.8478215 , -0.5032081 , -0.9774704 ],\n",
       "       [-0.9018368 ,  0.8148568 , -0.6900614 , -0.9311185 ],\n",
       "       [-0.8565263 ,  0.55674094, -0.69939214, -0.98124665],\n",
       "       [-0.91758996,  0.64648694, -0.47953764, -0.96275854],\n",
       "       [-0.8951217 ,  0.62220955, -0.43288812, -0.9405476 ],\n",
       "       [-0.96473217,  0.6310797 , -0.6193426 , -0.953131  ],\n",
       "       [-0.74376756,  0.3786787 ,  0.00918896, -0.8456606 ],\n",
       "       [-0.8850637 ,  0.88102674,  0.18475582, -0.8098536 ],\n",
       "       [-0.96545684,  0.84979284, -0.18935253, -0.9429394 ],\n",
       "       [-0.93222576,  0.86610794, -0.23627861, -0.8944968 ],\n",
       "       [-0.9479933 ,  0.91879034, -0.71830463, -0.9651454 ],\n",
       "       [-0.9279673 ,  0.9168211 , -0.3896881 , -0.938108  ],\n",
       "       [-0.8961811 ,  0.53321546, -0.3036008 , -0.96436244],\n",
       "       [-0.7308159 ,  0.63287854, -0.13951366, -0.7696905 ],\n",
       "       [-0.95653677,  0.8764599 , -0.62463796, -0.98486936],\n",
       "       [-0.85629267,  0.57954144, -0.41452807, -0.9480234 ],\n",
       "       [-0.80020195,  0.5624828 , -0.45310354, -0.97467226],\n",
       "       [-0.93068135,  0.70650816, -0.7570687 , -0.97584033],\n",
       "       [-0.7791798 ,  0.6262433 , -0.3555749 , -0.8890933 ],\n",
       "       [-0.55421835,  0.6534536 , -0.8319446 , -0.724948  ]],\n",
       "      dtype=float32)>"
      ]
     },
     "execution_count": 5,
     "metadata": {},
     "output_type": "execute_result"
    }
   ],
   "source": [
    "print(whole_sequence_output)\n",
    "final_state"
   ]
  },
  {
   "cell_type": "code",
   "execution_count": null,
   "metadata": {},
   "outputs": [],
   "source": []
  }
 ],
 "metadata": {
  "kernelspec": {
   "display_name": "Python 3",
   "language": "python",
   "name": "python3"
  },
  "language_info": {
   "codemirror_mode": {
    "name": "ipython",
    "version": 3
   },
   "file_extension": ".py",
   "mimetype": "text/x-python",
   "name": "python",
   "nbconvert_exporter": "python",
   "pygments_lexer": "ipython3",
   "version": "3.6.9"
  }
 },
 "nbformat": 4,
 "nbformat_minor": 2
}
