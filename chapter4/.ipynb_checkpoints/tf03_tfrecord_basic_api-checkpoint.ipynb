{
 "cells": [
  {
   "cell_type": "code",
   "execution_count": 1,
   "metadata": {},
   "outputs": [
    {
     "name": "stdout",
     "output_type": "stream",
     "text": [
      "2.6.2\n",
      "sys.version_info(major=3, minor=6, micro=9, releaselevel='final', serial=0)\n",
      "matplotlib 3.3.4\n",
      "numpy 1.19.5\n",
      "pandas 1.1.5\n",
      "sklearn 0.24.2\n",
      "tensorflow 2.6.2\n",
      "keras.api._v2.keras 2.6.0\n"
     ]
    }
   ],
   "source": [
    "import matplotlib as mpl\n",
    "import matplotlib.pyplot as plt\n",
    "%matplotlib inline\n",
    "import numpy as np\n",
    "import sklearn\n",
    "import pandas as pd\n",
    "import os\n",
    "import sys\n",
    "import time\n",
    "import tensorflow as tf\n",
    "\n",
    "from tensorflow import keras\n",
    "\n",
    "print(tf.__version__)\n",
    "print(sys.version_info)\n",
    "for module in mpl, np, pd, sklearn, tf, keras:\n",
    "    print(module.__name__, module.__version__)"
   ]
  },
  {
   "cell_type": "code",
   "execution_count": 2,
   "metadata": {
    "scrolled": true
   },
   "outputs": [
    {
     "name": "stdout",
     "output_type": "stream",
     "text": [
      "[b'machine learning', b'cc150']\n",
      "<class 'tensorflow.core.example.feature_pb2.BytesList'>\n",
      "value: \"machine learning\"\n",
      "value: \"cc150\"\n",
      "\n"
     ]
    }
   ],
   "source": [
    "# tfrecord 文件格式---往下层层分类\n",
    "# -> tf.train.Example\n",
    "#    -> tf.train.Features -> {\"key\": tf.train.Feature}\n",
    "#       -> tf.train.Feature -> tf.train.ByteList/FloatList/Int64List\n",
    "\n",
    "# 学习时，从低往上练习，最后封装为Example\n",
    "favorite_books = [name.encode('utf-8')\n",
    "                  for name in [\"machine learning\", \"cc150\"]]\n",
    "print(favorite_books)\n",
    "\n",
    "favorite_books_bytelist = tf.train.BytesList(value = favorite_books)  # 字符串是变为BytesList\n",
    "print(type(favorite_books_bytelist))\n",
    "print(favorite_books_bytelist)"
   ]
  },
  {
   "cell_type": "code",
   "execution_count": 3,
   "metadata": {},
   "outputs": [
    {
     "name": "stdout",
     "output_type": "stream",
     "text": [
      "<class 'tensorflow.core.example.feature_pb2.FloatList'>\n",
      "value: 15.5\n",
      "value: 9.5\n",
      "value: 7.0\n",
      "value: 8.0\n",
      "\n",
      "<class 'tensorflow.core.example.feature_pb2.Int64List'>\n",
      "value: 42\n",
      "\n"
     ]
    }
   ],
   "source": [
    "# hours设置到0-24之间\n",
    "hours_floatlist = tf.train.FloatList(value = [15.5, 9.5, 7.0, 8.0])\n",
    "print(type(hours_floatlist))\n",
    "print(hours_floatlist)\n",
    "\n",
    "age_int64list = tf.train.Int64List(value = [42])\n",
    "print(type(age_int64list))\n",
    "print(age_int64list)"
   ]
  },
  {
   "cell_type": "code",
   "execution_count": 6,
   "metadata": {},
   "outputs": [
    {
     "name": "stdout",
     "output_type": "stream",
     "text": [
      "<class 'tensorflow.core.example.feature_pb2.Features'>\n",
      "feature {\n",
      "  key: \"age\"\n",
      "  value {\n",
      "    int64_list {\n",
      "      value: 42\n",
      "    }\n",
      "  }\n",
      "}\n",
      "feature {\n",
      "  key: \"favorite_books\"\n",
      "  value {\n",
      "    bytes_list {\n",
      "      value: \"machine learning\"\n",
      "      value: \"cc150\"\n",
      "    }\n",
      "  }\n",
      "}\n",
      "feature {\n",
      "  key: \"hours\"\n",
      "  value {\n",
      "    float_list {\n",
      "      value: 15.5\n",
      "      value: 9.5\n",
      "      value: 7.0\n",
      "      value: 8.0\n",
      "    }\n",
      "  }\n",
      "}\n",
      "\n"
     ]
    }
   ],
   "source": [
    "# 进一步，开搞features\n",
    "features = tf.train.Features(\n",
    "    feature = {\n",
    "        \"favorite_books\": tf.train.Feature(\n",
    "            bytes_list = favorite_books_bytelist),\n",
    "        \"hours\": tf.train.Feature(\n",
    "            float_list = hours_floatlist),\n",
    "        \"age\": tf.train.Feature(int64_list = age_int64list),\n",
    "    }\n",
    ")\n",
    "print(type(features))\n",
    "print(features)  # 类似于json的格式；按照key首字母排序（默认升序）"
   ]
  },
  {
   "cell_type": "code",
   "execution_count": 7,
   "metadata": {},
   "outputs": [
    {
     "name": "stdout",
     "output_type": "stream",
     "text": [
      "<class 'tensorflow.core.example.example_pb2.Example'>\n",
      "features {\n",
      "  feature {\n",
      "    key: \"age\"\n",
      "    value {\n",
      "      int64_list {\n",
      "        value: 42\n",
      "      }\n",
      "    }\n",
      "  }\n",
      "  feature {\n",
      "    key: \"favorite_books\"\n",
      "    value {\n",
      "      bytes_list {\n",
      "        value: \"machine learning\"\n",
      "        value: \"cc150\"\n",
      "      }\n",
      "    }\n",
      "  }\n",
      "  feature {\n",
      "    key: \"hours\"\n",
      "    value {\n",
      "      float_list {\n",
      "        value: 15.5\n",
      "        value: 9.5\n",
      "        value: 7.0\n",
      "        value: 8.0\n",
      "      }\n",
      "    }\n",
      "  }\n",
      "}\n",
      "\n",
      "--------------------------------------------------\n",
      "<class 'bytes'>\n",
      "b'\\n\\\\\\n\\x0c\\n\\x03age\\x12\\x05\\x1a\\x03\\n\\x01*\\n-\\n\\x0efavorite_books\\x12\\x1b\\n\\x19\\n\\x10machine learning\\n\\x05cc150\\n\\x1d\\n\\x05hours\\x12\\x14\\x12\\x12\\n\\x10\\x00\\x00xA\\x00\\x00\\x18A\\x00\\x00\\xe0@\\x00\\x00\\x00A'\n",
      "94\n"
     ]
    }
   ],
   "source": [
    "# example又在外面加了features封装\n",
    "example = tf.train.Example(features=features)\n",
    "print(type(example))\n",
    "print(example)\n",
    "print('-' * 50)\n",
    "\n",
    "# 需要把Example对象进行序列化后（变为字节流），才能写入文件\n",
    "serialized_example = example.SerializeToString()\n",
    "print(type(serialized_example))\n",
    "print(serialized_example)\n",
    "print(len(serialized_example))"
   ]
  },
  {
   "cell_type": "code",
   "execution_count": 8,
   "metadata": {},
   "outputs": [
    {
     "name": "stdout",
     "output_type": "stream",
     "text": [
      "generate_csv\t\t      tf03_tfrecord_basic_api.ipynb\r\n",
      "tf01_data_basic_api.ipynb     tf04_data_generate_tfrecord.ipynb\r\n",
      "tf02_data_generate_csv.ipynb\r\n"
     ]
    }
   ],
   "source": [
    "!ls"
   ]
  },
  {
   "cell_type": "code",
   "execution_count": 9,
   "metadata": {},
   "outputs": [],
   "source": [
    "# 生成test.tfrecords文件\n",
    "output_dir = 'tfrecord_basic'\n",
    "if not os.path.exists(output_dir):\n",
    "    os.mkdir(output_dir)\n",
    "\n",
    "filename = \"test.tfrecords\"\n",
    "filename_fullpath = os.path.join(output_dir, filename)\n",
    "with tf.io.TFRecordWriter(filename_fullpath) as writer:\n",
    "    # 把serialized_example写3遍到test.tfrecords里边\n",
    "    for i in range(3):\n",
    "        writer.write(serialized_example)\n"
   ]
  },
  {
   "cell_type": "code",
   "execution_count": 10,
   "metadata": {},
   "outputs": [
    {
     "name": "stdout",
     "output_type": "stream",
     "text": [
      "generate_csv\t\t      tf03_tfrecord_basic_api.ipynb\r\n",
      "tf01_data_basic_api.ipynb     tf04_data_generate_tfrecord.ipynb\r\n",
      "tf02_data_generate_csv.ipynb  tfrecord_basic\r\n"
     ]
    }
   ],
   "source": [
    "!ls"
   ]
  },
  {
   "cell_type": "code",
   "execution_count": 13,
   "metadata": {},
   "outputs": [
    {
     "name": "stdout",
     "output_type": "stream",
     "text": [
      "total 4\r\n",
      "-rw-rw-r-- 1 wp wp 330 May  4 12:00 test.tfrecords\r\n"
     ]
    }
   ],
   "source": [
    "!ls -l tfrecord_basic"
   ]
  },
  {
   "cell_type": "code",
   "execution_count": 12,
   "metadata": {},
   "outputs": [
    {
     "name": "stdout",
     "output_type": "stream",
     "text": [
      "tf.Tensor(b'\\n\\\\\\n\\x0c\\n\\x03age\\x12\\x05\\x1a\\x03\\n\\x01*\\n-\\n\\x0efavorite_books\\x12\\x1b\\n\\x19\\n\\x10machine learning\\n\\x05cc150\\n\\x1d\\n\\x05hours\\x12\\x14\\x12\\x12\\n\\x10\\x00\\x00xA\\x00\\x00\\x18A\\x00\\x00\\xe0@\\x00\\x00\\x00A', shape=(), dtype=string)\n",
      "tf.Tensor(b'\\n\\\\\\n\\x0c\\n\\x03age\\x12\\x05\\x1a\\x03\\n\\x01*\\n-\\n\\x0efavorite_books\\x12\\x1b\\n\\x19\\n\\x10machine learning\\n\\x05cc150\\n\\x1d\\n\\x05hours\\x12\\x14\\x12\\x12\\n\\x10\\x00\\x00xA\\x00\\x00\\x18A\\x00\\x00\\xe0@\\x00\\x00\\x00A', shape=(), dtype=string)\n",
      "tf.Tensor(b'\\n\\\\\\n\\x0c\\n\\x03age\\x12\\x05\\x1a\\x03\\n\\x01*\\n-\\n\\x0efavorite_books\\x12\\x1b\\n\\x19\\n\\x10machine learning\\n\\x05cc150\\n\\x1d\\n\\x05hours\\x12\\x14\\x12\\x12\\n\\x10\\x00\\x00xA\\x00\\x00\\x18A\\x00\\x00\\xe0@\\x00\\x00\\x00A', shape=(), dtype=string)\n"
     ]
    }
   ],
   "source": [
    "# 读取record并打印\n",
    "dataset = tf.data.TFRecordDataset([filename_fullpath])\n",
    "for serialized_example_tensor in dataset:\n",
    "    print(serialized_example_tensor)"
   ]
  },
  {
   "cell_type": "code",
   "execution_count": 15,
   "metadata": {},
   "outputs": [
    {
     "name": "stdout",
     "output_type": "stream",
     "text": [
      "{'hours': <tensorflow.python.framework.sparse_tensor.SparseTensor object at 0x7f009568f390>, 'age': <tf.Tensor: shape=(), dtype=int64, numpy=42>, 'favorite_books': <tf.Tensor: shape=(2,), dtype=string, numpy=array([b'machine learning', b'cc150'], dtype=object)>}\n",
      "machine learning\n",
      "cc150\n",
      "--------------------------------------------------\n",
      "tf.Tensor([15.5  9.5  7.   8. ], shape=(4,), dtype=float32)\n",
      "15.5\n",
      "9.5\n",
      "7.0\n",
      "8.0\n",
      "--------------------------------------------------\n",
      "42\n",
      "{'hours': <tensorflow.python.framework.sparse_tensor.SparseTensor object at 0x7f009568f3c8>, 'age': <tf.Tensor: shape=(), dtype=int64, numpy=42>, 'favorite_books': <tf.Tensor: shape=(2,), dtype=string, numpy=array([b'machine learning', b'cc150'], dtype=object)>}\n",
      "machine learning\n",
      "cc150\n",
      "--------------------------------------------------\n",
      "tf.Tensor([15.5  9.5  7.   8. ], shape=(4,), dtype=float32)\n",
      "15.5\n",
      "9.5\n",
      "7.0\n",
      "8.0\n",
      "--------------------------------------------------\n",
      "42\n",
      "{'hours': <tensorflow.python.framework.sparse_tensor.SparseTensor object at 0x7f009568f208>, 'age': <tf.Tensor: shape=(), dtype=int64, numpy=42>, 'favorite_books': <tf.Tensor: shape=(2,), dtype=string, numpy=array([b'machine learning', b'cc150'], dtype=object)>}\n",
      "machine learning\n",
      "cc150\n",
      "--------------------------------------------------\n",
      "tf.Tensor([15.5  9.5  7.   8. ], shape=(4,), dtype=float32)\n",
      "15.5\n",
      "9.5\n",
      "7.0\n",
      "8.0\n",
      "--------------------------------------------------\n",
      "42\n"
     ]
    }
   ],
   "source": [
    "# VarLenFeature是变长的，得到的是sparseTensor,要通过to_dense变为Tensor\n",
    "# 如果是FixedLenFeature，得到的是Tensor，必须传入原来保存时数据的shape\n",
    "expected_features = {\n",
    "    \"favorite_books\": tf.io.FixedLenFeature([2],dtype = tf.string),\n",
    "#     \"hours\": tf.io.FixedLenFeature([4],dtype = tf.float32),\n",
    "    \"hours\": tf.io.VarLenFeature(dtype = tf.float32),\n",
    "    \"age\": tf.io.FixedLenFeature([], dtype = tf.int64),  # []默认代表shape为1吗\n",
    "}\n",
    "\n",
    "dataset = tf.data.TFRecordDataset([filename_fullpath])\n",
    "\n",
    "# 打印三组一样的\n",
    "# sparse tensor 存储稀疏矩阵的时候效率比较高\n",
    "for serialized_example_tensor in dataset:\n",
    "    example = tf.io.parse_single_example(\n",
    "        serialized_example_tensor,  # 游标\n",
    "        expected_features  # 解析的类型\n",
    "    )\n",
    "    print(example)\n",
    "    \n",
    "     # 把books从sparse tensor解析出来（如果上面favorite_books用VarLenFeature的话）\n",
    "#     books = tf.sparse.to_dense(example[\"favorite_books\"],\n",
    "#                                default_value=b\"\")\n",
    "#     print(books)\n",
    "     # 这里是为了把两个字符串解析出来\n",
    "#     for book in books:\n",
    "#         print(book.numpy().decode(\"UTF-8\"))\n",
    "\n",
    "    for i in example[\"favorite_books\"]:\n",
    "        print(i.numpy().decode(\"UTF-8\"))\n",
    "    print('-'*50)\n",
    "    \n",
    "    hours = tf.sparse.to_dense(example[\"hours\"])\n",
    "    print(hours)\n",
    "    for hour in hours:\n",
    "        print(hour.numpy())\n",
    "    print('-'*50)\n",
    "    \n",
    "    print(example[\"age\"].numpy())\n",
    "    "
   ]
  },
  {
   "cell_type": "code",
   "execution_count": 16,
   "metadata": {},
   "outputs": [],
   "source": [
    "# 把tfrecord存为压缩文件\n",
    "filename_fullpath_zip = filename_fullpath + '.zip'\n",
    "options = tf.io.TFRecordOptions(compression_type = \"GZIP\")\n",
    "with tf.io.TFRecordWriter(filename_fullpath_zip, options) as writer:\n",
    "    for i in range(3):\n",
    "        writer.write(serialized_example)"
   ]
  },
  {
   "cell_type": "code",
   "execution_count": 17,
   "metadata": {},
   "outputs": [
    {
     "name": "stdout",
     "output_type": "stream",
     "text": [
      "total 8\r\n",
      "-rw-rw-r-- 1 wp wp 330 May  4 12:00 test.tfrecords\r\n",
      "-rw-rw-r-- 1 wp wp 127 May  4 20:11 test.tfrecords.zip\r\n"
     ]
    }
   ],
   "source": [
    "!ls -l tfrecord_basic"
   ]
  },
  {
   "cell_type": "code",
   "execution_count": 12,
   "metadata": {},
   "outputs": [],
   "source": [
    "expected_features = {\n",
    "    \"favorite_books\": tf.io.FixedLenFeature([2],dtype = tf.string),\n",
    "    \"hours\": tf.io.FixedLenFeature([4],dtype = tf.float32),\n",
    "    \"age\": tf.io.FixedLenFeature([], dtype = tf.int64),\n",
    "}"
   ]
  },
  {
   "cell_type": "code",
   "execution_count": 18,
   "metadata": {},
   "outputs": [
    {
     "name": "stdout",
     "output_type": "stream",
     "text": [
      "{'hours': <tensorflow.python.framework.sparse_tensor.SparseTensor object at 0x7f009568f908>, 'age': <tf.Tensor: shape=(), dtype=int64, numpy=42>, 'favorite_books': <tf.Tensor: shape=(2,), dtype=string, numpy=array([b'machine learning', b'cc150'], dtype=object)>}\n",
      "{'hours': <tensorflow.python.framework.sparse_tensor.SparseTensor object at 0x7f009568f390>, 'age': <tf.Tensor: shape=(), dtype=int64, numpy=42>, 'favorite_books': <tf.Tensor: shape=(2,), dtype=string, numpy=array([b'machine learning', b'cc150'], dtype=object)>}\n",
      "{'hours': <tensorflow.python.framework.sparse_tensor.SparseTensor object at 0x7f009568f358>, 'age': <tf.Tensor: shape=(), dtype=int64, numpy=42>, 'favorite_books': <tf.Tensor: shape=(2,), dtype=string, numpy=array([b'machine learning', b'cc150'], dtype=object)>}\n"
     ]
    }
   ],
   "source": [
    "# 压缩后的文件的读取方法\n",
    "dataset_zip = tf.data.TFRecordDataset([filename_fullpath_zip], \n",
    "                                      compression_type= \"GZIP\")\n",
    "for serialized_example_tensor in dataset_zip:\n",
    "    example = tf.io.parse_single_example(\n",
    "        serialized_example_tensor,\n",
    "        expected_features)\n",
    "    print(example)"
   ]
  },
  {
   "cell_type": "code",
   "execution_count": null,
   "metadata": {},
   "outputs": [],
   "source": []
  }
 ],
 "metadata": {
  "kernelspec": {
   "display_name": "Python 3",
   "language": "python",
   "name": "python3"
  },
  "language_info": {
   "codemirror_mode": {
    "name": "ipython",
    "version": 3
   },
   "file_extension": ".py",
   "mimetype": "text/x-python",
   "name": "python",
   "nbconvert_exporter": "python",
   "pygments_lexer": "ipython3",
   "version": "3.6.9"
  }
 },
 "nbformat": 4,
 "nbformat_minor": 2
}
