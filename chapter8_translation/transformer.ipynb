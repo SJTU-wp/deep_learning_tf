{
  "cells": [
    {
      "cell_type": "code",
      "execution_count": 46,
      "metadata": {
        "colab": {
          "base_uri": "https://localhost:8080/"
        },
        "id": "J0ori6p2fvT3",
        "outputId": "93aa50d3-059e-4908-bc28-c5aa6111c1d5"
      },
      "outputs": [
        {
          "output_type": "stream",
          "name": "stdout",
          "text": [
            "2.8.0\n",
            "sys.version_info(major=3, minor=7, micro=13, releaselevel='final', serial=0)\n",
            "matplotlib 3.2.2\n",
            "numpy 1.21.6\n",
            "pandas 1.3.5\n",
            "sklearn 1.0.2\n",
            "tensorflow 2.8.0\n",
            "keras.api._v2.keras 2.8.0\n"
          ]
        }
      ],
      "source": [
        "import matplotlib as mpl\n",
        "import matplotlib.pyplot as plt\n",
        "%matplotlib inline\n",
        "import numpy as np\n",
        "import sklearn\n",
        "import pandas as pd\n",
        "import os\n",
        "import sys\n",
        "import time\n",
        "import tensorflow as tf\n",
        "\n",
        "from tensorflow import keras\n",
        "\n",
        "print(tf.__version__)\n",
        "print(sys.version_info)\n",
        "for module in mpl, np, pd, sklearn, tf, keras:\n",
        "    print(module.__name__, module.__version__)"
      ]
    },
    {
      "cell_type": "code",
      "execution_count": 47,
      "metadata": {
        "colab": {
          "base_uri": "https://localhost:8080/"
        },
        "id": "0KQUXfQkfvT9",
        "outputId": "7a7000b3-70d2-46df-dc73-028f876305ff"
      },
      "outputs": [
        {
          "output_type": "stream",
          "name": "stdout",
          "text": [
            "Wed Jun  1 05:34:08 2022       \n",
            "+-----------------------------------------------------------------------------+\n",
            "| NVIDIA-SMI 460.32.03    Driver Version: 460.32.03    CUDA Version: 11.2     |\n",
            "|-------------------------------+----------------------+----------------------+\n",
            "| GPU  Name        Persistence-M| Bus-Id        Disp.A | Volatile Uncorr. ECC |\n",
            "| Fan  Temp  Perf  Pwr:Usage/Cap|         Memory-Usage | GPU-Util  Compute M. |\n",
            "|                               |                      |               MIG M. |\n",
            "|===============================+======================+======================|\n",
            "|   0  Tesla T4            Off  | 00000000:00:04.0 Off |                    0 |\n",
            "| N/A   75C    P0    34W /  70W |   1452MiB / 15109MiB |      0%      Default |\n",
            "|                               |                      |                  N/A |\n",
            "+-------------------------------+----------------------+----------------------+\n",
            "                                                                               \n",
            "+-----------------------------------------------------------------------------+\n",
            "| Processes:                                                                  |\n",
            "|  GPU   GI   CI        PID   Type   Process name                  GPU Memory |\n",
            "|        ID   ID                                                   Usage      |\n",
            "|=============================================================================|\n",
            "+-----------------------------------------------------------------------------+\n"
          ]
        }
      ],
      "source": [
        "!nvidia-smi"
      ]
    },
    {
      "cell_type": "code",
      "execution_count": 48,
      "metadata": {
        "id": "lR9OLJjDfvT_"
      },
      "outputs": [],
      "source": [
        "# 1. loads data\n",
        "# 2. preprocesses data -> dataset\n",
        "# 3. tools\n",
        "# 3.1 generates position embedding 位置编码\n",
        "# 3.2 create mask. (a. padding, b. decoder)\n",
        "# 3.3 scaled_dot_product_attention 缩放点积注意力\n",
        "# 4. builds model 分为以下6步\n",
        "    # 4.1 MultiheadAttention 多头注意力\n",
        "    # 4.2 EncoderLayer\n",
        "    # 4.3 DecoderLayer\n",
        "    # 4.4 EncoderModel\n",
        "    # 4.5 DecoderModel\n",
        "    # 4.6 Transformer\n",
        "# 5. optimizer & loss\n",
        "# 6. train step -> train\n",
        "# 7. Evaluate and Visualize"
      ]
    },
    {
      "cell_type": "markdown",
      "metadata": {
        "id": "6QDT2wZifvUA"
      },
      "source": [
        "# 1 loads data"
      ]
    },
    {
      "cell_type": "code",
      "execution_count": 49,
      "metadata": {
        "colab": {
          "base_uri": "https://localhost:8080/"
        },
        "id": "2FTxCHL4fvUC",
        "outputId": "aaef9785-04dc-46bf-d421-5c72c86fb868"
      },
      "outputs": [
        {
          "output_type": "stream",
          "name": "stdout",
          "text": [
            "<class 'dict'>\n",
            "tfds.core.DatasetInfo(\n",
            "    name='ted_hrlr_translate',\n",
            "    version=1.0.0,\n",
            "    description='Data sets derived from TED talk transcripts for comparing similar language pairs\n",
            "where one is high resource and the other is low resource.',\n",
            "    homepage='https://github.com/neulab/word-embeddings-for-nmt',\n",
            "    features=Translation({\n",
            "        'en': Text(shape=(), dtype=tf.string),\n",
            "        'pt': Text(shape=(), dtype=tf.string),\n",
            "    }),\n",
            "    total_num_examples=54781,\n",
            "    splits={\n",
            "        'test': 1803,\n",
            "        'train': 51785,\n",
            "        'validation': 1193,\n",
            "    },\n",
            "    supervised_keys=('pt', 'en'),\n",
            "    citation=\"\"\"@inproceedings{Ye2018WordEmbeddings,\n",
            "      author  = {Ye, Qi and Devendra, Sachan and Matthieu, Felix and Sarguna, Padmanabhan and Graham, Neubig},\n",
            "      title   = {When and Why are pre-trained word embeddings useful for Neural Machine Translation},\n",
            "      booktitle = {HLT-NAACL},\n",
            "      year    = {2018},\n",
            "      }\"\"\",\n",
            "    redistribution_info=,\n",
            ")\n",
            "\n"
          ]
        }
      ],
      "source": [
        "import tensorflow_datasets as tfds\n",
        "# 葡萄牙语->英语，这个是基于subword的\n",
        "# as_supervised是True是tuple，是False返回的是字典\n",
        "examples, info = tfds.load('ted_hrlr_translate/pt_to_en',\n",
        "                           with_info = True,\n",
        "                           as_supervised = True)\n",
        "print(type(examples))  # examples是字典，里边有训练集，验证集，测试集\n",
        "train_examples, val_examples = examples['train'], examples['validation']\n",
        "print(info)  # info里是数据集的描述"
      ]
    },
    {
      "cell_type": "code",
      "execution_count": 50,
      "metadata": {
        "colab": {
          "base_uri": "https://localhost:8080/"
        },
        "id": "3X8EDUt7fvUE",
        "outputId": "39429c54-31e2-4f85-bbc4-3a13201629eb"
      },
      "outputs": [
        {
          "output_type": "stream",
          "name": "stdout",
          "text": [
            "b'e quando melhoramos a procura , tiramos a \\xc3\\xbanica vantagem da impress\\xc3\\xa3o , que \\xc3\\xa9 a serendipidade .'\n",
            "b'and when you improve searchability , you actually take away the one advantage of print , which is serendipity .'\n",
            "<class 'tensorflow.python.framework.ops.EagerTensor'>\n",
            "b'mas e se estes fatores fossem ativos ?'\n",
            "b'but what if it were active ?'\n",
            "<class 'tensorflow.python.framework.ops.EagerTensor'>\n",
            "b'mas eles n\\xc3\\xa3o tinham a curiosidade de me testar .'\n",
            "b\"but they did n't test for curiosity .\"\n",
            "<class 'tensorflow.python.framework.ops.EagerTensor'>\n",
            "b'e esta rebeldia consciente \\xc3\\xa9 a raz\\xc3\\xa3o pela qual eu , como agn\\xc3\\xb3stica , posso ainda ter f\\xc3\\xa9 .'\n",
            "b'and this conscious defiance is why i , as an agnostic , can still have faith .'\n",
            "<class 'tensorflow.python.framework.ops.EagerTensor'>\n",
            "b\"`` `` '' podem usar tudo sobre a mesa no meu corpo . ''\"\n",
            "b'you can use everything on the table on me .'\n",
            "<class 'tensorflow.python.framework.ops.EagerTensor'>\n",
            "<PrefetchDataset element_spec=(TensorSpec(shape=(), dtype=tf.string, name=None), TensorSpec(shape=(), dtype=tf.string, name=None))>\n"
          ]
        }
      ],
      "source": [
        "# 葡萄牙语中有一些特除的字符，用转义字符来打印\n",
        "for pt, en in train_examples.take(5):\n",
        "    print(pt.numpy())\n",
        "    print(en.numpy())\n",
        "    print(type(pt))\n",
        "print(train_examples)"
      ]
    },
    {
      "cell_type": "code",
      "execution_count": 51,
      "metadata": {
        "colab": {
          "base_uri": "https://localhost:8080/"
        },
        "id": "wpEik3mTfvUF",
        "outputId": "8d4a523e-cc3a-494a-9494-1d6ba42326dc"
      },
      "outputs": [
        {
          "output_type": "execute_result",
          "data": {
            "text/plain": [
              "8192"
            ]
          },
          "metadata": {},
          "execution_count": 51
        }
      ],
      "source": [
        "2**13"
      ]
    },
    {
      "cell_type": "markdown",
      "metadata": {
        "id": "WGw4K0MGfvUF"
      },
      "source": [
        "# 2 preprocesses data"
      ]
    },
    {
      "cell_type": "code",
      "execution_count": 52,
      "metadata": {
        "id": "LCcueXekfvUG"
      },
      "outputs": [],
      "source": [
        "# time-consuming\n",
        "# 转为subword数据集，2**13=8192，build_from_corpus\n",
        "en_tokenizer = tfds.deprecated.text.SubwordTextEncoder.build_from_corpus(\n",
        "    (en.numpy() for pt, en in train_examples),\n",
        "    target_vocab_size = 2 ** 13)\n",
        "pt_tokenizer = tfds.deprecated.text.SubwordTextEncoder.build_from_corpus(\n",
        "    (pt.numpy() for pt, en in train_examples),\n",
        "    target_vocab_size = 2 ** 13)\n"
      ]
    },
    {
      "cell_type": "code",
      "execution_count": 53,
      "metadata": {
        "id": "VPRdB5uzfvUG",
        "colab": {
          "base_uri": "https://localhost:8080/"
        },
        "outputId": "a625878c-17f8-489c-db30-c14eaf8bdac7"
      },
      "outputs": [
        {
          "output_type": "stream",
          "name": "stdout",
          "text": [
            "Tokenized string is [7915, 1248, 7946, 7194, 13, 2799, 7877]\n",
            "The original string is Transformer is awesome.\n",
            "7915 --> \"T\"-->1\n",
            "1248 --> \"ran\"-->3\n",
            "7946 --> \"s\"-->1\n",
            "7194 --> \"former \"-->7\n",
            "13 --> \"is \"-->3\n",
            "2799 --> \"awesome\"-->7\n",
            "7877 --> \".\"-->1\n"
          ]
        }
      ],
      "source": [
        "# 测试一个字符串,subword里面是包含空格的\n",
        "sample_string = \"Transformer is awesome.\"\n",
        "\n",
        "tokenized_string = en_tokenizer.encode(sample_string)\n",
        "print('Tokenized string is {}'.format(tokenized_string))\n",
        "\n",
        "origin_string = en_tokenizer.decode(tokenized_string)\n",
        "print('The original string is {}'.format(origin_string))\n",
        "\n",
        "assert origin_string == sample_string\n",
        "\n",
        "for token in tokenized_string:\n",
        "    print('{} --> \"{}\"-->{}'.format(token, en_tokenizer.decode([token]),len(en_tokenizer.decode([token]))))"
      ]
    },
    {
      "cell_type": "code",
      "execution_count": 54,
      "metadata": {
        "id": "wFHbXTAqfvUH",
        "colab": {
          "base_uri": "https://localhost:8080/"
        },
        "outputId": "c7e7b571-e9a5-4fe0-81a9-9ec158049196"
      },
      "outputs": [
        {
          "output_type": "execute_result",
          "data": {
            "text/plain": [
              "8214"
            ]
          },
          "metadata": {},
          "execution_count": 54
        }
      ],
      "source": [
        "# 真正拆出来的词根是接近8192，刚好等于的概率很小\n",
        "pt_tokenizer.vocab_size"
      ]
    },
    {
      "cell_type": "code",
      "execution_count": 55,
      "metadata": {
        "id": "iDOK3xqhfvUH",
        "colab": {
          "base_uri": "https://localhost:8080/"
        },
        "outputId": "9eaf8991-75dd-4491-a5ea-3445424ca4a0"
      },
      "outputs": [
        {
          "output_type": "execute_result",
          "data": {
            "text/plain": [
              "8087"
            ]
          },
          "metadata": {},
          "execution_count": 55
        }
      ],
      "source": [
        "en_tokenizer.vocab_size"
      ]
    },
    {
      "cell_type": "code",
      "execution_count": 56,
      "metadata": {
        "id": "Z5ChDTWnfvUH",
        "colab": {
          "base_uri": "https://localhost:8080/"
        },
        "outputId": "86d9c4d0-b34d-4a41-f756-c8ead256db71"
      },
      "outputs": [
        {
          "output_type": "stream",
          "name": "stdout",
          "text": [
            "1\n",
            "The original string is �\n"
          ]
        }
      ],
      "source": [
        "origin_string = en_tokenizer.decode([8086])\n",
        "print(len(origin_string))\n",
        "print('The original string is {}'.format(origin_string))"
      ]
    },
    {
      "cell_type": "code",
      "execution_count": 57,
      "metadata": {
        "id": "AhV95TgdfvUI"
      },
      "outputs": [],
      "source": [
        "buffer_size = 20000\n",
        "batch_size = 64\n",
        "max_length = 40  # 输入和输出的最大长度是40\n",
        "\n",
        "# 把两段文本转为subword的id形式，\n",
        "def encode_to_subword(pt_sentence, en_sentence):\n",
        "    pt_sequence = [pt_tokenizer.vocab_size] \\\n",
        "    + pt_tokenizer.encode(pt_sentence.numpy()) \\\n",
        "    + [pt_tokenizer.vocab_size + 1]\n",
        "    en_sequence = [en_tokenizer.vocab_size] \\\n",
        "    + en_tokenizer.encode(en_sentence.numpy()) \\\n",
        "    + [en_tokenizer.vocab_size + 1]\n",
        "    return pt_sequence, en_sequence\n",
        "\n",
        "# 用tf的API消去大于最大长度的\n",
        "def filter_by_max_length(pt, en):\n",
        "    return tf.logical_and(tf.size(pt) <= max_length,\n",
        "                          tf.size(en) <= max_length)\n",
        "# 用py_function封装一下encode_to_subword\n",
        "def tf_encode_to_subword(pt_sentence, en_sentence):\n",
        "    return tf.py_function(encode_to_subword,\n",
        "                          [pt_sentence, en_sentence],\n",
        "                          [tf.int64, tf.int64])\n",
        "# 把所有句子变为subword，subword都变为id\n",
        "train_dataset = train_examples.map(tf_encode_to_subword)\n",
        "train_dataset = train_dataset.filter(filter_by_max_length)  # 去掉长度超过40的（subword的40）\n",
        "# next: 洗牌，padding，batch    [-1]，[-1]代表两个维度，每个维度都在当前维度下扩展到最高的值？\n",
        "train_dataset = train_dataset.shuffle(\n",
        "    buffer_size).padded_batch(\n",
        "    batch_size, padded_shapes=([-1], [-1]))  # 葡萄牙语，英语都补到40，有两个[-1],不够补0\n",
        "\n",
        "valid_dataset = val_examples.map(tf_encode_to_subword)\n",
        "valid_dataset = valid_dataset.filter(\n",
        "    filter_by_max_length).padded_batch(\n",
        "    batch_size, padded_shapes=([-1], [-1]))\n",
        "    "
      ]
    },
    {
      "cell_type": "code",
      "execution_count": 58,
      "metadata": {
        "id": "0KSQRRrVfvUI",
        "colab": {
          "base_uri": "https://localhost:8080/"
        },
        "outputId": "15143a09-a1bf-4c19-ece1-50e1af8e2298"
      },
      "outputs": [
        {
          "output_type": "stream",
          "name": "stdout",
          "text": [
            "(64, 39) (64, 38)\n",
            "(64, 39) (64, 39)\n",
            "(64, 40) (64, 38)\n",
            "(64, 36) (64, 37)\n",
            "(64, 37) (64, 37)\n"
          ]
        }
      ],
      "source": [
        "# 不同batch不一致，是因为先batch，后padding的\n",
        "for pt_batch, en_batch in train_dataset.take(5):\n",
        "    print(pt_batch.shape, en_batch.shape)"
      ]
    },
    {
      "cell_type": "code",
      "execution_count": 59,
      "metadata": {
        "id": "r3fhyZoKfvUI",
        "colab": {
          "base_uri": "https://localhost:8080/"
        },
        "outputId": "c39b4d25-8439-4886-cf44-127154c24b94"
      },
      "outputs": [
        {
          "output_type": "execute_result",
          "data": {
            "text/plain": [
              "array([[ 0],\n",
              "       [ 1],\n",
              "       [ 2],\n",
              "       [ 3],\n",
              "       [ 4],\n",
              "       [ 5],\n",
              "       [ 6],\n",
              "       [ 7],\n",
              "       [ 8],\n",
              "       [ 9],\n",
              "       [10],\n",
              "       [11],\n",
              "       [12]])"
            ]
          },
          "metadata": {},
          "execution_count": 59
        }
      ],
      "source": [
        "np.arange(13)[:, np.newaxis]"
      ]
    },
    {
      "cell_type": "code",
      "execution_count": 60,
      "metadata": {
        "id": "BviRv894fvUJ",
        "colab": {
          "base_uri": "https://localhost:8080/"
        },
        "outputId": "7333021c-7a82-48bc-d5fd-06e226a01772"
      },
      "outputs": [
        {
          "output_type": "execute_result",
          "data": {
            "text/plain": [
              "array([[  0,   1,   2,   3,   4,   5,   6,   7,   8,   9,  10,  11,  12,\n",
              "         13,  14,  15,  16,  17,  18,  19,  20,  21,  22,  23,  24,  25,\n",
              "         26,  27,  28,  29,  30,  31,  32,  33,  34,  35,  36,  37,  38,\n",
              "         39,  40,  41,  42,  43,  44,  45,  46,  47,  48,  49,  50,  51,\n",
              "         52,  53,  54,  55,  56,  57,  58,  59,  60,  61,  62,  63,  64,\n",
              "         65,  66,  67,  68,  69,  70,  71,  72,  73,  74,  75,  76,  77,\n",
              "         78,  79,  80,  81,  82,  83,  84,  85,  86,  87,  88,  89,  90,\n",
              "         91,  92,  93,  94,  95,  96,  97,  98,  99, 100, 101, 102, 103,\n",
              "        104, 105, 106, 107, 108, 109, 110, 111, 112, 113, 114, 115, 116,\n",
              "        117, 118, 119, 120, 121, 122, 123, 124, 125, 126, 127, 128, 129,\n",
              "        130, 131, 132, 133, 134, 135, 136, 137, 138, 139, 140, 141, 142,\n",
              "        143, 144, 145, 146, 147, 148, 149, 150, 151, 152, 153, 154, 155,\n",
              "        156, 157, 158, 159, 160, 161, 162, 163, 164, 165, 166, 167, 168,\n",
              "        169, 170, 171, 172, 173, 174, 175, 176, 177, 178, 179, 180, 181,\n",
              "        182, 183, 184, 185, 186, 187, 188, 189, 190, 191, 192, 193, 194,\n",
              "        195, 196, 197, 198, 199, 200, 201, 202, 203, 204, 205, 206, 207,\n",
              "        208, 209, 210, 211, 212, 213, 214, 215, 216, 217, 218, 219, 220,\n",
              "        221, 222, 223, 224, 225, 226, 227, 228, 229, 230, 231, 232, 233,\n",
              "        234, 235, 236, 237, 238, 239, 240, 241, 242, 243, 244, 245, 246,\n",
              "        247, 248, 249, 250, 251, 252, 253, 254, 255]])"
            ]
          },
          "metadata": {},
          "execution_count": 60
        }
      ],
      "source": [
        "np.arange(256)[np.newaxis, :]"
      ]
    },
    {
      "cell_type": "markdown",
      "metadata": {
        "id": "8TAPKWOdfvUJ"
      },
      "source": [
        "# 3 tools"
      ]
    },
    {
      "cell_type": "markdown",
      "metadata": {
        "id": "9LZSdeWufvUJ"
      },
      "source": [
        "# 3.1 generates position embedding"
      ]
    },
    {
      "cell_type": "code",
      "execution_count": 61,
      "metadata": {
        "id": "rbSpfbNpfvUJ",
        "colab": {
          "base_uri": "https://localhost:8080/"
        },
        "outputId": "46bc1b9b-483e-4913-f038-3dd3a67ecfa5"
      },
      "outputs": [
        {
          "output_type": "stream",
          "name": "stdout",
          "text": [
            "angle_rads.shape:(50, 512)\n",
            "(50, 256)\n",
            "(50, 256)\n",
            "tf.Tensor(\n",
            "[[[ 0.          0.          0.         ...  1.          1.\n",
            "    1.        ]\n",
            "  [ 0.84147096  0.8218562   0.8019618  ...  1.          1.\n",
            "    1.        ]\n",
            "  [ 0.9092974   0.9364147   0.95814437 ...  1.          1.\n",
            "    1.        ]\n",
            "  ...\n",
            "  [ 0.12357312  0.97718984 -0.24295525 ...  0.9999863   0.99998724\n",
            "    0.99998814]\n",
            "  [-0.76825464  0.7312359   0.63279754 ...  0.9999857   0.9999867\n",
            "    0.9999876 ]\n",
            "  [-0.95375264 -0.14402692  0.99899054 ...  0.9999851   0.9999861\n",
            "    0.9999871 ]]], shape=(1, 50, 512), dtype=float32)\n"
          ]
        }
      ],
      "source": [
        "# 第三步，写一些工具函数\n",
        "# PE(pos, 2i)   = sin(pos/10000^(2i/d_model))\n",
        "# PE(pos, 2i+1) = cos(pos/10000^(2i/d_model))\n",
        "\n",
        "# pos和i都是矩阵\n",
        "# pos.shape: [sentence_length, 1]\n",
        "# i.shape  : [1, d_model]\n",
        "# result.shape: [sentence_length, d_model]\n",
        "def get_angles(pos, i, d_model):\n",
        "    angle_rates = 1 / np.power(10000,\n",
        "                               (2 * (i // 2)) / np.float32(d_model))\n",
        "    return pos * angle_rates\n",
        "\n",
        "# 计算位置信息\n",
        "def get_position_embedding(sentence_length, d_model):\n",
        "    # sentence_length和d_model都扩展为矩阵\n",
        "#     print(np.arange(sentence_length)[:, np.newaxis])\n",
        "#     print(np.arange(d_model)[np.newaxis, :])\n",
        "    # pos是0到49，就是词的位置，i是从0到511，总计512，和dim相等\n",
        "    angle_rads = get_angles(np.arange(sentence_length)[:, np.newaxis],\n",
        "                            np.arange(d_model)[np.newaxis, :],\n",
        "                            d_model)\n",
        "    print('angle_rads.shape:',end='')\n",
        "    print(angle_rads.shape)\n",
        "    # sines.shape: [sentence_length, d_model / 2]\n",
        "    # cosines.shape: [sentence_length, d_model / 2]\n",
        "    # 正弦一半，余弦一半\n",
        "    print(angle_rads[:, 0::2].shape)\n",
        "    print(angle_rads[:, 1::2].shape)\n",
        "    sines = np.sin(angle_rads[:, 0::2])\n",
        "    cosines = np.cos(angle_rads[:, 1::2])\n",
        "    \n",
        "    # 把sines和cosines进行拼接\n",
        "    # position_embedding.shape: [sentence_length, d_model]\n",
        "    position_embedding = np.concatenate([sines, cosines], axis = -1)\n",
        "    # 进行维度扩展\n",
        "    # position_embedding.shape: [1, sentence_length, d_model]\n",
        "    position_embedding = position_embedding[np.newaxis, ...]\n",
        "    # 变为float32类型\n",
        "    return tf.cast(position_embedding, dtype=tf.float32)\n",
        "\n",
        "position_embedding = get_position_embedding(50, 512)\n",
        "print(position_embedding)"
      ]
    },
    {
      "cell_type": "code",
      "execution_count": 62,
      "metadata": {
        "id": "Dlc8VImQfvUK",
        "colab": {
          "base_uri": "https://localhost:8080/",
          "height": 283
        },
        "outputId": "2389029e-4fe9-44ce-9e8f-84ffcef06112"
      },
      "outputs": [
        {
          "output_type": "display_data",
          "data": {
            "text/plain": [
              "<Figure size 432x288 with 2 Axes>"
            ],
            "image/png": "[encoded data removed]"
          },
          "metadata": {
            "needs_background": "light"
          }
        }
      ],
      "source": [
        "# 绘制位置编码示意图\n",
        "def plot_position_embedding(position_embedding):\n",
        "    plt.pcolormesh(position_embedding[0], cmap = 'RdBu')\n",
        "    plt.xlabel('Depth')\n",
        "    plt.xlim((0, 512))\n",
        "    plt.ylabel('Position')\n",
        "    plt.colorbar()\n",
        "    plt.show()\n",
        "    \n",
        "plot_position_embedding(position_embedding)"
      ]
    },
    {
      "cell_type": "markdown",
      "metadata": {
        "id": "nCfNPXJgfvUK"
      },
      "source": [
        "# 3.2 create mask(padding & decoder)"
      ]
    },
    {
      "cell_type": "code",
      "execution_count": 63,
      "metadata": {
        "id": "WWkx3_1dfvUK",
        "colab": {
          "base_uri": "https://localhost:8080/"
        },
        "outputId": "dee68207-d5bd-4b32-8e4c-3cee1a78a6ff"
      },
      "outputs": [
        {
          "output_type": "execute_result",
          "data": {
            "text/plain": [
              "<tf.Tensor: shape=(3, 1, 1, 5), dtype=float32, numpy=\n",
              "array([[[[0., 0., 1., 1., 0.]]],\n",
              "\n",
              "\n",
              "       [[[0., 0., 0., 1., 1.]]],\n",
              "\n",
              "\n",
              "       [[[1., 1., 1., 0., 0.]]]], dtype=float32)>"
            ]
          },
          "metadata": {},
          "execution_count": 63
        }
      ],
      "source": [
        "# 如何生成mask\n",
        "# 1. padding mask 2. look ahead\n",
        "\n",
        "# batch_data.shape: [batch_size, seq_len]\n",
        "def create_padding_mask(batch_data):\n",
        "    padding_mask = tf.cast(tf.math.equal(batch_data, 0), tf.float32)\n",
        "    # [batch_size, 1, 1, seq_len]\n",
        "    return padding_mask[:, tf.newaxis, tf.newaxis, :]\n",
        "# 设置3x5矩阵，0都是padding，是零的得到的都是1，非零的位置都是零\n",
        "x = tf.constant([[7, 6, 0, 0, 1], [1, 2, 3, 0, 0], [0, 0, 0, 4, 5]])\n",
        "create_padding_mask(x)"
      ]
    },
    {
      "cell_type": "code",
      "execution_count": 64,
      "metadata": {
        "id": "FnnhWWHIfvUL",
        "colab": {
          "base_uri": "https://localhost:8080/"
        },
        "outputId": "9a6adc9e-3073-4916-a104-85feaedfaff0"
      },
      "outputs": [
        {
          "output_type": "execute_result",
          "data": {
            "text/plain": [
              "<tf.Tensor: shape=(3, 3), dtype=float32, numpy=\n",
              "array([[0., 1., 1.],\n",
              "       [0., 0., 1.],\n",
              "       [0., 0., 0.]], dtype=float32)>"
            ]
          },
          "metadata": {},
          "execution_count": 64
        }
      ],
      "source": [
        "# attention_weights.shape: [3,3]\n",
        "# 第一个位置代表第一个单词和自己的attention，第二位置是第二个单词和第一个单词的attention\n",
        "# 看不到后面的词刚好是下三角，使用库函数来实现\n",
        "# [[1, 0, 0],\n",
        "#  [4, 5, 0],\n",
        "#  [7, 8, 9]]\n",
        "def create_look_ahead_mask(size):\n",
        "    mask = 1 - tf.linalg.band_part(tf.ones((size, size)), -1, 0)\n",
        "    return mask  # (seq_len, seq_len)\n",
        "\n",
        "# 前面看不到后面的padding，矩阵下面全部为0\n",
        "# 在mask里，应该被忽略的我们会设成1，应该被保留的会设成0，\n",
        "# 而如果mask相应位置上为1，那么我们就给对应的logits \n",
        "# 加上一个超级小的负数， (mask * -1e9)， 这样，\n",
        "# 对应的logits也就变成了一个超级小的数。然后在计算softmax的时候，\n",
        "# 一个超级小的数的指数会无限接近与0，也就是它对应的attention的权重就是0了\n",
        "create_look_ahead_mask(3)"
      ]
    },
    {
      "cell_type": "markdown",
      "metadata": {
        "id": "72B_81vZfvUL"
      },
      "source": [
        "# 3.3 scaled_dot_product_attention 缩放点积注意力"
      ]
    },
    {
      "cell_type": "code",
      "execution_count": 65,
      "metadata": {
        "id": "5ovXx3dYfvUL"
      },
      "outputs": [],
      "source": [
        "# 参考文档，q是query，k，v代表key和value，q和k做完矩阵乘法后，做mask\n",
        "def scaled_dot_product_attention(q, k, v, mask):\n",
        "    \"\"\"\n",
        "    Args:\n",
        "    - q: shape == (..., seq_len_q, depth)\n",
        "    - k: shape == (..., seq_len_k, depth)\n",
        "    - v: shape == (..., seq_len_v, depth_v)\n",
        "    - seq_len_k == seq_len_v  这两个是相等的\n",
        "    - mask: shape == (..., seq_len_q, seq_len_k)\n",
        "    Returns:\n",
        "    - output: weighted sum\n",
        "    - attention_weights: weights of attention\n",
        "    \"\"\"\n",
        "    # 计算attentions时，只用了后两维在计算\n",
        "    # transpose_b代表第二个矩阵（即k）是否做转置，且为True时仅是把k的最后两维交换位置\n",
        "    # matmul_qk.shape: (..., seq_len_q, seq_len_k)\n",
        "    matmul_qk = tf.matmul(q, k, transpose_b = True)\n",
        "    \n",
        "    # 获得dk，cast转换类型\n",
        "    dk = tf.cast(tf.shape(k)[-1], tf.float32)\n",
        "    # 然后根据文档中的公式除以dk\n",
        "    scaled_attention_logits = matmul_qk / tf.math.sqrt(dk)\n",
        "    \n",
        "    # 这一步是mask应用的核心啊\n",
        "    # 如果mask不是空的话，给scaled_attention_logits加一个mask（缩放）\n",
        "    if mask is not None:\n",
        "        # 使得在softmax后值趋近于0\n",
        "        scaled_attention_logits += (mask * -1e9)\n",
        "    \n",
        "    # attention_weights.shape: (..., seq_len_q, seq_len_k)\n",
        "    attention_weights = tf.nn.softmax(\n",
        "        scaled_attention_logits, axis = -1)\n",
        "    \n",
        "    # 根据原理图，v和attention_weights进行矩阵乘法\n",
        "    # output.shape: (..., seq_len_q, depth_v)\n",
        "    output = tf.matmul(attention_weights, v)\n",
        "    \n",
        "    return output, attention_weights\n",
        "\n",
        "# 调用上面的函数，去验证\n",
        "def print_scaled_dot_product_attention(q, k, v):\n",
        "    temp_out, temp_att = scaled_dot_product_attention(q, k, v, None)\n",
        "    print(\"Attention weights are:\")\n",
        "    print(temp_att)\n",
        "    print(\"Output is:\")\n",
        "    print(temp_out)\n",
        "    "
      ]
    },
    {
      "cell_type": "code",
      "execution_count": 66,
      "metadata": {
        "id": "Y3JcwSeufvUL",
        "colab": {
          "base_uri": "https://localhost:8080/"
        },
        "outputId": "83aa14f7-cc8d-4c29-b14d-6323c05db391"
      },
      "outputs": [
        {
          "output_type": "stream",
          "name": "stdout",
          "text": [
            "Attention weights are:\n",
            "tf.Tensor([[0. 1. 0. 0.]], shape=(1, 4), dtype=float32)\n",
            "Output is:\n",
            "tf.Tensor([[10.  0.]], shape=(1, 2), dtype=float32)\n"
          ]
        }
      ],
      "source": [
        "# 定义一个测试的Q，K，V\n",
        "temp_k = tf.constant([[10, 0, 0],\n",
        "                      [0, 10, 0],\n",
        "                      [0, 0, 10],\n",
        "                      [0, 0, 10]], dtype=tf.float32) # (4, 3)\n",
        "\n",
        "temp_v = tf.constant([[1, 0],\n",
        "                      [10, 0],\n",
        "                      [100, 5],\n",
        "                      [1000, 6]], dtype=tf.float32) # (4, 2)\n",
        "\n",
        "temp_q1 = tf.constant([[0, 10, 0]], dtype=tf.float32) # (1, 3)\n",
        "# 做四舍五入，让结果清爽\n",
        "np.set_printoptions(suppress=True)\n",
        "\n",
        "print_scaled_dot_product_attention(temp_q1, temp_k, temp_v)"
      ]
    },
    {
      "cell_type": "code",
      "execution_count": 67,
      "metadata": {
        "id": "-UoUqgZ3fvUM",
        "colab": {
          "base_uri": "https://localhost:8080/"
        },
        "outputId": "d0ce1dec-fe89-43a7-b8dc-acb29034ff20"
      },
      "outputs": [
        {
          "output_type": "stream",
          "name": "stdout",
          "text": [
            "Attention weights are:\n",
            "tf.Tensor([[0.  0.  0.5 0.5]], shape=(1, 4), dtype=float32)\n",
            "Output is:\n",
            "tf.Tensor([[550.    5.5]], shape=(1, 2), dtype=float32)\n"
          ]
        }
      ],
      "source": [
        "temp_q2 = tf.constant([[0, 0, 10]], dtype=tf.float32)  # (1, 3)\n",
        "# 0.  0.  0.5 0.5 会和temp_v去做平均，因此得到的是550,5.5\n",
        "print_scaled_dot_product_attention(temp_q2, temp_k, temp_v)"
      ]
    },
    {
      "cell_type": "code",
      "execution_count": 68,
      "metadata": {
        "id": "kbP8V6vBfvUM",
        "colab": {
          "base_uri": "https://localhost:8080/"
        },
        "outputId": "50dd5e6c-cb4b-47d2-c219-1dce7dd1aa15"
      },
      "outputs": [
        {
          "output_type": "stream",
          "name": "stdout",
          "text": [
            "Attention weights are:\n",
            "tf.Tensor([[0.5 0.5 0.  0. ]], shape=(1, 4), dtype=float32)\n",
            "Output is:\n",
            "tf.Tensor([[5.5 0. ]], shape=(1, 2), dtype=float32)\n"
          ]
        }
      ],
      "source": [
        "temp_q3 = tf.constant([[10, 10, 0]], dtype=tf.float32)  # (1, 3)\n",
        "print_scaled_dot_product_attention(temp_q3, temp_k, temp_v)"
      ]
    },
    {
      "cell_type": "code",
      "execution_count": 69,
      "metadata": {
        "id": "VMOtQjhpfvUM",
        "colab": {
          "base_uri": "https://localhost:8080/"
        },
        "outputId": "c590cc62-6c13-4b46-8a08-9cc9393bc019"
      },
      "outputs": [
        {
          "output_type": "stream",
          "name": "stdout",
          "text": [
            "Attention weights are:\n",
            "tf.Tensor(\n",
            "[[0.  1.  0.  0. ]\n",
            " [0.  0.  0.5 0.5]\n",
            " [0.5 0.5 0.  0. ]], shape=(3, 4), dtype=float32)\n",
            "Output is:\n",
            "tf.Tensor(\n",
            "[[ 10.    0. ]\n",
            " [550.    5.5]\n",
            " [  5.5   0. ]], shape=(3, 2), dtype=float32)\n"
          ]
        }
      ],
      "source": [
        "# 拼起来再来测试\n",
        "temp_q4 = tf.constant([[0, 10, 0],\n",
        "                       [0, 0, 10],\n",
        "                       [10, 10, 0]], dtype=tf.float32)  # (3, 3)\n",
        "print_scaled_dot_product_attention(temp_q4, temp_k, temp_v)"
      ]
    },
    {
      "cell_type": "markdown",
      "metadata": {
        "id": "TO6VAW1BfvUM"
      },
      "source": [
        "# 4 builds model"
      ]
    },
    {
      "cell_type": "markdown",
      "metadata": {
        "id": "9deGBWZffvUM"
      },
      "source": [
        "# 4.1 multihead attention 多头注意力"
      ]
    },
    {
      "cell_type": "code",
      "execution_count": 70,
      "metadata": {
        "id": "FyG267HAfvUM",
        "colab": {
          "base_uri": "https://localhost:8080/"
        },
        "outputId": "a328a537-232c-445a-9f75-3536ef119273"
      },
      "outputs": [
        {
          "output_type": "stream",
          "name": "stdout",
          "text": [
            "(1, 8, 60, 60)\n"
          ]
        },
        {
          "output_type": "execute_result",
          "data": {
            "text/plain": [
              "TensorShape([1, 8, 60, 64])"
            ]
          },
          "metadata": {},
          "execution_count": 70
        }
      ],
      "source": [
        "q=np.ones((1,8,60,64))\n",
        "k=np.ones((1,8,60,64))\n",
        "v=np.ones((1,8,60,64))\n",
        "d=tf.matmul(q, k, transpose_b = True)\n",
        "print(d.shape)\n",
        "tf.matmul(d,v).shape"
      ]
    },
    {
      "cell_type": "code",
      "execution_count": 71,
      "metadata": {
        "id": "Y9I3M5PzfvUN",
        "colab": {
          "base_uri": "https://localhost:8080/"
        },
        "outputId": "48336e4c-5d09-4593-b69e-be5bb27ca898"
      },
      "outputs": [
        {
          "output_type": "stream",
          "name": "stdout",
          "text": [
            "(1, 60, 512)\n",
            "(1, 8, 60, 60)\n"
          ]
        }
      ],
      "source": [
        "# 多头注意力的实现->多个缩放点积注意力\n",
        "class MultiHeadAttention(keras.layers.Layer):\n",
        "    \"\"\"\n",
        "    理论上:\n",
        "    x -> Wq0 -> q0\n",
        "    x -> Wk0 -> k0\n",
        "    x -> Wv0 -> v0\n",
        "    \n",
        "    实战中:把三个概念区分开\n",
        "    q -> Wq0 -> q0\n",
        "    k -> Wk0 -> k0\n",
        "    v -> Wv0 -> v0\n",
        "    \n",
        "    实战中技巧：q乘以W得到一个大的Q，然后分割为多个小q\n",
        "    q -> Wq -> Q -> split -> q0, q1, q2...\n",
        "    \"\"\"\n",
        "    def __init__(self, d_model, num_heads):\n",
        "        super(MultiHeadAttention, self).__init__()\n",
        "        self.num_heads = num_heads\n",
        "        self.d_model = d_model\n",
        "        assert self.d_model % self.num_heads == 0\n",
        "        \n",
        "        # 大Q变小q怎么变，层次\n",
        "        self.depth = self.d_model // self.num_heads\n",
        "        \n",
        "        self.WQ = keras.layers.Dense(self.d_model)\n",
        "        self.WK = keras.layers.Dense(self.d_model)\n",
        "        self.WV = keras.layers.Dense(self.d_model)\n",
        "        # 拼接\n",
        "        self.dense = keras.layers.Dense(self.d_model)\n",
        "    \n",
        "    def split_heads(self, x, batch_size):\n",
        "        # x.shape: (batch_size, seq_len, d_model)\n",
        "        # d_model = num_heads * depth\n",
        "        # 把x变为下面维度，用reshape\n",
        "        # x -> (batch_size, num_heads, seq_len, depth)\n",
        "        \n",
        "        x = tf.reshape(x,\n",
        "                       (batch_size, -1, self.num_heads, self.depth))\n",
        "        return tf.transpose(x, perm=[0, 2, 1, 3])  # 轴滚动\n",
        "    \n",
        "    def call(self, q, k, v, mask):\n",
        "        batch_size = tf.shape(q)[0]\n",
        "        # 经过Q K V变化\n",
        "        # print(q.shape)\n",
        "        q = self.WQ(q)  # q.shape: (batch_size, seq_len_q, d_model)\n",
        "        k = self.WK(k)  # k.shape: (batch_size, seq_len_k, d_model)\n",
        "        v = self.WV(v)  # v.shape: (batch_size, seq_len_v, d_model)\n",
        "        # print('-'*50)\n",
        "        # print(q.shape)\n",
        "        # q.shape: (batch_size, num_heads, seq_len_q, depth)\n",
        "        q = self.split_heads(q, batch_size)\n",
        "        # print('分割后的q:',end='')\n",
        "        # print(q.shape)\n",
        "        # k.shape: (batch_size, num_heads, seq_len_k, depth)\n",
        "        k = self.split_heads(k, batch_size)\n",
        "        # v.shape: (batch_size, num_heads, seq_len_v, depth)\n",
        "        v = self.split_heads(v, batch_size)\n",
        "        \n",
        "        # 开始做缩放点积，得到的多头的信息存在在num_heads，depth上\n",
        "        # scaled_attention_outputs.shape: (batch_size, num_heads, seq_len_q, depth)\n",
        "        # attention_weights.shape: (batch_size, num_heads, seq_len_q, seq_len_k)\n",
        "        scaled_attention_outputs, attention_weights = \\\n",
        "        scaled_dot_product_attention(q, k, v, mask)\n",
        "        # print('-'*50)\n",
        "        # print('scaled_attention_outputs.shape:',end='')\n",
        "        # print(scaled_attention_outputs.shape)\n",
        "        # print('attention_weights.shape:',end='')\n",
        "        # print(attention_weights.shape)\n",
        "        # print('-'*50)\n",
        "        # 因此这里做一下转置，让num_heads，depth在后面\n",
        "        # scaled_attention_outputs.shape: (batch_size, seq_len_q, num_heads, depth)\n",
        "        scaled_attention_outputs = tf.transpose(\n",
        "            scaled_attention_outputs, perm = [0, 2, 1, 3])\n",
        "        # print('attention_weights.shape:',end='')\n",
        "        # print(scaled_attention_outputs.shape)\n",
        "        # 对注意力进行合并\n",
        "        # concat_attention.shape: (batch_size, seq_len_q, d_model)\n",
        "        concat_attention = tf.reshape(scaled_attention_outputs,\n",
        "                                      (batch_size, -1, self.d_model))\n",
        "        \n",
        "        # 多头注意力计算完毕\n",
        "        # output.shape : (batch_size, seq_len_q, d_model)\n",
        "        output = self.dense(concat_attention)\n",
        "        \n",
        "        return output, attention_weights\n",
        "    \n",
        "temp_mha = MultiHeadAttention(d_model=512, num_heads=8)\n",
        "# 创建一份虚拟数据\n",
        "y = tf.random.uniform((1, 60, 256))  # (batch_size, seq_len_q, dim)\n",
        "# 开始计算，把y既当q，又当k，v\n",
        "output, attn = temp_mha(y, y, y, mask = None)\n",
        "print(output.shape)\n",
        "print(attn.shape)"
      ]
    },
    {
      "cell_type": "code",
      "execution_count": 72,
      "metadata": {
        "id": "_Er_Gj_mfvUN",
        "colab": {
          "base_uri": "https://localhost:8080/"
        },
        "outputId": "c549e85a-2126-425a-f100-177d35975431"
      },
      "outputs": [
        {
          "output_type": "execute_result",
          "data": {
            "text/plain": [
              "TensorShape([64, 40, 512])"
            ]
          },
          "metadata": {},
          "execution_count": 72
        }
      ],
      "source": [
        "# 定义feed_forward_network，d_model: 节点数\n",
        "def feed_forward_network(d_model, dff):\n",
        "    # dff: dim of feed forward network.\n",
        "    return keras.Sequential([\n",
        "        keras.layers.Dense(dff, activation='relu'),\n",
        "        keras.layers.Dense(d_model)\n",
        "    ])\n",
        "\n",
        "sample_ffn = feed_forward_network(512, 2048)\n",
        "# 给一个输入测试\n",
        "sample_ffn(tf.random.uniform((64, 40, 512))).shape"
      ]
    },
    {
      "cell_type": "markdown",
      "metadata": {
        "id": "eIdAGWOUfvUN"
      },
      "source": [
        "# 4.2 EncoderLayer"
      ]
    },
    {
      "cell_type": "code",
      "execution_count": 73,
      "metadata": {
        "id": "D-N3T0zNfvUO",
        "colab": {
          "base_uri": "https://localhost:8080/"
        },
        "outputId": "c92263ee-21c8-4c7f-fe68-c5f77852bbda"
      },
      "outputs": [
        {
          "output_type": "stream",
          "name": "stdout",
          "text": [
            "(64, 40, 512)\n"
          ]
        }
      ],
      "source": [
        "# 自定义EncoderLayer\n",
        "class EncoderLayer(keras.layers.Layer):\n",
        "    \"\"\"\n",
        "    x -> self attention -> add & normalize & dropout\n",
        "      -> feed_forward -> add & normalize & dropout\n",
        "    原理对应文档Add & Normalize 标题下的图\n",
        "    \"\"\"\n",
        "    # d_model给self attention和feed_forward_network，num_heads给self_attention用的\n",
        "    # dff给feed_forward_network，rate是做dropout的\n",
        "    def __init__(self, d_model, num_heads, dff, rate=0.1):\n",
        "        super(EncoderLayer, self).__init__()\n",
        "        self.mha = MultiHeadAttention(d_model, num_heads)\n",
        "        self.ffn = feed_forward_network(d_model, dff)\n",
        "        \n",
        "        # epsilon 将小浮点数添加到方差以避免被零除\n",
        "        self.layer_norm1 = keras.layers.LayerNormalization(\n",
        "            epsilon = 1e-6)\n",
        "        self.layer_norm2 = keras.layers.LayerNormalization(\n",
        "            epsilon = 1e-6)\n",
        "        # 下面两个层次用了做dropout，每次有10%的几率被drop掉\n",
        "        self.dropout1 = keras.layers.Dropout(rate)\n",
        "        self.dropout2 = keras.layers.Dropout(rate)\n",
        "    \n",
        "    def call(self, x, training, encoder_padding_mask):\n",
        "        # x.shape          : (batch_size, seq_len, dim=d_model)\n",
        "        # attn_output.shape: (batch_size, seq_len, d_model)\n",
        "        # out1.shape       : (batch_size, seq_len, d_model)\n",
        "        # x作为q，k，v  原理对应文档Add & Normalize 标题下的图\n",
        "        attn_output, _ = self.mha(x, x, x, encoder_padding_mask)\n",
        "        attn_output = self.dropout1(attn_output, training=training)\n",
        "        # dim=d_model 两个必须相等，这样x才可以和attn_output做加法\n",
        "        out1 = self.layer_norm1(x + attn_output)\n",
        "        \n",
        "        # ffn_output.shape: (batch_size, seq_len, d_model)\n",
        "        # out2.shape      : (batch_size, seq_len, d_model)\n",
        "        ffn_output = self.ffn(out1)\n",
        "        ffn_output = self.dropout2(ffn_output, training=training)\n",
        "        out2 = self.layer_norm2(out1 + ffn_output)\n",
        "        \n",
        "        return out2\n",
        "# 测试，结果与最初的输入维度一致，相当于做了两次残差连接\n",
        "sample_encoder_layer = EncoderLayer(512, 8, 2048)\n",
        "sample_input = tf.random.uniform((64, 40, 512))\n",
        "sample_output = sample_encoder_layer(sample_input, False, None)\n",
        "print(sample_output.shape)"
      ]
    },
    {
      "cell_type": "code",
      "execution_count": 74,
      "metadata": {
        "id": "JfnCFM5vfvUO",
        "colab": {
          "base_uri": "https://localhost:8080/"
        },
        "outputId": "4db942d5-5343-4d68-8cb5-5c21b2c63b0d"
      },
      "outputs": [
        {
          "output_type": "execute_result",
          "data": {
            "text/plain": [
              "[<tf.Variable 'encoder_layer_9/multi_head_attention_29/dense_158/kernel:0' shape=(512, 512) dtype=float32, numpy=\n",
              " array([[-0.07269425, -0.02172845,  0.03022368, ..., -0.0445837 ,\n",
              "          0.06158007,  0.01299228],\n",
              "        [-0.00279603,  0.03706963, -0.07378405, ..., -0.03569598,\n",
              "          0.00161891, -0.07084925],\n",
              "        [-0.0667477 ,  0.07194062,  0.07426592, ...,  0.00488634,\n",
              "          0.05725632, -0.06169483],\n",
              "        ...,\n",
              "        [-0.05803926,  0.00137741,  0.01308957, ..., -0.05543611,\n",
              "          0.07180598, -0.06267793],\n",
              "        [ 0.0001921 , -0.0366058 ,  0.05820429, ...,  0.07595343,\n",
              "          0.03771806, -0.0144515 ],\n",
              "        [-0.06846354, -0.02164631, -0.05761899, ...,  0.02729866,\n",
              "         -0.01320945,  0.07294603]], dtype=float32)>,\n",
              " <tf.Variable 'encoder_layer_9/multi_head_attention_29/dense_158/bias:0' shape=(512,) dtype=float32, numpy=\n",
              " array([0., 0., 0., 0., 0., 0., 0., 0., 0., 0., 0., 0., 0., 0., 0., 0., 0.,\n",
              "        0., 0., 0., 0., 0., 0., 0., 0., 0., 0., 0., 0., 0., 0., 0., 0., 0.,\n",
              "        0., 0., 0., 0., 0., 0., 0., 0., 0., 0., 0., 0., 0., 0., 0., 0., 0.,\n",
              "        0., 0., 0., 0., 0., 0., 0., 0., 0., 0., 0., 0., 0., 0., 0., 0., 0.,\n",
              "        0., 0., 0., 0., 0., 0., 0., 0., 0., 0., 0., 0., 0., 0., 0., 0., 0.,\n",
              "        0., 0., 0., 0., 0., 0., 0., 0., 0., 0., 0., 0., 0., 0., 0., 0., 0.,\n",
              "        0., 0., 0., 0., 0., 0., 0., 0., 0., 0., 0., 0., 0., 0., 0., 0., 0.,\n",
              "        0., 0., 0., 0., 0., 0., 0., 0., 0., 0., 0., 0., 0., 0., 0., 0., 0.,\n",
              "        0., 0., 0., 0., 0., 0., 0., 0., 0., 0., 0., 0., 0., 0., 0., 0., 0.,\n",
              "        0., 0., 0., 0., 0., 0., 0., 0., 0., 0., 0., 0., 0., 0., 0., 0., 0.,\n",
              "        0., 0., 0., 0., 0., 0., 0., 0., 0., 0., 0., 0., 0., 0., 0., 0., 0.,\n",
              "        0., 0., 0., 0., 0., 0., 0., 0., 0., 0., 0., 0., 0., 0., 0., 0., 0.,\n",
              "        0., 0., 0., 0., 0., 0., 0., 0., 0., 0., 0., 0., 0., 0., 0., 0., 0.,\n",
              "        0., 0., 0., 0., 0., 0., 0., 0., 0., 0., 0., 0., 0., 0., 0., 0., 0.,\n",
              "        0., 0., 0., 0., 0., 0., 0., 0., 0., 0., 0., 0., 0., 0., 0., 0., 0.,\n",
              "        0., 0., 0., 0., 0., 0., 0., 0., 0., 0., 0., 0., 0., 0., 0., 0., 0.,\n",
              "        0., 0., 0., 0., 0., 0., 0., 0., 0., 0., 0., 0., 0., 0., 0., 0., 0.,\n",
              "        0., 0., 0., 0., 0., 0., 0., 0., 0., 0., 0., 0., 0., 0., 0., 0., 0.,\n",
              "        0., 0., 0., 0., 0., 0., 0., 0., 0., 0., 0., 0., 0., 0., 0., 0., 0.,\n",
              "        0., 0., 0., 0., 0., 0., 0., 0., 0., 0., 0., 0., 0., 0., 0., 0., 0.,\n",
              "        0., 0., 0., 0., 0., 0., 0., 0., 0., 0., 0., 0., 0., 0., 0., 0., 0.,\n",
              "        0., 0., 0., 0., 0., 0., 0., 0., 0., 0., 0., 0., 0., 0., 0., 0., 0.,\n",
              "        0., 0., 0., 0., 0., 0., 0., 0., 0., 0., 0., 0., 0., 0., 0., 0., 0.,\n",
              "        0., 0., 0., 0., 0., 0., 0., 0., 0., 0., 0., 0., 0., 0., 0., 0., 0.,\n",
              "        0., 0., 0., 0., 0., 0., 0., 0., 0., 0., 0., 0., 0., 0., 0., 0., 0.,\n",
              "        0., 0., 0., 0., 0., 0., 0., 0., 0., 0., 0., 0., 0., 0., 0., 0., 0.,\n",
              "        0., 0., 0., 0., 0., 0., 0., 0., 0., 0., 0., 0., 0., 0., 0., 0., 0.,\n",
              "        0., 0., 0., 0., 0., 0., 0., 0., 0., 0., 0., 0., 0., 0., 0., 0., 0.,\n",
              "        0., 0., 0., 0., 0., 0., 0., 0., 0., 0., 0., 0., 0., 0., 0., 0., 0.,\n",
              "        0., 0., 0., 0., 0., 0., 0., 0., 0., 0., 0., 0., 0., 0., 0., 0., 0.,\n",
              "        0., 0.], dtype=float32)>,\n",
              " <tf.Variable 'encoder_layer_9/multi_head_attention_29/dense_159/kernel:0' shape=(512, 512) dtype=float32, numpy=\n",
              " array([[ 0.0201879 ,  0.06344602, -0.01582499, ..., -0.00487355,\n",
              "         -0.00492374,  0.06225763],\n",
              "        [-0.0590548 , -0.01649961, -0.07453977, ..., -0.0527642 ,\n",
              "          0.02699094, -0.07181966],\n",
              "        [-0.04108644, -0.00594994,  0.01581291, ..., -0.01141541,\n",
              "         -0.04619668, -0.02172215],\n",
              "        ...,\n",
              "        [-0.01102205,  0.04389508,  0.0037666 , ...,  0.07084519,\n",
              "         -0.01115747,  0.06820818],\n",
              "        [ 0.00854078, -0.07018591, -0.02004239, ..., -0.00871903,\n",
              "          0.06895732,  0.06192341],\n",
              "        [ 0.03482267, -0.04708402,  0.02253098, ...,  0.02079725,\n",
              "         -0.05988589, -0.07041776]], dtype=float32)>,\n",
              " <tf.Variable 'encoder_layer_9/multi_head_attention_29/dense_159/bias:0' shape=(512,) dtype=float32, numpy=\n",
              " array([0., 0., 0., 0., 0., 0., 0., 0., 0., 0., 0., 0., 0., 0., 0., 0., 0.,\n",
              "        0., 0., 0., 0., 0., 0., 0., 0., 0., 0., 0., 0., 0., 0., 0., 0., 0.,\n",
              "        0., 0., 0., 0., 0., 0., 0., 0., 0., 0., 0., 0., 0., 0., 0., 0., 0.,\n",
              "        0., 0., 0., 0., 0., 0., 0., 0., 0., 0., 0., 0., 0., 0., 0., 0., 0.,\n",
              "        0., 0., 0., 0., 0., 0., 0., 0., 0., 0., 0., 0., 0., 0., 0., 0., 0.,\n",
              "        0., 0., 0., 0., 0., 0., 0., 0., 0., 0., 0., 0., 0., 0., 0., 0., 0.,\n",
              "        0., 0., 0., 0., 0., 0., 0., 0., 0., 0., 0., 0., 0., 0., 0., 0., 0.,\n",
              "        0., 0., 0., 0., 0., 0., 0., 0., 0., 0., 0., 0., 0., 0., 0., 0., 0.,\n",
              "        0., 0., 0., 0., 0., 0., 0., 0., 0., 0., 0., 0., 0., 0., 0., 0., 0.,\n",
              "        0., 0., 0., 0., 0., 0., 0., 0., 0., 0., 0., 0., 0., 0., 0., 0., 0.,\n",
              "        0., 0., 0., 0., 0., 0., 0., 0., 0., 0., 0., 0., 0., 0., 0., 0., 0.,\n",
              "        0., 0., 0., 0., 0., 0., 0., 0., 0., 0., 0., 0., 0., 0., 0., 0., 0.,\n",
              "        0., 0., 0., 0., 0., 0., 0., 0., 0., 0., 0., 0., 0., 0., 0., 0., 0.,\n",
              "        0., 0., 0., 0., 0., 0., 0., 0., 0., 0., 0., 0., 0., 0., 0., 0., 0.,\n",
              "        0., 0., 0., 0., 0., 0., 0., 0., 0., 0., 0., 0., 0., 0., 0., 0., 0.,\n",
              "        0., 0., 0., 0., 0., 0., 0., 0., 0., 0., 0., 0., 0., 0., 0., 0., 0.,\n",
              "        0., 0., 0., 0., 0., 0., 0., 0., 0., 0., 0., 0., 0., 0., 0., 0., 0.,\n",
              "        0., 0., 0., 0., 0., 0., 0., 0., 0., 0., 0., 0., 0., 0., 0., 0., 0.,\n",
              "        0., 0., 0., 0., 0., 0., 0., 0., 0., 0., 0., 0., 0., 0., 0., 0., 0.,\n",
              "        0., 0., 0., 0., 0., 0., 0., 0., 0., 0., 0., 0., 0., 0., 0., 0., 0.,\n",
              "        0., 0., 0., 0., 0., 0., 0., 0., 0., 0., 0., 0., 0., 0., 0., 0., 0.,\n",
              "        0., 0., 0., 0., 0., 0., 0., 0., 0., 0., 0., 0., 0., 0., 0., 0., 0.,\n",
              "        0., 0., 0., 0., 0., 0., 0., 0., 0., 0., 0., 0., 0., 0., 0., 0., 0.,\n",
              "        0., 0., 0., 0., 0., 0., 0., 0., 0., 0., 0., 0., 0., 0., 0., 0., 0.,\n",
              "        0., 0., 0., 0., 0., 0., 0., 0., 0., 0., 0., 0., 0., 0., 0., 0., 0.,\n",
              "        0., 0., 0., 0., 0., 0., 0., 0., 0., 0., 0., 0., 0., 0., 0., 0., 0.,\n",
              "        0., 0., 0., 0., 0., 0., 0., 0., 0., 0., 0., 0., 0., 0., 0., 0., 0.,\n",
              "        0., 0., 0., 0., 0., 0., 0., 0., 0., 0., 0., 0., 0., 0., 0., 0., 0.,\n",
              "        0., 0., 0., 0., 0., 0., 0., 0., 0., 0., 0., 0., 0., 0., 0., 0., 0.,\n",
              "        0., 0., 0., 0., 0., 0., 0., 0., 0., 0., 0., 0., 0., 0., 0., 0., 0.,\n",
              "        0., 0.], dtype=float32)>,\n",
              " <tf.Variable 'encoder_layer_9/multi_head_attention_29/dense_160/kernel:0' shape=(512, 512) dtype=float32, numpy=\n",
              " array([[-0.06082574,  0.07484575,  0.0136437 , ..., -0.03090893,\n",
              "          0.05994163,  0.02791345],\n",
              "        [-0.04321917,  0.06651806,  0.00753201, ...,  0.06695301,\n",
              "          0.06402779, -0.03039596],\n",
              "        [ 0.01539203, -0.00203412,  0.06292459, ...,  0.01939806,\n",
              "         -0.01761737, -0.05803613],\n",
              "        ...,\n",
              "        [ 0.03562123,  0.02562504, -0.00194272, ..., -0.01675781,\n",
              "         -0.07199185, -0.06055377],\n",
              "        [ 0.07178862,  0.07615168,  0.02789351, ...,  0.04194776,\n",
              "         -0.07189455, -0.07121683],\n",
              "        [-0.07246567,  0.06502288,  0.00734764, ..., -0.02442472,\n",
              "          0.06744783,  0.00956029]], dtype=float32)>,\n",
              " <tf.Variable 'encoder_layer_9/multi_head_attention_29/dense_160/bias:0' shape=(512,) dtype=float32, numpy=\n",
              " array([0., 0., 0., 0., 0., 0., 0., 0., 0., 0., 0., 0., 0., 0., 0., 0., 0.,\n",
              "        0., 0., 0., 0., 0., 0., 0., 0., 0., 0., 0., 0., 0., 0., 0., 0., 0.,\n",
              "        0., 0., 0., 0., 0., 0., 0., 0., 0., 0., 0., 0., 0., 0., 0., 0., 0.,\n",
              "        0., 0., 0., 0., 0., 0., 0., 0., 0., 0., 0., 0., 0., 0., 0., 0., 0.,\n",
              "        0., 0., 0., 0., 0., 0., 0., 0., 0., 0., 0., 0., 0., 0., 0., 0., 0.,\n",
              "        0., 0., 0., 0., 0., 0., 0., 0., 0., 0., 0., 0., 0., 0., 0., 0., 0.,\n",
              "        0., 0., 0., 0., 0., 0., 0., 0., 0., 0., 0., 0., 0., 0., 0., 0., 0.,\n",
              "        0., 0., 0., 0., 0., 0., 0., 0., 0., 0., 0., 0., 0., 0., 0., 0., 0.,\n",
              "        0., 0., 0., 0., 0., 0., 0., 0., 0., 0., 0., 0., 0., 0., 0., 0., 0.,\n",
              "        0., 0., 0., 0., 0., 0., 0., 0., 0., 0., 0., 0., 0., 0., 0., 0., 0.,\n",
              "        0., 0., 0., 0., 0., 0., 0., 0., 0., 0., 0., 0., 0., 0., 0., 0., 0.,\n",
              "        0., 0., 0., 0., 0., 0., 0., 0., 0., 0., 0., 0., 0., 0., 0., 0., 0.,\n",
              "        0., 0., 0., 0., 0., 0., 0., 0., 0., 0., 0., 0., 0., 0., 0., 0., 0.,\n",
              "        0., 0., 0., 0., 0., 0., 0., 0., 0., 0., 0., 0., 0., 0., 0., 0., 0.,\n",
              "        0., 0., 0., 0., 0., 0., 0., 0., 0., 0., 0., 0., 0., 0., 0., 0., 0.,\n",
              "        0., 0., 0., 0., 0., 0., 0., 0., 0., 0., 0., 0., 0., 0., 0., 0., 0.,\n",
              "        0., 0., 0., 0., 0., 0., 0., 0., 0., 0., 0., 0., 0., 0., 0., 0., 0.,\n",
              "        0., 0., 0., 0., 0., 0., 0., 0., 0., 0., 0., 0., 0., 0., 0., 0., 0.,\n",
              "        0., 0., 0., 0., 0., 0., 0., 0., 0., 0., 0., 0., 0., 0., 0., 0., 0.,\n",
              "        0., 0., 0., 0., 0., 0., 0., 0., 0., 0., 0., 0., 0., 0., 0., 0., 0.,\n",
              "        0., 0., 0., 0., 0., 0., 0., 0., 0., 0., 0., 0., 0., 0., 0., 0., 0.,\n",
              "        0., 0., 0., 0., 0., 0., 0., 0., 0., 0., 0., 0., 0., 0., 0., 0., 0.,\n",
              "        0., 0., 0., 0., 0., 0., 0., 0., 0., 0., 0., 0., 0., 0., 0., 0., 0.,\n",
              "        0., 0., 0., 0., 0., 0., 0., 0., 0., 0., 0., 0., 0., 0., 0., 0., 0.,\n",
              "        0., 0., 0., 0., 0., 0., 0., 0., 0., 0., 0., 0., 0., 0., 0., 0., 0.,\n",
              "        0., 0., 0., 0., 0., 0., 0., 0., 0., 0., 0., 0., 0., 0., 0., 0., 0.,\n",
              "        0., 0., 0., 0., 0., 0., 0., 0., 0., 0., 0., 0., 0., 0., 0., 0., 0.,\n",
              "        0., 0., 0., 0., 0., 0., 0., 0., 0., 0., 0., 0., 0., 0., 0., 0., 0.,\n",
              "        0., 0., 0., 0., 0., 0., 0., 0., 0., 0., 0., 0., 0., 0., 0., 0., 0.,\n",
              "        0., 0., 0., 0., 0., 0., 0., 0., 0., 0., 0., 0., 0., 0., 0., 0., 0.,\n",
              "        0., 0.], dtype=float32)>,\n",
              " <tf.Variable 'encoder_layer_9/multi_head_attention_29/dense_161/kernel:0' shape=(512, 512) dtype=float32, numpy=\n",
              " array([[ 0.02006785,  0.05041633,  0.04828281, ..., -0.01207567,\n",
              "          0.00080308, -0.03108454],\n",
              "        [ 0.04201536, -0.04672484,  0.04881694, ...,  0.0647236 ,\n",
              "          0.03192983, -0.0703726 ],\n",
              "        [ 0.05704623,  0.02366289, -0.01298551, ...,  0.01748515,\n",
              "          0.01215941,  0.05914899],\n",
              "        ...,\n",
              "        [-0.06975941,  0.03810326, -0.05807751, ..., -0.03991141,\n",
              "         -0.07604643, -0.01091345],\n",
              "        [-0.04988339, -0.06884679,  0.02550062, ..., -0.05168732,\n",
              "         -0.02771929, -0.00521258],\n",
              "        [ 0.01194339, -0.00025807,  0.01305895, ..., -0.0381519 ,\n",
              "          0.0037898 , -0.00667792]], dtype=float32)>,\n",
              " <tf.Variable 'encoder_layer_9/multi_head_attention_29/dense_161/bias:0' shape=(512,) dtype=float32, numpy=\n",
              " array([0., 0., 0., 0., 0., 0., 0., 0., 0., 0., 0., 0., 0., 0., 0., 0., 0.,\n",
              "        0., 0., 0., 0., 0., 0., 0., 0., 0., 0., 0., 0., 0., 0., 0., 0., 0.,\n",
              "        0., 0., 0., 0., 0., 0., 0., 0., 0., 0., 0., 0., 0., 0., 0., 0., 0.,\n",
              "        0., 0., 0., 0., 0., 0., 0., 0., 0., 0., 0., 0., 0., 0., 0., 0., 0.,\n",
              "        0., 0., 0., 0., 0., 0., 0., 0., 0., 0., 0., 0., 0., 0., 0., 0., 0.,\n",
              "        0., 0., 0., 0., 0., 0., 0., 0., 0., 0., 0., 0., 0., 0., 0., 0., 0.,\n",
              "        0., 0., 0., 0., 0., 0., 0., 0., 0., 0., 0., 0., 0., 0., 0., 0., 0.,\n",
              "        0., 0., 0., 0., 0., 0., 0., 0., 0., 0., 0., 0., 0., 0., 0., 0., 0.,\n",
              "        0., 0., 0., 0., 0., 0., 0., 0., 0., 0., 0., 0., 0., 0., 0., 0., 0.,\n",
              "        0., 0., 0., 0., 0., 0., 0., 0., 0., 0., 0., 0., 0., 0., 0., 0., 0.,\n",
              "        0., 0., 0., 0., 0., 0., 0., 0., 0., 0., 0., 0., 0., 0., 0., 0., 0.,\n",
              "        0., 0., 0., 0., 0., 0., 0., 0., 0., 0., 0., 0., 0., 0., 0., 0., 0.,\n",
              "        0., 0., 0., 0., 0., 0., 0., 0., 0., 0., 0., 0., 0., 0., 0., 0., 0.,\n",
              "        0., 0., 0., 0., 0., 0., 0., 0., 0., 0., 0., 0., 0., 0., 0., 0., 0.,\n",
              "        0., 0., 0., 0., 0., 0., 0., 0., 0., 0., 0., 0., 0., 0., 0., 0., 0.,\n",
              "        0., 0., 0., 0., 0., 0., 0., 0., 0., 0., 0., 0., 0., 0., 0., 0., 0.,\n",
              "        0., 0., 0., 0., 0., 0., 0., 0., 0., 0., 0., 0., 0., 0., 0., 0., 0.,\n",
              "        0., 0., 0., 0., 0., 0., 0., 0., 0., 0., 0., 0., 0., 0., 0., 0., 0.,\n",
              "        0., 0., 0., 0., 0., 0., 0., 0., 0., 0., 0., 0., 0., 0., 0., 0., 0.,\n",
              "        0., 0., 0., 0., 0., 0., 0., 0., 0., 0., 0., 0., 0., 0., 0., 0., 0.,\n",
              "        0., 0., 0., 0., 0., 0., 0., 0., 0., 0., 0., 0., 0., 0., 0., 0., 0.,\n",
              "        0., 0., 0., 0., 0., 0., 0., 0., 0., 0., 0., 0., 0., 0., 0., 0., 0.,\n",
              "        0., 0., 0., 0., 0., 0., 0., 0., 0., 0., 0., 0., 0., 0., 0., 0., 0.,\n",
              "        0., 0., 0., 0., 0., 0., 0., 0., 0., 0., 0., 0., 0., 0., 0., 0., 0.,\n",
              "        0., 0., 0., 0., 0., 0., 0., 0., 0., 0., 0., 0., 0., 0., 0., 0., 0.,\n",
              "        0., 0., 0., 0., 0., 0., 0., 0., 0., 0., 0., 0., 0., 0., 0., 0., 0.,\n",
              "        0., 0., 0., 0., 0., 0., 0., 0., 0., 0., 0., 0., 0., 0., 0., 0., 0.,\n",
              "        0., 0., 0., 0., 0., 0., 0., 0., 0., 0., 0., 0., 0., 0., 0., 0., 0.,\n",
              "        0., 0., 0., 0., 0., 0., 0., 0., 0., 0., 0., 0., 0., 0., 0., 0., 0.,\n",
              "        0., 0., 0., 0., 0., 0., 0., 0., 0., 0., 0., 0., 0., 0., 0., 0., 0.,\n",
              "        0., 0.], dtype=float32)>,\n",
              " <tf.Variable 'dense_162/kernel:0' shape=(512, 2048) dtype=float32, numpy=\n",
              " array([[-0.01789801,  0.04340407, -0.0016043 , ..., -0.01067227,\n",
              "         -0.015831  ,  0.00766672],\n",
              "        [ 0.00014246, -0.04205634,  0.0405287 , ..., -0.02400882,\n",
              "          0.00556695, -0.04830577],\n",
              "        [ 0.04268505,  0.00999287, -0.02168976, ..., -0.03613469,\n",
              "          0.02336003, -0.02951704],\n",
              "        ...,\n",
              "        [-0.04651175,  0.01274027,  0.0357533 , ..., -0.03287341,\n",
              "         -0.04666309, -0.0203438 ],\n",
              "        [ 0.04451045, -0.01938249,  0.02511489, ...,  0.02132619,\n",
              "          0.01621532, -0.02305104],\n",
              "        [-0.00364764, -0.04774076, -0.02863106, ...,  0.03415134,\n",
              "         -0.00445813,  0.03637944]], dtype=float32)>,\n",
              " <tf.Variable 'dense_162/bias:0' shape=(2048,) dtype=float32, numpy=array([0., 0., 0., ..., 0., 0., 0.], dtype=float32)>,\n",
              " <tf.Variable 'dense_163/kernel:0' shape=(2048, 512) dtype=float32, numpy=\n",
              " array([[ 0.01824208, -0.01335493,  0.03415506, ...,  0.02513094,\n",
              "         -0.00888943,  0.02645457],\n",
              "        [ 0.02176755,  0.01461439,  0.01117377, ...,  0.00760575,\n",
              "         -0.01991234,  0.03400126],\n",
              "        [-0.03338877,  0.0313627 ,  0.03176575, ..., -0.01436858,\n",
              "          0.01150408, -0.01164312],\n",
              "        ...,\n",
              "        [-0.03137033,  0.01665088, -0.04689709, ..., -0.03730356,\n",
              "         -0.03100744,  0.03538155],\n",
              "        [ 0.0210885 ,  0.0318537 , -0.0269567 , ..., -0.02763181,\n",
              "          0.03848402,  0.00585161],\n",
              "        [-0.02156442, -0.03160896,  0.04646473, ...,  0.03667862,\n",
              "         -0.02916512,  0.00043957]], dtype=float32)>,\n",
              " <tf.Variable 'dense_163/bias:0' shape=(512,) dtype=float32, numpy=\n",
              " array([0., 0., 0., 0., 0., 0., 0., 0., 0., 0., 0., 0., 0., 0., 0., 0., 0.,\n",
              "        0., 0., 0., 0., 0., 0., 0., 0., 0., 0., 0., 0., 0., 0., 0., 0., 0.,\n",
              "        0., 0., 0., 0., 0., 0., 0., 0., 0., 0., 0., 0., 0., 0., 0., 0., 0.,\n",
              "        0., 0., 0., 0., 0., 0., 0., 0., 0., 0., 0., 0., 0., 0., 0., 0., 0.,\n",
              "        0., 0., 0., 0., 0., 0., 0., 0., 0., 0., 0., 0., 0., 0., 0., 0., 0.,\n",
              "        0., 0., 0., 0., 0., 0., 0., 0., 0., 0., 0., 0., 0., 0., 0., 0., 0.,\n",
              "        0., 0., 0., 0., 0., 0., 0., 0., 0., 0., 0., 0., 0., 0., 0., 0., 0.,\n",
              "        0., 0., 0., 0., 0., 0., 0., 0., 0., 0., 0., 0., 0., 0., 0., 0., 0.,\n",
              "        0., 0., 0., 0., 0., 0., 0., 0., 0., 0., 0., 0., 0., 0., 0., 0., 0.,\n",
              "        0., 0., 0., 0., 0., 0., 0., 0., 0., 0., 0., 0., 0., 0., 0., 0., 0.,\n",
              "        0., 0., 0., 0., 0., 0., 0., 0., 0., 0., 0., 0., 0., 0., 0., 0., 0.,\n",
              "        0., 0., 0., 0., 0., 0., 0., 0., 0., 0., 0., 0., 0., 0., 0., 0., 0.,\n",
              "        0., 0., 0., 0., 0., 0., 0., 0., 0., 0., 0., 0., 0., 0., 0., 0., 0.,\n",
              "        0., 0., 0., 0., 0., 0., 0., 0., 0., 0., 0., 0., 0., 0., 0., 0., 0.,\n",
              "        0., 0., 0., 0., 0., 0., 0., 0., 0., 0., 0., 0., 0., 0., 0., 0., 0.,\n",
              "        0., 0., 0., 0., 0., 0., 0., 0., 0., 0., 0., 0., 0., 0., 0., 0., 0.,\n",
              "        0., 0., 0., 0., 0., 0., 0., 0., 0., 0., 0., 0., 0., 0., 0., 0., 0.,\n",
              "        0., 0., 0., 0., 0., 0., 0., 0., 0., 0., 0., 0., 0., 0., 0., 0., 0.,\n",
              "        0., 0., 0., 0., 0., 0., 0., 0., 0., 0., 0., 0., 0., 0., 0., 0., 0.,\n",
              "        0., 0., 0., 0., 0., 0., 0., 0., 0., 0., 0., 0., 0., 0., 0., 0., 0.,\n",
              "        0., 0., 0., 0., 0., 0., 0., 0., 0., 0., 0., 0., 0., 0., 0., 0., 0.,\n",
              "        0., 0., 0., 0., 0., 0., 0., 0., 0., 0., 0., 0., 0., 0., 0., 0., 0.,\n",
              "        0., 0., 0., 0., 0., 0., 0., 0., 0., 0., 0., 0., 0., 0., 0., 0., 0.,\n",
              "        0., 0., 0., 0., 0., 0., 0., 0., 0., 0., 0., 0., 0., 0., 0., 0., 0.,\n",
              "        0., 0., 0., 0., 0., 0., 0., 0., 0., 0., 0., 0., 0., 0., 0., 0., 0.,\n",
              "        0., 0., 0., 0., 0., 0., 0., 0., 0., 0., 0., 0., 0., 0., 0., 0., 0.,\n",
              "        0., 0., 0., 0., 0., 0., 0., 0., 0., 0., 0., 0., 0., 0., 0., 0., 0.,\n",
              "        0., 0., 0., 0., 0., 0., 0., 0., 0., 0., 0., 0., 0., 0., 0., 0., 0.,\n",
              "        0., 0., 0., 0., 0., 0., 0., 0., 0., 0., 0., 0., 0., 0., 0., 0., 0.,\n",
              "        0., 0., 0., 0., 0., 0., 0., 0., 0., 0., 0., 0., 0., 0., 0., 0., 0.,\n",
              "        0., 0.], dtype=float32)>,\n",
              " <tf.Variable 'encoder_layer_9/layer_normalization_45/gamma:0' shape=(512,) dtype=float32, numpy=\n",
              " array([1., 1., 1., 1., 1., 1., 1., 1., 1., 1., 1., 1., 1., 1., 1., 1., 1.,\n",
              "        1., 1., 1., 1., 1., 1., 1., 1., 1., 1., 1., 1., 1., 1., 1., 1., 1.,\n",
              "        1., 1., 1., 1., 1., 1., 1., 1., 1., 1., 1., 1., 1., 1., 1., 1., 1.,\n",
              "        1., 1., 1., 1., 1., 1., 1., 1., 1., 1., 1., 1., 1., 1., 1., 1., 1.,\n",
              "        1., 1., 1., 1., 1., 1., 1., 1., 1., 1., 1., 1., 1., 1., 1., 1., 1.,\n",
              "        1., 1., 1., 1., 1., 1., 1., 1., 1., 1., 1., 1., 1., 1., 1., 1., 1.,\n",
              "        1., 1., 1., 1., 1., 1., 1., 1., 1., 1., 1., 1., 1., 1., 1., 1., 1.,\n",
              "        1., 1., 1., 1., 1., 1., 1., 1., 1., 1., 1., 1., 1., 1., 1., 1., 1.,\n",
              "        1., 1., 1., 1., 1., 1., 1., 1., 1., 1., 1., 1., 1., 1., 1., 1., 1.,\n",
              "        1., 1., 1., 1., 1., 1., 1., 1., 1., 1., 1., 1., 1., 1., 1., 1., 1.,\n",
              "        1., 1., 1., 1., 1., 1., 1., 1., 1., 1., 1., 1., 1., 1., 1., 1., 1.,\n",
              "        1., 1., 1., 1., 1., 1., 1., 1., 1., 1., 1., 1., 1., 1., 1., 1., 1.,\n",
              "        1., 1., 1., 1., 1., 1., 1., 1., 1., 1., 1., 1., 1., 1., 1., 1., 1.,\n",
              "        1., 1., 1., 1., 1., 1., 1., 1., 1., 1., 1., 1., 1., 1., 1., 1., 1.,\n",
              "        1., 1., 1., 1., 1., 1., 1., 1., 1., 1., 1., 1., 1., 1., 1., 1., 1.,\n",
              "        1., 1., 1., 1., 1., 1., 1., 1., 1., 1., 1., 1., 1., 1., 1., 1., 1.,\n",
              "        1., 1., 1., 1., 1., 1., 1., 1., 1., 1., 1., 1., 1., 1., 1., 1., 1.,\n",
              "        1., 1., 1., 1., 1., 1., 1., 1., 1., 1., 1., 1., 1., 1., 1., 1., 1.,\n",
              "        1., 1., 1., 1., 1., 1., 1., 1., 1., 1., 1., 1., 1., 1., 1., 1., 1.,\n",
              "        1., 1., 1., 1., 1., 1., 1., 1., 1., 1., 1., 1., 1., 1., 1., 1., 1.,\n",
              "        1., 1., 1., 1., 1., 1., 1., 1., 1., 1., 1., 1., 1., 1., 1., 1., 1.,\n",
              "        1., 1., 1., 1., 1., 1., 1., 1., 1., 1., 1., 1., 1., 1., 1., 1., 1.,\n",
              "        1., 1., 1., 1., 1., 1., 1., 1., 1., 1., 1., 1., 1., 1., 1., 1., 1.,\n",
              "        1., 1., 1., 1., 1., 1., 1., 1., 1., 1., 1., 1., 1., 1., 1., 1., 1.,\n",
              "        1., 1., 1., 1., 1., 1., 1., 1., 1., 1., 1., 1., 1., 1., 1., 1., 1.,\n",
              "        1., 1., 1., 1., 1., 1., 1., 1., 1., 1., 1., 1., 1., 1., 1., 1., 1.,\n",
              "        1., 1., 1., 1., 1., 1., 1., 1., 1., 1., 1., 1., 1., 1., 1., 1., 1.,\n",
              "        1., 1., 1., 1., 1., 1., 1., 1., 1., 1., 1., 1., 1., 1., 1., 1., 1.,\n",
              "        1., 1., 1., 1., 1., 1., 1., 1., 1., 1., 1., 1., 1., 1., 1., 1., 1.,\n",
              "        1., 1., 1., 1., 1., 1., 1., 1., 1., 1., 1., 1., 1., 1., 1., 1., 1.,\n",
              "        1., 1.], dtype=float32)>,\n",
              " <tf.Variable 'encoder_layer_9/layer_normalization_45/beta:0' shape=(512,) dtype=float32, numpy=\n",
              " array([0., 0., 0., 0., 0., 0., 0., 0., 0., 0., 0., 0., 0., 0., 0., 0., 0.,\n",
              "        0., 0., 0., 0., 0., 0., 0., 0., 0., 0., 0., 0., 0., 0., 0., 0., 0.,\n",
              "        0., 0., 0., 0., 0., 0., 0., 0., 0., 0., 0., 0., 0., 0., 0., 0., 0.,\n",
              "        0., 0., 0., 0., 0., 0., 0., 0., 0., 0., 0., 0., 0., 0., 0., 0., 0.,\n",
              "        0., 0., 0., 0., 0., 0., 0., 0., 0., 0., 0., 0., 0., 0., 0., 0., 0.,\n",
              "        0., 0., 0., 0., 0., 0., 0., 0., 0., 0., 0., 0., 0., 0., 0., 0., 0.,\n",
              "        0., 0., 0., 0., 0., 0., 0., 0., 0., 0., 0., 0., 0., 0., 0., 0., 0.,\n",
              "        0., 0., 0., 0., 0., 0., 0., 0., 0., 0., 0., 0., 0., 0., 0., 0., 0.,\n",
              "        0., 0., 0., 0., 0., 0., 0., 0., 0., 0., 0., 0., 0., 0., 0., 0., 0.,\n",
              "        0., 0., 0., 0., 0., 0., 0., 0., 0., 0., 0., 0., 0., 0., 0., 0., 0.,\n",
              "        0., 0., 0., 0., 0., 0., 0., 0., 0., 0., 0., 0., 0., 0., 0., 0., 0.,\n",
              "        0., 0., 0., 0., 0., 0., 0., 0., 0., 0., 0., 0., 0., 0., 0., 0., 0.,\n",
              "        0., 0., 0., 0., 0., 0., 0., 0., 0., 0., 0., 0., 0., 0., 0., 0., 0.,\n",
              "        0., 0., 0., 0., 0., 0., 0., 0., 0., 0., 0., 0., 0., 0., 0., 0., 0.,\n",
              "        0., 0., 0., 0., 0., 0., 0., 0., 0., 0., 0., 0., 0., 0., 0., 0., 0.,\n",
              "        0., 0., 0., 0., 0., 0., 0., 0., 0., 0., 0., 0., 0., 0., 0., 0., 0.,\n",
              "        0., 0., 0., 0., 0., 0., 0., 0., 0., 0., 0., 0., 0., 0., 0., 0., 0.,\n",
              "        0., 0., 0., 0., 0., 0., 0., 0., 0., 0., 0., 0., 0., 0., 0., 0., 0.,\n",
              "        0., 0., 0., 0., 0., 0., 0., 0., 0., 0., 0., 0., 0., 0., 0., 0., 0.,\n",
              "        0., 0., 0., 0., 0., 0., 0., 0., 0., 0., 0., 0., 0., 0., 0., 0., 0.,\n",
              "        0., 0., 0., 0., 0., 0., 0., 0., 0., 0., 0., 0., 0., 0., 0., 0., 0.,\n",
              "        0., 0., 0., 0., 0., 0., 0., 0., 0., 0., 0., 0., 0., 0., 0., 0., 0.,\n",
              "        0., 0., 0., 0., 0., 0., 0., 0., 0., 0., 0., 0., 0., 0., 0., 0., 0.,\n",
              "        0., 0., 0., 0., 0., 0., 0., 0., 0., 0., 0., 0., 0., 0., 0., 0., 0.,\n",
              "        0., 0., 0., 0., 0., 0., 0., 0., 0., 0., 0., 0., 0., 0., 0., 0., 0.,\n",
              "        0., 0., 0., 0., 0., 0., 0., 0., 0., 0., 0., 0., 0., 0., 0., 0., 0.,\n",
              "        0., 0., 0., 0., 0., 0., 0., 0., 0., 0., 0., 0., 0., 0., 0., 0., 0.,\n",
              "        0., 0., 0., 0., 0., 0., 0., 0., 0., 0., 0., 0., 0., 0., 0., 0., 0.,\n",
              "        0., 0., 0., 0., 0., 0., 0., 0., 0., 0., 0., 0., 0., 0., 0., 0., 0.,\n",
              "        0., 0., 0., 0., 0., 0., 0., 0., 0., 0., 0., 0., 0., 0., 0., 0., 0.,\n",
              "        0., 0.], dtype=float32)>,\n",
              " <tf.Variable 'encoder_layer_9/layer_normalization_46/gamma:0' shape=(512,) dtype=float32, numpy=\n",
              " array([1., 1., 1., 1., 1., 1., 1., 1., 1., 1., 1., 1., 1., 1., 1., 1., 1.,\n",
              "        1., 1., 1., 1., 1., 1., 1., 1., 1., 1., 1., 1., 1., 1., 1., 1., 1.,\n",
              "        1., 1., 1., 1., 1., 1., 1., 1., 1., 1., 1., 1., 1., 1., 1., 1., 1.,\n",
              "        1., 1., 1., 1., 1., 1., 1., 1., 1., 1., 1., 1., 1., 1., 1., 1., 1.,\n",
              "        1., 1., 1., 1., 1., 1., 1., 1., 1., 1., 1., 1., 1., 1., 1., 1., 1.,\n",
              "        1., 1., 1., 1., 1., 1., 1., 1., 1., 1., 1., 1., 1., 1., 1., 1., 1.,\n",
              "        1., 1., 1., 1., 1., 1., 1., 1., 1., 1., 1., 1., 1., 1., 1., 1., 1.,\n",
              "        1., 1., 1., 1., 1., 1., 1., 1., 1., 1., 1., 1., 1., 1., 1., 1., 1.,\n",
              "        1., 1., 1., 1., 1., 1., 1., 1., 1., 1., 1., 1., 1., 1., 1., 1., 1.,\n",
              "        1., 1., 1., 1., 1., 1., 1., 1., 1., 1., 1., 1., 1., 1., 1., 1., 1.,\n",
              "        1., 1., 1., 1., 1., 1., 1., 1., 1., 1., 1., 1., 1., 1., 1., 1., 1.,\n",
              "        1., 1., 1., 1., 1., 1., 1., 1., 1., 1., 1., 1., 1., 1., 1., 1., 1.,\n",
              "        1., 1., 1., 1., 1., 1., 1., 1., 1., 1., 1., 1., 1., 1., 1., 1., 1.,\n",
              "        1., 1., 1., 1., 1., 1., 1., 1., 1., 1., 1., 1., 1., 1., 1., 1., 1.,\n",
              "        1., 1., 1., 1., 1., 1., 1., 1., 1., 1., 1., 1., 1., 1., 1., 1., 1.,\n",
              "        1., 1., 1., 1., 1., 1., 1., 1., 1., 1., 1., 1., 1., 1., 1., 1., 1.,\n",
              "        1., 1., 1., 1., 1., 1., 1., 1., 1., 1., 1., 1., 1., 1., 1., 1., 1.,\n",
              "        1., 1., 1., 1., 1., 1., 1., 1., 1., 1., 1., 1., 1., 1., 1., 1., 1.,\n",
              "        1., 1., 1., 1., 1., 1., 1., 1., 1., 1., 1., 1., 1., 1., 1., 1., 1.,\n",
              "        1., 1., 1., 1., 1., 1., 1., 1., 1., 1., 1., 1., 1., 1., 1., 1., 1.,\n",
              "        1., 1., 1., 1., 1., 1., 1., 1., 1., 1., 1., 1., 1., 1., 1., 1., 1.,\n",
              "        1., 1., 1., 1., 1., 1., 1., 1., 1., 1., 1., 1., 1., 1., 1., 1., 1.,\n",
              "        1., 1., 1., 1., 1., 1., 1., 1., 1., 1., 1., 1., 1., 1., 1., 1., 1.,\n",
              "        1., 1., 1., 1., 1., 1., 1., 1., 1., 1., 1., 1., 1., 1., 1., 1., 1.,\n",
              "        1., 1., 1., 1., 1., 1., 1., 1., 1., 1., 1., 1., 1., 1., 1., 1., 1.,\n",
              "        1., 1., 1., 1., 1., 1., 1., 1., 1., 1., 1., 1., 1., 1., 1., 1., 1.,\n",
              "        1., 1., 1., 1., 1., 1., 1., 1., 1., 1., 1., 1., 1., 1., 1., 1., 1.,\n",
              "        1., 1., 1., 1., 1., 1., 1., 1., 1., 1., 1., 1., 1., 1., 1., 1., 1.,\n",
              "        1., 1., 1., 1., 1., 1., 1., 1., 1., 1., 1., 1., 1., 1., 1., 1., 1.,\n",
              "        1., 1., 1., 1., 1., 1., 1., 1., 1., 1., 1., 1., 1., 1., 1., 1., 1.,\n",
              "        1., 1.], dtype=float32)>,\n",
              " <tf.Variable 'encoder_layer_9/layer_normalization_46/beta:0' shape=(512,) dtype=float32, numpy=\n",
              " array([0., 0., 0., 0., 0., 0., 0., 0., 0., 0., 0., 0., 0., 0., 0., 0., 0.,\n",
              "        0., 0., 0., 0., 0., 0., 0., 0., 0., 0., 0., 0., 0., 0., 0., 0., 0.,\n",
              "        0., 0., 0., 0., 0., 0., 0., 0., 0., 0., 0., 0., 0., 0., 0., 0., 0.,\n",
              "        0., 0., 0., 0., 0., 0., 0., 0., 0., 0., 0., 0., 0., 0., 0., 0., 0.,\n",
              "        0., 0., 0., 0., 0., 0., 0., 0., 0., 0., 0., 0., 0., 0., 0., 0., 0.,\n",
              "        0., 0., 0., 0., 0., 0., 0., 0., 0., 0., 0., 0., 0., 0., 0., 0., 0.,\n",
              "        0., 0., 0., 0., 0., 0., 0., 0., 0., 0., 0., 0., 0., 0., 0., 0., 0.,\n",
              "        0., 0., 0., 0., 0., 0., 0., 0., 0., 0., 0., 0., 0., 0., 0., 0., 0.,\n",
              "        0., 0., 0., 0., 0., 0., 0., 0., 0., 0., 0., 0., 0., 0., 0., 0., 0.,\n",
              "        0., 0., 0., 0., 0., 0., 0., 0., 0., 0., 0., 0., 0., 0., 0., 0., 0.,\n",
              "        0., 0., 0., 0., 0., 0., 0., 0., 0., 0., 0., 0., 0., 0., 0., 0., 0.,\n",
              "        0., 0., 0., 0., 0., 0., 0., 0., 0., 0., 0., 0., 0., 0., 0., 0., 0.,\n",
              "        0., 0., 0., 0., 0., 0., 0., 0., 0., 0., 0., 0., 0., 0., 0., 0., 0.,\n",
              "        0., 0., 0., 0., 0., 0., 0., 0., 0., 0., 0., 0., 0., 0., 0., 0., 0.,\n",
              "        0., 0., 0., 0., 0., 0., 0., 0., 0., 0., 0., 0., 0., 0., 0., 0., 0.,\n",
              "        0., 0., 0., 0., 0., 0., 0., 0., 0., 0., 0., 0., 0., 0., 0., 0., 0.,\n",
              "        0., 0., 0., 0., 0., 0., 0., 0., 0., 0., 0., 0., 0., 0., 0., 0., 0.,\n",
              "        0., 0., 0., 0., 0., 0., 0., 0., 0., 0., 0., 0., 0., 0., 0., 0., 0.,\n",
              "        0., 0., 0., 0., 0., 0., 0., 0., 0., 0., 0., 0., 0., 0., 0., 0., 0.,\n",
              "        0., 0., 0., 0., 0., 0., 0., 0., 0., 0., 0., 0., 0., 0., 0., 0., 0.,\n",
              "        0., 0., 0., 0., 0., 0., 0., 0., 0., 0., 0., 0., 0., 0., 0., 0., 0.,\n",
              "        0., 0., 0., 0., 0., 0., 0., 0., 0., 0., 0., 0., 0., 0., 0., 0., 0.,\n",
              "        0., 0., 0., 0., 0., 0., 0., 0., 0., 0., 0., 0., 0., 0., 0., 0., 0.,\n",
              "        0., 0., 0., 0., 0., 0., 0., 0., 0., 0., 0., 0., 0., 0., 0., 0., 0.,\n",
              "        0., 0., 0., 0., 0., 0., 0., 0., 0., 0., 0., 0., 0., 0., 0., 0., 0.,\n",
              "        0., 0., 0., 0., 0., 0., 0., 0., 0., 0., 0., 0., 0., 0., 0., 0., 0.,\n",
              "        0., 0., 0., 0., 0., 0., 0., 0., 0., 0., 0., 0., 0., 0., 0., 0., 0.,\n",
              "        0., 0., 0., 0., 0., 0., 0., 0., 0., 0., 0., 0., 0., 0., 0., 0., 0.,\n",
              "        0., 0., 0., 0., 0., 0., 0., 0., 0., 0., 0., 0., 0., 0., 0., 0., 0.,\n",
              "        0., 0., 0., 0., 0., 0., 0., 0., 0., 0., 0., 0., 0., 0., 0., 0., 0.,\n",
              "        0., 0.], dtype=float32)>]"
            ]
          },
          "metadata": {},
          "execution_count": 74
        }
      ],
      "source": [
        "sample_encoder_layer.variables"
      ]
    },
    {
      "cell_type": "code",
      "execution_count": 75,
      "metadata": {
        "id": "4Y3hPOwCfvUO",
        "colab": {
          "base_uri": "https://localhost:8080/"
        },
        "outputId": "e74a31e5-12b9-4b81-b824-86c665fbdf4c"
      },
      "outputs": [
        {
          "output_type": "execute_result",
          "data": {
            "text/plain": [
              "[<tf.Variable 'encoder_layer_9/multi_head_attention_29/dense_158/kernel:0' shape=(512, 512) dtype=float32, numpy=\n",
              " array([[-0.07269425, -0.02172845,  0.03022368, ..., -0.0445837 ,\n",
              "          0.06158007,  0.01299228],\n",
              "        [-0.00279603,  0.03706963, -0.07378405, ..., -0.03569598,\n",
              "          0.00161891, -0.07084925],\n",
              "        [-0.0667477 ,  0.07194062,  0.07426592, ...,  0.00488634,\n",
              "          0.05725632, -0.06169483],\n",
              "        ...,\n",
              "        [-0.05803926,  0.00137741,  0.01308957, ..., -0.05543611,\n",
              "          0.07180598, -0.06267793],\n",
              "        [ 0.0001921 , -0.0366058 ,  0.05820429, ...,  0.07595343,\n",
              "          0.03771806, -0.0144515 ],\n",
              "        [-0.06846354, -0.02164631, -0.05761899, ...,  0.02729866,\n",
              "         -0.01320945,  0.07294603]], dtype=float32)>,\n",
              " <tf.Variable 'encoder_layer_9/multi_head_attention_29/dense_158/bias:0' shape=(512,) dtype=float32, numpy=\n",
              " array([0., 0., 0., 0., 0., 0., 0., 0., 0., 0., 0., 0., 0., 0., 0., 0., 0.,\n",
              "        0., 0., 0., 0., 0., 0., 0., 0., 0., 0., 0., 0., 0., 0., 0., 0., 0.,\n",
              "        0., 0., 0., 0., 0., 0., 0., 0., 0., 0., 0., 0., 0., 0., 0., 0., 0.,\n",
              "        0., 0., 0., 0., 0., 0., 0., 0., 0., 0., 0., 0., 0., 0., 0., 0., 0.,\n",
              "        0., 0., 0., 0., 0., 0., 0., 0., 0., 0., 0., 0., 0., 0., 0., 0., 0.,\n",
              "        0., 0., 0., 0., 0., 0., 0., 0., 0., 0., 0., 0., 0., 0., 0., 0., 0.,\n",
              "        0., 0., 0., 0., 0., 0., 0., 0., 0., 0., 0., 0., 0., 0., 0., 0., 0.,\n",
              "        0., 0., 0., 0., 0., 0., 0., 0., 0., 0., 0., 0., 0., 0., 0., 0., 0.,\n",
              "        0., 0., 0., 0., 0., 0., 0., 0., 0., 0., 0., 0., 0., 0., 0., 0., 0.,\n",
              "        0., 0., 0., 0., 0., 0., 0., 0., 0., 0., 0., 0., 0., 0., 0., 0., 0.,\n",
              "        0., 0., 0., 0., 0., 0., 0., 0., 0., 0., 0., 0., 0., 0., 0., 0., 0.,\n",
              "        0., 0., 0., 0., 0., 0., 0., 0., 0., 0., 0., 0., 0., 0., 0., 0., 0.,\n",
              "        0., 0., 0., 0., 0., 0., 0., 0., 0., 0., 0., 0., 0., 0., 0., 0., 0.,\n",
              "        0., 0., 0., 0., 0., 0., 0., 0., 0., 0., 0., 0., 0., 0., 0., 0., 0.,\n",
              "        0., 0., 0., 0., 0., 0., 0., 0., 0., 0., 0., 0., 0., 0., 0., 0., 0.,\n",
              "        0., 0., 0., 0., 0., 0., 0., 0., 0., 0., 0., 0., 0., 0., 0., 0., 0.,\n",
              "        0., 0., 0., 0., 0., 0., 0., 0., 0., 0., 0., 0., 0., 0., 0., 0., 0.,\n",
              "        0., 0., 0., 0., 0., 0., 0., 0., 0., 0., 0., 0., 0., 0., 0., 0., 0.,\n",
              "        0., 0., 0., 0., 0., 0., 0., 0., 0., 0., 0., 0., 0., 0., 0., 0., 0.,\n",
              "        0., 0., 0., 0., 0., 0., 0., 0., 0., 0., 0., 0., 0., 0., 0., 0., 0.,\n",
              "        0., 0., 0., 0., 0., 0., 0., 0., 0., 0., 0., 0., 0., 0., 0., 0., 0.,\n",
              "        0., 0., 0., 0., 0., 0., 0., 0., 0., 0., 0., 0., 0., 0., 0., 0., 0.,\n",
              "        0., 0., 0., 0., 0., 0., 0., 0., 0., 0., 0., 0., 0., 0., 0., 0., 0.,\n",
              "        0., 0., 0., 0., 0., 0., 0., 0., 0., 0., 0., 0., 0., 0., 0., 0., 0.,\n",
              "        0., 0., 0., 0., 0., 0., 0., 0., 0., 0., 0., 0., 0., 0., 0., 0., 0.,\n",
              "        0., 0., 0., 0., 0., 0., 0., 0., 0., 0., 0., 0., 0., 0., 0., 0., 0.,\n",
              "        0., 0., 0., 0., 0., 0., 0., 0., 0., 0., 0., 0., 0., 0., 0., 0., 0.,\n",
              "        0., 0., 0., 0., 0., 0., 0., 0., 0., 0., 0., 0., 0., 0., 0., 0., 0.,\n",
              "        0., 0., 0., 0., 0., 0., 0., 0., 0., 0., 0., 0., 0., 0., 0., 0., 0.,\n",
              "        0., 0., 0., 0., 0., 0., 0., 0., 0., 0., 0., 0., 0., 0., 0., 0., 0.,\n",
              "        0., 0.], dtype=float32)>,\n",
              " <tf.Variable 'encoder_layer_9/multi_head_attention_29/dense_159/kernel:0' shape=(512, 512) dtype=float32, numpy=\n",
              " array([[ 0.0201879 ,  0.06344602, -0.01582499, ..., -0.00487355,\n",
              "         -0.00492374,  0.06225763],\n",
              "        [-0.0590548 , -0.01649961, -0.07453977, ..., -0.0527642 ,\n",
              "          0.02699094, -0.07181966],\n",
              "        [-0.04108644, -0.00594994,  0.01581291, ..., -0.01141541,\n",
              "         -0.04619668, -0.02172215],\n",
              "        ...,\n",
              "        [-0.01102205,  0.04389508,  0.0037666 , ...,  0.07084519,\n",
              "         -0.01115747,  0.06820818],\n",
              "        [ 0.00854078, -0.07018591, -0.02004239, ..., -0.00871903,\n",
              "          0.06895732,  0.06192341],\n",
              "        [ 0.03482267, -0.04708402,  0.02253098, ...,  0.02079725,\n",
              "         -0.05988589, -0.07041776]], dtype=float32)>,\n",
              " <tf.Variable 'encoder_layer_9/multi_head_attention_29/dense_159/bias:0' shape=(512,) dtype=float32, numpy=\n",
              " array([0., 0., 0., 0., 0., 0., 0., 0., 0., 0., 0., 0., 0., 0., 0., 0., 0.,\n",
              "        0., 0., 0., 0., 0., 0., 0., 0., 0., 0., 0., 0., 0., 0., 0., 0., 0.,\n",
              "        0., 0., 0., 0., 0., 0., 0., 0., 0., 0., 0., 0., 0., 0., 0., 0., 0.,\n",
              "        0., 0., 0., 0., 0., 0., 0., 0., 0., 0., 0., 0., 0., 0., 0., 0., 0.,\n",
              "        0., 0., 0., 0., 0., 0., 0., 0., 0., 0., 0., 0., 0., 0., 0., 0., 0.,\n",
              "        0., 0., 0., 0., 0., 0., 0., 0., 0., 0., 0., 0., 0., 0., 0., 0., 0.,\n",
              "        0., 0., 0., 0., 0., 0., 0., 0., 0., 0., 0., 0., 0., 0., 0., 0., 0.,\n",
              "        0., 0., 0., 0., 0., 0., 0., 0., 0., 0., 0., 0., 0., 0., 0., 0., 0.,\n",
              "        0., 0., 0., 0., 0., 0., 0., 0., 0., 0., 0., 0., 0., 0., 0., 0., 0.,\n",
              "        0., 0., 0., 0., 0., 0., 0., 0., 0., 0., 0., 0., 0., 0., 0., 0., 0.,\n",
              "        0., 0., 0., 0., 0., 0., 0., 0., 0., 0., 0., 0., 0., 0., 0., 0., 0.,\n",
              "        0., 0., 0., 0., 0., 0., 0., 0., 0., 0., 0., 0., 0., 0., 0., 0., 0.,\n",
              "        0., 0., 0., 0., 0., 0., 0., 0., 0., 0., 0., 0., 0., 0., 0., 0., 0.,\n",
              "        0., 0., 0., 0., 0., 0., 0., 0., 0., 0., 0., 0., 0., 0., 0., 0., 0.,\n",
              "        0., 0., 0., 0., 0., 0., 0., 0., 0., 0., 0., 0., 0., 0., 0., 0., 0.,\n",
              "        0., 0., 0., 0., 0., 0., 0., 0., 0., 0., 0., 0., 0., 0., 0., 0., 0.,\n",
              "        0., 0., 0., 0., 0., 0., 0., 0., 0., 0., 0., 0., 0., 0., 0., 0., 0.,\n",
              "        0., 0., 0., 0., 0., 0., 0., 0., 0., 0., 0., 0., 0., 0., 0., 0., 0.,\n",
              "        0., 0., 0., 0., 0., 0., 0., 0., 0., 0., 0., 0., 0., 0., 0., 0., 0.,\n",
              "        0., 0., 0., 0., 0., 0., 0., 0., 0., 0., 0., 0., 0., 0., 0., 0., 0.,\n",
              "        0., 0., 0., 0., 0., 0., 0., 0., 0., 0., 0., 0., 0., 0., 0., 0., 0.,\n",
              "        0., 0., 0., 0., 0., 0., 0., 0., 0., 0., 0., 0., 0., 0., 0., 0., 0.,\n",
              "        0., 0., 0., 0., 0., 0., 0., 0., 0., 0., 0., 0., 0., 0., 0., 0., 0.,\n",
              "        0., 0., 0., 0., 0., 0., 0., 0., 0., 0., 0., 0., 0., 0., 0., 0., 0.,\n",
              "        0., 0., 0., 0., 0., 0., 0., 0., 0., 0., 0., 0., 0., 0., 0., 0., 0.,\n",
              "        0., 0., 0., 0., 0., 0., 0., 0., 0., 0., 0., 0., 0., 0., 0., 0., 0.,\n",
              "        0., 0., 0., 0., 0., 0., 0., 0., 0., 0., 0., 0., 0., 0., 0., 0., 0.,\n",
              "        0., 0., 0., 0., 0., 0., 0., 0., 0., 0., 0., 0., 0., 0., 0., 0., 0.,\n",
              "        0., 0., 0., 0., 0., 0., 0., 0., 0., 0., 0., 0., 0., 0., 0., 0., 0.,\n",
              "        0., 0., 0., 0., 0., 0., 0., 0., 0., 0., 0., 0., 0., 0., 0., 0., 0.,\n",
              "        0., 0.], dtype=float32)>,\n",
              " <tf.Variable 'encoder_layer_9/multi_head_attention_29/dense_160/kernel:0' shape=(512, 512) dtype=float32, numpy=\n",
              " array([[-0.06082574,  0.07484575,  0.0136437 , ..., -0.03090893,\n",
              "          0.05994163,  0.02791345],\n",
              "        [-0.04321917,  0.06651806,  0.00753201, ...,  0.06695301,\n",
              "          0.06402779, -0.03039596],\n",
              "        [ 0.01539203, -0.00203412,  0.06292459, ...,  0.01939806,\n",
              "         -0.01761737, -0.05803613],\n",
              "        ...,\n",
              "        [ 0.03562123,  0.02562504, -0.00194272, ..., -0.01675781,\n",
              "         -0.07199185, -0.06055377],\n",
              "        [ 0.07178862,  0.07615168,  0.02789351, ...,  0.04194776,\n",
              "         -0.07189455, -0.07121683],\n",
              "        [-0.07246567,  0.06502288,  0.00734764, ..., -0.02442472,\n",
              "          0.06744783,  0.00956029]], dtype=float32)>,\n",
              " <tf.Variable 'encoder_layer_9/multi_head_attention_29/dense_160/bias:0' shape=(512,) dtype=float32, numpy=\n",
              " array([0., 0., 0., 0., 0., 0., 0., 0., 0., 0., 0., 0., 0., 0., 0., 0., 0.,\n",
              "        0., 0., 0., 0., 0., 0., 0., 0., 0., 0., 0., 0., 0., 0., 0., 0., 0.,\n",
              "        0., 0., 0., 0., 0., 0., 0., 0., 0., 0., 0., 0., 0., 0., 0., 0., 0.,\n",
              "        0., 0., 0., 0., 0., 0., 0., 0., 0., 0., 0., 0., 0., 0., 0., 0., 0.,\n",
              "        0., 0., 0., 0., 0., 0., 0., 0., 0., 0., 0., 0., 0., 0., 0., 0., 0.,\n",
              "        0., 0., 0., 0., 0., 0., 0., 0., 0., 0., 0., 0., 0., 0., 0., 0., 0.,\n",
              "        0., 0., 0., 0., 0., 0., 0., 0., 0., 0., 0., 0., 0., 0., 0., 0., 0.,\n",
              "        0., 0., 0., 0., 0., 0., 0., 0., 0., 0., 0., 0., 0., 0., 0., 0., 0.,\n",
              "        0., 0., 0., 0., 0., 0., 0., 0., 0., 0., 0., 0., 0., 0., 0., 0., 0.,\n",
              "        0., 0., 0., 0., 0., 0., 0., 0., 0., 0., 0., 0., 0., 0., 0., 0., 0.,\n",
              "        0., 0., 0., 0., 0., 0., 0., 0., 0., 0., 0., 0., 0., 0., 0., 0., 0.,\n",
              "        0., 0., 0., 0., 0., 0., 0., 0., 0., 0., 0., 0., 0., 0., 0., 0., 0.,\n",
              "        0., 0., 0., 0., 0., 0., 0., 0., 0., 0., 0., 0., 0., 0., 0., 0., 0.,\n",
              "        0., 0., 0., 0., 0., 0., 0., 0., 0., 0., 0., 0., 0., 0., 0., 0., 0.,\n",
              "        0., 0., 0., 0., 0., 0., 0., 0., 0., 0., 0., 0., 0., 0., 0., 0., 0.,\n",
              "        0., 0., 0., 0., 0., 0., 0., 0., 0., 0., 0., 0., 0., 0., 0., 0., 0.,\n",
              "        0., 0., 0., 0., 0., 0., 0., 0., 0., 0., 0., 0., 0., 0., 0., 0., 0.,\n",
              "        0., 0., 0., 0., 0., 0., 0., 0., 0., 0., 0., 0., 0., 0., 0., 0., 0.,\n",
              "        0., 0., 0., 0., 0., 0., 0., 0., 0., 0., 0., 0., 0., 0., 0., 0., 0.,\n",
              "        0., 0., 0., 0., 0., 0., 0., 0., 0., 0., 0., 0., 0., 0., 0., 0., 0.,\n",
              "        0., 0., 0., 0., 0., 0., 0., 0., 0., 0., 0., 0., 0., 0., 0., 0., 0.,\n",
              "        0., 0., 0., 0., 0., 0., 0., 0., 0., 0., 0., 0., 0., 0., 0., 0., 0.,\n",
              "        0., 0., 0., 0., 0., 0., 0., 0., 0., 0., 0., 0., 0., 0., 0., 0., 0.,\n",
              "        0., 0., 0., 0., 0., 0., 0., 0., 0., 0., 0., 0., 0., 0., 0., 0., 0.,\n",
              "        0., 0., 0., 0., 0., 0., 0., 0., 0., 0., 0., 0., 0., 0., 0., 0., 0.,\n",
              "        0., 0., 0., 0., 0., 0., 0., 0., 0., 0., 0., 0., 0., 0., 0., 0., 0.,\n",
              "        0., 0., 0., 0., 0., 0., 0., 0., 0., 0., 0., 0., 0., 0., 0., 0., 0.,\n",
              "        0., 0., 0., 0., 0., 0., 0., 0., 0., 0., 0., 0., 0., 0., 0., 0., 0.,\n",
              "        0., 0., 0., 0., 0., 0., 0., 0., 0., 0., 0., 0., 0., 0., 0., 0., 0.,\n",
              "        0., 0., 0., 0., 0., 0., 0., 0., 0., 0., 0., 0., 0., 0., 0., 0., 0.,\n",
              "        0., 0.], dtype=float32)>,\n",
              " <tf.Variable 'encoder_layer_9/multi_head_attention_29/dense_161/kernel:0' shape=(512, 512) dtype=float32, numpy=\n",
              " array([[ 0.02006785,  0.05041633,  0.04828281, ..., -0.01207567,\n",
              "          0.00080308, -0.03108454],\n",
              "        [ 0.04201536, -0.04672484,  0.04881694, ...,  0.0647236 ,\n",
              "          0.03192983, -0.0703726 ],\n",
              "        [ 0.05704623,  0.02366289, -0.01298551, ...,  0.01748515,\n",
              "          0.01215941,  0.05914899],\n",
              "        ...,\n",
              "        [-0.06975941,  0.03810326, -0.05807751, ..., -0.03991141,\n",
              "         -0.07604643, -0.01091345],\n",
              "        [-0.04988339, -0.06884679,  0.02550062, ..., -0.05168732,\n",
              "         -0.02771929, -0.00521258],\n",
              "        [ 0.01194339, -0.00025807,  0.01305895, ..., -0.0381519 ,\n",
              "          0.0037898 , -0.00667792]], dtype=float32)>,\n",
              " <tf.Variable 'encoder_layer_9/multi_head_attention_29/dense_161/bias:0' shape=(512,) dtype=float32, numpy=\n",
              " array([0., 0., 0., 0., 0., 0., 0., 0., 0., 0., 0., 0., 0., 0., 0., 0., 0.,\n",
              "        0., 0., 0., 0., 0., 0., 0., 0., 0., 0., 0., 0., 0., 0., 0., 0., 0.,\n",
              "        0., 0., 0., 0., 0., 0., 0., 0., 0., 0., 0., 0., 0., 0., 0., 0., 0.,\n",
              "        0., 0., 0., 0., 0., 0., 0., 0., 0., 0., 0., 0., 0., 0., 0., 0., 0.,\n",
              "        0., 0., 0., 0., 0., 0., 0., 0., 0., 0., 0., 0., 0., 0., 0., 0., 0.,\n",
              "        0., 0., 0., 0., 0., 0., 0., 0., 0., 0., 0., 0., 0., 0., 0., 0., 0.,\n",
              "        0., 0., 0., 0., 0., 0., 0., 0., 0., 0., 0., 0., 0., 0., 0., 0., 0.,\n",
              "        0., 0., 0., 0., 0., 0., 0., 0., 0., 0., 0., 0., 0., 0., 0., 0., 0.,\n",
              "        0., 0., 0., 0., 0., 0., 0., 0., 0., 0., 0., 0., 0., 0., 0., 0., 0.,\n",
              "        0., 0., 0., 0., 0., 0., 0., 0., 0., 0., 0., 0., 0., 0., 0., 0., 0.,\n",
              "        0., 0., 0., 0., 0., 0., 0., 0., 0., 0., 0., 0., 0., 0., 0., 0., 0.,\n",
              "        0., 0., 0., 0., 0., 0., 0., 0., 0., 0., 0., 0., 0., 0., 0., 0., 0.,\n",
              "        0., 0., 0., 0., 0., 0., 0., 0., 0., 0., 0., 0., 0., 0., 0., 0., 0.,\n",
              "        0., 0., 0., 0., 0., 0., 0., 0., 0., 0., 0., 0., 0., 0., 0., 0., 0.,\n",
              "        0., 0., 0., 0., 0., 0., 0., 0., 0., 0., 0., 0., 0., 0., 0., 0., 0.,\n",
              "        0., 0., 0., 0., 0., 0., 0., 0., 0., 0., 0., 0., 0., 0., 0., 0., 0.,\n",
              "        0., 0., 0., 0., 0., 0., 0., 0., 0., 0., 0., 0., 0., 0., 0., 0., 0.,\n",
              "        0., 0., 0., 0., 0., 0., 0., 0., 0., 0., 0., 0., 0., 0., 0., 0., 0.,\n",
              "        0., 0., 0., 0., 0., 0., 0., 0., 0., 0., 0., 0., 0., 0., 0., 0., 0.,\n",
              "        0., 0., 0., 0., 0., 0., 0., 0., 0., 0., 0., 0., 0., 0., 0., 0., 0.,\n",
              "        0., 0., 0., 0., 0., 0., 0., 0., 0., 0., 0., 0., 0., 0., 0., 0., 0.,\n",
              "        0., 0., 0., 0., 0., 0., 0., 0., 0., 0., 0., 0., 0., 0., 0., 0., 0.,\n",
              "        0., 0., 0., 0., 0., 0., 0., 0., 0., 0., 0., 0., 0., 0., 0., 0., 0.,\n",
              "        0., 0., 0., 0., 0., 0., 0., 0., 0., 0., 0., 0., 0., 0., 0., 0., 0.,\n",
              "        0., 0., 0., 0., 0., 0., 0., 0., 0., 0., 0., 0., 0., 0., 0., 0., 0.,\n",
              "        0., 0., 0., 0., 0., 0., 0., 0., 0., 0., 0., 0., 0., 0., 0., 0., 0.,\n",
              "        0., 0., 0., 0., 0., 0., 0., 0., 0., 0., 0., 0., 0., 0., 0., 0., 0.,\n",
              "        0., 0., 0., 0., 0., 0., 0., 0., 0., 0., 0., 0., 0., 0., 0., 0., 0.,\n",
              "        0., 0., 0., 0., 0., 0., 0., 0., 0., 0., 0., 0., 0., 0., 0., 0., 0.,\n",
              "        0., 0., 0., 0., 0., 0., 0., 0., 0., 0., 0., 0., 0., 0., 0., 0., 0.,\n",
              "        0., 0.], dtype=float32)>,\n",
              " <tf.Variable 'dense_162/kernel:0' shape=(512, 2048) dtype=float32, numpy=\n",
              " array([[-0.01789801,  0.04340407, -0.0016043 , ..., -0.01067227,\n",
              "         -0.015831  ,  0.00766672],\n",
              "        [ 0.00014246, -0.04205634,  0.0405287 , ..., -0.02400882,\n",
              "          0.00556695, -0.04830577],\n",
              "        [ 0.04268505,  0.00999287, -0.02168976, ..., -0.03613469,\n",
              "          0.02336003, -0.02951704],\n",
              "        ...,\n",
              "        [-0.04651175,  0.01274027,  0.0357533 , ..., -0.03287341,\n",
              "         -0.04666309, -0.0203438 ],\n",
              "        [ 0.04451045, -0.01938249,  0.02511489, ...,  0.02132619,\n",
              "          0.01621532, -0.02305104],\n",
              "        [-0.00364764, -0.04774076, -0.02863106, ...,  0.03415134,\n",
              "         -0.00445813,  0.03637944]], dtype=float32)>,\n",
              " <tf.Variable 'dense_162/bias:0' shape=(2048,) dtype=float32, numpy=array([0., 0., 0., ..., 0., 0., 0.], dtype=float32)>,\n",
              " <tf.Variable 'dense_163/kernel:0' shape=(2048, 512) dtype=float32, numpy=\n",
              " array([[ 0.01824208, -0.01335493,  0.03415506, ...,  0.02513094,\n",
              "         -0.00888943,  0.02645457],\n",
              "        [ 0.02176755,  0.01461439,  0.01117377, ...,  0.00760575,\n",
              "         -0.01991234,  0.03400126],\n",
              "        [-0.03338877,  0.0313627 ,  0.03176575, ..., -0.01436858,\n",
              "          0.01150408, -0.01164312],\n",
              "        ...,\n",
              "        [-0.03137033,  0.01665088, -0.04689709, ..., -0.03730356,\n",
              "         -0.03100744,  0.03538155],\n",
              "        [ 0.0210885 ,  0.0318537 , -0.0269567 , ..., -0.02763181,\n",
              "          0.03848402,  0.00585161],\n",
              "        [-0.02156442, -0.03160896,  0.04646473, ...,  0.03667862,\n",
              "         -0.02916512,  0.00043957]], dtype=float32)>,\n",
              " <tf.Variable 'dense_163/bias:0' shape=(512,) dtype=float32, numpy=\n",
              " array([0., 0., 0., 0., 0., 0., 0., 0., 0., 0., 0., 0., 0., 0., 0., 0., 0.,\n",
              "        0., 0., 0., 0., 0., 0., 0., 0., 0., 0., 0., 0., 0., 0., 0., 0., 0.,\n",
              "        0., 0., 0., 0., 0., 0., 0., 0., 0., 0., 0., 0., 0., 0., 0., 0., 0.,\n",
              "        0., 0., 0., 0., 0., 0., 0., 0., 0., 0., 0., 0., 0., 0., 0., 0., 0.,\n",
              "        0., 0., 0., 0., 0., 0., 0., 0., 0., 0., 0., 0., 0., 0., 0., 0., 0.,\n",
              "        0., 0., 0., 0., 0., 0., 0., 0., 0., 0., 0., 0., 0., 0., 0., 0., 0.,\n",
              "        0., 0., 0., 0., 0., 0., 0., 0., 0., 0., 0., 0., 0., 0., 0., 0., 0.,\n",
              "        0., 0., 0., 0., 0., 0., 0., 0., 0., 0., 0., 0., 0., 0., 0., 0., 0.,\n",
              "        0., 0., 0., 0., 0., 0., 0., 0., 0., 0., 0., 0., 0., 0., 0., 0., 0.,\n",
              "        0., 0., 0., 0., 0., 0., 0., 0., 0., 0., 0., 0., 0., 0., 0., 0., 0.,\n",
              "        0., 0., 0., 0., 0., 0., 0., 0., 0., 0., 0., 0., 0., 0., 0., 0., 0.,\n",
              "        0., 0., 0., 0., 0., 0., 0., 0., 0., 0., 0., 0., 0., 0., 0., 0., 0.,\n",
              "        0., 0., 0., 0., 0., 0., 0., 0., 0., 0., 0., 0., 0., 0., 0., 0., 0.,\n",
              "        0., 0., 0., 0., 0., 0., 0., 0., 0., 0., 0., 0., 0., 0., 0., 0., 0.,\n",
              "        0., 0., 0., 0., 0., 0., 0., 0., 0., 0., 0., 0., 0., 0., 0., 0., 0.,\n",
              "        0., 0., 0., 0., 0., 0., 0., 0., 0., 0., 0., 0., 0., 0., 0., 0., 0.,\n",
              "        0., 0., 0., 0., 0., 0., 0., 0., 0., 0., 0., 0., 0., 0., 0., 0., 0.,\n",
              "        0., 0., 0., 0., 0., 0., 0., 0., 0., 0., 0., 0., 0., 0., 0., 0., 0.,\n",
              "        0., 0., 0., 0., 0., 0., 0., 0., 0., 0., 0., 0., 0., 0., 0., 0., 0.,\n",
              "        0., 0., 0., 0., 0., 0., 0., 0., 0., 0., 0., 0., 0., 0., 0., 0., 0.,\n",
              "        0., 0., 0., 0., 0., 0., 0., 0., 0., 0., 0., 0., 0., 0., 0., 0., 0.,\n",
              "        0., 0., 0., 0., 0., 0., 0., 0., 0., 0., 0., 0., 0., 0., 0., 0., 0.,\n",
              "        0., 0., 0., 0., 0., 0., 0., 0., 0., 0., 0., 0., 0., 0., 0., 0., 0.,\n",
              "        0., 0., 0., 0., 0., 0., 0., 0., 0., 0., 0., 0., 0., 0., 0., 0., 0.,\n",
              "        0., 0., 0., 0., 0., 0., 0., 0., 0., 0., 0., 0., 0., 0., 0., 0., 0.,\n",
              "        0., 0., 0., 0., 0., 0., 0., 0., 0., 0., 0., 0., 0., 0., 0., 0., 0.,\n",
              "        0., 0., 0., 0., 0., 0., 0., 0., 0., 0., 0., 0., 0., 0., 0., 0., 0.,\n",
              "        0., 0., 0., 0., 0., 0., 0., 0., 0., 0., 0., 0., 0., 0., 0., 0., 0.,\n",
              "        0., 0., 0., 0., 0., 0., 0., 0., 0., 0., 0., 0., 0., 0., 0., 0., 0.,\n",
              "        0., 0., 0., 0., 0., 0., 0., 0., 0., 0., 0., 0., 0., 0., 0., 0., 0.,\n",
              "        0., 0.], dtype=float32)>,\n",
              " <tf.Variable 'encoder_layer_9/layer_normalization_45/gamma:0' shape=(512,) dtype=float32, numpy=\n",
              " array([1., 1., 1., 1., 1., 1., 1., 1., 1., 1., 1., 1., 1., 1., 1., 1., 1.,\n",
              "        1., 1., 1., 1., 1., 1., 1., 1., 1., 1., 1., 1., 1., 1., 1., 1., 1.,\n",
              "        1., 1., 1., 1., 1., 1., 1., 1., 1., 1., 1., 1., 1., 1., 1., 1., 1.,\n",
              "        1., 1., 1., 1., 1., 1., 1., 1., 1., 1., 1., 1., 1., 1., 1., 1., 1.,\n",
              "        1., 1., 1., 1., 1., 1., 1., 1., 1., 1., 1., 1., 1., 1., 1., 1., 1.,\n",
              "        1., 1., 1., 1., 1., 1., 1., 1., 1., 1., 1., 1., 1., 1., 1., 1., 1.,\n",
              "        1., 1., 1., 1., 1., 1., 1., 1., 1., 1., 1., 1., 1., 1., 1., 1., 1.,\n",
              "        1., 1., 1., 1., 1., 1., 1., 1., 1., 1., 1., 1., 1., 1., 1., 1., 1.,\n",
              "        1., 1., 1., 1., 1., 1., 1., 1., 1., 1., 1., 1., 1., 1., 1., 1., 1.,\n",
              "        1., 1., 1., 1., 1., 1., 1., 1., 1., 1., 1., 1., 1., 1., 1., 1., 1.,\n",
              "        1., 1., 1., 1., 1., 1., 1., 1., 1., 1., 1., 1., 1., 1., 1., 1., 1.,\n",
              "        1., 1., 1., 1., 1., 1., 1., 1., 1., 1., 1., 1., 1., 1., 1., 1., 1.,\n",
              "        1., 1., 1., 1., 1., 1., 1., 1., 1., 1., 1., 1., 1., 1., 1., 1., 1.,\n",
              "        1., 1., 1., 1., 1., 1., 1., 1., 1., 1., 1., 1., 1., 1., 1., 1., 1.,\n",
              "        1., 1., 1., 1., 1., 1., 1., 1., 1., 1., 1., 1., 1., 1., 1., 1., 1.,\n",
              "        1., 1., 1., 1., 1., 1., 1., 1., 1., 1., 1., 1., 1., 1., 1., 1., 1.,\n",
              "        1., 1., 1., 1., 1., 1., 1., 1., 1., 1., 1., 1., 1., 1., 1., 1., 1.,\n",
              "        1., 1., 1., 1., 1., 1., 1., 1., 1., 1., 1., 1., 1., 1., 1., 1., 1.,\n",
              "        1., 1., 1., 1., 1., 1., 1., 1., 1., 1., 1., 1., 1., 1., 1., 1., 1.,\n",
              "        1., 1., 1., 1., 1., 1., 1., 1., 1., 1., 1., 1., 1., 1., 1., 1., 1.,\n",
              "        1., 1., 1., 1., 1., 1., 1., 1., 1., 1., 1., 1., 1., 1., 1., 1., 1.,\n",
              "        1., 1., 1., 1., 1., 1., 1., 1., 1., 1., 1., 1., 1., 1., 1., 1., 1.,\n",
              "        1., 1., 1., 1., 1., 1., 1., 1., 1., 1., 1., 1., 1., 1., 1., 1., 1.,\n",
              "        1., 1., 1., 1., 1., 1., 1., 1., 1., 1., 1., 1., 1., 1., 1., 1., 1.,\n",
              "        1., 1., 1., 1., 1., 1., 1., 1., 1., 1., 1., 1., 1., 1., 1., 1., 1.,\n",
              "        1., 1., 1., 1., 1., 1., 1., 1., 1., 1., 1., 1., 1., 1., 1., 1., 1.,\n",
              "        1., 1., 1., 1., 1., 1., 1., 1., 1., 1., 1., 1., 1., 1., 1., 1., 1.,\n",
              "        1., 1., 1., 1., 1., 1., 1., 1., 1., 1., 1., 1., 1., 1., 1., 1., 1.,\n",
              "        1., 1., 1., 1., 1., 1., 1., 1., 1., 1., 1., 1., 1., 1., 1., 1., 1.,\n",
              "        1., 1., 1., 1., 1., 1., 1., 1., 1., 1., 1., 1., 1., 1., 1., 1., 1.,\n",
              "        1., 1.], dtype=float32)>,\n",
              " <tf.Variable 'encoder_layer_9/layer_normalization_45/beta:0' shape=(512,) dtype=float32, numpy=\n",
              " array([0., 0., 0., 0., 0., 0., 0., 0., 0., 0., 0., 0., 0., 0., 0., 0., 0.,\n",
              "        0., 0., 0., 0., 0., 0., 0., 0., 0., 0., 0., 0., 0., 0., 0., 0., 0.,\n",
              "        0., 0., 0., 0., 0., 0., 0., 0., 0., 0., 0., 0., 0., 0., 0., 0., 0.,\n",
              "        0., 0., 0., 0., 0., 0., 0., 0., 0., 0., 0., 0., 0., 0., 0., 0., 0.,\n",
              "        0., 0., 0., 0., 0., 0., 0., 0., 0., 0., 0., 0., 0., 0., 0., 0., 0.,\n",
              "        0., 0., 0., 0., 0., 0., 0., 0., 0., 0., 0., 0., 0., 0., 0., 0., 0.,\n",
              "        0., 0., 0., 0., 0., 0., 0., 0., 0., 0., 0., 0., 0., 0., 0., 0., 0.,\n",
              "        0., 0., 0., 0., 0., 0., 0., 0., 0., 0., 0., 0., 0., 0., 0., 0., 0.,\n",
              "        0., 0., 0., 0., 0., 0., 0., 0., 0., 0., 0., 0., 0., 0., 0., 0., 0.,\n",
              "        0., 0., 0., 0., 0., 0., 0., 0., 0., 0., 0., 0., 0., 0., 0., 0., 0.,\n",
              "        0., 0., 0., 0., 0., 0., 0., 0., 0., 0., 0., 0., 0., 0., 0., 0., 0.,\n",
              "        0., 0., 0., 0., 0., 0., 0., 0., 0., 0., 0., 0., 0., 0., 0., 0., 0.,\n",
              "        0., 0., 0., 0., 0., 0., 0., 0., 0., 0., 0., 0., 0., 0., 0., 0., 0.,\n",
              "        0., 0., 0., 0., 0., 0., 0., 0., 0., 0., 0., 0., 0., 0., 0., 0., 0.,\n",
              "        0., 0., 0., 0., 0., 0., 0., 0., 0., 0., 0., 0., 0., 0., 0., 0., 0.,\n",
              "        0., 0., 0., 0., 0., 0., 0., 0., 0., 0., 0., 0., 0., 0., 0., 0., 0.,\n",
              "        0., 0., 0., 0., 0., 0., 0., 0., 0., 0., 0., 0., 0., 0., 0., 0., 0.,\n",
              "        0., 0., 0., 0., 0., 0., 0., 0., 0., 0., 0., 0., 0., 0., 0., 0., 0.,\n",
              "        0., 0., 0., 0., 0., 0., 0., 0., 0., 0., 0., 0., 0., 0., 0., 0., 0.,\n",
              "        0., 0., 0., 0., 0., 0., 0., 0., 0., 0., 0., 0., 0., 0., 0., 0., 0.,\n",
              "        0., 0., 0., 0., 0., 0., 0., 0., 0., 0., 0., 0., 0., 0., 0., 0., 0.,\n",
              "        0., 0., 0., 0., 0., 0., 0., 0., 0., 0., 0., 0., 0., 0., 0., 0., 0.,\n",
              "        0., 0., 0., 0., 0., 0., 0., 0., 0., 0., 0., 0., 0., 0., 0., 0., 0.,\n",
              "        0., 0., 0., 0., 0., 0., 0., 0., 0., 0., 0., 0., 0., 0., 0., 0., 0.,\n",
              "        0., 0., 0., 0., 0., 0., 0., 0., 0., 0., 0., 0., 0., 0., 0., 0., 0.,\n",
              "        0., 0., 0., 0., 0., 0., 0., 0., 0., 0., 0., 0., 0., 0., 0., 0., 0.,\n",
              "        0., 0., 0., 0., 0., 0., 0., 0., 0., 0., 0., 0., 0., 0., 0., 0., 0.,\n",
              "        0., 0., 0., 0., 0., 0., 0., 0., 0., 0., 0., 0., 0., 0., 0., 0., 0.,\n",
              "        0., 0., 0., 0., 0., 0., 0., 0., 0., 0., 0., 0., 0., 0., 0., 0., 0.,\n",
              "        0., 0., 0., 0., 0., 0., 0., 0., 0., 0., 0., 0., 0., 0., 0., 0., 0.,\n",
              "        0., 0.], dtype=float32)>,\n",
              " <tf.Variable 'encoder_layer_9/layer_normalization_46/gamma:0' shape=(512,) dtype=float32, numpy=\n",
              " array([1., 1., 1., 1., 1., 1., 1., 1., 1., 1., 1., 1., 1., 1., 1., 1., 1.,\n",
              "        1., 1., 1., 1., 1., 1., 1., 1., 1., 1., 1., 1., 1., 1., 1., 1., 1.,\n",
              "        1., 1., 1., 1., 1., 1., 1., 1., 1., 1., 1., 1., 1., 1., 1., 1., 1.,\n",
              "        1., 1., 1., 1., 1., 1., 1., 1., 1., 1., 1., 1., 1., 1., 1., 1., 1.,\n",
              "        1., 1., 1., 1., 1., 1., 1., 1., 1., 1., 1., 1., 1., 1., 1., 1., 1.,\n",
              "        1., 1., 1., 1., 1., 1., 1., 1., 1., 1., 1., 1., 1., 1., 1., 1., 1.,\n",
              "        1., 1., 1., 1., 1., 1., 1., 1., 1., 1., 1., 1., 1., 1., 1., 1., 1.,\n",
              "        1., 1., 1., 1., 1., 1., 1., 1., 1., 1., 1., 1., 1., 1., 1., 1., 1.,\n",
              "        1., 1., 1., 1., 1., 1., 1., 1., 1., 1., 1., 1., 1., 1., 1., 1., 1.,\n",
              "        1., 1., 1., 1., 1., 1., 1., 1., 1., 1., 1., 1., 1., 1., 1., 1., 1.,\n",
              "        1., 1., 1., 1., 1., 1., 1., 1., 1., 1., 1., 1., 1., 1., 1., 1., 1.,\n",
              "        1., 1., 1., 1., 1., 1., 1., 1., 1., 1., 1., 1., 1., 1., 1., 1., 1.,\n",
              "        1., 1., 1., 1., 1., 1., 1., 1., 1., 1., 1., 1., 1., 1., 1., 1., 1.,\n",
              "        1., 1., 1., 1., 1., 1., 1., 1., 1., 1., 1., 1., 1., 1., 1., 1., 1.,\n",
              "        1., 1., 1., 1., 1., 1., 1., 1., 1., 1., 1., 1., 1., 1., 1., 1., 1.,\n",
              "        1., 1., 1., 1., 1., 1., 1., 1., 1., 1., 1., 1., 1., 1., 1., 1., 1.,\n",
              "        1., 1., 1., 1., 1., 1., 1., 1., 1., 1., 1., 1., 1., 1., 1., 1., 1.,\n",
              "        1., 1., 1., 1., 1., 1., 1., 1., 1., 1., 1., 1., 1., 1., 1., 1., 1.,\n",
              "        1., 1., 1., 1., 1., 1., 1., 1., 1., 1., 1., 1., 1., 1., 1., 1., 1.,\n",
              "        1., 1., 1., 1., 1., 1., 1., 1., 1., 1., 1., 1., 1., 1., 1., 1., 1.,\n",
              "        1., 1., 1., 1., 1., 1., 1., 1., 1., 1., 1., 1., 1., 1., 1., 1., 1.,\n",
              "        1., 1., 1., 1., 1., 1., 1., 1., 1., 1., 1., 1., 1., 1., 1., 1., 1.,\n",
              "        1., 1., 1., 1., 1., 1., 1., 1., 1., 1., 1., 1., 1., 1., 1., 1., 1.,\n",
              "        1., 1., 1., 1., 1., 1., 1., 1., 1., 1., 1., 1., 1., 1., 1., 1., 1.,\n",
              "        1., 1., 1., 1., 1., 1., 1., 1., 1., 1., 1., 1., 1., 1., 1., 1., 1.,\n",
              "        1., 1., 1., 1., 1., 1., 1., 1., 1., 1., 1., 1., 1., 1., 1., 1., 1.,\n",
              "        1., 1., 1., 1., 1., 1., 1., 1., 1., 1., 1., 1., 1., 1., 1., 1., 1.,\n",
              "        1., 1., 1., 1., 1., 1., 1., 1., 1., 1., 1., 1., 1., 1., 1., 1., 1.,\n",
              "        1., 1., 1., 1., 1., 1., 1., 1., 1., 1., 1., 1., 1., 1., 1., 1., 1.,\n",
              "        1., 1., 1., 1., 1., 1., 1., 1., 1., 1., 1., 1., 1., 1., 1., 1., 1.,\n",
              "        1., 1.], dtype=float32)>,\n",
              " <tf.Variable 'encoder_layer_9/layer_normalization_46/beta:0' shape=(512,) dtype=float32, numpy=\n",
              " array([0., 0., 0., 0., 0., 0., 0., 0., 0., 0., 0., 0., 0., 0., 0., 0., 0.,\n",
              "        0., 0., 0., 0., 0., 0., 0., 0., 0., 0., 0., 0., 0., 0., 0., 0., 0.,\n",
              "        0., 0., 0., 0., 0., 0., 0., 0., 0., 0., 0., 0., 0., 0., 0., 0., 0.,\n",
              "        0., 0., 0., 0., 0., 0., 0., 0., 0., 0., 0., 0., 0., 0., 0., 0., 0.,\n",
              "        0., 0., 0., 0., 0., 0., 0., 0., 0., 0., 0., 0., 0., 0., 0., 0., 0.,\n",
              "        0., 0., 0., 0., 0., 0., 0., 0., 0., 0., 0., 0., 0., 0., 0., 0., 0.,\n",
              "        0., 0., 0., 0., 0., 0., 0., 0., 0., 0., 0., 0., 0., 0., 0., 0., 0.,\n",
              "        0., 0., 0., 0., 0., 0., 0., 0., 0., 0., 0., 0., 0., 0., 0., 0., 0.,\n",
              "        0., 0., 0., 0., 0., 0., 0., 0., 0., 0., 0., 0., 0., 0., 0., 0., 0.,\n",
              "        0., 0., 0., 0., 0., 0., 0., 0., 0., 0., 0., 0., 0., 0., 0., 0., 0.,\n",
              "        0., 0., 0., 0., 0., 0., 0., 0., 0., 0., 0., 0., 0., 0., 0., 0., 0.,\n",
              "        0., 0., 0., 0., 0., 0., 0., 0., 0., 0., 0., 0., 0., 0., 0., 0., 0.,\n",
              "        0., 0., 0., 0., 0., 0., 0., 0., 0., 0., 0., 0., 0., 0., 0., 0., 0.,\n",
              "        0., 0., 0., 0., 0., 0., 0., 0., 0., 0., 0., 0., 0., 0., 0., 0., 0.,\n",
              "        0., 0., 0., 0., 0., 0., 0., 0., 0., 0., 0., 0., 0., 0., 0., 0., 0.,\n",
              "        0., 0., 0., 0., 0., 0., 0., 0., 0., 0., 0., 0., 0., 0., 0., 0., 0.,\n",
              "        0., 0., 0., 0., 0., 0., 0., 0., 0., 0., 0., 0., 0., 0., 0., 0., 0.,\n",
              "        0., 0., 0., 0., 0., 0., 0., 0., 0., 0., 0., 0., 0., 0., 0., 0., 0.,\n",
              "        0., 0., 0., 0., 0., 0., 0., 0., 0., 0., 0., 0., 0., 0., 0., 0., 0.,\n",
              "        0., 0., 0., 0., 0., 0., 0., 0., 0., 0., 0., 0., 0., 0., 0., 0., 0.,\n",
              "        0., 0., 0., 0., 0., 0., 0., 0., 0., 0., 0., 0., 0., 0., 0., 0., 0.,\n",
              "        0., 0., 0., 0., 0., 0., 0., 0., 0., 0., 0., 0., 0., 0., 0., 0., 0.,\n",
              "        0., 0., 0., 0., 0., 0., 0., 0., 0., 0., 0., 0., 0., 0., 0., 0., 0.,\n",
              "        0., 0., 0., 0., 0., 0., 0., 0., 0., 0., 0., 0., 0., 0., 0., 0., 0.,\n",
              "        0., 0., 0., 0., 0., 0., 0., 0., 0., 0., 0., 0., 0., 0., 0., 0., 0.,\n",
              "        0., 0., 0., 0., 0., 0., 0., 0., 0., 0., 0., 0., 0., 0., 0., 0., 0.,\n",
              "        0., 0., 0., 0., 0., 0., 0., 0., 0., 0., 0., 0., 0., 0., 0., 0., 0.,\n",
              "        0., 0., 0., 0., 0., 0., 0., 0., 0., 0., 0., 0., 0., 0., 0., 0., 0.,\n",
              "        0., 0., 0., 0., 0., 0., 0., 0., 0., 0., 0., 0., 0., 0., 0., 0., 0.,\n",
              "        0., 0., 0., 0., 0., 0., 0., 0., 0., 0., 0., 0., 0., 0., 0., 0., 0.,\n",
              "        0., 0.], dtype=float32)>]"
            ]
          },
          "metadata": {},
          "execution_count": 75
        }
      ],
      "source": [
        "sample_encoder_layer.trainable_variables"
      ]
    },
    {
      "cell_type": "markdown",
      "metadata": {
        "id": "H4QzS1PvfvUO"
      },
      "source": [
        "# 4.3 DecoderLayer"
      ]
    },
    {
      "cell_type": "code",
      "execution_count": 76,
      "metadata": {
        "id": "0guiZm2EfvUO",
        "colab": {
          "base_uri": "https://localhost:8080/"
        },
        "outputId": "1db38a32-237c-48f8-dd87-e0a8067a17e2"
      },
      "outputs": [
        {
          "output_type": "stream",
          "name": "stdout",
          "text": [
            "(64, 60, 512)\n",
            "(64, 8, 60, 60)\n",
            "(64, 8, 60, 40)\n"
          ]
        }
      ],
      "source": [
        "class DecoderLayer(keras.layers.Layer):\n",
        "    \"\"\"\n",
        "    x -> self attention -> add & normalize & dropout -> out1\n",
        "    out1 , encoding_outputs -> attention -> add & normalize & dropout -> out2\n",
        "    out2 -> ffn -> add & normalize & dropout -> out3\n",
        "    \"\"\"\n",
        "    def __init__(self, d_model, num_heads, dff, rate = 0.1):\n",
        "        super(DecoderLayer, self).__init__()\n",
        "        \n",
        "        self.mha1 = MultiHeadAttention(d_model, num_heads)\n",
        "        self.mha2 = MultiHeadAttention(d_model, num_heads)\n",
        "        \n",
        "        self.ffn = feed_forward_network(d_model, dff)\n",
        "        # 因为有两个attention，还有一个feed_forward_network，所以有3个\n",
        "        # LayerNormalization和3个dropout\n",
        "        self.layer_norm1 = keras.layers.LayerNormalization(\n",
        "            epsilon = 1e-6)\n",
        "        self.layer_norm2 = keras.layers.LayerNormalization(\n",
        "            epsilon = 1e-6)\n",
        "        self.layer_norm3 = keras.layers.LayerNormalization(\n",
        "            epsilon = 1e-6)\n",
        "        \n",
        "        self.dropout1 = keras.layers.Dropout(rate)\n",
        "        self.dropout2 = keras.layers.Dropout(rate)\n",
        "        self.dropout3 = keras.layers.Dropout(rate)\n",
        "    \n",
        "    \n",
        "    def call(self, x, encoding_outputs, training,\n",
        "             decoder_mask, encoder_decoder_padding_mask):\n",
        "        # decoder_mask: 由look_ahead_mask和decoder_padding_mask合并而来\n",
        "        \n",
        "        # x.shape: (batch_size, target_seq_len, d_model)\n",
        "        # encoding_outputs.shape: (batch_size, input_seq_len, d_model)\n",
        "        \n",
        "        # 按照上面类的注释的步骤依次来编写call实现\n",
        "        # attn1, out1.shape : (batch_size, target_seq_len, d_model)\n",
        "        attn1, attn_weights1 = self.mha1(x, x, x, decoder_mask)\n",
        "        attn1 = self.dropout1(attn1, training = training)\n",
        "        out1 = self.layer_norm1(attn1 + x)\n",
        "        \n",
        "        # attn2, out2.shape : (batch_size, target_seq_len, d_model)\n",
        "        attn2, attn_weights2 = self.mha2(\n",
        "            out1, encoding_outputs, encoding_outputs,\n",
        "            encoder_decoder_padding_mask)\n",
        "        attn2 = self.dropout2(attn2, training = training)\n",
        "        out2 = self.layer_norm2(attn2 + out1)\n",
        "        \n",
        "        # ffn_output, out3.shape: (batch_size, target_seq_len, d_model)\n",
        "        ffn_output = self.ffn(out2)\n",
        "        ffn_output = self.dropout3(ffn_output, training=training)\n",
        "        out3 = self.layer_norm3(ffn_output + out2)\n",
        "        \n",
        "        return out3, attn_weights1, attn_weights2\n",
        "\n",
        "# 测试\n",
        "sample_decoder_layer = DecoderLayer(512, 8, 2048)\n",
        "sample_decoder_input = tf.random.uniform((64, 60, 512))\n",
        "sample_decoder_output, sample_decoder_attn_weights1, sample_decoder_attn_weights2 = sample_decoder_layer(\n",
        "    sample_decoder_input, sample_output, False, None, None)\n",
        "\n",
        "print(sample_decoder_output.shape)\n",
        "print(sample_decoder_attn_weights1.shape)  # 最后一维60是和x的维度一致的\n",
        "print(sample_decoder_attn_weights2.shape)  # 最后一维60是和x的维度相关的\n",
        "        "
      ]
    },
    {
      "cell_type": "markdown",
      "metadata": {
        "id": "nVAgiPkSfvUP"
      },
      "source": [
        "# 4.4 EncoderModel"
      ]
    },
    {
      "cell_type": "code",
      "execution_count": 77,
      "metadata": {
        "id": "w2QvNqR7fvUP",
        "colab": {
          "base_uri": "https://localhost:8080/"
        },
        "outputId": "0cc6625e-9b1a-4670-cb23-46b67f8a581c"
      },
      "outputs": [
        {
          "output_type": "stream",
          "name": "stdout",
          "text": [
            "angle_rads.shape:(40, 512)\n",
            "(40, 256)\n",
            "(40, 256)\n",
            "(64, 37, 512)\n"
          ]
        }
      ],
      "source": [
        "# EncoderLayer堆叠->EncoderModel\n",
        "class EncoderModel(keras.layers.Layer):\n",
        "    def __init__(self, num_layers, input_vocab_size, max_length,\n",
        "                 d_model, num_heads, dff, rate=0.1):\n",
        "        super(EncoderModel, self).__init__()\n",
        "        self.d_model = d_model\n",
        "        # 这是layers数目\n",
        "        self.num_layers = num_layers\n",
        "        self.max_length = max_length\n",
        "        \n",
        "        # 构建embedding层\n",
        "        self.embedding = keras.layers.Embedding(input_vocab_size,\n",
        "                                                self.d_model)\n",
        "        # position_embedding.shape: (1, max_length, d_model)\n",
        "        self.position_embedding = get_position_embedding(max_length,\n",
        "                                                         self.d_model)\n",
        "        \n",
        "        self.dropout = keras.layers.Dropout(rate)\n",
        "        self.encoder_layers = [\n",
        "            EncoderLayer(d_model, num_heads, dff, rate)\n",
        "            for _ in range(self.num_layers)]\n",
        "        \n",
        "    \n",
        "    def call(self, x, training, encoder_padding_mask):\n",
        "        # x.shape: (batch_size, input_seq_len)\n",
        "        input_seq_len = tf.shape(x)[1]  # 拿到输入的长度是40\n",
        "        tf.debugging.assert_less_equal(\n",
        "            input_seq_len, self.max_length,\n",
        "            \"input_seq_len should be less or equal to self.max_length\")\n",
        "        \n",
        "        # x.shape: (batch_size, input_seq_len, d_model)\n",
        "        x = self.embedding(x)\n",
        "        # x做缩放，是值在0到d_model之间\n",
        "        x *= tf.math.sqrt(tf.cast(self.d_model, tf.float32))\n",
        "        # 因为x长度比position_embedding可能要小，因此embedding切片后和x相加\n",
        "        x += self.position_embedding[:, :input_seq_len, :]\n",
        "        \n",
        "        x = self.dropout(x, training = training)\n",
        "        \n",
        "        # 得到的x不断作为下一层的输入\n",
        "        for i in range(self.num_layers):\n",
        "            x = self.encoder_layers[i](x, training,\n",
        "                                       encoder_padding_mask)\n",
        "        # x最终shape如下\n",
        "        # x.shape: (batch_size, input_seq_len, d_model)\n",
        "        return x\n",
        "\n",
        "# 测试\n",
        "sample_encoder_model = EncoderModel(2, 8500, max_length,\n",
        "                                    512, 8, 2048)\n",
        "sample_encoder_model_input = tf.random.uniform((64, 37))\n",
        "sample_encoder_model_output = sample_encoder_model(\n",
        "    sample_encoder_model_input, False, encoder_padding_mask = None)\n",
        "print(sample_encoder_model_output.shape)"
      ]
    },
    {
      "cell_type": "markdown",
      "metadata": {
        "id": "0GR_ajycfvUP"
      },
      "source": [
        "# 4.5 DecoderModel"
      ]
    },
    {
      "cell_type": "code",
      "execution_count": 78,
      "metadata": {
        "scrolled": true,
        "id": "oCrzoi5lfvUP",
        "colab": {
          "base_uri": "https://localhost:8080/"
        },
        "outputId": "85d0dc24-ad3d-48ce-d1bc-801547b8ad0a"
      },
      "outputs": [
        {
          "output_type": "stream",
          "name": "stdout",
          "text": [
            "angle_rads.shape:(40, 512)\n",
            "(40, 256)\n",
            "(40, 256)\n",
            "(64, 35, 512)\n",
            "(64, 8, 35, 35)\n",
            "(64, 8, 35, 37)\n",
            "(64, 8, 35, 35)\n",
            "(64, 8, 35, 37)\n"
          ]
        }
      ],
      "source": [
        "# 和EncoderModel类似\n",
        "class DecoderModel(keras.layers.Layer):\n",
        "    def __init__(self, num_layers, target_vocab_size, max_length,\n",
        "                 d_model, num_heads, dff, rate=0.1):\n",
        "        super(DecoderModel, self).__init__()\n",
        "        self.num_layers = num_layers  # decoderlayer的数量\n",
        "        self.max_length = max_length\n",
        "        self.d_model = d_model\n",
        "        \n",
        "        self.embedding = keras.layers.Embedding(target_vocab_size,\n",
        "                                                d_model)\n",
        "        self.position_embedding = get_position_embedding(max_length,\n",
        "                                                         d_model)\n",
        "        \n",
        "        self.dropout = keras.layers.Dropout(rate)\n",
        "        self.decoder_layers = [\n",
        "            DecoderLayer(d_model, num_heads, dff, rate)\n",
        "            for _ in range(self.num_layers)]\n",
        "        \n",
        "    \n",
        "    def call(self, x, encoding_outputs, training,\n",
        "             decoder_mask, encoder_decoder_padding_mask):\n",
        "        # x.shape: (batch_size, output_seq_len)\n",
        "        output_seq_len = tf.shape(x)[1]\n",
        "        tf.debugging.assert_less_equal(\n",
        "            output_seq_len, self.max_length,\n",
        "            \"output_seq_len should be less or equal to self.max_length\")\n",
        "        \n",
        "        # attention_weights都是由decoder layer返回，把它保存下来\n",
        "        attention_weights = {}\n",
        "        \n",
        "        # x.shape: (batch_size, output_seq_len, d_model)\n",
        "        x = self.embedding(x)\n",
        "        x *= tf.math.sqrt(tf.cast(self.d_model, tf.float32))  # 做缩放\n",
        "        x += self.position_embedding[:, :output_seq_len, :]\n",
        "        \n",
        "        x = self.dropout(x, training = training)\n",
        "        \n",
        "        for i in range(self.num_layers):\n",
        "            # attn1, attn2分别是两个attention\n",
        "            x, attn1, attn2 = self.decoder_layers[i](\n",
        "                x, encoding_outputs, training,\n",
        "                decoder_mask, encoder_decoder_padding_mask)\n",
        "            attention_weights[\n",
        "                'decoder_layer{}_att1'.format(i+1)] = attn1\n",
        "            attention_weights[\n",
        "                'decoder_layer{}_att2'.format(i+1)] = attn2\n",
        "        # x.shape: (batch_size, output_seq_len, d_model)\n",
        "        return x, attention_weights\n",
        "\n",
        "sample_decoder_model = DecoderModel(2, 8000, max_length,\n",
        "                                    512, 8, 2048)\n",
        "# 测试\n",
        "sample_decoder_model_input = tf.random.uniform((64, 35))\n",
        "sample_decoder_model_output, sample_decoder_model_att \\\n",
        "= sample_decoder_model(\n",
        "    sample_decoder_model_input,\n",
        "    sample_encoder_model_output,  # 这里是encoder的output\n",
        "    training = False, decoder_mask = None,\n",
        "    encoder_decoder_padding_mask = None)\n",
        "\n",
        "print(sample_decoder_model_output.shape)\n",
        "for key in sample_decoder_model_att:\n",
        "    print(sample_decoder_model_att[key].shape)"
      ]
    },
    {
      "cell_type": "markdown",
      "metadata": {
        "id": "hcFfOfyTfvUQ"
      },
      "source": [
        "# 4.6 Transformer"
      ]
    },
    {
      "cell_type": "code",
      "execution_count": 79,
      "metadata": {
        "id": "pK6O1dpXfvUQ",
        "colab": {
          "base_uri": "https://localhost:8080/"
        },
        "outputId": "3e026e71-78ba-43f8-9957-27c1e9cff870"
      },
      "outputs": [
        {
          "output_type": "stream",
          "name": "stdout",
          "text": [
            "angle_rads.shape:(40, 512)\n",
            "(40, 256)\n",
            "(40, 256)\n",
            "angle_rads.shape:(40, 512)\n",
            "(40, 256)\n",
            "(40, 256)\n",
            "(64, 31, 8000)\n",
            "--------------------------------------------------\n",
            "decoder_layer1_att1 (64, 8, 31, 31)\n",
            "decoder_layer1_att2 (64, 8, 31, 26)\n",
            "decoder_layer2_att1 (64, 8, 31, 31)\n",
            "decoder_layer2_att2 (64, 8, 31, 26)\n"
          ]
        }
      ],
      "source": [
        "# 以上均为这一步APIs的实现\n",
        "class Transformer(keras.Model):\n",
        "    def __init__(self, num_layers, input_vocab_size, target_vocab_size,\n",
        "                 max_length, d_model, num_heads, dff, rate=0.1):\n",
        "        super(Transformer, self).__init__()\n",
        "        \n",
        "        self.encoder_model = EncoderModel(\n",
        "            num_layers, input_vocab_size, max_length,\n",
        "            d_model, num_heads, dff, rate)\n",
        "        \n",
        "        self.decoder_model = DecoderModel(\n",
        "            num_layers, target_vocab_size, max_length,\n",
        "            d_model, num_heads, dff, rate)\n",
        "        \n",
        "        self.final_layer = keras.layers.Dense(target_vocab_size)\n",
        "    \n",
        "    def call(self, inp, tar, training, encoder_padding_mask,\n",
        "             decoder_mask, encoder_decoder_padding_mask):\n",
        "        # encoding_outputs.shape: (batch_size, input_seq_len, d_model)\n",
        "        encoding_outputs = self.encoder_model(\n",
        "            inp, training, encoder_padding_mask)\n",
        "        \n",
        "        # decoding_outputs.shape: (batch_size, output_seq_len, d_model)\n",
        "        decoding_outputs, attention_weights = self.decoder_model(\n",
        "            tar, encoding_outputs, training,\n",
        "            decoder_mask, encoder_decoder_padding_mask)\n",
        "        \n",
        "        # predictions.shape: (batch_size, output_seq_len, target_vocab_size)\n",
        "        predictions = self.final_layer(decoding_outputs)\n",
        "        \n",
        "        return predictions, attention_weights\n",
        "\n",
        "# 测试\n",
        "sample_transformer = Transformer(2, 8500, 8000, max_length,\n",
        "                                 512, 8, 2048, rate = 0.1)\n",
        "temp_input = tf.random.uniform((64, 26))\n",
        "temp_target = tf.random.uniform((64, 31))\n",
        "\n",
        "# 得到输出\n",
        "predictions, attention_weights = sample_transformer(\n",
        "    temp_input, temp_target, training = False,\n",
        "    encoder_padding_mask = None,\n",
        "    decoder_mask = None,\n",
        "    encoder_decoder_padding_mask = None)\n",
        "# 输出shape\n",
        "print(predictions.shape)\n",
        "print('-'*50)\n",
        "# attention_weights的shape打印\n",
        "for key in attention_weights:\n",
        "    print(key, attention_weights[key].shape)\n",
        "        "
      ]
    },
    {
      "cell_type": "code",
      "execution_count": 80,
      "metadata": {
        "id": "3PflPksOfvUQ"
      },
      "outputs": [],
      "source": [
        "# 1. initializes model.\n",
        "# 2. define loss, optimizer, learning_rate schedule\n",
        "# 3. train_step\n",
        "# 4. train process"
      ]
    },
    {
      "cell_type": "code",
      "execution_count": 81,
      "metadata": {
        "id": "WZLFeWDwfvUQ",
        "colab": {
          "base_uri": "https://localhost:8080/"
        },
        "outputId": "1ea1b833-c0ec-4698-d7b1-12930827e492"
      },
      "outputs": [
        {
          "output_type": "stream",
          "name": "stdout",
          "text": [
            "angle_rads.shape:(40, 128)\n",
            "(40, 64)\n",
            "(40, 64)\n",
            "angle_rads.shape:(40, 128)\n",
            "(40, 64)\n",
            "(40, 64)\n"
          ]
        }
      ],
      "source": [
        "num_layers = 4\n",
        "d_model = 128\n",
        "dff = 512\n",
        "num_heads = 8\n",
        "# 加2是因为最后两个位置是start和end\n",
        "input_vocab_size = pt_tokenizer.vocab_size + 2\n",
        "target_vocab_size = en_tokenizer.vocab_size + 2\n",
        "\n",
        "dropout_rate = 0.1\n",
        "\n",
        "transformer = Transformer(num_layers,\n",
        "                          input_vocab_size,\n",
        "                          target_vocab_size,\n",
        "                          max_length,\n",
        "                          d_model, num_heads, dff, dropout_rate)"
      ]
    },
    {
      "cell_type": "markdown",
      "metadata": {
        "id": "sl5FAaPPfvUQ"
      },
      "source": [
        "# 5 optimizer & loss"
      ]
    },
    {
      "cell_type": "code",
      "execution_count": 82,
      "metadata": {
        "id": "HHOnQU6DfvUQ"
      },
      "outputs": [],
      "source": [
        "# 学习率变化，是先增后减，因为前期可以快点，后期模型比较好，就要放慢\n",
        "# lrate = (d_model ** -0.5) * min(step_num ** (-0.5), step_num * warm_up_steps **(-1.5))\n",
        "# 自定义的学习率调整设计实现\n",
        "# 公式参考链接：https://tensorflow.google.cn/tutorials/text/transformer\n",
        "class CustomizedSchedule(\n",
        "    keras.optimizers.schedules.LearningRateSchedule):\n",
        "    def __init__(self, d_model, warmup_steps = 4000):\n",
        "        super(CustomizedSchedule, self).__init__()\n",
        "        \n",
        "        self.d_model = tf.cast(d_model, tf.float32)\n",
        "        self.warmup_steps = warmup_steps\n",
        "    \n",
        "    def __call__(self, step):\n",
        "        arg1 = tf.math.rsqrt(step)\n",
        "        arg2 = step * (self.warmup_steps ** (-1.5))\n",
        "        \n",
        "        arg3 = tf.math.rsqrt(self.d_model)\n",
        "        \n",
        "        return arg3 * tf.math.minimum(arg1, arg2)\n",
        "    \n",
        "learning_rate = CustomizedSchedule(d_model)\n",
        "optimizer = keras.optimizers.Adam(learning_rate,\n",
        "                                  beta_1 = 0.9,\n",
        "                                  beta_2 = 0.98,\n",
        "                                  epsilon = 1e-9)"
      ]
    },
    {
      "cell_type": "code",
      "execution_count": 83,
      "metadata": {
        "id": "9aAlWqEufvUR",
        "colab": {
          "base_uri": "https://localhost:8080/",
          "height": 0
        },
        "outputId": "f1cf9e1e-7f2a-46a1-9b0e-3ed321d9bc2b"
      },
      "outputs": [
        {
          "output_type": "execute_result",
          "data": {
            "text/plain": [
              "Text(0.5, 0, 'Train step')"
            ]
          },
          "metadata": {},
          "execution_count": 83
        },
        {
          "output_type": "display_data",
          "data": {
            "text/plain": [
              "<Figure size 432x288 with 1 Axes>"
            ],
            "image/png": "[encoded data removed]"
          },
          "metadata": {
            "needs_background": "light"
          }
        }
      ],
      "source": [
        "temp_learning_rate_schedule = CustomizedSchedule(d_model)\n",
        "# 下面是学习率的设计图\n",
        "plt.plot(\n",
        "    temp_learning_rate_schedule(\n",
        "        tf.range(40000, dtype=tf.float32)))\n",
        "plt.ylabel(\"Leraning rate\")\n",
        "plt.xlabel(\"Train step\")"
      ]
    },
    {
      "cell_type": "code",
      "execution_count": 84,
      "metadata": {
        "id": "Xcr5eooDfvUR"
      },
      "outputs": [],
      "source": [
        "loss_object = keras.losses.SparseCategoricalCrossentropy(\n",
        "    from_logits = True, reduction = 'none')\n",
        "\n",
        "# 为了不考虑padding部分的损失，需要mask\n",
        "def loss_function(real, pred):\n",
        "    mask = tf.math.logical_not(tf.math.equal(real, 0))\n",
        "    loss_ = loss_object(real, pred)\n",
        "    \n",
        "    mask = tf.cast(mask, dtype=loss_.dtype)\n",
        "    loss_ *= mask\n",
        "    \n",
        "    return tf.reduce_mean(loss_)\n"
      ]
    },
    {
      "cell_type": "code",
      "execution_count": 85,
      "metadata": {
        "id": "E7OQEFBgfvUR"
      },
      "outputs": [],
      "source": [
        "# 利用create_padding_mask和create_look_ahead_mask接口构造训练需要的3个mask\n",
        "def create_masks(inp, tar):\n",
        "    \"\"\"\n",
        "    Encoder:\n",
        "      - encoder_padding_mask (self attention of EncoderLayer)\n",
        "      对于encoder中padding值没作用，所以无需attention\n",
        "    Decoder:\n",
        "      - look_ahead_mask (self attention of DecoderLayer)\n",
        "      target位置上的词不能看到之后的词，因为之后的词没预测出来\n",
        "      - encoder_decoder_padding_mask (encoder-decoder attention of DecoderLayer)\n",
        "      decoder不应该到encoder的padding上去花费精力\n",
        "      - decoder_padding_mask (self attention of DecoderLayer)\n",
        "      decoder也有padding，所以mask掉\n",
        "    \"\"\"\n",
        "    encoder_padding_mask = create_padding_mask(inp)  # 给padding做了mask\n",
        "    encoder_decoder_padding_mask = create_padding_mask(inp)  # 给encoder_decoder做的padding\n",
        "    \n",
        "    look_ahead_mask = create_look_ahead_mask(tf.shape(tar)[1])  # 不能看到后面的词\n",
        "    decoder_padding_mask = create_padding_mask(tar)  # tar的padding做了mask\n",
        "    \n",
        "    decoder_mask = tf.maximum(decoder_padding_mask,\n",
        "                              look_ahead_mask)  # 广播比较（应该与batch是没关系的？）\n",
        "    \n",
        "#     print(encoder_padding_mask.shape)\n",
        "#     print(encoder_decoder_padding_mask.shape)\n",
        "#     print(look_ahead_mask.shape)\n",
        "#     print(decoder_padding_mask.shape)\n",
        "#     print(decoder_mask.shape)\n",
        "\n",
        "    \n",
        "    return encoder_padding_mask, decoder_mask, encoder_decoder_padding_mask"
      ]
    },
    {
      "cell_type": "code",
      "execution_count": 86,
      "metadata": {
        "id": "RnjvjQV_fvUR",
        "colab": {
          "base_uri": "https://localhost:8080/"
        },
        "outputId": "cf96489a-7c7d-4dde-db35-73bc7526a778"
      },
      "outputs": [
        {
          "output_type": "stream",
          "name": "stdout",
          "text": [
            "tf.Tensor(\n",
            "[[[[-5.  0.  0.]]]\n",
            "\n",
            "\n",
            " [[[ 0.  8.  9.]]]], shape=(2, 1, 1, 3), dtype=float32)\n",
            "tf.Tensor(\n",
            "[[-3.  9.  8.]\n",
            " [ 7.  8.  0.]\n",
            " [ 0.  8.  9.]], shape=(3, 3), dtype=float32)\n"
          ]
        },
        {
          "output_type": "execute_result",
          "data": {
            "text/plain": [
              "<tf.Tensor: shape=(2, 1, 3, 3), dtype=float32, numpy=\n",
              "array([[[[-3.,  9.,  8.],\n",
              "         [ 7.,  8.,  0.],\n",
              "         [ 0.,  8.,  9.]]],\n",
              "\n",
              "\n",
              "       [[[ 0.,  9.,  9.],\n",
              "         [ 7.,  8.,  9.],\n",
              "         [ 0.,  8.,  9.]]]], dtype=float32)>"
            ]
          },
          "metadata": {},
          "execution_count": 86
        }
      ],
      "source": [
        "# maximum broadcast 有点意思\n",
        "import tensorflow as tf\n",
        "x = tf.constant([-5., 0., 0., 0., 8, 9])\n",
        "x1 = tf.reshape(x, (2, 1, 1, 3))\n",
        "y = tf.constant([-3., 9, 8, 7, 8, 0., 0., 8, 9])\n",
        "y1 = tf.reshape(y, (3, 3))\n",
        "# print(x1.shape)\n",
        "# print(y1.shape)\n",
        "print(x1)\n",
        "print(y1)\n",
        "tf.maximum(x1, y1)"
      ]
    },
    {
      "cell_type": "code",
      "execution_count": 87,
      "metadata": {
        "id": "IlD51NIbfvUR"
      },
      "outputs": [],
      "source": [
        "temp_inp, temp_tar = iter(train_dataset.take(1)).next()"
      ]
    },
    {
      "cell_type": "code",
      "execution_count": 88,
      "metadata": {
        "id": "cY9wW8z_fvUR",
        "colab": {
          "base_uri": "https://localhost:8080/"
        },
        "outputId": "283fca8e-1a0f-4972-c58b-afb9d51fedfb"
      },
      "outputs": [
        {
          "output_type": "stream",
          "name": "stdout",
          "text": [
            "(64, 39)\n",
            "(64, 40)\n"
          ]
        },
        {
          "output_type": "execute_result",
          "data": {
            "text/plain": [
              "(<tf.Tensor: shape=(64, 1, 1, 39), dtype=float32, numpy=\n",
              " array([[[[0., 0., 0., ..., 1., 1., 1.]]],\n",
              " \n",
              " \n",
              "        [[[0., 0., 0., ..., 1., 1., 1.]]],\n",
              " \n",
              " \n",
              "        [[[0., 0., 0., ..., 1., 1., 1.]]],\n",
              " \n",
              " \n",
              "        ...,\n",
              " \n",
              " \n",
              "        [[[0., 0., 0., ..., 1., 1., 1.]]],\n",
              " \n",
              " \n",
              "        [[[0., 0., 0., ..., 1., 1., 1.]]],\n",
              " \n",
              " \n",
              "        [[[0., 0., 0., ..., 1., 1., 1.]]]], dtype=float32)>,\n",
              " <tf.Tensor: shape=(64, 1, 40, 40), dtype=float32, numpy=\n",
              " array([[[[0., 1., 1., ..., 1., 1., 1.],\n",
              "          [0., 0., 1., ..., 1., 1., 1.],\n",
              "          [0., 0., 0., ..., 1., 1., 1.],\n",
              "          ...,\n",
              "          [0., 0., 0., ..., 1., 1., 1.],\n",
              "          [0., 0., 0., ..., 1., 1., 1.],\n",
              "          [0., 0., 0., ..., 1., 1., 1.]]],\n",
              " \n",
              " \n",
              "        [[[0., 1., 1., ..., 1., 1., 1.],\n",
              "          [0., 0., 1., ..., 1., 1., 1.],\n",
              "          [0., 0., 0., ..., 1., 1., 1.],\n",
              "          ...,\n",
              "          [0., 0., 0., ..., 1., 1., 1.],\n",
              "          [0., 0., 0., ..., 1., 1., 1.],\n",
              "          [0., 0., 0., ..., 1., 1., 1.]]],\n",
              " \n",
              " \n",
              "        [[[0., 1., 1., ..., 1., 1., 1.],\n",
              "          [0., 0., 1., ..., 1., 1., 1.],\n",
              "          [0., 0., 0., ..., 1., 1., 1.],\n",
              "          ...,\n",
              "          [0., 0., 0., ..., 1., 1., 1.],\n",
              "          [0., 0., 0., ..., 1., 1., 1.],\n",
              "          [0., 0., 0., ..., 1., 1., 1.]]],\n",
              " \n",
              " \n",
              "        ...,\n",
              " \n",
              " \n",
              "        [[[0., 1., 1., ..., 1., 1., 1.],\n",
              "          [0., 0., 1., ..., 1., 1., 1.],\n",
              "          [0., 0., 0., ..., 1., 1., 1.],\n",
              "          ...,\n",
              "          [0., 0., 0., ..., 1., 1., 1.],\n",
              "          [0., 0., 0., ..., 1., 1., 1.],\n",
              "          [0., 0., 0., ..., 1., 1., 1.]]],\n",
              " \n",
              " \n",
              "        [[[0., 1., 1., ..., 1., 1., 1.],\n",
              "          [0., 0., 1., ..., 1., 1., 1.],\n",
              "          [0., 0., 0., ..., 1., 1., 1.],\n",
              "          ...,\n",
              "          [0., 0., 0., ..., 1., 1., 1.],\n",
              "          [0., 0., 0., ..., 1., 1., 1.],\n",
              "          [0., 0., 0., ..., 1., 1., 1.]]],\n",
              " \n",
              " \n",
              "        [[[0., 1., 1., ..., 1., 1., 1.],\n",
              "          [0., 0., 1., ..., 1., 1., 1.],\n",
              "          [0., 0., 0., ..., 1., 1., 1.],\n",
              "          ...,\n",
              "          [0., 0., 0., ..., 1., 1., 1.],\n",
              "          [0., 0., 0., ..., 1., 1., 1.],\n",
              "          [0., 0., 0., ..., 1., 1., 1.]]]], dtype=float32)>,\n",
              " <tf.Tensor: shape=(64, 1, 1, 39), dtype=float32, numpy=\n",
              " array([[[[0., 0., 0., ..., 1., 1., 1.]]],\n",
              " \n",
              " \n",
              "        [[[0., 0., 0., ..., 1., 1., 1.]]],\n",
              " \n",
              " \n",
              "        [[[0., 0., 0., ..., 1., 1., 1.]]],\n",
              " \n",
              " \n",
              "        ...,\n",
              " \n",
              " \n",
              "        [[[0., 0., 0., ..., 1., 1., 1.]]],\n",
              " \n",
              " \n",
              "        [[[0., 0., 0., ..., 1., 1., 1.]]],\n",
              " \n",
              " \n",
              "        [[[0., 0., 0., ..., 1., 1., 1.]]]], dtype=float32)>)"
            ]
          },
          "metadata": {},
          "execution_count": 88
        }
      ],
      "source": [
        "print(temp_inp.shape)\n",
        "print(temp_tar.shape)\n",
        "create_masks(temp_inp, temp_tar)\n",
        "# 样本大小是64，不足的补齐35，或者39\n",
        "# 最后是(64, 1, 39, 39)原因是既不关注前面的padding，也不关注后面的单词"
      ]
    },
    {
      "cell_type": "markdown",
      "metadata": {
        "id": "gcRei1hUfvUS"
      },
      "source": [
        "# 6 train step"
      ]
    },
    {
      "cell_type": "code",
      "execution_count": 89,
      "metadata": {
        "id": "fEK4wb2jfvUS",
        "colab": {
          "base_uri": "https://localhost:8080/"
        },
        "outputId": "d1dc40d1-cf4c-40fe-bb0d-ffdccaeac013"
      },
      "outputs": [
        {
          "output_type": "stream",
          "name": "stdout",
          "text": [
            "Epoch 1 Batch 0 Loss 3.9801 Accuracy 0.0000\n",
            "WARNING:tensorflow:5 out of the last 5 calls to <function train_step at 0x7f618dd10ef0> triggered tf.function retracing. Tracing is expensive and the excessive number of tracings could be due to (1) creating @tf.function repeatedly in a loop, (2) passing tensors with different shapes, (3) passing Python objects instead of tensors. For (1), please define your @tf.function outside of the loop. For (2), @tf.function has experimental_relax_shapes=True option that relaxes argument shapes that can avoid unnecessary retracing. For (3), please refer to https://www.tensorflow.org/guide/function#controlling_retracing and https://www.tensorflow.org/api_docs/python/tf/function for  more details.\n"
          ]
        },
        {
          "output_type": "stream",
          "name": "stderr",
          "text": [
            "WARNING:tensorflow:5 out of the last 5 calls to <function train_step at 0x7f618dd10ef0> triggered tf.function retracing. Tracing is expensive and the excessive number of tracings could be due to (1) creating @tf.function repeatedly in a loop, (2) passing tensors with different shapes, (3) passing Python objects instead of tensors. For (1), please define your @tf.function outside of the loop. For (2), @tf.function has experimental_relax_shapes=True option that relaxes argument shapes that can avoid unnecessary retracing. For (3), please refer to https://www.tensorflow.org/guide/function#controlling_retracing and https://www.tensorflow.org/api_docs/python/tf/function for  more details.\n"
          ]
        },
        {
          "output_type": "stream",
          "name": "stdout",
          "text": [
            "WARNING:tensorflow:6 out of the last 6 calls to <function train_step at 0x7f618dd10ef0> triggered tf.function retracing. Tracing is expensive and the excessive number of tracings could be due to (1) creating @tf.function repeatedly in a loop, (2) passing tensors with different shapes, (3) passing Python objects instead of tensors. For (1), please define your @tf.function outside of the loop. For (2), @tf.function has experimental_relax_shapes=True option that relaxes argument shapes that can avoid unnecessary retracing. For (3), please refer to https://www.tensorflow.org/guide/function#controlling_retracing and https://www.tensorflow.org/api_docs/python/tf/function for  more details.\n"
          ]
        },
        {
          "output_type": "stream",
          "name": "stderr",
          "text": [
            "WARNING:tensorflow:6 out of the last 6 calls to <function train_step at 0x7f618dd10ef0> triggered tf.function retracing. Tracing is expensive and the excessive number of tracings could be due to (1) creating @tf.function repeatedly in a loop, (2) passing tensors with different shapes, (3) passing Python objects instead of tensors. For (1), please define your @tf.function outside of the loop. For (2), @tf.function has experimental_relax_shapes=True option that relaxes argument shapes that can avoid unnecessary retracing. For (3), please refer to https://www.tensorflow.org/guide/function#controlling_retracing and https://www.tensorflow.org/api_docs/python/tf/function for  more details.\n"
          ]
        },
        {
          "output_type": "stream",
          "name": "stdout",
          "text": [
            "Epoch 1 Batch 100 Loss 4.1645 Accuracy 0.0164\n",
            "Epoch 1 Batch 200 Loss 4.0480 Accuracy 0.0238\n",
            "Epoch 1 Batch 300 Loss 3.9153 Accuracy 0.0295\n",
            "Epoch 1 Batch 400 Loss 3.7444 Accuracy 0.0356\n",
            "Epoch 1 Batch 500 Loss 3.6010 Accuracy 0.0410\n",
            "Epoch 1 Batch 600 Loss 3.4870 Accuracy 0.0463\n",
            "Epoch 1 Batch 700 Loss 3.3767 Accuracy 0.0527\n",
            "Epoch 1 Loss 3.3750 Accuracy 0.0528\n",
            "Time take for 1 epoch: 374.00975346565247 secs\n",
            "\n",
            "Epoch 2 Batch 0 Loss 2.6511 Accuracy 0.1016\n",
            "Epoch 2 Batch 100 Loss 2.5789 Accuracy 0.1031\n",
            "Epoch 2 Batch 200 Loss 2.5187 Accuracy 0.1082\n",
            "Epoch 2 Batch 300 Loss 2.4896 Accuracy 0.1130\n",
            "Epoch 2 Batch 400 Loss 2.4601 Accuracy 0.1166\n",
            "Epoch 2 Batch 500 Loss 2.4256 Accuracy 0.1197\n",
            "Epoch 2 Batch 600 Loss 2.3988 Accuracy 0.1225\n",
            "Epoch 2 Batch 700 Loss 2.3720 Accuracy 0.1248\n",
            "Epoch 2 Loss 2.3714 Accuracy 0.1248\n",
            "Time take for 1 epoch: 129.94147634506226 secs\n",
            "\n",
            "Epoch 3 Batch 0 Loss 2.0604 Accuracy 0.1354\n",
            "Epoch 3 Batch 100 Loss 2.1629 Accuracy 0.1433\n",
            "Epoch 3 Batch 200 Loss 2.1614 Accuracy 0.1444\n",
            "Epoch 3 Batch 300 Loss 2.1522 Accuracy 0.1453\n",
            "Epoch 3 Batch 400 Loss 2.1473 Accuracy 0.1466\n",
            "Epoch 3 Batch 500 Loss 2.1354 Accuracy 0.1477\n",
            "Epoch 3 Batch 600 Loss 2.1228 Accuracy 0.1486\n",
            "Epoch 3 Batch 700 Loss 2.1065 Accuracy 0.1499\n",
            "Epoch 3 Loss 2.1069 Accuracy 0.1500\n",
            "Time take for 1 epoch: 95.61403751373291 secs\n",
            "\n",
            "Epoch 4 Batch 0 Loss 2.5351 Accuracy 0.1778\n",
            "Epoch 4 Batch 100 Loss 1.9469 Accuracy 0.1641\n",
            "Epoch 4 Batch 200 Loss 1.9384 Accuracy 0.1644\n",
            "Epoch 4 Batch 300 Loss 1.9313 Accuracy 0.1667\n",
            "Epoch 4 Batch 400 Loss 1.9219 Accuracy 0.1687\n",
            "Epoch 4 Batch 500 Loss 1.9114 Accuracy 0.1709\n",
            "Epoch 4 Batch 600 Loss 1.8979 Accuracy 0.1732\n",
            "Epoch 4 Batch 700 Loss 1.8874 Accuracy 0.1755\n",
            "Epoch 4 Loss 1.8864 Accuracy 0.1755\n",
            "Time take for 1 epoch: 99.13467907905579 secs\n",
            "\n",
            "Epoch 5 Batch 0 Loss 1.7275 Accuracy 0.1855\n",
            "Epoch 5 Batch 100 Loss 1.6950 Accuracy 0.1923\n",
            "Epoch 5 Batch 200 Loss 1.6948 Accuracy 0.1940\n",
            "Epoch 5 Batch 300 Loss 1.6868 Accuracy 0.1960\n",
            "Epoch 5 Batch 400 Loss 1.6861 Accuracy 0.1984\n",
            "Epoch 5 Batch 500 Loss 1.6760 Accuracy 0.1998\n",
            "Epoch 5 Batch 600 Loss 1.6678 Accuracy 0.2016\n",
            "Epoch 5 Batch 700 Loss 1.6602 Accuracy 0.2031\n",
            "Epoch 5 Loss 1.6603 Accuracy 0.2031\n",
            "Time take for 1 epoch: 95.08850049972534 secs\n",
            "\n",
            "Epoch 6 Batch 0 Loss 1.4199 Accuracy 0.2047\n",
            "Epoch 6 Batch 100 Loss 1.5011 Accuracy 0.2188\n",
            "Epoch 6 Batch 200 Loss 1.5050 Accuracy 0.2201\n",
            "Epoch 6 Batch 300 Loss 1.5004 Accuracy 0.2204\n",
            "Epoch 6 Batch 400 Loss 1.4938 Accuracy 0.2213\n",
            "Epoch 6 Batch 500 Loss 1.4863 Accuracy 0.2223\n",
            "Epoch 6 Batch 600 Loss 1.4810 Accuracy 0.2233\n",
            "Epoch 6 Batch 700 Loss 1.4764 Accuracy 0.2241\n",
            "Epoch 6 Loss 1.4761 Accuracy 0.2241\n",
            "Time take for 1 epoch: 99.14938259124756 secs\n",
            "\n",
            "Epoch 7 Batch 0 Loss 1.4840 Accuracy 0.2799\n",
            "Epoch 7 Batch 100 Loss 1.3150 Accuracy 0.2401\n",
            "Epoch 7 Batch 200 Loss 1.3070 Accuracy 0.2389\n",
            "Epoch 7 Batch 300 Loss 1.3026 Accuracy 0.2412\n",
            "Epoch 7 Batch 400 Loss 1.3004 Accuracy 0.2424\n",
            "Epoch 7 Batch 500 Loss 1.2923 Accuracy 0.2430\n",
            "Epoch 7 Batch 600 Loss 1.2894 Accuracy 0.2443\n",
            "Epoch 7 Batch 700 Loss 1.2870 Accuracy 0.2453\n",
            "Epoch 7 Loss 1.2873 Accuracy 0.2453\n",
            "Time take for 1 epoch: 105.75423836708069 secs\n",
            "\n",
            "Epoch 8 Batch 0 Loss 1.2515 Accuracy 0.2552\n",
            "Epoch 8 Batch 100 Loss 1.1460 Accuracy 0.2629\n",
            "Epoch 8 Batch 200 Loss 1.1504 Accuracy 0.2640\n",
            "Epoch 8 Batch 300 Loss 1.1453 Accuracy 0.2648\n",
            "Epoch 8 Batch 400 Loss 1.1392 Accuracy 0.2648\n",
            "Epoch 8 Batch 500 Loss 1.1357 Accuracy 0.2652\n",
            "Epoch 8 Batch 600 Loss 1.1326 Accuracy 0.2652\n",
            "Epoch 8 Batch 700 Loss 1.1334 Accuracy 0.2652\n",
            "Epoch 8 Loss 1.1338 Accuracy 0.2652\n",
            "Time take for 1 epoch: 99.28454327583313 secs\n",
            "\n",
            "Epoch 9 Batch 0 Loss 1.1668 Accuracy 0.3086\n",
            "Epoch 9 Batch 100 Loss 1.0081 Accuracy 0.2754\n",
            "Epoch 9 Batch 200 Loss 1.0130 Accuracy 0.2776\n",
            "Epoch 9 Batch 300 Loss 1.0130 Accuracy 0.2778\n",
            "Epoch 9 Batch 400 Loss 1.0152 Accuracy 0.2779\n",
            "Epoch 9 Batch 500 Loss 1.0164 Accuracy 0.2783\n",
            "Epoch 9 Batch 600 Loss 1.0163 Accuracy 0.2785\n",
            "Epoch 9 Batch 700 Loss 1.0197 Accuracy 0.2786\n",
            "Epoch 9 Loss 1.0200 Accuracy 0.2787\n",
            "Time take for 1 epoch: 103.78962826728821 secs\n",
            "\n",
            "Epoch 10 Batch 0 Loss 1.0130 Accuracy 0.3212\n",
            "Epoch 10 Batch 100 Loss 0.9068 Accuracy 0.2904\n",
            "Epoch 10 Batch 200 Loss 0.9145 Accuracy 0.2905\n",
            "Epoch 10 Batch 300 Loss 0.9163 Accuracy 0.2895\n",
            "Epoch 10 Batch 400 Loss 0.9213 Accuracy 0.2897\n",
            "Epoch 10 Batch 500 Loss 0.9208 Accuracy 0.2888\n",
            "Epoch 10 Batch 600 Loss 0.9256 Accuracy 0.2891\n",
            "Epoch 10 Batch 700 Loss 0.9336 Accuracy 0.2892\n",
            "Epoch 10 Loss 0.9341 Accuracy 0.2892\n",
            "Time take for 1 epoch: 86.72996520996094 secs\n",
            "\n",
            "Epoch 11 Batch 0 Loss 0.9016 Accuracy 0.3125\n",
            "Epoch 11 Batch 100 Loss 0.8376 Accuracy 0.3013\n",
            "Epoch 11 Batch 200 Loss 0.8574 Accuracy 0.3020\n",
            "Epoch 11 Batch 300 Loss 0.8566 Accuracy 0.3006\n",
            "Epoch 11 Batch 400 Loss 0.8584 Accuracy 0.3007\n",
            "Epoch 11 Batch 500 Loss 0.8628 Accuracy 0.3006\n",
            "Epoch 11 Batch 600 Loss 0.8624 Accuracy 0.2998\n",
            "Epoch 11 Batch 700 Loss 0.8697 Accuracy 0.2995\n",
            "Epoch 11 Loss 0.8701 Accuracy 0.2995\n",
            "Time take for 1 epoch: 90.67238593101501 secs\n",
            "\n",
            "Epoch 12 Batch 0 Loss 0.7655 Accuracy 0.2874\n",
            "Epoch 12 Batch 100 Loss 0.7779 Accuracy 0.3102\n",
            "Epoch 12 Batch 200 Loss 0.7903 Accuracy 0.3090\n",
            "Epoch 12 Batch 300 Loss 0.7952 Accuracy 0.3079\n",
            "Epoch 12 Batch 400 Loss 0.7987 Accuracy 0.3072\n",
            "Epoch 12 Batch 500 Loss 0.8028 Accuracy 0.3075\n",
            "Epoch 12 Batch 600 Loss 0.8079 Accuracy 0.3068\n",
            "Epoch 12 Batch 700 Loss 0.8130 Accuracy 0.3061\n",
            "Epoch 12 Loss 0.8129 Accuracy 0.3060\n",
            "Time take for 1 epoch: 91.55628800392151 secs\n",
            "\n",
            "Epoch 13 Batch 0 Loss 0.7766 Accuracy 0.3084\n",
            "Epoch 13 Batch 100 Loss 0.7354 Accuracy 0.3193\n",
            "Epoch 13 Batch 200 Loss 0.7399 Accuracy 0.3150\n",
            "Epoch 13 Batch 300 Loss 0.7439 Accuracy 0.3144\n",
            "Epoch 13 Batch 400 Loss 0.7472 Accuracy 0.3138\n",
            "Epoch 13 Batch 500 Loss 0.7519 Accuracy 0.3133\n",
            "Epoch 13 Batch 600 Loss 0.7577 Accuracy 0.3130\n",
            "Epoch 13 Batch 700 Loss 0.7637 Accuracy 0.3122\n",
            "Epoch 13 Loss 0.7638 Accuracy 0.3122\n",
            "Time take for 1 epoch: 91.48057150840759 secs\n",
            "\n",
            "Epoch 14 Batch 0 Loss 0.6696 Accuracy 0.2981\n",
            "Epoch 14 Batch 100 Loss 0.6912 Accuracy 0.3228\n",
            "Epoch 14 Batch 200 Loss 0.6981 Accuracy 0.3230\n",
            "Epoch 14 Batch 300 Loss 0.6979 Accuracy 0.3206\n",
            "Epoch 14 Batch 400 Loss 0.7059 Accuracy 0.3209\n",
            "Epoch 14 Batch 500 Loss 0.7100 Accuracy 0.3199\n",
            "Epoch 14 Batch 600 Loss 0.7181 Accuracy 0.3187\n",
            "Epoch 14 Batch 700 Loss 0.7234 Accuracy 0.3182\n",
            "Epoch 14 Loss 0.7240 Accuracy 0.3183\n",
            "Time take for 1 epoch: 82.91158890724182 secs\n",
            "\n",
            "Epoch 15 Batch 0 Loss 0.5968 Accuracy 0.2796\n",
            "Epoch 15 Batch 100 Loss 0.6490 Accuracy 0.3253\n",
            "Epoch 15 Batch 200 Loss 0.6569 Accuracy 0.3252\n",
            "Epoch 15 Batch 300 Loss 0.6686 Accuracy 0.3250\n",
            "Epoch 15 Batch 400 Loss 0.6744 Accuracy 0.3249\n",
            "Epoch 15 Batch 500 Loss 0.6799 Accuracy 0.3248\n",
            "Epoch 15 Batch 600 Loss 0.6836 Accuracy 0.3238\n",
            "Epoch 15 Batch 700 Loss 0.6886 Accuracy 0.3234\n",
            "Epoch 15 Loss 0.6884 Accuracy 0.3234\n",
            "Time take for 1 epoch: 90.95767259597778 secs\n",
            "\n",
            "Epoch 16 Batch 0 Loss 0.5501 Accuracy 0.3072\n",
            "Epoch 16 Batch 100 Loss 0.6167 Accuracy 0.3327\n",
            "Epoch 16 Batch 200 Loss 0.6229 Accuracy 0.3317\n",
            "Epoch 16 Batch 300 Loss 0.6355 Accuracy 0.3312\n",
            "Epoch 16 Batch 400 Loss 0.6414 Accuracy 0.3303\n",
            "Epoch 16 Batch 500 Loss 0.6447 Accuracy 0.3296\n",
            "Epoch 16 Batch 600 Loss 0.6516 Accuracy 0.3290\n",
            "Epoch 16 Batch 700 Loss 0.6560 Accuracy 0.3284\n",
            "Epoch 16 Loss 0.6561 Accuracy 0.3284\n",
            "Time take for 1 epoch: 98.5626220703125 secs\n",
            "\n",
            "Epoch 17 Batch 0 Loss 0.5983 Accuracy 0.3336\n",
            "Epoch 17 Batch 100 Loss 0.5840 Accuracy 0.3367\n",
            "Epoch 17 Batch 200 Loss 0.5987 Accuracy 0.3357\n",
            "Epoch 17 Batch 300 Loss 0.6060 Accuracy 0.3349\n",
            "Epoch 17 Batch 400 Loss 0.6130 Accuracy 0.3351\n",
            "Epoch 17 Batch 500 Loss 0.6180 Accuracy 0.3343\n",
            "Epoch 17 Batch 600 Loss 0.6221 Accuracy 0.3333\n",
            "Epoch 17 Batch 700 Loss 0.6285 Accuracy 0.3322\n",
            "Epoch 17 Loss 0.6284 Accuracy 0.3322\n",
            "Time take for 1 epoch: 95.63136506080627 secs\n",
            "\n",
            "Epoch 18 Batch 0 Loss 0.6146 Accuracy 0.3520\n",
            "Epoch 18 Batch 100 Loss 0.5630 Accuracy 0.3441\n",
            "Epoch 18 Batch 200 Loss 0.5749 Accuracy 0.3403\n",
            "Epoch 18 Batch 300 Loss 0.5805 Accuracy 0.3392\n",
            "Epoch 18 Batch 400 Loss 0.5846 Accuracy 0.3382\n",
            "Epoch 18 Batch 500 Loss 0.5915 Accuracy 0.3376\n",
            "Epoch 18 Batch 600 Loss 0.5966 Accuracy 0.3365\n",
            "Epoch 18 Batch 700 Loss 0.6020 Accuracy 0.3360\n",
            "Epoch 18 Loss 0.6022 Accuracy 0.3361\n",
            "Time take for 1 epoch: 87.09704113006592 secs\n",
            "\n",
            "Epoch 19 Batch 0 Loss 0.5231 Accuracy 0.3498\n",
            "Epoch 19 Batch 100 Loss 0.5447 Accuracy 0.3441\n",
            "Epoch 19 Batch 200 Loss 0.5501 Accuracy 0.3441\n",
            "Epoch 19 Batch 300 Loss 0.5578 Accuracy 0.3427\n",
            "Epoch 19 Batch 400 Loss 0.5636 Accuracy 0.3424\n",
            "Epoch 19 Batch 500 Loss 0.5705 Accuracy 0.3416\n",
            "Epoch 19 Batch 600 Loss 0.5756 Accuracy 0.3406\n",
            "Epoch 19 Batch 700 Loss 0.5811 Accuracy 0.3400\n",
            "Epoch 19 Loss 0.5812 Accuracy 0.3400\n",
            "Time take for 1 epoch: 87.54561018943787 secs\n",
            "\n",
            "Epoch 20 Batch 0 Loss 0.4549 Accuracy 0.3025\n",
            "Epoch 20 Batch 100 Loss 0.5171 Accuracy 0.3467\n",
            "Epoch 20 Batch 200 Loss 0.5237 Accuracy 0.3472\n",
            "Epoch 20 Batch 300 Loss 0.5337 Accuracy 0.3460\n",
            "Epoch 20 Batch 400 Loss 0.5408 Accuracy 0.3458\n",
            "Epoch 20 Batch 500 Loss 0.5491 Accuracy 0.3456\n",
            "Epoch 20 Batch 600 Loss 0.5548 Accuracy 0.3450\n",
            "Epoch 20 Batch 700 Loss 0.5598 Accuracy 0.3443\n",
            "Epoch 20 Loss 0.5599 Accuracy 0.3442\n",
            "Time take for 1 epoch: 96.13289904594421 secs\n",
            "\n"
          ]
        }
      ],
      "source": [
        "train_loss = keras.metrics.Mean(name = 'train_loss')\n",
        "train_accuracy = keras.metrics.SparseCategoricalAccuracy(\n",
        "    name = 'train_accuracy')\n",
        "# start I have a dream end\n",
        "@tf.function\n",
        "def train_step(inp, tar):\n",
        "    tar_inp  = tar[:, :-1]  # 没带end  decode输入, 比如输入start得到I\n",
        "    tar_real = tar[:, 1:]  # 没有start  输入的是dream时，输出是end\n",
        "    \n",
        "    encoder_padding_mask, decoder_mask, encoder_decoder_padding_mask \\\n",
        "    = create_masks(inp, tar_inp)\n",
        "    \n",
        "    with tf.GradientTape() as tape:\n",
        "        predictions, _ = transformer(inp, tar_inp, True,\n",
        "                                     encoder_padding_mask,\n",
        "                                     decoder_mask,\n",
        "                                     encoder_decoder_padding_mask)\n",
        "        loss = loss_function(tar_real, predictions)\n",
        "    \n",
        "    gradients = tape.gradient(loss, transformer.trainable_variables)\n",
        "    optimizer.apply_gradients(\n",
        "        zip(gradients, transformer.trainable_variables))\n",
        "    train_loss(loss)\n",
        "    train_accuracy(tar_real, predictions)\n",
        "# 一个epochs接近90秒\n",
        "epochs = 20\n",
        "for epoch in range(epochs):\n",
        "    start = time.time()\n",
        "    # reset后就会从零开始累计\n",
        "    train_loss.reset_states()\n",
        "    train_accuracy.reset_states()\n",
        "    \n",
        "    for (batch, (inp, tar)) in enumerate(train_dataset):\n",
        "        train_step(inp, tar)\n",
        "        if batch % 100 == 0:\n",
        "            print('Epoch {} Batch {} Loss {:.4f} Accuracy {:.4f}'.format(\n",
        "                epoch + 1, batch, train_loss.result(),\n",
        "                train_accuracy.result()))\n",
        "    \n",
        "    print('Epoch {} Loss {:.4f} Accuracy {:.4f}'.format(\n",
        "        epoch + 1, train_loss.result(), train_accuracy.result()))\n",
        "    print('Time take for 1 epoch: {} secs\\n'.format(\n",
        "        time.time() - start))\n",
        "\n",
        "# loss是正常指标，accuracy只是机器翻译的一个参考指标（没啥意义），可以看趋势\n",
        "    "
      ]
    },
    {
      "cell_type": "markdown",
      "metadata": {
        "id": "-9b4cCl2fvUS"
      },
      "source": [
        "# 7 Evaluate and Visualize"
      ]
    },
    {
      "cell_type": "code",
      "execution_count": 90,
      "metadata": {
        "id": "0DkMpRAefvUS"
      },
      "outputs": [],
      "source": [
        "\"\"\"\n",
        "eg: A B C D -> E F G H.\n",
        "Train: A B C D, E F G -> F G H\n",
        "Eval:  A B C D -> E\n",
        "       A B C D, E -> F\n",
        "       A B C D, E F -> G\n",
        "       A B C D, E F G -> H\n",
        "类似seq2seq2\n",
        "不同的是 transformer可以并行的处理，前后没有依赖，而seq2seq前后有依赖\n",
        "\"\"\"\n",
        "def evaluate(inp_sentence):\n",
        "    # 文本的句子转换为id的句子\n",
        "    input_id_sentence = [pt_tokenizer.vocab_size] \\\n",
        "    + pt_tokenizer.encode(inp_sentence) + [pt_tokenizer.vocab_size + 1]\n",
        "    # transformer转换是两维的，因此转换\n",
        "    # encoder_input.shape: (1, input_sentence_length)\n",
        "    encoder_input = tf.expand_dims(input_id_sentence, 0)\n",
        "    \n",
        "    # decoder_input.shape: (1, 1)\n",
        "    # 我们预测一个词就放入decoder_input，decoder_input给多个就可以预测多个，我们给一个\n",
        "    decoder_input = tf.expand_dims([en_tokenizer.vocab_size], 0)\n",
        "    \n",
        "    for i in range(max_length):\n",
        "        # 产生mask并传给transformer\n",
        "        encoder_padding_mask, decoder_mask, encoder_decoder_padding_mask \\\n",
        "        = create_masks(encoder_input, decoder_input)\n",
        "        # predictions.shape: (batch_size, output_target_len, target_vocab_size)\n",
        "        predictions, attention_weights = transformer(\n",
        "            encoder_input,\n",
        "            decoder_input,\n",
        "            False,\n",
        "            encoder_padding_mask,\n",
        "            decoder_mask,\n",
        "            encoder_decoder_padding_mask)\n",
        "        # predictions.shape: (batch_size, output_target_len, target_vocab_size)\n",
        "        # decoder每次输出的维度和输入的维度是一致的，所以是最后一个\n",
        "        predictions = predictions[:, -1, :]\n",
        "        # 预测值就是概率最大的那个的索引\n",
        "        predicted_id = tf.cast(tf.argmax(predictions, axis = -1),\n",
        "                               tf.int32)\n",
        "        # 如果等于end_id，预测结束\n",
        "        if tf.equal(predicted_id, en_tokenizer.vocab_size + 1):\n",
        "            return tf.squeeze(decoder_input, axis = 0), attention_weights\n",
        "        # 如果predicted_id不是end_id，添加到新的decoder_input中\n",
        "        decoder_input = tf.concat([decoder_input, [predicted_id]],\n",
        "                                  axis = -1)\n",
        "    return tf.squeeze(decoder_input, axis = 0), attention_weights\n",
        "        \n",
        "        "
      ]
    },
    {
      "cell_type": "code",
      "execution_count": 91,
      "metadata": {
        "id": "dcqhVGCcfvUS"
      },
      "outputs": [],
      "source": [
        "def plot_encoder_decoder_attention(attention, input_sentence,\n",
        "                                   result, layer_name):\n",
        "    fig = plt.figure(figsize = (16, 8))\n",
        "    \n",
        "    input_id_sentence = pt_tokenizer.encode(input_sentence)\n",
        "    \n",
        "    # attention.shape: (num_heads, tar_len, input_len)\n",
        "    attention = tf.squeeze(attention[layer_name], axis = 0)\n",
        "    \n",
        "    for head in range(attention.shape[0]):\n",
        "        ax = fig.add_subplot(2, 4, head + 1)\n",
        "        \n",
        "        ax.matshow(attention[head][:-1, :])\n",
        "        \n",
        "        fontdict = {'fontsize': 10}\n",
        "        \n",
        "        ax.set_xticks(range(len(input_id_sentence) + 2))\n",
        "        ax.set_yticks(range(len(result)))\n",
        "        \n",
        "        ax.set_ylim(len(result) - 1.5, -0.5)\n",
        "        \n",
        "        ax.set_xticklabels(\n",
        "            ['<start>'] + [pt_tokenizer.decode([i]) for i in input_id_sentence] + ['<end>'],\n",
        "            fontdict = fontdict, rotation = 90)\n",
        "        ax.set_yticklabels(\n",
        "            [en_tokenizer.decode([i]) for i in result if i < en_tokenizer.vocab_size],\n",
        "            fontdict = fontdict)\n",
        "        ax.set_xlabel('Head {}'.format(head + 1))\n",
        "    plt.tight_layout()\n",
        "    plt.show()      "
      ]
    },
    {
      "cell_type": "markdown",
      "metadata": {
        "id": "1o_fFQbsfvUT"
      },
      "source": [
        "# translate"
      ]
    },
    {
      "cell_type": "code",
      "execution_count": 92,
      "metadata": {
        "id": "QJWkmGfXfvUT"
      },
      "outputs": [],
      "source": [
        "def translate(input_sentence, layer_name = ''):\n",
        "    result, attention_weights = evaluate(input_sentence)\n",
        "    \n",
        "    predicted_sentence = en_tokenizer.decode(\n",
        "        [i for i in result if i < en_tokenizer.vocab_size])\n",
        "    \n",
        "    print(\"Input: {}\".format(input_sentence))\n",
        "    print(\"Predicted translation: {}\".format(predicted_sentence))\n",
        "    \n",
        "    if layer_name:\n",
        "        plot_encoder_decoder_attention(attention_weights, input_sentence,\n",
        "                                       result, layer_name)"
      ]
    },
    {
      "cell_type": "code",
      "execution_count": 93,
      "metadata": {
        "id": "FnV1WEqXfvUT",
        "colab": {
          "base_uri": "https://localhost:8080/"
        },
        "outputId": "b635141f-5451-424e-bb95-d969480d96bf"
      },
      "outputs": [
        {
          "output_type": "stream",
          "name": "stdout",
          "text": [
            "Input: está muito frio aqui.\n",
            "Predicted translation: it 's very cold here , ok , ok , here 's a lot of cold here .\n"
          ]
        }
      ],
      "source": [
        "translate('está muito frio aqui.')"
      ]
    },
    {
      "cell_type": "code",
      "execution_count": 94,
      "metadata": {
        "id": "b5YTNqaOfvUT",
        "colab": {
          "base_uri": "https://localhost:8080/"
        },
        "outputId": "de8b5d04-5bf5-454a-a999-e7f843edfbc5"
      },
      "outputs": [
        {
          "output_type": "stream",
          "name": "stdout",
          "text": [
            "Input: isto é minha vida\n",
            "Predicted translation: this is my life .\n"
          ]
        }
      ],
      "source": [
        "translate('isto é minha vida')"
      ]
    },
    {
      "cell_type": "code",
      "execution_count": 95,
      "metadata": {
        "id": "LaWAcc9JfvUT",
        "colab": {
          "base_uri": "https://localhost:8080/"
        },
        "outputId": "add8eee1-99ca-4e2d-81ee-69315cfdfdd2"
      },
      "outputs": [
        {
          "output_type": "stream",
          "name": "stdout",
          "text": [
            "Input: você ainda está em casa?\n",
            "Predicted translation: are you home , then ?\n"
          ]
        }
      ],
      "source": [
        "translate('você ainda está em casa?')"
      ]
    },
    {
      "cell_type": "code",
      "execution_count": 96,
      "metadata": {
        "id": "IQNfV2jOfvUT",
        "colab": {
          "base_uri": "https://localhost:8080/"
        },
        "outputId": "561fecbf-a19b-4047-833d-643aa034d335"
      },
      "outputs": [
        {
          "output_type": "stream",
          "name": "stdout",
          "text": [
            "Input: este é o primeiro livro que eu já li\n",
            "Predicted translation: this is the first book i already have .\n"
          ]
        }
      ],
      "source": [
        "translate('este é o primeiro livro que eu já li')"
      ]
    },
    {
      "cell_type": "code",
      "execution_count": 97,
      "metadata": {
        "id": "quaOZUREfvUT",
        "colab": {
          "base_uri": "https://localhost:8080/",
          "height": 480
        },
        "outputId": "d4756a34-be5f-43a9-f4da-93ae8b8b5a54"
      },
      "outputs": [
        {
          "output_type": "stream",
          "name": "stdout",
          "text": [
            "Input: este é o primeiro livro que eu já li\n",
            "Predicted translation: this is the first book i already have .\n"
          ]
        },
        {
          "output_type": "display_data",
          "data": {
            "text/plain": [
              "<Figure size 1152x576 with 8 Axes>"
            ],
            "image/png": "[encoded data removed]"
          },
          "metadata": {
            "needs_background": "light"
          }
        }
      ],
      "source": [
        "translate('este é o primeiro livro que eu já li',\n",
        "          layer_name = 'decoder_layer4_att2')"
      ]
    },
    {
      "cell_type": "code",
      "execution_count": 97,
      "metadata": {
        "id": "2TD2LUMtfvUT"
      },
      "outputs": [],
      "source": [
        ""
      ]
    }
  ],
  "metadata": {
    "kernelspec": {
      "display_name": "Python 3",
      "language": "python",
      "name": "python3"
    },
    "language_info": {
      "codemirror_mode": {
        "name": "ipython",
        "version": 3
      },
      "file_extension": ".py",
      "mimetype": "text/x-python",
      "name": "python",
      "nbconvert_exporter": "python",
      "pygments_lexer": "ipython3",
      "version": "3.6.9"
    },
    "colab": {
      "name": "transformer.ipynb",
      "provenance": [],
      "collapsed_sections": [
        "8TAPKWOdfvUJ",
        "TO6VAW1BfvUM",
        "eIdAGWOUfvUN",
        "nVAgiPkSfvUP",
        "0GR_ajycfvUP",
        "hcFfOfyTfvUQ",
        "sl5FAaPPfvUQ"
      ]
    },
    "accelerator": "GPU"
  },
  "nbformat": 4,
  "nbformat_minor": 0
}