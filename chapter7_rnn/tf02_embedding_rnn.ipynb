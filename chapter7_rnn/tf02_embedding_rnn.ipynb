{
 "cells": [
  {
   "cell_type": "code",
   "execution_count": 2,
   "metadata": {
    "colab": {
     "base_uri": "https://localhost:8080/"
    },
    "id": "s5JWEVkiUDom",
    "outputId": "d0a10419-94ae-4ee1-9ecf-5bb7bbd016ed"
   },
   "outputs": [
    {
     "name": "stdout",
     "output_type": "stream",
     "text": [
      "2.8.0\n",
      "sys.version_info(major=3, minor=7, micro=13, releaselevel='final', serial=0)\n",
      "matplotlib 3.2.2\n",
      "numpy 1.21.6\n",
      "pandas 1.3.5\n",
      "sklearn 1.0.2\n",
      "tensorflow 2.8.0\n",
      "keras.api._v2.keras 2.8.0\n"
     ]
    }
   ],
   "source": [
    "import matplotlib as mpl\n",
    "import matplotlib.pyplot as plt\n",
    "%matplotlib inline\n",
    "import numpy as np\n",
    "import sklearn\n",
    "import pandas as pd\n",
    "import os\n",
    "import sys\n",
    "import time\n",
    "import tensorflow as tf\n",
    "\n",
    "from tensorflow import keras\n",
    "\n",
    "print(tf.__version__)\n",
    "print(sys.version_info)\n",
    "for module in mpl, np, pd, sklearn, tf, keras:\n",
    "    print(module.__name__, module.__version__)\n"
   ]
  },
  {
   "cell_type": "code",
   "execution_count": 3,
   "metadata": {
    "colab": {
     "base_uri": "https://localhost:8080/"
    },
    "id": "nc--vRAAUMCc",
    "outputId": "63fcabeb-4319-4a5a-cfdd-74354ff7b312"
   },
   "outputs": [
    {
     "name": "stdout",
     "output_type": "stream",
     "text": [
      "Thu May 19 07:56:05 2022       \n",
      "+-----------------------------------------------------------------------------+\n",
      "| NVIDIA-SMI 460.32.03    Driver Version: 460.32.03    CUDA Version: 11.2     |\n",
      "|-------------------------------+----------------------+----------------------+\n",
      "| GPU  Name        Persistence-M| Bus-Id        Disp.A | Volatile Uncorr. ECC |\n",
      "| Fan  Temp  Perf  Pwr:Usage/Cap|         Memory-Usage | GPU-Util  Compute M. |\n",
      "|                               |                      |               MIG M. |\n",
      "|===============================+======================+======================|\n",
      "|   0  Tesla K80           Off  | 00000000:00:04.0 Off |                    0 |\n",
      "| N/A   61C    P8    29W / 149W |      0MiB / 11441MiB |      0%      Default |\n",
      "|                               |                      |                  N/A |\n",
      "+-------------------------------+----------------------+----------------------+\n",
      "                                                                               \n",
      "+-----------------------------------------------------------------------------+\n",
      "| Processes:                                                                  |\n",
      "|  GPU   GI   CI        PID   Type   Process name                  GPU Memory |\n",
      "|        ID   ID                                                   Usage      |\n",
      "|=============================================================================|\n",
      "|  No running processes found                                                 |\n",
      "+-----------------------------------------------------------------------------+\n"
     ]
    }
   ],
   "source": [
    "!nvidia-smi"
   ]
  },
  {
   "cell_type": "code",
   "execution_count": 4,
   "metadata": {
    "colab": {
     "base_uri": "https://localhost:8080/"
    },
    "id": "dSkn72ZgUDop",
    "outputId": "dac5adc1-a3a9-40c4-8d7b-863ab79d6e66"
   },
   "outputs": [
    {
     "name": "stdout",
     "output_type": "stream",
     "text": [
      "Downloading data from https://storage.googleapis.com/tensorflow/tf-keras-datasets/imdb.npz\n",
      "17465344/17464789 [==============================] - 0s 0us/step\n",
      "17473536/17464789 [==============================] - 0s 0us/step\n"
     ]
    }
   ],
   "source": [
    "# 数据加载\n",
    "imdb = keras.datasets.imdb\n",
    "vocab_size = 10000  # 出现频率最高的1w个词\n",
    "index_from = 3\n",
    "(train_data, train_labels), (test_data, test_labels) = imdb.load_data(\n",
    "    num_words = vocab_size, index_from = index_from)"
   ]
  },
  {
   "cell_type": "code",
   "execution_count": 5,
   "metadata": {
    "colab": {
     "base_uri": "https://localhost:8080/"
    },
    "id": "NetVPFriUDoq",
    "outputId": "467ee4b9-1d83-4d32-ab79-5f6baabfa5cd"
   },
   "outputs": [
    {
     "name": "stdout",
     "output_type": "stream",
     "text": [
      "Downloading data from https://storage.googleapis.com/tensorflow/tf-keras-datasets/imdb_word_index.json\n",
      "1646592/1641221 [==============================] - 0s 0us/step\n",
      "1654784/1641221 [==============================] - 0s 0us/step\n",
      "88584\n"
     ]
    }
   ],
   "source": [
    "word_index = imdb.get_word_index()\n",
    "print(len(word_index))"
   ]
  },
  {
   "cell_type": "code",
   "execution_count": 6,
   "metadata": {
    "id": "uw33aRkDUDoq"
   },
   "outputs": [],
   "source": [
    "word_index = {k:(v+3) for k, v in word_index.items()}"
   ]
  },
  {
   "cell_type": "code",
   "execution_count": 7,
   "metadata": {
    "colab": {
     "base_uri": "https://localhost:8080/",
     "height": 174
    },
    "id": "rvBFKMb3UDor",
    "outputId": "797e775c-dfc2-48d5-8da7-f8d3637d3d0e"
   },
   "outputs": [
    {
     "data": {
      "application/vnd.google.colaboratory.intrinsic+json": {
       "type": "string"
      },
      "text/plain": [
       "\"<START> this film was just brilliant casting location scenery story direction everyone's really suited the part they played and you could just imagine being there robert <UNK> is an amazing actor and now the same being director <UNK> father came from the same scottish island as myself so i loved the fact there was a real connection with this film the witty remarks throughout the film were great it was just brilliant so much that i bought the film as soon as it was released for <UNK> and would recommend it to everyone to watch and the fly fishing was amazing really cried at the end it was so sad and you know what they say if you cry at a film it must have been good and this definitely was also <UNK> to the two little boy's that played the <UNK> of norman and paul they were just brilliant children are often left out of the <UNK> list i think because the stars that play them all grown up are such a big profile for the whole film but these children are amazing and should be praised for what they have done don't you think the whole story was so lovely because it was true and was someone's life after all that was shared with us all\""
      ]
     },
     "execution_count": 7,
     "metadata": {},
     "output_type": "execute_result"
    }
   ],
   "source": [
    "word_index['<PAD>'] = 0\n",
    "word_index['<START>'] = 1\n",
    "word_index['<UNK>'] = 2\n",
    "word_index['<END>'] = 3\n",
    "\n",
    "reverse_word_index = dict(\n",
    "    [(value, key) for key, value in word_index.items()])\n",
    "\n",
    "def decode_review(text_ids):\n",
    "    return ' '.join(\n",
    "        [reverse_word_index.get(word_id, \"<UNK>\") for word_id in text_ids])\n",
    "\n",
    "decode_review(train_data[0])"
   ]
  },
  {
   "cell_type": "code",
   "execution_count": 8,
   "metadata": {
    "colab": {
     "base_uri": "https://localhost:8080/"
    },
    "id": "KzZnekhPUDor",
    "outputId": "8667ede7-8868-4b99-aa58-d7abba295e56",
    "scrolled": true
   },
   "outputs": [
    {
     "name": "stdout",
     "output_type": "stream",
     "text": [
      "[   1  194 1153  194 8255   78  228    5    6 1463 4369 5012  134   26\n",
      "    4  715    8  118 1634   14  394   20   13  119  954  189  102    5\n",
      "  207  110 3103   21   14   69  188    8   30   23    7    4  249  126\n",
      "   93    4  114    9 2300 1523    5  647    4  116    9   35 8163    4\n",
      "  229    9  340 1322    4  118    9    4  130 4901   19    4 1002    5\n",
      "   89   29  952   46   37    4  455    9   45   43   38 1543 1905  398\n",
      "    4 1649   26 6853    5  163   11 3215    2    4 1153    9  194  775\n",
      "    7 8255    2  349 2637  148  605    2 8003   15  123  125   68    2\n",
      " 6853   15  349  165 4362   98    5    4  228    9   43    2 1157   15\n",
      "  299  120    5  120  174   11  220  175  136   50    9 4373  228 8255\n",
      "    5    2  656  245 2350    5    4 9837  131  152  491   18    2   32\n",
      " 7464 1212   14    9    6  371   78   22  625   64 1382    9    8  168\n",
      "  145   23    4 1690   15   16    4 1355    5   28    6   52  154  462\n",
      "   33   89   78  285   16  145   95    0    0    0    0    0    0    0\n",
      "    0    0    0    0    0    0    0    0    0    0    0    0    0    0\n",
      "    0    0    0    0    0    0    0    0    0    0    0    0    0    0\n",
      "    0    0    0    0    0    0    0    0    0    0    0    0    0    0\n",
      "    0    0    0    0    0    0    0    0    0    0    0    0    0    0\n",
      "    0    0    0    0    0    0    0    0    0    0    0    0    0    0\n",
      "    0    0    0    0    0    0    0    0    0    0    0    0    0    0\n",
      "    0    0    0    0    0    0    0    0    0    0    0    0    0    0\n",
      "    0    0    0    0    0    0    0    0    0    0    0    0    0    0\n",
      "    0    0    0    0    0    0    0    0    0    0    0    0    0    0\n",
      "    0    0    0    0    0    0    0    0    0    0    0    0    0    0\n",
      "    0    0    0    0    0    0    0    0    0    0    0    0    0    0\n",
      "    0    0    0    0    0    0    0    0    0    0    0    0    0    0\n",
      "    0    0    0    0    0    0    0    0    0    0    0    0    0    0\n",
      "    0    0    0    0    0    0    0    0    0    0    0    0    0    0\n",
      "    0    0    0    0    0    0    0    0    0    0    0    0    0    0\n",
      "    0    0    0    0    0    0    0    0    0    0    0    0    0    0\n",
      "    0    0    0    0    0    0    0    0    0    0    0    0    0    0\n",
      "    0    0    0    0    0    0    0    0    0    0    0    0    0    0\n",
      "    0    0    0    0    0    0    0    0    0    0    0    0    0    0\n",
      "    0    0    0    0    0    0    0    0    0    0    0    0    0    0\n",
      "    0    0    0    0    0    0    0    0    0    0    0    0    0    0\n",
      "    0    0    0    0    0    0    0    0    0    0]\n"
     ]
    }
   ],
   "source": [
    "max_length = 500\n",
    "\n",
    "train_data = keras.preprocessing.sequence.pad_sequences(\n",
    "    train_data,  # list of list\n",
    "    value = word_index['<PAD>'],\n",
    "    padding = 'post',  # post, pre\n",
    "    maxlen = max_length)\n",
    "\n",
    "test_data = keras.preprocessing.sequence.pad_sequences(\n",
    "    test_data,  # list of list\n",
    "    value = word_index['<PAD>'],\n",
    "    padding = 'post',  # post, pre\n",
    "    maxlen = max_length)\n",
    "\n",
    "print(train_data[1])"
   ]
  },
  {
   "cell_type": "markdown",
   "metadata": {
    "id": "XvQx7tH1UDos"
   },
   "source": [
    "# RNN实现"
   ]
  },
  {
   "cell_type": "code",
   "execution_count": 9,
   "metadata": {
    "colab": {
     "base_uri": "https://localhost:8080/"
    },
    "id": "Zp7Dh5I7UDot",
    "outputId": "3fcb2ca9-f49b-462d-b632-70651c7fa7b3"
   },
   "outputs": [
    {
     "name": "stdout",
     "output_type": "stream",
     "text": [
      "Model: \"sequential\"\n",
      "_________________________________________________________________\n",
      " Layer (type)                Output Shape              Param #   \n",
      "=================================================================\n",
      " embedding (Embedding)       (None, 500, 16)           160000    \n",
      "                                                                 \n",
      " simple_rnn (SimpleRNN)      (None, 64)                5184      \n",
      "                                                                 \n",
      " dense (Dense)               (None, 64)                4160      \n",
      "                                                                 \n",
      " dense_1 (Dense)             (None, 1)                 65        \n",
      "                                                                 \n",
      "=================================================================\n",
      "Total params: 169,409\n",
      "Trainable params: 169,409\n",
      "Non-trainable params: 0\n",
      "_________________________________________________________________\n"
     ]
    }
   ],
   "source": [
    "# 还是类似于全连接神经网络，只不过改变了内部的运算\n",
    "embedding_dim = 16\n",
    "batch_size = 512  # batch_size大或小的选择，利弊？\n",
    "# 相对于之前主要改的是这里\n",
    "single_rnn_model = keras.models.Sequential([\n",
    "    # 1. define matrix: [vocab_size, embedding_dim]  10000*16\n",
    "    # 2. [1,2,3,4..], max_length * embedding_dim  500*16\n",
    "    # 3. batch_size * max_length * embedding_dim  512*500*16\n",
    "    keras.layers.Embedding(vocab_size, embedding_dim,\n",
    "                           input_length = max_length),  # 10000，16，500\n",
    "    # return_sequences是返回输出序列中的最后一个输出还是完整序列,False就是返回最后一个\n",
    "    keras.layers.SimpleRNN(units = 64, return_sequences = False),\n",
    "    keras.layers.Dense(64, activation = 'relu'),\n",
    "    keras.layers.Dense(1, activation='sigmoid'),\n",
    "])\n",
    "\n",
    "single_rnn_model.summary()\n",
    "single_rnn_model.compile(optimizer = 'adam',\n",
    "                         loss = 'binary_crossentropy',  # 二分类问题 若用它解决多分类呢？->多次二分类\n",
    "                         metrics = ['accuracy'])\n"
   ]
  },
  {
   "cell_type": "code",
   "execution_count": 10,
   "metadata": {
    "colab": {
     "base_uri": "https://localhost:8080/"
    },
    "id": "riN5-SkAUDou",
    "outputId": "b833f99e-12f8-460f-a41e-ad1eb38f091b",
    "scrolled": true
   },
   "outputs": [
    {
     "data": {
      "text/plain": [
       "5184"
      ]
     },
     "execution_count": 10,
     "metadata": {},
     "output_type": "execute_result"
    }
   ],
   "source": [
    "16*64+64*64+64  # 当前状态+前一个状态+偏置"
   ]
  },
  {
   "cell_type": "code",
   "execution_count": 11,
   "metadata": {
    "colab": {
     "base_uri": "https://localhost:8080/"
    },
    "id": "GwuKhdCLUDou",
    "outputId": "967003bb-1445-4737-9009-9d5cbdb13d70"
   },
   "outputs": [
    {
     "data": {
      "text/plain": [
       "4160"
      ]
     },
     "execution_count": 11,
     "metadata": {},
     "output_type": "execute_result"
    }
   ],
   "source": [
    "64*64+64"
   ]
  },
  {
   "cell_type": "code",
   "execution_count": 12,
   "metadata": {
    "colab": {
     "base_uri": "https://localhost:8080/"
    },
    "id": "HK-7F_gdUDov",
    "outputId": "0c20fea7-c443-4ab6-9980-720ef489136f"
   },
   "outputs": [
    {
     "data": {
      "text/plain": [
       "[<tf.Variable 'embedding/embeddings:0' shape=(10000, 16) dtype=float32, numpy=\n",
       " array([[ 0.00172949, -0.03155132, -0.03176705, ..., -0.01218706,\n",
       "         -0.01056673, -0.01327542],\n",
       "        [ 0.04327894, -0.00691332,  0.01458103, ...,  0.04417452,\n",
       "         -0.03650909,  0.02287446],\n",
       "        [-0.0482919 ,  0.00857639, -0.02317165, ..., -0.02825735,\n",
       "         -0.01973406, -0.02649883],\n",
       "        ...,\n",
       "        [-0.04760519, -0.01048294,  0.0478176 , ...,  0.04888568,\n",
       "         -0.006774  , -0.00975468],\n",
       "        [ 0.00233742, -0.00572407, -0.03328405, ...,  0.04605367,\n",
       "          0.03493175, -0.02463394],\n",
       "        [ 0.00632796, -0.03083906, -0.00424059, ...,  0.00834424,\n",
       "          0.0036686 , -0.04434433]], dtype=float32)>,\n",
       " <tf.Variable 'simple_rnn/simple_rnn_cell/kernel:0' shape=(16, 64) dtype=float32, numpy=\n",
       " array([[ 0.15470865,  0.02336088,  0.16596118, ..., -0.10567367,\n",
       "         -0.1119736 ,  0.22972304],\n",
       "        [ 0.24942344, -0.21691617, -0.13659255, ..., -0.16416383,\n",
       "          0.17293042, -0.19308525],\n",
       "        [ 0.03345573, -0.06998725, -0.13626981, ...,  0.17264587,\n",
       "          0.01633796,  0.20297071],\n",
       "        ...,\n",
       "        [ 0.0383504 ,  0.15365338,  0.26858866, ...,  0.1164107 ,\n",
       "         -0.20677406,  0.16064548],\n",
       "        [-0.16992971,  0.06531888, -0.14442623, ...,  0.0638904 ,\n",
       "         -0.12273946,  0.02158704],\n",
       "        [-0.23528379,  0.05151215, -0.24735548, ...,  0.13763979,\n",
       "         -0.06299235,  0.09579769]], dtype=float32)>,\n",
       " <tf.Variable 'simple_rnn/simple_rnn_cell/recurrent_kernel:0' shape=(64, 64) dtype=float32, numpy=\n",
       " array([[-0.06378472,  0.05898497,  0.15100737, ...,  0.14014399,\n",
       "         -0.19045982,  0.02725811],\n",
       "        [ 0.1208692 , -0.05963695,  0.1654576 , ...,  0.06412929,\n",
       "         -0.01096956,  0.15672511],\n",
       "        [-0.04359737, -0.05361785,  0.07656407, ..., -0.11752006,\n",
       "         -0.34360385, -0.0838116 ],\n",
       "        ...,\n",
       "        [ 0.15714069, -0.11984544, -0.00769659, ..., -0.06760837,\n",
       "          0.12692064, -0.18855835],\n",
       "        [-0.15431994,  0.08272731,  0.11913361, ...,  0.04275192,\n",
       "          0.04987108, -0.09908425],\n",
       "        [ 0.08600868, -0.01717969,  0.1320997 , ..., -0.07504033,\n",
       "          0.12031027, -0.28655025]], dtype=float32)>,\n",
       " <tf.Variable 'simple_rnn/simple_rnn_cell/bias:0' shape=(64,) dtype=float32, numpy=\n",
       " array([0., 0., 0., 0., 0., 0., 0., 0., 0., 0., 0., 0., 0., 0., 0., 0., 0.,\n",
       "        0., 0., 0., 0., 0., 0., 0., 0., 0., 0., 0., 0., 0., 0., 0., 0., 0.,\n",
       "        0., 0., 0., 0., 0., 0., 0., 0., 0., 0., 0., 0., 0., 0., 0., 0., 0.,\n",
       "        0., 0., 0., 0., 0., 0., 0., 0., 0., 0., 0., 0., 0.], dtype=float32)>,\n",
       " <tf.Variable 'dense/kernel:0' shape=(64, 64) dtype=float32, numpy=\n",
       " array([[ 0.17057069, -0.09273837,  0.1966288 , ...,  0.00598353,\n",
       "          0.18372123,  0.20906277],\n",
       "        [-0.1838324 , -0.20240973,  0.03658424, ..., -0.0700129 ,\n",
       "         -0.17540662,  0.02106665],\n",
       "        [-0.18588546,  0.1728871 ,  0.00220026, ..., -0.17762047,\n",
       "         -0.08027689,  0.14230354],\n",
       "        ...,\n",
       "        [ 0.15155698, -0.1663167 , -0.01913372, ...,  0.07419808,\n",
       "          0.07945652, -0.20387541],\n",
       "        [ 0.13720386, -0.03265984,  0.09601499, ..., -0.03756887,\n",
       "         -0.19040982, -0.06082107],\n",
       "        [ 0.01319261,  0.12027268,  0.03624932, ..., -0.16615668,\n",
       "          0.01392385,  0.1804115 ]], dtype=float32)>,\n",
       " <tf.Variable 'dense/bias:0' shape=(64,) dtype=float32, numpy=\n",
       " array([0., 0., 0., 0., 0., 0., 0., 0., 0., 0., 0., 0., 0., 0., 0., 0., 0.,\n",
       "        0., 0., 0., 0., 0., 0., 0., 0., 0., 0., 0., 0., 0., 0., 0., 0., 0.,\n",
       "        0., 0., 0., 0., 0., 0., 0., 0., 0., 0., 0., 0., 0., 0., 0., 0., 0.,\n",
       "        0., 0., 0., 0., 0., 0., 0., 0., 0., 0., 0., 0., 0.], dtype=float32)>,\n",
       " <tf.Variable 'dense_1/kernel:0' shape=(64, 1) dtype=float32, numpy=\n",
       " array([[ 0.13933232],\n",
       "        [-0.0935213 ],\n",
       "        [ 0.0432885 ],\n",
       "        [-0.23404855],\n",
       "        [ 0.17761442],\n",
       "        [-0.07835129],\n",
       "        [ 0.11595461],\n",
       "        [-0.23951498],\n",
       "        [-0.3016401 ],\n",
       "        [-0.20207357],\n",
       "        [ 0.14021382],\n",
       "        [-0.27640066],\n",
       "        [-0.04882932],\n",
       "        [-0.01768863],\n",
       "        [ 0.03745016],\n",
       "        [ 0.14944282],\n",
       "        [ 0.10737953],\n",
       "        [ 0.16793036],\n",
       "        [ 0.24943739],\n",
       "        [ 0.09212869],\n",
       "        [-0.15305722],\n",
       "        [ 0.2642932 ],\n",
       "        [-0.09412049],\n",
       "        [-0.2644622 ],\n",
       "        [-0.12942211],\n",
       "        [ 0.16228724],\n",
       "        [ 0.08320796],\n",
       "        [-0.29271892],\n",
       "        [ 0.20994747],\n",
       "        [ 0.14966884],\n",
       "        [-0.2790073 ],\n",
       "        [ 0.20743847],\n",
       "        [ 0.30074048],\n",
       "        [-0.03481558],\n",
       "        [-0.21121372],\n",
       "        [ 0.2870378 ],\n",
       "        [-0.29372266],\n",
       "        [ 0.21398604],\n",
       "        [ 0.25237817],\n",
       "        [-0.08558924],\n",
       "        [-0.29475844],\n",
       "        [ 0.00313723],\n",
       "        [-0.01695389],\n",
       "        [ 0.16136077],\n",
       "        [ 0.11121333],\n",
       "        [ 0.2868722 ],\n",
       "        [-0.14815368],\n",
       "        [ 0.02173486],\n",
       "        [-0.14751957],\n",
       "        [ 0.07097441],\n",
       "        [ 0.10868657],\n",
       "        [-0.27800238],\n",
       "        [-0.11541711],\n",
       "        [-0.14859235],\n",
       "        [ 0.27605462],\n",
       "        [-0.24043137],\n",
       "        [-0.01140314],\n",
       "        [ 0.17321745],\n",
       "        [ 0.25968152],\n",
       "        [ 0.10618606],\n",
       "        [-0.11629787],\n",
       "        [-0.05619347],\n",
       "        [ 0.14057642],\n",
       "        [ 0.03468627]], dtype=float32)>,\n",
       " <tf.Variable 'dense_1/bias:0' shape=(1,) dtype=float32, numpy=array([0.], dtype=float32)>]"
      ]
     },
     "execution_count": 12,
     "metadata": {},
     "output_type": "execute_result"
    }
   ],
   "source": [
    "single_rnn_model.variables"
   ]
  },
  {
   "cell_type": "code",
   "execution_count": 13,
   "metadata": {
    "colab": {
     "base_uri": "https://localhost:8080/",
     "height": 466
    },
    "id": "LbidGNi4UDov",
    "outputId": "ff5ce480-21fa-4b3e-cca3-7c5bd982166f"
   },
   "outputs": [
    {
     "data": {
      "image/png": "[encoded data removed]",
      "text/plain": [
       "<IPython.core.display.Image object>"
      ]
     },
     "execution_count": 13,
     "metadata": {},
     "output_type": "execute_result"
    }
   ],
   "source": [
    "from tensorflow.keras.utils import plot_model\n",
    "\n",
    "plot_model(single_rnn_model)"
   ]
  },
  {
   "cell_type": "code",
   "execution_count": 14,
   "metadata": {
    "colab": {
     "base_uri": "https://localhost:8080/"
    },
    "id": "zuLt3aJDUDow",
    "outputId": "195f5d57-1181-4755-8044-b7f29c7d2729"
   },
   "outputs": [
    {
     "name": "stdout",
     "output_type": "stream",
     "text": [
      "Epoch 1/30\n",
      "40/40 [==============================] - 34s 739ms/step - loss: 0.6946 - accuracy: 0.5001 - val_loss: 0.6940 - val_accuracy: 0.4938\n",
      "Epoch 2/30\n",
      "40/40 [==============================] - 30s 747ms/step - loss: 0.6954 - accuracy: 0.4968 - val_loss: 0.6932 - val_accuracy: 0.5036\n",
      "Epoch 3/30\n",
      "40/40 [==============================] - 30s 761ms/step - loss: 0.6934 - accuracy: 0.5066 - val_loss: 0.6932 - val_accuracy: 0.5060\n",
      "Epoch 4/30\n",
      "40/40 [==============================] - 30s 753ms/step - loss: 0.6954 - accuracy: 0.4985 - val_loss: 0.6942 - val_accuracy: 0.5144\n",
      "Epoch 5/30\n",
      "40/40 [==============================] - 29s 731ms/step - loss: 0.6995 - accuracy: 0.4965 - val_loss: 0.7245 - val_accuracy: 0.4918\n",
      "Epoch 6/30\n",
      "40/40 [==============================] - 31s 766ms/step - loss: 0.6988 - accuracy: 0.5020 - val_loss: 0.7003 - val_accuracy: 0.5064\n",
      "Epoch 7/30\n",
      "40/40 [==============================] - 30s 738ms/step - loss: 0.6984 - accuracy: 0.4974 - val_loss: 0.6951 - val_accuracy: 0.5068\n",
      "Epoch 8/30\n",
      "40/40 [==============================] - 30s 746ms/step - loss: 0.6966 - accuracy: 0.5078 - val_loss: 0.6938 - val_accuracy: 0.4956\n",
      "Epoch 9/30\n",
      "40/40 [==============================] - 30s 746ms/step - loss: 0.6963 - accuracy: 0.4940 - val_loss: 0.6939 - val_accuracy: 0.4824\n",
      "Epoch 10/30\n",
      "40/40 [==============================] - 30s 752ms/step - loss: 0.6960 - accuracy: 0.4969 - val_loss: 0.6928 - val_accuracy: 0.5124\n",
      "Epoch 11/30\n",
      "40/40 [==============================] - 30s 750ms/step - loss: 0.6959 - accuracy: 0.4980 - val_loss: 0.6952 - val_accuracy: 0.4928\n",
      "Epoch 12/30\n",
      "40/40 [==============================] - 31s 762ms/step - loss: 0.6947 - accuracy: 0.4945 - val_loss: 0.6943 - val_accuracy: 0.4942\n",
      "Epoch 13/30\n",
      "40/40 [==============================] - 31s 768ms/step - loss: 0.6938 - accuracy: 0.5049 - val_loss: 0.6989 - val_accuracy: 0.4902\n",
      "Epoch 14/30\n",
      "40/40 [==============================] - 30s 747ms/step - loss: 0.7002 - accuracy: 0.4996 - val_loss: 0.7386 - val_accuracy: 0.4934\n",
      "Epoch 15/30\n",
      "40/40 [==============================] - 29s 736ms/step - loss: 0.7002 - accuracy: 0.5063 - val_loss: 0.6943 - val_accuracy: 0.5084\n",
      "Epoch 16/30\n",
      "40/40 [==============================] - 30s 754ms/step - loss: 0.6997 - accuracy: 0.4989 - val_loss: 0.7021 - val_accuracy: 0.4924\n",
      "Epoch 17/30\n",
      "40/40 [==============================] - 30s 745ms/step - loss: 0.6959 - accuracy: 0.4967 - val_loss: 0.6982 - val_accuracy: 0.4912\n",
      "Epoch 18/30\n",
      "40/40 [==============================] - 30s 753ms/step - loss: 0.6962 - accuracy: 0.5005 - val_loss: 0.6948 - val_accuracy: 0.4984\n",
      "Epoch 19/30\n",
      "40/40 [==============================] - 30s 738ms/step - loss: 0.6966 - accuracy: 0.4972 - val_loss: 0.6943 - val_accuracy: 0.4962\n",
      "Epoch 20/30\n",
      "40/40 [==============================] - 29s 737ms/step - loss: 0.6944 - accuracy: 0.5039 - val_loss: 0.6941 - val_accuracy: 0.4800\n",
      "Epoch 21/30\n",
      "40/40 [==============================] - 29s 735ms/step - loss: 0.6942 - accuracy: 0.5061 - val_loss: 0.6986 - val_accuracy: 0.4920\n",
      "Epoch 22/30\n",
      "40/40 [==============================] - 29s 736ms/step - loss: 0.6972 - accuracy: 0.4974 - val_loss: 0.6935 - val_accuracy: 0.4936\n",
      "Epoch 23/30\n",
      "40/40 [==============================] - 30s 739ms/step - loss: 0.6943 - accuracy: 0.5023 - val_loss: 0.6957 - val_accuracy: 0.4922\n",
      "Epoch 24/30\n",
      "40/40 [==============================] - 29s 733ms/step - loss: 0.6937 - accuracy: 0.4992 - val_loss: 0.6933 - val_accuracy: 0.5024\n",
      "Epoch 25/30\n",
      "40/40 [==============================] - 29s 735ms/step - loss: 0.6942 - accuracy: 0.5024 - val_loss: 0.6938 - val_accuracy: 0.4944\n",
      "Epoch 26/30\n",
      "40/40 [==============================] - 30s 740ms/step - loss: 0.6938 - accuracy: 0.5094 - val_loss: 0.6985 - val_accuracy: 0.4938\n",
      "Epoch 27/30\n",
      "40/40 [==============================] - 30s 743ms/step - loss: 0.6934 - accuracy: 0.5067 - val_loss: 0.6934 - val_accuracy: 0.4856\n",
      "Epoch 28/30\n",
      "40/40 [==============================] - 29s 734ms/step - loss: 0.6940 - accuracy: 0.4995 - val_loss: 0.6930 - val_accuracy: 0.5064\n",
      "Epoch 29/30\n",
      "40/40 [==============================] - 29s 736ms/step - loss: 0.6949 - accuracy: 0.5062 - val_loss: 0.6933 - val_accuracy: 0.5022\n",
      "Epoch 30/30\n",
      "40/40 [==============================] - 30s 744ms/step - loss: 0.6938 - accuracy: 0.5037 - val_loss: 0.6989 - val_accuracy: 0.4914\n"
     ]
    }
   ],
   "source": [
    "history_single_rnn = single_rnn_model.fit(\n",
    "    train_data, train_labels,\n",
    "    epochs = 30,\n",
    "    batch_size = batch_size,\n",
    "    # 我们这里和之前不一样，没有验证集，所以分20%给验证集\n",
    "    validation_split = 0.2)\n"
   ]
  },
  {
   "cell_type": "code",
   "execution_count": 15,
   "metadata": {
    "colab": {
     "base_uri": "https://localhost:8080/",
     "height": 631
    },
    "id": "0SK8AIgNUDow",
    "outputId": "4de3537a-58f5-4542-fa5d-cc8f77ea213e"
   },
   "outputs": [
    {
     "data": {
      "image/png": "[encoded data removed]",
      "text/plain": [
       "<Figure size 576x360 with 1 Axes>"
      ]
     },
     "metadata": {
      "needs_background": "light"
     },
     "output_type": "display_data"
    },
    {
     "data": {
      "image/png": "[encoded data removed]",
      "text/plain": [
       "<Figure size 576x360 with 1 Axes>"
      ]
     },
     "metadata": {
      "needs_background": "light"
     },
     "output_type": "display_data"
    }
   ],
   "source": [
    "def plot_learning_curves(history, label, epochs, min_value, max_value):\n",
    "    data = {}\n",
    "    data[label] = history.history[label]\n",
    "    data['val_'+label] = history.history['val_'+label]\n",
    "    pd.DataFrame(data).plot(figsize=(8, 5))\n",
    "    plt.grid(True)\n",
    "    plt.axis([0, epochs, min_value, max_value])\n",
    "    plt.show()\n",
    "    \n",
    "plot_learning_curves(history_single_rnn, 'accuracy', 30, 0, 1)\n",
    "plot_learning_curves(history_single_rnn, 'loss', 30, 0, 1)"
   ]
  },
  {
   "cell_type": "code",
   "execution_count": 16,
   "metadata": {
    "colab": {
     "base_uri": "https://localhost:8080/"
    },
    "id": "B6-IfgQVUDow",
    "outputId": "f0eccb61-2f8c-4084-abaa-d6bdb64fc4f4"
   },
   "outputs": [
    {
     "data": {
      "text/plain": [
       "[0.6976284980773926, 0.49744001030921936]"
      ]
     },
     "execution_count": 16,
     "metadata": {},
     "output_type": "execute_result"
    }
   ],
   "source": [
    "single_rnn_model.evaluate(\n",
    "    test_data, test_labels,\n",
    "    batch_size = batch_size,\n",
    "    verbose = 0)"
   ]
  },
  {
   "cell_type": "code",
   "execution_count": 17,
   "metadata": {
    "colab": {
     "base_uri": "https://localhost:8080/"
    },
    "id": "MOKp0pUaUDow",
    "outputId": "af3ec002-81de-4a7a-f3c4-9b4d1289e623"
   },
   "outputs": [
    {
     "name": "stdout",
     "output_type": "stream",
     "text": [
      "Model: \"sequential_1\"\n",
      "_________________________________________________________________\n",
      " Layer (type)                Output Shape              Param #   \n",
      "=================================================================\n",
      " embedding_1 (Embedding)     (None, 500, 16)           160000    \n",
      "                                                                 \n",
      " bidirectional (Bidirectiona  (None, 500, 128)         10368     \n",
      " l)                                                              \n",
      "                                                                 \n",
      " bidirectional_1 (Bidirectio  (None, 128)              24704     \n",
      " nal)                                                            \n",
      "                                                                 \n",
      " dense_2 (Dense)             (None, 64)                8256      \n",
      "                                                                 \n",
      " dense_3 (Dense)             (None, 1)                 65        \n",
      "                                                                 \n",
      "=================================================================\n",
      "Total params: 203,393\n",
      "Trainable params: 203,393\n",
      "Non-trainable params: 0\n",
      "_________________________________________________________________\n"
     ]
    }
   ],
   "source": [
    "# 如果我们实现双向的rnn是不是会好一些\n",
    "embedding_dim = 16\n",
    "batch_size = 512\n",
    "\n",
    "model = keras.models.Sequential([\n",
    "    # 1. define matrix: [vocab_size, embedding_dim]\n",
    "    # 2. [1,2,3,4..], max_length * embedding_dim\n",
    "    # 3. batch_size * max_length * embedding_dim\n",
    "    keras.layers.Embedding(vocab_size, embedding_dim,\n",
    "                           input_length = max_length),\n",
    "    # Bidirectional代表双向rnn，前面的计算会受到后面样本的影响\n",
    "    # 双向双层\n",
    "    keras.layers.Bidirectional(\n",
    "        keras.layers.SimpleRNN(\n",
    "            units = 64, return_sequences = True)),  # 这个为什么是True？下面还有一层，如果写成False的话，下一层输入就不是一个seq了\n",
    "    keras.layers.Bidirectional(\n",
    "        keras.layers.SimpleRNN(\n",
    "            units = 64, return_sequences = False)),\n",
    "    keras.layers.Dense(64, activation = 'relu'),\n",
    "    keras.layers.Dense(1, activation='sigmoid'),\n",
    "])\n",
    "\n",
    "model.summary()\n",
    "model.compile(optimizer = 'adam',\n",
    "              # 当只有两个标签类别（假定为0和1）时，使用此交叉熵损失\n",
    "              loss = 'binary_crossentropy',\n",
    "              metrics = ['accuracy'])"
   ]
  },
  {
   "cell_type": "code",
   "execution_count": 18,
   "metadata": {
    "colab": {
     "base_uri": "https://localhost:8080/",
     "height": 564
    },
    "id": "BXcdZ8RdUDox",
    "outputId": "aa64857e-c8d4-4338-965b-f3b473e7453a"
   },
   "outputs": [
    {
     "data": {
      "image/png": "[encoded data removed]",
      "text/plain": [
       "<IPython.core.display.Image object>"
      ]
     },
     "execution_count": 18,
     "metadata": {},
     "output_type": "execute_result"
    }
   ],
   "source": [
    "from tensorflow.keras.utils import plot_model\n",
    "\n",
    "plot_model(model)"
   ]
  },
  {
   "cell_type": "code",
   "execution_count": 19,
   "metadata": {
    "colab": {
     "base_uri": "https://localhost:8080/"
    },
    "id": "9pIBVcWtUDox",
    "outputId": "270d4857-19ed-47a3-9698-3269b2117a18"
   },
   "outputs": [
    {
     "data": {
      "text/plain": [
       "10368"
      ]
     },
     "execution_count": 19,
     "metadata": {},
     "output_type": "execute_result"
    }
   ],
   "source": [
    "(16*64+64*64+64)*2"
   ]
  },
  {
   "cell_type": "code",
   "execution_count": 20,
   "metadata": {
    "colab": {
     "base_uri": "https://localhost:8080/"
    },
    "id": "uVxtDZgbUDox",
    "outputId": "86c97811-f0ed-47c1-9ec5-292dc4639566"
   },
   "outputs": [
    {
     "data": {
      "text/plain": [
       "24704"
      ]
     },
     "execution_count": 20,
     "metadata": {},
     "output_type": "execute_result"
    }
   ],
   "source": [
    "(128*64+64*64+64)*2"
   ]
  },
  {
   "cell_type": "code",
   "execution_count": 21,
   "metadata": {
    "colab": {
     "base_uri": "https://localhost:8080/"
    },
    "id": "0wzlXAG4UDoy",
    "outputId": "a8f6ecfc-956e-4fe2-e384-a057acd0abab"
   },
   "outputs": [
    {
     "data": {
      "text/plain": [
       "[<tf.Variable 'embedding_1/embeddings:0' shape=(10000, 16) dtype=float32, numpy=\n",
       " array([[ 0.02842445,  0.01088173,  0.04559788, ...,  0.04791046,\n",
       "          0.0480943 , -0.00315152],\n",
       "        [ 0.01946757, -0.04401151, -0.04124771, ..., -0.00344541,\n",
       "         -0.0311373 ,  0.02682564],\n",
       "        [-0.03897698, -0.04902573,  0.0111958 , ...,  0.03451497,\n",
       "          0.01955029,  0.00968703],\n",
       "        ...,\n",
       "        [ 0.00492341, -0.04758812, -0.00467341, ..., -0.01590767,\n",
       "         -0.00357714, -0.03810576],\n",
       "        [ 0.01245847, -0.04806328, -0.03645558, ..., -0.01728994,\n",
       "          0.03740131,  0.04597428],\n",
       "        [-0.01010022, -0.00314913,  0.0438638 , ..., -0.03150934,\n",
       "          0.0284618 , -0.02418741]], dtype=float32)>,\n",
       " <tf.Variable 'bidirectional/forward_simple_rnn_1/simple_rnn_cell_2/kernel:0' shape=(16, 64) dtype=float32, numpy=\n",
       " array([[-0.14807424, -0.271761  , -0.27379233, ..., -0.11827984,\n",
       "          0.1406315 ,  0.25382084],\n",
       "        [-0.09628601,  0.05849493, -0.15137404, ..., -0.21331406,\n",
       "         -0.26279357, -0.04383716],\n",
       "        [ 0.19837195, -0.22949506, -0.03826924, ..., -0.2089723 ,\n",
       "          0.07945007,  0.09417802],\n",
       "        ...,\n",
       "        [-0.04748407,  0.13402885, -0.07793583, ...,  0.14986217,\n",
       "         -0.08921452,  0.05187324],\n",
       "        [-0.03094383,  0.11789924, -0.06705557, ...,  0.029769  ,\n",
       "          0.24147409,  0.24426705],\n",
       "        [-0.04087028, -0.18046993,  0.21090493, ..., -0.08752382,\n",
       "         -0.07539141,  0.16485241]], dtype=float32)>,\n",
       " <tf.Variable 'bidirectional/forward_simple_rnn_1/simple_rnn_cell_2/recurrent_kernel:0' shape=(64, 64) dtype=float32, numpy=\n",
       " array([[ 0.0375371 ,  0.00760181, -0.06318012, ..., -0.21585745,\n",
       "         -0.05762956,  0.27724448],\n",
       "        [ 0.07684499, -0.05397975, -0.10777598, ..., -0.01169122,\n",
       "         -0.01227513,  0.07193402],\n",
       "        [ 0.15466568,  0.19297256,  0.04886615, ...,  0.05804287,\n",
       "          0.04160458,  0.1549826 ],\n",
       "        ...,\n",
       "        [-0.02407035,  0.17484123,  0.04688316, ..., -0.15369661,\n",
       "         -0.01853942, -0.01617019],\n",
       "        [-0.14623939,  0.0226518 ,  0.1043881 , ...,  0.17276344,\n",
       "         -0.06421888, -0.04559722],\n",
       "        [ 0.04184008,  0.00221211,  0.1547122 , ...,  0.03102421,\n",
       "          0.18573089, -0.00675301]], dtype=float32)>,\n",
       " <tf.Variable 'bidirectional/forward_simple_rnn_1/simple_rnn_cell_2/bias:0' shape=(64,) dtype=float32, numpy=\n",
       " array([0., 0., 0., 0., 0., 0., 0., 0., 0., 0., 0., 0., 0., 0., 0., 0., 0.,\n",
       "        0., 0., 0., 0., 0., 0., 0., 0., 0., 0., 0., 0., 0., 0., 0., 0., 0.,\n",
       "        0., 0., 0., 0., 0., 0., 0., 0., 0., 0., 0., 0., 0., 0., 0., 0., 0.,\n",
       "        0., 0., 0., 0., 0., 0., 0., 0., 0., 0., 0., 0., 0.], dtype=float32)>,\n",
       " <tf.Variable 'bidirectional/backward_simple_rnn_1/simple_rnn_cell_3/kernel:0' shape=(16, 64) dtype=float32, numpy=\n",
       " array([[-0.01472494, -0.22282675, -0.17537677, ...,  0.15228948,\n",
       "         -0.02704279, -0.10397565],\n",
       "        [ 0.12826735,  0.06906196,  0.05646718, ...,  0.04590547,\n",
       "          0.18278459,  0.1417523 ],\n",
       "        [-0.11898273,  0.04226333,  0.14602166, ...,  0.20234367,\n",
       "         -0.12508991,  0.20126411],\n",
       "        ...,\n",
       "        [-0.05191267, -0.23036242,  0.16202193, ...,  0.03433433,\n",
       "          0.03504255, -0.04403865],\n",
       "        [ 0.12201294, -0.21097061, -0.08621827, ..., -0.2639236 ,\n",
       "          0.257393  , -0.22459875],\n",
       "        [ 0.01061466,  0.1063005 , -0.00134212, ..., -0.09889156,\n",
       "         -0.11900428, -0.23019664]], dtype=float32)>,\n",
       " <tf.Variable 'bidirectional/backward_simple_rnn_1/simple_rnn_cell_3/recurrent_kernel:0' shape=(64, 64) dtype=float32, numpy=\n",
       " array([[-0.04361594, -0.03018988,  0.02158639, ..., -0.10140836,\n",
       "         -0.13563396, -0.09807681],\n",
       "        [ 0.00134988,  0.08568811, -0.12494867, ...,  0.0153362 ,\n",
       "          0.09553155,  0.0027067 ],\n",
       "        [-0.15272012, -0.0341099 ,  0.00926733, ..., -0.11959266,\n",
       "          0.01429933,  0.08664225],\n",
       "        ...,\n",
       "        [-0.05187481, -0.14439572, -0.08620618, ..., -0.08385658,\n",
       "         -0.14270979,  0.01696894],\n",
       "        [-0.07496249, -0.04153072, -0.04414239, ...,  0.00429715,\n",
       "          0.01116612,  0.00567842],\n",
       "        [ 0.07381339,  0.07921918,  0.07855803, ...,  0.03932514,\n",
       "          0.10472074,  0.13098672]], dtype=float32)>,\n",
       " <tf.Variable 'bidirectional/backward_simple_rnn_1/simple_rnn_cell_3/bias:0' shape=(64,) dtype=float32, numpy=\n",
       " array([0., 0., 0., 0., 0., 0., 0., 0., 0., 0., 0., 0., 0., 0., 0., 0., 0.,\n",
       "        0., 0., 0., 0., 0., 0., 0., 0., 0., 0., 0., 0., 0., 0., 0., 0., 0.,\n",
       "        0., 0., 0., 0., 0., 0., 0., 0., 0., 0., 0., 0., 0., 0., 0., 0., 0.,\n",
       "        0., 0., 0., 0., 0., 0., 0., 0., 0., 0., 0., 0., 0.], dtype=float32)>,\n",
       " <tf.Variable 'bidirectional_1/forward_simple_rnn_2/simple_rnn_cell_5/kernel:0' shape=(128, 64) dtype=float32, numpy=\n",
       " array([[-0.00179432, -0.10295914,  0.03113134, ..., -0.01053676,\n",
       "         -0.01521374, -0.1364478 ],\n",
       "        [-0.03945337, -0.0079405 , -0.16478777, ..., -0.1668683 ,\n",
       "         -0.09680891, -0.16918226],\n",
       "        [ 0.0452414 ,  0.09096102,  0.01852059, ..., -0.00845778,\n",
       "          0.126388  , -0.08876859],\n",
       "        ...,\n",
       "        [-0.0826404 , -0.10051247, -0.16497988, ..., -0.14115477,\n",
       "          0.12412651,  0.1296754 ],\n",
       "        [ 0.16415907,  0.0155956 , -0.14931752, ..., -0.05250204,\n",
       "         -0.00812949,  0.14380588],\n",
       "        [ 0.10517003,  0.08641891,  0.15646861, ..., -0.03882429,\n",
       "          0.02167308, -0.17022909]], dtype=float32)>,\n",
       " <tf.Variable 'bidirectional_1/forward_simple_rnn_2/simple_rnn_cell_5/recurrent_kernel:0' shape=(64, 64) dtype=float32, numpy=\n",
       " array([[-0.12848413,  0.09685192,  0.13838378, ...,  0.1801849 ,\n",
       "         -0.05191687, -0.15446313],\n",
       "        [-0.13009134, -0.06426942,  0.00955884, ...,  0.14012364,\n",
       "          0.04572096,  0.12764418],\n",
       "        [ 0.04342624,  0.19445454, -0.05112493, ..., -0.16735986,\n",
       "          0.14583595,  0.15994166],\n",
       "        ...,\n",
       "        [-0.08479359,  0.14343818, -0.06095085, ...,  0.08011629,\n",
       "         -0.14625828, -0.04485214],\n",
       "        [ 0.12925972,  0.12109427,  0.09697939, ...,  0.07619632,\n",
       "         -0.22094204, -0.12982443],\n",
       "        [ 0.03065104, -0.20764275, -0.09460646, ..., -0.30818084,\n",
       "          0.10605798, -0.01149865]], dtype=float32)>,\n",
       " <tf.Variable 'bidirectional_1/forward_simple_rnn_2/simple_rnn_cell_5/bias:0' shape=(64,) dtype=float32, numpy=\n",
       " array([0., 0., 0., 0., 0., 0., 0., 0., 0., 0., 0., 0., 0., 0., 0., 0., 0.,\n",
       "        0., 0., 0., 0., 0., 0., 0., 0., 0., 0., 0., 0., 0., 0., 0., 0., 0.,\n",
       "        0., 0., 0., 0., 0., 0., 0., 0., 0., 0., 0., 0., 0., 0., 0., 0., 0.,\n",
       "        0., 0., 0., 0., 0., 0., 0., 0., 0., 0., 0., 0., 0.], dtype=float32)>,\n",
       " <tf.Variable 'bidirectional_1/backward_simple_rnn_2/simple_rnn_cell_6/kernel:0' shape=(128, 64) dtype=float32, numpy=\n",
       " array([[ 0.17413352, -0.03704412, -0.02613808, ...,  0.02172564,\n",
       "         -0.15455535, -0.09854957],\n",
       "        [-0.11379974, -0.03325416, -0.13244048, ...,  0.11844979,\n",
       "         -0.11778969,  0.01682582],\n",
       "        [-0.04873654, -0.14191422, -0.0479414 , ..., -0.0044218 ,\n",
       "          0.0022621 , -0.00373514],\n",
       "        ...,\n",
       "        [-0.00432047,  0.12218021, -0.12010777, ..., -0.09030771,\n",
       "         -0.14560455, -0.1515095 ],\n",
       "        [ 0.15660886, -0.02900314, -0.11156899, ..., -0.04974778,\n",
       "          0.13740973, -0.00333929],\n",
       "        [ 0.04510854,  0.06201318, -0.17504889, ..., -0.05457536,\n",
       "          0.04369709,  0.15765415]], dtype=float32)>,\n",
       " <tf.Variable 'bidirectional_1/backward_simple_rnn_2/simple_rnn_cell_6/recurrent_kernel:0' shape=(64, 64) dtype=float32, numpy=\n",
       " array([[ 0.22850347, -0.05912561,  0.03501359, ..., -0.03764663,\n",
       "          0.10239276,  0.02934173],\n",
       "        [ 0.06027536, -0.04320538, -0.11613585, ..., -0.11683825,\n",
       "         -0.22961575,  0.03268575],\n",
       "        [ 0.04774626,  0.28202704, -0.18764412, ..., -0.14078215,\n",
       "          0.17325383, -0.07558411],\n",
       "        ...,\n",
       "        [-0.3723484 , -0.07619829,  0.0192016 , ...,  0.18001106,\n",
       "         -0.07999085,  0.01974189],\n",
       "        [ 0.20196998, -0.00364869,  0.13878639, ...,  0.01558874,\n",
       "          0.00591391, -0.11940581],\n",
       "        [ 0.15995415,  0.26105267,  0.02181544, ...,  0.25681624,\n",
       "         -0.1005519 ,  0.07865156]], dtype=float32)>,\n",
       " <tf.Variable 'bidirectional_1/backward_simple_rnn_2/simple_rnn_cell_6/bias:0' shape=(64,) dtype=float32, numpy=\n",
       " array([0., 0., 0., 0., 0., 0., 0., 0., 0., 0., 0., 0., 0., 0., 0., 0., 0.,\n",
       "        0., 0., 0., 0., 0., 0., 0., 0., 0., 0., 0., 0., 0., 0., 0., 0., 0.,\n",
       "        0., 0., 0., 0., 0., 0., 0., 0., 0., 0., 0., 0., 0., 0., 0., 0., 0.,\n",
       "        0., 0., 0., 0., 0., 0., 0., 0., 0., 0., 0., 0., 0.], dtype=float32)>,\n",
       " <tf.Variable 'dense_2/kernel:0' shape=(128, 64) dtype=float32, numpy=\n",
       " array([[ 0.08668478, -0.10747467,  0.03460661, ..., -0.12740734,\n",
       "         -0.08315211, -0.0280623 ],\n",
       "        [-0.10447445, -0.03697872,  0.06134938, ...,  0.07142723,\n",
       "          0.0572596 ,  0.03345372],\n",
       "        [-0.12135722,  0.12733887,  0.01066428, ...,  0.03563938,\n",
       "         -0.06746665,  0.03851619],\n",
       "        ...,\n",
       "        [ 0.0460743 , -0.03635752,  0.14372973, ..., -0.08305386,\n",
       "          0.1626813 , -0.13772145],\n",
       "        [-0.0890726 ,  0.03587581,  0.04469632, ..., -0.14437239,\n",
       "         -0.1245538 , -0.01918478],\n",
       "        [-0.13571921, -0.0832791 , -0.07881452, ..., -0.16523553,\n",
       "          0.15591155, -0.07433482]], dtype=float32)>,\n",
       " <tf.Variable 'dense_2/bias:0' shape=(64,) dtype=float32, numpy=\n",
       " array([0., 0., 0., 0., 0., 0., 0., 0., 0., 0., 0., 0., 0., 0., 0., 0., 0.,\n",
       "        0., 0., 0., 0., 0., 0., 0., 0., 0., 0., 0., 0., 0., 0., 0., 0., 0.,\n",
       "        0., 0., 0., 0., 0., 0., 0., 0., 0., 0., 0., 0., 0., 0., 0., 0., 0.,\n",
       "        0., 0., 0., 0., 0., 0., 0., 0., 0., 0., 0., 0., 0.], dtype=float32)>,\n",
       " <tf.Variable 'dense_3/kernel:0' shape=(64, 1) dtype=float32, numpy=\n",
       " array([[ 0.0546875 ],\n",
       "        [ 0.011152  ],\n",
       "        [ 0.29657805],\n",
       "        [ 0.23104167],\n",
       "        [ 0.09670871],\n",
       "        [-0.00152168],\n",
       "        [-0.13936804],\n",
       "        [-0.06512275],\n",
       "        [ 0.13933328],\n",
       "        [-0.16750139],\n",
       "        [ 0.1271492 ],\n",
       "        [-0.26676714],\n",
       "        [ 0.29467976],\n",
       "        [ 0.10937327],\n",
       "        [ 0.14791608],\n",
       "        [-0.013877  ],\n",
       "        [-0.28482547],\n",
       "        [ 0.04847947],\n",
       "        [ 0.03010073],\n",
       "        [ 0.14544845],\n",
       "        [-0.05731776],\n",
       "        [ 0.15265569],\n",
       "        [ 0.15667066],\n",
       "        [ 0.04074648],\n",
       "        [-0.19402549],\n",
       "        [ 0.27279586],\n",
       "        [-0.0159024 ],\n",
       "        [ 0.14004257],\n",
       "        [-0.15043485],\n",
       "        [-0.20725265],\n",
       "        [-0.09814066],\n",
       "        [ 0.04626492],\n",
       "        [-0.01550704],\n",
       "        [-0.13848148],\n",
       "        [ 0.22610855],\n",
       "        [ 0.20435035],\n",
       "        [ 0.18791372],\n",
       "        [ 0.20895904],\n",
       "        [ 0.22026873],\n",
       "        [-0.08117205],\n",
       "        [-0.22504756],\n",
       "        [-0.17717576],\n",
       "        [-0.03655544],\n",
       "        [-0.30152977],\n",
       "        [ 0.22266364],\n",
       "        [ 0.12293488],\n",
       "        [ 0.17624524],\n",
       "        [ 0.15293175],\n",
       "        [-0.24488704],\n",
       "        [-0.07177556],\n",
       "        [ 0.11903179],\n",
       "        [-0.27594125],\n",
       "        [-0.03189903],\n",
       "        [ 0.04009643],\n",
       "        [-0.14476588],\n",
       "        [-0.18739861],\n",
       "        [-0.08744182],\n",
       "        [ 0.04585624],\n",
       "        [-0.00750241],\n",
       "        [ 0.00580719],\n",
       "        [ 0.27345282],\n",
       "        [-0.01562259],\n",
       "        [-0.18509135],\n",
       "        [ 0.00754973]], dtype=float32)>,\n",
       " <tf.Variable 'dense_3/bias:0' shape=(1,) dtype=float32, numpy=array([0.], dtype=float32)>]"
      ]
     },
     "execution_count": 21,
     "metadata": {},
     "output_type": "execute_result"
    }
   ],
   "source": [
    "model.variables"
   ]
  },
  {
   "cell_type": "code",
   "execution_count": 22,
   "metadata": {
    "colab": {
     "base_uri": "https://localhost:8080/"
    },
    "id": "qeu_rOkeUDo0",
    "outputId": "4ae80970-e960-411b-837b-34a8bca3f29b"
   },
   "outputs": [
    {
     "name": "stdout",
     "output_type": "stream",
     "text": [
      "Epoch 1/30\n",
      "40/40 [==============================] - 120s 3s/step - loss: 0.6952 - accuracy: 0.5046 - val_loss: 0.6964 - val_accuracy: 0.4938\n",
      "Epoch 2/30\n",
      "40/40 [==============================] - 116s 3s/step - loss: 0.6949 - accuracy: 0.5311 - val_loss: 0.7339 - val_accuracy: 0.5090\n",
      "Epoch 3/30\n",
      "40/40 [==============================] - 115s 3s/step - loss: 0.6694 - accuracy: 0.5892 - val_loss: 0.6901 - val_accuracy: 0.5536\n",
      "Epoch 4/30\n",
      "40/40 [==============================] - 116s 3s/step - loss: 0.6052 - accuracy: 0.6725 - val_loss: 0.7117 - val_accuracy: 0.5632\n",
      "Epoch 5/30\n",
      "40/40 [==============================] - 117s 3s/step - loss: 0.5240 - accuracy: 0.7406 - val_loss: 0.8217 - val_accuracy: 0.5496\n",
      "Epoch 6/30\n",
      "40/40 [==============================] - 116s 3s/step - loss: 0.4289 - accuracy: 0.8054 - val_loss: 0.8303 - val_accuracy: 0.5658\n",
      "Epoch 7/30\n",
      "40/40 [==============================] - 114s 3s/step - loss: 0.3538 - accuracy: 0.8478 - val_loss: 1.0346 - val_accuracy: 0.5522\n",
      "Epoch 8/30\n",
      "40/40 [==============================] - 113s 3s/step - loss: 0.2605 - accuracy: 0.8964 - val_loss: 1.1782 - val_accuracy: 0.5752\n",
      "Epoch 9/30\n",
      "40/40 [==============================] - 114s 3s/step - loss: 0.2417 - accuracy: 0.9043 - val_loss: 1.1179 - val_accuracy: 0.5602\n",
      "Epoch 10/30\n",
      "40/40 [==============================] - 113s 3s/step - loss: 0.1602 - accuracy: 0.9401 - val_loss: 1.4186 - val_accuracy: 0.5760\n",
      "Epoch 11/30\n",
      "40/40 [==============================] - 112s 3s/step - loss: 0.0872 - accuracy: 0.9724 - val_loss: 1.6364 - val_accuracy: 0.5798\n",
      "Epoch 12/30\n",
      "40/40 [==============================] - 115s 3s/step - loss: 0.0558 - accuracy: 0.9837 - val_loss: 1.8596 - val_accuracy: 0.5834\n",
      "Epoch 13/30\n",
      "40/40 [==============================] - 114s 3s/step - loss: 0.0345 - accuracy: 0.9900 - val_loss: 2.1762 - val_accuracy: 0.5750\n",
      "Epoch 14/30\n",
      "40/40 [==============================] - 113s 3s/step - loss: 0.0204 - accuracy: 0.9947 - val_loss: 2.2499 - val_accuracy: 0.5880\n",
      "Epoch 15/30\n",
      "40/40 [==============================] - 112s 3s/step - loss: 0.0149 - accuracy: 0.9964 - val_loss: 2.3925 - val_accuracy: 0.5828\n",
      "Epoch 16/30\n",
      "40/40 [==============================] - 112s 3s/step - loss: 0.0154 - accuracy: 0.9950 - val_loss: 2.6543 - val_accuracy: 0.5794\n",
      "Epoch 17/30\n",
      "40/40 [==============================] - 111s 3s/step - loss: 0.0154 - accuracy: 0.9952 - val_loss: 2.6892 - val_accuracy: 0.5794\n",
      "Epoch 18/30\n",
      "40/40 [==============================] - 112s 3s/step - loss: 0.0287 - accuracy: 0.9906 - val_loss: 2.4325 - val_accuracy: 0.5834\n",
      "Epoch 19/30\n",
      "40/40 [==============================] - 112s 3s/step - loss: 0.0135 - accuracy: 0.9957 - val_loss: 2.5883 - val_accuracy: 0.5788\n",
      "Epoch 20/30\n",
      "40/40 [==============================] - 110s 3s/step - loss: 0.0307 - accuracy: 0.9898 - val_loss: 2.5512 - val_accuracy: 0.5824\n",
      "Epoch 21/30\n",
      "40/40 [==============================] - 111s 3s/step - loss: 0.0095 - accuracy: 0.9972 - val_loss: 2.6560 - val_accuracy: 0.5910\n",
      "Epoch 22/30\n",
      "40/40 [==============================] - 114s 3s/step - loss: 0.0030 - accuracy: 0.9995 - val_loss: 2.8742 - val_accuracy: 0.5876\n",
      "Epoch 23/30\n",
      "40/40 [==============================] - 113s 3s/step - loss: 0.0017 - accuracy: 0.9998 - val_loss: 2.9400 - val_accuracy: 0.5880\n",
      "Epoch 24/30\n",
      "40/40 [==============================] - 115s 3s/step - loss: 0.0013 - accuracy: 0.9998 - val_loss: 3.0283 - val_accuracy: 0.5874\n",
      "Epoch 25/30\n",
      "40/40 [==============================] - 113s 3s/step - loss: 0.0010 - accuracy: 0.9998 - val_loss: 3.0552 - val_accuracy: 0.5894\n",
      "Epoch 26/30\n",
      "40/40 [==============================] - 114s 3s/step - loss: 9.2802e-04 - accuracy: 0.9998 - val_loss: 3.0993 - val_accuracy: 0.5880\n",
      "Epoch 27/30\n",
      "40/40 [==============================] - 116s 3s/step - loss: 9.2241e-04 - accuracy: 0.9998 - val_loss: 3.1259 - val_accuracy: 0.5878\n",
      "Epoch 28/30\n",
      "40/40 [==============================] - 115s 3s/step - loss: 7.7767e-04 - accuracy: 0.9998 - val_loss: 3.1464 - val_accuracy: 0.5904\n",
      "Epoch 29/30\n",
      "40/40 [==============================] - 115s 3s/step - loss: 7.6958e-04 - accuracy: 0.9998 - val_loss: 3.1939 - val_accuracy: 0.5900\n",
      "Epoch 30/30\n",
      "40/40 [==============================] - 114s 3s/step - loss: 4.7677e-04 - accuracy: 0.9998 - val_loss: 3.2427 - val_accuracy: 0.5852\n"
     ]
    }
   ],
   "source": [
    "history = model.fit(\n",
    "    train_data, train_labels,\n",
    "    epochs = 30,\n",
    "    batch_size = batch_size,\n",
    "    validation_split = 0.2)\n"
   ]
  },
  {
   "cell_type": "code",
   "execution_count": 23,
   "metadata": {
    "colab": {
     "base_uri": "https://localhost:8080/",
     "height": 627
    },
    "id": "AcDMgEqpUDo0",
    "outputId": "6d7d196d-1619-4895-9a20-b37debd30710"
   },
   "outputs": [
    {
     "data": {
      "image/png": "[encoded data removed]",
      "text/plain": [
       "<Figure size 576x360 with 1 Axes>"
      ]
     },
     "metadata": {
      "needs_background": "light"
     },
     "output_type": "display_data"
    },
    {
     "data": {
      "image/png": "[encoded data removed]",
      "text/plain": [
       "<Figure size 576x360 with 1 Axes>"
      ]
     },
     "metadata": {
      "needs_background": "light"
     },
     "output_type": "display_data"
    }
   ],
   "source": [
    "plot_learning_curves(history, 'accuracy', 30, 0, 1)\n",
    "plot_learning_curves(history, 'loss', 30, 0, 3.8)\n",
    "# 我们发现过拟合了，可能是模型太复杂了，我们改为单层的rnn"
   ]
  },
  {
   "cell_type": "code",
   "execution_count": 24,
   "metadata": {
    "colab": {
     "base_uri": "https://localhost:8080/"
    },
    "id": "INi9bR-VUDo1",
    "outputId": "0c1feddf-58e6-40e5-91a2-3f6dba5fcf6a"
   },
   "outputs": [
    {
     "name": "stdout",
     "output_type": "stream",
     "text": [
      "Model: \"sequential_2\"\n",
      "_________________________________________________________________\n",
      " Layer (type)                Output Shape              Param #   \n",
      "=================================================================\n",
      " embedding_2 (Embedding)     (None, 500, 16)           160000    \n",
      "                                                                 \n",
      " bidirectional_2 (Bidirectio  (None, 64)               3136      \n",
      " nal)                                                            \n",
      "                                                                 \n",
      " dense_4 (Dense)             (None, 32)                2080      \n",
      "                                                                 \n",
      " dense_5 (Dense)             (None, 1)                 33        \n",
      "                                                                 \n",
      "=================================================================\n",
      "Total params: 165,249\n",
      "Trainable params: 165,249\n",
      "Non-trainable params: 0\n",
      "_________________________________________________________________\n"
     ]
    }
   ],
   "source": [
    "embedding_dim = 16\n",
    "batch_size = 512\n",
    "\n",
    "bi_rnn_model = keras.models.Sequential([\n",
    "    # 1. define matrix: [vocab_size, embedding_dim]\n",
    "    # 2. [1,2,3,4..], max_length * embedding_dim\n",
    "    # 3. batch_size * max_length * embedding_dim\n",
    "    keras.layers.Embedding(vocab_size, embedding_dim,\n",
    "                           input_length = max_length),\n",
    "    keras.layers.Bidirectional(\n",
    "        keras.layers.SimpleRNN(\n",
    "            units = 32, return_sequences = False)),\n",
    "    keras.layers.Dense(32, activation = 'relu'),\n",
    "    keras.layers.Dense(1, activation='sigmoid'),\n",
    "])\n",
    "\n",
    "bi_rnn_model.summary()\n",
    "bi_rnn_model.compile(optimizer = 'adam',\n",
    "                     loss = 'binary_crossentropy',\n",
    "                     metrics = ['accuracy'])"
   ]
  },
  {
   "cell_type": "code",
   "execution_count": 25,
   "metadata": {
    "colab": {
     "base_uri": "https://localhost:8080/"
    },
    "id": "DL_J8wI6UDo1",
    "outputId": "c5d2873f-9773-4d95-fba3-4ff8ff523ec0"
   },
   "outputs": [
    {
     "name": "stdout",
     "output_type": "stream",
     "text": [
      "Epoch 1/30\n",
      "40/40 [==============================] - 61s 1s/step - loss: 0.6936 - accuracy: 0.5065 - val_loss: 0.6899 - val_accuracy: 0.5390\n",
      "Epoch 2/30\n",
      "40/40 [==============================] - 59s 1s/step - loss: 0.6602 - accuracy: 0.6160 - val_loss: 0.6326 - val_accuracy: 0.6330\n",
      "Epoch 3/30\n",
      "40/40 [==============================] - 58s 1s/step - loss: 0.4857 - accuracy: 0.7772 - val_loss: 0.4450 - val_accuracy: 0.8020\n",
      "Epoch 4/30\n",
      "40/40 [==============================] - 59s 1s/step - loss: 0.3422 - accuracy: 0.8627 - val_loss: 0.4130 - val_accuracy: 0.8228\n",
      "Epoch 5/30\n",
      "40/40 [==============================] - 59s 1s/step - loss: 0.2623 - accuracy: 0.9000 - val_loss: 0.3526 - val_accuracy: 0.8638\n",
      "Epoch 6/30\n",
      "40/40 [==============================] - 58s 1s/step - loss: 0.2065 - accuracy: 0.9255 - val_loss: 0.3852 - val_accuracy: 0.8580\n",
      "Epoch 7/30\n",
      "40/40 [==============================] - 60s 1s/step - loss: 0.1596 - accuracy: 0.9465 - val_loss: 0.4895 - val_accuracy: 0.8428\n",
      "Epoch 8/30\n",
      "40/40 [==============================] - 60s 1s/step - loss: 0.1313 - accuracy: 0.9565 - val_loss: 0.4969 - val_accuracy: 0.8468\n",
      "Epoch 9/30\n",
      "40/40 [==============================] - 59s 1s/step - loss: 0.0977 - accuracy: 0.9711 - val_loss: 0.4465 - val_accuracy: 0.8442\n",
      "Epoch 10/30\n",
      "40/40 [==============================] - 59s 1s/step - loss: 0.0691 - accuracy: 0.9825 - val_loss: 0.5019 - val_accuracy: 0.8532\n",
      "Epoch 11/30\n",
      "40/40 [==============================] - 59s 1s/step - loss: 0.0497 - accuracy: 0.9886 - val_loss: 0.5276 - val_accuracy: 0.8548\n",
      "Epoch 12/30\n",
      "40/40 [==============================] - 60s 1s/step - loss: 0.0549 - accuracy: 0.9840 - val_loss: 0.6034 - val_accuracy: 0.8588\n",
      "Epoch 13/30\n",
      "40/40 [==============================] - 59s 1s/step - loss: 0.0465 - accuracy: 0.9866 - val_loss: 0.6216 - val_accuracy: 0.8392\n",
      "Epoch 14/30\n",
      "40/40 [==============================] - 59s 1s/step - loss: 0.0312 - accuracy: 0.9925 - val_loss: 0.6338 - val_accuracy: 0.8412\n",
      "Epoch 15/30\n",
      "40/40 [==============================] - 58s 1s/step - loss: 0.0165 - accuracy: 0.9970 - val_loss: 0.6570 - val_accuracy: 0.8492\n",
      "Epoch 16/30\n",
      "40/40 [==============================] - 58s 1s/step - loss: 0.0092 - accuracy: 0.9984 - val_loss: 0.6987 - val_accuracy: 0.8462\n",
      "Epoch 17/30\n",
      "40/40 [==============================] - 58s 1s/step - loss: 0.0064 - accuracy: 0.9991 - val_loss: 0.7333 - val_accuracy: 0.8482\n",
      "Epoch 18/30\n",
      "40/40 [==============================] - 59s 1s/step - loss: 0.0043 - accuracy: 0.9994 - val_loss: 0.7822 - val_accuracy: 0.8478\n",
      "Epoch 19/30\n",
      "40/40 [==============================] - 58s 1s/step - loss: 0.0026 - accuracy: 0.9998 - val_loss: 0.8205 - val_accuracy: 0.8488\n",
      "Epoch 20/30\n",
      "40/40 [==============================] - 58s 1s/step - loss: 0.0019 - accuracy: 0.9998 - val_loss: 0.8500 - val_accuracy: 0.8500\n",
      "Epoch 21/30\n",
      "40/40 [==============================] - 58s 1s/step - loss: 0.0015 - accuracy: 0.9999 - val_loss: 0.8615 - val_accuracy: 0.8482\n",
      "Epoch 22/30\n",
      "40/40 [==============================] - 59s 1s/step - loss: 0.0013 - accuracy: 0.9999 - val_loss: 0.9001 - val_accuracy: 0.8520\n",
      "Epoch 23/30\n",
      "40/40 [==============================] - 59s 1s/step - loss: 9.8312e-04 - accuracy: 0.9999 - val_loss: 0.9019 - val_accuracy: 0.8484\n",
      "Epoch 24/30\n",
      "40/40 [==============================] - 59s 1s/step - loss: 8.8070e-04 - accuracy: 0.9999 - val_loss: 0.9377 - val_accuracy: 0.8504\n",
      "Epoch 25/30\n",
      "40/40 [==============================] - 59s 1s/step - loss: 7.9905e-04 - accuracy: 0.9999 - val_loss: 0.9420 - val_accuracy: 0.8492\n",
      "Epoch 26/30\n",
      "40/40 [==============================] - 60s 1s/step - loss: 7.4665e-04 - accuracy: 0.9999 - val_loss: 0.9695 - val_accuracy: 0.8512\n",
      "Epoch 27/30\n",
      "40/40 [==============================] - 58s 1s/step - loss: 6.7627e-04 - accuracy: 0.9999 - val_loss: 0.9600 - val_accuracy: 0.8470\n",
      "Epoch 28/30\n",
      "40/40 [==============================] - 61s 2s/step - loss: 5.5848e-04 - accuracy: 0.9999 - val_loss: 0.9790 - val_accuracy: 0.8472\n",
      "Epoch 29/30\n",
      "40/40 [==============================] - 60s 1s/step - loss: 2.7211e-04 - accuracy: 1.0000 - val_loss: 1.0130 - val_accuracy: 0.8512\n",
      "Epoch 30/30\n",
      "40/40 [==============================] - 58s 1s/step - loss: 2.1395e-04 - accuracy: 1.0000 - val_loss: 1.0338 - val_accuracy: 0.8510\n"
     ]
    }
   ],
   "source": [
    "history = bi_rnn_model.fit(\n",
    "    train_data, train_labels,\n",
    "    epochs = 30,\n",
    "    batch_size = batch_size,\n",
    "    validation_split = 0.2)"
   ]
  },
  {
   "cell_type": "code",
   "execution_count": null,
   "metadata": {
    "id": "D4byrSStUDo1"
   },
   "outputs": [],
   "source": [
    "plot_learning_curves(history, 'accuracy', 30, 0, 1.1)\n",
    "plot_learning_curves(history, 'loss', 30, 0, 2.5)"
   ]
  },
  {
   "cell_type": "code",
   "execution_count": null,
   "metadata": {
    "id": "pO1TlRRoUDo1"
   },
   "outputs": [],
   "source": [
    "bi_rnn_model.evaluate(test_data, test_labels, batch_size = batch_size, verbose = 0)"
   ]
  },
  {
   "cell_type": "code",
   "execution_count": null,
   "metadata": {
    "id": "T64kg4etUDo1"
   },
   "outputs": [],
   "source": [
    "# 最终效果变好了，但是仍然过拟合，过拟合说明我们的模型很强大"
   ]
  },
  {
   "cell_type": "code",
   "execution_count": 29,
   "metadata": {
    "colab": {
     "base_uri": "https://localhost:8080/"
    },
    "id": "7wDPIXVQUDo1",
    "outputId": "069ba26b-3bb4-494c-de50-9f3115452f0d"
   },
   "outputs": [
    {
     "data": {
      "text/plain": [
       "array([0.9162905], dtype=float32)"
      ]
     },
     "execution_count": 29,
     "metadata": {},
     "output_type": "execute_result"
    }
   ],
   "source": [
    "# 交叉熵损失手算\n",
    "y_true = [[0, 1]]\n",
    "y_pred = [[0.6, 0.4]]\n",
    "loss = tf.keras.losses.binary_crossentropy(y_true, y_pred)\n",
    "# assert loss.shape == (2,)\n",
    "loss.numpy()"
   ]
  },
  {
   "cell_type": "code",
   "execution_count": 30,
   "metadata": {
    "colab": {
     "base_uri": "https://localhost:8080/"
    },
    "id": "PzPHm311UDo2",
    "outputId": "5edf1932-096b-4132-9dda-ff2641d1e254"
   },
   "outputs": [
    {
     "data": {
      "text/plain": [
       "-0.916290731874155"
      ]
     },
     "execution_count": 30,
     "metadata": {},
     "output_type": "execute_result"
    }
   ],
   "source": [
    "1*np.log(0.4)"
   ]
  },
  {
   "cell_type": "code",
   "execution_count": 31,
   "metadata": {
    "colab": {
     "base_uri": "https://localhost:8080/"
    },
    "id": "mXgZgaMVUDo2",
    "outputId": "08686a3b-0f40-49fe-c620-7709043d88d3"
   },
   "outputs": [
    {
     "name": "stdout",
     "output_type": "stream",
     "text": [
      "[[[4.04743224e-01 8.21743429e-01 9.39467847e-01 ... 6.20183706e-01\n",
      "   1.33804902e-01 8.24728906e-01]\n",
      "  [5.29909372e-01 3.93406898e-01 1.88047230e-01 ... 1.76617250e-01\n",
      "   1.12405634e-02 4.49777752e-01]\n",
      "  [8.83900404e-01 6.71050668e-01 1.99225143e-01 ... 3.88529241e-01\n",
      "   1.94356784e-01 6.63951099e-01]\n",
      "  ...\n",
      "  [8.90123248e-01 5.93836725e-01 5.16860306e-01 ... 9.52417016e-01\n",
      "   2.24758670e-01 9.79766548e-01]\n",
      "  [3.06025237e-01 8.07701826e-01 9.58860338e-01 ... 9.07456994e-01\n",
      "   4.13412452e-01 2.74034947e-01]\n",
      "  [3.30029756e-01 3.92924398e-01 4.07558441e-01 ... 5.47455788e-01\n",
      "   3.42911094e-01 7.30299890e-01]]\n",
      "\n",
      " [[8.10558349e-02 3.75980377e-01 6.50673330e-01 ... 1.40769526e-01\n",
      "   3.50623488e-01 2.65775800e-01]\n",
      "  [4.04584110e-01 8.52976918e-01 8.76205742e-01 ... 1.96106270e-01\n",
      "   3.78300428e-01 5.33275425e-01]\n",
      "  [3.92455161e-01 6.88890398e-01 9.38368082e-01 ... 2.23749951e-01\n",
      "   5.29215991e-01 7.13358402e-01]\n",
      "  ...\n",
      "  [2.88096461e-02 7.44643033e-01 9.07582700e-01 ... 3.81169707e-01\n",
      "   1.52762473e-01 6.05149269e-01]\n",
      "  [7.25005329e-01 1.82787120e-01 1.73328891e-01 ... 8.75705540e-01\n",
      "   3.40627760e-01 7.96167970e-01]\n",
      "  [2.33951479e-01 9.23769891e-01 4.90507096e-01 ... 3.65594290e-02\n",
      "   8.64006519e-01 8.99691939e-01]]\n",
      "\n",
      " [[2.95772612e-01 8.04271162e-01 5.53282738e-01 ... 8.54216993e-01\n",
      "   4.88121629e-01 5.40288210e-01]\n",
      "  [9.63972569e-01 7.28619397e-01 2.05389276e-01 ... 5.13809443e-01\n",
      "   9.49287951e-01 5.09414732e-01]\n",
      "  [1.60129592e-01 6.06037974e-01 3.46651256e-01 ... 6.87605023e-01\n",
      "   6.44046724e-01 8.95805657e-01]\n",
      "  ...\n",
      "  [7.96685740e-02 3.70542467e-01 3.98779243e-01 ... 9.92690504e-01\n",
      "   9.62044120e-01 1.62613943e-01]\n",
      "  [6.68662488e-01 5.40782332e-01 9.17524040e-01 ... 8.14742267e-01\n",
      "   2.43659288e-01 1.56380400e-01]\n",
      "  [8.52639377e-01 2.23343864e-01 7.01124445e-02 ... 8.46985996e-01\n",
      "   9.45531249e-01 4.80958432e-01]]\n",
      "\n",
      " ...\n",
      "\n",
      " [[6.53504610e-01 3.56616080e-02 7.82189667e-01 ... 1.09210148e-01\n",
      "   5.31701267e-01 5.03115952e-01]\n",
      "  [3.60187441e-01 5.45344949e-01 2.97394842e-01 ... 8.20976138e-01\n",
      "   5.87662399e-01 4.04395498e-02]\n",
      "  [9.19198334e-01 2.29355499e-01 4.52464640e-01 ... 1.69977784e-01\n",
      "   3.16795371e-02 5.78617565e-02]\n",
      "  ...\n",
      "  [9.21258390e-01 3.07883024e-01 1.26650542e-01 ... 2.65212178e-01\n",
      "   4.08255547e-01 3.24322313e-01]\n",
      "  [8.30032468e-01 7.58187592e-01 1.01159826e-01 ... 4.40819860e-01\n",
      "   8.97148848e-01 7.77108312e-01]\n",
      "  [2.48409420e-01 6.53320134e-01 3.89249921e-01 ... 4.71420616e-01\n",
      "   3.35258186e-01 1.53410256e-01]]\n",
      "\n",
      " [[1.23894781e-01 1.54043600e-01 9.44405273e-02 ... 8.76602232e-01\n",
      "   2.64491320e-01 7.56331146e-01]\n",
      "  [9.27892566e-01 5.76058984e-01 9.21009202e-03 ... 6.38564646e-01\n",
      "   5.40425539e-01 7.24030554e-01]\n",
      "  [9.69608307e-01 9.31205392e-01 1.79505125e-01 ... 2.83385962e-01\n",
      "   5.37091374e-01 3.14325579e-02]\n",
      "  ...\n",
      "  [3.83885026e-01 1.00006394e-01 5.42331576e-01 ... 5.22639990e-01\n",
      "   1.73813075e-01 3.70492637e-01]\n",
      "  [9.76996064e-01 5.55318058e-01 7.22165108e-01 ... 2.25186393e-01\n",
      "   1.46632805e-01 9.83358324e-01]\n",
      "  [6.40020847e-01 8.37000668e-01 3.22324981e-04 ... 2.23692045e-01\n",
      "   4.32141513e-01 6.78034306e-01]]\n",
      "\n",
      " [[6.21815622e-01 5.83820641e-01 8.25878859e-01 ... 6.75434828e-01\n",
      "   1.47541583e-01 9.26832035e-02]\n",
      "  [2.17874989e-01 7.62527525e-01 6.79632425e-01 ... 8.97310376e-01\n",
      "   2.23489940e-01 2.27260869e-02]\n",
      "  [6.74078822e-01 8.45854640e-01 5.40035963e-01 ... 2.22663656e-01\n",
      "   8.35395634e-01 9.26303506e-01]\n",
      "  ...\n",
      "  [8.39279354e-01 9.96584773e-01 4.18939441e-01 ... 7.11819887e-01\n",
      "   8.57485235e-01 6.54201806e-01]\n",
      "  [7.03729630e-01 1.22691065e-01 6.16605937e-01 ... 8.74394178e-01\n",
      "   4.54690278e-01 3.40107590e-01]\n",
      "  [1.03006987e-02 6.24014974e-01 7.87871182e-01 ... 6.28681540e-01\n",
      "   6.41753554e-01 7.32262313e-01]]]\n",
      "tf.Tensor(\n",
      "[[-0.00325954  0.54447454  0.72328246  0.02139543]\n",
      " [-0.64572144  0.04736941  0.16207385 -0.33044612]\n",
      " [-0.69892395  0.17577186  0.40598658 -0.8696676 ]\n",
      " [-0.10013978  0.84800947  0.23340926 -0.6212027 ]\n",
      " [-0.29485106  0.6008422   0.4427247  -0.94748944]\n",
      " [-0.84132904  0.51895994 -0.03480197 -0.8637867 ]\n",
      " [ 0.27003732 -0.10004177  0.00538862 -0.9070373 ]\n",
      " [-0.65327376  0.09456523  0.59795904 -0.8238316 ]\n",
      " [-0.73426825 -0.03127466  0.38110954 -0.603919  ]\n",
      " [-0.6911117   0.6489115  -0.61781526 -0.95529556]\n",
      " [-0.7145686  -0.22191018  0.74199826  0.26748005]\n",
      " [-0.7265193   0.23148853  0.84136605 -0.71322006]\n",
      " [-0.21232633  0.16642888  0.85937357 -0.7769078 ]\n",
      " [-0.43030596  0.80065036  0.6765041  -0.38166764]\n",
      " [ 0.32210577  0.4301973   0.5980086  -0.32353127]\n",
      " [-0.3361595  -0.14000481 -0.21125741 -0.9120274 ]\n",
      " [-0.32335895 -0.43194813  0.62317765 -0.36559486]\n",
      " [ 0.54714936  0.40076026 -0.2846809  -0.8104516 ]\n",
      " [-0.90619516  0.68346786  0.1165582  -0.6640704 ]\n",
      " [ 0.7221503   0.51859176 -0.16555549 -0.8328658 ]\n",
      " [-0.03481391  0.70614785  0.5274668  -0.3709792 ]\n",
      " [-0.7628869  -0.39707562  0.8358726   0.09681414]\n",
      " [-0.7743897  -0.05091919 -0.11012007 -0.45356047]\n",
      " [-0.22084703  0.44121483  0.3953516   0.1263237 ]\n",
      " [-0.60611826 -0.1389697   0.7160381   0.70007944]\n",
      " [-0.26464793  0.73265934 -0.06850957 -0.29274067]\n",
      " [ 0.2641728   0.4351857   0.03914447 -0.9398497 ]\n",
      " [ 0.1924915  -0.7017218   0.6277639  -0.54772675]\n",
      " [-0.53249925  0.36241487 -0.50085014 -0.83554864]\n",
      " [-0.3160852   0.02885253  0.27547014  0.17065649]\n",
      " [ 0.05978967  0.21027401  0.08991041 -0.02863661]\n",
      " [-0.8743822   0.0795159   0.6087101  -0.36366507]], shape=(32, 4), dtype=float32)\n"
     ]
    }
   ],
   "source": [
    "inputs = np.random.random([32, 10, 8]).astype(np.float32)\n",
    "print(inputs)\n",
    "\n",
    "simple_rnn = tf.keras.layers.SimpleRNN(4)\n",
    "output = simple_rnn(inputs)  # The output has shape `[32, 4]`.\n",
    "print(output)\n",
    "simple_rnn = tf.keras.layers.SimpleRNN(\n",
    "    4, return_sequences=False, return_state=True)\n",
    "\n",
    "# whole_sequence_output has shape `[32, 4]`.\n",
    "# final_state has shape `[32, 4]`.\n",
    "whole_sequence_output, final_state = simple_rnn(inputs)"
   ]
  },
  {
   "cell_type": "code",
   "execution_count": 32,
   "metadata": {
    "colab": {
     "base_uri": "https://localhost:8080/"
    },
    "id": "Qun7A6hqUDo2",
    "outputId": "2f51e670-b91c-4aaa-aef0-5997f3cff79d"
   },
   "outputs": [
    {
     "name": "stdout",
     "output_type": "stream",
     "text": [
      "tf.Tensor(\n",
      "[[-0.93549573  0.6985805  -0.6064644  -0.7973036 ]\n",
      " [-0.9067718  -0.19761172 -0.968982   -0.9293767 ]\n",
      " [-0.7590022   0.93275595 -0.85118186 -0.95104617]\n",
      " [-0.8841325   0.4910398  -0.93803024 -0.9490592 ]\n",
      " [-0.94718546  0.30267435 -0.6442682  -0.8142085 ]\n",
      " [-0.9323764   0.53506655 -0.6844748  -0.7333868 ]\n",
      " [-0.8991744   0.14297397 -0.8925509  -0.99348086]\n",
      " [-0.9496955   0.8255236  -0.38951787 -0.93224245]\n",
      " [-0.89263535  0.48366997 -0.86993647 -0.9172053 ]\n",
      " [-0.87313116  0.5190113  -0.7949161  -0.9360023 ]\n",
      " [-0.85957575  0.18347666 -0.84784865 -0.8578296 ]\n",
      " [-0.9074682   0.94015723 -0.66703737 -0.71856385]\n",
      " [-0.8559746   0.797144   -0.8412878  -0.9296974 ]\n",
      " [-0.85651445  0.4276889  -0.90715176 -0.9275726 ]\n",
      " [-0.799033    0.7148656  -0.74588174 -0.9469213 ]\n",
      " [-0.93407315  0.5142935  -0.7235933  -0.9317691 ]\n",
      " [-0.85998726  0.7076067  -0.84866506 -0.79170305]\n",
      " [-0.9455445   0.00574718 -0.8384172  -0.97894996]\n",
      " [-0.9012729   0.7731476  -0.83869225 -0.6046801 ]\n",
      " [-0.8908063   0.59084344 -0.7639739  -0.96582556]\n",
      " [-0.9165185   0.20456603 -0.87360823 -0.9081473 ]\n",
      " [-0.7593364   0.82972    -0.865446   -0.9584435 ]\n",
      " [-0.81694424  0.468222   -0.80993474 -0.91931987]\n",
      " [-0.8770425   0.03778167 -0.96787834 -0.98321164]\n",
      " [-0.86931616  0.16349658 -0.9516489  -0.9692211 ]\n",
      " [-0.974912    0.19896437 -0.51534915 -0.9370652 ]\n",
      " [-0.8906298   0.51796675 -0.8261925  -0.9684047 ]\n",
      " [-0.8306174   0.44669876 -0.97151715 -0.97840035]\n",
      " [-0.9497336   0.16502708 -0.62579244 -0.93229336]\n",
      " [-0.88874984 -0.20981511 -0.88749295 -0.94948494]\n",
      " [-0.81119335  0.5771559  -0.71723247 -0.9376625 ]\n",
      " [-0.9230025   0.07657414 -0.9283044  -0.8910374 ]], shape=(32, 4), dtype=float32)\n"
     ]
    },
    {
     "data": {
      "text/plain": [
       "<tf.Tensor: shape=(32, 4), dtype=float32, numpy=\n",
       "array([[-0.93549573,  0.6985805 , -0.6064644 , -0.7973036 ],\n",
       "       [-0.9067718 , -0.19761172, -0.968982  , -0.9293767 ],\n",
       "       [-0.7590022 ,  0.93275595, -0.85118186, -0.95104617],\n",
       "       [-0.8841325 ,  0.4910398 , -0.93803024, -0.9490592 ],\n",
       "       [-0.94718546,  0.30267435, -0.6442682 , -0.8142085 ],\n",
       "       [-0.9323764 ,  0.53506655, -0.6844748 , -0.7333868 ],\n",
       "       [-0.8991744 ,  0.14297397, -0.8925509 , -0.99348086],\n",
       "       [-0.9496955 ,  0.8255236 , -0.38951787, -0.93224245],\n",
       "       [-0.89263535,  0.48366997, -0.86993647, -0.9172053 ],\n",
       "       [-0.87313116,  0.5190113 , -0.7949161 , -0.9360023 ],\n",
       "       [-0.85957575,  0.18347666, -0.84784865, -0.8578296 ],\n",
       "       [-0.9074682 ,  0.94015723, -0.66703737, -0.71856385],\n",
       "       [-0.8559746 ,  0.797144  , -0.8412878 , -0.9296974 ],\n",
       "       [-0.85651445,  0.4276889 , -0.90715176, -0.9275726 ],\n",
       "       [-0.799033  ,  0.7148656 , -0.74588174, -0.9469213 ],\n",
       "       [-0.93407315,  0.5142935 , -0.7235933 , -0.9317691 ],\n",
       "       [-0.85998726,  0.7076067 , -0.84866506, -0.79170305],\n",
       "       [-0.9455445 ,  0.00574718, -0.8384172 , -0.97894996],\n",
       "       [-0.9012729 ,  0.7731476 , -0.83869225, -0.6046801 ],\n",
       "       [-0.8908063 ,  0.59084344, -0.7639739 , -0.96582556],\n",
       "       [-0.9165185 ,  0.20456603, -0.87360823, -0.9081473 ],\n",
       "       [-0.7593364 ,  0.82972   , -0.865446  , -0.9584435 ],\n",
       "       [-0.81694424,  0.468222  , -0.80993474, -0.91931987],\n",
       "       [-0.8770425 ,  0.03778167, -0.96787834, -0.98321164],\n",
       "       [-0.86931616,  0.16349658, -0.9516489 , -0.9692211 ],\n",
       "       [-0.974912  ,  0.19896437, -0.51534915, -0.9370652 ],\n",
       "       [-0.8906298 ,  0.51796675, -0.8261925 , -0.9684047 ],\n",
       "       [-0.8306174 ,  0.44669876, -0.97151715, -0.97840035],\n",
       "       [-0.9497336 ,  0.16502708, -0.62579244, -0.93229336],\n",
       "       [-0.88874984, -0.20981511, -0.88749295, -0.94948494],\n",
       "       [-0.81119335,  0.5771559 , -0.71723247, -0.9376625 ],\n",
       "       [-0.9230025 ,  0.07657414, -0.9283044 , -0.8910374 ]],\n",
       "      dtype=float32)>"
      ]
     },
     "execution_count": 32,
     "metadata": {},
     "output_type": "execute_result"
    }
   ],
   "source": [
    "print(whole_sequence_output)\n",
    "final_state"
   ]
  },
  {
   "cell_type": "code",
   "execution_count": 32,
   "metadata": {
    "id": "w-VCQs40UDo2"
   },
   "outputs": [],
   "source": []
  }
 ],
 "metadata": {
  "accelerator": "GPU",
  "colab": {
   "collapsed_sections": [],
   "name": "tf02_embedding_rnn.ipynb",
   "provenance": []
  },
  "kernelspec": {
   "display_name": "Python 3",
   "language": "python",
   "name": "python3"
  },
  "language_info": {
   "codemirror_mode": {
    "name": "ipython",
    "version": 3
   },
   "file_extension": ".py",
   "mimetype": "text/x-python",
   "name": "python",
   "nbconvert_exporter": "python",
   "pygments_lexer": "ipython3",
   "version": "3.6.9"
  }
 },
 "nbformat": 4,
 "nbformat_minor": 1
}
