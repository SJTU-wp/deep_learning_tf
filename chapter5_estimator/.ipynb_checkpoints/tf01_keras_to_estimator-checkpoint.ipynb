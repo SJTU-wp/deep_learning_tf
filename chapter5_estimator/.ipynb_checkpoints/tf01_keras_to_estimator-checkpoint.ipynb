{
 "cells": [
  {
   "cell_type": "code",
   "execution_count": 23,
   "metadata": {},
   "outputs": [
    {
     "name": "stdout",
     "output_type": "stream",
     "text": [
      "2.6.2\n",
      "sys.version_info(major=3, minor=6, micro=9, releaselevel='final', serial=0)\n",
      "matplotlib 3.3.4\n",
      "numpy 1.19.5\n",
      "pandas 1.1.5\n",
      "sklearn 0.24.2\n",
      "tensorflow 2.6.2\n",
      "keras.api._v2.keras 2.6.0\n"
     ]
    }
   ],
   "source": [
    "import matplotlib as mpl\n",
    "import matplotlib.pyplot as plt\n",
    "%matplotlib inline\n",
    "import numpy as np\n",
    "import sklearn\n",
    "import pandas as pd\n",
    "import os\n",
    "import sys\n",
    "import time\n",
    "import tensorflow as tf\n",
    "\n",
    "from tensorflow import keras\n",
    "\n",
    "print(tf.__version__)\n",
    "print(sys.version_info)\n",
    "for module in mpl, np, pd, sklearn, tf, keras:\n",
    "    print(module.__name__, module.__version__)"
   ]
  },
  {
   "cell_type": "code",
   "execution_count": 24,
   "metadata": {
    "scrolled": true
   },
   "outputs": [
    {
     "name": "stdout",
     "output_type": "stream",
     "text": [
      "   survived     sex   age  n_siblings_spouses  parch     fare  class     deck  \\\n",
      "0         0    male  22.0                   1      0   7.2500  Third  unknown   \n",
      "1         1  female  38.0                   1      0  71.2833  First        C   \n",
      "2         1  female  26.0                   0      0   7.9250  Third  unknown   \n",
      "3         1  female  35.0                   1      0  53.1000  First        C   \n",
      "4         0    male  28.0                   0      0   8.4583  Third  unknown   \n",
      "\n",
      "   embark_town alone  \n",
      "0  Southampton     n  \n",
      "1    Cherbourg     n  \n",
      "2  Southampton     y  \n",
      "3  Southampton     n  \n",
      "4   Queenstown     y  \n",
      "   survived     sex   age  n_siblings_spouses  parch     fare   class  \\\n",
      "0         0    male  35.0                   0      0   8.0500   Third   \n",
      "1         0    male  54.0                   0      0  51.8625   First   \n",
      "2         1  female  58.0                   0      0  26.5500   First   \n",
      "3         1  female  55.0                   0      0  16.0000  Second   \n",
      "4         1    male  34.0                   0      0  13.0000  Second   \n",
      "\n",
      "      deck  embark_town alone  \n",
      "0  unknown  Southampton     y  \n",
      "1        E  Southampton     y  \n",
      "2        C  Southampton     y  \n",
      "3  unknown  Southampton     y  \n",
      "4        D  Southampton     y  \n"
     ]
    }
   ],
   "source": [
    "# https://storage.googleapis.com/tf-datasets/titanic/train.csv\n",
    "# https://storage.googleapis.com/tf-datasets/titanic/eval.csv\n",
    "# fare 票价\n",
    "# n_siblings_spouses  兄弟姐妹，配偶总计数目\n",
    "# parch 不同代直系亲属\n",
    "train_file = \"./data/titanic/train.csv\"\n",
    "eval_file = \"./data/titanic/eval.csv\"\n",
    "\n",
    "train_df = pd.read_csv(train_file)  # dataframe\n",
    "eval_df = pd.read_csv(eval_file)\n",
    "\n",
    "print(train_df.head())\n",
    "print(eval_df.head())"
   ]
  },
  {
   "cell_type": "code",
   "execution_count": 25,
   "metadata": {},
   "outputs": [
    {
     "name": "stdout",
     "output_type": "stream",
     "text": [
      "      sex   age  n_siblings_spouses  parch     fare  class     deck  \\\n",
      "0    male  22.0                   1      0   7.2500  Third  unknown   \n",
      "1  female  38.0                   1      0  71.2833  First        C   \n",
      "2  female  26.0                   0      0   7.9250  Third  unknown   \n",
      "3  female  35.0                   1      0  53.1000  First        C   \n",
      "4    male  28.0                   0      0   8.4583  Third  unknown   \n",
      "\n",
      "   embark_town alone  \n",
      "0  Southampton     n  \n",
      "1    Cherbourg     n  \n",
      "2  Southampton     y  \n",
      "3  Southampton     n  \n",
      "4   Queenstown     y  \n",
      "--------------------------------------------------\n",
      "      sex   age  n_siblings_spouses  parch     fare   class     deck  \\\n",
      "0    male  35.0                   0      0   8.0500   Third  unknown   \n",
      "1    male  54.0                   0      0  51.8625   First        E   \n",
      "2  female  58.0                   0      0  26.5500   First        C   \n",
      "3  female  55.0                   0      0  16.0000  Second  unknown   \n",
      "4    male  34.0                   0      0  13.0000  Second        D   \n",
      "\n",
      "   embark_town alone  \n",
      "0  Southampton     y  \n",
      "1  Southampton     y  \n",
      "2  Southampton     y  \n",
      "3  Southampton     y  \n",
      "4  Southampton     y  \n",
      "--------------------------------------------------\n",
      "0    0\n",
      "1    1\n",
      "2    1\n",
      "3    1\n",
      "4    0\n",
      "Name: survived, dtype: int64\n",
      "--------------------------------------------------\n",
      "0    0\n",
      "1    0\n",
      "2    1\n",
      "3    1\n",
      "4    1\n",
      "Name: survived, dtype: int64\n"
     ]
    }
   ],
   "source": [
    "# 把目标值提取出来\n",
    "y_train = train_df.pop('survived')\n",
    "y_eval = eval_df.pop('survived')\n",
    "\n",
    "print(train_df.head())\n",
    "print('-'*50)\n",
    "print(eval_df.head())\n",
    "print('-'*50)\n",
    "print(y_train.head())\n",
    "print('-'*50)\n",
    "print(y_eval.head())"
   ]
  },
  {
   "cell_type": "code",
   "execution_count": 26,
   "metadata": {},
   "outputs": [
    {
     "data": {
      "text/html": [
       "<div>\n",
       "<style scoped>\n",
       "    .dataframe tbody tr th:only-of-type {\n",
       "        vertical-align: middle;\n",
       "    }\n",
       "\n",
       "    .dataframe tbody tr th {\n",
       "        vertical-align: top;\n",
       "    }\n",
       "\n",
       "    .dataframe thead th {\n",
       "        text-align: right;\n",
       "    }\n",
       "</style>\n",
       "<table border=\"1\" class=\"dataframe\">\n",
       "  <thead>\n",
       "    <tr style=\"text-align: right;\">\n",
       "      <th></th>\n",
       "      <th>age</th>\n",
       "      <th>n_siblings_spouses</th>\n",
       "      <th>parch</th>\n",
       "      <th>fare</th>\n",
       "    </tr>\n",
       "  </thead>\n",
       "  <tbody>\n",
       "    <tr>\n",
       "      <th>count</th>\n",
       "      <td>627.000000</td>\n",
       "      <td>627.000000</td>\n",
       "      <td>627.000000</td>\n",
       "      <td>627.000000</td>\n",
       "    </tr>\n",
       "    <tr>\n",
       "      <th>mean</th>\n",
       "      <td>29.631308</td>\n",
       "      <td>0.545455</td>\n",
       "      <td>0.379585</td>\n",
       "      <td>34.385399</td>\n",
       "    </tr>\n",
       "    <tr>\n",
       "      <th>std</th>\n",
       "      <td>12.511818</td>\n",
       "      <td>1.151090</td>\n",
       "      <td>0.792999</td>\n",
       "      <td>54.597730</td>\n",
       "    </tr>\n",
       "    <tr>\n",
       "      <th>min</th>\n",
       "      <td>0.750000</td>\n",
       "      <td>0.000000</td>\n",
       "      <td>0.000000</td>\n",
       "      <td>0.000000</td>\n",
       "    </tr>\n",
       "    <tr>\n",
       "      <th>25%</th>\n",
       "      <td>23.000000</td>\n",
       "      <td>0.000000</td>\n",
       "      <td>0.000000</td>\n",
       "      <td>7.895800</td>\n",
       "    </tr>\n",
       "    <tr>\n",
       "      <th>50%</th>\n",
       "      <td>28.000000</td>\n",
       "      <td>0.000000</td>\n",
       "      <td>0.000000</td>\n",
       "      <td>15.045800</td>\n",
       "    </tr>\n",
       "    <tr>\n",
       "      <th>75%</th>\n",
       "      <td>35.000000</td>\n",
       "      <td>1.000000</td>\n",
       "      <td>0.000000</td>\n",
       "      <td>31.387500</td>\n",
       "    </tr>\n",
       "    <tr>\n",
       "      <th>max</th>\n",
       "      <td>80.000000</td>\n",
       "      <td>8.000000</td>\n",
       "      <td>5.000000</td>\n",
       "      <td>512.329200</td>\n",
       "    </tr>\n",
       "  </tbody>\n",
       "</table>\n",
       "</div>"
      ],
      "text/plain": [
       "              age  n_siblings_spouses       parch        fare\n",
       "count  627.000000          627.000000  627.000000  627.000000\n",
       "mean    29.631308            0.545455    0.379585   34.385399\n",
       "std     12.511818            1.151090    0.792999   54.597730\n",
       "min      0.750000            0.000000    0.000000    0.000000\n",
       "25%     23.000000            0.000000    0.000000    7.895800\n",
       "50%     28.000000            0.000000    0.000000   15.045800\n",
       "75%     35.000000            1.000000    0.000000   31.387500\n",
       "max     80.000000            8.000000    5.000000  512.329200"
      ]
     },
     "execution_count": 26,
     "metadata": {},
     "output_type": "execute_result"
    }
   ],
   "source": [
    "# 仅显示数值结果\n",
    "train_df.describe()"
   ]
  },
  {
   "cell_type": "code",
   "execution_count": 27,
   "metadata": {},
   "outputs": [
    {
     "name": "stdout",
     "output_type": "stream",
     "text": [
      "(627, 9) (264, 9)\n"
     ]
    }
   ],
   "source": [
    "print(train_df.shape, eval_df.shape)"
   ]
  },
  {
   "cell_type": "code",
   "execution_count": 28,
   "metadata": {},
   "outputs": [
    {
     "data": {
      "text/plain": [
       "<AxesSubplot:>"
      ]
     },
     "execution_count": 28,
     "metadata": {},
     "output_type": "execute_result"
    },
    {
     "data": {
      "image/png": "[encoded data removed]",
      "text/plain": [
       "<Figure size 432x288 with 1 Axes>"
      ]
     },
     "metadata": {
      "needs_background": "light"
     },
     "output_type": "display_data"
    }
   ],
   "source": [
    "train_df.age.hist(bins = 20)"
   ]
  },
  {
   "cell_type": "code",
   "execution_count": 29,
   "metadata": {},
   "outputs": [
    {
     "data": {
      "text/plain": [
       "<AxesSubplot:>"
      ]
     },
     "execution_count": 29,
     "metadata": {},
     "output_type": "execute_result"
    },
    {
     "data": {
      "image/png": "[encoded data removed]",
      "text/plain": [
       "<Figure size 432x288 with 1 Axes>"
      ]
     },
     "metadata": {
      "needs_background": "light"
     },
     "output_type": "display_data"
    }
   ],
   "source": [
    "train_df.sex.value_counts().plot(kind = 'barh')  # barh：水平条形图"
   ]
  },
  {
   "cell_type": "code",
   "execution_count": 30,
   "metadata": {},
   "outputs": [
    {
     "data": {
      "text/plain": [
       "<AxesSubplot:>"
      ]
     },
     "execution_count": 30,
     "metadata": {},
     "output_type": "execute_result"
    },
    {
     "data": {
      "image/png": "[encoded data removed]",
      "text/plain": [
       "<Figure size 432x288 with 1 Axes>"
      ]
     },
     "metadata": {
      "needs_background": "light"
     },
     "output_type": "display_data"
    }
   ],
   "source": [
    "train_df['class'].value_counts().plot(kind = 'bar')"
   ]
  },
  {
   "cell_type": "code",
   "execution_count": 31,
   "metadata": {},
   "outputs": [
    {
     "data": {
      "text/plain": [
       "<AxesSubplot:ylabel='sex'>"
      ]
     },
     "execution_count": 31,
     "metadata": {},
     "output_type": "execute_result"
    },
    {
     "data": {
      "image/png": "[encoded data removed]",
      "text/plain": [
       "<Figure size 432x288 with 1 Axes>"
      ]
     },
     "metadata": {
      "needs_background": "light"
     },
     "output_type": "display_data"
    }
   ],
   "source": [
    "# 看男性，女性的生存比率\n",
    "# pd.concat([train_df, y_train], axis = 1).groupby('age').survived.mean().plot(kind='barh')\n",
    "\n",
    "pd.concat([train_df, y_train], axis = 1).groupby('sex').survived.mean().plot(kind='barh')"
   ]
  },
  {
   "cell_type": "code",
   "execution_count": 32,
   "metadata": {},
   "outputs": [
    {
     "name": "stdout",
     "output_type": "stream",
     "text": [
      "sex ['male' 'female']\n",
      "n_siblings_spouses [1 0 3 4 2 5 8]\n",
      "parch [0 1 2 5 3 4]\n",
      "class ['Third' 'First' 'Second']\n",
      "deck ['unknown' 'C' 'G' 'A' 'B' 'D' 'F' 'E']\n",
      "embark_town ['Southampton' 'Cherbourg' 'Queenstown' 'unknown']\n",
      "alone ['n' 'y']\n"
     ]
    },
    {
     "data": {
      "text/plain": [
       "[IndicatorColumn(categorical_column=VocabularyListCategoricalColumn(key='sex', vocabulary_list=('male', 'female'), dtype=tf.string, default_value=-1, num_oov_buckets=0)),\n",
       " IndicatorColumn(categorical_column=VocabularyListCategoricalColumn(key='n_siblings_spouses', vocabulary_list=(1, 0, 3, 4, 2, 5, 8), dtype=tf.int64, default_value=-1, num_oov_buckets=0)),\n",
       " IndicatorColumn(categorical_column=VocabularyListCategoricalColumn(key='parch', vocabulary_list=(0, 1, 2, 5, 3, 4), dtype=tf.int64, default_value=-1, num_oov_buckets=0)),\n",
       " IndicatorColumn(categorical_column=VocabularyListCategoricalColumn(key='class', vocabulary_list=('Third', 'First', 'Second'), dtype=tf.string, default_value=-1, num_oov_buckets=0)),\n",
       " IndicatorColumn(categorical_column=VocabularyListCategoricalColumn(key='deck', vocabulary_list=('unknown', 'C', 'G', 'A', 'B', 'D', 'F', 'E'), dtype=tf.string, default_value=-1, num_oov_buckets=0)),\n",
       " IndicatorColumn(categorical_column=VocabularyListCategoricalColumn(key='embark_town', vocabulary_list=('Southampton', 'Cherbourg', 'Queenstown', 'unknown'), dtype=tf.string, default_value=-1, num_oov_buckets=0)),\n",
       " IndicatorColumn(categorical_column=VocabularyListCategoricalColumn(key='alone', vocabulary_list=('n', 'y'), dtype=tf.string, default_value=-1, num_oov_buckets=0)),\n",
       " NumericColumn(key='age', shape=(1,), default_value=None, dtype=tf.float32, normalizer_fn=None),\n",
       " NumericColumn(key='fare', shape=(1,), default_value=None, dtype=tf.float32, normalizer_fn=None)]"
      ]
     },
     "execution_count": 32,
     "metadata": {},
     "output_type": "execute_result"
    }
   ],
   "source": [
    "# tf的特征工程\n",
    "# 离散型特征\n",
    "# n_siblings_spouses 家庭成员表\n",
    "categorical_columns = ['sex', 'n_siblings_spouses', 'parch', 'class',\n",
    "                       'deck', 'embark_town', 'alone']\n",
    "\n",
    "# 连续,年龄，票价\n",
    "numeric_columns = ['age', 'fare']\n",
    "\n",
    "feature_columns = []\n",
    "\n",
    "# 离散特征处理\n",
    "for categorical_column in categorical_columns:\n",
    "    vocab = train_df[categorical_column].unique()\n",
    "    print(categorical_column, vocab)\n",
    "    feature_columns.append(\n",
    "        # indicator_column做one-hot编码\n",
    "        tf.feature_column.indicator_column(\n",
    "            tf.feature_column.categorical_column_with_vocabulary_list(\n",
    "                categorical_column, vocab)))\n",
    "\n",
    "# 连续\n",
    "for categorical_column in numeric_columns:\n",
    "    feature_columns.append(\n",
    "        tf.feature_column.numeric_column(\n",
    "            categorical_column, dtype=tf.float32))\n",
    "# 特征类别\n",
    "feature_columns"
   ]
  },
  {
   "cell_type": "code",
   "execution_count": 33,
   "metadata": {},
   "outputs": [
    {
     "data": {
      "text/plain": [
       "{'sex': 0        male\n",
       " 1      female\n",
       " 2      female\n",
       " 3      female\n",
       " 4        male\n",
       "         ...  \n",
       " 622      male\n",
       " 623      male\n",
       " 624    female\n",
       " 625    female\n",
       " 626      male\n",
       " Name: sex, Length: 627, dtype: object,\n",
       " 'age': 0      22.0\n",
       " 1      38.0\n",
       " 2      26.0\n",
       " 3      35.0\n",
       " 4      28.0\n",
       "        ... \n",
       " 622    28.0\n",
       " 623    25.0\n",
       " 624    19.0\n",
       " 625    28.0\n",
       " 626    32.0\n",
       " Name: age, Length: 627, dtype: float64,\n",
       " 'n_siblings_spouses': 0      1\n",
       " 1      1\n",
       " 2      0\n",
       " 3      1\n",
       " 4      0\n",
       "       ..\n",
       " 622    0\n",
       " 623    0\n",
       " 624    0\n",
       " 625    1\n",
       " 626    0\n",
       " Name: n_siblings_spouses, Length: 627, dtype: int64,\n",
       " 'parch': 0      0\n",
       " 1      0\n",
       " 2      0\n",
       " 3      0\n",
       " 4      0\n",
       "       ..\n",
       " 622    0\n",
       " 623    0\n",
       " 624    0\n",
       " 625    2\n",
       " 626    0\n",
       " Name: parch, Length: 627, dtype: int64,\n",
       " 'fare': 0       7.2500\n",
       " 1      71.2833\n",
       " 2       7.9250\n",
       " 3      53.1000\n",
       " 4       8.4583\n",
       "         ...   \n",
       " 622    10.5000\n",
       " 623     7.0500\n",
       " 624    30.0000\n",
       " 625    23.4500\n",
       " 626     7.7500\n",
       " Name: fare, Length: 627, dtype: float64,\n",
       " 'class': 0       Third\n",
       " 1       First\n",
       " 2       Third\n",
       " 3       First\n",
       " 4       Third\n",
       "         ...  \n",
       " 622    Second\n",
       " 623     Third\n",
       " 624     First\n",
       " 625     Third\n",
       " 626     Third\n",
       " Name: class, Length: 627, dtype: object,\n",
       " 'deck': 0      unknown\n",
       " 1            C\n",
       " 2      unknown\n",
       " 3            C\n",
       " 4      unknown\n",
       "         ...   \n",
       " 622    unknown\n",
       " 623    unknown\n",
       " 624          B\n",
       " 625    unknown\n",
       " 626    unknown\n",
       " Name: deck, Length: 627, dtype: object,\n",
       " 'embark_town': 0      Southampton\n",
       " 1        Cherbourg\n",
       " 2      Southampton\n",
       " 3      Southampton\n",
       " 4       Queenstown\n",
       "           ...     \n",
       " 622    Southampton\n",
       " 623    Southampton\n",
       " 624    Southampton\n",
       " 625    Southampton\n",
       " 626     Queenstown\n",
       " Name: embark_town, Length: 627, dtype: object,\n",
       " 'alone': 0      n\n",
       " 1      n\n",
       " 2      y\n",
       " 3      n\n",
       " 4      y\n",
       "       ..\n",
       " 622    y\n",
       " 623    y\n",
       " 624    y\n",
       " 625    n\n",
       " 626    y\n",
       " Name: alone, Length: 627, dtype: object}"
      ]
     },
     "execution_count": 33,
     "metadata": {},
     "output_type": "execute_result"
    }
   ],
   "source": [
    "dict(train_df)"
   ]
  },
  {
   "cell_type": "code",
   "execution_count": 34,
   "metadata": {},
   "outputs": [
    {
     "data": {
      "text/plain": [
       "0      0\n",
       "1      1\n",
       "2      1\n",
       "3      1\n",
       "4      0\n",
       "      ..\n",
       "622    0\n",
       "623    0\n",
       "624    1\n",
       "625    0\n",
       "626    0\n",
       "Name: survived, Length: 627, dtype: int64"
      ]
     },
     "execution_count": 34,
     "metadata": {},
     "output_type": "execute_result"
    }
   ],
   "source": [
    "y_train"
   ]
  },
  {
   "cell_type": "code",
   "execution_count": 35,
   "metadata": {},
   "outputs": [],
   "source": [
    "# 把特征，目标都传入，构建我们的dataset\n",
    "def make_dataset(data_df, label_df, epochs = 10, shuffle = True,\n",
    "                 batch_size = 32):\n",
    "    # 把df类变为dataset\n",
    "    dataset = tf.data.Dataset.from_tensor_slices((dict(data_df), label_df))\n",
    "#     dataset = tf.data.Dataset.from_tensor_slices((data_df, label_df))\n",
    "    # 是否需要洗牌\n",
    "    if shuffle:\n",
    "        dataset = dataset.shuffle(10000)\n",
    "    dataset = dataset.repeat(epochs).batch(batch_size)\n",
    "    return dataset"
   ]
  },
  {
   "cell_type": "code",
   "execution_count": 36,
   "metadata": {},
   "outputs": [],
   "source": [
    "train_dataset = make_dataset(train_df, y_train, batch_size = 5)"
   ]
  },
  {
   "cell_type": "code",
   "execution_count": 37,
   "metadata": {},
   "outputs": [
    {
     "name": "stdout",
     "output_type": "stream",
     "text": [
      "{'sex': <tf.Tensor: shape=(5,), dtype=string, numpy=array([b'male', b'female', b'male', b'male', b'female'], dtype=object)>, 'age': <tf.Tensor: shape=(5,), dtype=float64, numpy=array([42., 28., 29., 32., 22.])>, 'n_siblings_spouses': <tf.Tensor: shape=(5,), dtype=int64, numpy=array([1, 1, 1, 0, 0])>, 'parch': <tf.Tensor: shape=(5,), dtype=int64, numpy=array([0, 0, 0, 0, 0])>, 'fare': <tf.Tensor: shape=(5,), dtype=float64, numpy=array([ 52.    , 146.5208,   7.0458,   7.925 ,  10.5167])>, 'class': <tf.Tensor: shape=(5,), dtype=string, numpy=array([b'First', b'First', b'Third', b'Third', b'Third'], dtype=object)>, 'deck': <tf.Tensor: shape=(5,), dtype=string, numpy=array([b'unknown', b'B', b'unknown', b'unknown', b'unknown'], dtype=object)>, 'embark_town': <tf.Tensor: shape=(5,), dtype=string, numpy=\n",
      "array([b'Southampton', b'Cherbourg', b'Southampton', b'Southampton',\n",
      "       b'Southampton'], dtype=object)>, 'alone': <tf.Tensor: shape=(5,), dtype=string, numpy=array([b'n', b'n', b'n', b'y', b'y'], dtype=object)>}\n",
      "--------------------------------------------------\n",
      "tf.Tensor([0 1 0 0 0], shape=(5,), dtype=int64)\n"
     ]
    }
   ],
   "source": [
    "for x, y in train_dataset.take(1):\n",
    "    print(x)\n",
    "    print('-'*50)\n",
    "    print(y)"
   ]
  },
  {
   "cell_type": "code",
   "execution_count": 38,
   "metadata": {},
   "outputs": [
    {
     "name": "stdout",
     "output_type": "stream",
     "text": [
      "[IndicatorColumn(categorical_column=VocabularyListCategoricalColumn(key='sex', vocabulary_list=('male', 'female'), dtype=tf.string, default_value=-1, num_oov_buckets=0)),\n",
      " IndicatorColumn(categorical_column=VocabularyListCategoricalColumn(key='n_siblings_spouses', vocabulary_list=(1, 0, 3, 4, 2, 5, 8), dtype=tf.int64, default_value=-1, num_oov_buckets=0)),\n",
      " IndicatorColumn(categorical_column=VocabularyListCategoricalColumn(key='parch', vocabulary_list=(0, 1, 2, 5, 3, 4), dtype=tf.int64, default_value=-1, num_oov_buckets=0)),\n",
      " IndicatorColumn(categorical_column=VocabularyListCategoricalColumn(key='class', vocabulary_list=('Third', 'First', 'Second'), dtype=tf.string, default_value=-1, num_oov_buckets=0)),\n",
      " IndicatorColumn(categorical_column=VocabularyListCategoricalColumn(key='deck', vocabulary_list=('unknown', 'C', 'G', 'A', 'B', 'D', 'F', 'E'), dtype=tf.string, default_value=-1, num_oov_buckets=0)),\n",
      " IndicatorColumn(categorical_column=VocabularyListCategoricalColumn(key='embark_town', vocabulary_list=('Southampton', 'Cherbourg', 'Queenstown', 'unknown'), dtype=tf.string, default_value=-1, num_oov_buckets=0)),\n",
      " IndicatorColumn(categorical_column=VocabularyListCategoricalColumn(key='alone', vocabulary_list=('n', 'y'), dtype=tf.string, default_value=-1, num_oov_buckets=0)),\n",
      " NumericColumn(key='age', shape=(1,), default_value=None, dtype=tf.float32, normalizer_fn=None),\n",
      " NumericColumn(key='fare', shape=(1,), default_value=None, dtype=tf.float32, normalizer_fn=None)]\n",
      "--------------------------------------------------\n",
      "[[ 4.]\n",
      " [24.]\n",
      " [28.]\n",
      " [ 6.]\n",
      " [28.]]\n",
      "tf.Tensor(\n",
      "[[0. 1.]\n",
      " [0. 1.]\n",
      " [1. 0.]\n",
      " [1. 0.]\n",
      " [1. 0.]], shape=(5, 2), dtype=float32)\n"
     ]
    }
   ],
   "source": [
    "import pprint\n",
    "pprint.pprint(feature_columns)\n",
    "print('-'*50)\n",
    "# keras.layers.DenseFeature\n",
    "# A layer that produces a dense Tensor based on given feature_columns\n",
    "for x, y in train_dataset.take(1):\n",
    "    # 特征类型\n",
    "    age_column = feature_columns[7]\n",
    "    gender_column = feature_columns[0]\n",
    "    # DenseFeatures进行转换\n",
    "    print(keras.layers.DenseFeatures(age_column)(x).numpy())\n",
    "    print(keras.layers.DenseFeatures(gender_column)(x))  # 变为one-hot编码"
   ]
  },
  {
   "cell_type": "code",
   "execution_count": 39,
   "metadata": {},
   "outputs": [
    {
     "name": "stdout",
     "output_type": "stream",
     "text": [
      "tf.Tensor(\n",
      "[[28.      0.      1.      1.      0.      0.      1.      0.      0.\n",
      "   0.      0.      0.      0.      0.      0.      1.      0.      0.\n",
      "   7.225   0.      1.      0.      0.      0.      0.      0.      1.\n",
      "   0.      0.      0.      0.      0.      0.      1.    ]\n",
      " [30.      1.      0.      1.      0.      0.      1.      0.      0.\n",
      "   0.      0.      0.      0.      0.      1.      0.      0.      0.\n",
      "  16.1     1.      0.      0.      0.      0.      0.      0.      1.\n",
      "   0.      0.      0.      0.      0.      1.      0.    ]\n",
      " [62.      0.      1.      0.      0.      1.      1.      0.      0.\n",
      "   0.      0.      0.      0.      0.      1.      0.      0.      0.\n",
      "  10.5     0.      1.      0.      0.      0.      0.      0.      1.\n",
      "   0.      0.      0.      0.      0.      1.      0.    ]\n",
      " [35.      0.      1.      0.      1.      0.      0.      0.      0.\n",
      "   0.      0.      0.      0.      1.      1.      0.      0.      0.\n",
      "  26.2875  0.      1.      0.      0.      0.      0.      0.      1.\n",
      "   0.      0.      0.      0.      0.      1.      0.    ]\n",
      " [29.      1.      0.      0.      1.      0.      0.      1.      0.\n",
      "   0.      0.      0.      0.      0.      1.      0.      0.      0.\n",
      "  66.6     1.      0.      0.      0.      0.      0.      0.      1.\n",
      "   0.      0.      0.      0.      0.      1.      0.    ]], shape=(5, 34), dtype=float32)\n"
     ]
    }
   ],
   "source": [
    "# keras.layers.DenseFeature\n",
    "for x, y in train_dataset.take(1):\n",
    "    print(keras.layers.DenseFeatures(feature_columns)(x))  # one-hot编码+原本就是数值的，(2+7+6+...+2)+1+1"
   ]
  },
  {
   "cell_type": "code",
   "execution_count": 40,
   "metadata": {},
   "outputs": [],
   "source": [
    "# DenseFeatures可以直接将非数值类型特征转为数值类型特征\n",
    "model = keras.models.Sequential([\n",
    "    keras.layers.DenseFeatures(feature_columns),  # 这里传入feature_columns，直接处理所有特征\n",
    "    keras.layers.Dense(100, activation='relu'),\n",
    "    keras.layers.Dense(100, activation='relu'),\n",
    "    keras.layers.Dense(2, activation='softmax'),\n",
    "])\n",
    "\n",
    "model.compile(loss='sparse_categorical_crossentropy',\n",
    "              optimizer = keras.optimizers.SGD(learning_rate=0.005),metrics=['accuracy'])\n"
   ]
  },
  {
   "cell_type": "code",
   "execution_count": 41,
   "metadata": {},
   "outputs": [
    {
     "name": "stdout",
     "output_type": "stream",
     "text": [
      "Epoch 1/100\n",
      "WARNING:tensorflow:Layers in a Sequential model should only have a single input tensor, but we receive a <class 'dict'> input: {'sex': <tf.Tensor 'ExpandDims_8:0' shape=(None, 1) dtype=string>, 'age': <tf.Tensor 'ExpandDims:0' shape=(None, 1) dtype=float64>, 'n_siblings_spouses': <tf.Tensor 'ExpandDims_6:0' shape=(None, 1) dtype=int64>, 'parch': <tf.Tensor 'ExpandDims_7:0' shape=(None, 1) dtype=int64>, 'fare': <tf.Tensor 'ExpandDims_5:0' shape=(None, 1) dtype=float64>, 'class': <tf.Tensor 'ExpandDims_2:0' shape=(None, 1) dtype=string>, 'deck': <tf.Tensor 'ExpandDims_3:0' shape=(None, 1) dtype=string>, 'embark_town': <tf.Tensor 'ExpandDims_4:0' shape=(None, 1) dtype=string>, 'alone': <tf.Tensor 'ExpandDims_1:0' shape=(None, 1) dtype=string>}\n",
      "Consider rewriting this model with the Functional API.\n",
      "WARNING:tensorflow:Layers in a Sequential model should only have a single input tensor, but we receive a <class 'dict'> input: {'sex': <tf.Tensor 'ExpandDims_8:0' shape=(None, 1) dtype=string>, 'age': <tf.Tensor 'ExpandDims:0' shape=(None, 1) dtype=float64>, 'n_siblings_spouses': <tf.Tensor 'ExpandDims_6:0' shape=(None, 1) dtype=int64>, 'parch': <tf.Tensor 'ExpandDims_7:0' shape=(None, 1) dtype=int64>, 'fare': <tf.Tensor 'ExpandDims_5:0' shape=(None, 1) dtype=float64>, 'class': <tf.Tensor 'ExpandDims_2:0' shape=(None, 1) dtype=string>, 'deck': <tf.Tensor 'ExpandDims_3:0' shape=(None, 1) dtype=string>, 'embark_town': <tf.Tensor 'ExpandDims_4:0' shape=(None, 1) dtype=string>, 'alone': <tf.Tensor 'ExpandDims_1:0' shape=(None, 1) dtype=string>}\n",
      "Consider rewriting this model with the Functional API.\n",
      "18/19 [===========================>..] - ETA: 0s - loss: 2.2780 - accuracy: 0.5660 WARNING:tensorflow:Layers in a Sequential model should only have a single input tensor, but we receive a <class 'dict'> input: {'sex': <tf.Tensor 'ExpandDims_8:0' shape=(None, 1) dtype=string>, 'age': <tf.Tensor 'ExpandDims:0' shape=(None, 1) dtype=float64>, 'n_siblings_spouses': <tf.Tensor 'ExpandDims_6:0' shape=(None, 1) dtype=int64>, 'parch': <tf.Tensor 'ExpandDims_7:0' shape=(None, 1) dtype=int64>, 'fare': <tf.Tensor 'ExpandDims_5:0' shape=(None, 1) dtype=float64>, 'class': <tf.Tensor 'ExpandDims_2:0' shape=(None, 1) dtype=string>, 'deck': <tf.Tensor 'ExpandDims_3:0' shape=(None, 1) dtype=string>, 'embark_town': <tf.Tensor 'ExpandDims_4:0' shape=(None, 1) dtype=string>, 'alone': <tf.Tensor 'ExpandDims_1:0' shape=(None, 1) dtype=string>}\n",
      "Consider rewriting this model with the Functional API.\n",
      "19/19 [==============================] - 1s 18ms/step - loss: 2.2445 - accuracy: 0.5658 - val_loss: 1.5724 - val_accuracy: 0.3867\n",
      "Epoch 2/100\n",
      "19/19 [==============================] - 0s 4ms/step - loss: 0.9342 - accuracy: 0.6168 - val_loss: 0.6606 - val_accuracy: 0.7109\n",
      "Epoch 3/100\n",
      "19/19 [==============================] - 0s 5ms/step - loss: 0.7010 - accuracy: 0.6283 - val_loss: 0.6331 - val_accuracy: 0.7109\n",
      "Epoch 4/100\n",
      "19/19 [==============================] - 0s 5ms/step - loss: 0.6769 - accuracy: 0.6595 - val_loss: 0.6679 - val_accuracy: 0.6250\n",
      "Epoch 5/100\n",
      "19/19 [==============================] - 0s 5ms/step - loss: 0.6461 - accuracy: 0.6628 - val_loss: 0.5961 - val_accuracy: 0.6953\n",
      "Epoch 6/100\n",
      "19/19 [==============================] - 0s 5ms/step - loss: 0.6844 - accuracy: 0.6480 - val_loss: 0.6100 - val_accuracy: 0.6836\n",
      "Epoch 7/100\n",
      "19/19 [==============================] - 0s 5ms/step - loss: 0.6709 - accuracy: 0.6530 - val_loss: 0.6290 - val_accuracy: 0.7070\n",
      "Epoch 8/100\n",
      "19/19 [==============================] - 0s 5ms/step - loss: 0.6636 - accuracy: 0.6595 - val_loss: 0.7042 - val_accuracy: 0.6211\n",
      "Epoch 9/100\n",
      "19/19 [==============================] - 0s 5ms/step - loss: 0.6317 - accuracy: 0.6743 - val_loss: 0.5958 - val_accuracy: 0.6641\n",
      "Epoch 10/100\n",
      "19/19 [==============================] - 0s 5ms/step - loss: 0.5999 - accuracy: 0.6941 - val_loss: 0.5814 - val_accuracy: 0.6953\n",
      "Epoch 11/100\n",
      "19/19 [==============================] - 0s 5ms/step - loss: 0.6408 - accuracy: 0.6793 - val_loss: 0.5969 - val_accuracy: 0.6836\n",
      "Epoch 12/100\n",
      "19/19 [==============================] - 0s 5ms/step - loss: 0.5924 - accuracy: 0.6990 - val_loss: 0.6044 - val_accuracy: 0.6445\n",
      "Epoch 13/100\n",
      "19/19 [==============================] - 0s 5ms/step - loss: 0.5804 - accuracy: 0.6908 - val_loss: 0.8319 - val_accuracy: 0.6250\n",
      "Epoch 14/100\n",
      "19/19 [==============================] - 0s 5ms/step - loss: 0.6652 - accuracy: 0.6760 - val_loss: 0.5914 - val_accuracy: 0.6992\n",
      "Epoch 15/100\n",
      "19/19 [==============================] - 0s 5ms/step - loss: 0.5934 - accuracy: 0.7138 - val_loss: 0.6409 - val_accuracy: 0.6367\n",
      "Epoch 16/100\n",
      "19/19 [==============================] - 0s 5ms/step - loss: 0.6284 - accuracy: 0.6612 - val_loss: 0.5885 - val_accuracy: 0.6797\n",
      "Epoch 17/100\n",
      "19/19 [==============================] - 0s 5ms/step - loss: 0.5844 - accuracy: 0.7023 - val_loss: 0.6074 - val_accuracy: 0.6289\n",
      "Epoch 18/100\n",
      "19/19 [==============================] - 0s 5ms/step - loss: 0.5890 - accuracy: 0.7039 - val_loss: 0.5708 - val_accuracy: 0.7109\n",
      "Epoch 19/100\n",
      "19/19 [==============================] - 0s 5ms/step - loss: 0.6626 - accuracy: 0.6678 - val_loss: 0.5714 - val_accuracy: 0.6992\n",
      "Epoch 20/100\n",
      "19/19 [==============================] - 0s 5ms/step - loss: 0.5818 - accuracy: 0.6941 - val_loss: 0.5759 - val_accuracy: 0.6914\n",
      "Epoch 21/100\n",
      "19/19 [==============================] - 0s 5ms/step - loss: 0.5710 - accuracy: 0.6990 - val_loss: 0.5706 - val_accuracy: 0.7070\n",
      "Epoch 22/100\n",
      "19/19 [==============================] - 0s 5ms/step - loss: 0.5986 - accuracy: 0.6776 - val_loss: 0.5870 - val_accuracy: 0.6953\n",
      "Epoch 23/100\n",
      "19/19 [==============================] - 0s 5ms/step - loss: 0.5770 - accuracy: 0.6941 - val_loss: 0.5922 - val_accuracy: 0.6719\n",
      "Epoch 24/100\n",
      "19/19 [==============================] - 0s 5ms/step - loss: 0.5901 - accuracy: 0.7007 - val_loss: 0.5807 - val_accuracy: 0.6914\n",
      "Epoch 25/100\n",
      "19/19 [==============================] - 0s 4ms/step - loss: 0.5715 - accuracy: 0.7007 - val_loss: 0.5672 - val_accuracy: 0.7031\n",
      "Epoch 26/100\n",
      "19/19 [==============================] - 0s 5ms/step - loss: 0.5827 - accuracy: 0.6859 - val_loss: 0.5591 - val_accuracy: 0.7031\n",
      "Epoch 27/100\n",
      "19/19 [==============================] - 0s 5ms/step - loss: 0.5684 - accuracy: 0.7007 - val_loss: 0.5726 - val_accuracy: 0.6914\n",
      "Epoch 28/100\n",
      "19/19 [==============================] - 0s 5ms/step - loss: 0.5970 - accuracy: 0.7039 - val_loss: 0.5540 - val_accuracy: 0.7031\n",
      "Epoch 29/100\n",
      "19/19 [==============================] - 0s 5ms/step - loss: 0.5582 - accuracy: 0.7303 - val_loss: 0.5671 - val_accuracy: 0.7109\n",
      "Epoch 30/100\n",
      "19/19 [==============================] - 0s 5ms/step - loss: 0.5797 - accuracy: 0.7072 - val_loss: 0.5622 - val_accuracy: 0.6875\n",
      "Epoch 31/100\n",
      "19/19 [==============================] - 0s 5ms/step - loss: 0.5702 - accuracy: 0.7138 - val_loss: 0.5605 - val_accuracy: 0.7344\n",
      "Epoch 32/100\n",
      "19/19 [==============================] - 0s 4ms/step - loss: 0.5721 - accuracy: 0.7138 - val_loss: 0.5774 - val_accuracy: 0.6797\n",
      "Epoch 33/100\n",
      "19/19 [==============================] - 0s 5ms/step - loss: 0.5627 - accuracy: 0.7319 - val_loss: 0.5499 - val_accuracy: 0.7031\n",
      "Epoch 34/100\n",
      "19/19 [==============================] - 0s 5ms/step - loss: 0.5681 - accuracy: 0.7056 - val_loss: 0.5487 - val_accuracy: 0.7031\n",
      "Epoch 35/100\n",
      "19/19 [==============================] - 0s 5ms/step - loss: 0.5940 - accuracy: 0.6875 - val_loss: 0.5591 - val_accuracy: 0.7031\n",
      "Epoch 36/100\n",
      "19/19 [==============================] - 0s 5ms/step - loss: 0.5517 - accuracy: 0.7385 - val_loss: 0.5449 - val_accuracy: 0.6914\n",
      "Epoch 37/100\n",
      "19/19 [==============================] - 0s 5ms/step - loss: 0.6013 - accuracy: 0.7155 - val_loss: 0.5546 - val_accuracy: 0.7109\n",
      "Epoch 38/100\n",
      "19/19 [==============================] - 0s 5ms/step - loss: 0.5535 - accuracy: 0.7336 - val_loss: 0.5791 - val_accuracy: 0.6562\n",
      "Epoch 39/100\n",
      "19/19 [==============================] - 0s 5ms/step - loss: 0.5728 - accuracy: 0.7303 - val_loss: 0.5604 - val_accuracy: 0.6992\n",
      "Epoch 40/100\n",
      "19/19 [==============================] - 0s 5ms/step - loss: 0.5495 - accuracy: 0.7336 - val_loss: 0.5522 - val_accuracy: 0.6875\n",
      "Epoch 41/100\n"
     ]
    },
    {
     "name": "stdout",
     "output_type": "stream",
     "text": [
      "19/19 [==============================] - 0s 5ms/step - loss: 0.5780 - accuracy: 0.6776 - val_loss: 0.5460 - val_accuracy: 0.7109\n",
      "Epoch 42/100\n",
      "19/19 [==============================] - 0s 4ms/step - loss: 0.5652 - accuracy: 0.7352 - val_loss: 0.5450 - val_accuracy: 0.7148\n",
      "Epoch 43/100\n",
      "19/19 [==============================] - 0s 4ms/step - loss: 0.5483 - accuracy: 0.7434 - val_loss: 0.5401 - val_accuracy: 0.7109\n",
      "Epoch 44/100\n",
      "19/19 [==============================] - 0s 4ms/step - loss: 0.5501 - accuracy: 0.7303 - val_loss: 0.5501 - val_accuracy: 0.7109\n",
      "Epoch 45/100\n",
      "19/19 [==============================] - 0s 4ms/step - loss: 0.5773 - accuracy: 0.6908 - val_loss: 0.5365 - val_accuracy: 0.7266\n",
      "Epoch 46/100\n",
      "19/19 [==============================] - 0s 5ms/step - loss: 0.5586 - accuracy: 0.7484 - val_loss: 0.5392 - val_accuracy: 0.7031\n",
      "Epoch 47/100\n",
      "19/19 [==============================] - 0s 4ms/step - loss: 0.5487 - accuracy: 0.7188 - val_loss: 0.5343 - val_accuracy: 0.7148\n",
      "Epoch 48/100\n",
      "19/19 [==============================] - 0s 5ms/step - loss: 0.5515 - accuracy: 0.7352 - val_loss: 0.5418 - val_accuracy: 0.6992\n",
      "Epoch 49/100\n",
      "19/19 [==============================] - 0s 5ms/step - loss: 0.5668 - accuracy: 0.7319 - val_loss: 0.6117 - val_accuracy: 0.6914\n",
      "Epoch 50/100\n",
      "19/19 [==============================] - 0s 5ms/step - loss: 0.5410 - accuracy: 0.7286 - val_loss: 0.5337 - val_accuracy: 0.7031\n",
      "Epoch 51/100\n",
      "19/19 [==============================] - 0s 5ms/step - loss: 0.5624 - accuracy: 0.7319 - val_loss: 0.5339 - val_accuracy: 0.7422\n",
      "Epoch 52/100\n",
      "19/19 [==============================] - 0s 5ms/step - loss: 0.5355 - accuracy: 0.7566 - val_loss: 0.5752 - val_accuracy: 0.7227\n",
      "Epoch 53/100\n",
      "19/19 [==============================] - 0s 4ms/step - loss: 0.5266 - accuracy: 0.7664 - val_loss: 0.5356 - val_accuracy: 0.7344\n",
      "Epoch 54/100\n",
      "19/19 [==============================] - 0s 5ms/step - loss: 0.5354 - accuracy: 0.7253 - val_loss: 0.5352 - val_accuracy: 0.7070\n",
      "Epoch 55/100\n",
      "19/19 [==============================] - 0s 5ms/step - loss: 0.5388 - accuracy: 0.7434 - val_loss: 0.5458 - val_accuracy: 0.7305\n",
      "Epoch 56/100\n",
      "19/19 [==============================] - 0s 5ms/step - loss: 0.5552 - accuracy: 0.7155 - val_loss: 0.5430 - val_accuracy: 0.7070\n",
      "Epoch 57/100\n",
      "19/19 [==============================] - 0s 4ms/step - loss: 0.5496 - accuracy: 0.7368 - val_loss: 0.5301 - val_accuracy: 0.7227\n",
      "Epoch 58/100\n",
      "19/19 [==============================] - 0s 5ms/step - loss: 0.5279 - accuracy: 0.7632 - val_loss: 0.5392 - val_accuracy: 0.7344\n",
      "Epoch 59/100\n",
      "19/19 [==============================] - 0s 5ms/step - loss: 0.5267 - accuracy: 0.7549 - val_loss: 0.5252 - val_accuracy: 0.7188\n",
      "Epoch 60/100\n",
      "19/19 [==============================] - 0s 4ms/step - loss: 0.5443 - accuracy: 0.7253 - val_loss: 0.5523 - val_accuracy: 0.7148\n",
      "Epoch 61/100\n",
      "19/19 [==============================] - 0s 5ms/step - loss: 0.5302 - accuracy: 0.7368 - val_loss: 0.5941 - val_accuracy: 0.7070\n",
      "Epoch 62/100\n",
      "19/19 [==============================] - 0s 5ms/step - loss: 0.5396 - accuracy: 0.7467 - val_loss: 0.5270 - val_accuracy: 0.7305\n",
      "Epoch 63/100\n",
      "19/19 [==============================] - 0s 5ms/step - loss: 0.5446 - accuracy: 0.7500 - val_loss: 0.5497 - val_accuracy: 0.7031\n",
      "Epoch 64/100\n",
      "19/19 [==============================] - 0s 4ms/step - loss: 0.5105 - accuracy: 0.7549 - val_loss: 0.5312 - val_accuracy: 0.7344\n",
      "Epoch 65/100\n",
      "19/19 [==============================] - 0s 4ms/step - loss: 0.5447 - accuracy: 0.7418 - val_loss: 0.6131 - val_accuracy: 0.7070\n",
      "Epoch 66/100\n",
      "19/19 [==============================] - 0s 4ms/step - loss: 0.5192 - accuracy: 0.7566 - val_loss: 0.5194 - val_accuracy: 0.7422\n",
      "Epoch 67/100\n",
      "19/19 [==============================] - 0s 4ms/step - loss: 0.5166 - accuracy: 0.7582 - val_loss: 0.5448 - val_accuracy: 0.7109\n",
      "Epoch 68/100\n",
      "19/19 [==============================] - 0s 4ms/step - loss: 0.5550 - accuracy: 0.7303 - val_loss: 0.5175 - val_accuracy: 0.7383\n",
      "Epoch 69/100\n",
      "19/19 [==============================] - 0s 5ms/step - loss: 0.5334 - accuracy: 0.7566 - val_loss: 0.5356 - val_accuracy: 0.7109\n",
      "Epoch 70/100\n",
      "19/19 [==============================] - 0s 4ms/step - loss: 0.5347 - accuracy: 0.7467 - val_loss: 0.5746 - val_accuracy: 0.7031\n",
      "Epoch 71/100\n",
      "19/19 [==============================] - 0s 5ms/step - loss: 0.5398 - accuracy: 0.7418 - val_loss: 0.5310 - val_accuracy: 0.7227\n",
      "Epoch 72/100\n",
      "19/19 [==============================] - 0s 5ms/step - loss: 0.5264 - accuracy: 0.7385 - val_loss: 0.5208 - val_accuracy: 0.7383\n",
      "Epoch 73/100\n",
      "19/19 [==============================] - 0s 5ms/step - loss: 0.5113 - accuracy: 0.7549 - val_loss: 0.5222 - val_accuracy: 0.7344\n",
      "Epoch 74/100\n",
      "19/19 [==============================] - 0s 4ms/step - loss: 0.5721 - accuracy: 0.7089 - val_loss: 0.5268 - val_accuracy: 0.7422\n",
      "Epoch 75/100\n",
      "19/19 [==============================] - 0s 5ms/step - loss: 0.5032 - accuracy: 0.7829 - val_loss: 0.5563 - val_accuracy: 0.7031\n",
      "Epoch 76/100\n",
      "19/19 [==============================] - 0s 5ms/step - loss: 0.5683 - accuracy: 0.7171 - val_loss: 0.5559 - val_accuracy: 0.6953\n",
      "Epoch 77/100\n",
      "19/19 [==============================] - 0s 5ms/step - loss: 0.5288 - accuracy: 0.7467 - val_loss: 0.5455 - val_accuracy: 0.7070\n",
      "Epoch 78/100\n",
      "19/19 [==============================] - 0s 5ms/step - loss: 0.5455 - accuracy: 0.7385 - val_loss: 0.5445 - val_accuracy: 0.7148\n",
      "Epoch 79/100\n",
      "19/19 [==============================] - 0s 5ms/step - loss: 0.5421 - accuracy: 0.7237 - val_loss: 0.5247 - val_accuracy: 0.7539\n",
      "Epoch 80/100\n",
      "19/19 [==============================] - 0s 4ms/step - loss: 0.5008 - accuracy: 0.7681 - val_loss: 0.5180 - val_accuracy: 0.7305\n",
      "Epoch 81/100\n",
      "19/19 [==============================] - 0s 5ms/step - loss: 0.5217 - accuracy: 0.7632 - val_loss: 0.5431 - val_accuracy: 0.7031\n",
      "Epoch 82/100\n",
      "19/19 [==============================] - 0s 5ms/step - loss: 0.5421 - accuracy: 0.7401 - val_loss: 0.5241 - val_accuracy: 0.7500\n",
      "Epoch 83/100\n",
      "19/19 [==============================] - 0s 5ms/step - loss: 0.5443 - accuracy: 0.7451 - val_loss: 0.5192 - val_accuracy: 0.7266\n",
      "Epoch 84/100\n",
      "19/19 [==============================] - 0s 5ms/step - loss: 0.5522 - accuracy: 0.7105 - val_loss: 0.5099 - val_accuracy: 0.7617\n",
      "Epoch 85/100\n",
      "19/19 [==============================] - 0s 5ms/step - loss: 0.5496 - accuracy: 0.7451 - val_loss: 0.5343 - val_accuracy: 0.7188\n",
      "Epoch 86/100\n",
      "19/19 [==============================] - 0s 5ms/step - loss: 0.5267 - accuracy: 0.7566 - val_loss: 0.5109 - val_accuracy: 0.7461\n",
      "Epoch 87/100\n",
      "19/19 [==============================] - 0s 5ms/step - loss: 0.5445 - accuracy: 0.7434 - val_loss: 0.5142 - val_accuracy: 0.7500\n",
      "Epoch 88/100\n",
      "19/19 [==============================] - 0s 5ms/step - loss: 0.5249 - accuracy: 0.7747 - val_loss: 0.5654 - val_accuracy: 0.7031\n",
      "Epoch 89/100\n",
      "19/19 [==============================] - 0s 5ms/step - loss: 0.4881 - accuracy: 0.7911 - val_loss: 0.5604 - val_accuracy: 0.6875\n",
      "Epoch 90/100\n",
      "19/19 [==============================] - 0s 5ms/step - loss: 0.5015 - accuracy: 0.7648 - val_loss: 0.5049 - val_accuracy: 0.7422\n",
      "Epoch 91/100\n",
      "19/19 [==============================] - 0s 4ms/step - loss: 0.5368 - accuracy: 0.7319 - val_loss: 0.5643 - val_accuracy: 0.7148\n",
      "Epoch 92/100\n",
      "19/19 [==============================] - 0s 5ms/step - loss: 0.5036 - accuracy: 0.7862 - val_loss: 0.5339 - val_accuracy: 0.7227\n",
      "Epoch 93/100\n",
      "19/19 [==============================] - 0s 5ms/step - loss: 0.4983 - accuracy: 0.7730 - val_loss: 0.5231 - val_accuracy: 0.7383\n",
      "Epoch 94/100\n",
      "19/19 [==============================] - 0s 5ms/step - loss: 0.5201 - accuracy: 0.7451 - val_loss: 0.5644 - val_accuracy: 0.7188\n",
      "Epoch 95/100\n",
      "19/19 [==============================] - 0s 4ms/step - loss: 0.5602 - accuracy: 0.7418 - val_loss: 0.5708 - val_accuracy: 0.6914\n",
      "Epoch 96/100\n",
      "19/19 [==============================] - 0s 5ms/step - loss: 0.4946 - accuracy: 0.7763 - val_loss: 0.5448 - val_accuracy: 0.7227\n",
      "Epoch 97/100\n",
      "19/19 [==============================] - 0s 5ms/step - loss: 0.5245 - accuracy: 0.7599 - val_loss: 0.5433 - val_accuracy: 0.7266\n",
      "Epoch 98/100\n",
      "19/19 [==============================] - 0s 4ms/step - loss: 0.5254 - accuracy: 0.7566 - val_loss: 0.5155 - val_accuracy: 0.7539\n"
     ]
    },
    {
     "name": "stdout",
     "output_type": "stream",
     "text": [
      "Epoch 99/100\n",
      "19/19 [==============================] - 0s 5ms/step - loss: 0.5081 - accuracy: 0.7681 - val_loss: 0.5002 - val_accuracy: 0.7500\n",
      "Epoch 100/100\n",
      "19/19 [==============================] - 0s 4ms/step - loss: 0.5102 - accuracy: 0.7599 - val_loss: 0.5030 - val_accuracy: 0.7500\n"
     ]
    }
   ],
   "source": [
    "# 1. model.fit  第一种方式\n",
    "# 2. model -> estimator -> train  第二种\n",
    "\n",
    "train_dataset = make_dataset(train_df, y_train, epochs = 100)\n",
    "eval_dataset = make_dataset(eval_df, y_eval, epochs = 100, shuffle = False)  # 验证集\n",
    "# train_dataset里边包含了特征，目标，feature_columns只处理特征\n",
    "history = model.fit(train_dataset,\n",
    "                    validation_data = eval_dataset,\n",
    "                    steps_per_epoch = 19,\n",
    "                    validation_steps = 8,\n",
    "                    epochs = 100)"
   ]
  },
  {
   "cell_type": "code",
   "execution_count": 20,
   "metadata": {
    "scrolled": true
   },
   "outputs": [
    {
     "name": "stdout",
     "output_type": "stream",
     "text": [
      "INFO:tensorflow:Using default config.\n",
      "WARNING:tensorflow:Using temporary folder as model directory: /tmp/tmp91pzcuqx\n",
      "INFO:tensorflow:Using the Keras model provided.\n",
      "WARNING:tensorflow:You are creating an Estimator from a Keras model manually subclassed from `Model`, that was already called on some inputs (and thus already had weights). We are currently unable to preserve the model's state (its weights) as part of the estimator in this case. Be warned that the estimator has been created using a freshly initialized version of your model.\n",
      "Note that this doesn't affect the state of the model instance you passed as `keras_model` argument.\n",
      "INFO:tensorflow:Using config: {'_model_dir': '/tmp/tmp91pzcuqx', '_tf_random_seed': None, '_save_summary_steps': 100, '_save_checkpoints_steps': None, '_save_checkpoints_secs': 600, '_session_config': allow_soft_placement: true\n",
      "graph_options {\n",
      "  rewrite_options {\n",
      "    meta_optimizer_iterations: ONE\n",
      "  }\n",
      "}\n",
      ", '_keep_checkpoint_max': 5, '_keep_checkpoint_every_n_hours': 10000, '_log_step_count_steps': 100, '_train_distribute': None, '_device_fn': None, '_protocol': None, '_eval_distribute': None, '_experimental_distribute': None, '_experimental_max_worker_delay_secs': None, '_session_creation_timeout_secs': 7200, '_checkpoint_save_graph_def': True, '_service': None, '_cluster_spec': ClusterSpec({}), '_task_type': 'worker', '_task_id': 0, '_global_id_in_cluster': 0, '_master': '', '_evaluation_master': '', '_is_chief': True, '_num_ps_replicas': 0, '_num_worker_replicas': 1}\n",
      "WARNING:tensorflow:From /home/wp/.virtualenvs/tf2/lib/python3.6/site-packages/tensorflow/python/training/training_util.py:236: Variable.initialized_value (from tensorflow.python.ops.variables) is deprecated and will be removed in a future version.\n",
      "Instructions for updating:\n",
      "Use Variable.read_value. Variables in 2.X are initialized automatically both in eager and graph (inside tf.defun) contexts.\n",
      "INFO:tensorflow:Calling model_fn.\n"
     ]
    },
    {
     "name": "stderr",
     "output_type": "stream",
     "text": [
      "/home/wp/.virtualenvs/tf2/lib/python3.6/site-packages/keras/backend.py:401: UserWarning: `tf.keras.backend.set_learning_phase` is deprecated and will be removed after 2020-10-11. To update it, simply pass a True/False value to the `training` argument of the `__call__` method of your layer or model.\n",
      "  warnings.warn('`tf.keras.backend.set_learning_phase` is deprecated and '\n"
     ]
    },
    {
     "ename": "ValueError",
     "evalue": "Unexpectedly found an instance of type `<class 'dict'>`. Expected a symbolic tensor instance.",
     "output_type": "error",
     "traceback": [
      "\u001b[0;31m---------------------------------------------------------------------------\u001b[0m",
      "\u001b[0;31mValueError\u001b[0m                                Traceback (most recent call last)",
      "\u001b[0;32m<ipython-input-20-62fed9761793>\u001b[0m in \u001b[0;36m<module>\u001b[0;34m\u001b[0m\n\u001b[1;32m      5\u001b[0m \u001b[0;31m# 是否是上面用了dict\u001b[0m\u001b[0;34m\u001b[0m\u001b[0;34m\u001b[0m\u001b[0;34m\u001b[0m\u001b[0m\n\u001b[1;32m      6\u001b[0m estimator.train(input_fn=lambda : make_dataset(\n\u001b[0;32m----> 7\u001b[0;31m     train_df, y_train, epochs=100),steps=1)\n\u001b[0m",
      "\u001b[0;32m~/.virtualenvs/tf2/lib/python3.6/site-packages/tensorflow_estimator/python/estimator/estimator.py\u001b[0m in \u001b[0;36mtrain\u001b[0;34m(self, input_fn, hooks, steps, max_steps, saving_listeners)\u001b[0m\n\u001b[1;32m    348\u001b[0m \u001b[0;34m\u001b[0m\u001b[0m\n\u001b[1;32m    349\u001b[0m       \u001b[0msaving_listeners\u001b[0m \u001b[0;34m=\u001b[0m \u001b[0m_check_listeners_type\u001b[0m\u001b[0;34m(\u001b[0m\u001b[0msaving_listeners\u001b[0m\u001b[0;34m)\u001b[0m\u001b[0;34m\u001b[0m\u001b[0;34m\u001b[0m\u001b[0m\n\u001b[0;32m--> 350\u001b[0;31m       \u001b[0mloss\u001b[0m \u001b[0;34m=\u001b[0m \u001b[0mself\u001b[0m\u001b[0;34m.\u001b[0m\u001b[0m_train_model\u001b[0m\u001b[0;34m(\u001b[0m\u001b[0minput_fn\u001b[0m\u001b[0;34m,\u001b[0m \u001b[0mhooks\u001b[0m\u001b[0;34m,\u001b[0m \u001b[0msaving_listeners\u001b[0m\u001b[0;34m)\u001b[0m\u001b[0;34m\u001b[0m\u001b[0;34m\u001b[0m\u001b[0m\n\u001b[0m\u001b[1;32m    351\u001b[0m       \u001b[0mlogging\u001b[0m\u001b[0;34m.\u001b[0m\u001b[0minfo\u001b[0m\u001b[0;34m(\u001b[0m\u001b[0;34m'Loss for final step: %s.'\u001b[0m\u001b[0;34m,\u001b[0m \u001b[0mloss\u001b[0m\u001b[0;34m)\u001b[0m\u001b[0;34m\u001b[0m\u001b[0;34m\u001b[0m\u001b[0m\n\u001b[1;32m    352\u001b[0m       \u001b[0;32mreturn\u001b[0m \u001b[0mself\u001b[0m\u001b[0;34m\u001b[0m\u001b[0;34m\u001b[0m\u001b[0m\n",
      "\u001b[0;32m~/.virtualenvs/tf2/lib/python3.6/site-packages/tensorflow_estimator/python/estimator/estimator.py\u001b[0m in \u001b[0;36m_train_model\u001b[0;34m(self, input_fn, hooks, saving_listeners)\u001b[0m\n\u001b[1;32m   1174\u001b[0m       \u001b[0;32mreturn\u001b[0m \u001b[0mself\u001b[0m\u001b[0;34m.\u001b[0m\u001b[0m_train_model_distributed\u001b[0m\u001b[0;34m(\u001b[0m\u001b[0minput_fn\u001b[0m\u001b[0;34m,\u001b[0m \u001b[0mhooks\u001b[0m\u001b[0;34m,\u001b[0m \u001b[0msaving_listeners\u001b[0m\u001b[0;34m)\u001b[0m\u001b[0;34m\u001b[0m\u001b[0;34m\u001b[0m\u001b[0m\n\u001b[1;32m   1175\u001b[0m     \u001b[0;32melse\u001b[0m\u001b[0;34m:\u001b[0m\u001b[0;34m\u001b[0m\u001b[0;34m\u001b[0m\u001b[0m\n\u001b[0;32m-> 1176\u001b[0;31m       \u001b[0;32mreturn\u001b[0m \u001b[0mself\u001b[0m\u001b[0;34m.\u001b[0m\u001b[0m_train_model_default\u001b[0m\u001b[0;34m(\u001b[0m\u001b[0minput_fn\u001b[0m\u001b[0;34m,\u001b[0m \u001b[0mhooks\u001b[0m\u001b[0;34m,\u001b[0m \u001b[0msaving_listeners\u001b[0m\u001b[0;34m)\u001b[0m\u001b[0;34m\u001b[0m\u001b[0;34m\u001b[0m\u001b[0m\n\u001b[0m\u001b[1;32m   1177\u001b[0m \u001b[0;34m\u001b[0m\u001b[0m\n\u001b[1;32m   1178\u001b[0m   \u001b[0;32mdef\u001b[0m \u001b[0m_train_model_default\u001b[0m\u001b[0;34m(\u001b[0m\u001b[0mself\u001b[0m\u001b[0;34m,\u001b[0m \u001b[0minput_fn\u001b[0m\u001b[0;34m,\u001b[0m \u001b[0mhooks\u001b[0m\u001b[0;34m,\u001b[0m \u001b[0msaving_listeners\u001b[0m\u001b[0;34m)\u001b[0m\u001b[0;34m:\u001b[0m\u001b[0;34m\u001b[0m\u001b[0;34m\u001b[0m\u001b[0m\n",
      "\u001b[0;32m~/.virtualenvs/tf2/lib/python3.6/site-packages/tensorflow_estimator/python/estimator/estimator.py\u001b[0m in \u001b[0;36m_train_model_default\u001b[0;34m(self, input_fn, hooks, saving_listeners)\u001b[0m\n\u001b[1;32m   1203\u001b[0m       \u001b[0mworker_hooks\u001b[0m\u001b[0;34m.\u001b[0m\u001b[0mextend\u001b[0m\u001b[0;34m(\u001b[0m\u001b[0minput_hooks\u001b[0m\u001b[0;34m)\u001b[0m\u001b[0;34m\u001b[0m\u001b[0;34m\u001b[0m\u001b[0m\n\u001b[1;32m   1204\u001b[0m       estimator_spec = self._call_model_fn(features, labels, ModeKeys.TRAIN,\n\u001b[0;32m-> 1205\u001b[0;31m                                            self.config)\n\u001b[0m\u001b[1;32m   1206\u001b[0m       \u001b[0mglobal_step_tensor\u001b[0m \u001b[0;34m=\u001b[0m \u001b[0mtf\u001b[0m\u001b[0;34m.\u001b[0m\u001b[0mcompat\u001b[0m\u001b[0;34m.\u001b[0m\u001b[0mv1\u001b[0m\u001b[0;34m.\u001b[0m\u001b[0mtrain\u001b[0m\u001b[0;34m.\u001b[0m\u001b[0mget_global_step\u001b[0m\u001b[0;34m(\u001b[0m\u001b[0mg\u001b[0m\u001b[0;34m)\u001b[0m\u001b[0;34m\u001b[0m\u001b[0;34m\u001b[0m\u001b[0m\n\u001b[1;32m   1207\u001b[0m       return self._train_with_estimator_spec(estimator_spec, worker_hooks,\n",
      "\u001b[0;32m~/.virtualenvs/tf2/lib/python3.6/site-packages/tensorflow_estimator/python/estimator/estimator.py\u001b[0m in \u001b[0;36m_call_model_fn\u001b[0;34m(self, features, labels, mode, config)\u001b[0m\n\u001b[1;32m   1162\u001b[0m \u001b[0;34m\u001b[0m\u001b[0m\n\u001b[1;32m   1163\u001b[0m     \u001b[0mlogging\u001b[0m\u001b[0;34m.\u001b[0m\u001b[0minfo\u001b[0m\u001b[0;34m(\u001b[0m\u001b[0;34m'Calling model_fn.'\u001b[0m\u001b[0;34m)\u001b[0m\u001b[0;34m\u001b[0m\u001b[0;34m\u001b[0m\u001b[0m\n\u001b[0;32m-> 1164\u001b[0;31m     \u001b[0mmodel_fn_results\u001b[0m \u001b[0;34m=\u001b[0m \u001b[0mself\u001b[0m\u001b[0;34m.\u001b[0m\u001b[0m_model_fn\u001b[0m\u001b[0;34m(\u001b[0m\u001b[0mfeatures\u001b[0m\u001b[0;34m=\u001b[0m\u001b[0mfeatures\u001b[0m\u001b[0;34m,\u001b[0m \u001b[0;34m**\u001b[0m\u001b[0mkwargs\u001b[0m\u001b[0;34m)\u001b[0m\u001b[0;34m\u001b[0m\u001b[0;34m\u001b[0m\u001b[0m\n\u001b[0m\u001b[1;32m   1165\u001b[0m     \u001b[0mlogging\u001b[0m\u001b[0;34m.\u001b[0m\u001b[0minfo\u001b[0m\u001b[0;34m(\u001b[0m\u001b[0;34m'Done calling model_fn.'\u001b[0m\u001b[0;34m)\u001b[0m\u001b[0;34m\u001b[0m\u001b[0;34m\u001b[0m\u001b[0m\n\u001b[1;32m   1166\u001b[0m \u001b[0;34m\u001b[0m\u001b[0m\n",
      "\u001b[0;32m~/.virtualenvs/tf2/lib/python3.6/site-packages/tensorflow_estimator/python/estimator/keras_lib.py\u001b[0m in \u001b[0;36mmodel_fn\u001b[0;34m(features, labels, mode)\u001b[0m\n\u001b[1;32m    326\u001b[0m         \u001b[0mfeatures\u001b[0m\u001b[0;34m=\u001b[0m\u001b[0mfeatures\u001b[0m\u001b[0;34m,\u001b[0m\u001b[0;34m\u001b[0m\u001b[0;34m\u001b[0m\u001b[0m\n\u001b[1;32m    327\u001b[0m         \u001b[0mlabels\u001b[0m\u001b[0;34m=\u001b[0m\u001b[0mlabels\u001b[0m\u001b[0;34m,\u001b[0m\u001b[0;34m\u001b[0m\u001b[0;34m\u001b[0m\u001b[0m\n\u001b[0;32m--> 328\u001b[0;31m         optimizer_config=optimizer_config)\n\u001b[0m\u001b[1;32m    329\u001b[0m     \u001b[0mmodel_output_names\u001b[0m \u001b[0;34m=\u001b[0m \u001b[0;34m[\u001b[0m\u001b[0;34m]\u001b[0m\u001b[0;34m\u001b[0m\u001b[0;34m\u001b[0m\u001b[0m\n\u001b[1;32m    330\u001b[0m     \u001b[0;31m# We need to make sure that the output names of the last layer in the model\u001b[0m\u001b[0;34m\u001b[0m\u001b[0;34m\u001b[0m\u001b[0;34m\u001b[0m\u001b[0m\n",
      "\u001b[0;32m~/.virtualenvs/tf2/lib/python3.6/site-packages/tensorflow_estimator/python/estimator/keras_lib.py\u001b[0m in \u001b[0;36m_clone_and_build_model\u001b[0;34m(mode, keras_model, custom_objects, features, labels, optimizer_config)\u001b[0m\n\u001b[1;32m    235\u001b[0m       \u001b[0min_place_reset\u001b[0m\u001b[0;34m=\u001b[0m\u001b[0;34m(\u001b[0m\u001b[0;32mnot\u001b[0m \u001b[0mkeras_model\u001b[0m\u001b[0;34m.\u001b[0m\u001b[0m_is_graph_network\u001b[0m\u001b[0;34m)\u001b[0m\u001b[0;34m,\u001b[0m\u001b[0;34m\u001b[0m\u001b[0;34m\u001b[0m\u001b[0m\n\u001b[1;32m    236\u001b[0m       \u001b[0moptimizer_iterations\u001b[0m\u001b[0;34m=\u001b[0m\u001b[0mglobal_step\u001b[0m\u001b[0;34m,\u001b[0m\u001b[0;34m\u001b[0m\u001b[0;34m\u001b[0m\u001b[0m\n\u001b[0;32m--> 237\u001b[0;31m       optimizer_config=optimizer_config)\n\u001b[0m\u001b[1;32m    238\u001b[0m \u001b[0;34m\u001b[0m\u001b[0m\n\u001b[1;32m    239\u001b[0m   \u001b[0;32mif\u001b[0m \u001b[0msample_weight_tensors\u001b[0m \u001b[0;32mis\u001b[0m \u001b[0;32mnot\u001b[0m \u001b[0;32mNone\u001b[0m\u001b[0;34m:\u001b[0m\u001b[0;34m\u001b[0m\u001b[0;34m\u001b[0m\u001b[0m\n",
      "\u001b[0;32m~/.virtualenvs/tf2/lib/python3.6/site-packages/keras/models.py\u001b[0m in \u001b[0;36mclone_and_build_model\u001b[0;34m(model, input_tensors, target_tensors, custom_objects, compile_clone, in_place_reset, optimizer_iterations, optimizer_config)\u001b[0m\n\u001b[1;32m    675\u001b[0m       \u001b[0mclone\u001b[0m \u001b[0;34m=\u001b[0m \u001b[0mclone_model\u001b[0m\u001b[0;34m(\u001b[0m\u001b[0mmodel\u001b[0m\u001b[0;34m,\u001b[0m \u001b[0minput_tensors\u001b[0m\u001b[0;34m=\u001b[0m\u001b[0minput_tensors\u001b[0m\u001b[0;34m)\u001b[0m\u001b[0;34m\u001b[0m\u001b[0;34m\u001b[0m\u001b[0m\n\u001b[1;32m    676\u001b[0m     \u001b[0;32melif\u001b[0m \u001b[0misinstance\u001b[0m\u001b[0;34m(\u001b[0m\u001b[0mmodel\u001b[0m\u001b[0;34m,\u001b[0m \u001b[0mSequential\u001b[0m\u001b[0;34m)\u001b[0m\u001b[0;34m:\u001b[0m\u001b[0;34m\u001b[0m\u001b[0;34m\u001b[0m\u001b[0m\n\u001b[0;32m--> 677\u001b[0;31m       \u001b[0mclone\u001b[0m \u001b[0;34m=\u001b[0m \u001b[0mclone_model\u001b[0m\u001b[0;34m(\u001b[0m\u001b[0mmodel\u001b[0m\u001b[0;34m,\u001b[0m \u001b[0minput_tensors\u001b[0m\u001b[0;34m=\u001b[0m\u001b[0minput_tensors\u001b[0m\u001b[0;34m)\u001b[0m\u001b[0;34m\u001b[0m\u001b[0;34m\u001b[0m\u001b[0m\n\u001b[0m\u001b[1;32m    678\u001b[0m       \u001b[0;32mif\u001b[0m \u001b[0;34m(\u001b[0m\u001b[0;32mnot\u001b[0m \u001b[0mclone\u001b[0m\u001b[0;34m.\u001b[0m\u001b[0m_is_graph_network\u001b[0m \u001b[0;32mand\u001b[0m \u001b[0mmodel\u001b[0m\u001b[0;34m.\u001b[0m\u001b[0m_build_input_shape\u001b[0m \u001b[0;32mis\u001b[0m \u001b[0;32mnot\u001b[0m \u001b[0;32mNone\u001b[0m\u001b[0;34m)\u001b[0m\u001b[0;34m:\u001b[0m\u001b[0;34m\u001b[0m\u001b[0;34m\u001b[0m\u001b[0m\n\u001b[1;32m    679\u001b[0m         \u001b[0;32mif\u001b[0m \u001b[0mtf\u001b[0m\u001b[0;34m.\u001b[0m\u001b[0mcompat\u001b[0m\u001b[0;34m.\u001b[0m\u001b[0mv1\u001b[0m\u001b[0;34m.\u001b[0m\u001b[0mexecuting_eagerly_outside_functions\u001b[0m\u001b[0;34m(\u001b[0m\u001b[0;34m)\u001b[0m\u001b[0;34m:\u001b[0m\u001b[0;34m\u001b[0m\u001b[0;34m\u001b[0m\u001b[0m\n",
      "\u001b[0;32m~/.virtualenvs/tf2/lib/python3.6/site-packages/keras/models.py\u001b[0m in \u001b[0;36mclone_model\u001b[0;34m(model, input_tensors, clone_function)\u001b[0m\n\u001b[1;32m    447\u001b[0m     \u001b[0;32mif\u001b[0m \u001b[0misinstance\u001b[0m\u001b[0;34m(\u001b[0m\u001b[0mmodel\u001b[0m\u001b[0;34m,\u001b[0m \u001b[0mSequential\u001b[0m\u001b[0;34m)\u001b[0m\u001b[0;34m:\u001b[0m\u001b[0;34m\u001b[0m\u001b[0;34m\u001b[0m\u001b[0m\n\u001b[1;32m    448\u001b[0m       return _clone_sequential_model(\n\u001b[0;32m--> 449\u001b[0;31m           model, input_tensors=input_tensors, layer_fn=clone_function)\n\u001b[0m\u001b[1;32m    450\u001b[0m     \u001b[0;32melse\u001b[0m\u001b[0;34m:\u001b[0m\u001b[0;34m\u001b[0m\u001b[0;34m\u001b[0m\u001b[0m\n\u001b[1;32m    451\u001b[0m       return _clone_functional_model(\n",
      "\u001b[0;32m~/.virtualenvs/tf2/lib/python3.6/site-packages/keras/models.py\u001b[0m in \u001b[0;36m_clone_sequential_model\u001b[0;34m(model, input_tensors, layer_fn)\u001b[0m\n\u001b[1;32m    340\u001b[0m       \u001b[0minput_tensors\u001b[0m \u001b[0;34m=\u001b[0m \u001b[0mlist\u001b[0m\u001b[0;34m(\u001b[0m\u001b[0minput_tensors\u001b[0m\u001b[0;34m)\u001b[0m\u001b[0;34m\u001b[0m\u001b[0;34m\u001b[0m\u001b[0m\n\u001b[1;32m    341\u001b[0m     \u001b[0mx\u001b[0m \u001b[0;34m=\u001b[0m \u001b[0mgeneric_utils\u001b[0m\u001b[0;34m.\u001b[0m\u001b[0mto_list\u001b[0m\u001b[0;34m(\u001b[0m\u001b[0minput_tensors\u001b[0m\u001b[0;34m)\u001b[0m\u001b[0;34m[\u001b[0m\u001b[0;36m0\u001b[0m\u001b[0;34m]\u001b[0m\u001b[0;34m\u001b[0m\u001b[0;34m\u001b[0m\u001b[0m\n\u001b[0;32m--> 342\u001b[0;31m     \u001b[0;32mif\u001b[0m \u001b[0mbackend\u001b[0m\u001b[0;34m.\u001b[0m\u001b[0mis_keras_tensor\u001b[0m\u001b[0;34m(\u001b[0m\u001b[0mx\u001b[0m\u001b[0;34m)\u001b[0m\u001b[0;34m:\u001b[0m\u001b[0;34m\u001b[0m\u001b[0;34m\u001b[0m\u001b[0m\n\u001b[0m\u001b[1;32m    343\u001b[0m       \u001b[0morigin_layer\u001b[0m \u001b[0;34m=\u001b[0m \u001b[0mx\u001b[0m\u001b[0;34m.\u001b[0m\u001b[0m_keras_history\u001b[0m\u001b[0;34m.\u001b[0m\u001b[0mlayer\u001b[0m\u001b[0;34m\u001b[0m\u001b[0;34m\u001b[0m\u001b[0m\n\u001b[1;32m    344\u001b[0m       \u001b[0;32mif\u001b[0m \u001b[0misinstance\u001b[0m\u001b[0;34m(\u001b[0m\u001b[0morigin_layer\u001b[0m\u001b[0;34m,\u001b[0m \u001b[0mInputLayer\u001b[0m\u001b[0;34m)\u001b[0m\u001b[0;34m:\u001b[0m\u001b[0;34m\u001b[0m\u001b[0;34m\u001b[0m\u001b[0m\n",
      "\u001b[0;32m~/.virtualenvs/tf2/lib/python3.6/site-packages/keras/backend.py\u001b[0m in \u001b[0;36mis_keras_tensor\u001b[0;34m(x)\u001b[0m\n\u001b[1;32m   1244\u001b[0m                      keras_tensor.KerasTensor)):\n\u001b[1;32m   1245\u001b[0m     raise ValueError('Unexpectedly found an instance of type `' + str(type(x)) +\n\u001b[0;32m-> 1246\u001b[0;31m                      '`. Expected a symbolic tensor instance.')\n\u001b[0m\u001b[1;32m   1247\u001b[0m   \u001b[0;32mif\u001b[0m \u001b[0mtf\u001b[0m\u001b[0;34m.\u001b[0m\u001b[0mcompat\u001b[0m\u001b[0;34m.\u001b[0m\u001b[0mv1\u001b[0m\u001b[0;34m.\u001b[0m\u001b[0mexecuting_eagerly_outside_functions\u001b[0m\u001b[0;34m(\u001b[0m\u001b[0;34m)\u001b[0m\u001b[0;34m:\u001b[0m\u001b[0;34m\u001b[0m\u001b[0;34m\u001b[0m\u001b[0m\n\u001b[1;32m   1248\u001b[0m     \u001b[0;32mreturn\u001b[0m \u001b[0misinstance\u001b[0m\u001b[0;34m(\u001b[0m\u001b[0mx\u001b[0m\u001b[0;34m,\u001b[0m \u001b[0mkeras_tensor\u001b[0m\u001b[0;34m.\u001b[0m\u001b[0mKerasTensor\u001b[0m\u001b[0;34m)\u001b[0m\u001b[0;34m\u001b[0m\u001b[0;34m\u001b[0m\u001b[0m\n",
      "\u001b[0;31mValueError\u001b[0m: Unexpectedly found an instance of type `<class 'dict'>`. Expected a symbolic tensor instance."
     ]
    }
   ],
   "source": [
    "# 第二种方法，TensorFlow的已知bug，等修复？\n",
    "estimator = keras.estimator.model_to_estimator(model)\n",
    "# 1. function 输入必须是函数\n",
    "# 2. return 返回值 a. (features, labels) b. dataset -> (feature, label)\n",
    "# 是否是上面用了dict\n",
    "estimator.train(input_fn=lambda : make_dataset(\n",
    "    train_df, y_train, epochs=100),steps=1)"
   ]
  },
  {
   "cell_type": "code",
   "execution_count": 42,
   "metadata": {},
   "outputs": [
    {
     "name": "stdout",
     "output_type": "stream",
     "text": [
      "9/9 [==============================] - 0s 3ms/step - loss: 0.5028 - accuracy: 0.7462\n"
     ]
    },
    {
     "data": {
      "text/plain": [
       "[0.5027797818183899, 0.7462121248245239]"
      ]
     },
     "execution_count": 42,
     "metadata": {},
     "output_type": "execute_result"
    }
   ],
   "source": [
    "model.evaluate(make_dataset(eval_df, y_eval, epochs = 1, shuffle = False))"
   ]
  }
 ],
 "metadata": {
  "kernelspec": {
   "display_name": "Python 3",
   "language": "python",
   "name": "python3"
  },
  "language_info": {
   "codemirror_mode": {
    "name": "ipython",
    "version": 3
   },
   "file_extension": ".py",
   "mimetype": "text/x-python",
   "name": "python",
   "nbconvert_exporter": "python",
   "pygments_lexer": "ipython3",
   "version": "3.6.9"
  }
 },
 "nbformat": 4,
 "nbformat_minor": 2
}
